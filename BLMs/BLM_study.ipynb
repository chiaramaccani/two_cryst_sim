{
 "cells": [
  {
   "cell_type": "code",
   "execution_count": 3,
   "id": "b41b6e6e",
   "metadata": {
    "vscode": {
     "languageId": "python"
    }
   },
   "outputs": [
    {
     "name": "stdout",
     "output_type": "stream",
     "text": [
      "No pytransport functionality\n",
      "No pytransport functionality\n"
     ]
    }
   ],
   "source": [
    "import numpy as np\n",
    "import json\n",
    "import yaml\n",
    "import matplotlib\n",
    "import matplotlib.pyplot as plt\n",
    "import pandas as pd\n",
    "import seaborn as sns\n",
    "\n",
    "from matplotlib.ticker import MaxNLocator\n",
    "\n",
    "import xobjects as xo\n",
    "import xtrack as xt\n",
    "import xpart as xp\n",
    "\n",
    "import os\n",
    "\n",
    "import pymadx\n",
    "from xcoll_plotting import plot_functions as xcp"
   ]
  },
  {
   "cell_type": "markdown",
   "id": "ff345c08",
   "metadata": {},
   "source": [
    "# BLM"
   ]
  },
  {
   "cell_type": "code",
   "execution_count": 4,
   "id": "8d6d4ab9",
   "metadata": {
    "vscode": {
     "languageId": "python"
    }
   },
   "outputs": [],
   "source": [
    "line_inj = os.path.expandvars(\"${HOME_TWOCRYST}/MadX/2024/track_injection_b2.json\")\n",
    "#line_1TeV = os.path.expandvars(\"${HOME_TWOCRYST}/MadX/2024/track_ramp.9_b2.json\")\n",
    "#line_3TeV = os.path.expandvars(\"${HOME_TWOCRYST}/MadX/2024/track_ramp.12_b2.json\")\n",
    "#line_5TeV = os.path.expandvars(\"${HOME_TWOCRYST}/MadX/2024/track_ramp.17_b2.json\")\n",
    "#line_FT = os.path.expandvars(\"${HOME_TWOCRYST}/MadX/2024/track_flat_top_b2.json\")"
   ]
  },
  {
   "cell_type": "code",
   "execution_count": 5,
   "id": "644efef0",
   "metadata": {
    "vscode": {
     "languageId": "python"
    }
   },
   "outputs": [],
   "source": [
    "line_file = line_inj"
   ]
  },
  {
   "cell_type": "code",
   "execution_count": 6,
   "id": "04009988",
   "metadata": {
    "vscode": {
     "languageId": "python"
    }
   },
   "outputs": [],
   "source": [
    "TCCP_bending_angle = 6921.3e-6\n",
    "TCCS_bending_angle = 50e-6\n",
    "TCCP_length = 0.070\n",
    "TARGET_length =  0.005\n",
    "TCCS_length = 0.004"
   ]
  },
  {
   "cell_type": "code",
   "execution_count": 7,
   "id": "2d07434f",
   "metadata": {
    "vscode": {
     "languageId": "python"
    }
   },
   "outputs": [
    {
     "data": {
      "application/vnd.jupyter.widget-view+json": {
       "model_id": "e50ff832c487411eb80afed647e3eb55",
       "version_major": 2,
       "version_minor": 0
      },
      "text/plain": [
       "Loading line from dict:   0%|          | 0/102068 [00:00<?, ?it/s]"
      ]
     },
     "metadata": {},
     "output_type": "display_data"
    },
    {
     "name": "stdout",
     "output_type": "stream",
     "text": [
      "Done loading line from dict.           \n"
     ]
    },
    {
     "data": {
      "application/vnd.jupyter.widget-view+json": {
       "model_id": "f4919fda16a6426db3ab49c418703120",
       "version_major": 2,
       "version_minor": 0
      },
      "text/plain": [
       "Slicing line:   0%|          | 0/102068 [00:00<?, ?it/s]"
      ]
     },
     "metadata": {},
     "output_type": "display_data"
    },
    {
     "data": {
      "application/vnd.jupyter.widget-view+json": {
       "model_id": "5bf8356131b0454f9ac81077d416d1cb",
       "version_major": 2,
       "version_minor": 0
      },
      "text/plain": [
       "Slicing line:   0%|          | 0/102071 [00:00<?, ?it/s]"
      ]
     },
     "metadata": {},
     "output_type": "display_data"
    },
    {
     "data": {
      "application/vnd.jupyter.widget-view+json": {
       "model_id": "7379dbeffd874077ae0ab98cc7fe473c",
       "version_major": 2,
       "version_minor": 0
      },
      "text/plain": [
       "Slicing line:   0%|          | 0/102073 [00:00<?, ?it/s]"
      ]
     },
     "metadata": {},
     "output_type": "display_data"
    },
    {
     "data": {
      "application/vnd.jupyter.widget-view+json": {
       "model_id": "3138e6b396c94392ada67d6ad318f518",
       "version_major": 2,
       "version_minor": 0
      },
      "text/plain": [
       "Slicing line:   0%|          | 0/102075 [00:00<?, ?it/s]"
      ]
     },
     "metadata": {},
     "output_type": "display_data"
    },
    {
     "data": {
      "application/vnd.jupyter.widget-view+json": {
       "model_id": "e6a9b4a0d0c042969537576a9af34caa",
       "version_major": 2,
       "version_minor": 0
      },
      "text/plain": [
       "Slicing line:   0%|          | 0/102078 [00:00<?, ?it/s]"
      ]
     },
     "metadata": {},
     "output_type": "display_data"
    },
    {
     "data": {
      "application/vnd.jupyter.widget-view+json": {
       "model_id": "af338906be6348a9a351814ab2dc60f2",
       "version_major": 2,
       "version_minor": 0
      },
      "text/plain": [
       "Slicing line:   0%|          | 0/102080 [00:00<?, ?it/s]"
      ]
     },
     "metadata": {},
     "output_type": "display_data"
    },
    {
     "data": {
      "application/vnd.jupyter.widget-view+json": {
       "model_id": "f655416cfec54c06ad4d36ea07666f86",
       "version_major": 2,
       "version_minor": 0
      },
      "text/plain": [
       "Slicing line:   0%|          | 0/102082 [00:00<?, ?it/s]"
      ]
     },
     "metadata": {},
     "output_type": "display_data"
    },
    {
     "data": {
      "application/vnd.jupyter.widget-view+json": {
       "model_id": "9917c65e13ee4ef5b1ff729219465e72",
       "version_major": 2,
       "version_minor": 0
      },
      "text/plain": [
       "Slicing line:   0%|          | 0/102085 [00:00<?, ?it/s]"
      ]
     },
     "metadata": {},
     "output_type": "display_data"
    },
    {
     "data": {
      "application/vnd.jupyter.widget-view+json": {
       "model_id": "050fd9314db24056a25f9444e3e208ae",
       "version_major": 2,
       "version_minor": 0
      },
      "text/plain": [
       "Slicing line:   0%|          | 0/102087 [00:00<?, ?it/s]"
      ]
     },
     "metadata": {},
     "output_type": "display_data"
    },
    {
     "name": "stdout",
     "output_type": "stream",
     "text": [
      "Compiling ContextCpu kernels...\n",
      "Done compiling ContextCpu kernels.\n"
     ]
    }
   ],
   "source": [
    "# ------------ SETUP LINE AND TWISS ----------------\n",
    "\n",
    "line = xt.Line.from_json(line_file)\n",
    "\n",
    "end_s = line.get_length()\n",
    "\n",
    "TCCS_name = 'tccs.5r3.b2'\n",
    "TCCP_name = 'tccp.4l3.b2'\n",
    "TARGET_name = 'target.4l3.b2'\n",
    "PIXEL_name = 'pixel.detector'\n",
    "ALFA_name = 'alfa.detector'\n",
    "TCP_name = 'tcp.d6r7.b2'\n",
    "TCLA_name = 'tcla.a5l3.b2'\n",
    "\n",
    "d_PIXEL = 0.663 # [m]\n",
    "ydim_PIXEL = 0.01408\n",
    "xdim_PIXEL = 0.04224 #0.04246\n",
    "\n",
    "d_ALFA = 0.720 + 0.663 # [m]\n",
    "ydim_ALFA = 0.029698484809835\n",
    "xdim_ALFA = 0.04525483399593905 \n",
    "\n",
    "TCCS_loc = end_s - 6773.9428 #6773.7 #6775\n",
    "TCCP_loc = end_s - (6653.0468 + 207.5e-3) #6655\n",
    "\n",
    "dx = 1e-11\n",
    "TARGET_loc = end_s - (6653.0468 + 243.75e-3)\n",
    "PIXEL_loc = end_s - (6653.3 - TCCP_length/2 - d_PIXEL)\n",
    "ALFA_loc = end_s - (6653.3 - TCCP_length/2 - d_ALFA )\n",
    "TCP_loc = line.get_s_position()[line.element_names.index(TCP_name)]\n",
    "TCLA_loc = line.get_s_position()[line.element_names.index(TCLA_name)]\n",
    "\n",
    "\n",
    "line.insert_element(at_s=TCCS_loc, element=xt.Marker(), name=TCCS_name)\n",
    "line.insert_element(at_s=TCCS_loc, element=xt.LimitEllipse(a_squ=0.0016, b_squ=0.0016, a_b_squ=2.56e-06), name=TCCS_name+'_aper')\n",
    "line.insert_element(at_s=TCCS_loc - TCCS_length/2, element=xt.Marker(), name=TCCS_name+'_exit')\n",
    "line.insert_element(at_s=TCCS_loc + TCCS_length/2, element=xt.Marker(), name=TCCS_name+'_entry')\n",
    "line.insert_element(at_s=TCCP_loc, element=xt.Marker(), name=TCCP_name)\n",
    "line.insert_element(at_s=TCCP_loc, element=xt.LimitEllipse(a_squ=0.0016, b_squ=0.0016, a_b_squ=2.56e-06), name=TCCP_name+'_aper')\n",
    "line.insert_element(at_s=TCCP_loc - TCCP_length/2, element=xt.Marker(), name=TCCP_name+'_exit')\n",
    "line.insert_element(at_s=TCCP_loc + TCCP_length/2, element=xt.Marker(), name=TCCP_name+'_entry')\n",
    "line.insert_element(at_s=TARGET_loc, element=xt.Marker(), name=TARGET_name)\n",
    "line.insert_element(at_s=TARGET_loc, element=xt.LimitEllipse(a_squ=0.0016, b_squ=0.0016, a_b_squ=2.56e-06), name= TARGET_name + '_aper')\n",
    "line.insert_element(at_s=PIXEL_loc, element=xt.Marker(), name=PIXEL_name)\n",
    "line.insert_element(at_s=ALFA_loc, element=xt.Marker(), name=ALFA_name)\n",
    "\n",
    "tw = line.twiss()"
   ]
  },
  {
   "cell_type": "code",
   "execution_count": 8,
   "id": "be30c0fe",
   "metadata": {
    "vscode": {
     "languageId": "python"
    }
   },
   "outputs": [
    {
     "data": {
      "application/vnd.jupyter.widget-view+json": {
       "model_id": "4bbaf1fb5ebf47dfb137abee4ad49b91",
       "version_major": 2,
       "version_minor": 0
      },
      "text/plain": [
       "Loading line from dict:   0%|          | 0/105797 [00:00<?, ?it/s]"
      ]
     },
     "metadata": {},
     "output_type": "display_data"
    },
    {
     "name": "stdout",
     "output_type": "stream",
     "text": [
      "Done loading line from dict.           \n",
      "pymadx.Tfs.Load> normal file\n"
     ]
    }
   ],
   "source": [
    "# ------------ PLOTTING FUNCT and LINES ----------------\n",
    "\n",
    "def change_coordinates_to_b1(df):\n",
    "    if 's' in df.columns:\n",
    "        df['s'] = end_s - df['s']\n",
    "    else:\n",
    "        new_index = [end_s - i for i in df.index.values]\n",
    "        df.index = new_index \n",
    "    return df\n",
    "\n",
    "def reset_coord_cry_tracking_TCCS(df, twiss):\n",
    "    df['s'] = np.where(df['s'] <=  end_s-TCCS_loc, end_s-TCCS_loc-df['s'], 2*end_s-TCCS_loc-df['s'])\n",
    "    names = twiss.to_pandas().name.to_numpy()\n",
    "    idx = np.where(names == TCCS_name)[0][0]\n",
    "    names = np.roll(names, -idx)\n",
    "    df['name'] = names\n",
    "    df = df.sort_values(by=\"s\")\n",
    "    return df\n",
    "\n",
    "def reset_coord_cry_tracking_TCCP(df, twiss):\n",
    "    df['s'] = np.where(df['s'] <=  end_s-TCCP_loc, end_s-TCCP_loc-df['s'], 2*end_s-TCCP_loc-df['s'])\n",
    "    names = twiss.to_pandas().name.to_numpy()\n",
    "    idx = np.where(names == TCCP_name)[0][0]\n",
    "    names = np.roll(names, -idx)\n",
    "    df['name'] = names\n",
    "    df = df.sort_values(by=\"s\")\n",
    "    return df\n",
    "\n",
    "def get_jaw(name, length, n_env, emittance, tw, end_s, hgap = None,  color = 'r'):\n",
    "    s_centre = end_s - tw['s', name]\n",
    "    if hgap is None:\n",
    "        hgap = n_env*np.sqrt(emittance*tw['bety', name])\n",
    "    sstart  = s_centre - length/2\n",
    "    send    = s_centre + length/2\n",
    "    w       = send-sstart\n",
    "    top_lim = plt.ylim()[1]*2\n",
    "    bot_lim = plt.ylim()[0]*2\n",
    "    h       = top_lim - hgap\n",
    "    jaw = matplotlib.patches.Rectangle((sstart, hgap), w, h, angle=0.0, \n",
    "                                            fc=color, ec=color, zorder=10)\n",
    "    return jaw\n",
    "\n",
    "def rad_to_deg(n):\n",
    "    return n*180/np.pi\n",
    "\n",
    "def convert_m_to_mm(val):\n",
    "    return val / 1e-3\n",
    "\n",
    "def convert_mm_to_m(val):\n",
    "    return val * 1e-3\n",
    "\n",
    "def extract_channelled(df):\n",
    "    df = df.loc[(df['s']<end_s-TCCS_loc) & (df['s']>end_s-TCLA_loc)]\n",
    "    return df\n",
    "\n",
    "\n",
    "\n",
    "line_aper =  xt.Line.from_json(\"../input_files/2023_Run3_flat_top/flat_top_b2.json\")\n",
    "df_apertures = xcp.load_apertures(line_aper)\n",
    "df_apertures = change_coordinates_to_b1(df_apertures)\n",
    "layout_file = \"../input_files/2023_Run3_flat_top/layout_flat_top_b2.tfs\"  \n",
    "layout_data_object = pymadx.Data.Tfs(layout_file)"
   ]
  },
  {
   "cell_type": "code",
   "execution_count": 9,
   "id": "32327c9c",
   "metadata": {
    "vscode": {
     "languageId": "python"
    }
   },
   "outputs": [],
   "source": [
    "def CRY_kick(gap, energy, element, tw = tw):\n",
    "\n",
    "    mp = 0.9382e9\n",
    "    emittance_n = 3.5e-6\n",
    "    gamma = energy/mp\n",
    "    beta = np.sqrt(1-1/(gamma*gamma))\n",
    "    emittance = emittance_n/(beta*gamma)\n",
    "\n",
    "    beta_y = tw['bety', element]\n",
    "    alpha_y = tw['alfy', element]\n",
    "\n",
    "    #print('beta_y = ', beta_y, 'alpha_y = ', alpha_y)\n",
    "    return gap*np.sqrt(emittance*beta_y), -gap*alpha_y*np.sqrt(emittance/beta_y)\n",
    "\n",
    "def get_position(coord, bending_ang = TCCP_bending_angle, length = TCCP_length, aper =  0.040 + 0.0015):\n",
    "    y = aper - coord[0]\n",
    "    x = y*np.tan(np.pi/2 - (coord[1] + bending_ang))\n",
    "    return (6653.0468 + 207.5e-3)  - x"
   ]
  },
  {
   "cell_type": "code",
   "execution_count": 10,
   "id": "227a5b73",
   "metadata": {
    "vscode": {
     "languageId": "python"
    }
   },
   "outputs": [],
   "source": [
    "def get_blm_position_TCCP(energy, n_env, y_aper = 0.040 + 0.0015, plot = True, tw = tw, line = line, save = False, start = 6640 , stop = 6670):\n",
    "\n",
    "    mp = 0.9382e9\n",
    "    emittance_n = 3.5e-6\n",
    "    gamma = energy/mp\n",
    "    beta = np.sqrt(1-1/(gamma*gamma))\n",
    "    emittance = emittance_n/(beta*gamma)\n",
    "\n",
    "\n",
    "    context = xo.ContextCpu() \n",
    "    part_TCCP = xp.Particles(p0c=energy, #eV\n",
    "                            q0=1, mass0=xp.PROTON_MASS_EV,\n",
    "                            x=0,\n",
    "                            px=0,\n",
    "                            y = CRY_kick(n_env, energy, TCCP_name + '_exit', tw)[0],\n",
    "                            py = CRY_kick(n_env, energy, TCCP_name + '_exit', tw)[1] + TCCP_bending_angle,\n",
    "                            _context=context)\n",
    "    line.track(part_TCCP, turn_by_turn_monitor = 'ONE_TURN_EBE', ele_start=TCCP_name+'_exit')\n",
    "    df_TCCP_part = reset_coord_cry_tracking_TCCP(pd.DataFrame(list(zip(line.record_last_track.s[0], -1*line.record_last_track.x[0], line.record_last_track.y[0], line.record_last_track.py[0], line.record_last_track.state[0] )), columns =['s', 'x', 'y', 'py', 'state']), tw)\n",
    "    df_TCCP_part = df_TCCP_part[df_TCCP_part['y']>0.0]\n",
    "\n",
    "    print('Angle: ', CRY_kick(n_env, energy, TCCP_name + '_exit', tw)[1] + TCCP_bending_angle)\n",
    "\n",
    "    m, q = np.polyfit(df_TCCP_part.s, df_TCCP_part.y, 1) \n",
    "    y_fit = m * df_TCCP_part.s + q\n",
    "    s_aper = (y_aper-q)/m\n",
    "\n",
    "\n",
    "    if plot:\n",
    "        fig, ax_BLM = plt.subplots(2, 1, gridspec_kw={'height_ratios': [0.1, 1]}, sharex=True, figsize=(15,7))\n",
    "        pymadx.Plot._SetMachineAxesStyle(ax_BLM[0])\n",
    "        pymadx.Plot._DrawMachineLattice(ax_BLM[0], layout_data_object)\n",
    "        ax_BLM[0].set_xlim(start,stop)\n",
    "        #ir3_plot[0].set_title(label='Energy = 1 TeV', y=1.05, fontsize=18)\n",
    "\n",
    "\n",
    "        df_ref = change_coordinates_to_b1(tw.to_pandas())\n",
    "        ax_BLM[1].plot(df_ref[\"s\"],df_ref[\"y\"],color=\"orange\")\n",
    "        ax_BLM[1].plot(df_ref[\"s\"], n_env*np.sqrt(emittance*df_ref['bety']), color='C1')\n",
    "        ax_BLM[1].plot(df_ref[\"s\"],-n_env*np.sqrt(emittance*df_ref['bety']), color='C1')\n",
    "        ax_BLM[1].fill_between(df_ref[\"s\"], n_env*np.sqrt(emittance*df_ref['bety']), -n_env*np.sqrt(emittance*df_ref['bety']), color='C1', alpha=0.3)\n",
    "\n",
    "        ax_BLM[1].set_xlabel('s [m]',  fontsize=17)\n",
    "        ax_BLM[1].set_xlim(start, stop)\n",
    "        ax_BLM[1].set_ylim(-0.06, 0.06)\n",
    "        ax_BLM[1].set_ylabel('y [m]',  fontsize=17)\n",
    "        ax_BLM[1].grid(linestyle=':')\n",
    "        ax_BLM[1].tick_params(axis='both', which='major', labelsize=17)\n",
    "        xcp.plot_apertures(df_apertures[['xmin', 'xmax', 'ymin', 'ymax']].apply(lambda x: convert_mm_to_m(x)), ax_BLM[1], \"v\")\n",
    "\n",
    "        ax_BLM[1].plot(df_TCCP_part[\"s\"],df_TCCP_part[\"y\"], color='darkblue')\n",
    "        ax_BLM[1].plot(df_TCCP_part[\"s\"], y_fit, color= 'r', linestyle='--')\n",
    "        ax_BLM[1].plot(s_aper, y_aper, marker='o')\n",
    "        ax_BLM[1].add_patch(get_jaw(TCCP_name, TCCP_length, n_env, emittance,  tw, end_s))\n",
    "        ax_BLM[1].add_patch(get_jaw(PIXEL_name, 0.05, n_env, emittance,  tw, end_s, hgap = 0.007, color='green'))\n",
    "        ax_BLM[1].add_patch(get_jaw(ALFA_name, 0.05, n_env, emittance,  tw, end_s, hgap = 0.007, color='green'))\n",
    "        ax_BLM[1].plot(get_position(CRY_kick(n_env, energy, TCCP_name+'_exit' , tw)), y_aper, color='k', marker='*')\n",
    "\n",
    "        if save:\n",
    "            plt.savefig('../Plots/BLMs_TCCP_{}sig_{}GeV.pdf'.format(n_env, round(energy/1e9)), dpi=300)\n",
    "\n",
    "    print('sim: ', s_aper, '\\t calc: ', get_position(CRY_kick(n_env, energy, TCCP_name+'_exit' , tw)), '\\t diff: ', s_aper - get_position(CRY_kick(n_env, energy, TCCP_name+'_exit' , tw)))\n",
    "    print('distance from centre of TCCP tank: ', 6653.3 - s_aper, '\\t safe limit: 5.709 m' )\n",
    "    return s_aper"
   ]
  },
  {
   "cell_type": "code",
   "execution_count": 11,
   "id": "f8069afe",
   "metadata": {
    "vscode": {
     "languageId": "python"
    }
   },
   "outputs": [
    {
     "name": "stdout",
     "output_type": "stream",
     "text": [
      "Angle:  0.006998892120895566\n",
      "sim:  6648.352687416126 \t calc:  6648.352767450717 \t diff:  -8.003459061001195e-05\n",
      "distance from centre of TCCP tank:  4.947312583874009 \t safe limit: 5.709 m\n"
     ]
    },
    {
     "data": {
      "image/png": "[encoded data removed]",
      "text/plain": [
       "<Figure size 1080x504 with 2 Axes>"
      ]
     },
     "metadata": {
      "needs_background": "light"
     },
     "output_type": "display_data"
    }
   ],
   "source": [
    "inj_8= get_blm_position_TCCP(450e9, 5, save=True)"
   ]
  },
  {
   "cell_type": "code",
   "execution_count": 12,
   "id": "c27f525a",
   "metadata": {
    "vscode": {
     "languageId": "python"
    }
   },
   "outputs": [
    {
     "name": "stdout",
     "output_type": "stream",
     "text": [
      "Angle:  0.006998892120895566\n",
      "sim:  6648.352687416126 \t calc:  6648.352767450717 \t diff:  -8.003459061001195e-05\n",
      "distance from centre of TCCP tank:  4.947312583874009 \t safe limit: 5.709 m\n"
     ]
    },
    {
     "data": {
      "image/png": "[encoded data removed]",
      "text/plain": [
       "<Figure size 1080x504 with 2 Axes>"
      ]
     },
     "metadata": {
      "needs_background": "light"
     },
     "output_type": "display_data"
    }
   ],
   "source": [
    "inj_8 = get_blm_position_TCCP(450e9, 5, save = True)"
   ]
  },
  {
   "cell_type": "code",
   "execution_count": 11,
   "id": "a7fcd322",
   "metadata": {
    "vscode": {
     "languageId": "python"
    }
   },
   "outputs": [
    {
     "name": "stdout",
     "output_type": "stream",
     "text": [
      "Angle:  0.00697335033194393\n",
      "sim:  6647.995131155031 \t calc:  6647.995216402249 \t diff:  -8.524721761205001e-05\n",
      "distance from centre of TCCP tank:  5.304868844968951 \t safe limit: 5.709 m\n"
     ]
    },
    {
     "data": {
      "image/png": "[encoded data removed]",
      "text/plain": [
       "<Figure size 720x504 with 2 Axes>"
      ]
     },
     "metadata": {
      "needs_background": "light"
     },
     "output_type": "display_data"
    }
   ],
   "source": [
    "tev1_5 = get_blm_position_TCCP(1000e9, 5)"
   ]
  },
  {
   "cell_type": "code",
   "execution_count": 13,
   "id": "aacb09b6",
   "metadata": {
    "vscode": {
     "languageId": "python"
    }
   },
   "outputs": [
    {
     "name": "stdout",
     "output_type": "stream",
     "text": [
      "Angle:  0.006963371774193508\n",
      "sim:  6647.854730036705 \t calc:  6647.854817309419 \t diff:  -8.727271324460162e-05\n",
      "distance from centre of TCCP tank:  5.445269963294777 \t safe limit: 5.709 m\n"
     ]
    },
    {
     "data": {
      "image/png": "[encoded data removed]",
      "text/plain": [
       "<Figure size 720x504 with 2 Axes>"
      ]
     },
     "metadata": {
      "needs_background": "light"
     },
     "output_type": "display_data"
    }
   ],
   "source": [
    "tev3_5 = get_blm_position_TCCP(3000e9, 7)"
   ]
  },
  {
   "cell_type": "code",
   "execution_count": 24,
   "id": "abdcad5b",
   "metadata": {
    "vscode": {
     "languageId": "python"
    }
   },
   "outputs": [
    {
     "name": "stdout",
     "output_type": "stream",
     "text": [
      "Angle:  0.00697335033194393\n",
      "sim:  6647.995131155031 \t calc:  6647.995216402249 \t diff:  -8.524721761205001e-05\n",
      "distance from centre of TCCP tank:  5.304868844968951 \t safe limit: 5.709 m\n"
     ]
    },
    {
     "data": {
      "image/png": "[encoded data removed]",
      "text/plain": [
       "<Figure size 720x504 with 2 Axes>"
      ]
     },
     "metadata": {
      "needs_background": "light"
     },
     "output_type": "display_data"
    }
   ],
   "source": [
    "tev1_5 = get_blm_position_TCCP(1000e9, 5, save=True)"
   ]
  },
  {
   "cell_type": "code",
   "execution_count": 26,
   "id": "b9afc350",
   "metadata": {
    "vscode": {
     "languageId": "python"
    }
   },
   "outputs": [
    {
     "name": "stdout",
     "output_type": "stream",
     "text": [
      "Angle:  0.00699889212089628\n",
      "sim:  6648.352687416135 \t calc:  6648.352767450726 \t diff:  -8.003459061001195e-05\n",
      "distance from centre of TCCP tank:  4.947312583864914 \t safe limit: 5.709 m\n"
     ]
    },
    {
     "data": {
      "image/png": "[encoded data removed]",
      "text/plain": [
       "<Figure size 720x504 with 2 Axes>"
      ]
     },
     "metadata": {
      "needs_background": "light"
     },
     "output_type": "display_data"
    }
   ],
   "source": [
    "tevinj_5 = get_blm_position_TCCP(450e9, 5, save=True, start=6645, stop=6655)"
   ]
  },
  {
   "cell_type": "code",
   "execution_count": 138,
   "id": "d5be0e5d",
   "metadata": {
    "vscode": {
     "languageId": "python"
    }
   },
   "outputs": [
    {
     "name": "stdout",
     "output_type": "stream",
     "text": [
      "Angle:  0.006958544177885043\n",
      "sim:  6647.786659866932 \t calc:  6647.786748117362 \t diff:  -8.825043005344924e-05\n",
      "distance from centre of TCCP tank:  5.513340133068596 \t safe limit: 5.664 m\n"
     ]
    },
    {
     "data": {
      "image/png": "[encoded data removed]",
      "text/plain": [
       "<Figure size 1152x648 with 2 Axes>"
      ]
     },
     "metadata": {
      "needs_background": "light"
     },
     "output_type": "display_data"
    }
   ],
   "source": [
    "tev5_8 = get_blm_position_TCCP(5000e9, 8, save=True)"
   ]
  },
  {
   "cell_type": "code",
   "execution_count": 44,
   "id": "d9e03d59",
   "metadata": {
    "vscode": {
     "languageId": "python"
    }
   },
   "outputs": [
    {
     "name": "stdout",
     "output_type": "stream",
     "text": [
      "Angle:  0.006944577611178152\n",
      "sim:  6647.589195246778 \t calc:  6647.589286317702 \t diff:  -9.107092409976758e-05\n",
      "distance from centre of TCCP tank:  5.710804753221964 \t safe limit: 5.709 m\n"
     ]
    },
    {
     "data": {
      "image/png": "[encoded data removed]",
      "text/plain": [
       "<Figure size 720x504 with 2 Axes>"
      ]
     },
     "metadata": {
      "needs_background": "light"
     },
     "output_type": "display_data"
    }
   ],
   "source": [
    "tev5_8 = get_blm_position_TCCP(5000e9, 5, save=True)"
   ]
  },
  {
   "cell_type": "code",
   "execution_count": 83,
   "id": "63b1fb97",
   "metadata": {
    "vscode": {
     "languageId": "python"
    }
   },
   "outputs": [
    {
     "data": {
      "text/plain": [
       "6647.636"
      ]
     },
     "execution_count": 83,
     "metadata": {},
     "output_type": "execute_result"
    }
   ],
   "source": [
    "6653.3 - 5.664"
   ]
  },
  {
   "cell_type": "code",
   "execution_count": 68,
   "id": "de8b7768",
   "metadata": {
    "vscode": {
     "languageId": "python"
    }
   },
   "outputs": [
    {
     "data": {
      "text/plain": [
       "5.5"
      ]
     },
     "execution_count": 68,
     "metadata": {},
     "output_type": "execute_result"
    }
   ],
   "source": [
    "6653.3-6647.8"
   ]
  },
  {
   "cell_type": "code",
   "execution_count": null,
   "id": "9666ea6f",
   "metadata": {
    "vscode": {
     "languageId": "python"
    }
   },
   "outputs": [],
   "source": [
    "6652.1-0.47-0.21-"
   ]
  },
  {
   "cell_type": "code",
   "execution_count": 15,
   "id": "edf68a59",
   "metadata": {
    "vscode": {
     "languageId": "python"
    }
   },
   "outputs": [
    {
     "name": "stdout",
     "output_type": "stream",
     "text": [
      "sim:  6647.589195246778 \t calc:  6647.5542863177025 \t diff:  0.03490892907575471\n",
      "distance from centre of TCCP tank:  5.710804753221964 \t safe limit: 5.664 m\n"
     ]
    },
    {
     "data": {
      "image/png": "[encoded data removed]",
      "text/plain": [
       "<Figure size 1152x648 with 2 Axes>"
      ]
     },
     "metadata": {
      "needs_background": "light"
     },
     "output_type": "display_data"
    }
   ],
   "source": [
    "tev5_5 = get_blm_position_TCCP(5000e9, 5)"
   ]
  },
  {
   "cell_type": "code",
   "execution_count": 45,
   "id": "3c27f082",
   "metadata": {
    "vscode": {
     "languageId": "python"
    }
   },
   "outputs": [
    {
     "data": {
      "text/html": [
       "<div>\n",
       "<style scoped>\n",
       "    .dataframe tbody tr th:only-of-type {\n",
       "        vertical-align: middle;\n",
       "    }\n",
       "\n",
       "    .dataframe tbody tr th {\n",
       "        vertical-align: top;\n",
       "    }\n",
       "\n",
       "    .dataframe thead th {\n",
       "        text-align: right;\n",
       "    }\n",
       "</style>\n",
       "<table border=\"1\" class=\"dataframe\">\n",
       "  <thead>\n",
       "    <tr style=\"text-align: right;\">\n",
       "      <th></th>\n",
       "      <th>xmin</th>\n",
       "      <th>xmax</th>\n",
       "      <th>ymin</th>\n",
       "      <th>ymax</th>\n",
       "      <th>apertype</th>\n",
       "    </tr>\n",
       "  </thead>\n",
       "  <tbody>\n",
       "    <tr>\n",
       "      <th>26658.883171</th>\n",
       "      <td>-0.029000</td>\n",
       "      <td>0.029000</td>\n",
       "      <td>-0.029000</td>\n",
       "      <td>0.029000</td>\n",
       "      <td>LimitEllipse</td>\n",
       "    </tr>\n",
       "    <tr>\n",
       "      <th>26657.383171</th>\n",
       "      <td>-9.999999</td>\n",
       "      <td>9.999999</td>\n",
       "      <td>-9.999999</td>\n",
       "      <td>9.999999</td>\n",
       "      <td>LimitRectEllipse</td>\n",
       "    </tr>\n",
       "    <tr>\n",
       "      <th>26645.676171</th>\n",
       "      <td>-0.040000</td>\n",
       "      <td>0.040000</td>\n",
       "      <td>-0.040000</td>\n",
       "      <td>0.040000</td>\n",
       "      <td>LimitEllipse</td>\n",
       "    </tr>\n",
       "    <tr>\n",
       "      <th>26644.529171</th>\n",
       "      <td>-0.040000</td>\n",
       "      <td>0.040000</td>\n",
       "      <td>-0.040000</td>\n",
       "      <td>0.040000</td>\n",
       "      <td>LimitEllipse</td>\n",
       "    </tr>\n",
       "    <tr>\n",
       "      <th>26644.429171</th>\n",
       "      <td>-0.060000</td>\n",
       "      <td>0.060000</td>\n",
       "      <td>-0.060000</td>\n",
       "      <td>0.060000</td>\n",
       "      <td>LimitEllipse</td>\n",
       "    </tr>\n",
       "    <tr>\n",
       "      <th>...</th>\n",
       "      <td>...</td>\n",
       "      <td>...</td>\n",
       "      <td>...</td>\n",
       "      <td>...</td>\n",
       "      <td>...</td>\n",
       "    </tr>\n",
       "    <tr>\n",
       "      <th>14.424999</th>\n",
       "      <td>-0.060000</td>\n",
       "      <td>0.060000</td>\n",
       "      <td>-0.060000</td>\n",
       "      <td>0.060000</td>\n",
       "      <td>LimitEllipse</td>\n",
       "    </tr>\n",
       "    <tr>\n",
       "      <th>14.324999</th>\n",
       "      <td>-0.040000</td>\n",
       "      <td>0.040000</td>\n",
       "      <td>-0.040000</td>\n",
       "      <td>0.040000</td>\n",
       "      <td>LimitEllipse</td>\n",
       "    </tr>\n",
       "    <tr>\n",
       "      <th>13.206999</th>\n",
       "      <td>-0.040000</td>\n",
       "      <td>0.040000</td>\n",
       "      <td>-0.040000</td>\n",
       "      <td>0.040000</td>\n",
       "      <td>LimitEllipse</td>\n",
       "    </tr>\n",
       "    <tr>\n",
       "      <th>1.499999</th>\n",
       "      <td>-9.999999</td>\n",
       "      <td>9.999999</td>\n",
       "      <td>-9.999999</td>\n",
       "      <td>9.999999</td>\n",
       "      <td>LimitRectEllipse</td>\n",
       "    </tr>\n",
       "    <tr>\n",
       "      <th>-0.000001</th>\n",
       "      <td>-0.029000</td>\n",
       "      <td>0.029000</td>\n",
       "      <td>-0.029000</td>\n",
       "      <td>0.029000</td>\n",
       "      <td>LimitEllipse</td>\n",
       "    </tr>\n",
       "  </tbody>\n",
       "</table>\n",
       "<p>32204 rows × 5 columns</p>\n",
       "</div>"
      ],
      "text/plain": [
       "                   xmin      xmax      ymin      ymax          apertype\n",
       " 26658.883171 -0.029000  0.029000 -0.029000  0.029000      LimitEllipse\n",
       " 26657.383171 -9.999999  9.999999 -9.999999  9.999999  LimitRectEllipse\n",
       " 26645.676171 -0.040000  0.040000 -0.040000  0.040000      LimitEllipse\n",
       " 26644.529171 -0.040000  0.040000 -0.040000  0.040000      LimitEllipse\n",
       " 26644.429171 -0.060000  0.060000 -0.060000  0.060000      LimitEllipse\n",
       "...                 ...       ...       ...       ...               ...\n",
       " 14.424999    -0.060000  0.060000 -0.060000  0.060000      LimitEllipse\n",
       " 14.324999    -0.040000  0.040000 -0.040000  0.040000      LimitEllipse\n",
       " 13.206999    -0.040000  0.040000 -0.040000  0.040000      LimitEllipse\n",
       " 1.499999     -9.999999  9.999999 -9.999999  9.999999  LimitRectEllipse\n",
       "-0.000001     -0.029000  0.029000 -0.029000  0.029000      LimitEllipse\n",
       "\n",
       "[32204 rows x 5 columns]"
      ]
     },
     "execution_count": 45,
     "metadata": {},
     "output_type": "execute_result"
    }
   ],
   "source": [
    "df_apertures"
   ]
  },
  {
   "cell_type": "code",
   "execution_count": null,
   "id": "46a2acc9",
   "metadata": {
    "vscode": {
     "languageId": "python"
    }
   },
   "outputs": [],
   "source": [
    "\n",
    "\n"
   ]
  },
  {
   "cell_type": "code",
   "execution_count": 1,
   "id": "4a6a54ce",
   "metadata": {
    "vscode": {
     "languageId": "python"
    }
   },
   "outputs": [
    {
     "ename": "NameError",
     "evalue": "name 'tw' is not defined",
     "output_type": "error",
     "traceback": [
      "\u001b[0;31m---------------------------------------------------------------------------\u001b[0m",
      "\u001b[0;31mNameError\u001b[0m                                 Traceback (most recent call last)",
      "\u001b[0;32m/tmp/cmaccani/ipykernel_11587/2409079413.py\u001b[0m in \u001b[0;36m<module>\u001b[0;34m\u001b[0m\n\u001b[0;32m----> 1\u001b[0;31m \u001b[0;32mdef\u001b[0m \u001b[0mget_blm_position_double_chann\u001b[0m\u001b[0;34m(\u001b[0m\u001b[0menergy\u001b[0m\u001b[0;34m,\u001b[0m \u001b[0mn_env\u001b[0m\u001b[0;34m,\u001b[0m \u001b[0mdf_apertures\u001b[0m\u001b[0;34m,\u001b[0m \u001b[0my_aper\u001b[0m \u001b[0;34m=\u001b[0m \u001b[0;36m0.040\u001b[0m \u001b[0;34m+\u001b[0m \u001b[0;36m0.0015\u001b[0m\u001b[0;34m,\u001b[0m \u001b[0mplot\u001b[0m \u001b[0;34m=\u001b[0m \u001b[0;32mTrue\u001b[0m\u001b[0;34m,\u001b[0m \u001b[0mtw\u001b[0m \u001b[0;34m=\u001b[0m \u001b[0mtw\u001b[0m\u001b[0;34m,\u001b[0m \u001b[0mline\u001b[0m \u001b[0;34m=\u001b[0m \u001b[0mline\u001b[0m\u001b[0;34m,\u001b[0m \u001b[0msave\u001b[0m \u001b[0;34m=\u001b[0m \u001b[0;32mFalse\u001b[0m\u001b[0;34m)\u001b[0m\u001b[0;34m:\u001b[0m\u001b[0;34m\u001b[0m\u001b[0;34m\u001b[0m\u001b[0m\n\u001b[0m\u001b[1;32m      2\u001b[0m \u001b[0;34m\u001b[0m\u001b[0m\n\u001b[1;32m      3\u001b[0m     \u001b[0mmp\u001b[0m \u001b[0;34m=\u001b[0m \u001b[0;36m0.9382e9\u001b[0m\u001b[0;34m\u001b[0m\u001b[0;34m\u001b[0m\u001b[0m\n\u001b[1;32m      4\u001b[0m     \u001b[0memittance_n\u001b[0m \u001b[0;34m=\u001b[0m \u001b[0;36m3.5e-6\u001b[0m\u001b[0;34m\u001b[0m\u001b[0;34m\u001b[0m\u001b[0m\n\u001b[1;32m      5\u001b[0m     \u001b[0mgamma\u001b[0m \u001b[0;34m=\u001b[0m \u001b[0menergy\u001b[0m\u001b[0;34m/\u001b[0m\u001b[0mmp\u001b[0m\u001b[0;34m\u001b[0m\u001b[0;34m\u001b[0m\u001b[0m\n",
      "\u001b[0;31mNameError\u001b[0m: name 'tw' is not defined"
     ]
    }
   ],
   "source": [
    "def get_blm_position_double_chann(energy, n_env, df_apertures, y_aper = 0.040 + 0.0015, plot = True, tw = tw, line = line, save = False):\n",
    "\n",
    "    mp = 0.9382e9\n",
    "    emittance_n = 3.5e-6\n",
    "    gamma = energy/mp\n",
    "    beta = np.sqrt(1-1/(gamma*gamma))\n",
    "    emittance = emittance_n/(beta*gamma)\n",
    "    context = xo.ContextCpu() \n",
    "    \n",
    "    dp = 1.92e-10 \n",
    "    pot_crit = 21.34\n",
    "    eta = 0.9\n",
    "    bending_radius = TCCS_length/TCCS_bending_angle\n",
    "    Rcrit = energy/(2*np.sqrt(eta)*pot_crit) * (dp/2)\n",
    "    TCCS_critical_angle = np.sqrt(2*eta*pot_crit/energy)*(1 - Rcrit/bending_radius)\n",
    "\n",
    "\n",
    "\n",
    "    cry_part_chann = xp.Particles(p0c=energy, #eV\n",
    "                            q0 = 1, mass0=xp.PROTON_MASS_EV,\n",
    "                            x = 0,\n",
    "                            px = 0,\n",
    "                            y = CRY_kick(n_env, energy, TCCS_name + '_exit', tw)[0],\n",
    "                            py = CRY_kick(n_env, energy, TCCS_name + '_exit', tw)[1] + TCCS_bending_angle,\n",
    "                            _context=context)\n",
    "\n",
    "    cry_part_chann_upper = xp.Particles(p0c=energy, #eV\n",
    "                            q0 = 1, mass0=xp.PROTON_MASS_EV,\n",
    "                            x = 0,\n",
    "                            px = 0,\n",
    "                            y = CRY_kick(n_env, energy, TCCS_name + '_exit', tw)[0],\n",
    "                            py = CRY_kick(n_env, energy, TCCS_name + '_exit', tw)[1] + TCCS_bending_angle + TCCS_critical_angle,\n",
    "                            _context=context)\n",
    "\n",
    "\n",
    "    cry_part_chann_lower = xp.Particles(p0c=energy, #eV\n",
    "                            q0 = 1, mass0=xp.PROTON_MASS_EV,\n",
    "                            x = 0,\n",
    "                            px = 0,\n",
    "                            y = CRY_kick(n_env, energy, TCCS_name + '_exit', tw)[0],\n",
    "                            py = CRY_kick(n_env, energy, TCCS_name + '_exit', tw)[1] + TCCS_bending_angle - TCCS_critical_angle,\n",
    "                            _context=context)\n",
    "\n",
    "\n",
    "    line.track(cry_part_chann, turn_by_turn_monitor = 'ONE_TURN_EBE', ele_start=TCCS_name + '_exit')\n",
    "    df_chann = reset_coord_cry_tracking_TCCS(pd.DataFrame(list(zip(line.record_last_track.s[0], -1*line.record_last_track.x[0], line.record_last_track.y[0], line.record_last_track.py[0])), columns =['s', 'x', 'y', 'py']), tw)\n",
    "    #df_chann = extract_channelled(df_chann)\n",
    "\n",
    "\n",
    "    line.track(cry_part_chann_upper, turn_by_turn_monitor = 'ONE_TURN_EBE', ele_start=TCCS_name + '_exit')\n",
    "    df_chann_upper = reset_coord_cry_tracking_TCCS(pd.DataFrame(list(zip(line.record_last_track.s[0], -1*line.record_last_track.x[0], line.record_last_track.y[0])), columns =['s', 'x', 'y']), tw)\n",
    "    #df_chann_upper = extract_channelled(df_chann_upper)\n",
    "\n",
    "    line.track(cry_part_chann_lower, turn_by_turn_monitor = 'ONE_TURN_EBE', ele_start=TCCS_name + '_exit')\n",
    "    df_chann_lower = reset_coord_cry_tracking_TCCS(pd.DataFrame(list(zip(line.record_last_track.s[0], -1*line.record_last_track.x[0], line.record_last_track.y[0])), columns =['s', 'x', 'y']), tw)\n",
    "    #df_chann_lower = extract_channelled(df_chann_lower)\n",
    "\n",
    "    \n",
    "\n",
    "    part_TCCP = xp.Particles(p0c=energy, #eV\n",
    "                            q0=1, mass0=xp.PROTON_MASS_EV,\n",
    "                            x=0,\n",
    "                            px=0,\n",
    "                            y=float(df_chann[df_chann['name'] == TCCP_name + '_entry']['y']),\n",
    "                            py=float(df_chann[df_chann['name'] == TCCP_name + '_entry']['py']) + TCCP_bending_angle,\n",
    "                            _context=context)\n",
    "\n",
    "\n",
    "    print('Angle: ', float(df_chann[df_chann['name'] == TCCP_name + '_entry']['py']) + TCCP_bending_angle)\n",
    "    line.track(part_TCCP, turn_by_turn_monitor = 'ONE_TURN_EBE', ele_start=TCCP_name+'_exit')\n",
    "    df_TCCP_part = reset_coord_cry_tracking_TCCP(pd.DataFrame(list(zip(line.record_last_track.s[0], -1*line.record_last_track.x[0], line.record_last_track.y[0], line.record_last_track.py[0], line.record_last_track.state[0] )), columns =['s', 'x', 'y', 'py', 'state']), tw)\n",
    "    df_TCCP_part = df_TCCP_part[df_TCCP_part['y']>0.0]\n",
    "    df_apertures = df_apertures[df_apertures['ymax'].between(-0.9,0.9)]\n",
    "\n",
    "\n",
    "    m, q = np.polyfit(df_TCCP_part.s, df_TCCP_part.y, 1) \n",
    "    y_fit = m * df_TCCP_part.s + q\n",
    "    s_aper = (y_aper-q)/m\n",
    "\n",
    "\n",
    "    if plot:\n",
    "        start, stop =  6640,6777\n",
    "        fig, ax_BLM = plt.subplots(2, 1, gridspec_kw={'height_ratios': [0.1, 1]}, sharex=True, figsize=(15,7))\n",
    "        pymadx.Plot._SetMachineAxesStyle(ax_BLM[0])\n",
    "        pymadx.Plot._DrawMachineLattice(ax_BLM[0], layout_data_object)\n",
    "        ax_BLM[0].set_xlim(start,stop)\n",
    "        #ir3_plot[0].set_title(label='Energy = 1 TeV', y=1.05, fontsize=18)\n",
    "\n",
    "\n",
    "        df_ref = change_coordinates_to_b1(tw.to_pandas())\n",
    "        ax_BLM[1].plot(df_ref[\"s\"],df_ref[\"y\"],color=\"orange\")\n",
    "        ax_BLM[1].plot(df_ref[\"s\"], n_env*np.sqrt(emittance*df_ref['bety']), color='C1')\n",
    "        ax_BLM[1].plot(df_ref[\"s\"],-n_env*np.sqrt(emittance*df_ref['bety']), color='C1')\n",
    "        ax_BLM[1].fill_between(df_ref[\"s\"], n_env*np.sqrt(emittance*df_ref['bety']), -n_env*np.sqrt(emittance*df_ref['bety']), color='C1', alpha=0.3)\n",
    "\n",
    "        ax_BLM[1].plot(df_chann[\"s\"],df_chann[\"y\"], color='darkblue')\n",
    "        ax_BLM[1].plot(df_chann_upper[\"s\"],df_chann_upper[\"y\"], color='blue')\n",
    "        ax_BLM[1].plot(df_chann_lower[\"s\"],df_chann_lower[\"y\"], color='blue')\n",
    "        ax_BLM[1].fill_between(df_chann[\"s\"], df_chann_upper[\"y\"],df_chann_lower[\"y\"], color='blue', alpha=0.3)\n",
    "\n",
    "        ax_BLM[1].set_xlabel('s [m]',  fontsize=17)\n",
    "        ax_BLM[1].set_xlim(start, stop)\n",
    "        ax_BLM[1].set_ylim(-0.045, 0.045)\n",
    "        #ax_BLM[1].set_ylim(0.01, 0.05)\n",
    "        ax_BLM[1].set_ylabel('y [m]',  fontsize=17)\n",
    "        ax_BLM[1].grid(linestyle=':')\n",
    "        ax_BLM[1].tick_params(axis='both', which='major', labelsize=17)\n",
    "        xcp.plot_apertures(df_apertures[['xmin', 'xmax', 'ymin', 'ymax']].apply(lambda x: convert_mm_to_m(x)), ax_BLM[1], \"v\")\n",
    "\n",
    "        ax_BLM[1].plot(df_TCCP_part[\"s\"],df_TCCP_part[\"y\"], color='darkblue')\n",
    "        ax_BLM[1].plot(df_TCCP_part[\"s\"], y_fit, color= 'r', linestyle='--')\n",
    "        ax_BLM[1].plot(s_aper, y_aper, marker='o')        \n",
    "        ax_BLM[1].add_patch(get_jaw(PIXEL_name, 0.06, n_env, emittance,  tw, end_s, hgap = 0.010, color='green'))\n",
    "        ax_BLM[1].add_patch(get_jaw(ALFA_name, 0.06, n_env, emittance,  tw, end_s, hgap = 0.010, color='green'))\n",
    "        ax_BLM[1].add_patch(get_jaw(TCCP_name, TCCP_length, n_env, emittance, tw, end_s, hgap = float(df_chann[df_chann['name'] == TCCP_name + '_entry']['y'])))\n",
    "        ax_BLM[1].add_patch(get_jaw(TCCS_name, TCCS_length, n_env, emittance, tw, end_s))\n",
    "        ax_BLM[1].plot(get_position([float(df_chann[df_chann['name'] == TCCP_name + '_entry']['y']), float(df_chann[df_chann['name'] == TCCP_name + '_entry']['py']) ] ), y_aper, color='k', marker='*')\n",
    "\n",
    "        if save:\n",
    "            plt.savefig('../Plots/BLMs_double_chann_{}sig_{}GeV.pdf'.format(n_env, round(energy/1e9)), dpi=300)\n",
    "            \n",
    "    print('sim: ', s_aper, '\\t calc: ', get_position([float(df_chann[df_chann['name'] == TCCP_name + '_entry']['y']),float(df_chann[df_chann['name'] == TCCP_name + '_entry']['py']) ]), '\\t diff: ', s_aper - get_position([float(df_chann[df_chann['name'] == TCCP_name + '_entry']['y']),float(df_chann[df_chann['name'] == TCCP_name + '_entry']['py']) ] ))\n",
    "    print('distance from centre of TCCP tank: ', 6653.3 - s_aper, '\\t safe limit: 5.709 m' )\n",
    "    return s_aper"
   ]
  },
  {
   "cell_type": "code",
   "execution_count": 2,
   "id": "8aae1afc",
   "metadata": {
    "vscode": {
     "languageId": "python"
    }
   },
   "outputs": [
    {
     "ename": "NameError",
     "evalue": "name 'get_blm_position_double_chann' is not defined",
     "output_type": "error",
     "traceback": [
      "\u001b[0;31m---------------------------------------------------------------------------\u001b[0m",
      "\u001b[0;31mNameError\u001b[0m                                 Traceback (most recent call last)",
      "\u001b[0;32m/tmp/cmaccani/ipykernel_11587/4005976799.py\u001b[0m in \u001b[0;36m<module>\u001b[0;34m\u001b[0m\n\u001b[0;32m----> 1\u001b[0;31m \u001b[0mdc_inj_3\u001b[0m  \u001b[0;34m=\u001b[0m \u001b[0mget_blm_position_double_chann\u001b[0m\u001b[0;34m(\u001b[0m\u001b[0;36m450e9\u001b[0m\u001b[0;34m,\u001b[0m \u001b[0;36m5\u001b[0m\u001b[0;34m,\u001b[0m \u001b[0mdf_apertures\u001b[0m\u001b[0;34m,\u001b[0m \u001b[0msave\u001b[0m\u001b[0;34m=\u001b[0m \u001b[0;32mFalse\u001b[0m\u001b[0;34m)\u001b[0m\u001b[0;34m\u001b[0m\u001b[0;34m\u001b[0m\u001b[0m\n\u001b[0m",
      "\u001b[0;31mNameError\u001b[0m: name 'get_blm_position_double_chann' is not defined"
     ]
    }
   ],
   "source": [
    "dc_inj_3  = get_blm_position_double_chann(450e9, 5, df_apertures, save= False)"
   ]
  },
  {
   "cell_type": "code",
   "execution_count": 22,
   "id": "097d3a32",
   "metadata": {
    "vscode": {
     "languageId": "python"
    }
   },
   "outputs": [
    {
     "data": {
      "text/plain": [
       "6773.942800000001"
      ]
     },
     "execution_count": 22,
     "metadata": {},
     "output_type": "execute_result"
    }
   ],
   "source": [
    "end_s - TCCS_loc"
   ]
  },
  {
   "cell_type": "code",
   "execution_count": 53,
   "id": "c58e16aa",
   "metadata": {
    "vscode": {
     "languageId": "python"
    }
   },
   "outputs": [
    {
     "name": "stdout",
     "output_type": "stream",
     "text": [
      "Angle:  0.00708803928609981\n",
      "sim:  6649.451846917354 \t calc:  6649.451910596358 \t diff:  -6.36790045973612e-05\n",
      "distance from centre of TCCP tank:  3.848153082646604 \t safe limit: 5.709 m\n"
     ]
    },
    {
     "data": {
      "image/png": "[encoded data removed]",
      "text/plain": [
       "<Figure size 1080x504 with 2 Axes>"
      ]
     },
     "metadata": {
      "needs_background": "light"
     },
     "output_type": "display_data"
    }
   ],
   "source": [
    "dc_inj_3  = get_blm_position_double_chann(450e9, 5, df_apertures, save= False)"
   ]
  },
  {
   "cell_type": "code",
   "execution_count": 33,
   "id": "0c062015",
   "metadata": {
    "vscode": {
     "languageId": "python"
    }
   },
   "outputs": [],
   "source": [
    "a = df_apertures.reset_index()\n",
    "a = a.rename(columns={'index': 's'})"
   ]
  },
  {
   "cell_type": "code",
   "execution_count": 35,
   "id": "8f86b9f4",
   "metadata": {
    "vscode": {
     "languageId": "python"
    }
   },
   "outputs": [],
   "source": [
    "b = a[a['s'].between(6640, 6775)][['s', 'ymin','ymax']]"
   ]
  },
  {
   "cell_type": "code",
   "execution_count": null,
   "id": "9c63091e",
   "metadata": {
    "vscode": {
     "languageId": "python"
    }
   },
   "outputs": [],
   "source": [
    "b.to_csv('../Outputdata/apertures.csv', index= False)"
   ]
  },
  {
   "cell_type": "code",
   "execution_count": 43,
   "id": "80992e23",
   "metadata": {
    "vscode": {
     "languageId": "python"
    }
   },
   "outputs": [
    {
     "data": {
      "text/html": [
       "<div>\n",
       "<style scoped>\n",
       "    .dataframe tbody tr th:only-of-type {\n",
       "        vertical-align: middle;\n",
       "    }\n",
       "\n",
       "    .dataframe tbody tr th {\n",
       "        vertical-align: top;\n",
       "    }\n",
       "\n",
       "    .dataframe thead th {\n",
       "        text-align: right;\n",
       "    }\n",
       "</style>\n",
       "<table border=\"1\" class=\"dataframe\">\n",
       "  <thead>\n",
       "    <tr style=\"text-align: right;\">\n",
       "      <th></th>\n",
       "      <th>s</th>\n",
       "      <th>ymax</th>\n",
       "      <th>ymin</th>\n",
       "    </tr>\n",
       "  </thead>\n",
       "  <tbody>\n",
       "    <tr>\n",
       "      <th>0</th>\n",
       "      <td>6641.639793</td>\n",
       "      <td>0.026100</td>\n",
       "      <td>-0.026100</td>\n",
       "    </tr>\n",
       "    <tr>\n",
       "      <th>1</th>\n",
       "      <td>6642.095793</td>\n",
       "      <td>0.026000</td>\n",
       "      <td>-0.026000</td>\n",
       "    </tr>\n",
       "    <tr>\n",
       "      <th>2</th>\n",
       "      <td>6644.540793</td>\n",
       "      <td>0.029400</td>\n",
       "      <td>-0.029400</td>\n",
       "    </tr>\n",
       "    <tr>\n",
       "      <th>3</th>\n",
       "      <td>6647.180793</td>\n",
       "      <td>0.029500</td>\n",
       "      <td>-0.029500</td>\n",
       "    </tr>\n",
       "    <tr>\n",
       "      <th>4</th>\n",
       "      <td>6664.720793</td>\n",
       "      <td>9.999999</td>\n",
       "      <td>-9.999999</td>\n",
       "    </tr>\n",
       "    <tr>\n",
       "      <th>5</th>\n",
       "      <td>6684.270793</td>\n",
       "      <td>0.022100</td>\n",
       "      <td>-0.022100</td>\n",
       "    </tr>\n",
       "    <tr>\n",
       "      <th>6</th>\n",
       "      <td>6687.060793</td>\n",
       "      <td>0.022000</td>\n",
       "      <td>-0.022000</td>\n",
       "    </tr>\n",
       "    <tr>\n",
       "      <th>7</th>\n",
       "      <td>6690.909793</td>\n",
       "      <td>0.015430</td>\n",
       "      <td>-0.015430</td>\n",
       "    </tr>\n",
       "    <tr>\n",
       "      <th>8</th>\n",
       "      <td>6698.509793</td>\n",
       "      <td>0.015400</td>\n",
       "      <td>-0.015400</td>\n",
       "    </tr>\n",
       "    <tr>\n",
       "      <th>9</th>\n",
       "      <td>6702.309793</td>\n",
       "      <td>0.015320</td>\n",
       "      <td>-0.015320</td>\n",
       "    </tr>\n",
       "    <tr>\n",
       "      <th>10</th>\n",
       "      <td>6706.109793</td>\n",
       "      <td>0.015340</td>\n",
       "      <td>-0.015340</td>\n",
       "    </tr>\n",
       "    <tr>\n",
       "      <th>11</th>\n",
       "      <td>6714.149793</td>\n",
       "      <td>0.015330</td>\n",
       "      <td>-0.015330</td>\n",
       "    </tr>\n",
       "    <tr>\n",
       "      <th>12</th>\n",
       "      <td>6714.605793</td>\n",
       "      <td>0.015000</td>\n",
       "      <td>-0.015000</td>\n",
       "    </tr>\n",
       "    <tr>\n",
       "      <th>13</th>\n",
       "      <td>6714.832793</td>\n",
       "      <td>0.030000</td>\n",
       "      <td>-0.030000</td>\n",
       "    </tr>\n",
       "    <tr>\n",
       "      <th>14</th>\n",
       "      <td>6714.890793</td>\n",
       "      <td>0.031500</td>\n",
       "      <td>-0.031500</td>\n",
       "    </tr>\n",
       "    <tr>\n",
       "      <th>15</th>\n",
       "      <td>6715.255793</td>\n",
       "      <td>0.050000</td>\n",
       "      <td>-0.050000</td>\n",
       "    </tr>\n",
       "    <tr>\n",
       "      <th>16</th>\n",
       "      <td>6773.020793</td>\n",
       "      <td>0.040000</td>\n",
       "      <td>-0.040000</td>\n",
       "    </tr>\n",
       "  </tbody>\n",
       "</table>\n",
       "</div>"
      ],
      "text/plain": [
       "              s      ymax      ymin\n",
       "0   6641.639793  0.026100 -0.026100\n",
       "1   6642.095793  0.026000 -0.026000\n",
       "2   6644.540793  0.029400 -0.029400\n",
       "3   6647.180793  0.029500 -0.029500\n",
       "4   6664.720793  9.999999 -9.999999\n",
       "5   6684.270793  0.022100 -0.022100\n",
       "6   6687.060793  0.022000 -0.022000\n",
       "7   6690.909793  0.015430 -0.015430\n",
       "8   6698.509793  0.015400 -0.015400\n",
       "9   6702.309793  0.015320 -0.015320\n",
       "10  6706.109793  0.015340 -0.015340\n",
       "11  6714.149793  0.015330 -0.015330\n",
       "12  6714.605793  0.015000 -0.015000\n",
       "13  6714.832793  0.030000 -0.030000\n",
       "14  6714.890793  0.031500 -0.031500\n",
       "15  6715.255793  0.050000 -0.050000\n",
       "16  6773.020793  0.040000 -0.040000"
      ]
     },
     "execution_count": 43,
     "metadata": {},
     "output_type": "execute_result"
    }
   ],
   "source": [
    "b.groupby('ymax').max().sort_values(by='s').reset_index()[['s', 'ymax', 'ymin']]"
   ]
  },
  {
   "cell_type": "code",
   "execution_count": 72,
   "id": "25f4e63b",
   "metadata": {
    "vscode": {
     "languageId": "python"
    }
   },
   "outputs": [
    {
     "name": "stdout",
     "output_type": "stream",
     "text": [
      "Angle:  0.00708803928609981\n",
      "sim:  6649.451846917354 \t calc:  6649.451910596358 \t diff:  -6.36790045973612e-05\n",
      "distance from centre of TCCP tank:  3.848153082646604 \t safe limit: 5.709 m\n"
     ]
    },
    {
     "data": {
      "image/png": "[encoded data removed]",
      "text/plain": [
       "<Figure size 1152x648 with 2 Axes>"
      ]
     },
     "metadata": {
      "needs_background": "light"
     },
     "output_type": "display_data"
    }
   ],
   "source": [
    "dc_inj_3  = get_blm_position_double_chann(450e9, 5, df_apertures, save= True)"
   ]
  },
  {
   "cell_type": "code",
   "execution_count": 38,
   "id": "8c981d9d",
   "metadata": {
    "vscode": {
     "languageId": "python"
    }
   },
   "outputs": [
    {
     "data": {
      "text/plain": [
       "26658.88317064787"
      ]
     },
     "execution_count": 38,
     "metadata": {},
     "output_type": "execute_result"
    }
   ],
   "source": [
    "line.get_length()"
   ]
  },
  {
   "cell_type": "code",
   "execution_count": null,
   "id": "72c542c9",
   "metadata": {
    "vscode": {
     "languageId": "python"
    }
   },
   "outputs": [],
   "source": []
  },
  {
   "cell_type": "code",
   "execution_count": 39,
   "id": "f114fca8",
   "metadata": {
    "vscode": {
     "languageId": "python"
    }
   },
   "outputs": [
    {
     "data": {
      "text/html": [
       "<div>\n",
       "<style scoped>\n",
       "    .dataframe tbody tr th:only-of-type {\n",
       "        vertical-align: middle;\n",
       "    }\n",
       "\n",
       "    .dataframe tbody tr th {\n",
       "        vertical-align: top;\n",
       "    }\n",
       "\n",
       "    .dataframe thead th {\n",
       "        text-align: right;\n",
       "    }\n",
       "</style>\n",
       "<table border=\"1\" class=\"dataframe\">\n",
       "  <thead>\n",
       "    <tr style=\"text-align: right;\">\n",
       "      <th></th>\n",
       "      <th>name</th>\n",
       "      <th>s</th>\n",
       "      <th>x</th>\n",
       "      <th>px</th>\n",
       "      <th>y</th>\n",
       "      <th>py</th>\n",
       "      <th>zeta</th>\n",
       "      <th>delta</th>\n",
       "      <th>ptau</th>\n",
       "      <th>W_matrix</th>\n",
       "      <th>...</th>\n",
       "      <th>bx_chrom</th>\n",
       "      <th>by_chrom</th>\n",
       "      <th>ax_chrom</th>\n",
       "      <th>ay_chrom</th>\n",
       "      <th>wx_chrom</th>\n",
       "      <th>wy_chrom</th>\n",
       "      <th>ddx</th>\n",
       "      <th>ddpx</th>\n",
       "      <th>ddy</th>\n",
       "      <th>ddpy</th>\n",
       "    </tr>\n",
       "  </thead>\n",
       "  <tbody>\n",
       "    <tr>\n",
       "      <th>74993</th>\n",
       "      <td>vamfb.4r3.b.b2_aper</td>\n",
       "      <td>19989.007377</td>\n",
       "      <td>-0.000002</td>\n",
       "      <td>-3.868092e-08</td>\n",
       "      <td>2.959998e-07</td>\n",
       "      <td>2.889257e-09</td>\n",
       "      <td>-0.000016</td>\n",
       "      <td>-0.000005</td>\n",
       "      <td>-0.000005</td>\n",
       "      <td>[[12.096351829063897, -4.440892098500626e-16, ...</td>\n",
       "      <td>...</td>\n",
       "      <td>0.572490</td>\n",
       "      <td>6.643218</td>\n",
       "      <td>-24.932067</td>\n",
       "      <td>22.594439</td>\n",
       "      <td>24.938639</td>\n",
       "      <td>23.550818</td>\n",
       "      <td>1548.322329</td>\n",
       "      <td>32.30624</td>\n",
       "      <td>-521.069578</td>\n",
       "      <td>-4.771812</td>\n",
       "    </tr>\n",
       "    <tr>\n",
       "      <th>74994</th>\n",
       "      <td>vamfb.4r3.b.b2</td>\n",
       "      <td>19989.007377</td>\n",
       "      <td>-0.000002</td>\n",
       "      <td>-3.868092e-08</td>\n",
       "      <td>2.959998e-07</td>\n",
       "      <td>2.889257e-09</td>\n",
       "      <td>-0.000016</td>\n",
       "      <td>-0.000005</td>\n",
       "      <td>-0.000005</td>\n",
       "      <td>[[12.096351829063897, -4.440892098500626e-16, ...</td>\n",
       "      <td>...</td>\n",
       "      <td>0.572490</td>\n",
       "      <td>6.643218</td>\n",
       "      <td>-24.932067</td>\n",
       "      <td>22.594439</td>\n",
       "      <td>24.938639</td>\n",
       "      <td>23.550818</td>\n",
       "      <td>1548.322329</td>\n",
       "      <td>32.30624</td>\n",
       "      <td>-521.069578</td>\n",
       "      <td>-4.771812</td>\n",
       "    </tr>\n",
       "    <tr>\n",
       "      <th>74995</th>\n",
       "      <td>vmaaf.4r3.b.b2_aper</td>\n",
       "      <td>19989.007377</td>\n",
       "      <td>-0.000002</td>\n",
       "      <td>-3.868092e-08</td>\n",
       "      <td>2.959998e-07</td>\n",
       "      <td>2.889257e-09</td>\n",
       "      <td>-0.000016</td>\n",
       "      <td>-0.000005</td>\n",
       "      <td>-0.000005</td>\n",
       "      <td>[[12.096351829063897, -4.440892098500626e-16, ...</td>\n",
       "      <td>...</td>\n",
       "      <td>0.572490</td>\n",
       "      <td>6.643218</td>\n",
       "      <td>-24.932067</td>\n",
       "      <td>22.594439</td>\n",
       "      <td>24.938639</td>\n",
       "      <td>23.550818</td>\n",
       "      <td>1548.322329</td>\n",
       "      <td>32.30624</td>\n",
       "      <td>-521.069578</td>\n",
       "      <td>-4.771812</td>\n",
       "    </tr>\n",
       "    <tr>\n",
       "      <th>74996</th>\n",
       "      <td>vmaaf.4r3.b.b2</td>\n",
       "      <td>19989.007377</td>\n",
       "      <td>-0.000002</td>\n",
       "      <td>-3.868092e-08</td>\n",
       "      <td>2.959998e-07</td>\n",
       "      <td>2.889257e-09</td>\n",
       "      <td>-0.000016</td>\n",
       "      <td>-0.000005</td>\n",
       "      <td>-0.000005</td>\n",
       "      <td>[[12.096351829063897, -4.440892098500626e-16, ...</td>\n",
       "      <td>...</td>\n",
       "      <td>0.572490</td>\n",
       "      <td>6.643218</td>\n",
       "      <td>-24.932067</td>\n",
       "      <td>22.594439</td>\n",
       "      <td>24.938639</td>\n",
       "      <td>23.550818</td>\n",
       "      <td>1548.322329</td>\n",
       "      <td>32.30624</td>\n",
       "      <td>-521.069578</td>\n",
       "      <td>-4.771812</td>\n",
       "    </tr>\n",
       "    <tr>\n",
       "      <th>74997</th>\n",
       "      <td>vcda.4r3.a.b2_aper</td>\n",
       "      <td>19989.007377</td>\n",
       "      <td>-0.000002</td>\n",
       "      <td>-3.868092e-08</td>\n",
       "      <td>2.959998e-07</td>\n",
       "      <td>2.889257e-09</td>\n",
       "      <td>-0.000016</td>\n",
       "      <td>-0.000005</td>\n",
       "      <td>-0.000005</td>\n",
       "      <td>[[12.096351829063897, -4.440892098500626e-16, ...</td>\n",
       "      <td>...</td>\n",
       "      <td>0.572490</td>\n",
       "      <td>6.643218</td>\n",
       "      <td>-24.932067</td>\n",
       "      <td>22.594439</td>\n",
       "      <td>24.938639</td>\n",
       "      <td>23.550818</td>\n",
       "      <td>1548.322329</td>\n",
       "      <td>32.30624</td>\n",
       "      <td>-521.069578</td>\n",
       "      <td>-4.771812</td>\n",
       "    </tr>\n",
       "    <tr>\n",
       "      <th>74998</th>\n",
       "      <td>vcda.4r3.a.b2</td>\n",
       "      <td>19989.007377</td>\n",
       "      <td>-0.000002</td>\n",
       "      <td>-3.868092e-08</td>\n",
       "      <td>2.959998e-07</td>\n",
       "      <td>2.889257e-09</td>\n",
       "      <td>-0.000016</td>\n",
       "      <td>-0.000005</td>\n",
       "      <td>-0.000005</td>\n",
       "      <td>[[12.096351829063897, -4.440892098500626e-16, ...</td>\n",
       "      <td>...</td>\n",
       "      <td>0.572490</td>\n",
       "      <td>6.643218</td>\n",
       "      <td>-24.932067</td>\n",
       "      <td>22.594439</td>\n",
       "      <td>24.938639</td>\n",
       "      <td>23.550818</td>\n",
       "      <td>1548.322329</td>\n",
       "      <td>32.30624</td>\n",
       "      <td>-521.069578</td>\n",
       "      <td>-4.771812</td>\n",
       "    </tr>\n",
       "    <tr>\n",
       "      <th>74999</th>\n",
       "      <td>drift_23633</td>\n",
       "      <td>19989.007377</td>\n",
       "      <td>-0.000002</td>\n",
       "      <td>-3.868092e-08</td>\n",
       "      <td>2.959998e-07</td>\n",
       "      <td>2.889257e-09</td>\n",
       "      <td>-0.000016</td>\n",
       "      <td>-0.000005</td>\n",
       "      <td>-0.000005</td>\n",
       "      <td>[[12.096351829063897, -4.440892098500626e-16, ...</td>\n",
       "      <td>...</td>\n",
       "      <td>0.572490</td>\n",
       "      <td>6.643218</td>\n",
       "      <td>-24.932067</td>\n",
       "      <td>22.594439</td>\n",
       "      <td>24.938639</td>\n",
       "      <td>23.550818</td>\n",
       "      <td>1548.322329</td>\n",
       "      <td>32.30624</td>\n",
       "      <td>-521.069578</td>\n",
       "      <td>-4.771812</td>\n",
       "    </tr>\n",
       "    <tr>\n",
       "      <th>75000</th>\n",
       "      <td>vcda.a4l3.b.b2_aper</td>\n",
       "      <td>19989.307377</td>\n",
       "      <td>-0.000002</td>\n",
       "      <td>-3.868092e-08</td>\n",
       "      <td>2.968666e-07</td>\n",
       "      <td>2.889257e-09</td>\n",
       "      <td>-0.000016</td>\n",
       "      <td>-0.000005</td>\n",
       "      <td>-0.000005</td>\n",
       "      <td>[[12.033004660538461, 0.0, 4.3201949271901314e...</td>\n",
       "      <td>...</td>\n",
       "      <td>0.685776</td>\n",
       "      <td>6.565310</td>\n",
       "      <td>-24.940781</td>\n",
       "      <td>22.607127</td>\n",
       "      <td>24.950208</td>\n",
       "      <td>23.541145</td>\n",
       "      <td>1558.009187</td>\n",
       "      <td>32.30624</td>\n",
       "      <td>-522.500337</td>\n",
       "      <td>-4.771812</td>\n",
       "    </tr>\n",
       "    <tr>\n",
       "      <th>75001</th>\n",
       "      <td>vcda.a4l3.b.b2</td>\n",
       "      <td>19989.307377</td>\n",
       "      <td>-0.000002</td>\n",
       "      <td>-3.868092e-08</td>\n",
       "      <td>2.968666e-07</td>\n",
       "      <td>2.889257e-09</td>\n",
       "      <td>-0.000016</td>\n",
       "      <td>-0.000005</td>\n",
       "      <td>-0.000005</td>\n",
       "      <td>[[12.033004660538461, 0.0, 4.3201949271901314e...</td>\n",
       "      <td>...</td>\n",
       "      <td>0.685776</td>\n",
       "      <td>6.565310</td>\n",
       "      <td>-24.940781</td>\n",
       "      <td>22.607127</td>\n",
       "      <td>24.950208</td>\n",
       "      <td>23.541145</td>\n",
       "      <td>1558.009187</td>\n",
       "      <td>32.30624</td>\n",
       "      <td>-522.500337</td>\n",
       "      <td>-4.771812</td>\n",
       "    </tr>\n",
       "    <tr>\n",
       "      <th>75002</th>\n",
       "      <td>vamfb.4r3.a.b2_aper</td>\n",
       "      <td>19989.307377</td>\n",
       "      <td>-0.000002</td>\n",
       "      <td>-3.868092e-08</td>\n",
       "      <td>2.968666e-07</td>\n",
       "      <td>2.889257e-09</td>\n",
       "      <td>-0.000016</td>\n",
       "      <td>-0.000005</td>\n",
       "      <td>-0.000005</td>\n",
       "      <td>[[12.033004660538461, 0.0, 4.3201949271901314e...</td>\n",
       "      <td>...</td>\n",
       "      <td>0.685776</td>\n",
       "      <td>6.565310</td>\n",
       "      <td>-24.940781</td>\n",
       "      <td>22.607127</td>\n",
       "      <td>24.950208</td>\n",
       "      <td>23.541145</td>\n",
       "      <td>1558.009187</td>\n",
       "      <td>32.30624</td>\n",
       "      <td>-522.500337</td>\n",
       "      <td>-4.771812</td>\n",
       "    </tr>\n",
       "    <tr>\n",
       "      <th>75003</th>\n",
       "      <td>vamfb.4r3.a.b2</td>\n",
       "      <td>19989.307377</td>\n",
       "      <td>-0.000002</td>\n",
       "      <td>-3.868092e-08</td>\n",
       "      <td>2.968666e-07</td>\n",
       "      <td>2.889257e-09</td>\n",
       "      <td>-0.000016</td>\n",
       "      <td>-0.000005</td>\n",
       "      <td>-0.000005</td>\n",
       "      <td>[[12.033004660538461, 0.0, 4.3201949271901314e...</td>\n",
       "      <td>...</td>\n",
       "      <td>0.685776</td>\n",
       "      <td>6.565310</td>\n",
       "      <td>-24.940781</td>\n",
       "      <td>22.607127</td>\n",
       "      <td>24.950208</td>\n",
       "      <td>23.541145</td>\n",
       "      <td>1558.009187</td>\n",
       "      <td>32.30624</td>\n",
       "      <td>-522.500337</td>\n",
       "      <td>-4.771812</td>\n",
       "    </tr>\n",
       "    <tr>\n",
       "      <th>75004</th>\n",
       "      <td>vmaaf.4r3.a.b2_aper</td>\n",
       "      <td>19989.307377</td>\n",
       "      <td>-0.000002</td>\n",
       "      <td>-3.868092e-08</td>\n",
       "      <td>2.968666e-07</td>\n",
       "      <td>2.889257e-09</td>\n",
       "      <td>-0.000016</td>\n",
       "      <td>-0.000005</td>\n",
       "      <td>-0.000005</td>\n",
       "      <td>[[12.033004660538461, 0.0, 4.3201949271901314e...</td>\n",
       "      <td>...</td>\n",
       "      <td>0.685776</td>\n",
       "      <td>6.565310</td>\n",
       "      <td>-24.940781</td>\n",
       "      <td>22.607127</td>\n",
       "      <td>24.950208</td>\n",
       "      <td>23.541145</td>\n",
       "      <td>1558.009187</td>\n",
       "      <td>32.30624</td>\n",
       "      <td>-522.500337</td>\n",
       "      <td>-4.771812</td>\n",
       "    </tr>\n",
       "    <tr>\n",
       "      <th>75005</th>\n",
       "      <td>vmaaf.4r3.a.b2</td>\n",
       "      <td>19989.307377</td>\n",
       "      <td>-0.000002</td>\n",
       "      <td>-3.868092e-08</td>\n",
       "      <td>2.968666e-07</td>\n",
       "      <td>2.889257e-09</td>\n",
       "      <td>-0.000016</td>\n",
       "      <td>-0.000005</td>\n",
       "      <td>-0.000005</td>\n",
       "      <td>[[12.033004660538461, 0.0, 4.3201949271901314e...</td>\n",
       "      <td>...</td>\n",
       "      <td>0.685776</td>\n",
       "      <td>6.565310</td>\n",
       "      <td>-24.940781</td>\n",
       "      <td>22.607127</td>\n",
       "      <td>24.950208</td>\n",
       "      <td>23.541145</td>\n",
       "      <td>1558.009187</td>\n",
       "      <td>32.30624</td>\n",
       "      <td>-522.500337</td>\n",
       "      <td>-4.771812</td>\n",
       "    </tr>\n",
       "    <tr>\n",
       "      <th>75006</th>\n",
       "      <td>drift_23634</td>\n",
       "      <td>19989.307377</td>\n",
       "      <td>-0.000002</td>\n",
       "      <td>-3.868092e-08</td>\n",
       "      <td>2.968666e-07</td>\n",
       "      <td>2.889257e-09</td>\n",
       "      <td>-0.000016</td>\n",
       "      <td>-0.000005</td>\n",
       "      <td>-0.000005</td>\n",
       "      <td>[[12.033004660538461, 0.0, 4.3201949271901314e...</td>\n",
       "      <td>...</td>\n",
       "      <td>0.685776</td>\n",
       "      <td>6.565310</td>\n",
       "      <td>-24.940781</td>\n",
       "      <td>22.607127</td>\n",
       "      <td>24.950208</td>\n",
       "      <td>23.541145</td>\n",
       "      <td>1558.009187</td>\n",
       "      <td>32.30624</td>\n",
       "      <td>-522.500337</td>\n",
       "      <td>-4.771812</td>\n",
       "    </tr>\n",
       "    <tr>\n",
       "      <th>75007</th>\n",
       "      <td>ip3_aper</td>\n",
       "      <td>19994.162377</td>\n",
       "      <td>-0.000002</td>\n",
       "      <td>-3.868092e-08</td>\n",
       "      <td>3.108940e-07</td>\n",
       "      <td>2.889257e-09</td>\n",
       "      <td>-0.000016</td>\n",
       "      <td>-0.000005</td>\n",
       "      <td>-0.000005</td>\n",
       "      <td>[[11.015643744800963, 4.440892098500626e-16, 3...</td>\n",
       "      <td>...</td>\n",
       "      <td>2.692860</td>\n",
       "      <td>5.374067</td>\n",
       "      <td>-24.993350</td>\n",
       "      <td>22.758877</td>\n",
       "      <td>25.138000</td>\n",
       "      <td>23.384762</td>\n",
       "      <td>1714.774838</td>\n",
       "      <td>32.30624</td>\n",
       "      <td>-545.654790</td>\n",
       "      <td>-4.771812</td>\n",
       "    </tr>\n",
       "    <tr>\n",
       "      <th>75008</th>\n",
       "      <td>ip3</td>\n",
       "      <td>19994.162377</td>\n",
       "      <td>-0.000002</td>\n",
       "      <td>-3.868092e-08</td>\n",
       "      <td>3.108940e-07</td>\n",
       "      <td>2.889257e-09</td>\n",
       "      <td>-0.000016</td>\n",
       "      <td>-0.000005</td>\n",
       "      <td>-0.000005</td>\n",
       "      <td>[[11.015643744800963, 4.440892098500626e-16, 3...</td>\n",
       "      <td>...</td>\n",
       "      <td>2.692860</td>\n",
       "      <td>5.374067</td>\n",
       "      <td>-24.993350</td>\n",
       "      <td>22.758877</td>\n",
       "      <td>25.138000</td>\n",
       "      <td>23.384762</td>\n",
       "      <td>1714.774838</td>\n",
       "      <td>32.30624</td>\n",
       "      <td>-545.654790</td>\n",
       "      <td>-4.771812</td>\n",
       "    </tr>\n",
       "    <tr>\n",
       "      <th>75009</th>\n",
       "      <td>drift_23635</td>\n",
       "      <td>19994.162377</td>\n",
       "      <td>-0.000002</td>\n",
       "      <td>-3.868092e-08</td>\n",
       "      <td>3.108940e-07</td>\n",
       "      <td>2.889257e-09</td>\n",
       "      <td>-0.000016</td>\n",
       "      <td>-0.000005</td>\n",
       "      <td>-0.000005</td>\n",
       "      <td>[[11.015643744800963, 4.440892098500626e-16, 3...</td>\n",
       "      <td>...</td>\n",
       "      <td>2.692860</td>\n",
       "      <td>5.374067</td>\n",
       "      <td>-24.993350</td>\n",
       "      <td>22.758877</td>\n",
       "      <td>25.138000</td>\n",
       "      <td>23.384762</td>\n",
       "      <td>1714.774838</td>\n",
       "      <td>32.30624</td>\n",
       "      <td>-545.654790</td>\n",
       "      <td>-4.771812</td>\n",
       "    </tr>\n",
       "    <tr>\n",
       "      <th>75010</th>\n",
       "      <td>vmand.4l3.b.b2_aper</td>\n",
       "      <td>19996.307377</td>\n",
       "      <td>-0.000002</td>\n",
       "      <td>-3.868092e-08</td>\n",
       "      <td>3.170915e-07</td>\n",
       "      <td>2.889257e-09</td>\n",
       "      <td>-0.000016</td>\n",
       "      <td>-0.000005</td>\n",
       "      <td>-0.000005</td>\n",
       "      <td>[[10.57152176157698, -4.440892098500626e-16, 3...</td>\n",
       "      <td>...</td>\n",
       "      <td>3.695215</td>\n",
       "      <td>4.886912</td>\n",
       "      <td>-24.949146</td>\n",
       "      <td>22.797872</td>\n",
       "      <td>25.221310</td>\n",
       "      <td>23.315765</td>\n",
       "      <td>1784.035873</td>\n",
       "      <td>32.30624</td>\n",
       "      <td>-555.884718</td>\n",
       "      <td>-4.771812</td>\n",
       "    </tr>\n",
       "    <tr>\n",
       "      <th>75011</th>\n",
       "      <td>vmand.4l3.b.b2</td>\n",
       "      <td>19996.307377</td>\n",
       "      <td>-0.000002</td>\n",
       "      <td>-3.868092e-08</td>\n",
       "      <td>3.170915e-07</td>\n",
       "      <td>2.889257e-09</td>\n",
       "      <td>-0.000016</td>\n",
       "      <td>-0.000005</td>\n",
       "      <td>-0.000005</td>\n",
       "      <td>[[10.57152176157698, -4.440892098500626e-16, 3...</td>\n",
       "      <td>...</td>\n",
       "      <td>3.695215</td>\n",
       "      <td>4.886912</td>\n",
       "      <td>-24.949146</td>\n",
       "      <td>22.797872</td>\n",
       "      <td>25.221310</td>\n",
       "      <td>23.315765</td>\n",
       "      <td>1784.035873</td>\n",
       "      <td>32.30624</td>\n",
       "      <td>-555.884718</td>\n",
       "      <td>-4.771812</td>\n",
       "    </tr>\n",
       "    <tr>\n",
       "      <th>75012</th>\n",
       "      <td>vcda.a4l3.a.b2_aper</td>\n",
       "      <td>19996.307377</td>\n",
       "      <td>-0.000002</td>\n",
       "      <td>-3.868092e-08</td>\n",
       "      <td>3.170915e-07</td>\n",
       "      <td>2.889257e-09</td>\n",
       "      <td>-0.000016</td>\n",
       "      <td>-0.000005</td>\n",
       "      <td>-0.000005</td>\n",
       "      <td>[[10.57152176157698, -4.440892098500626e-16, 3...</td>\n",
       "      <td>...</td>\n",
       "      <td>3.695215</td>\n",
       "      <td>4.886912</td>\n",
       "      <td>-24.949146</td>\n",
       "      <td>22.797872</td>\n",
       "      <td>25.221310</td>\n",
       "      <td>23.315765</td>\n",
       "      <td>1784.035873</td>\n",
       "      <td>32.30624</td>\n",
       "      <td>-555.884718</td>\n",
       "      <td>-4.771812</td>\n",
       "    </tr>\n",
       "    <tr>\n",
       "      <th>75013</th>\n",
       "      <td>vcda.a4l3.a.b2</td>\n",
       "      <td>19996.307377</td>\n",
       "      <td>-0.000002</td>\n",
       "      <td>-3.868092e-08</td>\n",
       "      <td>3.170915e-07</td>\n",
       "      <td>2.889257e-09</td>\n",
       "      <td>-0.000016</td>\n",
       "      <td>-0.000005</td>\n",
       "      <td>-0.000005</td>\n",
       "      <td>[[10.57152176157698, -4.440892098500626e-16, 3...</td>\n",
       "      <td>...</td>\n",
       "      <td>3.695215</td>\n",
       "      <td>4.886912</td>\n",
       "      <td>-24.949146</td>\n",
       "      <td>22.797872</td>\n",
       "      <td>25.221310</td>\n",
       "      <td>23.315765</td>\n",
       "      <td>1784.035873</td>\n",
       "      <td>32.30624</td>\n",
       "      <td>-555.884718</td>\n",
       "      <td>-4.771812</td>\n",
       "    </tr>\n",
       "    <tr>\n",
       "      <th>75014</th>\n",
       "      <td>drift_23636</td>\n",
       "      <td>19996.307377</td>\n",
       "      <td>-0.000002</td>\n",
       "      <td>-3.868092e-08</td>\n",
       "      <td>3.170915e-07</td>\n",
       "      <td>2.889257e-09</td>\n",
       "      <td>-0.000016</td>\n",
       "      <td>-0.000005</td>\n",
       "      <td>-0.000005</td>\n",
       "      <td>[[10.57152176157698, -4.440892098500626e-16, 3...</td>\n",
       "      <td>...</td>\n",
       "      <td>3.695215</td>\n",
       "      <td>4.886912</td>\n",
       "      <td>-24.949146</td>\n",
       "      <td>22.797872</td>\n",
       "      <td>25.221310</td>\n",
       "      <td>23.315765</td>\n",
       "      <td>1784.035873</td>\n",
       "      <td>32.30624</td>\n",
       "      <td>-555.884718</td>\n",
       "      <td>-4.771812</td>\n",
       "    </tr>\n",
       "    <tr>\n",
       "      <th>75015</th>\n",
       "      <td>vmand.4l3.a.b2_aper</td>\n",
       "      <td>19996.607377</td>\n",
       "      <td>-0.000002</td>\n",
       "      <td>-3.868092e-08</td>\n",
       "      <td>3.179583e-07</td>\n",
       "      <td>2.889257e-09</td>\n",
       "      <td>-0.000016</td>\n",
       "      <td>-0.000005</td>\n",
       "      <td>-0.000005</td>\n",
       "      <td>[[10.509706493721414, 4.440892098500626e-16, 3...</td>\n",
       "      <td>...</td>\n",
       "      <td>3.841642</td>\n",
       "      <td>4.820569</td>\n",
       "      <td>-24.938825</td>\n",
       "      <td>22.802134</td>\n",
       "      <td>25.232978</td>\n",
       "      <td>23.306120</td>\n",
       "      <td>1793.722731</td>\n",
       "      <td>32.30624</td>\n",
       "      <td>-557.315477</td>\n",
       "      <td>-4.771812</td>\n",
       "    </tr>\n",
       "    <tr>\n",
       "      <th>75016</th>\n",
       "      <td>vmand.4l3.a.b2</td>\n",
       "      <td>19996.607377</td>\n",
       "      <td>-0.000002</td>\n",
       "      <td>-3.868092e-08</td>\n",
       "      <td>3.179583e-07</td>\n",
       "      <td>2.889257e-09</td>\n",
       "      <td>-0.000016</td>\n",
       "      <td>-0.000005</td>\n",
       "      <td>-0.000005</td>\n",
       "      <td>[[10.509706493721414, 4.440892098500626e-16, 3...</td>\n",
       "      <td>...</td>\n",
       "      <td>3.841642</td>\n",
       "      <td>4.820569</td>\n",
       "      <td>-24.938825</td>\n",
       "      <td>22.802134</td>\n",
       "      <td>25.232978</td>\n",
       "      <td>23.306120</td>\n",
       "      <td>1793.722731</td>\n",
       "      <td>32.30624</td>\n",
       "      <td>-557.315477</td>\n",
       "      <td>-4.771812</td>\n",
       "    </tr>\n",
       "    <tr>\n",
       "      <th>75017</th>\n",
       "      <td>drift_23637</td>\n",
       "      <td>19996.607377</td>\n",
       "      <td>-0.000002</td>\n",
       "      <td>-3.868092e-08</td>\n",
       "      <td>3.179583e-07</td>\n",
       "      <td>2.889257e-09</td>\n",
       "      <td>-0.000016</td>\n",
       "      <td>-0.000005</td>\n",
       "      <td>-0.000005</td>\n",
       "      <td>[[10.509706493721414, 4.440892098500626e-16, 3...</td>\n",
       "      <td>...</td>\n",
       "      <td>3.841642</td>\n",
       "      <td>4.820569</td>\n",
       "      <td>-24.938825</td>\n",
       "      <td>22.802134</td>\n",
       "      <td>25.232978</td>\n",
       "      <td>23.306120</td>\n",
       "      <td>1793.722731</td>\n",
       "      <td>32.30624</td>\n",
       "      <td>-557.315477</td>\n",
       "      <td>-4.771812</td>\n",
       "    </tr>\n",
       "    <tr>\n",
       "      <th>75018</th>\n",
       "      <td>vvgsw.a4l3.b.b2_aper</td>\n",
       "      <td>19996.669877</td>\n",
       "      <td>-0.000002</td>\n",
       "      <td>-3.868092e-08</td>\n",
       "      <td>3.181389e-07</td>\n",
       "      <td>2.889257e-09</td>\n",
       "      <td>-0.000016</td>\n",
       "      <td>-0.000005</td>\n",
       "      <td>-0.000005</td>\n",
       "      <td>[[10.49683802643526, -8.881784197001252e-16, 3...</td>\n",
       "      <td>...</td>\n",
       "      <td>3.872347</td>\n",
       "      <td>4.806802</td>\n",
       "      <td>-24.936536</td>\n",
       "      <td>22.802987</td>\n",
       "      <td>25.235410</td>\n",
       "      <td>23.304110</td>\n",
       "      <td>1795.740826</td>\n",
       "      <td>32.30624</td>\n",
       "      <td>-557.613552</td>\n",
       "      <td>-4.771812</td>\n",
       "    </tr>\n",
       "    <tr>\n",
       "      <th>75019</th>\n",
       "      <td>vvgsw.a4l3.b.b2</td>\n",
       "      <td>19996.669877</td>\n",
       "      <td>-0.000002</td>\n",
       "      <td>-3.868092e-08</td>\n",
       "      <td>3.181389e-07</td>\n",
       "      <td>2.889257e-09</td>\n",
       "      <td>-0.000016</td>\n",
       "      <td>-0.000005</td>\n",
       "      <td>-0.000005</td>\n",
       "      <td>[[10.49683802643526, -8.881784197001252e-16, 3...</td>\n",
       "      <td>...</td>\n",
       "      <td>3.872347</td>\n",
       "      <td>4.806802</td>\n",
       "      <td>-24.936536</td>\n",
       "      <td>22.802987</td>\n",
       "      <td>25.235410</td>\n",
       "      <td>23.304110</td>\n",
       "      <td>1795.740826</td>\n",
       "      <td>32.30624</td>\n",
       "      <td>-557.613552</td>\n",
       "      <td>-4.771812</td>\n",
       "    </tr>\n",
       "    <tr>\n",
       "      <th>75020</th>\n",
       "      <td>drift_23638</td>\n",
       "      <td>19996.669877</td>\n",
       "      <td>-0.000002</td>\n",
       "      <td>-3.868092e-08</td>\n",
       "      <td>3.181389e-07</td>\n",
       "      <td>2.889257e-09</td>\n",
       "      <td>-0.000016</td>\n",
       "      <td>-0.000005</td>\n",
       "      <td>-0.000005</td>\n",
       "      <td>[[10.49683802643526, -8.881784197001252e-16, 3...</td>\n",
       "      <td>...</td>\n",
       "      <td>3.872347</td>\n",
       "      <td>4.806802</td>\n",
       "      <td>-24.936536</td>\n",
       "      <td>22.802987</td>\n",
       "      <td>25.235410</td>\n",
       "      <td>23.304110</td>\n",
       "      <td>1795.740826</td>\n",
       "      <td>32.30624</td>\n",
       "      <td>-557.613552</td>\n",
       "      <td>-4.771812</td>\n",
       "    </tr>\n",
       "    <tr>\n",
       "      <th>75021</th>\n",
       "      <td>vmanc.4l3.b.b2_aper</td>\n",
       "      <td>19996.692377</td>\n",
       "      <td>-0.000002</td>\n",
       "      <td>-3.868092e-08</td>\n",
       "      <td>3.182039e-07</td>\n",
       "      <td>2.889257e-09</td>\n",
       "      <td>-0.000016</td>\n",
       "      <td>-0.000005</td>\n",
       "      <td>-0.000005</td>\n",
       "      <td>[[10.492206204363885, -8.881784197001252e-16, ...</td>\n",
       "      <td>...</td>\n",
       "      <td>3.883417</td>\n",
       "      <td>4.801850</td>\n",
       "      <td>-24.935701</td>\n",
       "      <td>22.803291</td>\n",
       "      <td>25.236285</td>\n",
       "      <td>23.303387</td>\n",
       "      <td>1796.467340</td>\n",
       "      <td>32.30624</td>\n",
       "      <td>-557.720859</td>\n",
       "      <td>-4.771812</td>\n",
       "    </tr>\n",
       "    <tr>\n",
       "      <th>75022</th>\n",
       "      <td>vmanc.4l3.b.b2</td>\n",
       "      <td>19996.692377</td>\n",
       "      <td>-0.000002</td>\n",
       "      <td>-3.868092e-08</td>\n",
       "      <td>3.182039e-07</td>\n",
       "      <td>2.889257e-09</td>\n",
       "      <td>-0.000016</td>\n",
       "      <td>-0.000005</td>\n",
       "      <td>-0.000005</td>\n",
       "      <td>[[10.492206204363885, -8.881784197001252e-16, ...</td>\n",
       "      <td>...</td>\n",
       "      <td>3.883417</td>\n",
       "      <td>4.801850</td>\n",
       "      <td>-24.935701</td>\n",
       "      <td>22.803291</td>\n",
       "      <td>25.236285</td>\n",
       "      <td>23.303387</td>\n",
       "      <td>1796.467340</td>\n",
       "      <td>32.30624</td>\n",
       "      <td>-557.720859</td>\n",
       "      <td>-4.771812</td>\n",
       "    </tr>\n",
       "    <tr>\n",
       "      <th>75023</th>\n",
       "      <td>drift_23639</td>\n",
       "      <td>19996.692377</td>\n",
       "      <td>-0.000002</td>\n",
       "      <td>-3.868092e-08</td>\n",
       "      <td>3.182039e-07</td>\n",
       "      <td>2.889257e-09</td>\n",
       "      <td>-0.000016</td>\n",
       "      <td>-0.000005</td>\n",
       "      <td>-0.000005</td>\n",
       "      <td>[[10.492206204363885, -8.881784197001252e-16, ...</td>\n",
       "      <td>...</td>\n",
       "      <td>3.883417</td>\n",
       "      <td>4.801850</td>\n",
       "      <td>-24.935701</td>\n",
       "      <td>22.803291</td>\n",
       "      <td>25.236285</td>\n",
       "      <td>23.303387</td>\n",
       "      <td>1796.467340</td>\n",
       "      <td>32.30624</td>\n",
       "      <td>-557.720859</td>\n",
       "      <td>-4.771812</td>\n",
       "    </tr>\n",
       "    <tr>\n",
       "      <th>75024</th>\n",
       "      <td>vvgsw.a4l3.a.b2_aper</td>\n",
       "      <td>19996.754877</td>\n",
       "      <td>-0.000002</td>\n",
       "      <td>-3.868092e-08</td>\n",
       "      <td>3.183845e-07</td>\n",
       "      <td>2.889257e-09</td>\n",
       "      <td>-0.000016</td>\n",
       "      <td>-0.000005</td>\n",
       "      <td>-0.000005</td>\n",
       "      <td>[[10.479342333457508, -4.440892098500626e-16, ...</td>\n",
       "      <td>...</td>\n",
       "      <td>3.914216</td>\n",
       "      <td>4.788108</td>\n",
       "      <td>-24.933346</td>\n",
       "      <td>22.804127</td>\n",
       "      <td>25.238717</td>\n",
       "      <td>23.301378</td>\n",
       "      <td>1798.485436</td>\n",
       "      <td>32.30624</td>\n",
       "      <td>-558.018934</td>\n",
       "      <td>-4.771812</td>\n",
       "    </tr>\n",
       "    <tr>\n",
       "      <th>75025</th>\n",
       "      <td>vvgsw.a4l3.a.b2</td>\n",
       "      <td>19996.754877</td>\n",
       "      <td>-0.000002</td>\n",
       "      <td>-3.868092e-08</td>\n",
       "      <td>3.183845e-07</td>\n",
       "      <td>2.889257e-09</td>\n",
       "      <td>-0.000016</td>\n",
       "      <td>-0.000005</td>\n",
       "      <td>-0.000005</td>\n",
       "      <td>[[10.479342333457508, -4.440892098500626e-16, ...</td>\n",
       "      <td>...</td>\n",
       "      <td>3.914216</td>\n",
       "      <td>4.788108</td>\n",
       "      <td>-24.933346</td>\n",
       "      <td>22.804127</td>\n",
       "      <td>25.238717</td>\n",
       "      <td>23.301378</td>\n",
       "      <td>1798.485436</td>\n",
       "      <td>32.30624</td>\n",
       "      <td>-558.018934</td>\n",
       "      <td>-4.771812</td>\n",
       "    </tr>\n",
       "    <tr>\n",
       "      <th>75026</th>\n",
       "      <td>drift_23640</td>\n",
       "      <td>19996.754877</td>\n",
       "      <td>-0.000002</td>\n",
       "      <td>-3.868092e-08</td>\n",
       "      <td>3.183845e-07</td>\n",
       "      <td>2.889257e-09</td>\n",
       "      <td>-0.000016</td>\n",
       "      <td>-0.000005</td>\n",
       "      <td>-0.000005</td>\n",
       "      <td>[[10.479342333457508, -4.440892098500626e-16, ...</td>\n",
       "      <td>...</td>\n",
       "      <td>3.914216</td>\n",
       "      <td>4.788108</td>\n",
       "      <td>-24.933346</td>\n",
       "      <td>22.804127</td>\n",
       "      <td>25.238717</td>\n",
       "      <td>23.301378</td>\n",
       "      <td>1798.485436</td>\n",
       "      <td>32.30624</td>\n",
       "      <td>-558.018934</td>\n",
       "      <td>-4.771812</td>\n",
       "    </tr>\n",
       "    <tr>\n",
       "      <th>75027</th>\n",
       "      <td>vcda.b4l3.b.b2_aper</td>\n",
       "      <td>19996.992377</td>\n",
       "      <td>-0.000002</td>\n",
       "      <td>-3.868092e-08</td>\n",
       "      <td>3.190707e-07</td>\n",
       "      <td>2.889257e-09</td>\n",
       "      <td>-0.000016</td>\n",
       "      <td>-0.000005</td>\n",
       "      <td>-0.000005</td>\n",
       "      <td>[[10.430490687774398, 0.0, 3.637822918144321e-...</td>\n",
       "      <td>...</td>\n",
       "      <td>4.031885</td>\n",
       "      <td>4.736057</td>\n",
       "      <td>-24.923951</td>\n",
       "      <td>22.807197</td>\n",
       "      <td>25.247959</td>\n",
       "      <td>23.293743</td>\n",
       "      <td>1806.154198</td>\n",
       "      <td>32.30624</td>\n",
       "      <td>-559.151618</td>\n",
       "      <td>-4.771812</td>\n",
       "    </tr>\n",
       "    <tr>\n",
       "      <th>75028</th>\n",
       "      <td>vcda.b4l3.b.b2</td>\n",
       "      <td>19996.992377</td>\n",
       "      <td>-0.000002</td>\n",
       "      <td>-3.868092e-08</td>\n",
       "      <td>3.190707e-07</td>\n",
       "      <td>2.889257e-09</td>\n",
       "      <td>-0.000016</td>\n",
       "      <td>-0.000005</td>\n",
       "      <td>-0.000005</td>\n",
       "      <td>[[10.430490687774398, 0.0, 3.637822918144321e-...</td>\n",
       "      <td>...</td>\n",
       "      <td>4.031885</td>\n",
       "      <td>4.736057</td>\n",
       "      <td>-24.923951</td>\n",
       "      <td>22.807197</td>\n",
       "      <td>25.247959</td>\n",
       "      <td>23.293743</td>\n",
       "      <td>1806.154198</td>\n",
       "      <td>32.30624</td>\n",
       "      <td>-559.151618</td>\n",
       "      <td>-4.771812</td>\n",
       "    </tr>\n",
       "    <tr>\n",
       "      <th>75029</th>\n",
       "      <td>vmanc.4l3.a.b2_aper</td>\n",
       "      <td>19996.992377</td>\n",
       "      <td>-0.000002</td>\n",
       "      <td>-3.868092e-08</td>\n",
       "      <td>3.190707e-07</td>\n",
       "      <td>2.889257e-09</td>\n",
       "      <td>-0.000016</td>\n",
       "      <td>-0.000005</td>\n",
       "      <td>-0.000005</td>\n",
       "      <td>[[10.430490687774398, 0.0, 3.637822918144321e-...</td>\n",
       "      <td>...</td>\n",
       "      <td>4.031885</td>\n",
       "      <td>4.736057</td>\n",
       "      <td>-24.923951</td>\n",
       "      <td>22.807197</td>\n",
       "      <td>25.247959</td>\n",
       "      <td>23.293743</td>\n",
       "      <td>1806.154198</td>\n",
       "      <td>32.30624</td>\n",
       "      <td>-559.151618</td>\n",
       "      <td>-4.771812</td>\n",
       "    </tr>\n",
       "    <tr>\n",
       "      <th>75030</th>\n",
       "      <td>vmanc.4l3.a.b2</td>\n",
       "      <td>19996.992377</td>\n",
       "      <td>-0.000002</td>\n",
       "      <td>-3.868092e-08</td>\n",
       "      <td>3.190707e-07</td>\n",
       "      <td>2.889257e-09</td>\n",
       "      <td>-0.000016</td>\n",
       "      <td>-0.000005</td>\n",
       "      <td>-0.000005</td>\n",
       "      <td>[[10.430490687774398, 0.0, 3.637822918144321e-...</td>\n",
       "      <td>...</td>\n",
       "      <td>4.031885</td>\n",
       "      <td>4.736057</td>\n",
       "      <td>-24.923951</td>\n",
       "      <td>22.807197</td>\n",
       "      <td>25.247959</td>\n",
       "      <td>23.293743</td>\n",
       "      <td>1806.154198</td>\n",
       "      <td>32.30624</td>\n",
       "      <td>-559.151618</td>\n",
       "      <td>-4.771812</td>\n",
       "    </tr>\n",
       "    <tr>\n",
       "      <th>75031</th>\n",
       "      <td>drift_23641</td>\n",
       "      <td>19996.992377</td>\n",
       "      <td>-0.000002</td>\n",
       "      <td>-3.868092e-08</td>\n",
       "      <td>3.190707e-07</td>\n",
       "      <td>2.889257e-09</td>\n",
       "      <td>-0.000016</td>\n",
       "      <td>-0.000005</td>\n",
       "      <td>-0.000005</td>\n",
       "      <td>[[10.430490687774398, 0.0, 3.637822918144321e-...</td>\n",
       "      <td>...</td>\n",
       "      <td>4.031885</td>\n",
       "      <td>4.736057</td>\n",
       "      <td>-24.923951</td>\n",
       "      <td>22.807197</td>\n",
       "      <td>25.247959</td>\n",
       "      <td>23.293743</td>\n",
       "      <td>1806.154198</td>\n",
       "      <td>32.30624</td>\n",
       "      <td>-559.151618</td>\n",
       "      <td>-4.771812</td>\n",
       "    </tr>\n",
       "  </tbody>\n",
       "</table>\n",
       "<p>39 rows × 52 columns</p>\n",
       "</div>"
      ],
      "text/plain": [
       "                       name             s         x            px  \\\n",
       "74993   vamfb.4r3.b.b2_aper  19989.007377 -0.000002 -3.868092e-08   \n",
       "74994        vamfb.4r3.b.b2  19989.007377 -0.000002 -3.868092e-08   \n",
       "74995   vmaaf.4r3.b.b2_aper  19989.007377 -0.000002 -3.868092e-08   \n",
       "74996        vmaaf.4r3.b.b2  19989.007377 -0.000002 -3.868092e-08   \n",
       "74997    vcda.4r3.a.b2_aper  19989.007377 -0.000002 -3.868092e-08   \n",
       "74998         vcda.4r3.a.b2  19989.007377 -0.000002 -3.868092e-08   \n",
       "74999           drift_23633  19989.007377 -0.000002 -3.868092e-08   \n",
       "75000   vcda.a4l3.b.b2_aper  19989.307377 -0.000002 -3.868092e-08   \n",
       "75001        vcda.a4l3.b.b2  19989.307377 -0.000002 -3.868092e-08   \n",
       "75002   vamfb.4r3.a.b2_aper  19989.307377 -0.000002 -3.868092e-08   \n",
       "75003        vamfb.4r3.a.b2  19989.307377 -0.000002 -3.868092e-08   \n",
       "75004   vmaaf.4r3.a.b2_aper  19989.307377 -0.000002 -3.868092e-08   \n",
       "75005        vmaaf.4r3.a.b2  19989.307377 -0.000002 -3.868092e-08   \n",
       "75006           drift_23634  19989.307377 -0.000002 -3.868092e-08   \n",
       "75007              ip3_aper  19994.162377 -0.000002 -3.868092e-08   \n",
       "75008                   ip3  19994.162377 -0.000002 -3.868092e-08   \n",
       "75009           drift_23635  19994.162377 -0.000002 -3.868092e-08   \n",
       "75010   vmand.4l3.b.b2_aper  19996.307377 -0.000002 -3.868092e-08   \n",
       "75011        vmand.4l3.b.b2  19996.307377 -0.000002 -3.868092e-08   \n",
       "75012   vcda.a4l3.a.b2_aper  19996.307377 -0.000002 -3.868092e-08   \n",
       "75013        vcda.a4l3.a.b2  19996.307377 -0.000002 -3.868092e-08   \n",
       "75014           drift_23636  19996.307377 -0.000002 -3.868092e-08   \n",
       "75015   vmand.4l3.a.b2_aper  19996.607377 -0.000002 -3.868092e-08   \n",
       "75016        vmand.4l3.a.b2  19996.607377 -0.000002 -3.868092e-08   \n",
       "75017           drift_23637  19996.607377 -0.000002 -3.868092e-08   \n",
       "75018  vvgsw.a4l3.b.b2_aper  19996.669877 -0.000002 -3.868092e-08   \n",
       "75019       vvgsw.a4l3.b.b2  19996.669877 -0.000002 -3.868092e-08   \n",
       "75020           drift_23638  19996.669877 -0.000002 -3.868092e-08   \n",
       "75021   vmanc.4l3.b.b2_aper  19996.692377 -0.000002 -3.868092e-08   \n",
       "75022        vmanc.4l3.b.b2  19996.692377 -0.000002 -3.868092e-08   \n",
       "75023           drift_23639  19996.692377 -0.000002 -3.868092e-08   \n",
       "75024  vvgsw.a4l3.a.b2_aper  19996.754877 -0.000002 -3.868092e-08   \n",
       "75025       vvgsw.a4l3.a.b2  19996.754877 -0.000002 -3.868092e-08   \n",
       "75026           drift_23640  19996.754877 -0.000002 -3.868092e-08   \n",
       "75027   vcda.b4l3.b.b2_aper  19996.992377 -0.000002 -3.868092e-08   \n",
       "75028        vcda.b4l3.b.b2  19996.992377 -0.000002 -3.868092e-08   \n",
       "75029   vmanc.4l3.a.b2_aper  19996.992377 -0.000002 -3.868092e-08   \n",
       "75030        vmanc.4l3.a.b2  19996.992377 -0.000002 -3.868092e-08   \n",
       "75031           drift_23641  19996.992377 -0.000002 -3.868092e-08   \n",
       "\n",
       "                  y            py      zeta     delta      ptau  \\\n",
       "74993  2.959998e-07  2.889257e-09 -0.000016 -0.000005 -0.000005   \n",
       "74994  2.959998e-07  2.889257e-09 -0.000016 -0.000005 -0.000005   \n",
       "74995  2.959998e-07  2.889257e-09 -0.000016 -0.000005 -0.000005   \n",
       "74996  2.959998e-07  2.889257e-09 -0.000016 -0.000005 -0.000005   \n",
       "74997  2.959998e-07  2.889257e-09 -0.000016 -0.000005 -0.000005   \n",
       "74998  2.959998e-07  2.889257e-09 -0.000016 -0.000005 -0.000005   \n",
       "74999  2.959998e-07  2.889257e-09 -0.000016 -0.000005 -0.000005   \n",
       "75000  2.968666e-07  2.889257e-09 -0.000016 -0.000005 -0.000005   \n",
       "75001  2.968666e-07  2.889257e-09 -0.000016 -0.000005 -0.000005   \n",
       "75002  2.968666e-07  2.889257e-09 -0.000016 -0.000005 -0.000005   \n",
       "75003  2.968666e-07  2.889257e-09 -0.000016 -0.000005 -0.000005   \n",
       "75004  2.968666e-07  2.889257e-09 -0.000016 -0.000005 -0.000005   \n",
       "75005  2.968666e-07  2.889257e-09 -0.000016 -0.000005 -0.000005   \n",
       "75006  2.968666e-07  2.889257e-09 -0.000016 -0.000005 -0.000005   \n",
       "75007  3.108940e-07  2.889257e-09 -0.000016 -0.000005 -0.000005   \n",
       "75008  3.108940e-07  2.889257e-09 -0.000016 -0.000005 -0.000005   \n",
       "75009  3.108940e-07  2.889257e-09 -0.000016 -0.000005 -0.000005   \n",
       "75010  3.170915e-07  2.889257e-09 -0.000016 -0.000005 -0.000005   \n",
       "75011  3.170915e-07  2.889257e-09 -0.000016 -0.000005 -0.000005   \n",
       "75012  3.170915e-07  2.889257e-09 -0.000016 -0.000005 -0.000005   \n",
       "75013  3.170915e-07  2.889257e-09 -0.000016 -0.000005 -0.000005   \n",
       "75014  3.170915e-07  2.889257e-09 -0.000016 -0.000005 -0.000005   \n",
       "75015  3.179583e-07  2.889257e-09 -0.000016 -0.000005 -0.000005   \n",
       "75016  3.179583e-07  2.889257e-09 -0.000016 -0.000005 -0.000005   \n",
       "75017  3.179583e-07  2.889257e-09 -0.000016 -0.000005 -0.000005   \n",
       "75018  3.181389e-07  2.889257e-09 -0.000016 -0.000005 -0.000005   \n",
       "75019  3.181389e-07  2.889257e-09 -0.000016 -0.000005 -0.000005   \n",
       "75020  3.181389e-07  2.889257e-09 -0.000016 -0.000005 -0.000005   \n",
       "75021  3.182039e-07  2.889257e-09 -0.000016 -0.000005 -0.000005   \n",
       "75022  3.182039e-07  2.889257e-09 -0.000016 -0.000005 -0.000005   \n",
       "75023  3.182039e-07  2.889257e-09 -0.000016 -0.000005 -0.000005   \n",
       "75024  3.183845e-07  2.889257e-09 -0.000016 -0.000005 -0.000005   \n",
       "75025  3.183845e-07  2.889257e-09 -0.000016 -0.000005 -0.000005   \n",
       "75026  3.183845e-07  2.889257e-09 -0.000016 -0.000005 -0.000005   \n",
       "75027  3.190707e-07  2.889257e-09 -0.000016 -0.000005 -0.000005   \n",
       "75028  3.190707e-07  2.889257e-09 -0.000016 -0.000005 -0.000005   \n",
       "75029  3.190707e-07  2.889257e-09 -0.000016 -0.000005 -0.000005   \n",
       "75030  3.190707e-07  2.889257e-09 -0.000016 -0.000005 -0.000005   \n",
       "75031  3.190707e-07  2.889257e-09 -0.000016 -0.000005 -0.000005   \n",
       "\n",
       "                                                W_matrix  ...  bx_chrom  \\\n",
       "74993  [[12.096351829063897, -4.440892098500626e-16, ...  ...  0.572490   \n",
       "74994  [[12.096351829063897, -4.440892098500626e-16, ...  ...  0.572490   \n",
       "74995  [[12.096351829063897, -4.440892098500626e-16, ...  ...  0.572490   \n",
       "74996  [[12.096351829063897, -4.440892098500626e-16, ...  ...  0.572490   \n",
       "74997  [[12.096351829063897, -4.440892098500626e-16, ...  ...  0.572490   \n",
       "74998  [[12.096351829063897, -4.440892098500626e-16, ...  ...  0.572490   \n",
       "74999  [[12.096351829063897, -4.440892098500626e-16, ...  ...  0.572490   \n",
       "75000  [[12.033004660538461, 0.0, 4.3201949271901314e...  ...  0.685776   \n",
       "75001  [[12.033004660538461, 0.0, 4.3201949271901314e...  ...  0.685776   \n",
       "75002  [[12.033004660538461, 0.0, 4.3201949271901314e...  ...  0.685776   \n",
       "75003  [[12.033004660538461, 0.0, 4.3201949271901314e...  ...  0.685776   \n",
       "75004  [[12.033004660538461, 0.0, 4.3201949271901314e...  ...  0.685776   \n",
       "75005  [[12.033004660538461, 0.0, 4.3201949271901314e...  ...  0.685776   \n",
       "75006  [[12.033004660538461, 0.0, 4.3201949271901314e...  ...  0.685776   \n",
       "75007  [[11.015643744800963, 4.440892098500626e-16, 3...  ...  2.692860   \n",
       "75008  [[11.015643744800963, 4.440892098500626e-16, 3...  ...  2.692860   \n",
       "75009  [[11.015643744800963, 4.440892098500626e-16, 3...  ...  2.692860   \n",
       "75010  [[10.57152176157698, -4.440892098500626e-16, 3...  ...  3.695215   \n",
       "75011  [[10.57152176157698, -4.440892098500626e-16, 3...  ...  3.695215   \n",
       "75012  [[10.57152176157698, -4.440892098500626e-16, 3...  ...  3.695215   \n",
       "75013  [[10.57152176157698, -4.440892098500626e-16, 3...  ...  3.695215   \n",
       "75014  [[10.57152176157698, -4.440892098500626e-16, 3...  ...  3.695215   \n",
       "75015  [[10.509706493721414, 4.440892098500626e-16, 3...  ...  3.841642   \n",
       "75016  [[10.509706493721414, 4.440892098500626e-16, 3...  ...  3.841642   \n",
       "75017  [[10.509706493721414, 4.440892098500626e-16, 3...  ...  3.841642   \n",
       "75018  [[10.49683802643526, -8.881784197001252e-16, 3...  ...  3.872347   \n",
       "75019  [[10.49683802643526, -8.881784197001252e-16, 3...  ...  3.872347   \n",
       "75020  [[10.49683802643526, -8.881784197001252e-16, 3...  ...  3.872347   \n",
       "75021  [[10.492206204363885, -8.881784197001252e-16, ...  ...  3.883417   \n",
       "75022  [[10.492206204363885, -8.881784197001252e-16, ...  ...  3.883417   \n",
       "75023  [[10.492206204363885, -8.881784197001252e-16, ...  ...  3.883417   \n",
       "75024  [[10.479342333457508, -4.440892098500626e-16, ...  ...  3.914216   \n",
       "75025  [[10.479342333457508, -4.440892098500626e-16, ...  ...  3.914216   \n",
       "75026  [[10.479342333457508, -4.440892098500626e-16, ...  ...  3.914216   \n",
       "75027  [[10.430490687774398, 0.0, 3.637822918144321e-...  ...  4.031885   \n",
       "75028  [[10.430490687774398, 0.0, 3.637822918144321e-...  ...  4.031885   \n",
       "75029  [[10.430490687774398, 0.0, 3.637822918144321e-...  ...  4.031885   \n",
       "75030  [[10.430490687774398, 0.0, 3.637822918144321e-...  ...  4.031885   \n",
       "75031  [[10.430490687774398, 0.0, 3.637822918144321e-...  ...  4.031885   \n",
       "\n",
       "       by_chrom   ax_chrom   ay_chrom   wx_chrom   wy_chrom          ddx  \\\n",
       "74993  6.643218 -24.932067  22.594439  24.938639  23.550818  1548.322329   \n",
       "74994  6.643218 -24.932067  22.594439  24.938639  23.550818  1548.322329   \n",
       "74995  6.643218 -24.932067  22.594439  24.938639  23.550818  1548.322329   \n",
       "74996  6.643218 -24.932067  22.594439  24.938639  23.550818  1548.322329   \n",
       "74997  6.643218 -24.932067  22.594439  24.938639  23.550818  1548.322329   \n",
       "74998  6.643218 -24.932067  22.594439  24.938639  23.550818  1548.322329   \n",
       "74999  6.643218 -24.932067  22.594439  24.938639  23.550818  1548.322329   \n",
       "75000  6.565310 -24.940781  22.607127  24.950208  23.541145  1558.009187   \n",
       "75001  6.565310 -24.940781  22.607127  24.950208  23.541145  1558.009187   \n",
       "75002  6.565310 -24.940781  22.607127  24.950208  23.541145  1558.009187   \n",
       "75003  6.565310 -24.940781  22.607127  24.950208  23.541145  1558.009187   \n",
       "75004  6.565310 -24.940781  22.607127  24.950208  23.541145  1558.009187   \n",
       "75005  6.565310 -24.940781  22.607127  24.950208  23.541145  1558.009187   \n",
       "75006  6.565310 -24.940781  22.607127  24.950208  23.541145  1558.009187   \n",
       "75007  5.374067 -24.993350  22.758877  25.138000  23.384762  1714.774838   \n",
       "75008  5.374067 -24.993350  22.758877  25.138000  23.384762  1714.774838   \n",
       "75009  5.374067 -24.993350  22.758877  25.138000  23.384762  1714.774838   \n",
       "75010  4.886912 -24.949146  22.797872  25.221310  23.315765  1784.035873   \n",
       "75011  4.886912 -24.949146  22.797872  25.221310  23.315765  1784.035873   \n",
       "75012  4.886912 -24.949146  22.797872  25.221310  23.315765  1784.035873   \n",
       "75013  4.886912 -24.949146  22.797872  25.221310  23.315765  1784.035873   \n",
       "75014  4.886912 -24.949146  22.797872  25.221310  23.315765  1784.035873   \n",
       "75015  4.820569 -24.938825  22.802134  25.232978  23.306120  1793.722731   \n",
       "75016  4.820569 -24.938825  22.802134  25.232978  23.306120  1793.722731   \n",
       "75017  4.820569 -24.938825  22.802134  25.232978  23.306120  1793.722731   \n",
       "75018  4.806802 -24.936536  22.802987  25.235410  23.304110  1795.740826   \n",
       "75019  4.806802 -24.936536  22.802987  25.235410  23.304110  1795.740826   \n",
       "75020  4.806802 -24.936536  22.802987  25.235410  23.304110  1795.740826   \n",
       "75021  4.801850 -24.935701  22.803291  25.236285  23.303387  1796.467340   \n",
       "75022  4.801850 -24.935701  22.803291  25.236285  23.303387  1796.467340   \n",
       "75023  4.801850 -24.935701  22.803291  25.236285  23.303387  1796.467340   \n",
       "75024  4.788108 -24.933346  22.804127  25.238717  23.301378  1798.485436   \n",
       "75025  4.788108 -24.933346  22.804127  25.238717  23.301378  1798.485436   \n",
       "75026  4.788108 -24.933346  22.804127  25.238717  23.301378  1798.485436   \n",
       "75027  4.736057 -24.923951  22.807197  25.247959  23.293743  1806.154198   \n",
       "75028  4.736057 -24.923951  22.807197  25.247959  23.293743  1806.154198   \n",
       "75029  4.736057 -24.923951  22.807197  25.247959  23.293743  1806.154198   \n",
       "75030  4.736057 -24.923951  22.807197  25.247959  23.293743  1806.154198   \n",
       "75031  4.736057 -24.923951  22.807197  25.247959  23.293743  1806.154198   \n",
       "\n",
       "           ddpx         ddy      ddpy  \n",
       "74993  32.30624 -521.069578 -4.771812  \n",
       "74994  32.30624 -521.069578 -4.771812  \n",
       "74995  32.30624 -521.069578 -4.771812  \n",
       "74996  32.30624 -521.069578 -4.771812  \n",
       "74997  32.30624 -521.069578 -4.771812  \n",
       "74998  32.30624 -521.069578 -4.771812  \n",
       "74999  32.30624 -521.069578 -4.771812  \n",
       "75000  32.30624 -522.500337 -4.771812  \n",
       "75001  32.30624 -522.500337 -4.771812  \n",
       "75002  32.30624 -522.500337 -4.771812  \n",
       "75003  32.30624 -522.500337 -4.771812  \n",
       "75004  32.30624 -522.500337 -4.771812  \n",
       "75005  32.30624 -522.500337 -4.771812  \n",
       "75006  32.30624 -522.500337 -4.771812  \n",
       "75007  32.30624 -545.654790 -4.771812  \n",
       "75008  32.30624 -545.654790 -4.771812  \n",
       "75009  32.30624 -545.654790 -4.771812  \n",
       "75010  32.30624 -555.884718 -4.771812  \n",
       "75011  32.30624 -555.884718 -4.771812  \n",
       "75012  32.30624 -555.884718 -4.771812  \n",
       "75013  32.30624 -555.884718 -4.771812  \n",
       "75014  32.30624 -555.884718 -4.771812  \n",
       "75015  32.30624 -557.315477 -4.771812  \n",
       "75016  32.30624 -557.315477 -4.771812  \n",
       "75017  32.30624 -557.315477 -4.771812  \n",
       "75018  32.30624 -557.613552 -4.771812  \n",
       "75019  32.30624 -557.613552 -4.771812  \n",
       "75020  32.30624 -557.613552 -4.771812  \n",
       "75021  32.30624 -557.720859 -4.771812  \n",
       "75022  32.30624 -557.720859 -4.771812  \n",
       "75023  32.30624 -557.720859 -4.771812  \n",
       "75024  32.30624 -558.018934 -4.771812  \n",
       "75025  32.30624 -558.018934 -4.771812  \n",
       "75026  32.30624 -558.018934 -4.771812  \n",
       "75027  32.30624 -559.151618 -4.771812  \n",
       "75028  32.30624 -559.151618 -4.771812  \n",
       "75029  32.30624 -559.151618 -4.771812  \n",
       "75030  32.30624 -559.151618 -4.771812  \n",
       "75031  32.30624 -559.151618 -4.771812  \n",
       "\n",
       "[39 rows x 52 columns]"
      ]
     },
     "execution_count": 39,
     "metadata": {},
     "output_type": "execute_result"
    }
   ],
   "source": [
    "potato[potato.s.between(line.get_length()-6670,line.get_length()-6660)]"
   ]
  },
  {
   "cell_type": "code",
   "execution_count": 42,
   "id": "bdfbc815",
   "metadata": {
    "vscode": {
     "languageId": "python"
    }
   },
   "outputs": [
    {
     "data": {
      "text/plain": [
       "LimitRectEllipse(max_x=10, max_y=10, a_squ=100, b_squ=100, a_b_squ=1e+04, _sin_rot_s=-999, _cos_rot_s=-999, _shift_x=0, _shift_y=0, _shift_s=0)"
      ]
     },
     "execution_count": 42,
     "metadata": {},
     "output_type": "execute_result"
    }
   ],
   "source": [
    "line.element_dict['ip3_aper']"
   ]
  },
  {
   "cell_type": "code",
   "execution_count": null,
   "id": "e5723174",
   "metadata": {
    "vscode": {
     "languageId": "python"
    }
   },
   "outputs": [],
   "source": []
  },
  {
   "cell_type": "code",
   "execution_count": null,
   "id": "8d9e75c4",
   "metadata": {
    "vscode": {
     "languageId": "python"
    }
   },
   "outputs": [],
   "source": []
  },
  {
   "cell_type": "code",
   "execution_count": null,
   "id": "4de0a38c",
   "metadata": {
    "vscode": {
     "languageId": "python"
    }
   },
   "outputs": [],
   "source": []
  },
  {
   "cell_type": "code",
   "execution_count": 142,
   "id": "642c4a9b",
   "metadata": {
    "vscode": {
     "languageId": "python"
    }
   },
   "outputs": [
    {
     "name": "stdout",
     "output_type": "stream",
     "text": [
      "Angle:  0.00708803928609981\n",
      "sim:  6649.451846917354 \t calc:  6649.451910596358 \t diff:  -6.36790045973612e-05\n",
      "distance from centre of TCCP tank:  3.848153082646604 \t safe limit: 5.664 m\n"
     ]
    },
    {
     "data": {
      "image/png": "[encoded data removed]",
      "text/plain": [
       "<Figure size 1152x648 with 2 Axes>"
      ]
     },
     "metadata": {
      "needs_background": "light"
     },
     "output_type": "display_data"
    }
   ],
   "source": [
    "dc_inj_5  = get_blm_position_double_chann(450e9, 5)"
   ]
  },
  {
   "cell_type": "code",
   "execution_count": 26,
   "id": "05a278cf",
   "metadata": {
    "vscode": {
     "languageId": "python"
    }
   },
   "outputs": [
    {
     "data": {
      "text/plain": [
       "<xtrack.line.Line at 0x7ff0ee0403a0>"
      ]
     },
     "execution_count": 26,
     "metadata": {},
     "output_type": "execute_result"
    }
   ],
   "source": [
    "line"
   ]
  },
  {
   "cell_type": "code",
   "execution_count": 61,
   "id": "2ad177d4",
   "metadata": {
    "vscode": {
     "languageId": "python"
    }
   },
   "outputs": [
    {
     "name": "stdout",
     "output_type": "stream",
     "text": [
      "Angle:  0.007078021622559218\n",
      "sim:  6649.2314117468595 \t calc:  6649.231478927158 \t diff:  -6.718029817420756e-05\n",
      "distance from centre of TCCP tank:  4.0685882531406605 \t safe limit: 5.709 m\n"
     ]
    },
    {
     "data": {
      "image/png": "[encoded data removed]",
      "text/plain": [
       "<Figure size 720x504 with 2 Axes>"
      ]
     },
     "metadata": {
      "needs_background": "light"
     },
     "output_type": "display_data"
    }
   ],
   "source": [
    "_  = get_blm_position_double_chann(1000e9, 5, df_apertures, save= True)"
   ]
  },
  {
   "cell_type": "code",
   "execution_count": 145,
   "id": "54d2af7f",
   "metadata": {
    "vscode": {
     "languageId": "python"
    }
   },
   "outputs": [
    {
     "name": "stdout",
     "output_type": "stream",
     "text": [
      "Angle:  0.007069393439607299\n",
      "sim:  6649.04105084434 \t calc:  6649.04112103214 \t diff:  -7.018779979262035e-05\n",
      "distance from centre of TCCP tank:  4.258949155660048 \t safe limit: 5.664 m\n"
     ]
    },
    {
     "data": {
      "image/png": "[encoded data removed]",
      "text/plain": [
       "<Figure size 1152x648 with 2 Axes>"
      ]
     },
     "metadata": {
      "needs_background": "light"
     },
     "output_type": "display_data"
    }
   ],
   "source": [
    "_  = get_blm_position_double_chann(3000e9, 5)"
   ]
  },
  {
   "cell_type": "code",
   "execution_count": 143,
   "id": "1bcfd010",
   "metadata": {
    "vscode": {
     "languageId": "python"
    }
   },
   "outputs": [
    {
     "name": "stdout",
     "output_type": "stream",
     "text": [
      "Angle:  0.007066736765562056\n",
      "sim:  6648.982343876032 \t calc:  6648.982414988342 \t diff:  -7.111230934242485e-05\n",
      "distance from centre of TCCP tank:  4.317656123967936 \t safe limit: 5.664 m\n"
     ]
    },
    {
     "data": {
      "image/png": "[encoded data removed]",
      "text/plain": [
       "<Figure size 1152x648 with 2 Axes>"
      ]
     },
     "metadata": {
      "needs_background": "light"
     },
     "output_type": "display_data"
    }
   ],
   "source": [
    "dc_tev5_5  = get_blm_position_double_chann(5000e9, 5, save = False)"
   ]
  },
  {
   "cell_type": "code",
   "execution_count": 31,
   "id": "2cd68a79",
   "metadata": {
    "vscode": {
     "languageId": "python"
    }
   },
   "outputs": [
    {
     "data": {
      "text/plain": [
       "3.104419450958934"
      ]
     },
     "execution_count": 31,
     "metadata": {},
     "output_type": "execute_result"
    }
   ],
   "source": [
    "abs(tev5_5 - dc_inj_5) / 0.6"
   ]
  },
  {
   "cell_type": "code",
   "execution_count": 32,
   "id": "226382bb",
   "metadata": {
    "vscode": {
     "languageId": "python"
    }
   },
   "outputs": [
    {
     "data": {
      "text/plain": [
       "2.7753117507033194"
      ]
     },
     "execution_count": 32,
     "metadata": {},
     "output_type": "execute_result"
    }
   ],
   "source": [
    "abs(tev5_8 - dc_inj_5) / 0.6"
   ]
  },
  {
   "cell_type": "code",
   "execution_count": 86,
   "id": "712ee7df",
   "metadata": {
    "vscode": {
     "languageId": "python"
    }
   },
   "outputs": [
    {
     "data": {
      "text/plain": [
       "-4.900000000000546"
      ]
     },
     "execution_count": 86,
     "metadata": {},
     "output_type": "execute_result"
    }
   ],
   "source": [
    "6648.4 - 6653.3"
   ]
  },
  {
   "cell_type": "markdown",
   "id": "123ad638",
   "metadata": {},
   "source": [
    "#### Checks on entry "
   ]
  },
  {
   "cell_type": "code",
   "execution_count": null,
   "id": "bff5ab47",
   "metadata": {
    "vscode": {
     "languageId": "python"
    }
   },
   "outputs": [],
   "source": [
    "print(tw['bety', TCCP_name + '_entry'], tw['alfy', TCCP_name + '_entry'])\n",
    "print(tw['bety', TCCP_name], tw['alfy', TCCP_name])\n",
    "print(tw['bety', TCCP_name + '_exit'], tw['alfy', TCCP_name + '_exit'])\n"
   ]
  },
  {
   "cell_type": "code",
   "execution_count": null,
   "id": "17d9a04b",
   "metadata": {
    "vscode": {
     "languageId": "python"
    }
   },
   "outputs": [],
   "source": [
    "print(CRY_kick(5, 450e9, TCCP_name + '_entry', tw))\n",
    "print(CRY_kick(5, 450e9, TCCP_name, tw))\n",
    "print(CRY_kick(5, 450e9, TCCP_name + '_exit', tw))\n",
    "print(TCCP_bending_angle)"
   ]
  },
  {
   "cell_type": "code",
   "execution_count": null,
   "id": "23f230fc",
   "metadata": {
    "vscode": {
     "languageId": "python"
    }
   },
   "outputs": [],
   "source": [
    "print(get_position(CRY_kick(5, 450e9, TCCP_name + '_entry', tw)))\n",
    "print(get_position(CRY_kick(5, 450e9, TCCP_name, tw)))\n",
    "print(get_position(CRY_kick(5, 450e9, TCCP_name+'_exit' , tw)))\n"
   ]
  },
  {
   "cell_type": "code",
   "execution_count": null,
   "id": "948d3f89",
   "metadata": {
    "vscode": {
     "languageId": "python"
    }
   },
   "outputs": [],
   "source": []
  },
  {
   "cell_type": "code",
   "execution_count": null,
   "id": "36647c78",
   "metadata": {
    "vscode": {
     "languageId": "python"
    }
   },
   "outputs": [],
   "source": []
  },
  {
   "cell_type": "code",
   "execution_count": null,
   "id": "61d71e54",
   "metadata": {
    "vscode": {
     "languageId": "python"
    }
   },
   "outputs": [],
   "source": []
  },
  {
   "cell_type": "markdown",
   "id": "80e06050",
   "metadata": {},
   "source": [
    "#### Checks on geomrtry "
   ]
  },
  {
   "cell_type": "code",
   "execution_count": null,
   "id": "1d1e7faa",
   "metadata": {
    "vscode": {
     "languageId": "python"
    }
   },
   "outputs": [
    {
     "data": {
      "text/plain": [
       "506.00000000031287"
      ]
     },
     "execution_count": 14,
     "metadata": {},
     "output_type": "execute_result"
    }
   ],
   "source": [
    "(6653.5528 -6653.0468)*1e3"
   ]
  },
  {
   "cell_type": "code",
   "execution_count": null,
   "id": "586cdb86",
   "metadata": {
    "vscode": {
     "languageId": "python"
    }
   },
   "outputs": [
    {
     "data": {
      "text/plain": [
       "506.0"
      ]
     },
     "execution_count": 15,
     "metadata": {},
     "output_type": "execute_result"
    }
   ],
   "source": [
    "262.25+243.75"
   ]
  },
  {
   "cell_type": "code",
   "execution_count": null,
   "id": "b515274f",
   "metadata": {
    "vscode": {
     "languageId": "python"
    }
   },
   "outputs": [
    {
     "data": {
      "text/plain": [
       "6653.2543000000005"
      ]
     },
     "execution_count": 16,
     "metadata": {},
     "output_type": "execute_result"
    }
   ],
   "source": [
    "6653.0468 + 0.2075 "
   ]
  },
  {
   "cell_type": "code",
   "execution_count": null,
   "id": "c9231977",
   "metadata": {
    "vscode": {
     "languageId": "python"
    }
   },
   "outputs": [
    {
     "data": {
      "text/plain": [
       "6653.219300000001"
      ]
     },
     "execution_count": 29,
     "metadata": {},
     "output_type": "execute_result"
    }
   ],
   "source": [
    "6653.0468 + 0.2075 - TCCP_length/2"
   ]
  },
  {
   "cell_type": "code",
   "execution_count": null,
   "id": "b435b780",
   "metadata": {
    "vscode": {
     "languageId": "python"
    }
   },
   "outputs": [
    {
     "data": {
      "text/plain": [
       "6653.2893"
      ]
     },
     "execution_count": 19,
     "metadata": {},
     "output_type": "execute_result"
    }
   ],
   "source": [
    "6653.0468 + 0.2075 + TCCP_length/2"
   ]
  },
  {
   "cell_type": "code",
   "execution_count": null,
   "id": "0c828d6e",
   "metadata": {
    "vscode": {
     "languageId": "python"
    }
   },
   "outputs": [
    {
     "data": {
      "text/plain": [
       "37.50000000000001"
      ]
     },
     "execution_count": 22,
     "metadata": {},
     "output_type": "execute_result"
    }
   ],
   "source": [
    "(TCCP_length/2 + TARGET_length/2)*1e3"
   ]
  },
  {
   "cell_type": "code",
   "execution_count": null,
   "id": "7ee3c5c1",
   "metadata": {
    "vscode": {
     "languageId": "python"
    }
   },
   "outputs": [
    {
     "data": {
      "text/plain": [
       "36.25"
      ]
     },
     "execution_count": 21,
     "metadata": {},
     "output_type": "execute_result"
    }
   ],
   "source": [
    "262.25+243.75 - 207.5 - 262.25"
   ]
  },
  {
   "cell_type": "code",
   "execution_count": null,
   "id": "9e15ca49",
   "metadata": {
    "vscode": {
     "languageId": "python"
    }
   },
   "outputs": [
    {
     "data": {
      "text/plain": [
       "0.0024999999999999883"
      ]
     },
     "execution_count": 27,
     "metadata": {},
     "output_type": "execute_result"
    }
   ],
   "source": [
    "(36.25*1e-3 - TCCP_length/2)*2"
   ]
  },
  {
   "cell_type": "code",
   "execution_count": null,
   "id": "a2244e01",
   "metadata": {
    "vscode": {
     "languageId": "python"
    }
   },
   "outputs": [
    {
     "data": {
      "text/plain": [
       "0.005"
      ]
     },
     "execution_count": 28,
     "metadata": {},
     "output_type": "execute_result"
    }
   ],
   "source": [
    "TARGET_length"
   ]
  },
  {
   "cell_type": "code",
   "execution_count": null,
   "id": "1c0a1b26",
   "metadata": {
    "vscode": {
     "languageId": "python"
    }
   },
   "outputs": [
    {
     "data": {
      "text/plain": [
       "6653.29055"
      ]
     },
     "execution_count": 43,
     "metadata": {},
     "output_type": "execute_result"
    }
   ],
   "source": [
    "6653.0468 + (243.75)*1e-3"
   ]
  },
  {
   "cell_type": "code",
   "execution_count": null,
   "id": "f0841570",
   "metadata": {
    "vscode": {
     "languageId": "python"
    }
   },
   "outputs": [
    {
     "data": {
      "text/plain": [
       "6653.2543000000005"
      ]
     },
     "execution_count": 44,
     "metadata": {},
     "output_type": "execute_result"
    }
   ],
   "source": [
    "6653.0468 + (207.5)*1e-3"
   ]
  },
  {
   "cell_type": "code",
   "execution_count": null,
   "id": "61b9d858",
   "metadata": {
    "vscode": {
     "languageId": "python"
    }
   },
   "outputs": [],
   "source": []
  },
  {
   "cell_type": "code",
   "execution_count": 34,
   "id": "b25035e7",
   "metadata": {
    "vscode": {
     "languageId": "python"
    }
   },
   "outputs": [
    {
     "data": {
      "text/plain": [
       "0.40099999999983993"
      ]
     },
     "execution_count": 34,
     "metadata": {},
     "output_type": "execute_result"
    }
   ],
   "source": [
    "abs(6773.7208  - 6774.1218) "
   ]
  },
  {
   "cell_type": "code",
   "execution_count": 43,
   "id": "8573e280",
   "metadata": {
    "vscode": {
     "languageId": "python"
    }
   },
   "outputs": [
    {
     "data": {
      "text/plain": [
       "6773.8998"
      ]
     },
     "execution_count": 43,
     "metadata": {},
     "output_type": "execute_result"
    }
   ],
   "source": [
    "6773.7208 + 0.179 \n"
   ]
  },
  {
   "cell_type": "code",
   "execution_count": 37,
   "id": "c6fb39dc",
   "metadata": {
    "vscode": {
     "languageId": "python"
    }
   },
   "outputs": [
    {
     "data": {
      "text/plain": [
       "0.17919999999958236"
      ]
     },
     "execution_count": 37,
     "metadata": {},
     "output_type": "execute_result"
    }
   ],
   "source": [
    "6773.9 - 6773.7208 "
   ]
  },
  {
   "cell_type": "code",
   "execution_count": 42,
   "id": "4cfbdb39",
   "metadata": {
    "vscode": {
     "languageId": "python"
    }
   },
   "outputs": [
    {
     "data": {
      "text/plain": [
       "6773.9213"
      ]
     },
     "execution_count": 42,
     "metadata": {},
     "output_type": "execute_result"
    }
   ],
   "source": [
    "6773.7208 + 0.401/2"
   ]
  },
  {
   "cell_type": "code",
   "execution_count": 39,
   "id": "12e26b2c",
   "metadata": {
    "vscode": {
     "languageId": "python"
    }
   },
   "outputs": [
    {
     "data": {
      "text/plain": [
       "6773.8998"
      ]
     },
     "execution_count": 39,
     "metadata": {},
     "output_type": "execute_result"
    }
   ],
   "source": [
    "6774.1218 - 0.222"
   ]
  },
  {
   "cell_type": "code",
   "execution_count": 41,
   "id": "9ffab9e2",
   "metadata": {
    "vscode": {
     "languageId": "python"
    }
   },
   "outputs": [
    {
     "data": {
      "text/plain": [
       "6773.9213"
      ]
     },
     "execution_count": 41,
     "metadata": {},
     "output_type": "execute_result"
    }
   ],
   "source": [
    "6774.1218 - 0.401/2"
   ]
  },
  {
   "cell_type": "code",
   "execution_count": null,
   "id": "3b7bfe5c",
   "metadata": {
    "vscode": {
     "languageId": "python"
    }
   },
   "outputs": [],
   "source": []
  },
  {
   "cell_type": "code",
   "execution_count": 44,
   "id": "85a3b722",
   "metadata": {
    "vscode": {
     "languageId": "python"
    }
   },
   "outputs": [
    {
     "data": {
      "text/plain": [
       "0.5060000000003129"
      ]
     },
     "execution_count": 44,
     "metadata": {},
     "output_type": "execute_result"
    }
   ],
   "source": [
    "abs(6653.0468 - 6653.5528)"
   ]
  },
  {
   "cell_type": "code",
   "execution_count": 46,
   "id": "c7d590be",
   "metadata": {
    "vscode": {
     "languageId": "python"
    }
   },
   "outputs": [
    {
     "data": {
      "text/plain": [
       "0.506"
      ]
     },
     "execution_count": 46,
     "metadata": {},
     "output_type": "execute_result"
    }
   ],
   "source": [
    "0.24375+0.26225"
   ]
  },
  {
   "cell_type": "code",
   "execution_count": 49,
   "id": "d5dd7e44",
   "metadata": {
    "vscode": {
     "languageId": "python"
    }
   },
   "outputs": [
    {
     "data": {
      "text/plain": [
       "0.506"
      ]
     },
     "execution_count": 49,
     "metadata": {},
     "output_type": "execute_result"
    }
   ],
   "source": [
    "0.2075+0.03625+0.26225"
   ]
  },
  {
   "cell_type": "code",
   "execution_count": 47,
   "id": "1e22ce40",
   "metadata": {
    "vscode": {
     "languageId": "python"
    }
   },
   "outputs": [
    {
     "data": {
      "text/plain": [
       "6653.2998"
      ]
     },
     "execution_count": 47,
     "metadata": {},
     "output_type": "execute_result"
    }
   ],
   "source": [
    "6653.0468+0.506/2"
   ]
  },
  {
   "cell_type": "code",
   "execution_count": 54,
   "id": "7c64a400",
   "metadata": {
    "vscode": {
     "languageId": "python"
    }
   },
   "outputs": [
    {
     "data": {
      "text/plain": [
       "6653.2543000000005"
      ]
     },
     "execution_count": 54,
     "metadata": {},
     "output_type": "execute_result"
    }
   ],
   "source": [
    "#CENTRE tccp \n",
    "6653.0468 + 0.2075"
   ]
  },
  {
   "cell_type": "code",
   "execution_count": 55,
   "id": "36d174e5",
   "metadata": {
    "vscode": {
     "languageId": "python"
    }
   },
   "outputs": [
    {
     "data": {
      "text/plain": [
       "6653.2893"
      ]
     },
     "execution_count": 55,
     "metadata": {},
     "output_type": "execute_result"
    }
   ],
   "source": [
    "# EXIT TCCP\n",
    "6653.0468 + 0.2075 + TCCP_length/2"
   ]
  },
  {
   "cell_type": "code",
   "execution_count": 56,
   "id": "cd7bf40c",
   "metadata": {
    "vscode": {
     "languageId": "python"
    }
   },
   "outputs": [
    {
     "data": {
      "text/plain": [
       "6652.8043"
      ]
     },
     "execution_count": 56,
     "metadata": {},
     "output_type": "execute_result"
    }
   ],
   "source": [
    "#ENTRANCE TCCP\n",
    "6653.0468 - 0.2075 - TCCP_length/2"
   ]
  },
  {
   "cell_type": "code",
   "execution_count": 57,
   "id": "91e3b61c",
   "metadata": {
    "vscode": {
     "languageId": "python"
    }
   },
   "outputs": [
    {
     "data": {
      "text/plain": [
       "-0.045700000000579166"
      ]
     },
     "execution_count": 57,
     "metadata": {},
     "output_type": "execute_result"
    }
   ],
   "source": [
    "6653.2543 - 6653.3"
   ]
  },
  {
   "cell_type": "code",
   "execution_count": null,
   "id": "8d22adfe",
   "metadata": {
    "vscode": {
     "languageId": "python"
    }
   },
   "outputs": [],
   "source": []
  },
  {
   "cell_type": "code",
   "execution_count": null,
   "id": "550282c3",
   "metadata": {
    "vscode": {
     "languageId": "python"
    }
   },
   "outputs": [],
   "source": []
  },
  {
   "cell_type": "code",
   "execution_count": null,
   "id": "a500bf32",
   "metadata": {
    "vscode": {
     "languageId": "python"
    }
   },
   "outputs": [],
   "source": []
  },
  {
   "cell_type": "code",
   "execution_count": null,
   "id": "3e5783c1",
   "metadata": {
    "vscode": {
     "languageId": "python"
    }
   },
   "outputs": [],
   "source": []
  },
  {
   "cell_type": "markdown",
   "id": "6a4ab6db",
   "metadata": {},
   "source": [
    "limit"
   ]
  },
  {
   "cell_type": "code",
   "execution_count": 99,
   "id": "fd8e414e",
   "metadata": {
    "vscode": {
     "languageId": "python"
    }
   },
   "outputs": [
    {
     "data": {
      "text/plain": [
       "5.7090000000000005"
      ]
     },
     "execution_count": 99,
     "metadata": {},
     "output_type": "execute_result"
    }
   ],
   "source": [
    "(3916 + 2584 - 538 - (262.25+243.75)/2)*1e-3"
   ]
  },
  {
   "cell_type": "code",
   "execution_count": 94,
   "id": "747749ae",
   "metadata": {
    "vscode": {
     "languageId": "python"
    }
   },
   "outputs": [
    {
     "data": {
      "text/plain": [
       "0.506"
      ]
     },
     "execution_count": 94,
     "metadata": {},
     "output_type": "execute_result"
    }
   ],
   "source": [
    "round(abs(6653.0468 - 6653.5528), 5)"
   ]
  },
  {
   "cell_type": "code",
   "execution_count": 88,
   "id": "aaec53ff",
   "metadata": {
    "vscode": {
     "languageId": "python"
    }
   },
   "outputs": [
    {
     "data": {
      "text/plain": [
       "506.0"
      ]
     },
     "execution_count": 88,
     "metadata": {},
     "output_type": "execute_result"
    }
   ],
   "source": [
    "262.25+243.75"
   ]
  },
  {
   "cell_type": "code",
   "execution_count": 101,
   "id": "10b106bb",
   "metadata": {
    "vscode": {
     "languageId": "python"
    }
   },
   "outputs": [
    {
     "data": {
      "text/plain": [
       "6647.590999999999"
      ]
     },
     "execution_count": 101,
     "metadata": {},
     "output_type": "execute_result"
    }
   ],
   "source": [
    "6653.3+0.506/2+0.538 -2.584 - 3.916"
   ]
  },
  {
   "cell_type": "code",
   "execution_count": 102,
   "id": "9ef09bcd",
   "metadata": {
    "vscode": {
     "languageId": "python"
    }
   },
   "outputs": [
    {
     "data": {
      "text/plain": [
       "6647.591"
      ]
     },
     "execution_count": 102,
     "metadata": {},
     "output_type": "execute_result"
    }
   ],
   "source": [
    "6653.3- 5.709"
   ]
  },
  {
   "cell_type": "code",
   "execution_count": 103,
   "id": "0efdeabb",
   "metadata": {
    "vscode": {
     "languageId": "python"
    }
   },
   "outputs": [
    {
     "data": {
      "text/plain": [
       "-0.20899999999983265"
      ]
     },
     "execution_count": 103,
     "metadata": {},
     "output_type": "execute_result"
    }
   ],
   "source": [
    "6647.591 - 6647.8"
   ]
  },
  {
   "cell_type": "code",
   "execution_count": 105,
   "id": "6daaa456",
   "metadata": {
    "vscode": {
     "languageId": "python"
    }
   },
   "outputs": [
    {
     "data": {
      "text/plain": [
       "5.5"
      ]
     },
     "execution_count": 105,
     "metadata": {},
     "output_type": "execute_result"
    }
   ],
   "source": [
    "6653.3 - 6647.8"
   ]
  },
  {
   "cell_type": "code",
   "execution_count": 106,
   "id": "8ad71e09",
   "metadata": {
    "vscode": {
     "languageId": "python"
    }
   },
   "outputs": [
    {
     "data": {
      "text/plain": [
       "5.708999999999833"
      ]
     },
     "execution_count": 106,
     "metadata": {},
     "output_type": "execute_result"
    }
   ],
   "source": [
    "6653.3 -6647.591"
   ]
  },
  {
   "cell_type": "code",
   "execution_count": 122,
   "id": "fd995a8e",
   "metadata": {
    "vscode": {
     "languageId": "python"
    }
   },
   "outputs": [
    {
     "data": {
      "text/plain": [
       "6648.191000000001"
      ]
     },
     "execution_count": 122,
     "metadata": {},
     "output_type": "execute_result"
    }
   ],
   "source": [
    "6647.591 + 0.6"
   ]
  },
  {
   "cell_type": "code",
   "execution_count": 127,
   "id": "bf9cc1a4",
   "metadata": {
    "vscode": {
     "languageId": "python"
    }
   },
   "outputs": [
    {
     "data": {
      "text/plain": [
       "6648.7"
      ]
     },
     "execution_count": 127,
     "metadata": {},
     "output_type": "execute_result"
    }
   ],
   "source": [
    "6648.40 + 0.3"
   ]
  },
  {
   "cell_type": "code",
   "execution_count": null,
   "id": "68d18a6a",
   "metadata": {
    "vscode": {
     "languageId": "python"
    }
   },
   "outputs": [],
   "source": []
  }
 ],
 "metadata": {
  "@webio": {
   "lastCommId": null,
   "lastKernelId": null
  },
  "kernelspec": {
   "display_name": "LCG view 104 + venv",
   "language": "python-custom",
   "name": "lcg-view"
  },
  "language_info": {
   "codemirror_mode": {
    "name": "ipython",
    "version": 3
   },
   "file_extension": ".py",
   "mimetype": "text/x-python",
   "name": "python-custom",
   "nbconvert_exporter": "python",
   "pygments_lexer": "ipython3",
   "version": "3.9.12"
  }
 },
 "nbformat": 4,
 "nbformat_minor": 5
}
