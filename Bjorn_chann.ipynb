{
 "cells": [
  {
   "cell_type": "code",
   "execution_count": null,
   "metadata": {},
   "outputs": [],
   "source": []
  },
  {
   "cell_type": "code",
   "execution_count": null,
   "metadata": {},
   "outputs": [],
   "source": [
    "### halv wavelength depending on incoming x position within the channel for U238, 300 MeV/u, \n",
    "###  W crystal, dp = 1.58 Å, theta_c = 343 µrad,\n",
    "###  lamda ~= pi*dp/theta_c,\n",
    "###  so we need to scale this by dp and theta_c\n",
    "wavelength = np.array([[-0.784,0.841],[-0.768,0.746],[-0.749,0.673],[-0.735,0.649],[-0.703,0.63],[-0.68,0.638],\n",
    "                       [-0.652,0.655],[-0.634,0.676],[-0.606,0.695],[-0.578,0.732],[-0.536,0.78],[-0.495,0.803],\n",
    "                       [-0.444,0.826],[-0.375,0.851],[-0.324,0.88],[-0.268,0.913],[-0.222,0.947],[-0.19,0.97],\n",
    "                       [-0.166,0.991],[-0.111,0.977],[-0.069,0.965],[0,0.961],[0.069,0.964],[0.12,0.976],[0.171,0.991],\n",
    "                       [0.217,0.961],[0.264,0.925],[0.314,0.895],[0.379,0.859],[0.449,0.827],[0.509,0.8],[0.541,0.784],\n",
    "                       [0.573,0.748],[0.61,0.706],[0.647,0.667],[0.684,0.639],[0.712,0.63],[0.735,0.642],[0.763,0.671],\n",
    "                       [0.772,0.714],[0.782,0.762],[0.793,0.838]])\n",
    "\n",
    "dp_Si = 1.92e-10\n",
    "dp_W = 1.58e-10\n",
    "theta_c_W = 343e-6\n",
    "theta_c_Si = XXX\n",
    "wavelength2 = wavelength.copy()\n",
    "t1 = wavelength2[:21,0]*1/np.abs(wavelength2[0][0])\n",
    "t2 = wavelength2[21:,0]*1/np.abs(wavelength2[-1][0])\n",
    "t0 = np.append(t1,t2)\n",
    "wavelength2[:,1] = wavelength2[:,1]*2*(dp_Si/dp_W)*(theta_c_W/theta_c_Si) ## scale to our crystal, and lambda/2 -> lambda\n",
    "wavelength2[:,0] = t0\n",
    "\n",
    "lambdaFit2=np.polyfit(wavelength2[:,0],wavelength2[:,1],30)\n",
    "def lambda(func,xx):\n",
    "    yy = np.zeros(len(xx))\n",
    "    for i in np.arange(len(func)):\n",
    "        yy += func[i]*xx**(len(func)-i-1)\n",
    "    return yy    \n",
    "\n",
    "######\n",
    "\n",
    "x_in = np.random.uniform(-1,1,1)\n",
    "xp_in = xp0/theta_c_Si\n",
    "\n",
    "## check if accepted for channeling:\n",
    "xp**2/(1-x**2)<1\n",
    "\n",
    "ph_in = np.arctan2(xp_in,x_in)\n",
    "A = np.sqrt(x**2+xp**2)\n",
    "\n",
    "phAdv = 1/lambda(lambdaFit2,A)\n",
    "x_out  = A*np.sin(ph_in + lcry*phAdv)*dp_Si\n",
    "xp_out = A*np.cos(ph_in + lcry*phAdv)*theta_c_Si   \n",
    "\n",
    "x1  = x_out + x0 + lcry*theta_bend*0.5 ### NOTE crosscheck this\n",
    "xp1 = xp_out + theta_bend   "
   ]
  },
  {
   "cell_type": "code",
   "execution_count": 4,
   "metadata": {},
   "outputs": [
    {
     "data": {
      "text/plain": [
       "1.5470156635390909e-06"
      ]
     },
     "execution_count": 4,
     "metadata": {},
     "output_type": "execute_result"
    }
   ],
   "source": [
    "import numpy as np\n",
    "\n",
    "np.sqrt(2 * 21.34 / (6.8e12)) * (1 - 15.3 / 40)"
   ]
  },
  {
   "cell_type": "code",
   "execution_count": 3,
   "metadata": {},
   "outputs": [
    {
     "data": {
      "text/plain": [
       "15.295220243673853"
      ]
     },
     "execution_count": 3,
     "metadata": {},
     "output_type": "execute_result"
    }
   ],
   "source": [
    "6.8e12 * 1.92e-10 / (4 * 21.34)"
   ]
  },
  {
   "cell_type": "code",
   "execution_count": 12,
   "metadata": {},
   "outputs": [],
   "source": [
    "wavelength = np.array([[-0.784,0.841],[-0.768,0.746],[-0.749,0.673],[-0.735,0.649],[-0.703,0.63],[-0.68,0.638],\n",
    "                        [-0.652,0.655],[-0.634,0.676],[-0.606,0.695],[-0.578,0.732],[-0.536,0.78],[-0.495,0.803],\n",
    "                        [-0.444,0.826],[-0.375,0.851],[-0.324,0.88],[-0.268,0.913],[-0.222,0.947],[-0.19,0.97],\n",
    "                [-0.166,0.991],[-0.111,0.977],[-0.069,0.965],[0,0.961],[0.069,0.964],[0.12,0.976],[0.171,0.991],\n",
    "                [0.217,0.961],[0.264,0.925],[0.314,0.895],[0.379,0.859],[0.449,0.827],[0.509,0.8],[0.541,0.784],\n",
    "                [0.573,0.748],[0.61,0.706],[0.647,0.667],[0.684,0.639],[0.712,0.63],[0.735,0.642],[0.763,0.671],\n",
    "                [0.772,0.714],[0.782,0.762],[0.793,0.838]])\n",
    "dp_Si = 1.92e-10\n",
    "dp_W = 1.58e-10\n",
    "theta_c_W = 343e-6\n",
    "wavelength2 = wavelength.copy()\n",
    "t1 = wavelength2[:21,0]*1/np.abs(wavelength2[0][0])\n",
    "t2 = wavelength2[21:,0]*1/np.abs(wavelength2[-1][0])\n",
    "t0 = np.append(t1,t2)\n",
    "wavelength2[:,1] = wavelength2[:,1]*2*(dp_Si/dp_W)*(theta_c_W/theta_c_Si) ## scale to our crystal, and lambda/2 -> lambda\n",
    "wavelength2[:,0] = t0\n",
    "\n",
    "lambdaFit2=np.polyfit(wavelength2[:,0],wavelength2[:,1],30)"
   ]
  },
  {
   "cell_type": "code",
   "execution_count": 13,
   "metadata": {},
   "outputs": [
    {
     "name": "stdout",
     "output_type": "stream",
     "text": [
      "[-5.66734883e+08  2.02237097e+08  4.29257341e+09 -1.44838969e+09\n",
      " -1.47101704e+10  4.65208284e+09  3.01537518e+10 -8.84753122e+09\n",
      " -4.11796632e+10  1.10796563e+10  3.94837907e+10 -9.61059260e+09\n",
      " -2.72788933e+10  5.91354082e+09  1.37099061e+10 -2.59922064e+09\n",
      " -4.99490333e+09  8.10715536e+08  1.29755956e+09 -1.75807695e+08\n",
      " -2.32511995e+08  2.55142749e+07  2.70593013e+07 -2.31940267e+06\n",
      " -1.81424346e+06  1.16788624e+05  5.05093581e+04 -2.45142548e+03\n",
      "  4.84990642e+00  1.00053261e+01  5.33681661e+02]\n"
     ]
    }
   ],
   "source": [
    "print(lambdaFit2)"
   ]
  },
  {
   "cell_type": "code",
   "execution_count": null,
   "metadata": {},
   "outputs": [],
   "source": []
  }
 ],
 "metadata": {
  "kernelspec": {
   "display_name": "venv_xsuite",
   "language": "python",
   "name": "python3"
  },
  "language_info": {
   "codemirror_mode": {
    "name": "ipython",
    "version": 3
   },
   "file_extension": ".py",
   "mimetype": "text/x-python",
   "name": "python",
   "nbconvert_exporter": "python",
   "pygments_lexer": "ipython3",
   "version": "3.9.12"
  }
 },
 "nbformat": 4,
 "nbformat_minor": 2
}
