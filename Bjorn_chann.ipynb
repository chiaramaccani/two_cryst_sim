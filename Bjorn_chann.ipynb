{
 "cells": [
  {
   "cell_type": "code",
   "execution_count": null,
   "metadata": {},
   "outputs": [],
   "source": []
  },
  {
   "cell_type": "code",
   "execution_count": null,
   "metadata": {},
   "outputs": [],
   "source": [
    "### halv wavelength depending on incoming x position within the channel for U238, 300 MeV/u, \n",
    "###  W crystal, dp = 1.58 Å, theta_c = 343 µrad,\n",
    "###  lamda ~= pi*dp/theta_c,\n",
    "###  so we need to scale this by dp and theta_c\n",
    "wavelength = np.array([[-0.784,0.841],[-0.768,0.746],[-0.749,0.673],[-0.735,0.649],[-0.703,0.63],[-0.68,0.638],\n",
    "                       [-0.652,0.655],[-0.634,0.676],[-0.606,0.695],[-0.578,0.732],[-0.536,0.78],[-0.495,0.803],\n",
    "                       [-0.444,0.826],[-0.375,0.851],[-0.324,0.88],[-0.268,0.913],[-0.222,0.947],[-0.19,0.97],\n",
    "                       [-0.166,0.991],[-0.111,0.977],[-0.069,0.965],[0,0.961],[0.069,0.964],[0.12,0.976],[0.171,0.991],\n",
    "                       [0.217,0.961],[0.264,0.925],[0.314,0.895],[0.379,0.859],[0.449,0.827],[0.509,0.8],[0.541,0.784],\n",
    "                       [0.573,0.748],[0.61,0.706],[0.647,0.667],[0.684,0.639],[0.712,0.63],[0.735,0.642],[0.763,0.671],\n",
    "                       [0.772,0.714],[0.782,0.762],[0.793,0.838]])\n",
    "\n",
    "dp_Si = 1.92e-10\n",
    "dp_W = 1.58e-10\n",
    "theta_c_W = 343e-6\n",
    "theta_c_Si = XXX\n",
    "wavelength2 = wavelength.copy()\n",
    "t1 = wavelength2[:21,0]*1/np.abs(wavelength2[0][0])\n",
    "t2 = wavelength2[21:,0]*1/np.abs(wavelength2[-1][0])\n",
    "t0 = np.append(t1,t2)\n",
    "wavelength2[:,1] = wavelength2[:,1]*2*(dp_Si/dp_W)*(theta_c_W/theta_c_Si) ## scale to our crystal, and lambda/2 -> lambda\n",
    "wavelength2[:,0] = t0\n",
    "\n",
    "lambdaFit2=np.polyfit(wavelength2[:,0],wavelength2[:,1],30)\n",
    "def lambda(func,xx):\n",
    "    yy = np.zeros(len(xx))\n",
    "    for i in np.arange(len(func)):\n",
    "        yy += func[i]*xx**(len(func)-i-1)\n",
    "    return yy    \n",
    "\n",
    "######\n",
    "\n",
    "x_in = np.random.uniform(-1,1,1)\n",
    "xp_in = xp0/theta_c_Si\n",
    "\n",
    "## check if accepted for channeling:\n",
    "xp**2/(1-x**2)<1\n",
    "\n",
    "ph_in = np.arctan2(xp_in,x_in)\n",
    "A = np.sqrt(x**2+xp**2)\n",
    "\n",
    "phAdv = 1/lambda(lambdaFit2,A)\n",
    "x_out  = A*np.sin(ph_in + lcry*phAdv)*dp_Si\n",
    "xp_out = A*np.cos(ph_in + lcry*phAdv)*theta_c_Si   \n",
    "\n",
    "x1  = x_out + x0 + lcry*theta_bend*0.5 ### NOTE crosscheck this\n",
    "xp1 = xp_out + theta_bend   "
   ]
  }
 ],
 "metadata": {
  "language_info": {
   "name": "python"
  }
 },
 "nbformat": 4,
 "nbformat_minor": 2
}
