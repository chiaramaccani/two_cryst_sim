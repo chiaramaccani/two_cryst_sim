{
 "cells": [
  {
   "cell_type": "code",
   "execution_count": 1,
   "id": "0f3f3668",
   "metadata": {},
   "outputs": [],
   "source": [
    "\"\"\"%load_ext autoreload\n",
    "%autoreload 2\n",
    "%load_ext wurlitzer\n",
    "\"\"\"\n",
    "import json\n",
    "import numpy as np\n",
    "import pandas as pd\n",
    "from pathlib import Path\n",
    "import matplotlib.pyplot as plt\n",
    "import xobjects as xo\n",
    "import xpart as xp\n",
    "import xtrack as xt\n",
    "import xcoll as xc"
   ]
  },
  {
   "cell_type": "code",
   "execution_count": 2,
   "id": "ce8d5694",
   "metadata": {},
   "outputs": [
    {
     "data": {
      "application/vnd.jupyter.widget-view+json": {
       "model_id": "08d5348caeff432f82559a599229a1c6",
       "version_major": 2,
       "version_minor": 0
      },
      "text/plain": [
       "Loading line from dict:   0%|          | 0/175585 [00:00<?, ?it/s]"
      ]
     },
     "metadata": {},
     "output_type": "display_data"
    },
    {
     "name": "stdout",
     "output_type": "stream",
     "text": [
      "Done loading line from dict.           \n"
     ]
    }
   ],
   "source": [
    "context = xo.ContextCpu()\n",
    "# context = xo.ContextCupy()\n",
    "# context = xo.ContextPyopencl()\n",
    "\n",
    "# On a modern CPU, we get ~5000 particle*turns/s\n",
    "# So this script should take around half an hour\n",
    "beam          =  1\n",
    "plane         = 'V'\n",
    "\n",
    "num_turns     = 20\n",
    "num_particles = 20000\n",
    "engine        = 'everest'\n",
    "\n",
    "path_in  = Path(\"/eos/project-c/collimation-team/machine_configurations/LHC_run3/2024\")\n",
    "\n",
    "# Load from json\n",
    "line = xt.Line.from_json(path_in / 'xsuite' / f'levelling.20_b{beam}.json')"
   ]
  },
  {
   "cell_type": "code",
   "execution_count": null,
   "id": "6ee69975",
   "metadata": {},
   "outputs": [],
   "source": []
  },
  {
   "cell_type": "code",
   "execution_count": null,
   "id": "6c5a374b",
   "metadata": {},
   "outputs": [],
   "source": []
  },
  {
   "cell_type": "code",
   "execution_count": null,
   "id": "e4c66836",
   "metadata": {},
   "outputs": [],
   "source": []
  },
  {
   "cell_type": "code",
   "execution_count": null,
   "id": "92bffce6",
   "metadata": {},
   "outputs": [],
   "source": []
  },
  {
   "cell_type": "code",
   "execution_count": 3,
   "id": "615cabff",
   "metadata": {},
   "outputs": [
    {
     "name": "stdout",
     "output_type": "stream",
     "text": [
      "Compiling ContextCpu kernels...\n"
     ]
    },
    {
     "name": "stderr",
     "output_type": "stream",
     "text": [
      "ff2520c09af347f891f8355cd1e83c5d.c: In function 'scatter_cry':\n",
      "ff2520c09af347f891f8355cd1e83c5d.c:9926:28: warning: unused variable 'x_P' [-Wunused-variable]\n",
      " 9926 |                     double x_P = -s_P_tmp*sin(tilt_int) + x_P_tmp*cos(tilt_int);\n",
      "      |                            ^~~\n",
      "ff2520c09af347f891f8355cd1e83c5d.c:9925:28: warning: unused variable 's_P' [-Wunused-variable]\n",
      " 9925 |                     double s_P = s_P_tmp*cos(tilt_int) + x_P_tmp*sin(tilt_int);\n",
      "      |                            ^~~\n",
      "ff2520c09af347f891f8355cd1e83c5d.c:9823:18: warning: unused variable 'cry_spTilt' [-Wunused-variable]\n",
      " 9823 |     double const cry_spTilt = sin(cry_tilt);\n",
      "      |                  ^~~~~~~~~~\n",
      "ff2520c09af347f891f8355cd1e83c5d.c:9813:12: warning: unused variable 'offset' [-Wunused-variable]\n",
      " 9813 |     double offset   = everest->coll->offset;\n",
      "      |            ^~~~~~\n"
     ]
    },
    {
     "name": "stdout",
     "output_type": "stream",
     "text": [
      "Done compiling ContextCpu kernels.\n",
      "Installing tcpcv.a6l7.b1        as EverestCrystal\n",
      "Installing tcpch.a4l7.b1        as EverestCrystal\n",
      "Compiling ContextCpu kernels...\n"
     ]
    },
    {
     "name": "stderr",
     "output_type": "stream",
     "text": [
      "94b252230d72476e9194812718c9d65e.c: In function 'scatter_cry':\n",
      "94b252230d72476e9194812718c9d65e.c:9926:28: warning: unused variable 'x_P' [-Wunused-variable]\n",
      " 9926 |                     double x_P = -s_P_tmp*sin(tilt_int) + x_P_tmp*cos(tilt_int);\n",
      "      |                            ^~~\n",
      "94b252230d72476e9194812718c9d65e.c:9925:28: warning: unused variable 's_P' [-Wunused-variable]\n",
      " 9925 |                     double s_P = s_P_tmp*cos(tilt_int) + x_P_tmp*sin(tilt_int);\n",
      "      |                            ^~~\n",
      "94b252230d72476e9194812718c9d65e.c:9823:18: warning: unused variable 'cry_spTilt' [-Wunused-variable]\n",
      " 9823 |     double const cry_spTilt = sin(cry_tilt);\n",
      "      |                  ^~~~~~~~~~\n",
      "94b252230d72476e9194812718c9d65e.c:9813:12: warning: unused variable 'offset' [-Wunused-variable]\n",
      " 9813 |     double offset   = everest->coll->offset;\n",
      "      |            ^~~~~~\n"
     ]
    },
    {
     "name": "stdout",
     "output_type": "stream",
     "text": [
      "Done compiling ContextCpu kernels.\n",
      "Installing tcl.4r1.b1           as EverestCollimator\n",
      "Installing tcl.5r1.b1           as EverestCollimator\n",
      "Installing tcl.6r1.b1           as EverestCollimator\n",
      "Installing tctph.4l2.b1         as EverestCollimator\n",
      "Installing tctpv.4l2.b1         as EverestCollimator\n",
      "Installing tdisa.a4l2.b1        as EverestCollimator\n",
      "Installing tdisb.a4l2.b1        as EverestCollimator\n",
      "Installing tdisc.a4l2.b1        as EverestCollimator\n",
      "Installing tclia.4r2            as EverestCollimator\n",
      "Installing tclib.6r2.b1         as EverestCollimator\n",
      "Installing tcld.a11r2.b1        as EverestCollimator\n",
      "Installing tcp.6l3.b1           as EverestCollimator\n",
      "Installing tcsg.5l3.b1          as EverestCollimator\n",
      "Installing tcsg.4r3.b1          as EverestCollimator\n",
      "Installing tcsg.a5r3.b1         as EverestCollimator\n",
      "Installing tcsg.b5r3.b1         as EverestCollimator\n",
      "Installing tcla.a5r3.b1         as EverestCollimator\n",
      "Installing tcla.b5r3.b1         as EverestCollimator\n",
      "Installing tcla.6r3.b1          as EverestCollimator\n",
      "Installing tcla.7r3.b1          as EverestCollimator\n",
      "Installing tctph.4l5.b1         as EverestCollimator\n",
      "Installing tctpv.4l5.b1         as EverestCollimator\n",
      "Installing tcl.4r5.b1           as EverestCollimator\n",
      "Installing tcl.5r5.b1           as EverestCollimator\n",
      "Installing tcl.6r5.b1           as EverestCollimator\n",
      "Installing tcdqa.a4r6.b1        as EverestCollimator\n",
      "Installing tcdqa.c4r6.b1        as EverestCollimator\n",
      "Installing tcdqa.b4r6.b1        as EverestCollimator\n",
      "Installing tcsp.a4r6.b1         as EverestCollimator\n",
      "Installing tcp.d6l7.b1          as EverestCollimator\n",
      "Installing tcp.c6l7.b1          as EverestCollimator\n",
      "Installing tcp.b6l7.b1          as EverestCollimator\n",
      "Installing tcsg.a6l7.b1         as EverestCollimator\n",
      "Installing tcsg.b5l7.b1         as EverestCollimator\n",
      "Installing tcsg.a5l7.b1         as EverestCollimator\n",
      "Installing tcsg.d4l7.b1         as EverestCollimator\n",
      "Installing tcsg.b4l7.b1         as EverestCollimator\n",
      "Installing tcspm.b4l7.b1        as EverestCollimator\n",
      "Installing tcsg.a4l7.b1         as EverestCollimator\n",
      "Installing tcsg.a4r7.b1         as EverestCollimator\n",
      "Installing tcsg.b5r7.b1         as EverestCollimator\n",
      "Installing tcsg.d5r7.b1         as EverestCollimator\n",
      "Installing tcsg.e5r7.b1         as EverestCollimator\n",
      "Installing tcspm.e5r7.b1        as EverestCollimator\n",
      "Installing tcsg.6r7.b1          as EverestCollimator\n",
      "Installing tcspm.6r7.b1         as EverestCollimator\n",
      "Installing tcla.a6r7.b1         as EverestCollimator\n",
      "Installing tcla.b6r7.b1         as EverestCollimator\n",
      "Installing tcla.c6r7.b1         as EverestCollimator\n",
      "Installing tcla.d6r7.b1         as EverestCollimator\n",
      "Installing tcla.a7r7.b1         as EverestCollimator\n",
      "Installing tctph.4l8.b1         as EverestCollimator\n",
      "Installing tctpv.4l8.b1         as EverestCollimator\n",
      "Installing tctph.4l1.b1         as EverestCollimator\n",
      "Installing tctpv.4l1.b1         as EverestCollimator\n",
      "\n",
      "Aperture model check after introducing collimators:\n"
     ]
    },
    {
     "data": {
      "application/vnd.jupyter.widget-view+json": {
       "model_id": "2ca5b0e51a8543caa8ffe29d2094e32a",
       "version_major": 2,
       "version_minor": 0
      },
      "text/plain": [
       "Checking aperture:   0%|          | 0/175136 [00:00<?, ?it/s]"
      ]
     },
     "metadata": {},
     "output_type": "display_data"
    },
    {
     "name": "stdout",
     "output_type": "stream",
     "text": [
      "Done checking aperture.           \n",
      "0 thin elements miss associated aperture (upstream):\n",
      "[]\n",
      "0 thick elements miss associated aperture (upstream or downstream):\n",
      "[]\n"
     ]
    }
   ],
   "source": [
    "# Initialise collmanager\n",
    "# coll_manager = xc.CollimatorManager.from_yaml(path_in / 'colldbs' / f'levelling.20.yaml', line=line,\n",
    "#                                               beam=beam, ignore_crystals=False, record_impacts=False)\n",
    "coll_manager = xc.CollimatorManager.from_yaml(xc._pkg_root / '..' / 'examples' / 'colldb' / 'lhc_run3_crystals.yaml', line=line,\n",
    "                                              beam=beam, ignore_crystals=False, record_impacts=['tcp.c6l7.b1', 'tcp.d6l7.b1'])\n",
    "\n",
    "# Install collimators into line\n",
    "if engine == 'everest':\n",
    "    coll_manager.install_everest_collimators(verbose=True)\n",
    "elif engine == 'black':\n",
    "    coll_manager.install_black_absorbers(verbose=True)\n",
    "else:\n",
    "    raise ValueError(f\"Unknown scattering engine {engine}!\")\n",
    "\n",
    "# Aperture model check\n",
    "print('\\nAperture model check after introducing collimators:')\n",
    "df_with_coll = line.check_aperture()\n",
    "assert not np.any(df_with_coll.has_aperture_problem)"
   ]
  },
  {
   "cell_type": "code",
   "execution_count": 4,
   "id": "28c4fee1",
   "metadata": {},
   "outputs": [
    {
     "name": "stdout",
     "output_type": "stream",
     "text": [
      "Compiling ContextCpu kernels...\n"
     ]
    },
    {
     "name": "stderr",
     "output_type": "stream",
     "text": [
      "8b310e6f9c5d4a0fb9e2f51de38be151.c: In function 'scatter_cry':\n",
      "8b310e6f9c5d4a0fb9e2f51de38be151.c:14594:28: warning: unused variable 'x_P' [-Wunused-variable]\n",
      "14594 |                     double x_P = -s_P_tmp*sin(tilt_int) + x_P_tmp*cos(tilt_int);\n",
      "      |                            ^~~\n",
      "8b310e6f9c5d4a0fb9e2f51de38be151.c:14593:28: warning: unused variable 's_P' [-Wunused-variable]\n",
      "14593 |                     double s_P = s_P_tmp*cos(tilt_int) + x_P_tmp*sin(tilt_int);\n",
      "      |                            ^~~\n",
      "8b310e6f9c5d4a0fb9e2f51de38be151.c:14491:18: warning: unused variable 'cry_spTilt' [-Wunused-variable]\n",
      "14491 |     double const cry_spTilt = sin(cry_tilt);\n",
      "      |                  ^~~~~~~~~~\n",
      "8b310e6f9c5d4a0fb9e2f51de38be151.c:14481:12: warning: unused variable 'offset' [-Wunused-variable]\n",
      "14481 |     double offset   = everest->coll->offset;\n",
      "      |            ^~~~~~\n"
     ]
    },
    {
     "name": "stdout",
     "output_type": "stream",
     "text": [
      "Done compiling ContextCpu kernels.\n"
     ]
    },
    {
     "data": {
      "text/plain": [
       "<xtrack.tracker.Tracker at 0x7f65f8ffe460>"
      ]
     },
     "execution_count": 4,
     "metadata": {},
     "output_type": "execute_result"
    }
   ],
   "source": [
    "line.build_tracker()"
   ]
  },
  {
   "cell_type": "code",
   "execution_count": 5,
   "id": "89499db8",
   "metadata": {},
   "outputs": [
    {
     "name": "stdout",
     "output_type": "stream",
     "text": [
      "Compiling ContextCpu kernels...\n",
      "Done compiling ContextCpu kernels.\n"
     ]
    }
   ],
   "source": [
    "coll_manager.set_openings({'tcp.d6l7.b1': 5, 'tcp.c6l7.b1': 5, 'tcpcv.a6l7.b1': 5.5})"
   ]
  },
  {
   "cell_type": "code",
   "execution_count": 6,
   "id": "d88ba089-9b04-4e07-a7f3-e67ae8349f48",
   "metadata": {},
   "outputs": [],
   "source": [
    "line['tcpch.a4l7.b1'].active = True\n",
    "line['tcpcv.a6l7.b1'].active = True\n",
    "line['tcp.b6l7.b1'].record_touches = True\n",
    "line['tcp.c6l7.b1'].record_touches = True\n",
    "line['tcp.d6l7.b1'].record_touches = True\n",
    "line['tdisa.a4l2.b1'].record_touches = True"
   ]
  },
  {
   "cell_type": "code",
   "execution_count": 7,
   "id": "6f4dc92b-6c2b-459a-a3ee-216724101a2d",
   "metadata": {},
   "outputs": [
    {
     "data": {
      "text/plain": [
       "{'__class__': 'EverestCrystal',\n",
       " 'length': 0.004,\n",
       " 'active': 1,\n",
       " 'record_touches': 0,\n",
       " 'record_interactions': 0,\n",
       " 'align_angle': 1.2112695362072954e-05,\n",
       " '_critical_angle': 0.0,\n",
       " 'xdim': 0.002,\n",
       " 'ydim': 0.05,\n",
       " 'thick': 0.0,\n",
       " 'miscut': 0.0,\n",
       " 'rutherford_rng': {'__class__': 'RandomRutherford',\n",
       "  'lower_val': 0.0009982,\n",
       "  'upper_val': 0.02,\n",
       "  'A': 0.0016160247264725453,\n",
       "  'B': 166.49518410000002,\n",
       "  'Newton_iterations': 7},\n",
       " '_tracking': 0,\n",
       " 'angle': 0.0,\n",
       " 'jaw': [0.0020206608911066404, 0.02499999999999991],\n",
       " 'tilt': 0.0,\n",
       " 'side': 'left',\n",
       " 'lattice': 'strip',\n",
       " 'material': {'__class__': 'CrystalMaterial',\n",
       "  'Z': 14.0,\n",
       "  'A': 28.08,\n",
       "  'density': 2.33,\n",
       "  'excitation_energy': 1.73e-07,\n",
       "  'nuclear_radius': 0.441,\n",
       "  'nuclear_elastic_slope': 120.14,\n",
       "  'cross_section': array([6.64e-01, 4.30e-01, 0.00e+00, 0.00e+00, 0.00e+00, 3.90e-04]),\n",
       "  'hcut': 0.02,\n",
       "  'name': 'Silicon',\n",
       "  '_only_mcs': 0,\n",
       "  'crystal_radiation_length': 0.0937,\n",
       "  'crystal_nuclear_length': 0.4652,\n",
       "  'crystal_plane_distance': 9.6e-08,\n",
       "  'crystal_potential': 21.34,\n",
       "  'nuclear_collision_length': 0.3016},\n",
       " 'bending_radius': 61.54,\n",
       " 'bending_angle': 6.499837508639138e-05}"
      ]
     },
     "execution_count": 7,
     "metadata": {},
     "output_type": "execute_result"
    }
   ],
   "source": [
    "line['tcpch.a4l7.b1'].to_dict()"
   ]
  },
  {
   "cell_type": "code",
   "execution_count": 8,
   "id": "12469816-bb9e-44a5-96ef-6ec9c3067c23",
   "metadata": {},
   "outputs": [],
   "source": [
    "tw = line.twiss()"
   ]
  },
  {
   "cell_type": "code",
   "execution_count": 9,
   "id": "0b4d55fa-3a18-4060-97bf-1d6e83d3c71c",
   "metadata": {},
   "outputs": [
    {
     "name": "stdout",
     "output_type": "stream",
     "text": [
      "[0.00202066]\n"
     ]
    }
   ],
   "source": [
    "coll = 'tcpch.a4l7.b1'\n",
    "ang = line[coll].angle\n",
    "ref = np.cos(ang)* tw.rows[coll]['x'] + np.sin(ang)* tw.rows[coll]['y']\n",
    "sigx = np.sqrt(3.5E-6*tw.rows[coll]['betx']/7247.36468857)\n",
    "sigy = np.sqrt(3.5E-6*tw.rows[coll]['bety']/7247.36468857)\n",
    "sig = np.sqrt(np.cos(ang)**2 * sigx**2 + np.sin(ang)**2 * sigy**2)\n",
    "print(ref + sig*5)"
   ]
  },
  {
   "cell_type": "code",
   "execution_count": 10,
   "id": "128236ae",
   "metadata": {},
   "outputs": [
    {
     "name": "stdout",
     "output_type": "stream",
     "text": [
      "Collimator tcp.d6l7.b1 is diverging.\n",
      "Compiling ContextCpu kernels...\n",
      "Done compiling ContextCpu kernels.\n"
     ]
    }
   ],
   "source": [
    "part = xc.generate_pencil_on_collimator(line, 'tcp.d6l7.b1', 100, nemitt_x=3.5e-6, nemitt_y=3.5e-6)"
   ]
  },
  {
   "cell_type": "code",
   "execution_count": 11,
   "id": "c9d7f27d-cee9-4ffd-ab45-1628d403154a",
   "metadata": {},
   "outputs": [
    {
     "data": {
      "text/plain": [
       "<BufferNumpy 999992/241000752>"
      ]
     },
     "execution_count": 11,
     "metadata": {},
     "output_type": "execute_result"
    }
   ],
   "source": [
    "coll_manager._io_buffer"
   ]
  },
  {
   "cell_type": "code",
   "execution_count": 12,
   "id": "69f3de5c-a816-4e1a-a3bd-c98bf56182d6",
   "metadata": {},
   "outputs": [
    {
     "ename": "AttributeError",
     "evalue": "'ParticlesData' object has no attribute '_io_buffer'",
     "output_type": "error",
     "traceback": [
      "\u001b[0;31m---------------------------------------------------------------------------\u001b[0m",
      "\u001b[0;31mAttributeError\u001b[0m                            Traceback (most recent call last)",
      "\u001b[0;32m/tmp/cmaccani/ipykernel_83427/1643658731.py\u001b[0m in \u001b[0;36m<module>\u001b[0;34m\u001b[0m\n\u001b[0;32m----> 1\u001b[0;31m \u001b[0mpart\u001b[0m\u001b[0;34m.\u001b[0m\u001b[0m_xobject\u001b[0m\u001b[0;34m.\u001b[0m\u001b[0m_io_buffer\u001b[0m\u001b[0;34m\u001b[0m\u001b[0;34m\u001b[0m\u001b[0m\n\u001b[0m",
      "\u001b[0;31mAttributeError\u001b[0m: 'ParticlesData' object has no attribute '_io_buffer'"
     ]
    }
   ],
   "source": [
    "part._xobject._io_buffer"
   ]
  },
  {
   "cell_type": "code",
   "execution_count": 13,
   "id": "d03acb9e-d664-4ec0-94e3-d5cc3062ad58",
   "metadata": {},
   "outputs": [
    {
     "data": {
      "text/plain": [
       "0"
      ]
     },
     "execution_count": 13,
     "metadata": {},
     "output_type": "execute_result"
    }
   ],
   "source": [
    "coll_manager.impacts._index.buffer_id"
   ]
  },
  {
   "cell_type": "code",
   "execution_count": 14,
   "id": "cb6aacb7",
   "metadata": {},
   "outputs": [
    {
     "data": {
      "application/vnd.jupyter.widget-view+json": {
       "model_id": "77b4b8d42d4a47c08c1be1501634179e",
       "version_major": 2,
       "version_minor": 0
      },
      "text/plain": [
       "Tracking:   0%|          | 0/20 [00:00<?, ?it/s]"
      ]
     },
     "metadata": {},
     "output_type": "display_data"
    },
    {
     "name": "stdout",
     "output_type": "stream",
     "text": [
      "Error: buffer_id mismatch!\n",
      "Error: buffer_id mismatch!\n",
      "Error: buffer_id mismatch!\n",
      "Error: buffer_id mismatch!\n",
      "Done tracking in 0.0s.\n"
     ]
    }
   ],
   "source": [
    "# # Optimise the line\n",
    "# line.optimize_for_tracking()\n",
    "# idx = line.element_names.index(tcp)\n",
    "# part.at_element = idx\n",
    "# part.start_tracking_at_element = idx\n",
    "\n",
    "# line.discard_tracker()\n",
    "# line.build_tracker(_context=xo.ContextCpu(omp_num_threads=28))\n",
    "\n",
    "# Track\n",
    "coll_manager.enable_scattering()\n",
    "line.track(part, num_turns=20, time=True, with_progress=1)\n",
    "coll_manager.disable_scattering()\n",
    "print(f\"Done tracking in {line.time_last_track:.1f}s.\")\n",
    "\n",
    "# line.discard_tracker()\n",
    "# line.build_tracker(_context=xo.ContextCpu())"
   ]
  },
  {
   "cell_type": "code",
   "execution_count": 15,
   "id": "8f6eedad",
   "metadata": {},
   "outputs": [
    {
     "name": "stdout",
     "output_type": "stream",
     "text": [
      "         collname  nabs  length             s               type\n",
      "0      tcl.4r1.b1   0.0   1.000    150.030000  EverestCollimator\n",
      "1      tcl.5r1.b1   0.0   1.000    184.357000  EverestCollimator\n",
      "2      tcl.6r1.b1   0.0   1.000    219.013000  EverestCollimator\n",
      "3    tctph.4l2.b1   0.0   1.000   3213.903584  EverestCollimator\n",
      "4    tctpv.4l2.b1   0.0   1.000   3215.903583  EverestCollimator\n",
      "5   tdisa.a4l2.b1  89.0   1.565   3249.693583  EverestCollimator\n",
      "6   tdisb.a4l2.b1   0.0   1.565   3251.273583  EverestCollimator\n",
      "7   tdisc.a4l2.b1   0.0   1.565   3252.853583  EverestCollimator\n",
      "8       tclia.4r2   0.0   1.000   3403.984583  EverestCollimator\n",
      "9    tclib.6r2.b1   0.0   1.000   3560.090583  EverestCollimator\n",
      "10  tcld.a11r2.b1   0.0   0.600   3758.149975  EverestCollimator\n",
      "11     tcp.6l3.b1   0.0   0.600   6487.671299  EverestCollimator\n",
      "12    tcsg.5l3.b1   0.0   1.000   6520.992797  EverestCollimator\n",
      "13    tcsg.4r3.b1   0.0   1.000   6707.575797  EverestCollimator\n",
      "14   tcsg.a5r3.b1   0.0   1.000   6718.920797  EverestCollimator\n",
      "15   tcsg.b5r3.b1   0.0   1.000   6724.740797  EverestCollimator\n",
      "16   tcla.a5r3.b1   0.0   1.000   6755.220797  EverestCollimator\n",
      "17   tcla.b5r3.b1   0.0   1.000   6757.220797  EverestCollimator\n",
      "18    tcla.6r3.b1   0.0   1.000   6843.770295  EverestCollimator\n",
      "19    tcla.7r3.b1   0.0   1.000   6915.175795  EverestCollimator\n",
      "20   tctph.4l5.b1   0.0   1.000  13181.344217  EverestCollimator\n",
      "21   tctpv.4l5.b1   0.0   1.000  13183.344217  EverestCollimator\n",
      "22     tcl.4r5.b1   0.0   1.000  13479.319217  EverestCollimator\n",
      "23     tcl.5r5.b1   0.0   1.000  13513.553216  EverestCollimator\n",
      "24     tcl.6r5.b1   0.0   1.000  13550.863216  EverestCollimator\n",
      "25  tcdqa.a4r6.b1   0.0   3.000  16804.965799  EverestCollimator\n",
      "26  tcdqa.c4r6.b1   0.0   3.000  16808.515799  EverestCollimator\n",
      "27  tcdqa.b4r6.b1   0.0   3.000  16812.065799  EverestCollimator\n",
      "28   tcsp.a4r6.b1   0.0   1.000  16815.975799  EverestCollimator\n",
      "29    tcp.d6l7.b1   5.0   0.600  19789.184383  EverestCollimator\n",
      "30    tcp.c6l7.b1   0.0   0.600  19791.184382  EverestCollimator\n",
      "31    tcp.b6l7.b1   0.0   0.600  19793.184382  EverestCollimator\n",
      "32   tcsg.a6l7.b1   1.0   1.000  19832.678881  EverestCollimator\n",
      "33  tcpcv.a6l7.b1   0.0   0.004  19843.623881     EverestCrystal\n",
      "34   tcsg.b5l7.b1   2.0   1.000  19891.906381  EverestCollimator\n",
      "35   tcsg.a5l7.b1   0.0   1.000  19895.906381  EverestCollimator\n",
      "36   tcsg.d4l7.b1   1.0   1.000  19917.236381  EverestCollimator\n",
      "37  tcpch.a4l7.b1   0.0   0.004  19919.498881     EverestCrystal\n",
      "38   tcsg.b4l7.b1   0.0   1.000  19987.162381  EverestCollimator\n",
      "39  tcspm.b4l7.b1   0.0   1.000  19989.162381  EverestCollimator\n",
      "40   tcsg.a4l7.b1   1.0   1.000  19991.162381  EverestCollimator\n",
      "41   tcsg.a4r7.b1   0.0   1.000  19995.162381  EverestCollimator\n",
      "42   tcsg.b5r7.b1   1.0   1.000  20086.418381  EverestCollimator\n",
      "43   tcsg.d5r7.b1   0.0   1.000  20102.418381  EverestCollimator\n",
      "44   tcsg.e5r7.b1   0.0   1.000  20106.418381  EverestCollimator\n",
      "45  tcspm.e5r7.b1   0.0   1.000  20108.418381  EverestCollimator\n",
      "46    tcsg.6r7.b1   0.0   1.000  20141.023381  EverestCollimator\n",
      "47   tcspm.6r7.b1   0.0   1.000  20143.023381  EverestCollimator\n",
      "48   tcla.a6r7.b1   0.0   1.000  20148.089381  EverestCollimator\n",
      "49   tcla.b6r7.b1   0.0   1.000  20178.963380  EverestCollimator\n",
      "50   tcla.c6r7.b1   0.0   1.000  20212.232378  EverestCollimator\n",
      "51   tcla.d6r7.b1   0.0   1.000  20214.232378  EverestCollimator\n",
      "52   tcla.a7r7.b1   0.0   1.000  20231.860378  EverestCollimator\n",
      "53   tctph.4l8.b1   0.0   1.000  23197.145962  EverestCollimator\n",
      "54   tctpv.4l8.b1   0.0   1.000  23199.145962  EverestCollimator\n",
      "55   tctph.4l1.b1   0.0   1.000  26510.938177  EverestCollimator\n",
      "56   tctpv.4l1.b1   0.0   1.000  26512.938177  EverestCollimator\n"
     ]
    }
   ],
   "source": [
    "# Save lossmap to json, which can be loaded, combined (for more statistics),\n",
    "# and plotted with the 'lossmaps' package\n",
    "line_is_reversed = True if f'{beam}' == '2' else False\n",
    "ThisLM = xc.LossMap(line, line_is_reversed=line_is_reversed, part=part)\n",
    "path_out = Path.cwd()\n",
    "ThisLM.save_summary(file=Path(path_out, f'coll_summary_B{beam}{plane}.out'))\n",
    "# Save a summary of the collimator losses to a text file\n",
    "print(ThisLM.summary)"
   ]
  },
  {
   "cell_type": "code",
   "execution_count": 13,
   "id": "293bab3c-ebe6-4b19-8250-7188ba2c68f0",
   "metadata": {},
   "outputs": [
    {
     "data": {
      "text/html": [
       "<div>\n",
       "<style scoped>\n",
       "    .dataframe tbody tr th:only-of-type {\n",
       "        vertical-align: middle;\n",
       "    }\n",
       "\n",
       "    .dataframe tbody tr th {\n",
       "        vertical-align: top;\n",
       "    }\n",
       "\n",
       "    .dataframe thead th {\n",
       "        text-align: right;\n",
       "    }\n",
       "</style>\n",
       "<table border=\"1\" class=\"dataframe\">\n",
       "  <thead>\n",
       "    <tr style=\"text-align: right;\">\n",
       "      <th></th>\n",
       "      <th>turn</th>\n",
       "      <th>collimator</th>\n",
       "      <th>interaction_type</th>\n",
       "      <th>ds</th>\n",
       "      <th>parent_id</th>\n",
       "      <th>parent_x</th>\n",
       "      <th>parent_px</th>\n",
       "      <th>parent_y</th>\n",
       "      <th>parent_py</th>\n",
       "      <th>parent_zeta</th>\n",
       "      <th>...</th>\n",
       "      <th>child_y</th>\n",
       "      <th>child_py</th>\n",
       "      <th>child_zeta</th>\n",
       "      <th>child_delta</th>\n",
       "      <th>child_energy</th>\n",
       "      <th>child_mass</th>\n",
       "      <th>child_charge</th>\n",
       "      <th>child_z</th>\n",
       "      <th>child_a</th>\n",
       "      <th>child_pdgid</th>\n",
       "    </tr>\n",
       "  </thead>\n",
       "  <tbody>\n",
       "  </tbody>\n",
       "</table>\n",
       "<p>0 rows × 30 columns</p>\n",
       "</div>"
      ],
      "text/plain": [
       "Empty DataFrame\n",
       "Columns: [turn, collimator, interaction_type, ds, parent_id, parent_x, parent_px, parent_y, parent_py, parent_zeta, parent_delta, parent_energy, parent_mass, parent_charge, parent_z, parent_a, parent_pdgid, child_id, child_x, child_px, child_y, child_py, child_zeta, child_delta, child_energy, child_mass, child_charge, child_z, child_a, child_pdgid]\n",
       "Index: []\n",
       "\n",
       "[0 rows x 30 columns]"
      ]
     },
     "execution_count": 13,
     "metadata": {},
     "output_type": "execute_result"
    }
   ],
   "source": [
    "coll_manager.impacts.to_pandas()"
   ]
  },
  {
   "cell_type": "code",
   "execution_count": 15,
   "id": "862e53b9-0d38-4e1f-bea8-c15401e8c9ac",
   "metadata": {},
   "outputs": [
    {
     "data": {
      "text/plain": [
       "Index(['turn', 'collimator', 'interaction_type', 'ds', 'parent_id', 'parent_x',\n",
       "       'parent_px', 'parent_y', 'parent_py', 'parent_zeta', 'parent_delta',\n",
       "       'parent_energy', 'parent_mass', 'parent_charge', 'parent_z', 'parent_a',\n",
       "       'parent_pdgid', 'child_id', 'child_x', 'child_px', 'child_y',\n",
       "       'child_py', 'child_zeta', 'child_delta', 'child_energy', 'child_mass',\n",
       "       'child_charge', 'child_z', 'child_a', 'child_pdgid'],\n",
       "      dtype='object')"
      ]
     },
     "execution_count": 15,
     "metadata": {},
     "output_type": "execute_result"
    }
   ],
   "source": [
    "coll_manager.impacts.to_pandas().columns"
   ]
  },
  {
   "cell_type": "code",
   "execution_count": 14,
   "id": "8f4b510e",
   "metadata": {},
   "outputs": [
    {
     "data": {
      "text/plain": [
       "{'collimator': {'s': [219.013,\n",
       "   6520.992797083998,\n",
       "   19789.18438252112,\n",
       "   19791.184382375122,\n",
       "   19793.184382229123,\n",
       "   19832.67888061313,\n",
       "   19891.906380613127,\n",
       "   19895.906380613127,\n",
       "   19917.23638061313,\n",
       "   19989.16238061313,\n",
       "   19991.16238061313,\n",
       "   19995.16238061313,\n",
       "   20086.41838061313,\n",
       "   20102.41838061313,\n",
       "   20108.41838061313,\n",
       "   20148.089380613128,\n",
       "   20178.96338010613,\n",
       "   20212.23237811213,\n",
       "   20231.86037811213,\n",
       "   26510.938177061144,\n",
       "   26512.938176726144],\n",
       "  'name': ['tcl.6r1.b1',\n",
       "   'tcsg.5l3.b1',\n",
       "   'tcp.d6l7.b1',\n",
       "   'tcp.c6l7.b1',\n",
       "   'tcp.b6l7.b1',\n",
       "   'tcsg.a6l7.b1',\n",
       "   'tcsg.b5l7.b1',\n",
       "   'tcsg.a5l7.b1',\n",
       "   'tcsg.d4l7.b1',\n",
       "   'tcspm.b4l7.b1',\n",
       "   'tcsg.a4l7.b1',\n",
       "   'tcsg.a4r7.b1',\n",
       "   'tcsg.b5r7.b1',\n",
       "   'tcsg.d5r7.b1',\n",
       "   'tcspm.e5r7.b1',\n",
       "   'tcla.a6r7.b1',\n",
       "   'tcla.b6r7.b1',\n",
       "   'tcla.c6r7.b1',\n",
       "   'tcla.a7r7.b1',\n",
       "   'tctph.4l1.b1',\n",
       "   'tctpv.4l1.b1'],\n",
       "  'length': [1.0,\n",
       "   1.0,\n",
       "   0.6,\n",
       "   0.6,\n",
       "   0.6,\n",
       "   1.0,\n",
       "   1.0,\n",
       "   1.0,\n",
       "   1.0,\n",
       "   1.0,\n",
       "   1.0,\n",
       "   1.0,\n",
       "   1.0,\n",
       "   1.0,\n",
       "   1.0,\n",
       "   1.0,\n",
       "   1.0,\n",
       "   1.0,\n",
       "   1.0,\n",
       "   1.0,\n",
       "   1.0],\n",
       "  'n': [1.0,\n",
       "   1.0,\n",
       "   7970.0,\n",
       "   14.0,\n",
       "   68.0,\n",
       "   408.0,\n",
       "   432.0,\n",
       "   323.0,\n",
       "   96.0,\n",
       "   23.0,\n",
       "   107.0,\n",
       "   73.0,\n",
       "   50.0,\n",
       "   29.0,\n",
       "   4.0,\n",
       "   1.0,\n",
       "   1.0,\n",
       "   2.0,\n",
       "   1.0,\n",
       "   1.0,\n",
       "   1.0]},\n",
       " 'aperture': {'s': array([20327.41060956, 20420.53946034]),\n",
       "  'name': ['mb.b9r7.b1..2_aper', 'ledr.11r7.b1_mkex_aper'],\n",
       "  'n': [1.0, 1.0]},\n",
       " 'machine_length': 26658.883176584142,\n",
       " 'interpolation': 0.1,\n",
       " 'reversed': False}"
      ]
     },
     "execution_count": 14,
     "metadata": {},
     "output_type": "execute_result"
    }
   ],
   "source": [
    "coll_manager.lossmap(part, file=None)"
   ]
  },
  {
   "cell_type": "code",
   "execution_count": 12,
   "id": "5458c42c",
   "metadata": {},
   "outputs": [
    {
     "name": "stdout",
     "output_type": "stream",
     "text": [
      "Automatic pdb calling has been turned ON\n"
     ]
    }
   ],
   "source": [
    "pdb on"
   ]
  },
  {
   "cell_type": "code",
   "execution_count": 9,
   "id": "967dbc45",
   "metadata": {},
   "outputs": [
    {
     "data": {
      "text/plain": [
       "{'collimator': {'s': [19789.18438252112,\n",
       "   19791.184382375122,\n",
       "   19793.184382229123,\n",
       "   19832.67888061313,\n",
       "   19891.906380613127,\n",
       "   19895.906380613127,\n",
       "   19917.23638061313,\n",
       "   19989.16238061313,\n",
       "   19991.16238061313,\n",
       "   19995.16238061313,\n",
       "   20086.41838061313,\n",
       "   20102.41838061313,\n",
       "   20108.41838061313,\n",
       "   20143.02338061313,\n",
       "   20148.089380613128,\n",
       "   20212.23237811213,\n",
       "   26512.938176726144],\n",
       "  'name': ['tcp.d6l7.b1',\n",
       "   'tcp.c6l7.b1',\n",
       "   'tcp.b6l7.b1',\n",
       "   'tcsg.a6l7.b1',\n",
       "   'tcsg.b5l7.b1',\n",
       "   'tcsg.a5l7.b1',\n",
       "   'tcsg.d4l7.b1',\n",
       "   'tcspm.b4l7.b1',\n",
       "   'tcsg.a4l7.b1',\n",
       "   'tcsg.a4r7.b1',\n",
       "   'tcsg.b5r7.b1',\n",
       "   'tcsg.d5r7.b1',\n",
       "   'tcspm.e5r7.b1',\n",
       "   'tcspm.6r7.b1',\n",
       "   'tcla.a6r7.b1',\n",
       "   'tcla.c6r7.b1',\n",
       "   'tctpv.4l1.b1'],\n",
       "  'length': [0.6,\n",
       "   0.6,\n",
       "   0.6,\n",
       "   1.0,\n",
       "   1.0,\n",
       "   1.0,\n",
       "   1.0,\n",
       "   1.0,\n",
       "   1.0,\n",
       "   1.0,\n",
       "   1.0,\n",
       "   1.0,\n",
       "   1.0,\n",
       "   1.0,\n",
       "   1.0,\n",
       "   1.0,\n",
       "   1.0],\n",
       "  'n': [3873.0,\n",
       "   4.0,\n",
       "   72.0,\n",
       "   208.0,\n",
       "   246.0,\n",
       "   144.0,\n",
       "   46.0,\n",
       "   11.0,\n",
       "   51.0,\n",
       "   37.0,\n",
       "   21.0,\n",
       "   14.0,\n",
       "   4.0,\n",
       "   1.0,\n",
       "   1.0,\n",
       "   1.0,\n",
       "   1.0]},\n",
       " 'aperture': {'s': array([20394.56260654, 20408.42800502]),\n",
       "  'name': ['mb.a11r7.b1_mkex_aper', 'mb.b11r7.b1..2_aper'],\n",
       "  'n': [1.0, 1.0]},\n",
       " 'machine_length': 26658.883176584142,\n",
       " 'interpolation': 0.1,\n",
       " 'reversed': False}"
      ]
     },
     "execution_count": 9,
     "metadata": {},
     "output_type": "execute_result"
    }
   ],
   "source": [
    "coll_manager.lossmap(part)"
   ]
  },
  {
   "cell_type": "code",
   "execution_count": null,
   "id": "07df93a7",
   "metadata": {},
   "outputs": [],
   "source": []
  },
  {
   "cell_type": "code",
   "execution_count": null,
   "id": "48f45f3b",
   "metadata": {},
   "outputs": [],
   "source": []
  },
  {
   "cell_type": "code",
   "execution_count": null,
   "id": "51e2b096",
   "metadata": {},
   "outputs": [],
   "source": []
  },
  {
   "cell_type": "code",
   "execution_count": null,
   "id": "cf6982a9",
   "metadata": {},
   "outputs": [],
   "source": []
  },
  {
   "cell_type": "code",
   "execution_count": null,
   "id": "24e585dc",
   "metadata": {},
   "outputs": [],
   "source": []
  },
  {
   "cell_type": "code",
   "execution_count": null,
   "id": "9b10b195",
   "metadata": {},
   "outputs": [],
   "source": []
  },
  {
   "cell_type": "code",
   "execution_count": null,
   "id": "dc28e44c",
   "metadata": {},
   "outputs": [],
   "source": []
  }
 ],
 "metadata": {
  "kernelspec": {
   "display_name": "LCG view 104 + venv",
   "language": "python-custom",
   "name": "lcg-view"
  },
  "language_info": {
   "codemirror_mode": {
    "name": "ipython",
    "version": 3
   },
   "file_extension": ".py",
   "mimetype": "text/x-python",
   "name": "python",
   "nbconvert_exporter": "python",
   "pygments_lexer": "ipython3",
   "version": "3.9.12"
  }
 },
 "nbformat": 4,
 "nbformat_minor": 5
}
