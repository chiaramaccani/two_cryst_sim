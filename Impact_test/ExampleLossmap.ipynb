{
 "cells": [
  {
   "cell_type": "code",
   "execution_count": 1,
   "id": "0f3f3668",
   "metadata": {},
   "outputs": [],
   "source": [
    "\"\"\"%load_ext autoreload\n",
    "%autoreload 2\n",
    "%load_ext wurlitzer\n",
    "\"\"\"\n",
    "import json\n",
    "import numpy as np\n",
    "import pandas as pd\n",
    "from pathlib import Path\n",
    "import matplotlib.pyplot as plt\n",
    "import xobjects as xo\n",
    "import xpart as xp\n",
    "import xtrack as xt\n",
    "import xcoll as xc\n",
    "import os\n",
    "import yaml"
   ]
  },
  {
   "cell_type": "code",
   "execution_count": 2,
   "id": "ce8d5694",
   "metadata": {},
   "outputs": [
    {
     "data": {
      "application/vnd.jupyter.widget-view+json": {
       "model_id": "7b7472a67f6c426cb73f5bf09a049314",
       "version_major": 2,
       "version_minor": 0
      },
      "text/plain": [
       "Loading line from dict:   0%|          | 0/175742 [00:00<?, ?it/s]"
      ]
     },
     "metadata": {},
     "output_type": "display_data"
    },
    {
     "name": "stdout",
     "output_type": "stream",
     "text": [
      "Done loading line from dict.           \n"
     ]
    }
   ],
   "source": [
    "context = xo.ContextCpu()\n",
    "# context = xo.ContextCupy()\n",
    "# context = xo.ContextPyopencl()\n",
    "\n",
    "# On a modern CPU, we get ~5000 particle*turns/s\n",
    "# So this script should take around half an hour\n",
    "beam          =  2\n",
    "plane         = 'V'\n",
    "\n",
    "num_turns     = 20\n",
    "num_particles = 20000\n",
    "engine        = 'everest'\n",
    "\n",
    "#path_in  = Path(\"/eos/project-c/collimation-team/machine_configurations/LHC_run3/2024\")\n",
    "\n",
    "# Load from json\n",
    "line = xt.Line.from_json(os.path.expandvars('${HOME_TWOCRYST}/input_files/2024_Run3/flat_top_b2.json'))"
   ]
  },
  {
   "cell_type": "code",
   "execution_count": 3,
   "id": "a53796d9",
   "metadata": {},
   "outputs": [],
   "source": [
    "coll_file = os.path.expandvars('${HOME_TWOCRYST}/input_files/colldbs/flat_top.yaml')\n",
    "with open(coll_file, 'r') as stream:\n",
    "        coll_dict = yaml.safe_load(stream)['collimators']['b2']"
   ]
  },
  {
   "cell_type": "code",
   "execution_count": 4,
   "id": "f99847ec",
   "metadata": {
    "scrolled": true
   },
   "outputs": [
    {
     "data": {
      "application/vnd.jupyter.widget-view+json": {
       "model_id": "240e7c372c914758963ca4907aa7309e",
       "version_major": 2,
       "version_minor": 0
      },
      "text/plain": [
       "Slicing line:   0%|          | 0/175742 [00:00<?, ?it/s]"
      ]
     },
     "metadata": {},
     "output_type": "display_data"
    },
    {
     "data": {
      "application/vnd.jupyter.widget-view+json": {
       "model_id": "b4b4cd902a7c4da99df0ad1281c9bdad",
       "version_major": 2,
       "version_minor": 0
      },
      "text/plain": [
       "Slicing line:   0%|          | 0/175745 [00:00<?, ?it/s]"
      ]
     },
     "metadata": {},
     "output_type": "display_data"
    },
    {
     "data": {
      "application/vnd.jupyter.widget-view+json": {
       "model_id": "9cac1b5a64c94707827e6cd93bba3d42",
       "version_major": 2,
       "version_minor": 0
      },
      "text/plain": [
       "Slicing line:   0%|          | 0/175748 [00:00<?, ?it/s]"
      ]
     },
     "metadata": {},
     "output_type": "display_data"
    },
    {
     "data": {
      "application/vnd.jupyter.widget-view+json": {
       "model_id": "3c9858b9b5c74698af0377953efa3cb2",
       "version_major": 2,
       "version_minor": 0
      },
      "text/plain": [
       "Slicing line:   0%|          | 0/175751 [00:00<?, ?it/s]"
      ]
     },
     "metadata": {},
     "output_type": "display_data"
    },
    {
     "data": {
      "text/plain": [
       "<xtrack.line.Line at 0x7fc837334df0>"
      ]
     },
     "execution_count": 4,
     "metadata": {},
     "output_type": "execute_result"
    }
   ],
   "source": [
    "end_s = line.get_length()\n",
    "\n",
    "TCCS_name = 'tccs.5r3.b2'\n",
    "TCCP_name = 'tccp.4l3.b2'\n",
    "TARGET_name = 'target.4l3.b2'\n",
    "PIXEL_name = 'pixel.detector'\n",
    "TCP_name = 'tcp.d6r7.b2'\n",
    "TCLA_name = 'tcla.a5l3.b2'\n",
    "\n",
    "d_pix = 1 # [m]\n",
    "ydim_PIXEL = 0.01408\n",
    "xdim_PIXEL = 0.04246\n",
    "\n",
    "TCCS_loc = end_s - 6773.7 #6775\n",
    "TCCP_loc = end_s - 6653.3 #6655\n",
    "\n",
    "dx = 1e-11\n",
    "TARGET_loc = end_s - (6653.3 + coll_dict[TCCP_name][\"length\"]/2 + coll_dict[TARGET_name][\"length\"]/2 + dx)\n",
    "PIXEL_loc = end_s - (6653.3 - coll_dict[TCCP_name][\"length\"]/2 - d_pix)\n",
    "TCP_loc = line.get_s_position()[line.element_names.index(TCP_name)]\n",
    "TCLA_loc = line.get_s_position()[line.element_names.index(TCLA_name)]\n",
    "\n",
    "\n",
    "line.insert_element(at_s=TCCS_loc, element=xt.Marker(), name=TCCS_name)\n",
    "line.insert_element(at_s=TCCS_loc, element=xt.LimitEllipse(a_squ=0.0016, b_squ=0.0016, a_b_squ=2.56e-06), name=TCCS_name+'_aper')\n",
    "line.insert_element(at_s=TCCP_loc, element=xt.Marker(), name=TCCP_name)\n",
    "line.insert_element(at_s=TCCP_loc, element=xt.LimitEllipse(a_squ=0.0016, b_squ=0.0016, a_b_squ=2.56e-06), name=TCCP_name+'_aper')\n",
    "line.insert_element(at_s=TARGET_loc, element=xt.Marker(), name=TARGET_name)\n",
    "line.insert_element(at_s=TARGET_loc, element=xt.LimitEllipse(a_squ=0.0016, b_squ=0.0016, a_b_squ=2.56e-06), name= TARGET_name + '_aper')\n",
    "line.insert_element(at_s=PIXEL_loc, element=xt.Marker(), name=PIXEL_name)"
   ]
  },
  {
   "cell_type": "code",
   "execution_count": 6,
   "id": "615cabff",
   "metadata": {},
   "outputs": [
    {
     "name": "stdout",
     "output_type": "stream",
     "text": [
      "Compiling ContextCpu kernels...\n"
     ]
    },
    {
     "name": "stderr",
     "output_type": "stream",
     "text": [
      "cd68becbd54a4ca7ab4e8f0c1c6ba32c.c: In function 'scatter_cry':\n",
      "cd68becbd54a4ca7ab4e8f0c1c6ba32c.c:10560:28: warning: unused variable 'x_P' [-Wunused-variable]\n",
      "10560 |                     double x_P = -s_P_tmp*sin(tilt_int) + x_P_tmp*cos(tilt_int);\n",
      "      |                            ^~~\n",
      "cd68becbd54a4ca7ab4e8f0c1c6ba32c.c:10559:28: warning: unused variable 's_P' [-Wunused-variable]\n",
      "10559 |                     double s_P = s_P_tmp*cos(tilt_int) + x_P_tmp*sin(tilt_int);\n",
      "      |                            ^~~\n",
      "cd68becbd54a4ca7ab4e8f0c1c6ba32c.c:10457:18: warning: unused variable 'cry_spTilt' [-Wunused-variable]\n",
      "10457 |     double const cry_spTilt = sin(cry_tilt);\n",
      "      |                  ^~~~~~~~~~\n",
      "cd68becbd54a4ca7ab4e8f0c1c6ba32c.c:10447:12: warning: unused variable 'offset' [-Wunused-variable]\n",
      "10447 |     double offset   = everest->coll->offset;\n",
      "      |            ^~~~~~\n"
     ]
    },
    {
     "name": "stdout",
     "output_type": "stream",
     "text": [
      "Done compiling ContextCpu kernels.\n",
      "Installing tcpcv.a6r7.b2        as EverestCrystal\n"
     ]
    },
    {
     "data": {
      "application/vnd.jupyter.widget-view+json": {
       "model_id": "5f51f943251d4df3a86a6e3cbb60bccf",
       "version_major": 2,
       "version_minor": 0
      },
      "text/plain": [
       "Slicing line:   0%|          | 0/175750 [00:00<?, ?it/s]"
      ]
     },
     "metadata": {},
     "output_type": "display_data"
    },
    {
     "name": "stdout",
     "output_type": "stream",
     "text": [
      "Installing tcpch.a5r7.b2        as EverestCrystal\n"
     ]
    },
    {
     "data": {
      "application/vnd.jupyter.widget-view+json": {
       "model_id": "95faf506512840338e60df07515757e2",
       "version_major": 2,
       "version_minor": 0
      },
      "text/plain": [
       "Slicing line:   0%|          | 0/175749 [00:00<?, ?it/s]"
      ]
     },
     "metadata": {},
     "output_type": "display_data"
    },
    {
     "name": "stdout",
     "output_type": "stream",
     "text": [
      "Installing tccs.5r3.b2          as EverestCrystal\n",
      "Warning: Removed active element drift_23526..1 at location inside collimator!\n"
     ]
    },
    {
     "data": {
      "application/vnd.jupyter.widget-view+json": {
       "model_id": "f87bfb9fae2c4e03b448f7aa352caf60",
       "version_major": 2,
       "version_minor": 0
      },
      "text/plain": [
       "Slicing line:   0%|          | 0/175749 [00:00<?, ?it/s]"
      ]
     },
     "metadata": {},
     "output_type": "display_data"
    },
    {
     "name": "stdout",
     "output_type": "stream",
     "text": [
      "Installing tccp.4l3.b2          as EverestCrystal\n",
      "Warning: Removed active element drift_23643..1..0 at location inside collimator!\n"
     ]
    },
    {
     "data": {
      "application/vnd.jupyter.widget-view+json": {
       "model_id": "05e7ecb5e62643438fa2c0f1b622f8d3",
       "version_major": 2,
       "version_minor": 0
      },
      "text/plain": [
       "Slicing line:   0%|          | 0/175741 [00:00<?, ?it/s]"
      ]
     },
     "metadata": {},
     "output_type": "display_data"
    },
    {
     "name": "stdout",
     "output_type": "stream",
     "text": [
      "Compiling ContextCpu kernels...\n"
     ]
    },
    {
     "name": "stderr",
     "output_type": "stream",
     "text": [
      "f0d5e525472f4b2599aaf62fd80b1448.c: In function 'scatter_cry':\n",
      "f0d5e525472f4b2599aaf62fd80b1448.c:10560:28: warning: unused variable 'x_P' [-Wunused-variable]\n",
      "10560 |                     double x_P = -s_P_tmp*sin(tilt_int) + x_P_tmp*cos(tilt_int);\n",
      "      |                            ^~~\n",
      "f0d5e525472f4b2599aaf62fd80b1448.c:10559:28: warning: unused variable 's_P' [-Wunused-variable]\n",
      "10559 |                     double s_P = s_P_tmp*cos(tilt_int) + x_P_tmp*sin(tilt_int);\n",
      "      |                            ^~~\n",
      "f0d5e525472f4b2599aaf62fd80b1448.c:10457:18: warning: unused variable 'cry_spTilt' [-Wunused-variable]\n",
      "10457 |     double const cry_spTilt = sin(cry_tilt);\n",
      "      |                  ^~~~~~~~~~\n",
      "f0d5e525472f4b2599aaf62fd80b1448.c:10447:12: warning: unused variable 'offset' [-Wunused-variable]\n",
      "10447 |     double offset   = everest->coll->offset;\n",
      "      |            ^~~~~~\n"
     ]
    },
    {
     "name": "stdout",
     "output_type": "stream",
     "text": [
      "Done compiling ContextCpu kernels.\n",
      "Installing tcl.4l1.b2           as EverestCollimator\n"
     ]
    },
    {
     "data": {
      "application/vnd.jupyter.widget-view+json": {
       "model_id": "6c9b9ec8db2e4d64972dec6aba256250",
       "version_major": 2,
       "version_minor": 0
      },
      "text/plain": [
       "Slicing line:   0%|          | 0/175725 [00:00<?, ?it/s]"
      ]
     },
     "metadata": {},
     "output_type": "display_data"
    },
    {
     "name": "stdout",
     "output_type": "stream",
     "text": [
      "Installing tcl.5l1.b2           as EverestCollimator\n"
     ]
    },
    {
     "data": {
      "application/vnd.jupyter.widget-view+json": {
       "model_id": "574c28089fb9401ab4d5b6a67255a1be",
       "version_major": 2,
       "version_minor": 0
      },
      "text/plain": [
       "Slicing line:   0%|          | 0/175718 [00:00<?, ?it/s]"
      ]
     },
     "metadata": {},
     "output_type": "display_data"
    },
    {
     "name": "stdout",
     "output_type": "stream",
     "text": [
      "Installing tcl.6l1.b2           as EverestCollimator\n"
     ]
    },
    {
     "data": {
      "application/vnd.jupyter.widget-view+json": {
       "model_id": "d3ec045b7a6a4c2f899ee68aa0876f29",
       "version_major": 2,
       "version_minor": 0
      },
      "text/plain": [
       "Slicing line:   0%|          | 0/175707 [00:00<?, ?it/s]"
      ]
     },
     "metadata": {},
     "output_type": "display_data"
    },
    {
     "name": "stdout",
     "output_type": "stream",
     "text": [
      "Installing tctph.4r8.b2         as EverestCollimator\n"
     ]
    },
    {
     "data": {
      "application/vnd.jupyter.widget-view+json": {
       "model_id": "51e6555ec0ff4ab3983240a486486238",
       "version_major": 2,
       "version_minor": 0
      },
      "text/plain": [
       "Slicing line:   0%|          | 0/175696 [00:00<?, ?it/s]"
      ]
     },
     "metadata": {},
     "output_type": "display_data"
    },
    {
     "name": "stdout",
     "output_type": "stream",
     "text": [
      "Installing tctpv.4r8.b2         as EverestCollimator\n"
     ]
    },
    {
     "data": {
      "application/vnd.jupyter.widget-view+json": {
       "model_id": "8fb86e048d6e41a9bca872152dfdef10",
       "version_major": 2,
       "version_minor": 0
      },
      "text/plain": [
       "Slicing line:   0%|          | 0/175690 [00:00<?, ?it/s]"
      ]
     },
     "metadata": {},
     "output_type": "display_data"
    },
    {
     "name": "stdout",
     "output_type": "stream",
     "text": [
      "Installing tdisa.a4r8.b2        as EverestCollimator\n"
     ]
    },
    {
     "data": {
      "application/vnd.jupyter.widget-view+json": {
       "model_id": "7010f1d0485d430f93164343db56b671",
       "version_major": 2,
       "version_minor": 0
      },
      "text/plain": [
       "Slicing line:   0%|          | 0/175683 [00:00<?, ?it/s]"
      ]
     },
     "metadata": {},
     "output_type": "display_data"
    },
    {
     "name": "stdout",
     "output_type": "stream",
     "text": [
      "Installing tdisb.a4r8.b2        as EverestCollimator\n"
     ]
    },
    {
     "data": {
      "application/vnd.jupyter.widget-view+json": {
       "model_id": "8fd4bda879dc45eb8ae7ed823039029d",
       "version_major": 2,
       "version_minor": 0
      },
      "text/plain": [
       "Slicing line:   0%|          | 0/175674 [00:00<?, ?it/s]"
      ]
     },
     "metadata": {},
     "output_type": "display_data"
    },
    {
     "name": "stdout",
     "output_type": "stream",
     "text": [
      "Installing tdisc.a4r8.b2        as EverestCollimator\n"
     ]
    },
    {
     "data": {
      "application/vnd.jupyter.widget-view+json": {
       "model_id": "6991d94538134267be337c1ec8191d33",
       "version_major": 2,
       "version_minor": 0
      },
      "text/plain": [
       "Slicing line:   0%|          | 0/175663 [00:00<?, ?it/s]"
      ]
     },
     "metadata": {},
     "output_type": "display_data"
    },
    {
     "name": "stdout",
     "output_type": "stream",
     "text": [
      "Installing tclia.4l8            as EverestCollimator\n"
     ]
    },
    {
     "data": {
      "application/vnd.jupyter.widget-view+json": {
       "model_id": "daf19b5442ae4f19854832be42d686be",
       "version_major": 2,
       "version_minor": 0
      },
      "text/plain": [
       "Slicing line:   0%|          | 0/175653 [00:00<?, ?it/s]"
      ]
     },
     "metadata": {},
     "output_type": "display_data"
    },
    {
     "name": "stdout",
     "output_type": "stream",
     "text": [
      "Installing tclib.6l8.b2         as EverestCollimator\n"
     ]
    },
    {
     "data": {
      "application/vnd.jupyter.widget-view+json": {
       "model_id": "7dc8420e47a34e53ae3d9d01198cc2f6",
       "version_major": 2,
       "version_minor": 0
      },
      "text/plain": [
       "Slicing line:   0%|          | 0/175651 [00:00<?, ?it/s]"
      ]
     },
     "metadata": {},
     "output_type": "display_data"
    },
    {
     "name": "stdout",
     "output_type": "stream",
     "text": [
      "Installing tcp.d6r7.b2          as EverestCollimator\n"
     ]
    },
    {
     "data": {
      "application/vnd.jupyter.widget-view+json": {
       "model_id": "57595c381320402dbfd73e6ff7dc59fd",
       "version_major": 2,
       "version_minor": 0
      },
      "text/plain": [
       "Slicing line:   0%|          | 0/175645 [00:00<?, ?it/s]"
      ]
     },
     "metadata": {},
     "output_type": "display_data"
    },
    {
     "name": "stdout",
     "output_type": "stream",
     "text": [
      "Installing tcp.c6r7.b2          as EverestCollimator\n"
     ]
    },
    {
     "data": {
      "application/vnd.jupyter.widget-view+json": {
       "model_id": "2b5d138e68b24affb18fda84e528b557",
       "version_major": 2,
       "version_minor": 0
      },
      "text/plain": [
       "Slicing line:   0%|          | 0/175639 [00:00<?, ?it/s]"
      ]
     },
     "metadata": {},
     "output_type": "display_data"
    },
    {
     "name": "stdout",
     "output_type": "stream",
     "text": [
      "Installing tcp.b6r7.b2          as EverestCollimator\n"
     ]
    },
    {
     "data": {
      "application/vnd.jupyter.widget-view+json": {
       "model_id": "48ffabc49fd74c729f19f982dd8f433a",
       "version_major": 2,
       "version_minor": 0
      },
      "text/plain": [
       "Slicing line:   0%|          | 0/175633 [00:00<?, ?it/s]"
      ]
     },
     "metadata": {},
     "output_type": "display_data"
    },
    {
     "name": "stdout",
     "output_type": "stream",
     "text": [
      "Installing tcsg.a6r7.b2         as EverestCollimator\n"
     ]
    },
    {
     "data": {
      "application/vnd.jupyter.widget-view+json": {
       "model_id": "118bb9f777b946e199664f7ea2a4cefb",
       "version_major": 2,
       "version_minor": 0
      },
      "text/plain": [
       "Slicing line:   0%|          | 0/175623 [00:00<?, ?it/s]"
      ]
     },
     "metadata": {},
     "output_type": "display_data"
    },
    {
     "name": "stdout",
     "output_type": "stream",
     "text": [
      "Installing tcsg.b5r7.b2         as EverestCollimator\n"
     ]
    },
    {
     "data": {
      "application/vnd.jupyter.widget-view+json": {
       "model_id": "481f36356c664eaa8fde9a7f471aee60",
       "version_major": 2,
       "version_minor": 0
      },
      "text/plain": [
       "Slicing line:   0%|          | 0/175621 [00:00<?, ?it/s]"
      ]
     },
     "metadata": {},
     "output_type": "display_data"
    },
    {
     "name": "stdout",
     "output_type": "stream",
     "text": [
      "Installing tcsg.a5r7.b2         as EverestCollimator\n"
     ]
    },
    {
     "data": {
      "application/vnd.jupyter.widget-view+json": {
       "model_id": "995e739c751949ffb9053f5afcf48a0c",
       "version_major": 2,
       "version_minor": 0
      },
      "text/plain": [
       "Slicing line:   0%|          | 0/175615 [00:00<?, ?it/s]"
      ]
     },
     "metadata": {},
     "output_type": "display_data"
    },
    {
     "name": "stdout",
     "output_type": "stream",
     "text": [
      "Installing tcsg.d4r7.b2         as EverestCollimator\n"
     ]
    },
    {
     "data": {
      "application/vnd.jupyter.widget-view+json": {
       "model_id": "e467aac31a5e443f9059d302289411d1",
       "version_major": 2,
       "version_minor": 0
      },
      "text/plain": [
       "Slicing line:   0%|          | 0/175609 [00:00<?, ?it/s]"
      ]
     },
     "metadata": {},
     "output_type": "display_data"
    },
    {
     "name": "stdout",
     "output_type": "stream",
     "text": [
      "Installing tcspm.d4r7.b2        as EverestCollimator\n"
     ]
    },
    {
     "data": {
      "application/vnd.jupyter.widget-view+json": {
       "model_id": "65f93fff41b5450d874904d3a9ba9188",
       "version_major": 2,
       "version_minor": 0
      },
      "text/plain": [
       "Slicing line:   0%|          | 0/175606 [00:00<?, ?it/s]"
      ]
     },
     "metadata": {},
     "output_type": "display_data"
    },
    {
     "name": "stdout",
     "output_type": "stream",
     "text": [
      "Installing tcsg.b4r7.b2         as EverestCollimator\n"
     ]
    },
    {
     "data": {
      "application/vnd.jupyter.widget-view+json": {
       "model_id": "62a0e1f8d2b44012bee72cba3842b09b",
       "version_major": 2,
       "version_minor": 0
      },
      "text/plain": [
       "Slicing line:   0%|          | 0/175600 [00:00<?, ?it/s]"
      ]
     },
     "metadata": {},
     "output_type": "display_data"
    },
    {
     "name": "stdout",
     "output_type": "stream",
     "text": [
      "Installing tcspm.b4r7.b2        as EverestCollimator\n"
     ]
    },
    {
     "data": {
      "application/vnd.jupyter.widget-view+json": {
       "model_id": "be9dddc49cb74fd7bd94d56ca5fdfd09",
       "version_major": 2,
       "version_minor": 0
      },
      "text/plain": [
       "Slicing line:   0%|          | 0/175597 [00:00<?, ?it/s]"
      ]
     },
     "metadata": {},
     "output_type": "display_data"
    },
    {
     "name": "stdout",
     "output_type": "stream",
     "text": [
      "Installing tcsg.a4r7.b2         as EverestCollimator\n"
     ]
    },
    {
     "data": {
      "application/vnd.jupyter.widget-view+json": {
       "model_id": "4be938fcc97b49bb95a52b89f9f05143",
       "version_major": 2,
       "version_minor": 0
      },
      "text/plain": [
       "Slicing line:   0%|          | 0/175591 [00:00<?, ?it/s]"
      ]
     },
     "metadata": {},
     "output_type": "display_data"
    },
    {
     "name": "stdout",
     "output_type": "stream",
     "text": [
      "Installing tcsg.a4l7.b2         as EverestCollimator\n"
     ]
    },
    {
     "data": {
      "application/vnd.jupyter.widget-view+json": {
       "model_id": "fcb6f04c5b57424198b7eb6d642e6d56",
       "version_major": 2,
       "version_minor": 0
      },
      "text/plain": [
       "Slicing line:   0%|          | 0/175585 [00:00<?, ?it/s]"
      ]
     },
     "metadata": {},
     "output_type": "display_data"
    },
    {
     "name": "stdout",
     "output_type": "stream",
     "text": [
      "Installing tcsg.b5l7.b2         as EverestCollimator\n"
     ]
    },
    {
     "data": {
      "application/vnd.jupyter.widget-view+json": {
       "model_id": "4bcb493209454094862379ab619e0c86",
       "version_major": 2,
       "version_minor": 0
      },
      "text/plain": [
       "Slicing line:   0%|          | 0/175579 [00:00<?, ?it/s]"
      ]
     },
     "metadata": {},
     "output_type": "display_data"
    },
    {
     "name": "stdout",
     "output_type": "stream",
     "text": [
      "Installing tcsg.d5l7.b2         as EverestCollimator\n"
     ]
    },
    {
     "data": {
      "application/vnd.jupyter.widget-view+json": {
       "model_id": "1959a8bdbc0a4ccfa63f45fb5c742021",
       "version_major": 2,
       "version_minor": 0
      },
      "text/plain": [
       "Slicing line:   0%|          | 0/175573 [00:00<?, ?it/s]"
      ]
     },
     "metadata": {},
     "output_type": "display_data"
    },
    {
     "name": "stdout",
     "output_type": "stream",
     "text": [
      "Installing tcsg.e5l7.b2         as EverestCollimator\n"
     ]
    },
    {
     "data": {
      "application/vnd.jupyter.widget-view+json": {
       "model_id": "1329735eac374d85a590e9fdf228ad9a",
       "version_major": 2,
       "version_minor": 0
      },
      "text/plain": [
       "Slicing line:   0%|          | 0/175567 [00:00<?, ?it/s]"
      ]
     },
     "metadata": {},
     "output_type": "display_data"
    },
    {
     "name": "stdout",
     "output_type": "stream",
     "text": [
      "Installing tcspm.e5l7.b2        as EverestCollimator\n"
     ]
    },
    {
     "data": {
      "application/vnd.jupyter.widget-view+json": {
       "model_id": "9ebc3db3658742c499d1ff228c46dd94",
       "version_major": 2,
       "version_minor": 0
      },
      "text/plain": [
       "Slicing line:   0%|          | 0/175564 [00:00<?, ?it/s]"
      ]
     },
     "metadata": {},
     "output_type": "display_data"
    },
    {
     "name": "stdout",
     "output_type": "stream",
     "text": [
      "Installing tcsg.6l7.b2          as EverestCollimator\n"
     ]
    },
    {
     "data": {
      "application/vnd.jupyter.widget-view+json": {
       "model_id": "1dbb13ea12ca4851a7e056a2ac611583",
       "version_major": 2,
       "version_minor": 0
      },
      "text/plain": [
       "Slicing line:   0%|          | 0/175558 [00:00<?, ?it/s]"
      ]
     },
     "metadata": {},
     "output_type": "display_data"
    },
    {
     "name": "stdout",
     "output_type": "stream",
     "text": [
      "Installing tcspm.6l7.b2         as EverestCollimator\n"
     ]
    },
    {
     "data": {
      "application/vnd.jupyter.widget-view+json": {
       "model_id": "6c98e1cc2cca4bf5beae73ccd32a5626",
       "version_major": 2,
       "version_minor": 0
      },
      "text/plain": [
       "Slicing line:   0%|          | 0/175555 [00:00<?, ?it/s]"
      ]
     },
     "metadata": {},
     "output_type": "display_data"
    },
    {
     "name": "stdout",
     "output_type": "stream",
     "text": [
      "Installing tcla.a6l7.b2         as EverestCollimator\n"
     ]
    },
    {
     "data": {
      "application/vnd.jupyter.widget-view+json": {
       "model_id": "e11ab50afa3c4e909daab2035a5cd657",
       "version_major": 2,
       "version_minor": 0
      },
      "text/plain": [
       "Slicing line:   0%|          | 0/175549 [00:00<?, ?it/s]"
      ]
     },
     "metadata": {},
     "output_type": "display_data"
    },
    {
     "name": "stdout",
     "output_type": "stream",
     "text": [
      "Installing tcla.b6l7.b2         as EverestCollimator\n"
     ]
    },
    {
     "data": {
      "application/vnd.jupyter.widget-view+json": {
       "model_id": "c0ce14188e9744ec9bfee349312aa9b2",
       "version_major": 2,
       "version_minor": 0
      },
      "text/plain": [
       "Slicing line:   0%|          | 0/175539 [00:00<?, ?it/s]"
      ]
     },
     "metadata": {},
     "output_type": "display_data"
    },
    {
     "name": "stdout",
     "output_type": "stream",
     "text": [
      "Installing tcla.c6l7.b2         as EverestCollimator\n"
     ]
    },
    {
     "data": {
      "application/vnd.jupyter.widget-view+json": {
       "model_id": "d6b031366987461094cd4e575e0587b7",
       "version_major": 2,
       "version_minor": 0
      },
      "text/plain": [
       "Slicing line:   0%|          | 0/175537 [00:00<?, ?it/s]"
      ]
     },
     "metadata": {},
     "output_type": "display_data"
    },
    {
     "name": "stdout",
     "output_type": "stream",
     "text": [
      "Installing tcla.d6l7.b2         as EverestCollimator\n"
     ]
    },
    {
     "data": {
      "application/vnd.jupyter.widget-view+json": {
       "model_id": "c444778f613645219fbb2bc6b5e91e1e",
       "version_major": 2,
       "version_minor": 0
      },
      "text/plain": [
       "Slicing line:   0%|          | 0/175531 [00:00<?, ?it/s]"
      ]
     },
     "metadata": {},
     "output_type": "display_data"
    },
    {
     "name": "stdout",
     "output_type": "stream",
     "text": [
      "Installing tcla.a7l7.b2         as EverestCollimator\n"
     ]
    },
    {
     "data": {
      "application/vnd.jupyter.widget-view+json": {
       "model_id": "36beda56f26842baa91b0bfc01dc6c1d",
       "version_major": 2,
       "version_minor": 0
      },
      "text/plain": [
       "Slicing line:   0%|          | 0/175525 [00:00<?, ?it/s]"
      ]
     },
     "metadata": {},
     "output_type": "display_data"
    },
    {
     "name": "stdout",
     "output_type": "stream",
     "text": [
      "Installing tcdqa.a4l6.b2        as EverestCollimator\n"
     ]
    },
    {
     "data": {
      "application/vnd.jupyter.widget-view+json": {
       "model_id": "dfc3224cb8de4a3398d4c8d933d66f27",
       "version_major": 2,
       "version_minor": 0
      },
      "text/plain": [
       "Slicing line:   0%|          | 0/175523 [00:00<?, ?it/s]"
      ]
     },
     "metadata": {},
     "output_type": "display_data"
    },
    {
     "name": "stdout",
     "output_type": "stream",
     "text": [
      "Installing tcdqa.c4l6.b2        as EverestCollimator\n"
     ]
    },
    {
     "data": {
      "application/vnd.jupyter.widget-view+json": {
       "model_id": "3aa09881cabc41e496a2648ad7fc4687",
       "version_major": 2,
       "version_minor": 0
      },
      "text/plain": [
       "Slicing line:   0%|          | 0/175522 [00:00<?, ?it/s]"
      ]
     },
     "metadata": {},
     "output_type": "display_data"
    },
    {
     "name": "stdout",
     "output_type": "stream",
     "text": [
      "Installing tcdqa.b4l6.b2        as EverestCollimator\n"
     ]
    },
    {
     "data": {
      "application/vnd.jupyter.widget-view+json": {
       "model_id": "040c8f575e0643ed80b405f8ffb76e38",
       "version_major": 2,
       "version_minor": 0
      },
      "text/plain": [
       "Slicing line:   0%|          | 0/175521 [00:00<?, ?it/s]"
      ]
     },
     "metadata": {},
     "output_type": "display_data"
    },
    {
     "name": "stdout",
     "output_type": "stream",
     "text": [
      "Installing tcsp.a4l6.b2         as EverestCollimator\n"
     ]
    },
    {
     "data": {
      "application/vnd.jupyter.widget-view+json": {
       "model_id": "6f17dbb1d19847ee9aa7b67fde154aaa",
       "version_major": 2,
       "version_minor": 0
      },
      "text/plain": [
       "Slicing line:   0%|          | 0/175516 [00:00<?, ?it/s]"
      ]
     },
     "metadata": {},
     "output_type": "display_data"
    },
    {
     "name": "stdout",
     "output_type": "stream",
     "text": [
      "Installing tctph.4r5.b2         as EverestCollimator\n"
     ]
    },
    {
     "data": {
      "application/vnd.jupyter.widget-view+json": {
       "model_id": "1b51226d1652494b9a672c4ac0dc1b09",
       "version_major": 2,
       "version_minor": 0
      },
      "text/plain": [
       "Slicing line:   0%|          | 0/175506 [00:00<?, ?it/s]"
      ]
     },
     "metadata": {},
     "output_type": "display_data"
    },
    {
     "name": "stdout",
     "output_type": "stream",
     "text": [
      "Installing tctpv.4r5.b2         as EverestCollimator\n"
     ]
    },
    {
     "data": {
      "application/vnd.jupyter.widget-view+json": {
       "model_id": "409ec0f192ba4eda90f606a1c49968df",
       "version_major": 2,
       "version_minor": 0
      },
      "text/plain": [
       "Slicing line:   0%|          | 0/175500 [00:00<?, ?it/s]"
      ]
     },
     "metadata": {},
     "output_type": "display_data"
    },
    {
     "name": "stdout",
     "output_type": "stream",
     "text": [
      "Installing tcl.4l5.b2           as EverestCollimator\n"
     ]
    },
    {
     "data": {
      "application/vnd.jupyter.widget-view+json": {
       "model_id": "1752535ebe1646e18dadca65ed40f57c",
       "version_major": 2,
       "version_minor": 0
      },
      "text/plain": [
       "Slicing line:   0%|          | 0/175494 [00:00<?, ?it/s]"
      ]
     },
     "metadata": {},
     "output_type": "display_data"
    },
    {
     "name": "stdout",
     "output_type": "stream",
     "text": [
      "Installing tcl.5l5.b2           as EverestCollimator\n"
     ]
    },
    {
     "data": {
      "application/vnd.jupyter.widget-view+json": {
       "model_id": "c31e47f44a37416cad952b76754d6239",
       "version_major": 2,
       "version_minor": 0
      },
      "text/plain": [
       "Slicing line:   0%|          | 0/175492 [00:00<?, ?it/s]"
      ]
     },
     "metadata": {},
     "output_type": "display_data"
    },
    {
     "name": "stdout",
     "output_type": "stream",
     "text": [
      "Installing tcl.6l5.b2           as EverestCollimator\n"
     ]
    },
    {
     "data": {
      "application/vnd.jupyter.widget-view+json": {
       "model_id": "5731277641f94fc583beede60b10670b",
       "version_major": 2,
       "version_minor": 0
      },
      "text/plain": [
       "Slicing line:   0%|          | 0/175486 [00:00<?, ?it/s]"
      ]
     },
     "metadata": {},
     "output_type": "display_data"
    },
    {
     "name": "stdout",
     "output_type": "stream",
     "text": [
      "Installing tcp.6r3.b2           as EverestCollimator\n"
     ]
    },
    {
     "data": {
      "application/vnd.jupyter.widget-view+json": {
       "model_id": "8c3be9712d4f44938e8e2f556675f01c",
       "version_major": 2,
       "version_minor": 0
      },
      "text/plain": [
       "Slicing line:   0%|          | 0/175470 [00:00<?, ?it/s]"
      ]
     },
     "metadata": {},
     "output_type": "display_data"
    },
    {
     "name": "stdout",
     "output_type": "stream",
     "text": [
      "Installing tcsg.5r3.b2          as EverestCollimator\n"
     ]
    },
    {
     "data": {
      "application/vnd.jupyter.widget-view+json": {
       "model_id": "225cc2d851494d2693380e91f7c8fe6e",
       "version_major": 2,
       "version_minor": 0
      },
      "text/plain": [
       "Slicing line:   0%|          | 0/175467 [00:00<?, ?it/s]"
      ]
     },
     "metadata": {},
     "output_type": "display_data"
    },
    {
     "name": "stdout",
     "output_type": "stream",
     "text": [
      "Installing tcsg.4l3.b2          as EverestCollimator\n"
     ]
    },
    {
     "data": {
      "application/vnd.jupyter.widget-view+json": {
       "model_id": "ebc18bfeb1b54938b7f11241bbe3e70a",
       "version_major": 2,
       "version_minor": 0
      },
      "text/plain": [
       "Slicing line:   0%|          | 0/175457 [00:00<?, ?it/s]"
      ]
     },
     "metadata": {},
     "output_type": "display_data"
    },
    {
     "name": "stdout",
     "output_type": "stream",
     "text": [
      "Installing tcsg.a5l3.b2         as EverestCollimator\n"
     ]
    },
    {
     "data": {
      "application/vnd.jupyter.widget-view+json": {
       "model_id": "8ed88ee1d11c49b6baa0992ddfe922ec",
       "version_major": 2,
       "version_minor": 0
      },
      "text/plain": [
       "Slicing line:   0%|          | 0/175446 [00:00<?, ?it/s]"
      ]
     },
     "metadata": {},
     "output_type": "display_data"
    },
    {
     "name": "stdout",
     "output_type": "stream",
     "text": [
      "Installing tcsg.b5l3.b2         as EverestCollimator\n"
     ]
    },
    {
     "data": {
      "application/vnd.jupyter.widget-view+json": {
       "model_id": "53187cca456e4bfd87ad6e193a9eb1af",
       "version_major": 2,
       "version_minor": 0
      },
      "text/plain": [
       "Slicing line:   0%|          | 0/175435 [00:00<?, ?it/s]"
      ]
     },
     "metadata": {},
     "output_type": "display_data"
    },
    {
     "name": "stdout",
     "output_type": "stream",
     "text": [
      "Installing tcla.a5l3.b2         as EverestCollimator\n"
     ]
    },
    {
     "data": {
      "application/vnd.jupyter.widget-view+json": {
       "model_id": "4291846169fc46a1a814026ca0f2dc67",
       "version_major": 2,
       "version_minor": 0
      },
      "text/plain": [
       "Slicing line:   0%|          | 0/175424 [00:00<?, ?it/s]"
      ]
     },
     "metadata": {},
     "output_type": "display_data"
    },
    {
     "name": "stdout",
     "output_type": "stream",
     "text": [
      "Installing tcla.b5l3.b2         as EverestCollimator\n"
     ]
    },
    {
     "data": {
      "application/vnd.jupyter.widget-view+json": {
       "model_id": "3367abf44350473d8a36f9c1a6fec9f9",
       "version_major": 2,
       "version_minor": 0
      },
      "text/plain": [
       "Slicing line:   0%|          | 0/175413 [00:00<?, ?it/s]"
      ]
     },
     "metadata": {},
     "output_type": "display_data"
    },
    {
     "name": "stdout",
     "output_type": "stream",
     "text": [
      "Installing tcla.6l3.b2          as EverestCollimator\n"
     ]
    },
    {
     "data": {
      "application/vnd.jupyter.widget-view+json": {
       "model_id": "988932e362a64d309caa52f94e5b3aa0",
       "version_major": 2,
       "version_minor": 0
      },
      "text/plain": [
       "Slicing line:   0%|          | 0/175402 [00:00<?, ?it/s]"
      ]
     },
     "metadata": {},
     "output_type": "display_data"
    },
    {
     "name": "stdout",
     "output_type": "stream",
     "text": [
      "Installing tcla.7l3.b2          as EverestCollimator\n"
     ]
    },
    {
     "data": {
      "application/vnd.jupyter.widget-view+json": {
       "model_id": "7ce0b4141a4f47cb8ee2e3e3552aed1a",
       "version_major": 2,
       "version_minor": 0
      },
      "text/plain": [
       "Slicing line:   0%|          | 0/175400 [00:00<?, ?it/s]"
      ]
     },
     "metadata": {},
     "output_type": "display_data"
    },
    {
     "name": "stdout",
     "output_type": "stream",
     "text": [
      "Installing tctph.4r2.b2         as EverestCollimator\n"
     ]
    },
    {
     "data": {
      "application/vnd.jupyter.widget-view+json": {
       "model_id": "54f78d0a55bb4038ab5c82e3aecdb0b7",
       "version_major": 2,
       "version_minor": 0
      },
      "text/plain": [
       "Slicing line:   0%|          | 0/175390 [00:00<?, ?it/s]"
      ]
     },
     "metadata": {},
     "output_type": "display_data"
    },
    {
     "name": "stdout",
     "output_type": "stream",
     "text": [
      "Installing tctpv.4r2.b2         as EverestCollimator\n"
     ]
    },
    {
     "data": {
      "application/vnd.jupyter.widget-view+json": {
       "model_id": "6d5df49c649c494ea8a075b92e09fff9",
       "version_major": 2,
       "version_minor": 0
      },
      "text/plain": [
       "Slicing line:   0%|          | 0/175384 [00:00<?, ?it/s]"
      ]
     },
     "metadata": {},
     "output_type": "display_data"
    },
    {
     "name": "stdout",
     "output_type": "stream",
     "text": [
      "Installing tcld.a11l2.b2        as EverestCollimator\n"
     ]
    },
    {
     "data": {
      "application/vnd.jupyter.widget-view+json": {
       "model_id": "236db0dc19614fa58dda980d2f3be017",
       "version_major": 2,
       "version_minor": 0
      },
      "text/plain": [
       "Slicing line:   0%|          | 0/175385 [00:00<?, ?it/s]"
      ]
     },
     "metadata": {},
     "output_type": "display_data"
    },
    {
     "name": "stdout",
     "output_type": "stream",
     "text": [
      "Installing tctph.4r1.b2         as EverestCollimator\n"
     ]
    },
    {
     "data": {
      "application/vnd.jupyter.widget-view+json": {
       "model_id": "e6cc9bc9afd9436da5a55b2061e60434",
       "version_major": 2,
       "version_minor": 0
      },
      "text/plain": [
       "Slicing line:   0%|          | 0/175369 [00:00<?, ?it/s]"
      ]
     },
     "metadata": {},
     "output_type": "display_data"
    },
    {
     "name": "stdout",
     "output_type": "stream",
     "text": [
      "Installing tctpv.4r1.b2         as EverestCollimator\n"
     ]
    },
    {
     "data": {
      "application/vnd.jupyter.widget-view+json": {
       "model_id": "54761de2615843f2a0f756b99a14828c",
       "version_major": 2,
       "version_minor": 0
      },
      "text/plain": [
       "Slicing line:   0%|          | 0/175356 [00:00<?, ?it/s]"
      ]
     },
     "metadata": {},
     "output_type": "display_data"
    },
    {
     "name": "stdout",
     "output_type": "stream",
     "text": [
      "\n",
      "Aperture model check after introducing collimators:\n"
     ]
    },
    {
     "data": {
      "application/vnd.jupyter.widget-view+json": {
       "model_id": "16b0e3c7b1504d02a6f34fde5f9df966",
       "version_major": 2,
       "version_minor": 0
      },
      "text/plain": [
       "Checking aperture:   0%|          | 0/175359 [00:00<?, ?it/s]"
      ]
     },
     "metadata": {},
     "output_type": "display_data"
    },
    {
     "name": "stdout",
     "output_type": "stream",
     "text": [
      "Done checking aperture.           \n",
      "0 thin elements miss associated aperture (upstream):\n",
      "[]\n",
      "13 thick elements miss associated aperture (upstream or downstream):\n",
      "['drift_8443..0',\n",
      " 'drift_8451..0',\n",
      " 'drift_8648..0',\n",
      " 'drift_8656..0',\n",
      " 'drift_8658..1',\n",
      " 'drift_8739..0',\n",
      " 'drift_8741..1',\n",
      " 'drift_8892..0',\n",
      " 'drift_8894..1',\n",
      " 'drift_8975..0',\n",
      " 'drift_8977..1',\n",
      " 'drift_28834..0',\n",
      " 'drift_28836..1']\n"
     ]
    },
    {
     "ename": "AssertionError",
     "evalue": "",
     "output_type": "error",
     "traceback": [
      "\u001b[0;31m---------------------------------------------------------------------------\u001b[0m",
      "\u001b[0;31mAssertionError\u001b[0m                            Traceback (most recent call last)",
      "\u001b[0;32m/tmp/ipykernel_1492/782991145.py\u001b[0m in \u001b[0;36m<module>\u001b[0;34m\u001b[0m\n\u001b[1;32m     18\u001b[0m \u001b[0mprint\u001b[0m\u001b[0;34m(\u001b[0m\u001b[0;34m'\\nAperture model check after introducing collimators:'\u001b[0m\u001b[0;34m)\u001b[0m\u001b[0;34m\u001b[0m\u001b[0;34m\u001b[0m\u001b[0m\n\u001b[1;32m     19\u001b[0m \u001b[0mdf_with_coll\u001b[0m \u001b[0;34m=\u001b[0m \u001b[0mline\u001b[0m\u001b[0;34m.\u001b[0m\u001b[0mcheck_aperture\u001b[0m\u001b[0;34m(\u001b[0m\u001b[0;34m)\u001b[0m\u001b[0;34m\u001b[0m\u001b[0;34m\u001b[0m\u001b[0m\n\u001b[0;32m---> 20\u001b[0;31m \u001b[0;32massert\u001b[0m \u001b[0;32mnot\u001b[0m \u001b[0mnp\u001b[0m\u001b[0;34m.\u001b[0m\u001b[0many\u001b[0m\u001b[0;34m(\u001b[0m\u001b[0mdf_with_coll\u001b[0m\u001b[0;34m.\u001b[0m\u001b[0mhas_aperture_problem\u001b[0m\u001b[0;34m)\u001b[0m\u001b[0;34m\u001b[0m\u001b[0;34m\u001b[0m\u001b[0m\n\u001b[0m",
      "\u001b[0;31mAssertionError\u001b[0m: "
     ]
    }
   ],
   "source": [
    "# Initialise collmanager\n",
    "# coll_manager = xc.CollimatorManager.from_yaml(path_in / 'colldbs' / f'levelling.20.yaml', line=line,\n",
    "#                                               beam=beam, ignore_crystals=False, record_impacts=False)\n",
    "\n",
    "coll_manager = xc.CollimatorManager.from_yaml(coll_file, line=line,\n",
    "                                              beam=beam, ignore_crystals=False, record_impacts=['tcp.c6r7.b2', 'tcp.d6r7.b2'])\n",
    "\n",
    "# Install collimators into line\n",
    "if engine == 'everest':\n",
    "    coll_names = coll_manager.collimator_names\n",
    "    coll_manager.install_everest_collimators(names =  [name for name in coll_names if name not in [TARGET_name]], verbose=True)\n",
    "elif engine == 'black':\n",
    "    coll_manager.install_black_absorbers(verbose=True)\n",
    "else:\n",
    "    raise ValueError(f\"Unknown scattering engine {engine}!\")\n",
    "\n",
    "# Aperture model check\n",
    "print('\\nAperture model check after introducing collimators:')\n",
    "df_with_coll = line.check_aperture()\n",
    "assert not np.any(df_with_coll.has_aperture_problem)"
   ]
  },
  {
   "cell_type": "code",
   "execution_count": null,
   "id": "28c4fee1",
   "metadata": {},
   "outputs": [],
   "source": [
    "coll_manager.build_tracker()"
   ]
  },
  {
   "cell_type": "code",
   "execution_count": 5,
   "id": "89499db8",
   "metadata": {},
   "outputs": [
    {
     "name": "stdout",
     "output_type": "stream",
     "text": [
      "Compiling ContextCpu kernels...\n",
      "Done compiling ContextCpu kernels.\n"
     ]
    }
   ],
   "source": [
    "coll_manager.set_openings({'tcp.d6l7.b1': 5, 'tcp.c6l7.b1': 5, 'tcpcv.a6l7.b1': 5.5})"
   ]
  },
  {
   "cell_type": "code",
   "execution_count": 6,
   "id": "d88ba089-9b04-4e07-a7f3-e67ae8349f48",
   "metadata": {},
   "outputs": [],
   "source": [
    "line['tcpch.a4l7.b1'].active = True\n",
    "line['tcpcv.a6l7.b1'].active = True\n",
    "line['tcp.b6l7.b1'].record_touches = True\n",
    "line['tcp.c6l7.b1'].record_touches = True\n",
    "line['tcp.d6l7.b1'].record_touches = True\n",
    "line['tdisa.a4l2.b1'].record_touches = True"
   ]
  },
  {
   "cell_type": "code",
   "execution_count": 7,
   "id": "6f4dc92b-6c2b-459a-a3ee-216724101a2d",
   "metadata": {},
   "outputs": [
    {
     "data": {
      "text/plain": [
       "{'__class__': 'EverestCrystal',\n",
       " 'length': 0.004,\n",
       " 'active': 1,\n",
       " 'record_touches': 0,\n",
       " 'record_interactions': 0,\n",
       " 'align_angle': 1.2112695362072954e-05,\n",
       " '_critical_angle': 0.0,\n",
       " 'xdim': 0.002,\n",
       " 'ydim': 0.05,\n",
       " 'thick': 0.0,\n",
       " 'miscut': 0.0,\n",
       " 'rutherford_rng': {'__class__': 'RandomRutherford',\n",
       "  'lower_val': 0.0009982,\n",
       "  'upper_val': 0.02,\n",
       "  'A': 0.0016160247264725453,\n",
       "  'B': 166.49518410000002,\n",
       "  'Newton_iterations': 7},\n",
       " '_tracking': 0,\n",
       " 'angle': 0.0,\n",
       " 'jaw': [0.0020206608911066404, 0.02499999999999991],\n",
       " 'tilt': 0.0,\n",
       " 'side': 'left',\n",
       " 'lattice': 'strip',\n",
       " 'material': {'__class__': 'CrystalMaterial',\n",
       "  'Z': 14.0,\n",
       "  'A': 28.08,\n",
       "  'density': 2.33,\n",
       "  'excitation_energy': 1.73e-07,\n",
       "  'nuclear_radius': 0.441,\n",
       "  'nuclear_elastic_slope': 120.14,\n",
       "  'cross_section': array([6.64e-01, 4.30e-01, 0.00e+00, 0.00e+00, 0.00e+00, 3.90e-04]),\n",
       "  'hcut': 0.02,\n",
       "  'name': 'Silicon',\n",
       "  '_only_mcs': 0,\n",
       "  'crystal_radiation_length': 0.0937,\n",
       "  'crystal_nuclear_length': 0.4652,\n",
       "  'crystal_plane_distance': 9.6e-08,\n",
       "  'crystal_potential': 21.34,\n",
       "  'nuclear_collision_length': 0.3016},\n",
       " 'bending_radius': 61.54,\n",
       " 'bending_angle': 6.499837508639138e-05}"
      ]
     },
     "execution_count": 7,
     "metadata": {},
     "output_type": "execute_result"
    }
   ],
   "source": [
    "line['tcpch.a4l7.b1'].to_dict()"
   ]
  },
  {
   "cell_type": "code",
   "execution_count": 8,
   "id": "12469816-bb9e-44a5-96ef-6ec9c3067c23",
   "metadata": {},
   "outputs": [],
   "source": [
    "tw = line.twiss()"
   ]
  },
  {
   "cell_type": "code",
   "execution_count": 9,
   "id": "0b4d55fa-3a18-4060-97bf-1d6e83d3c71c",
   "metadata": {},
   "outputs": [
    {
     "name": "stdout",
     "output_type": "stream",
     "text": [
      "[0.00202066]\n"
     ]
    }
   ],
   "source": [
    "coll = 'tcpch.a4l7.b1'\n",
    "ang = line[coll].angle\n",
    "ref = np.cos(ang)* tw.rows[coll]['x'] + np.sin(ang)* tw.rows[coll]['y']\n",
    "sigx = np.sqrt(3.5E-6*tw.rows[coll]['betx']/7247.36468857)\n",
    "sigy = np.sqrt(3.5E-6*tw.rows[coll]['bety']/7247.36468857)\n",
    "sig = np.sqrt(np.cos(ang)**2 * sigx**2 + np.sin(ang)**2 * sigy**2)\n",
    "print(ref + sig*5)"
   ]
  },
  {
   "cell_type": "code",
   "execution_count": 10,
   "id": "128236ae",
   "metadata": {},
   "outputs": [
    {
     "name": "stdout",
     "output_type": "stream",
     "text": [
      "Collimator tcp.d6l7.b1 is diverging.\n",
      "Compiling ContextCpu kernels...\n",
      "Done compiling ContextCpu kernels.\n"
     ]
    }
   ],
   "source": [
    "part = xc.generate_pencil_on_collimator(line, 'tcp.d6l7.b1', 100, nemitt_x=3.5e-6, nemitt_y=3.5e-6)"
   ]
  },
  {
   "cell_type": "code",
   "execution_count": 11,
   "id": "c9d7f27d-cee9-4ffd-ab45-1628d403154a",
   "metadata": {},
   "outputs": [
    {
     "data": {
      "text/plain": [
       "<BufferNumpy 999992/241000752>"
      ]
     },
     "execution_count": 11,
     "metadata": {},
     "output_type": "execute_result"
    }
   ],
   "source": [
    "coll_manager._io_buffer"
   ]
  },
  {
   "cell_type": "code",
   "execution_count": 12,
   "id": "69f3de5c-a816-4e1a-a3bd-c98bf56182d6",
   "metadata": {},
   "outputs": [
    {
     "ename": "AttributeError",
     "evalue": "'ParticlesData' object has no attribute '_io_buffer'",
     "output_type": "error",
     "traceback": [
      "\u001b[0;31m---------------------------------------------------------------------------\u001b[0m",
      "\u001b[0;31mAttributeError\u001b[0m                            Traceback (most recent call last)",
      "\u001b[0;32m/tmp/cmaccani/ipykernel_83427/1643658731.py\u001b[0m in \u001b[0;36m<module>\u001b[0;34m\u001b[0m\n\u001b[0;32m----> 1\u001b[0;31m \u001b[0mpart\u001b[0m\u001b[0;34m.\u001b[0m\u001b[0m_xobject\u001b[0m\u001b[0;34m.\u001b[0m\u001b[0m_io_buffer\u001b[0m\u001b[0;34m\u001b[0m\u001b[0;34m\u001b[0m\u001b[0m\n\u001b[0m",
      "\u001b[0;31mAttributeError\u001b[0m: 'ParticlesData' object has no attribute '_io_buffer'"
     ]
    }
   ],
   "source": [
    "part._xobject._io_buffer"
   ]
  },
  {
   "cell_type": "code",
   "execution_count": 13,
   "id": "d03acb9e-d664-4ec0-94e3-d5cc3062ad58",
   "metadata": {},
   "outputs": [
    {
     "data": {
      "text/plain": [
       "0"
      ]
     },
     "execution_count": 13,
     "metadata": {},
     "output_type": "execute_result"
    }
   ],
   "source": [
    "coll_manager.impacts._index.buffer_id"
   ]
  },
  {
   "cell_type": "code",
   "execution_count": 14,
   "id": "cb6aacb7",
   "metadata": {},
   "outputs": [
    {
     "data": {
      "application/vnd.jupyter.widget-view+json": {
       "model_id": "77b4b8d42d4a47c08c1be1501634179e",
       "version_major": 2,
       "version_minor": 0
      },
      "text/plain": [
       "Tracking:   0%|          | 0/20 [00:00<?, ?it/s]"
      ]
     },
     "metadata": {},
     "output_type": "display_data"
    },
    {
     "name": "stdout",
     "output_type": "stream",
     "text": [
      "Error: buffer_id mismatch!\n",
      "Error: buffer_id mismatch!\n",
      "Error: buffer_id mismatch!\n",
      "Error: buffer_id mismatch!\n",
      "Done tracking in 0.0s.\n"
     ]
    }
   ],
   "source": [
    "# # Optimise the line\n",
    "# line.optimize_for_tracking()\n",
    "# idx = line.element_names.index(tcp)\n",
    "# part.at_element = idx\n",
    "# part.start_tracking_at_element = idx\n",
    "\n",
    "# line.discard_tracker()\n",
    "# line.build_tracker(_context=xo.ContextCpu(omp_num_threads=28))\n",
    "\n",
    "# Track\n",
    "coll_manager.enable_scattering()\n",
    "line.track(part, num_turns=20, time=True, with_progress=1)\n",
    "coll_manager.disable_scattering()\n",
    "print(f\"Done tracking in {line.time_last_track:.1f}s.\")\n",
    "\n",
    "# line.discard_tracker()\n",
    "# line.build_tracker(_context=xo.ContextCpu())"
   ]
  },
  {
   "cell_type": "code",
   "execution_count": 15,
   "id": "8f6eedad",
   "metadata": {},
   "outputs": [
    {
     "name": "stdout",
     "output_type": "stream",
     "text": [
      "         collname  nabs  length             s               type\n",
      "0      tcl.4r1.b1   0.0   1.000    150.030000  EverestCollimator\n",
      "1      tcl.5r1.b1   0.0   1.000    184.357000  EverestCollimator\n",
      "2      tcl.6r1.b1   0.0   1.000    219.013000  EverestCollimator\n",
      "3    tctph.4l2.b1   0.0   1.000   3213.903584  EverestCollimator\n",
      "4    tctpv.4l2.b1   0.0   1.000   3215.903583  EverestCollimator\n",
      "5   tdisa.a4l2.b1  89.0   1.565   3249.693583  EverestCollimator\n",
      "6   tdisb.a4l2.b1   0.0   1.565   3251.273583  EverestCollimator\n",
      "7   tdisc.a4l2.b1   0.0   1.565   3252.853583  EverestCollimator\n",
      "8       tclia.4r2   0.0   1.000   3403.984583  EverestCollimator\n",
      "9    tclib.6r2.b1   0.0   1.000   3560.090583  EverestCollimator\n",
      "10  tcld.a11r2.b1   0.0   0.600   3758.149975  EverestCollimator\n",
      "11     tcp.6l3.b1   0.0   0.600   6487.671299  EverestCollimator\n",
      "12    tcsg.5l3.b1   0.0   1.000   6520.992797  EverestCollimator\n",
      "13    tcsg.4r3.b1   0.0   1.000   6707.575797  EverestCollimator\n",
      "14   tcsg.a5r3.b1   0.0   1.000   6718.920797  EverestCollimator\n",
      "15   tcsg.b5r3.b1   0.0   1.000   6724.740797  EverestCollimator\n",
      "16   tcla.a5r3.b1   0.0   1.000   6755.220797  EverestCollimator\n",
      "17   tcla.b5r3.b1   0.0   1.000   6757.220797  EverestCollimator\n",
      "18    tcla.6r3.b1   0.0   1.000   6843.770295  EverestCollimator\n",
      "19    tcla.7r3.b1   0.0   1.000   6915.175795  EverestCollimator\n",
      "20   tctph.4l5.b1   0.0   1.000  13181.344217  EverestCollimator\n",
      "21   tctpv.4l5.b1   0.0   1.000  13183.344217  EverestCollimator\n",
      "22     tcl.4r5.b1   0.0   1.000  13479.319217  EverestCollimator\n",
      "23     tcl.5r5.b1   0.0   1.000  13513.553216  EverestCollimator\n",
      "24     tcl.6r5.b1   0.0   1.000  13550.863216  EverestCollimator\n",
      "25  tcdqa.a4r6.b1   0.0   3.000  16804.965799  EverestCollimator\n",
      "26  tcdqa.c4r6.b1   0.0   3.000  16808.515799  EverestCollimator\n",
      "27  tcdqa.b4r6.b1   0.0   3.000  16812.065799  EverestCollimator\n",
      "28   tcsp.a4r6.b1   0.0   1.000  16815.975799  EverestCollimator\n",
      "29    tcp.d6l7.b1   5.0   0.600  19789.184383  EverestCollimator\n",
      "30    tcp.c6l7.b1   0.0   0.600  19791.184382  EverestCollimator\n",
      "31    tcp.b6l7.b1   0.0   0.600  19793.184382  EverestCollimator\n",
      "32   tcsg.a6l7.b1   1.0   1.000  19832.678881  EverestCollimator\n",
      "33  tcpcv.a6l7.b1   0.0   0.004  19843.623881     EverestCrystal\n",
      "34   tcsg.b5l7.b1   2.0   1.000  19891.906381  EverestCollimator\n",
      "35   tcsg.a5l7.b1   0.0   1.000  19895.906381  EverestCollimator\n",
      "36   tcsg.d4l7.b1   1.0   1.000  19917.236381  EverestCollimator\n",
      "37  tcpch.a4l7.b1   0.0   0.004  19919.498881     EverestCrystal\n",
      "38   tcsg.b4l7.b1   0.0   1.000  19987.162381  EverestCollimator\n",
      "39  tcspm.b4l7.b1   0.0   1.000  19989.162381  EverestCollimator\n",
      "40   tcsg.a4l7.b1   1.0   1.000  19991.162381  EverestCollimator\n",
      "41   tcsg.a4r7.b1   0.0   1.000  19995.162381  EverestCollimator\n",
      "42   tcsg.b5r7.b1   1.0   1.000  20086.418381  EverestCollimator\n",
      "43   tcsg.d5r7.b1   0.0   1.000  20102.418381  EverestCollimator\n",
      "44   tcsg.e5r7.b1   0.0   1.000  20106.418381  EverestCollimator\n",
      "45  tcspm.e5r7.b1   0.0   1.000  20108.418381  EverestCollimator\n",
      "46    tcsg.6r7.b1   0.0   1.000  20141.023381  EverestCollimator\n",
      "47   tcspm.6r7.b1   0.0   1.000  20143.023381  EverestCollimator\n",
      "48   tcla.a6r7.b1   0.0   1.000  20148.089381  EverestCollimator\n",
      "49   tcla.b6r7.b1   0.0   1.000  20178.963380  EverestCollimator\n",
      "50   tcla.c6r7.b1   0.0   1.000  20212.232378  EverestCollimator\n",
      "51   tcla.d6r7.b1   0.0   1.000  20214.232378  EverestCollimator\n",
      "52   tcla.a7r7.b1   0.0   1.000  20231.860378  EverestCollimator\n",
      "53   tctph.4l8.b1   0.0   1.000  23197.145962  EverestCollimator\n",
      "54   tctpv.4l8.b1   0.0   1.000  23199.145962  EverestCollimator\n",
      "55   tctph.4l1.b1   0.0   1.000  26510.938177  EverestCollimator\n",
      "56   tctpv.4l1.b1   0.0   1.000  26512.938177  EverestCollimator\n"
     ]
    }
   ],
   "source": [
    "# Save lossmap to json, which can be loaded, combined (for more statistics),\n",
    "# and plotted with the 'lossmaps' package\n",
    "line_is_reversed = True if f'{beam}' == '2' else False\n",
    "ThisLM = xc.LossMap(line, line_is_reversed=line_is_reversed, part=part)\n",
    "path_out = Path.cwd()\n",
    "ThisLM.save_summary(file=Path(path_out, f'coll_summary_B{beam}{plane}.out'))\n",
    "# Save a summary of the collimator losses to a text file\n",
    "print(ThisLM.summary)"
   ]
  },
  {
   "cell_type": "code",
   "execution_count": 13,
   "id": "293bab3c-ebe6-4b19-8250-7188ba2c68f0",
   "metadata": {},
   "outputs": [
    {
     "data": {
      "text/html": [
       "<div>\n",
       "<style scoped>\n",
       "    .dataframe tbody tr th:only-of-type {\n",
       "        vertical-align: middle;\n",
       "    }\n",
       "\n",
       "    .dataframe tbody tr th {\n",
       "        vertical-align: top;\n",
       "    }\n",
       "\n",
       "    .dataframe thead th {\n",
       "        text-align: right;\n",
       "    }\n",
       "</style>\n",
       "<table border=\"1\" class=\"dataframe\">\n",
       "  <thead>\n",
       "    <tr style=\"text-align: right;\">\n",
       "      <th></th>\n",
       "      <th>turn</th>\n",
       "      <th>collimator</th>\n",
       "      <th>interaction_type</th>\n",
       "      <th>ds</th>\n",
       "      <th>parent_id</th>\n",
       "      <th>parent_x</th>\n",
       "      <th>parent_px</th>\n",
       "      <th>parent_y</th>\n",
       "      <th>parent_py</th>\n",
       "      <th>parent_zeta</th>\n",
       "      <th>...</th>\n",
       "      <th>child_y</th>\n",
       "      <th>child_py</th>\n",
       "      <th>child_zeta</th>\n",
       "      <th>child_delta</th>\n",
       "      <th>child_energy</th>\n",
       "      <th>child_mass</th>\n",
       "      <th>child_charge</th>\n",
       "      <th>child_z</th>\n",
       "      <th>child_a</th>\n",
       "      <th>child_pdgid</th>\n",
       "    </tr>\n",
       "  </thead>\n",
       "  <tbody>\n",
       "  </tbody>\n",
       "</table>\n",
       "<p>0 rows × 30 columns</p>\n",
       "</div>"
      ],
      "text/plain": [
       "Empty DataFrame\n",
       "Columns: [turn, collimator, interaction_type, ds, parent_id, parent_x, parent_px, parent_y, parent_py, parent_zeta, parent_delta, parent_energy, parent_mass, parent_charge, parent_z, parent_a, parent_pdgid, child_id, child_x, child_px, child_y, child_py, child_zeta, child_delta, child_energy, child_mass, child_charge, child_z, child_a, child_pdgid]\n",
       "Index: []\n",
       "\n",
       "[0 rows x 30 columns]"
      ]
     },
     "execution_count": 13,
     "metadata": {},
     "output_type": "execute_result"
    }
   ],
   "source": [
    "coll_manager.impacts.to_pandas()"
   ]
  },
  {
   "cell_type": "code",
   "execution_count": 15,
   "id": "862e53b9-0d38-4e1f-bea8-c15401e8c9ac",
   "metadata": {},
   "outputs": [
    {
     "data": {
      "text/plain": [
       "Index(['turn', 'collimator', 'interaction_type', 'ds', 'parent_id', 'parent_x',\n",
       "       'parent_px', 'parent_y', 'parent_py', 'parent_zeta', 'parent_delta',\n",
       "       'parent_energy', 'parent_mass', 'parent_charge', 'parent_z', 'parent_a',\n",
       "       'parent_pdgid', 'child_id', 'child_x', 'child_px', 'child_y',\n",
       "       'child_py', 'child_zeta', 'child_delta', 'child_energy', 'child_mass',\n",
       "       'child_charge', 'child_z', 'child_a', 'child_pdgid'],\n",
       "      dtype='object')"
      ]
     },
     "execution_count": 15,
     "metadata": {},
     "output_type": "execute_result"
    }
   ],
   "source": [
    "coll_manager.impacts.to_pandas().columns"
   ]
  },
  {
   "cell_type": "code",
   "execution_count": 14,
   "id": "8f4b510e",
   "metadata": {},
   "outputs": [
    {
     "data": {
      "text/plain": [
       "{'collimator': {'s': [219.013,\n",
       "   6520.992797083998,\n",
       "   19789.18438252112,\n",
       "   19791.184382375122,\n",
       "   19793.184382229123,\n",
       "   19832.67888061313,\n",
       "   19891.906380613127,\n",
       "   19895.906380613127,\n",
       "   19917.23638061313,\n",
       "   19989.16238061313,\n",
       "   19991.16238061313,\n",
       "   19995.16238061313,\n",
       "   20086.41838061313,\n",
       "   20102.41838061313,\n",
       "   20108.41838061313,\n",
       "   20148.089380613128,\n",
       "   20178.96338010613,\n",
       "   20212.23237811213,\n",
       "   20231.86037811213,\n",
       "   26510.938177061144,\n",
       "   26512.938176726144],\n",
       "  'name': ['tcl.6r1.b1',\n",
       "   'tcsg.5l3.b1',\n",
       "   'tcp.d6l7.b1',\n",
       "   'tcp.c6l7.b1',\n",
       "   'tcp.b6l7.b1',\n",
       "   'tcsg.a6l7.b1',\n",
       "   'tcsg.b5l7.b1',\n",
       "   'tcsg.a5l7.b1',\n",
       "   'tcsg.d4l7.b1',\n",
       "   'tcspm.b4l7.b1',\n",
       "   'tcsg.a4l7.b1',\n",
       "   'tcsg.a4r7.b1',\n",
       "   'tcsg.b5r7.b1',\n",
       "   'tcsg.d5r7.b1',\n",
       "   'tcspm.e5r7.b1',\n",
       "   'tcla.a6r7.b1',\n",
       "   'tcla.b6r7.b1',\n",
       "   'tcla.c6r7.b1',\n",
       "   'tcla.a7r7.b1',\n",
       "   'tctph.4l1.b1',\n",
       "   'tctpv.4l1.b1'],\n",
       "  'length': [1.0,\n",
       "   1.0,\n",
       "   0.6,\n",
       "   0.6,\n",
       "   0.6,\n",
       "   1.0,\n",
       "   1.0,\n",
       "   1.0,\n",
       "   1.0,\n",
       "   1.0,\n",
       "   1.0,\n",
       "   1.0,\n",
       "   1.0,\n",
       "   1.0,\n",
       "   1.0,\n",
       "   1.0,\n",
       "   1.0,\n",
       "   1.0,\n",
       "   1.0,\n",
       "   1.0,\n",
       "   1.0],\n",
       "  'n': [1.0,\n",
       "   1.0,\n",
       "   7970.0,\n",
       "   14.0,\n",
       "   68.0,\n",
       "   408.0,\n",
       "   432.0,\n",
       "   323.0,\n",
       "   96.0,\n",
       "   23.0,\n",
       "   107.0,\n",
       "   73.0,\n",
       "   50.0,\n",
       "   29.0,\n",
       "   4.0,\n",
       "   1.0,\n",
       "   1.0,\n",
       "   2.0,\n",
       "   1.0,\n",
       "   1.0,\n",
       "   1.0]},\n",
       " 'aperture': {'s': array([20327.41060956, 20420.53946034]),\n",
       "  'name': ['mb.b9r7.b1..2_aper', 'ledr.11r7.b1_mkex_aper'],\n",
       "  'n': [1.0, 1.0]},\n",
       " 'machine_length': 26658.883176584142,\n",
       " 'interpolation': 0.1,\n",
       " 'reversed': False}"
      ]
     },
     "execution_count": 14,
     "metadata": {},
     "output_type": "execute_result"
    }
   ],
   "source": [
    "coll_manager.lossmap(part, file=None)"
   ]
  },
  {
   "cell_type": "code",
   "execution_count": 12,
   "id": "5458c42c",
   "metadata": {},
   "outputs": [
    {
     "name": "stdout",
     "output_type": "stream",
     "text": [
      "Automatic pdb calling has been turned ON\n"
     ]
    }
   ],
   "source": [
    "pdb on"
   ]
  },
  {
   "cell_type": "code",
   "execution_count": 9,
   "id": "967dbc45",
   "metadata": {},
   "outputs": [
    {
     "data": {
      "text/plain": [
       "{'collimator': {'s': [19789.18438252112,\n",
       "   19791.184382375122,\n",
       "   19793.184382229123,\n",
       "   19832.67888061313,\n",
       "   19891.906380613127,\n",
       "   19895.906380613127,\n",
       "   19917.23638061313,\n",
       "   19989.16238061313,\n",
       "   19991.16238061313,\n",
       "   19995.16238061313,\n",
       "   20086.41838061313,\n",
       "   20102.41838061313,\n",
       "   20108.41838061313,\n",
       "   20143.02338061313,\n",
       "   20148.089380613128,\n",
       "   20212.23237811213,\n",
       "   26512.938176726144],\n",
       "  'name': ['tcp.d6l7.b1',\n",
       "   'tcp.c6l7.b1',\n",
       "   'tcp.b6l7.b1',\n",
       "   'tcsg.a6l7.b1',\n",
       "   'tcsg.b5l7.b1',\n",
       "   'tcsg.a5l7.b1',\n",
       "   'tcsg.d4l7.b1',\n",
       "   'tcspm.b4l7.b1',\n",
       "   'tcsg.a4l7.b1',\n",
       "   'tcsg.a4r7.b1',\n",
       "   'tcsg.b5r7.b1',\n",
       "   'tcsg.d5r7.b1',\n",
       "   'tcspm.e5r7.b1',\n",
       "   'tcspm.6r7.b1',\n",
       "   'tcla.a6r7.b1',\n",
       "   'tcla.c6r7.b1',\n",
       "   'tctpv.4l1.b1'],\n",
       "  'length': [0.6,\n",
       "   0.6,\n",
       "   0.6,\n",
       "   1.0,\n",
       "   1.0,\n",
       "   1.0,\n",
       "   1.0,\n",
       "   1.0,\n",
       "   1.0,\n",
       "   1.0,\n",
       "   1.0,\n",
       "   1.0,\n",
       "   1.0,\n",
       "   1.0,\n",
       "   1.0,\n",
       "   1.0,\n",
       "   1.0],\n",
       "  'n': [3873.0,\n",
       "   4.0,\n",
       "   72.0,\n",
       "   208.0,\n",
       "   246.0,\n",
       "   144.0,\n",
       "   46.0,\n",
       "   11.0,\n",
       "   51.0,\n",
       "   37.0,\n",
       "   21.0,\n",
       "   14.0,\n",
       "   4.0,\n",
       "   1.0,\n",
       "   1.0,\n",
       "   1.0,\n",
       "   1.0]},\n",
       " 'aperture': {'s': array([20394.56260654, 20408.42800502]),\n",
       "  'name': ['mb.a11r7.b1_mkex_aper', 'mb.b11r7.b1..2_aper'],\n",
       "  'n': [1.0, 1.0]},\n",
       " 'machine_length': 26658.883176584142,\n",
       " 'interpolation': 0.1,\n",
       " 'reversed': False}"
      ]
     },
     "execution_count": 9,
     "metadata": {},
     "output_type": "execute_result"
    }
   ],
   "source": [
    "coll_manager.lossmap(part)"
   ]
  },
  {
   "cell_type": "code",
   "execution_count": null,
   "id": "07df93a7",
   "metadata": {},
   "outputs": [],
   "source": []
  },
  {
   "cell_type": "code",
   "execution_count": null,
   "id": "48f45f3b",
   "metadata": {},
   "outputs": [],
   "source": []
  },
  {
   "cell_type": "code",
   "execution_count": null,
   "id": "51e2b096",
   "metadata": {},
   "outputs": [],
   "source": []
  },
  {
   "cell_type": "code",
   "execution_count": null,
   "id": "cf6982a9",
   "metadata": {},
   "outputs": [],
   "source": []
  },
  {
   "cell_type": "code",
   "execution_count": null,
   "id": "24e585dc",
   "metadata": {},
   "outputs": [],
   "source": []
  },
  {
   "cell_type": "code",
   "execution_count": null,
   "id": "9b10b195",
   "metadata": {},
   "outputs": [],
   "source": []
  },
  {
   "cell_type": "code",
   "execution_count": null,
   "id": "dc28e44c",
   "metadata": {},
   "outputs": [],
   "source": []
  }
 ],
 "metadata": {
  "@webio": {
   "lastCommId": null,
   "lastKernelId": null
  },
  "kernelspec": {
   "display_name": "Python 3",
   "language": "python",
   "name": "python3"
  },
  "language_info": {
   "codemirror_mode": {
    "name": "ipython",
    "version": 3
   },
   "file_extension": ".py",
   "mimetype": "text/x-python",
   "name": "python",
   "nbconvert_exporter": "python",
   "pygments_lexer": "ipython3",
   "version": "3.9.12"
  }
 },
 "nbformat": 4,
 "nbformat_minor": 5
}
