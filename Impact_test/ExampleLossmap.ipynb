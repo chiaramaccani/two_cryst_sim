{
 "cells": [
  {
   "cell_type": "code",
   "execution_count": 1,
   "id": "0f3f3668",
   "metadata": {},
   "outputs": [],
   "source": [
    "\"\"\"%load_ext autoreload\n",
    "%autoreload 2\n",
    "%load_ext wurlitzer\n",
    "\"\"\"\n",
    "import json\n",
    "import numpy as np\n",
    "import pandas as pd\n",
    "from pathlib import Path\n",
    "import matplotlib.pyplot as plt\n",
    "import xobjects as xo\n",
    "import xpart as xp\n",
    "import xtrack as xt\n",
    "import xcoll as xc\n",
    "import os\n",
    "import yaml\n",
    "import scipy"
   ]
  },
  {
   "cell_type": "code",
   "execution_count": 2,
   "id": "ce8d5694",
   "metadata": {},
   "outputs": [
    {
     "data": {
      "application/vnd.jupyter.widget-view+json": {
       "model_id": "b45688a96f6e4a31a515b5dd180339fb",
       "version_major": 2,
       "version_minor": 0
      },
      "text/plain": [
       "Loading line from dict:   0%|          | 0/151124 [00:00<?, ?it/s]"
      ]
     },
     "metadata": {},
     "output_type": "display_data"
    },
    {
     "name": "stdout",
     "output_type": "stream",
     "text": [
      "Done loading line from dict.           \n"
     ]
    }
   ],
   "source": [
    "context = xo.ContextCpu()\n",
    "# context = xo.ContextCupy()\n",
    "# context = xo.ContextPyopencl()\n",
    "\n",
    "# On a modern CPU, we get ~5000 particle*turns/s\n",
    "# So this script should take around half an hour\n",
    "beam          =  2\n",
    "plane         = 'V'\n",
    "\n",
    "num_turns     = 20\n",
    "num_particles = 20000\n",
    "engine        = 'everest'\n",
    "\n",
    "#path_in  = Path(\"/eos/project-c/collimation-team/machine_configurations/LHC_run3/2024\")\n",
    "\n",
    "# Load from json\n",
    "#line_file = '${HOME_TWOCRYST}/input_files/2024_Run3/flat_top_b2.json'\n",
    "line_file = '${HOME_TWOCRYST}/input_files/phase_scan/b4_sequence_patched_phadv_105.json'\n",
    "line = xt.Line.from_json(os.path.expandvars(line_file))"
   ]
  },
  {
   "cell_type": "markdown",
   "id": "84e73851",
   "metadata": {},
   "source": []
  },
  {
   "cell_type": "code",
   "execution_count": 3,
   "id": "a53796d9",
   "metadata": {},
   "outputs": [],
   "source": [
    "#coll_file = os.path.expandvars('${HOME_TWOCRYST}/input_files/colldbs/flat_top.yaml')\n",
    "coll_file =  os.path.expandvars('${HOME_TWOCRYST}/input_files/colldbs/HL_tight_twocryst.yaml')\n",
    "with open(coll_file, 'r') as stream:\n",
    "        coll_dict = yaml.safe_load(stream)['collimators']['b2']"
   ]
  },
  {
   "cell_type": "code",
   "execution_count": 4,
   "id": "f99847ec",
   "metadata": {
    "scrolled": true
   },
   "outputs": [
    {
     "data": {
      "text/plain": [
       "<xtrack.line.Line at 0x7f8d8b05acd0>"
      ]
     },
     "execution_count": 4,
     "metadata": {},
     "output_type": "execute_result"
    }
   ],
   "source": [
    "end_s = line.get_length()\n",
    "\n",
    "TCCS_name = 'tccs.5r3.b2'\n",
    "TCCP_name = 'tccp.4l3.b2'\n",
    "TARGET_name = 'target.4l3.b2'\n",
    "PIXEL_name = 'pixel.detector'\n",
    "TCP_name = 'tcp.d6r7.b2'\n",
    "TCLA_name = 'tcla.a5l3.b2'\n",
    "\n",
    "d_pix = 1 # [m]\n",
    "ydim_PIXEL = 0.01408\n",
    "xdim_PIXEL = 0.04246\n",
    "\n",
    "TCCS_loc = end_s - 6773.7 #6775\n",
    "TCCP_loc = end_s - 6653.3 #6655\n",
    "\n",
    "dx = 1e-11\n",
    "TARGET_loc = end_s - (6653.3 + coll_dict[TCCP_name][\"length\"]/2 + coll_dict[TARGET_name][\"length\"]/2 + dx)\n",
    "PIXEL_loc = end_s - (6653.3 - coll_dict[TCCP_name][\"length\"]/2 - d_pix)\n",
    "TCP_loc = line.get_s_position()[line.element_names.index(TCP_name)]\n",
    "TCLA_loc = line.get_s_position()[line.element_names.index(TCLA_name)]\n",
    "\n",
    "\n",
    "line.insert_element(at_s=TCCS_loc, element=xt.Marker(), name=TCCS_name)\n",
    "line.insert_element(at_s=TCCS_loc, element=xt.LimitEllipse(a_squ=0.0016, b_squ=0.0016, a_b_squ=2.56e-06), name=TCCS_name+'_aper')\n",
    "line.insert_element(at_s=TCCP_loc, element=xt.Marker(), name=TCCP_name)\n",
    "line.insert_element(at_s=TCCP_loc, element=xt.LimitEllipse(a_squ=0.0016, b_squ=0.0016, a_b_squ=2.56e-06), name=TCCP_name+'_aper')\n",
    "line.insert_element(at_s=TARGET_loc, element=xt.Marker(), name=TARGET_name)\n",
    "line.insert_element(at_s=TARGET_loc, element=xt.LimitEllipse(a_squ=0.0016, b_squ=0.0016, a_b_squ=2.56e-06), name= TARGET_name + '_aper')\n",
    "line.insert_element(at_s=PIXEL_loc, element=xt.Marker(), name=PIXEL_name)"
   ]
  },
  {
   "cell_type": "code",
   "execution_count": 5,
   "id": "1a0332a8",
   "metadata": {},
   "outputs": [],
   "source": [
    "turn_on_cavities = True\n",
    "# switch on cavities\n",
    "if turn_on_cavities:\n",
    "    speed = line.particle_ref._xobject.beta0[0]*scipy.constants.c\n",
    "    harmonic_number = 35640\n",
    "    voltage = 12e6/len(line.get_elements_of_type(xt.Cavity)[1])\n",
    "    frequency = harmonic_number * speed /line.get_length()\n",
    "    for side in ['l', 'r']:\n",
    "        for cell in ['a','b','c','d']:\n",
    "            line[f'acsca.{cell}5{side}4.b2'].voltage = voltage\n",
    "            line[f'acsca.{cell}5{side}4.b2'].frequency = frequency   "
   ]
  },
  {
   "cell_type": "code",
   "execution_count": 6,
   "id": "615cabff",
   "metadata": {},
   "outputs": [
    {
     "name": "stdout",
     "output_type": "stream",
     "text": [
      "Compiling ContextCpu kernels...\n"
     ]
    },
    {
     "name": "stderr",
     "output_type": "stream",
     "text": [
      "7170f97e508045339516fdb97df69473.c: In function 'scatter_cry':\n",
      "7170f97e508045339516fdb97df69473.c:9926:28: warning: unused variable 'x_P' [-Wunused-variable]\n",
      " 9926 |                     double x_P = -s_P_tmp*sin(tilt_int) + x_P_tmp*cos(tilt_int);\n",
      "      |                            ^~~\n",
      "7170f97e508045339516fdb97df69473.c:9925:28: warning: unused variable 's_P' [-Wunused-variable]\n",
      " 9925 |                     double s_P = s_P_tmp*cos(tilt_int) + x_P_tmp*sin(tilt_int);\n",
      "      |                            ^~~\n",
      "7170f97e508045339516fdb97df69473.c:9823:18: warning: unused variable 'cry_spTilt' [-Wunused-variable]\n",
      " 9823 |     double const cry_spTilt = sin(cry_tilt);\n",
      "      |                  ^~~~~~~~~~\n",
      "7170f97e508045339516fdb97df69473.c:9813:12: warning: unused variable 'offset' [-Wunused-variable]\n",
      " 9813 |     double offset   = everest->coll->offset;\n",
      "      |            ^~~~~~\n"
     ]
    },
    {
     "name": "stdout",
     "output_type": "stream",
     "text": [
      "Done compiling ContextCpu kernels.\n",
      "Installing tccs.5r3.b2          as EverestCrystal\n",
      "Installing tccp.4l3.b2          as EverestCrystal\n",
      "Compiling ContextCpu kernels...\n"
     ]
    },
    {
     "name": "stderr",
     "output_type": "stream",
     "text": [
      "66166763a4524e4ba40d67d5f865bbf0.c: In function 'scatter_cry':\n",
      "66166763a4524e4ba40d67d5f865bbf0.c:9926:28: warning: unused variable 'x_P' [-Wunused-variable]\n",
      " 9926 |                     double x_P = -s_P_tmp*sin(tilt_int) + x_P_tmp*cos(tilt_int);\n",
      "      |                            ^~~\n",
      "66166763a4524e4ba40d67d5f865bbf0.c:9925:28: warning: unused variable 's_P' [-Wunused-variable]\n",
      " 9925 |                     double s_P = s_P_tmp*cos(tilt_int) + x_P_tmp*sin(tilt_int);\n",
      "      |                            ^~~\n",
      "66166763a4524e4ba40d67d5f865bbf0.c:9823:18: warning: unused variable 'cry_spTilt' [-Wunused-variable]\n",
      " 9823 |     double const cry_spTilt = sin(cry_tilt);\n",
      "      |                  ^~~~~~~~~~\n",
      "66166763a4524e4ba40d67d5f865bbf0.c:9813:12: warning: unused variable 'offset' [-Wunused-variable]\n",
      " 9813 |     double offset   = everest->coll->offset;\n",
      "      |            ^~~~~~\n"
     ]
    },
    {
     "name": "stdout",
     "output_type": "stream",
     "text": [
      "Done compiling ContextCpu kernels.\n",
      "Installing tclpx.4l1.b2         as EverestCollimator\n",
      "Installing tcl.5l1.b2           as EverestCollimator\n",
      "Installing tcl.6l1.b2           as EverestCollimator\n",
      "Installing tctph.4r2.b2         as EverestCollimator\n",
      "Installing tctpv.4r2.b2         as EverestCollimator\n",
      "Installing tdisa.a4r8.b2        as EverestCollimator\n",
      "Installing tdisb.a4r8.b2        as EverestCollimator\n",
      "Installing tdisc.a4r8.b2        as EverestCollimator\n",
      "Installing tclia.4r2            as EverestCollimator\n",
      "Installing tclib.6l8.b2         as EverestCollimator\n",
      "Installing tcld.a11l2.b2        as EverestCollimator\n",
      "Installing tcp.6r3.b2           as EverestCollimator\n",
      "Installing tcsg.5r3.b2          as EverestCollimator\n",
      "Installing tcsg.4l3.b2          as EverestCollimator\n",
      "Installing tcsg.a5l3.b2         as EverestCollimator\n",
      "Installing tcsg.b5l3.b2         as EverestCollimator\n",
      "Installing tcla.a5l3.b2         as EverestCollimator\n",
      "Installing tcla.b5l3.b2         as EverestCollimator\n",
      "Installing tcla.6l3.b2          as EverestCollimator\n",
      "Installing tcla.7l3.b2          as EverestCollimator\n",
      "Installing tctph.6r5.b2         as EverestCollimator\n",
      "Installing tctpv.6r5.b2         as EverestCollimator\n",
      "Installing tctpxh.4r5.b2        as EverestCollimator\n",
      "Installing tctpxv.4r5.b2        as EverestCollimator\n",
      "Installing tclpx.4l5.b2         as EverestCollimator\n",
      "Installing tcl.5l5.b2           as EverestCollimator\n",
      "Installing tcl.6l5.b2           as EverestCollimator\n",
      "Installing tcdqa.a4l6.b2        as EverestCollimator\n",
      "Installing tcdqa.c4l6.b2        as EverestCollimator\n",
      "Installing tcdqa.b4l6.b2        as EverestCollimator\n",
      "Installing tcsp.a4l6.b2         as EverestCollimator\n",
      "Installing tcp.d6r7.b2          as EverestCollimator\n",
      "Installing tcp.c6r7.b2          as EverestCollimator\n",
      "Installing tcp.b6r7.b2          as EverestCollimator\n",
      "Installing tcsg.a6r7.b2         as EverestCollimator\n",
      "Installing tcsg.b5r7.b2         as EverestCollimator\n",
      "Installing tcsg.a5r7.b2         as EverestCollimator\n",
      "Installing tcsg.d4r7.b2         as EverestCollimator\n",
      "Installing tcspm.b4r7.b2        as EverestCollimator\n",
      "Installing tcsg.a4r7.b2         as EverestCollimator\n",
      "Installing tcsg.a4l7.b2         as EverestCollimator\n",
      "Installing tcsg.b5l7.b2         as EverestCollimator\n",
      "Installing tcsg.d5l7.b2         as EverestCollimator\n",
      "Installing tcspm.e5l7.b2        as EverestCollimator\n",
      "Installing tcspm.6l7.b2         as EverestCollimator\n",
      "Installing tcla.a6l7.b2         as EverestCollimator\n",
      "Installing tcla.b6l7.b2         as EverestCollimator\n",
      "Installing tcla.c6l7.b2         as EverestCollimator\n",
      "Installing tcla.d6l7.b2         as EverestCollimator\n",
      "Installing tcla.a7l7.b2         as EverestCollimator\n",
      "Installing tcld.9l7.b2          as EverestCollimator\n",
      "Installing tctph.4r8.b2         as EverestCollimator\n",
      "Installing tctpv.4r8.b2         as EverestCollimator\n",
      "Installing tctph.6r1.b2         as EverestCollimator\n",
      "Installing tctpv.6r1.b2         as EverestCollimator\n",
      "Installing tctpxh.4r1.b2        as EverestCollimator\n",
      "Installing tctpxv.4r1.b2        as EverestCollimator\n",
      "Installing target.4l3.b2        as EverestCollimator\n",
      "\n",
      "Aperture model check after introducing collimators:\n"
     ]
    },
    {
     "data": {
      "application/vnd.jupyter.widget-view+json": {
       "model_id": "1cc620f3dd2547de88037ca583084f69",
       "version_major": 2,
       "version_minor": 0
      },
      "text/plain": [
       "Checking aperture:   0%|          | 0/150678 [00:00<?, ?it/s]"
      ]
     },
     "metadata": {},
     "output_type": "display_data"
    },
    {
     "name": "stdout",
     "output_type": "stream",
     "text": [
      "Done checking aperture.           \n",
      "0 thin elements miss associated aperture (upstream):\n",
      "[]\n",
      "0 thick elements miss associated aperture (upstream or downstream):\n",
      "[]\n"
     ]
    }
   ],
   "source": [
    "# Initialise collmanager\n",
    "# coll_manager = xc.CollimatorManager.from_yaml(path_in / 'colldbs' / f'levelling.20.yaml', line=line,\n",
    "#                                               beam=beam, ignore_crystals=False, record_impacts=False)\n",
    "\n",
    "coll_manager = xc.CollimatorManager.from_yaml(coll_file, line=line,\n",
    "                                              beam=beam, ignore_crystals=False, record_impacts=['tcp.c6r7.b2', 'tcp.d6r7.b2'])\n",
    "\n",
    "# Install collimators into line\n",
    "if engine == 'everest':\n",
    "    coll_names = coll_manager.collimator_names\n",
    "    coll_manager.install_everest_collimators(verbose=True)\n",
    "elif engine == 'black':\n",
    "    coll_manager.install_black_absorbers(verbose=True)\n",
    "else:\n",
    "    raise ValueError(f\"Unknown scattering engine {engine}!\")\n",
    "\n",
    "# Aperture model check\n",
    "print('\\nAperture model check after introducing collimators:')\n",
    "df_with_coll = line.check_aperture()\n",
    "assert not np.any(df_with_coll.has_aperture_problem)"
   ]
  },
  {
   "cell_type": "code",
   "execution_count": 7,
   "id": "28c4fee1",
   "metadata": {},
   "outputs": [
    {
     "name": "stdout",
     "output_type": "stream",
     "text": [
      "Compiling ContextCpu kernels...\n"
     ]
    },
    {
     "name": "stderr",
     "output_type": "stream",
     "text": [
      "4e0b7533bf5b412386607775381111fd.c: In function 'scatter_cry':\n",
      "4e0b7533bf5b412386607775381111fd.c:14762:28: warning: unused variable 'x_P' [-Wunused-variable]\n",
      "14762 |                     double x_P = -s_P_tmp*sin(tilt_int) + x_P_tmp*cos(tilt_int);\n",
      "      |                            ^~~\n",
      "4e0b7533bf5b412386607775381111fd.c:14761:28: warning: unused variable 's_P' [-Wunused-variable]\n",
      "14761 |                     double s_P = s_P_tmp*cos(tilt_int) + x_P_tmp*sin(tilt_int);\n",
      "      |                            ^~~\n",
      "4e0b7533bf5b412386607775381111fd.c:14659:18: warning: unused variable 'cry_spTilt' [-Wunused-variable]\n",
      "14659 |     double const cry_spTilt = sin(cry_tilt);\n",
      "      |                  ^~~~~~~~~~\n",
      "4e0b7533bf5b412386607775381111fd.c:14649:12: warning: unused variable 'offset' [-Wunused-variable]\n",
      "14649 |     double offset   = everest->coll->offset;\n",
      "      |            ^~~~~~\n"
     ]
    },
    {
     "name": "stdout",
     "output_type": "stream",
     "text": [
      "Done compiling ContextCpu kernels.\n"
     ]
    }
   ],
   "source": [
    "coll_manager.build_tracker()"
   ]
  },
  {
   "cell_type": "code",
   "execution_count": 8,
   "id": "89499db8",
   "metadata": {},
   "outputs": [
    {
     "name": "stdout",
     "output_type": "stream",
     "text": [
      "Compiling ContextCpu kernels...\n",
      "Done compiling ContextCpu kernels.\n"
     ]
    }
   ],
   "source": [
    "TCCS_gap = 7.2\n",
    "TCCP_gap = 33.6\n",
    "TARGET_gap = 33.6\n",
    "coll_manager.set_openings(gaps = {TCCS_name: TCCS_gap, TCCP_name: TCCP_gap, TARGET_name: TARGET_gap})"
   ]
  },
  {
   "cell_type": "code",
   "execution_count": 9,
   "id": "d88ba089-9b04-4e07-a7f3-e67ae8349f48",
   "metadata": {},
   "outputs": [],
   "source": [
    "line[TCCS_name].active = True\n",
    "line[TCCP_name].active = True\n",
    "line[TCCS_name].record_touches = True\n",
    "line[TCCP_name].record_touches = True\n",
    "line[TARGET_name].record_touches = True\n",
    "line[TCP_name].record_touches = True\n",
    "line['tcld.9l7.b2'].record_touches = True\n",
    "line['tcld.9l7.b2'].record_impacts = True"
   ]
  },
  {
   "cell_type": "code",
   "execution_count": 10,
   "id": "6f4dc92b-6c2b-459a-a3ee-216724101a2d",
   "metadata": {},
   "outputs": [
    {
     "data": {
      "text/plain": [
       "{'__class__': 'EverestCollimator',\n",
       " 'length': 0.6,\n",
       " 'active': 1,\n",
       " 'record_touches': 1,\n",
       " 'record_interactions': 0,\n",
       " 'rutherford_rng': {'__class__': 'RandomRutherford',\n",
       "  'lower_val': 0.0009982,\n",
       "  'upper_val': 0.02,\n",
       "  'A': 0.0020688250909133275,\n",
       "  'B': 286.00931239999994,\n",
       "  'Newton_iterations': 7},\n",
       " '_tracking': 0,\n",
       " 'angle': 0.0,\n",
       " 'jaw': [1.0, 1.0],\n",
       " 'tilt': 0.0,\n",
       " 'side': 'both',\n",
       " 'material': {'__class__': 'Material',\n",
       "  'Z': 67.7,\n",
       "  'A': 166.7,\n",
       "  'density': 18.0,\n",
       "  'excitation_energy': 6.822e-07,\n",
       "  'nuclear_radius': 0.578,\n",
       "  'nuclear_elastic_slope': 392.1,\n",
       "  'cross_section': array([2.548  , 1.473  , 0.     , 0.     , 0.     , 0.00574]),\n",
       "  'hcut': 0.02,\n",
       "  'name': 'Inermet',\n",
       "  '_only_mcs': 0,\n",
       "  'radiation_length': 0.00385}}"
      ]
     },
     "execution_count": 10,
     "metadata": {},
     "output_type": "execute_result"
    }
   ],
   "source": [
    "coll =  'tcld.9l7.b2' #TCCS_name #'tcp.c6r7.b2'#TCCS_name #'tcpch.a5r7.b2' # TCCS_name #'tcpcv.a6r7.b2'\n",
    "line[coll].to_dict()"
   ]
  },
  {
   "cell_type": "code",
   "execution_count": 11,
   "id": "12469816-bb9e-44a5-96ef-6ec9c3067c23",
   "metadata": {},
   "outputs": [],
   "source": [
    "tw = line.twiss()"
   ]
  },
  {
   "cell_type": "code",
   "execution_count": 12,
   "id": "0b4d55fa-3a18-4060-97bf-1d6e83d3c71c",
   "metadata": {},
   "outputs": [
    {
     "name": "stdout",
     "output_type": "stream",
     "text": [
      "[0.00090495]\n"
     ]
    }
   ],
   "source": [
    "n_emitt = 2.5e-6\n",
    "#coll = TCCS_name #'tcpcv.a6r7.b2'\n",
    "beta_rel = float(line.particle_ref.beta0)\n",
    "gamma = float(line.particle_ref.gamma0)\n",
    "ang = line[coll].angle*np.pi/180\n",
    "ref = np.cos(ang)* tw.rows[coll]['x'] + np.sin(ang)* tw.rows[coll]['y']\n",
    "sigx = np.sqrt(n_emitt*tw.rows[coll]['betx']/(beta_rel*gamma))\n",
    "sigy = np.sqrt(n_emitt*tw.rows[coll]['bety']/(beta_rel*gamma))\n",
    "sig = np.sqrt(np.cos(ang)**2 * sigx**2 + np.sin(ang)**2 * sigy**2)\n",
    "print(ref + sig*TCCS_gap)"
   ]
  },
  {
   "cell_type": "code",
   "execution_count": null,
   "id": "df03d7b5",
   "metadata": {},
   "outputs": [],
   "source": []
  },
  {
   "cell_type": "code",
   "execution_count": 13,
   "id": "128236ae",
   "metadata": {},
   "outputs": [
    {
     "name": "stdout",
     "output_type": "stream",
     "text": [
      "Collimator tcp.d6r7.b2 is diverging.\n",
      "Compiling ContextCpu kernels...\n",
      "Done compiling ContextCpu kernels.\n"
     ]
    }
   ],
   "source": [
    "part = xc.generate_pencil_on_collimator(line, TCP_name, 100, nemitt_x=n_emitt, nemitt_y=n_emitt)"
   ]
  },
  {
   "cell_type": "code",
   "execution_count": 14,
   "id": "cb6aacb7",
   "metadata": {},
   "outputs": [
    {
     "data": {
      "application/vnd.jupyter.widget-view+json": {
       "model_id": "7920f0d0f0de46bba22708b796dcc18a",
       "version_major": 2,
       "version_minor": 0
      },
      "text/plain": [
       "Tracking:   0%|          | 0/20 [00:00<?, ?it/s]"
      ]
     },
     "metadata": {},
     "output_type": "display_data"
    },
    {
     "name": "stdout",
     "output_type": "stream",
     "text": [
      "Done tracking in 0.0s.\n"
     ]
    }
   ],
   "source": [
    "# # Optimise the line\n",
    "# line.optimize_for_tracking()\n",
    "# idx = line.element_names.index(tcp)\n",
    "# part.at_element = idx\n",
    "# part.start_tracking_at_element = idx\n",
    "\n",
    "# line.discard_tracker()\n",
    "# line.build_tracker(_context=xo.ContextCpu(omp_num_threads=28))\n",
    "\n",
    "# Track\n",
    "coll_manager.enable_scattering()\n",
    "line.track(part, num_turns=20, time=True, with_progress=1)\n",
    "coll_manager.disable_scattering()\n",
    "print(f\"Done tracking in {line.time_last_track:.1f}s.\")\n",
    "\n",
    "# line.discard_tracker()\n",
    "# line.build_tracker(_context=xo.ContextCpu())"
   ]
  },
  {
   "cell_type": "code",
   "execution_count": 15,
   "id": "8f6eedad",
   "metadata": {},
   "outputs": [
    {
     "name": "stdout",
     "output_type": "stream",
     "text": [
      "         collname  nabs  length             s               type\n",
      "0    tclpx.4l1.b2   0.0   1.000    135.614000  EverestCollimator\n",
      "1      tcl.5l1.b2   0.0   1.000    199.625000  EverestCollimator\n",
      "2      tcl.6l1.b2   0.0   1.000    221.164000  EverestCollimator\n",
      "3    tctph.4r8.b2   0.0   1.000   3225.423584  EverestCollimator\n",
      "4    tctpv.4r8.b2   0.0   1.000   3227.423583  EverestCollimator\n",
      "5   tdisa.a4r8.b2   0.0   1.565   3260.913582  EverestCollimator\n",
      "6   tdisb.a4r8.b2   0.0   1.565   3262.493582  EverestCollimator\n",
      "7   tdisc.a4r8.b2   0.0   1.565   3264.073582  EverestCollimator\n",
      "8    tclib.6l8.b2   0.0   1.000   3560.339582  EverestCollimator\n",
      "9     tcp.d6r7.b2   3.0   0.600   6459.742798  EverestCollimator\n",
      "10    tcp.c6r7.b2   0.0   0.600   6461.742798  EverestCollimator\n",
      "11    tcp.b6r7.b2   0.0   0.600   6463.742798  EverestCollimator\n",
      "12   tcsg.a6r7.b2   0.0   1.000   6503.237296  EverestCollimator\n",
      "13   tcsg.b5r7.b2   0.0   1.000   6562.464796  EverestCollimator\n",
      "14   tcsg.a5r7.b2   0.0   1.000   6566.464796  EverestCollimator\n",
      "15   tcsg.d4r7.b2   0.0   1.000   6587.794796  EverestCollimator\n",
      "16  tcspm.b4r7.b2   0.0   1.000   6655.720796  EverestCollimator\n",
      "17   tcsg.a4r7.b2   0.0   1.000   6657.720796  EverestCollimator\n",
      "18   tcsg.a4l7.b2   0.0   1.000   6673.720796  EverestCollimator\n",
      "19   tcsg.b5l7.b2   0.0   1.000   6756.976796  EverestCollimator\n",
      "20   tcsg.d5l7.b2   0.0   1.000   6772.976796  EverestCollimator\n",
      "21  tcspm.e5l7.b2   0.0   1.000   6778.976796  EverestCollimator\n",
      "22   tcspm.6l7.b2   0.0   1.000   6813.581796  EverestCollimator\n",
      "23   tcla.a6l7.b2   0.0   1.000   6818.647796  EverestCollimator\n",
      "24   tcla.b6l7.b2   0.0   1.000   6849.521796  EverestCollimator\n",
      "25   tcla.c6l7.b2   0.0   1.000   6882.790794  EverestCollimator\n",
      "26   tcla.d6l7.b2   0.0   1.000   6884.790794  EverestCollimator\n",
      "27   tcla.a7l7.b2   0.0   1.000   6902.418794  EverestCollimator\n",
      "28    tcld.9l7.b2  97.0   0.600   6980.518557  EverestCollimator\n",
      "29  tcdqa.a4l6.b2   0.0   3.000  10140.245010  EverestCollimator\n",
      "30  tcdqa.c4l6.b2   0.0   3.000  10143.795010  EverestCollimator\n",
      "31  tcdqa.b4l6.b2   0.0   3.000  10147.345010  EverestCollimator\n",
      "32   tcsp.a4l6.b2   0.0   1.000  10151.255010  EverestCollimator\n",
      "33   tctph.6r5.b2   0.0   1.000  13112.932227  EverestCollimator\n",
      "34   tctpv.6r5.b2   0.0   1.000  13114.932227  EverestCollimator\n",
      "35  tctpxh.4r5.b2   0.0   1.000  13195.261227  EverestCollimator\n",
      "36  tctpxv.4r5.b2   0.0   1.000  13196.799727  EverestCollimator\n",
      "37   tclpx.4l5.b2   0.0   1.000  13464.903227  EverestCollimator\n",
      "38     tcl.5l5.b2   0.0   1.000  13528.303227  EverestCollimator\n",
      "39     tcl.6l5.b2   0.0   1.000  13549.842227  EverestCollimator\n",
      "40     tcp.6r3.b2   0.0   0.600  19817.112878  EverestCollimator\n",
      "41    tcsg.5r3.b2   0.0   1.000  19850.434376  EverestCollimator\n",
      "42    tccs.5r3.b2   0.0   0.004  19885.183171     EverestCrystal\n",
      "43  target.4l3.b2   0.0   0.005  20005.545671  EverestCollimator\n",
      "44    tccp.4l3.b2   0.0   0.070  20005.583171     EverestCrystal\n",
      "45    tcsg.4l3.b2   0.0   1.000  20037.017376  EverestCollimator\n",
      "46   tcsg.a5l3.b2   0.0   1.000  20048.362376  EverestCollimator\n",
      "47   tcsg.b5l3.b2   0.0   1.000  20054.182376  EverestCollimator\n",
      "48   tcla.a5l3.b2   0.0   1.000  20084.662376  EverestCollimator\n",
      "49   tcla.b5l3.b2   0.0   1.000  20086.662376  EverestCollimator\n",
      "50    tcla.6l3.b2   0.0   1.000  20173.211873  EverestCollimator\n",
      "51    tcla.7l3.b2   0.0   1.000  20244.617373  EverestCollimator\n",
      "52   tctph.4r2.b2   0.0   1.000  23208.065956  EverestCollimator\n",
      "53   tctpv.4r2.b2   0.0   1.000  23210.065956  EverestCollimator\n",
      "54      tclia.4r2   0.0   1.000  23255.050956  EverestCollimator\n",
      "55  tcld.a11l2.b2   0.0   0.600  23752.312348  EverestCollimator\n",
      "56   tctph.6r1.b2   0.0   1.000  26443.133171  EverestCollimator\n",
      "57   tctpv.6r1.b2   0.0   1.000  26445.133171  EverestCollimator\n",
      "58  tctpxh.4r1.b2   0.0   1.000  26524.855171  EverestCollimator\n",
      "59  tctpxv.4r1.b2   0.0   1.000  26526.393671  EverestCollimator\n"
     ]
    }
   ],
   "source": [
    "# Save lossmap to json, which can be loaded, combined (for more statistics),\n",
    "# and plotted with the 'lossmaps' package\n",
    "line_is_reversed = True if f'{beam}' == '2' else False\n",
    "ThisLM = xc.LossMap(line, line_is_reversed=line_is_reversed, part=part)\n",
    "path_out = Path.cwd()\n",
    "#ThisLM.save_summary(file=Path(path_out, f'coll_summary_B{beam}{plane}.out'))\n",
    "# Save a summary of the collimator losses to a text file\n",
    "print(ThisLM.summary)"
   ]
  },
  {
   "cell_type": "code",
   "execution_count": 16,
   "id": "3aa39a98",
   "metadata": {},
   "outputs": [
    {
     "data": {
      "text/html": [
       "<div>\n",
       "<style scoped>\n",
       "    .dataframe tbody tr th:only-of-type {\n",
       "        vertical-align: middle;\n",
       "    }\n",
       "\n",
       "    .dataframe tbody tr th {\n",
       "        vertical-align: top;\n",
       "    }\n",
       "\n",
       "    .dataframe thead th {\n",
       "        text-align: right;\n",
       "    }\n",
       "</style>\n",
       "<table border=\"1\" class=\"dataframe\">\n",
       "  <thead>\n",
       "    <tr style=\"text-align: right;\">\n",
       "      <th></th>\n",
       "      <th>collname</th>\n",
       "      <th>nabs</th>\n",
       "      <th>length</th>\n",
       "      <th>s</th>\n",
       "      <th>type</th>\n",
       "    </tr>\n",
       "  </thead>\n",
       "  <tbody>\n",
       "    <tr>\n",
       "      <th>9</th>\n",
       "      <td>tcp.d6r7.b2</td>\n",
       "      <td>3.0</td>\n",
       "      <td>0.6</td>\n",
       "      <td>6459.742798</td>\n",
       "      <td>EverestCollimator</td>\n",
       "    </tr>\n",
       "    <tr>\n",
       "      <th>28</th>\n",
       "      <td>tcld.9l7.b2</td>\n",
       "      <td>97.0</td>\n",
       "      <td>0.6</td>\n",
       "      <td>6980.518557</td>\n",
       "      <td>EverestCollimator</td>\n",
       "    </tr>\n",
       "  </tbody>\n",
       "</table>\n",
       "</div>"
      ],
      "text/plain": [
       "       collname  nabs  length            s               type\n",
       "9   tcp.d6r7.b2   3.0     0.6  6459.742798  EverestCollimator\n",
       "28  tcld.9l7.b2  97.0     0.6  6980.518557  EverestCollimator"
      ]
     },
     "execution_count": 16,
     "metadata": {},
     "output_type": "execute_result"
    }
   ],
   "source": [
    "ThisLM.summary[ThisLM.summary.nabs>0]"
   ]
  },
  {
   "cell_type": "code",
   "execution_count": 17,
   "id": "d121a526",
   "metadata": {},
   "outputs": [],
   "source": [
    "sm = coll_manager.impacts.interactions_per_collimator()"
   ]
  },
  {
   "cell_type": "code",
   "execution_count": 18,
   "id": "206ae185",
   "metadata": {},
   "outputs": [
    {
     "data": {
      "text/plain": [
       "Series([], Name: int, dtype: float64)"
      ]
     },
     "execution_count": 18,
     "metadata": {},
     "output_type": "execute_result"
    }
   ],
   "source": [
    "sm"
   ]
  },
  {
   "cell_type": "code",
   "execution_count": 19,
   "id": "293bab3c-ebe6-4b19-8250-7188ba2c68f0",
   "metadata": {},
   "outputs": [],
   "source": [
    "df_imp = coll_manager.impacts.to_pandas()"
   ]
  },
  {
   "cell_type": "code",
   "execution_count": 20,
   "id": "b0f1ca9d",
   "metadata": {},
   "outputs": [
    {
     "data": {
      "text/html": [
       "<div>\n",
       "<style scoped>\n",
       "    .dataframe tbody tr th:only-of-type {\n",
       "        vertical-align: middle;\n",
       "    }\n",
       "\n",
       "    .dataframe tbody tr th {\n",
       "        vertical-align: top;\n",
       "    }\n",
       "\n",
       "    .dataframe thead th {\n",
       "        text-align: right;\n",
       "    }\n",
       "</style>\n",
       "<table border=\"1\" class=\"dataframe\">\n",
       "  <thead>\n",
       "    <tr style=\"text-align: right;\">\n",
       "      <th></th>\n",
       "      <th>turn</th>\n",
       "      <th>collimator</th>\n",
       "      <th>interaction_type</th>\n",
       "      <th>ds</th>\n",
       "      <th>parent_id</th>\n",
       "      <th>parent_x</th>\n",
       "      <th>parent_px</th>\n",
       "      <th>parent_y</th>\n",
       "      <th>parent_py</th>\n",
       "      <th>parent_zeta</th>\n",
       "      <th>...</th>\n",
       "      <th>child_y</th>\n",
       "      <th>child_py</th>\n",
       "      <th>child_zeta</th>\n",
       "      <th>child_delta</th>\n",
       "      <th>child_energy</th>\n",
       "      <th>child_mass</th>\n",
       "      <th>child_charge</th>\n",
       "      <th>child_z</th>\n",
       "      <th>child_a</th>\n",
       "      <th>child_pdgid</th>\n",
       "    </tr>\n",
       "  </thead>\n",
       "  <tbody>\n",
       "    <tr>\n",
       "      <th>0</th>\n",
       "      <td>0</td>\n",
       "      <td>tcp.d6r7.b2</td>\n",
       "      <td>Enter Jaw L</td>\n",
       "      <td>0.0</td>\n",
       "      <td>0</td>\n",
       "      <td>0.002141</td>\n",
       "      <td>0.000039</td>\n",
       "      <td>-0.000181</td>\n",
       "      <td>3.089922e-06</td>\n",
       "      <td>1.592655e-11</td>\n",
       "      <td>...</td>\n",
       "      <td>-1.0</td>\n",
       "      <td>-1.0</td>\n",
       "      <td>-1.0</td>\n",
       "      <td>-1.0</td>\n",
       "      <td>-1.0</td>\n",
       "      <td>-1.0</td>\n",
       "      <td>-1</td>\n",
       "      <td>-1</td>\n",
       "      <td>-1</td>\n",
       "      <td>-1</td>\n",
       "    </tr>\n",
       "    <tr>\n",
       "      <th>1</th>\n",
       "      <td>0</td>\n",
       "      <td>tcp.d6r7.b2</td>\n",
       "      <td>Enter Jaw L</td>\n",
       "      <td>0.0</td>\n",
       "      <td>1</td>\n",
       "      <td>0.002141</td>\n",
       "      <td>0.000039</td>\n",
       "      <td>-0.000271</td>\n",
       "      <td>3.649913e-06</td>\n",
       "      <td>1.543215e-11</td>\n",
       "      <td>...</td>\n",
       "      <td>-1.0</td>\n",
       "      <td>-1.0</td>\n",
       "      <td>-1.0</td>\n",
       "      <td>-1.0</td>\n",
       "      <td>-1.0</td>\n",
       "      <td>-1.0</td>\n",
       "      <td>-1</td>\n",
       "      <td>-1</td>\n",
       "      <td>-1</td>\n",
       "      <td>-1</td>\n",
       "    </tr>\n",
       "    <tr>\n",
       "      <th>2</th>\n",
       "      <td>0</td>\n",
       "      <td>tcp.d6r7.b2</td>\n",
       "      <td>Enter Jaw L</td>\n",
       "      <td>0.0</td>\n",
       "      <td>2</td>\n",
       "      <td>0.002141</td>\n",
       "      <td>0.000039</td>\n",
       "      <td>-0.000327</td>\n",
       "      <td>5.219664e-06</td>\n",
       "      <td>1.712893e-11</td>\n",
       "      <td>...</td>\n",
       "      <td>-1.0</td>\n",
       "      <td>-1.0</td>\n",
       "      <td>-1.0</td>\n",
       "      <td>-1.0</td>\n",
       "      <td>-1.0</td>\n",
       "      <td>-1.0</td>\n",
       "      <td>-1</td>\n",
       "      <td>-1</td>\n",
       "      <td>-1</td>\n",
       "      <td>-1</td>\n",
       "    </tr>\n",
       "    <tr>\n",
       "      <th>3</th>\n",
       "      <td>0</td>\n",
       "      <td>tcp.d6r7.b2</td>\n",
       "      <td>Enter Jaw L</td>\n",
       "      <td>0.0</td>\n",
       "      <td>3</td>\n",
       "      <td>0.002141</td>\n",
       "      <td>0.000039</td>\n",
       "      <td>-0.001012</td>\n",
       "      <td>1.228877e-05</td>\n",
       "      <td>9.756214e-12</td>\n",
       "      <td>...</td>\n",
       "      <td>-1.0</td>\n",
       "      <td>-1.0</td>\n",
       "      <td>-1.0</td>\n",
       "      <td>-1.0</td>\n",
       "      <td>-1.0</td>\n",
       "      <td>-1.0</td>\n",
       "      <td>-1</td>\n",
       "      <td>-1</td>\n",
       "      <td>-1</td>\n",
       "      <td>-1</td>\n",
       "    </tr>\n",
       "    <tr>\n",
       "      <th>4</th>\n",
       "      <td>0</td>\n",
       "      <td>tcp.d6r7.b2</td>\n",
       "      <td>Enter Jaw L</td>\n",
       "      <td>0.0</td>\n",
       "      <td>4</td>\n",
       "      <td>0.002141</td>\n",
       "      <td>0.000039</td>\n",
       "      <td>-0.000031</td>\n",
       "      <td>3.534991e-07</td>\n",
       "      <td>1.485243e-11</td>\n",
       "      <td>...</td>\n",
       "      <td>-1.0</td>\n",
       "      <td>-1.0</td>\n",
       "      <td>-1.0</td>\n",
       "      <td>-1.0</td>\n",
       "      <td>-1.0</td>\n",
       "      <td>-1.0</td>\n",
       "      <td>-1</td>\n",
       "      <td>-1</td>\n",
       "      <td>-1</td>\n",
       "      <td>-1</td>\n",
       "    </tr>\n",
       "    <tr>\n",
       "      <th>...</th>\n",
       "      <td>...</td>\n",
       "      <td>...</td>\n",
       "      <td>...</td>\n",
       "      <td>...</td>\n",
       "      <td>...</td>\n",
       "      <td>...</td>\n",
       "      <td>...</td>\n",
       "      <td>...</td>\n",
       "      <td>...</td>\n",
       "      <td>...</td>\n",
       "      <td>...</td>\n",
       "      <td>...</td>\n",
       "      <td>...</td>\n",
       "      <td>...</td>\n",
       "      <td>...</td>\n",
       "      <td>...</td>\n",
       "      <td>...</td>\n",
       "      <td>...</td>\n",
       "      <td>...</td>\n",
       "      <td>...</td>\n",
       "      <td>...</td>\n",
       "    </tr>\n",
       "    <tr>\n",
       "      <th>95</th>\n",
       "      <td>0</td>\n",
       "      <td>tcp.d6r7.b2</td>\n",
       "      <td>Enter Jaw R</td>\n",
       "      <td>0.0</td>\n",
       "      <td>95</td>\n",
       "      <td>-0.002456</td>\n",
       "      <td>-0.000037</td>\n",
       "      <td>-0.000148</td>\n",
       "      <td>3.234221e-06</td>\n",
       "      <td>1.077199e-11</td>\n",
       "      <td>...</td>\n",
       "      <td>-1.0</td>\n",
       "      <td>-1.0</td>\n",
       "      <td>-1.0</td>\n",
       "      <td>-1.0</td>\n",
       "      <td>-1.0</td>\n",
       "      <td>-1.0</td>\n",
       "      <td>-1</td>\n",
       "      <td>-1</td>\n",
       "      <td>-1</td>\n",
       "      <td>-1</td>\n",
       "    </tr>\n",
       "    <tr>\n",
       "      <th>96</th>\n",
       "      <td>0</td>\n",
       "      <td>tcp.d6r7.b2</td>\n",
       "      <td>Enter Jaw R</td>\n",
       "      <td>0.0</td>\n",
       "      <td>96</td>\n",
       "      <td>-0.002456</td>\n",
       "      <td>-0.000037</td>\n",
       "      <td>0.000557</td>\n",
       "      <td>-7.493013e-06</td>\n",
       "      <td>6.560260e-12</td>\n",
       "      <td>...</td>\n",
       "      <td>-1.0</td>\n",
       "      <td>-1.0</td>\n",
       "      <td>-1.0</td>\n",
       "      <td>-1.0</td>\n",
       "      <td>-1.0</td>\n",
       "      <td>-1.0</td>\n",
       "      <td>-1</td>\n",
       "      <td>-1</td>\n",
       "      <td>-1</td>\n",
       "      <td>-1</td>\n",
       "    </tr>\n",
       "    <tr>\n",
       "      <th>97</th>\n",
       "      <td>0</td>\n",
       "      <td>tcp.d6r7.b2</td>\n",
       "      <td>Enter Jaw R</td>\n",
       "      <td>0.0</td>\n",
       "      <td>97</td>\n",
       "      <td>-0.002456</td>\n",
       "      <td>-0.000037</td>\n",
       "      <td>0.000529</td>\n",
       "      <td>-6.009318e-06</td>\n",
       "      <td>5.332786e-12</td>\n",
       "      <td>...</td>\n",
       "      <td>-1.0</td>\n",
       "      <td>-1.0</td>\n",
       "      <td>-1.0</td>\n",
       "      <td>-1.0</td>\n",
       "      <td>-1.0</td>\n",
       "      <td>-1.0</td>\n",
       "      <td>-1</td>\n",
       "      <td>-1</td>\n",
       "      <td>-1</td>\n",
       "      <td>-1</td>\n",
       "    </tr>\n",
       "    <tr>\n",
       "      <th>98</th>\n",
       "      <td>0</td>\n",
       "      <td>tcp.d6r7.b2</td>\n",
       "      <td>Enter Jaw R</td>\n",
       "      <td>0.0</td>\n",
       "      <td>98</td>\n",
       "      <td>-0.002456</td>\n",
       "      <td>-0.000037</td>\n",
       "      <td>0.000231</td>\n",
       "      <td>-3.699115e-06</td>\n",
       "      <td>6.892894e-12</td>\n",
       "      <td>...</td>\n",
       "      <td>-1.0</td>\n",
       "      <td>-1.0</td>\n",
       "      <td>-1.0</td>\n",
       "      <td>-1.0</td>\n",
       "      <td>-1.0</td>\n",
       "      <td>-1.0</td>\n",
       "      <td>-1</td>\n",
       "      <td>-1</td>\n",
       "      <td>-1</td>\n",
       "      <td>-1</td>\n",
       "    </tr>\n",
       "    <tr>\n",
       "      <th>99</th>\n",
       "      <td>0</td>\n",
       "      <td>tcp.d6r7.b2</td>\n",
       "      <td>Enter Jaw R</td>\n",
       "      <td>0.0</td>\n",
       "      <td>99</td>\n",
       "      <td>-0.002456</td>\n",
       "      <td>-0.000037</td>\n",
       "      <td>0.000380</td>\n",
       "      <td>-2.976097e-06</td>\n",
       "      <td>6.300917e-12</td>\n",
       "      <td>...</td>\n",
       "      <td>-1.0</td>\n",
       "      <td>-1.0</td>\n",
       "      <td>-1.0</td>\n",
       "      <td>-1.0</td>\n",
       "      <td>-1.0</td>\n",
       "      <td>-1.0</td>\n",
       "      <td>-1</td>\n",
       "      <td>-1</td>\n",
       "      <td>-1</td>\n",
       "      <td>-1</td>\n",
       "    </tr>\n",
       "  </tbody>\n",
       "</table>\n",
       "<p>100 rows × 30 columns</p>\n",
       "</div>"
      ],
      "text/plain": [
       "    turn   collimator interaction_type   ds  parent_id  parent_x  parent_px  \\\n",
       "0      0  tcp.d6r7.b2      Enter Jaw L  0.0          0  0.002141   0.000039   \n",
       "1      0  tcp.d6r7.b2      Enter Jaw L  0.0          1  0.002141   0.000039   \n",
       "2      0  tcp.d6r7.b2      Enter Jaw L  0.0          2  0.002141   0.000039   \n",
       "3      0  tcp.d6r7.b2      Enter Jaw L  0.0          3  0.002141   0.000039   \n",
       "4      0  tcp.d6r7.b2      Enter Jaw L  0.0          4  0.002141   0.000039   \n",
       "..   ...          ...              ...  ...        ...       ...        ...   \n",
       "95     0  tcp.d6r7.b2      Enter Jaw R  0.0         95 -0.002456  -0.000037   \n",
       "96     0  tcp.d6r7.b2      Enter Jaw R  0.0         96 -0.002456  -0.000037   \n",
       "97     0  tcp.d6r7.b2      Enter Jaw R  0.0         97 -0.002456  -0.000037   \n",
       "98     0  tcp.d6r7.b2      Enter Jaw R  0.0         98 -0.002456  -0.000037   \n",
       "99     0  tcp.d6r7.b2      Enter Jaw R  0.0         99 -0.002456  -0.000037   \n",
       "\n",
       "    parent_y     parent_py   parent_zeta  ...  child_y  child_py  child_zeta  \\\n",
       "0  -0.000181  3.089922e-06  1.592655e-11  ...     -1.0      -1.0        -1.0   \n",
       "1  -0.000271  3.649913e-06  1.543215e-11  ...     -1.0      -1.0        -1.0   \n",
       "2  -0.000327  5.219664e-06  1.712893e-11  ...     -1.0      -1.0        -1.0   \n",
       "3  -0.001012  1.228877e-05  9.756214e-12  ...     -1.0      -1.0        -1.0   \n",
       "4  -0.000031  3.534991e-07  1.485243e-11  ...     -1.0      -1.0        -1.0   \n",
       "..       ...           ...           ...  ...      ...       ...         ...   \n",
       "95 -0.000148  3.234221e-06  1.077199e-11  ...     -1.0      -1.0        -1.0   \n",
       "96  0.000557 -7.493013e-06  6.560260e-12  ...     -1.0      -1.0        -1.0   \n",
       "97  0.000529 -6.009318e-06  5.332786e-12  ...     -1.0      -1.0        -1.0   \n",
       "98  0.000231 -3.699115e-06  6.892894e-12  ...     -1.0      -1.0        -1.0   \n",
       "99  0.000380 -2.976097e-06  6.300917e-12  ...     -1.0      -1.0        -1.0   \n",
       "\n",
       "    child_delta  child_energy  child_mass  child_charge  child_z  child_a  \\\n",
       "0          -1.0          -1.0        -1.0            -1       -1       -1   \n",
       "1          -1.0          -1.0        -1.0            -1       -1       -1   \n",
       "2          -1.0          -1.0        -1.0            -1       -1       -1   \n",
       "3          -1.0          -1.0        -1.0            -1       -1       -1   \n",
       "4          -1.0          -1.0        -1.0            -1       -1       -1   \n",
       "..          ...           ...         ...           ...      ...      ...   \n",
       "95         -1.0          -1.0        -1.0            -1       -1       -1   \n",
       "96         -1.0          -1.0        -1.0            -1       -1       -1   \n",
       "97         -1.0          -1.0        -1.0            -1       -1       -1   \n",
       "98         -1.0          -1.0        -1.0            -1       -1       -1   \n",
       "99         -1.0          -1.0        -1.0            -1       -1       -1   \n",
       "\n",
       "    child_pdgid  \n",
       "0            -1  \n",
       "1            -1  \n",
       "2            -1  \n",
       "3            -1  \n",
       "4            -1  \n",
       "..          ...  \n",
       "95           -1  \n",
       "96           -1  \n",
       "97           -1  \n",
       "98           -1  \n",
       "99           -1  \n",
       "\n",
       "[100 rows x 30 columns]"
      ]
     },
     "execution_count": 20,
     "metadata": {},
     "output_type": "execute_result"
    }
   ],
   "source": [
    "df_imp"
   ]
  },
  {
   "cell_type": "code",
   "execution_count": 21,
   "id": "2599a737",
   "metadata": {},
   "outputs": [
    {
     "data": {
      "text/html": [
       "<div>\n",
       "<style scoped>\n",
       "    .dataframe tbody tr th:only-of-type {\n",
       "        vertical-align: middle;\n",
       "    }\n",
       "\n",
       "    .dataframe tbody tr th {\n",
       "        vertical-align: top;\n",
       "    }\n",
       "\n",
       "    .dataframe thead th {\n",
       "        text-align: right;\n",
       "    }\n",
       "</style>\n",
       "<table border=\"1\" class=\"dataframe\">\n",
       "  <thead>\n",
       "    <tr style=\"text-align: right;\">\n",
       "      <th></th>\n",
       "      <th>turn</th>\n",
       "      <th>collimator</th>\n",
       "      <th>interaction_type</th>\n",
       "      <th>ds</th>\n",
       "      <th>parent_id</th>\n",
       "      <th>parent_x</th>\n",
       "      <th>parent_px</th>\n",
       "      <th>parent_y</th>\n",
       "      <th>parent_py</th>\n",
       "      <th>parent_zeta</th>\n",
       "      <th>...</th>\n",
       "      <th>child_y</th>\n",
       "      <th>child_py</th>\n",
       "      <th>child_zeta</th>\n",
       "      <th>child_delta</th>\n",
       "      <th>child_energy</th>\n",
       "      <th>child_mass</th>\n",
       "      <th>child_charge</th>\n",
       "      <th>child_z</th>\n",
       "      <th>child_a</th>\n",
       "      <th>child_pdgid</th>\n",
       "    </tr>\n",
       "  </thead>\n",
       "  <tbody>\n",
       "    <tr>\n",
       "      <th>99</th>\n",
       "      <td>0</td>\n",
       "      <td>tcp.d6r7.b2</td>\n",
       "      <td>Enter Jaw R</td>\n",
       "      <td>0.0</td>\n",
       "      <td>99</td>\n",
       "      <td>-0.002456</td>\n",
       "      <td>-0.000037</td>\n",
       "      <td>0.00038</td>\n",
       "      <td>-0.000003</td>\n",
       "      <td>6.300917e-12</td>\n",
       "      <td>...</td>\n",
       "      <td>-1.0</td>\n",
       "      <td>-1.0</td>\n",
       "      <td>-1.0</td>\n",
       "      <td>-1.0</td>\n",
       "      <td>-1.0</td>\n",
       "      <td>-1.0</td>\n",
       "      <td>-1</td>\n",
       "      <td>-1</td>\n",
       "      <td>-1</td>\n",
       "      <td>-1</td>\n",
       "    </tr>\n",
       "  </tbody>\n",
       "</table>\n",
       "<p>1 rows × 30 columns</p>\n",
       "</div>"
      ],
      "text/plain": [
       "    turn   collimator interaction_type   ds  parent_id  parent_x  parent_px  \\\n",
       "99     0  tcp.d6r7.b2      Enter Jaw R  0.0         99 -0.002456  -0.000037   \n",
       "\n",
       "    parent_y  parent_py   parent_zeta  ...  child_y  child_py  child_zeta  \\\n",
       "99   0.00038  -0.000003  6.300917e-12  ...     -1.0      -1.0        -1.0   \n",
       "\n",
       "    child_delta  child_energy  child_mass  child_charge  child_z  child_a  \\\n",
       "99         -1.0          -1.0        -1.0            -1       -1       -1   \n",
       "\n",
       "    child_pdgid  \n",
       "99           -1  \n",
       "\n",
       "[1 rows x 30 columns]"
      ]
     },
     "execution_count": 21,
     "metadata": {},
     "output_type": "execute_result"
    }
   ],
   "source": [
    "df_imp[df_imp.parent_id == 99]"
   ]
  },
  {
   "cell_type": "code",
   "execution_count": 22,
   "id": "862e53b9-0d38-4e1f-bea8-c15401e8c9ac",
   "metadata": {},
   "outputs": [
    {
     "data": {
      "text/plain": [
       "Index(['turn', 'collimator', 'interaction_type', 'ds', 'parent_id', 'parent_x',\n",
       "       'parent_px', 'parent_y', 'parent_py', 'parent_zeta', 'parent_delta',\n",
       "       'parent_energy', 'parent_mass', 'parent_charge', 'parent_z', 'parent_a',\n",
       "       'parent_pdgid', 'child_id', 'child_x', 'child_px', 'child_y',\n",
       "       'child_py', 'child_zeta', 'child_delta', 'child_energy', 'child_mass',\n",
       "       'child_charge', 'child_z', 'child_a', 'child_pdgid'],\n",
       "      dtype='object')"
      ]
     },
     "execution_count": 22,
     "metadata": {},
     "output_type": "execute_result"
    }
   ],
   "source": [
    "coll_manager.impacts.to_pandas().columns"
   ]
  },
  {
   "cell_type": "code",
   "execution_count": 23,
   "id": "8f4b510e",
   "metadata": {},
   "outputs": [
    {
     "ename": "AttributeError",
     "evalue": "'CollimatorManager' object has no attribute 'lossmap'",
     "output_type": "error",
     "traceback": [
      "\u001b[0;31m---------------------------------------------------------------------------\u001b[0m",
      "\u001b[0;31mAttributeError\u001b[0m                            Traceback (most recent call last)",
      "\u001b[0;32m/tmp/cmaccani/ipykernel_10356/3351923211.py\u001b[0m in \u001b[0;36m<module>\u001b[0;34m\u001b[0m\n\u001b[0;32m----> 1\u001b[0;31m \u001b[0mcoll_manager\u001b[0m\u001b[0;34m.\u001b[0m\u001b[0mlossmap\u001b[0m\u001b[0;34m(\u001b[0m\u001b[0mpart\u001b[0m\u001b[0;34m,\u001b[0m \u001b[0mfile\u001b[0m\u001b[0;34m=\u001b[0m\u001b[0;32mNone\u001b[0m\u001b[0;34m)\u001b[0m\u001b[0;34m\u001b[0m\u001b[0;34m\u001b[0m\u001b[0m\n\u001b[0m",
      "\u001b[0;31mAttributeError\u001b[0m: 'CollimatorManager' object has no attribute 'lossmap'"
     ]
    }
   ],
   "source": [
    "coll_manager.lossmap(part, file=None)"
   ]
  },
  {
   "cell_type": "code",
   "execution_count": null,
   "id": "5458c42c",
   "metadata": {},
   "outputs": [
    {
     "name": "stdout",
     "output_type": "stream",
     "text": [
      "Automatic pdb calling has been turned ON\n"
     ]
    }
   ],
   "source": [
    "pdb on"
   ]
  },
  {
   "cell_type": "code",
   "execution_count": null,
   "id": "967dbc45",
   "metadata": {},
   "outputs": [
    {
     "ename": "AttributeError",
     "evalue": "'CollimatorManager' object has no attribute 'lossmap'",
     "output_type": "error",
     "traceback": [
      "\u001b[0;31m---------------------------------------------------------------------------\u001b[0m",
      "\u001b[0;31mAttributeError\u001b[0m                            Traceback (most recent call last)",
      "\u001b[0;32m/tmp/cmaccani/ipykernel_155508/1558782414.py\u001b[0m in \u001b[0;36m<module>\u001b[0;34m\u001b[0m\n\u001b[0;32m----> 1\u001b[0;31m \u001b[0mcoll_manager\u001b[0m\u001b[0;34m.\u001b[0m\u001b[0mlossmap\u001b[0m\u001b[0;34m(\u001b[0m\u001b[0mpart\u001b[0m\u001b[0;34m)\u001b[0m\u001b[0;34m\u001b[0m\u001b[0;34m\u001b[0m\u001b[0m\n\u001b[0m",
      "\u001b[0;31mAttributeError\u001b[0m: 'CollimatorManager' object has no attribute 'lossmap'"
     ]
    }
   ],
   "source": [
    "coll_manager.lossmap(part)"
   ]
  },
  {
   "cell_type": "code",
   "execution_count": null,
   "id": "07df93a7",
   "metadata": {},
   "outputs": [],
   "source": []
  },
  {
   "cell_type": "code",
   "execution_count": null,
   "id": "48f45f3b",
   "metadata": {},
   "outputs": [],
   "source": []
  },
  {
   "cell_type": "code",
   "execution_count": null,
   "id": "51e2b096",
   "metadata": {},
   "outputs": [],
   "source": []
  },
  {
   "cell_type": "code",
   "execution_count": null,
   "id": "cf6982a9",
   "metadata": {},
   "outputs": [],
   "source": []
  },
  {
   "cell_type": "code",
   "execution_count": null,
   "id": "24e585dc",
   "metadata": {},
   "outputs": [],
   "source": []
  },
  {
   "cell_type": "code",
   "execution_count": null,
   "id": "9b10b195",
   "metadata": {},
   "outputs": [],
   "source": []
  },
  {
   "cell_type": "code",
   "execution_count": null,
   "id": "dc28e44c",
   "metadata": {},
   "outputs": [],
   "source": []
  }
 ],
 "metadata": {
  "@webio": {
   "lastCommId": null,
   "lastKernelId": null
  },
  "kernelspec": {
   "display_name": "LCG view 104 + venv",
   "language": "python-custom",
   "name": "lcg-view"
  },
  "language_info": {
   "codemirror_mode": {
    "name": "ipython",
    "version": 3
   },
   "file_extension": ".py",
   "mimetype": "text/x-python",
   "name": "python",
   "nbconvert_exporter": "python",
   "pygments_lexer": "ipython3",
   "version": "3.9.12"
  }
 },
 "nbformat": 4,
 "nbformat_minor": 5
}
