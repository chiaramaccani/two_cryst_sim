{
 "cells": [
  {
   "cell_type": "code",
   "execution_count": 1,
   "id": "ee8f07b8-7b36-4930-adad-ed7fb215e46f",
   "metadata": {
    "vscode": {
     "languageId": "python"
    }
   },
   "outputs": [],
   "source": [
    "# %load_ext autoreload\n",
    "# %autoreload 2\n",
    "# %load_ext wurlitzer\n",
    "\n",
    "import numpy as np\n",
    "import pandas as pd\n",
    "import matplotlib.pyplot as plt\n",
    "import json\n",
    "\n",
    "import xobjects as xo\n",
    "import xpart as xp\n",
    "import xcoll as xc"
   ]
  },
  {
   "cell_type": "code",
   "execution_count": 2,
   "id": "65d68b15-38ac-4738-becc-7ce9a4773232",
   "metadata": {
    "vscode": {
     "languageId": "python"
    }
   },
   "outputs": [],
   "source": [
    "def _create_geometry_kernel():\n",
    "    src_poly = [xc._pkg_root / 'scattering_routines' / 'geometry' / 'polygon.h',\n",
    "                xc._pkg_root / 'scattering_routines' / 'geometry' / 'crystal.h']\n",
    "    kernels_poly = {\n",
    "        'check_poly': xo.Kernel(\n",
    "                c_name='get_s_of_first_crossing_with_polygon',\n",
    "                args=[\n",
    "                    xo.Arg(xo.Float64, pointer=False, name='part_x'),\n",
    "                    xo.Arg(xo.Float64, pointer=False, name='part_tan'),\n",
    "                    xo.Arg(xo.Float64, pointer=True, name='poly_s'),\n",
    "                    xo.Arg(xo.Float64, pointer=True, name='poly_x'),\n",
    "                    xo.Arg(xo.Int8, name='num_polys'),\n",
    "                    xo.Arg(xo.Int8, name='is_closed')\n",
    "                ],\n",
    "                ret=xo.Arg(xo.Float64, pointer=False, name='s')),\n",
    "        'check_open_poly': xo.Kernel(\n",
    "                c_name='get_s_of_first_crossing_with_open_polygon',\n",
    "                args=[\n",
    "                    xo.Arg(xo.Float64, pointer=False, name='part_x'),\n",
    "                    xo.Arg(xo.Float64, pointer=False, name='part_tan'),\n",
    "                    xo.Arg(xo.Float64, pointer=True, name='poly_s'),\n",
    "                    xo.Arg(xo.Float64, pointer=True, name='poly_x'),\n",
    "                    xo.Arg(xo.Int8, name='num_polys'),\n",
    "                    xo.Arg(xo.Float64, name='tan_tilt'),\n",
    "                    xo.Arg(xo.Int8, name='side')\n",
    "                ],\n",
    "                ret=xo.Arg(xo.Float64, pointer=False, name='s')),\n",
    "        'check_cry': xo.Kernel(\n",
    "                c_name='get_s_of_first_crossing_with_crystal',\n",
    "                args=[\n",
    "                    xo.Arg(xo.Float64, pointer=False, name='part_x'),\n",
    "                    xo.Arg(xo.Float64, pointer=False, name='part_tan'),\n",
    "                    xo.Arg(xo.Float64, pointer=False, name='R'),\n",
    "                    xo.Arg(xo.Float64, pointer=False, name='width'),\n",
    "                    xo.Arg(xo.Float64, pointer=False, name='length'),\n",
    "                    xo.Arg(xo.Float64, pointer=False, name='jaw_U'),\n",
    "                    xo.Arg(xo.Float64, pointer=False, name='sin_tilt'),\n",
    "                    xo.Arg(xo.Float64, pointer=False, name='cos_tilt')\n",
    "                ],\n",
    "                ret=xo.Arg(xo.Float64, pointer=False, name='s'))\n",
    "    }\n",
    "    context = xo.ContextCpu()\n",
    "    context.add_kernels(sources=src_poly, kernels=kernels_poly)\n",
    "    return context.kernels\n",
    "\n",
    "def _generate_polygon_points(num_poly, tilt_L=0, tilt_R=0):\n",
    "    with open(xc._pkg_root.parent / \"tests\" / \"data\" / \"geometry.json\", \"r\") as fp:\n",
    "        rans = json.load(fp)['rans']\n",
    "    len_between = num_poly-4\n",
    "    between = [[(i+1)/(len_between+1) + rans[i]*0.15-0.075, rans[i+len_between]*0.15+0.025]\n",
    "               for i in range(len_between)]\n",
    "    poly_L = [[0,0.4],  [0,0.1],  *between, [1,0.1],  [1,0.4]]\n",
    "    between = [[(i+1)/(len_between+1) + rans[2*len_between+i]*0.15-0.075, -rans[3*len_between+i]*0.15-0.025]\n",
    "               for i in range(len_between)]\n",
    "    poly_R = [[0,-0.4], [0,-0.1], *between, [1,-0.1], [1,-0.4]]\n",
    "    cos_L = np.cos(np.deg2rad(-tilt_L))\n",
    "    sin_L = np.sin(np.deg2rad(-tilt_L))\n",
    "    cos_R = np.cos(np.deg2rad(-tilt_R))\n",
    "    sin_R = np.sin(np.deg2rad(-tilt_R))\n",
    "    poly_s_L = np.array([(s-0.5)*cos_L  + (x-0.1)*sin_L + 0.5 for s,x in poly_L], dtype=np.float64)\n",
    "    poly_x_L = np.array([-(s-0.5)*sin_L + (x-0.1)*cos_L + 0.1 for s,x in poly_L], dtype=np.float64)\n",
    "    poly_s_R = np.array([(s-0.5)*cos_R  + (x+0.1)*sin_R + 0.5 for s,x in poly_R], dtype=np.float64)\n",
    "    poly_x_R = np.array([-(s-0.5)*sin_R + (x+0.1)*cos_R - 0.1 for s,x in poly_R], dtype=np.float64)\n",
    "    return poly_s_L, poly_x_L, poly_s_R, poly_x_R\n",
    "\n",
    "def _generate_crystal_points(R, w, tilt):\n",
    "    alpha = np.arcsin(1/R)\n",
    "    poly_s = np.linspace(0, 1, 200)\n",
    "    poly_x = R + 0.1 - np.sign(R)*np.sqrt(R**2 - poly_s**2)\n",
    "    if R < 0:\n",
    "        poly_x += w\n",
    "    D_s = poly_s[-1] - w/abs(R)\n",
    "    D_x = poly_x[-1] + w/R*np.sqrt(R**2 - 1)\n",
    "    poly_s_2 = np.flip(np.linspace(0, D_s, 200))\n",
    "    poly_x_2 = R + 0.1 - np.sign(R)*np.sqrt((abs(R)-w)**2 - poly_s_2**2)\n",
    "    if R < 0:\n",
    "        poly_x_2 += w\n",
    "    poly_s = np.concatenate([poly_s, poly_s_2, [poly_s[0]]])\n",
    "    poly_x = np.concatenate([poly_x, poly_x_2, [poly_x[0]]])\n",
    "    cos_L = np.cos(np.deg2rad(-tilt))\n",
    "    sin_L = np.sin(np.deg2rad(-tilt))\n",
    "    d = 0.1 if R > 0 else 0.1 + w\n",
    "    poly_s_L = np.array([(s-0.5)*cos_L  + (x-0.1)*sin_L + 0.5 for s,x in zip(poly_s, poly_x)], dtype=np.float64)\n",
    "    poly_x_L = np.array([-(s-0.5)*sin_L + (x-0.1)*cos_L + 0.1 for s,x in zip(poly_s, poly_x)], dtype=np.float64)\n",
    "    poly_s_R = np.array([(s-0.5)*cos_L  + (x-0.1)*sin_L + 0.5 for s,x in zip([0, 1, 1, 0, 0], [d, d, D_x, D_x, d])], dtype=np.float64)\n",
    "    poly_x_R = np.array([-(s-0.5)*sin_L + (x-0.1)*cos_L + 0.1 for s,x in zip([0, 1, 1, 0, 0], [d, d, D_x, D_x, d])], dtype=np.float64)\n",
    "    return poly_s_L, poly_x_L, poly_s_R, poly_x_R"
   ]
  },
  {
   "cell_type": "code",
   "execution_count": 3,
   "id": "4a818990-c92e-4b65-9402-b4dafd2e9564",
   "metadata": {
    "vscode": {
     "languageId": "python"
    }
   },
   "outputs": [
    {
     "ename": "FileNotFoundError",
     "evalue": "[Errno 2] No such file or directory: '/afs/cern.ch/user/c/cmaccani/xsuite/xcoll/xcoll/scattering_routines/geometry/polygon.h'",
     "output_type": "error",
     "traceback": [
      "\u001b[0;31m---------------------------------------------------------------------------\u001b[0m",
      "\u001b[0;31mFileNotFoundError\u001b[0m                         Traceback (most recent call last)",
      "\u001b[0;32m/tmp/cmaccani/ipykernel_24210/1742612878.py\u001b[0m in \u001b[0;36m<module>\u001b[0;34m\u001b[0m\n\u001b[1;32m      2\u001b[0m \u001b[0;32mimport\u001b[0m \u001b[0mipywidgets\u001b[0m \u001b[0;32mas\u001b[0m \u001b[0mwidgets\u001b[0m\u001b[0;34m\u001b[0m\u001b[0;34m\u001b[0m\u001b[0m\n\u001b[1;32m      3\u001b[0m \u001b[0;34m\u001b[0m\u001b[0m\n\u001b[0;32m----> 4\u001b[0;31m \u001b[0mkernels\u001b[0m \u001b[0;34m=\u001b[0m \u001b[0m_create_geometry_kernel\u001b[0m\u001b[0;34m(\u001b[0m\u001b[0;34m)\u001b[0m\u001b[0;34m\u001b[0m\u001b[0;34m\u001b[0m\u001b[0m\n\u001b[0m\u001b[1;32m      5\u001b[0m \u001b[0;34m\u001b[0m\u001b[0m\n\u001b[1;32m      6\u001b[0m @interact(tilt_L=widgets.IntSlider(min=-89, max=89, step=1, value=0),\n",
      "\u001b[0;32m/tmp/cmaccani/ipykernel_24210/2690126934.py\u001b[0m in \u001b[0;36m_create_geometry_kernel\u001b[0;34m()\u001b[0m\n\u001b[1;32m     41\u001b[0m     }\n\u001b[1;32m     42\u001b[0m     \u001b[0mcontext\u001b[0m \u001b[0;34m=\u001b[0m \u001b[0mxo\u001b[0m\u001b[0;34m.\u001b[0m\u001b[0mContextCpu\u001b[0m\u001b[0;34m(\u001b[0m\u001b[0;34m)\u001b[0m\u001b[0;34m\u001b[0m\u001b[0;34m\u001b[0m\u001b[0m\n\u001b[0;32m---> 43\u001b[0;31m     \u001b[0mcontext\u001b[0m\u001b[0;34m.\u001b[0m\u001b[0madd_kernels\u001b[0m\u001b[0;34m(\u001b[0m\u001b[0msources\u001b[0m\u001b[0;34m=\u001b[0m\u001b[0msrc_poly\u001b[0m\u001b[0;34m,\u001b[0m \u001b[0mkernels\u001b[0m\u001b[0;34m=\u001b[0m\u001b[0mkernels_poly\u001b[0m\u001b[0;34m)\u001b[0m\u001b[0;34m\u001b[0m\u001b[0;34m\u001b[0m\u001b[0m\n\u001b[0m\u001b[1;32m     44\u001b[0m     \u001b[0;32mreturn\u001b[0m \u001b[0mcontext\u001b[0m\u001b[0;34m.\u001b[0m\u001b[0mkernels\u001b[0m\u001b[0;34m\u001b[0m\u001b[0;34m\u001b[0m\u001b[0m\n\u001b[1;32m     45\u001b[0m \u001b[0;34m\u001b[0m\u001b[0m\n",
      "\u001b[0;32m/afs/cern.ch/user/c/cmaccani/xsuite/xobjects/xobjects/context_cpu.py\u001b[0m in \u001b[0;36madd_kernels\u001b[0;34m(self, sources, kernels, specialize, apply_to_source, save_source_as, extra_compile_args, extra_link_args, extra_cdef, extra_classes, extra_headers, compile)\u001b[0m\n\u001b[1;32m    244\u001b[0m         \u001b[0msources\u001b[0m \u001b[0;34m=\u001b[0m \u001b[0msources\u001b[0m \u001b[0;32mor\u001b[0m \u001b[0;34m[\u001b[0m\u001b[0;34m]\u001b[0m\u001b[0;34m\u001b[0m\u001b[0;34m\u001b[0m\u001b[0m\n\u001b[1;32m    245\u001b[0m \u001b[0;34m\u001b[0m\u001b[0m\n\u001b[0;32m--> 246\u001b[0;31m         generated_kernels = self.build_kernels(\n\u001b[0m\u001b[1;32m    247\u001b[0m             \u001b[0mkernel_descriptions\u001b[0m\u001b[0;34m=\u001b[0m\u001b[0mkernels\u001b[0m\u001b[0;34m,\u001b[0m\u001b[0;34m\u001b[0m\u001b[0;34m\u001b[0m\u001b[0m\n\u001b[1;32m    248\u001b[0m             \u001b[0msources\u001b[0m\u001b[0;34m=\u001b[0m\u001b[0msources\u001b[0m\u001b[0;34m,\u001b[0m\u001b[0;34m\u001b[0m\u001b[0;34m\u001b[0m\u001b[0m\n",
      "\u001b[0;32m/afs/cern.ch/user/c/cmaccani/xsuite/xobjects/xobjects/context_cpu.py\u001b[0m in \u001b[0;36mbuild_kernels\u001b[0;34m(self, kernel_descriptions, module_name, containing_dir, sources, specialize, apply_to_source, save_source_as, extra_compile_args, extra_link_args, extra_cdef, extra_classes, extra_headers, compile)\u001b[0m\n\u001b[1;32m    290\u001b[0m                 \u001b[0marg\u001b[0m\u001b[0;34m.\u001b[0m\u001b[0matype\u001b[0m \u001b[0;34m=\u001b[0m \u001b[0mcls_for_name\u001b[0m\u001b[0;34m.\u001b[0m\u001b[0mget\u001b[0m\u001b[0;34m(\u001b[0m\u001b[0marg\u001b[0m\u001b[0;34m.\u001b[0m\u001b[0matype\u001b[0m\u001b[0;34m.\u001b[0m\u001b[0m__name__\u001b[0m\u001b[0;34m,\u001b[0m \u001b[0marg\u001b[0m\u001b[0;34m.\u001b[0m\u001b[0matype\u001b[0m\u001b[0;34m)\u001b[0m\u001b[0;34m\u001b[0m\u001b[0;34m\u001b[0m\u001b[0m\n\u001b[1;32m    291\u001b[0m \u001b[0;34m\u001b[0m\u001b[0m\n\u001b[0;32m--> 292\u001b[0;31m         source, specialized_source = self._build_sources(\n\u001b[0m\u001b[1;32m    293\u001b[0m             \u001b[0msources\u001b[0m\u001b[0;34m=\u001b[0m\u001b[0msources\u001b[0m\u001b[0;34m,\u001b[0m\u001b[0;34m\u001b[0m\u001b[0;34m\u001b[0m\u001b[0m\n\u001b[1;32m    294\u001b[0m             \u001b[0mclasses\u001b[0m\u001b[0;34m=\u001b[0m\u001b[0mclasses\u001b[0m\u001b[0;34m,\u001b[0m\u001b[0;34m\u001b[0m\u001b[0;34m\u001b[0m\u001b[0m\n",
      "\u001b[0;32m/afs/cern.ch/user/c/cmaccani/xsuite/xobjects/xobjects/context_cpu.py\u001b[0m in \u001b[0;36m_build_sources\u001b[0;34m(self, classes, extra_headers, specialize, sources, apply_to_source)\u001b[0m\n\u001b[1;32m    476\u001b[0m         \u001b[0mheaders\u001b[0m \u001b[0;34m+=\u001b[0m \u001b[0mextra_headers\u001b[0m\u001b[0;34m\u001b[0m\u001b[0;34m\u001b[0m\u001b[0m\n\u001b[1;32m    477\u001b[0m         \u001b[0msources\u001b[0m \u001b[0;34m=\u001b[0m \u001b[0mheaders\u001b[0m \u001b[0;34m+\u001b[0m \u001b[0mcls_sources\u001b[0m \u001b[0;34m+\u001b[0m \u001b[0msources\u001b[0m\u001b[0;34m\u001b[0m\u001b[0;34m\u001b[0m\u001b[0m\n\u001b[0;32m--> 478\u001b[0;31m         \u001b[0msource\u001b[0m\u001b[0;34m,\u001b[0m \u001b[0mfolders\u001b[0m \u001b[0;34m=\u001b[0m \u001b[0m_concatenate_sources\u001b[0m\u001b[0;34m(\u001b[0m\u001b[0msources\u001b[0m\u001b[0;34m,\u001b[0m \u001b[0mapply_to_source\u001b[0m\u001b[0;34m)\u001b[0m\u001b[0;34m\u001b[0m\u001b[0;34m\u001b[0m\u001b[0m\n\u001b[0m\u001b[1;32m    479\u001b[0m \u001b[0;34m\u001b[0m\u001b[0m\n\u001b[1;32m    480\u001b[0m         \u001b[0;32mif\u001b[0m \u001b[0mspecialize\u001b[0m\u001b[0;34m:\u001b[0m\u001b[0;34m\u001b[0m\u001b[0;34m\u001b[0m\u001b[0m\n",
      "\u001b[0;32m/afs/cern.ch/user/c/cmaccani/xsuite/xobjects/xobjects/context.py\u001b[0m in \u001b[0;36m_concatenate_sources\u001b[0;34m(sources, apply_to_source)\u001b[0m\n\u001b[1;32m    128\u001b[0m             \u001b[0mfolders\u001b[0m\u001b[0;34m.\u001b[0m\u001b[0madd\u001b[0m\u001b[0;34m(\u001b[0m\u001b[0mos\u001b[0m\u001b[0;34m.\u001b[0m\u001b[0mpath\u001b[0m\u001b[0;34m.\u001b[0m\u001b[0mdirname\u001b[0m\u001b[0;34m(\u001b[0m\u001b[0mss\u001b[0m\u001b[0;34m.\u001b[0m\u001b[0mname\u001b[0m\u001b[0;34m)\u001b[0m\u001b[0;34m)\u001b[0m\u001b[0;34m\u001b[0m\u001b[0;34m\u001b[0m\u001b[0m\n\u001b[1;32m    129\u001b[0m         \u001b[0;32melif\u001b[0m \u001b[0misinstance\u001b[0m\u001b[0;34m(\u001b[0m\u001b[0mss\u001b[0m\u001b[0;34m,\u001b[0m \u001b[0mPath\u001b[0m\u001b[0;34m)\u001b[0m\u001b[0;34m:\u001b[0m\u001b[0;34m\u001b[0m\u001b[0;34m\u001b[0m\u001b[0m\n\u001b[0;32m--> 130\u001b[0;31m             \u001b[0;32mwith\u001b[0m \u001b[0mopen\u001b[0m\u001b[0;34m(\u001b[0m\u001b[0mss\u001b[0m\u001b[0;34m,\u001b[0m \u001b[0;34m\"r\"\u001b[0m\u001b[0;34m)\u001b[0m \u001b[0;32mas\u001b[0m \u001b[0mfid\u001b[0m\u001b[0;34m:\u001b[0m\u001b[0;34m\u001b[0m\u001b[0;34m\u001b[0m\u001b[0m\n\u001b[0m\u001b[1;32m    131\u001b[0m                 \u001b[0msource\u001b[0m\u001b[0;34m.\u001b[0m\u001b[0mappend\u001b[0m\u001b[0;34m(\u001b[0m\u001b[0mfid\u001b[0m\u001b[0;34m.\u001b[0m\u001b[0mread\u001b[0m\u001b[0;34m(\u001b[0m\u001b[0;34m)\u001b[0m\u001b[0;34m)\u001b[0m\u001b[0;34m\u001b[0m\u001b[0;34m\u001b[0m\u001b[0m\n\u001b[1;32m    132\u001b[0m             \u001b[0mfolders\u001b[0m\u001b[0;34m.\u001b[0m\u001b[0madd\u001b[0m\u001b[0;34m(\u001b[0m\u001b[0mss\u001b[0m\u001b[0;34m.\u001b[0m\u001b[0mparent\u001b[0m\u001b[0;34m)\u001b[0m\u001b[0;34m\u001b[0m\u001b[0;34m\u001b[0m\u001b[0m\n",
      "\u001b[0;31mFileNotFoundError\u001b[0m: [Errno 2] No such file or directory: '/afs/cern.ch/user/c/cmaccani/xsuite/xcoll/xcoll/scattering_routines/geometry/polygon.h'"
     ]
    }
   ],
   "source": [
    "from ipywidgets import interact, interactive, fixed, interact_manual\n",
    "import ipywidgets as widgets\n",
    "\n",
    "kernels = _create_geometry_kernel()\n",
    "\n",
    "@interact(tilt_L=widgets.IntSlider(min=-89, max=89, step=1, value=0),\n",
    "          tilt_R=widgets.IntSlider(min=-89, max=89, step=1, value=0),\n",
    "          part_x_cm=widgets.IntSlider(min=-120, max=120, step=1, value=0),\n",
    "          part_theta=widgets.IntSlider(min=-89, max=89, step=1, value=0),\n",
    "          num_poly=widgets.IntSlider(min=4, max=8, step=1, value=4),\n",
    "          is_open=widgets.Checkbox(value=True, description='is_open'))\n",
    "def check(tilt_L, tilt_R, part_x_cm, part_theta, num_poly, is_open):\n",
    "    part_x = part_x_cm/100\n",
    "    part_tan = np.tan(np.deg2rad(part_theta))\n",
    "    p_s_L, p_x_L, p_s_R, p_x_R = _generate_polygon_points(num_poly, tilt_L, tilt_R)\n",
    "    if is_open:\n",
    "        s_L = kernels.check_open_poly(part_x=part_x, part_tan=part_tan, poly_s=p_s_L[1:-1],\n",
    "                                      poly_x=p_x_L[1:-1], num_polys=len(p_s_L)-2,\n",
    "                                      tan_tilt=np.tan(np.deg2rad(tilt_L)), side=1)\n",
    "        s_R = kernels.check_open_poly(part_x=part_x, part_tan=part_tan, poly_s=p_s_R[1:-1],\n",
    "                                      poly_x=p_x_R[1:-1], num_polys=len(p_s_R)-2,\n",
    "                                      tan_tilt=np.tan(np.deg2rad(tilt_R)), side=-1)\n",
    "    else:\n",
    "        s_L = kernels.check_poly(part_x=part_x, part_tan=part_tan, poly_s=p_s_L,\n",
    "                                 poly_x=p_x_L, num_polys=len(p_s_L), is_closed=True)\n",
    "        s_R = kernels.check_poly(part_x=part_x, part_tan=part_tan, poly_s=p_s_R,\n",
    "                                 poly_x=p_x_R, num_polys=len(p_s_R), is_closed=True)\n",
    "    hit = 0\n",
    "    if s_L < 1.e20:\n",
    "        hit = 1\n",
    "        s = s_L\n",
    "    if s_R < 1.e20 and s_R < s_L:\n",
    "        hit = -1\n",
    "        s = s_R\n",
    "    fig, ax = plt.subplots(1, 1, figsize=(8,5.6))\n",
    "    if is_open:\n",
    "        ax.plot(p_s_L, p_x_L, 'k-')\n",
    "        ax.plot(p_s_R, p_x_R, 'k-')\n",
    "    else:\n",
    "        ax.plot([*p_s_L, p_s_L[0]], [*p_x_L, p_x_L[0]], 'k-')\n",
    "        ax.plot([*p_s_R, p_s_R[0]], [*p_x_R, p_x_R[0]], 'k-')\n",
    "    ax.plot([-0.5,1.5], [part_x-0.5*part_tan,part_x+1.5*part_tan], 'b-')\n",
    "    ax.set_xlim((-0.5,1.5))\n",
    "    ax.set_ylim((-0.7,0.7))\n",
    "    if hit != 0:\n",
    "        if hit == 1:\n",
    "            print(f\"Hit left  {s}\")\n",
    "        else:\n",
    "            print(f\"Hit right  {s}\")\n",
    "        ax.axvline(s, c='r', ls='--')\n",
    "    else:\n",
    "        print(\"No hit\")"
   ]
  },
  {
   "cell_type": "code",
   "execution_count": 4,
   "id": "6a5f0cf7-ece8-4d29-8399-df5278a51bb4",
   "metadata": {
    "vscode": {
     "languageId": "python"
    }
   },
   "outputs": [
    {
     "ename": "FileNotFoundError",
     "evalue": "[Errno 2] No such file or directory: '/afs/cern.ch/user/c/cmaccani/xsuite/xcoll/xcoll/scattering_routines/geometry/polygon.h'",
     "output_type": "error",
     "traceback": [
      "\u001b[0;31m---------------------------------------------------------------------------\u001b[0m",
      "\u001b[0;31mFileNotFoundError\u001b[0m                         Traceback (most recent call last)",
      "\u001b[0;32m/tmp/cmaccani/ipykernel_24210/4009570950.py\u001b[0m in \u001b[0;36m<module>\u001b[0;34m\u001b[0m\n\u001b[1;32m      2\u001b[0m \u001b[0;32mimport\u001b[0m \u001b[0mipywidgets\u001b[0m \u001b[0;32mas\u001b[0m \u001b[0mwidgets\u001b[0m\u001b[0;34m\u001b[0m\u001b[0;34m\u001b[0m\u001b[0m\n\u001b[1;32m      3\u001b[0m \u001b[0;34m\u001b[0m\u001b[0m\n\u001b[0;32m----> 4\u001b[0;31m \u001b[0mkernels\u001b[0m \u001b[0;34m=\u001b[0m \u001b[0m_create_geometry_kernel\u001b[0m\u001b[0;34m(\u001b[0m\u001b[0;34m)\u001b[0m\u001b[0;34m\u001b[0m\u001b[0;34m\u001b[0m\u001b[0m\n\u001b[0m\u001b[1;32m      5\u001b[0m \u001b[0;34m\u001b[0m\u001b[0m\n\u001b[1;32m      6\u001b[0m @interact(tilt=widgets.IntSlider(min=-89, max=89, step=1, value=0),\n",
      "\u001b[0;32m/tmp/cmaccani/ipykernel_24210/2690126934.py\u001b[0m in \u001b[0;36m_create_geometry_kernel\u001b[0;34m()\u001b[0m\n\u001b[1;32m     41\u001b[0m     }\n\u001b[1;32m     42\u001b[0m     \u001b[0mcontext\u001b[0m \u001b[0;34m=\u001b[0m \u001b[0mxo\u001b[0m\u001b[0;34m.\u001b[0m\u001b[0mContextCpu\u001b[0m\u001b[0;34m(\u001b[0m\u001b[0;34m)\u001b[0m\u001b[0;34m\u001b[0m\u001b[0;34m\u001b[0m\u001b[0m\n\u001b[0;32m---> 43\u001b[0;31m     \u001b[0mcontext\u001b[0m\u001b[0;34m.\u001b[0m\u001b[0madd_kernels\u001b[0m\u001b[0;34m(\u001b[0m\u001b[0msources\u001b[0m\u001b[0;34m=\u001b[0m\u001b[0msrc_poly\u001b[0m\u001b[0;34m,\u001b[0m \u001b[0mkernels\u001b[0m\u001b[0;34m=\u001b[0m\u001b[0mkernels_poly\u001b[0m\u001b[0;34m)\u001b[0m\u001b[0;34m\u001b[0m\u001b[0;34m\u001b[0m\u001b[0m\n\u001b[0m\u001b[1;32m     44\u001b[0m     \u001b[0;32mreturn\u001b[0m \u001b[0mcontext\u001b[0m\u001b[0;34m.\u001b[0m\u001b[0mkernels\u001b[0m\u001b[0;34m\u001b[0m\u001b[0;34m\u001b[0m\u001b[0m\n\u001b[1;32m     45\u001b[0m \u001b[0;34m\u001b[0m\u001b[0m\n",
      "\u001b[0;32m/afs/cern.ch/user/c/cmaccani/xsuite/xobjects/xobjects/context_cpu.py\u001b[0m in \u001b[0;36madd_kernels\u001b[0;34m(self, sources, kernels, specialize, apply_to_source, save_source_as, extra_compile_args, extra_link_args, extra_cdef, extra_classes, extra_headers, compile)\u001b[0m\n\u001b[1;32m    244\u001b[0m         \u001b[0msources\u001b[0m \u001b[0;34m=\u001b[0m \u001b[0msources\u001b[0m \u001b[0;32mor\u001b[0m \u001b[0;34m[\u001b[0m\u001b[0;34m]\u001b[0m\u001b[0;34m\u001b[0m\u001b[0;34m\u001b[0m\u001b[0m\n\u001b[1;32m    245\u001b[0m \u001b[0;34m\u001b[0m\u001b[0m\n\u001b[0;32m--> 246\u001b[0;31m         generated_kernels = self.build_kernels(\n\u001b[0m\u001b[1;32m    247\u001b[0m             \u001b[0mkernel_descriptions\u001b[0m\u001b[0;34m=\u001b[0m\u001b[0mkernels\u001b[0m\u001b[0;34m,\u001b[0m\u001b[0;34m\u001b[0m\u001b[0;34m\u001b[0m\u001b[0m\n\u001b[1;32m    248\u001b[0m             \u001b[0msources\u001b[0m\u001b[0;34m=\u001b[0m\u001b[0msources\u001b[0m\u001b[0;34m,\u001b[0m\u001b[0;34m\u001b[0m\u001b[0;34m\u001b[0m\u001b[0m\n",
      "\u001b[0;32m/afs/cern.ch/user/c/cmaccani/xsuite/xobjects/xobjects/context_cpu.py\u001b[0m in \u001b[0;36mbuild_kernels\u001b[0;34m(self, kernel_descriptions, module_name, containing_dir, sources, specialize, apply_to_source, save_source_as, extra_compile_args, extra_link_args, extra_cdef, extra_classes, extra_headers, compile)\u001b[0m\n\u001b[1;32m    290\u001b[0m                 \u001b[0marg\u001b[0m\u001b[0;34m.\u001b[0m\u001b[0matype\u001b[0m \u001b[0;34m=\u001b[0m \u001b[0mcls_for_name\u001b[0m\u001b[0;34m.\u001b[0m\u001b[0mget\u001b[0m\u001b[0;34m(\u001b[0m\u001b[0marg\u001b[0m\u001b[0;34m.\u001b[0m\u001b[0matype\u001b[0m\u001b[0;34m.\u001b[0m\u001b[0m__name__\u001b[0m\u001b[0;34m,\u001b[0m \u001b[0marg\u001b[0m\u001b[0;34m.\u001b[0m\u001b[0matype\u001b[0m\u001b[0;34m)\u001b[0m\u001b[0;34m\u001b[0m\u001b[0;34m\u001b[0m\u001b[0m\n\u001b[1;32m    291\u001b[0m \u001b[0;34m\u001b[0m\u001b[0m\n\u001b[0;32m--> 292\u001b[0;31m         source, specialized_source = self._build_sources(\n\u001b[0m\u001b[1;32m    293\u001b[0m             \u001b[0msources\u001b[0m\u001b[0;34m=\u001b[0m\u001b[0msources\u001b[0m\u001b[0;34m,\u001b[0m\u001b[0;34m\u001b[0m\u001b[0;34m\u001b[0m\u001b[0m\n\u001b[1;32m    294\u001b[0m             \u001b[0mclasses\u001b[0m\u001b[0;34m=\u001b[0m\u001b[0mclasses\u001b[0m\u001b[0;34m,\u001b[0m\u001b[0;34m\u001b[0m\u001b[0;34m\u001b[0m\u001b[0m\n",
      "\u001b[0;32m/afs/cern.ch/user/c/cmaccani/xsuite/xobjects/xobjects/context_cpu.py\u001b[0m in \u001b[0;36m_build_sources\u001b[0;34m(self, classes, extra_headers, specialize, sources, apply_to_source)\u001b[0m\n\u001b[1;32m    476\u001b[0m         \u001b[0mheaders\u001b[0m \u001b[0;34m+=\u001b[0m \u001b[0mextra_headers\u001b[0m\u001b[0;34m\u001b[0m\u001b[0;34m\u001b[0m\u001b[0m\n\u001b[1;32m    477\u001b[0m         \u001b[0msources\u001b[0m \u001b[0;34m=\u001b[0m \u001b[0mheaders\u001b[0m \u001b[0;34m+\u001b[0m \u001b[0mcls_sources\u001b[0m \u001b[0;34m+\u001b[0m \u001b[0msources\u001b[0m\u001b[0;34m\u001b[0m\u001b[0;34m\u001b[0m\u001b[0m\n\u001b[0;32m--> 478\u001b[0;31m         \u001b[0msource\u001b[0m\u001b[0;34m,\u001b[0m \u001b[0mfolders\u001b[0m \u001b[0;34m=\u001b[0m \u001b[0m_concatenate_sources\u001b[0m\u001b[0;34m(\u001b[0m\u001b[0msources\u001b[0m\u001b[0;34m,\u001b[0m \u001b[0mapply_to_source\u001b[0m\u001b[0;34m)\u001b[0m\u001b[0;34m\u001b[0m\u001b[0;34m\u001b[0m\u001b[0m\n\u001b[0m\u001b[1;32m    479\u001b[0m \u001b[0;34m\u001b[0m\u001b[0m\n\u001b[1;32m    480\u001b[0m         \u001b[0;32mif\u001b[0m \u001b[0mspecialize\u001b[0m\u001b[0;34m:\u001b[0m\u001b[0;34m\u001b[0m\u001b[0;34m\u001b[0m\u001b[0m\n",
      "\u001b[0;32m/afs/cern.ch/user/c/cmaccani/xsuite/xobjects/xobjects/context.py\u001b[0m in \u001b[0;36m_concatenate_sources\u001b[0;34m(sources, apply_to_source)\u001b[0m\n\u001b[1;32m    128\u001b[0m             \u001b[0mfolders\u001b[0m\u001b[0;34m.\u001b[0m\u001b[0madd\u001b[0m\u001b[0;34m(\u001b[0m\u001b[0mos\u001b[0m\u001b[0;34m.\u001b[0m\u001b[0mpath\u001b[0m\u001b[0;34m.\u001b[0m\u001b[0mdirname\u001b[0m\u001b[0;34m(\u001b[0m\u001b[0mss\u001b[0m\u001b[0;34m.\u001b[0m\u001b[0mname\u001b[0m\u001b[0;34m)\u001b[0m\u001b[0;34m)\u001b[0m\u001b[0;34m\u001b[0m\u001b[0;34m\u001b[0m\u001b[0m\n\u001b[1;32m    129\u001b[0m         \u001b[0;32melif\u001b[0m \u001b[0misinstance\u001b[0m\u001b[0;34m(\u001b[0m\u001b[0mss\u001b[0m\u001b[0;34m,\u001b[0m \u001b[0mPath\u001b[0m\u001b[0;34m)\u001b[0m\u001b[0;34m:\u001b[0m\u001b[0;34m\u001b[0m\u001b[0;34m\u001b[0m\u001b[0m\n\u001b[0;32m--> 130\u001b[0;31m             \u001b[0;32mwith\u001b[0m \u001b[0mopen\u001b[0m\u001b[0;34m(\u001b[0m\u001b[0mss\u001b[0m\u001b[0;34m,\u001b[0m \u001b[0;34m\"r\"\u001b[0m\u001b[0;34m)\u001b[0m \u001b[0;32mas\u001b[0m \u001b[0mfid\u001b[0m\u001b[0;34m:\u001b[0m\u001b[0;34m\u001b[0m\u001b[0;34m\u001b[0m\u001b[0m\n\u001b[0m\u001b[1;32m    131\u001b[0m                 \u001b[0msource\u001b[0m\u001b[0;34m.\u001b[0m\u001b[0mappend\u001b[0m\u001b[0;34m(\u001b[0m\u001b[0mfid\u001b[0m\u001b[0;34m.\u001b[0m\u001b[0mread\u001b[0m\u001b[0;34m(\u001b[0m\u001b[0;34m)\u001b[0m\u001b[0;34m)\u001b[0m\u001b[0;34m\u001b[0m\u001b[0;34m\u001b[0m\u001b[0m\n\u001b[1;32m    132\u001b[0m             \u001b[0mfolders\u001b[0m\u001b[0;34m.\u001b[0m\u001b[0madd\u001b[0m\u001b[0;34m(\u001b[0m\u001b[0mss\u001b[0m\u001b[0;34m.\u001b[0m\u001b[0mparent\u001b[0m\u001b[0;34m)\u001b[0m\u001b[0;34m\u001b[0m\u001b[0;34m\u001b[0m\u001b[0m\n",
      "\u001b[0;31mFileNotFoundError\u001b[0m: [Errno 2] No such file or directory: '/afs/cern.ch/user/c/cmaccani/xsuite/xcoll/xcoll/scattering_routines/geometry/polygon.h'"
     ]
    }
   ],
   "source": [
    "from ipywidgets import interact, interactive, fixed, interact_manual\n",
    "import ipywidgets as widgets\n",
    "\n",
    "kernels = _create_geometry_kernel()\n",
    "\n",
    "@interact(tilt=widgets.IntSlider(min=-89, max=89, step=1, value=0),\n",
    "          part_x_cm=widgets.IntSlider(min=-120, max=120, step=1, value=0),\n",
    "          part_theta=widgets.IntSlider(min=-89, max=89, step=1, value=0),\n",
    "          R=widgets.IntSlider(min=1, max=10, step=1, value=2),\n",
    "          width_cm=widgets.IntSlider(min=1, max=30, step=1, value=15),\n",
    "          R_neg=widgets.Checkbox(value=False, description='R_neg'))\n",
    "def check_cry(tilt, part_x_cm, part_theta, R, width_cm, R_neg):\n",
    "    part_x = part_x_cm/100\n",
    "    part_tan = np.tan(np.deg2rad(part_theta))\n",
    "    width = width_cm/100\n",
    "    if R_neg:\n",
    "        R *= -1\n",
    "    pts_s, pts_x, box_s, box_x = _generate_crystal_points(R, width, tilt)\n",
    "    s = kernels.check_cry(part_x=part_x, part_tan=part_tan, R=R, width=width,\n",
    "                          length=1, jaw_U=0.1-0.5*np.sin(np.deg2rad(tilt)),\n",
    "                          sin_tilt=np.sin(np.deg2rad(tilt)), cos_tilt=np.cos(np.deg2rad(tilt)))\n",
    "    hit = 0\n",
    "    if s < 1.e20:\n",
    "        hit = 1\n",
    "    fig, ax = plt.subplots(1, 1, figsize=(8,5.6))\n",
    "    ax.plot(pts_s, pts_x, 'k-')\n",
    "    ax.plot(box_s, box_x, 'k--')\n",
    "    ax.plot([-0.5,1.5], [part_x-0.5*part_tan,part_x+1.5*part_tan], 'b-')\n",
    "    ax.set_xlim((-0.5,1.5))\n",
    "    ax.set_ylim((-0.7,0.7))\n",
    "    if hit != 0:\n",
    "        ax.axvline(s, c='r', ls='--')"
   ]
  },
  {
   "cell_type": "code",
   "execution_count": null,
   "id": "1a796485-975c-43fc-b1c3-22f40e995962",
   "metadata": {
    "vscode": {
     "languageId": "python"
    }
   },
   "outputs": [],
   "source": []
  }
 ],
 "metadata": {
  "kernelspec": {
   "display_name": "LCG view 104 + venv",
   "language": "python-custom",
   "name": "lcg-view"
  },
  "language_info": {
   "codemirror_mode": {
    "name": "ipython",
    "version": 3
   },
   "file_extension": ".py",
   "mimetype": "text/x-python",
   "name": "python-custom",
   "nbconvert_exporter": "python",
   "pygments_lexer": "ipython3",
   "version": "3.9.12"
  }
 },
 "nbformat": 4,
 "nbformat_minor": 5
}
