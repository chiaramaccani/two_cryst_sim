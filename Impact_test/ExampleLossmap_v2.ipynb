{
 "cells": [
  {
   "cell_type": "code",
   "execution_count": 1,
   "id": "0f3f3668",
   "metadata": {},
   "outputs": [],
   "source": [
    "\"\"\"%load_ext autoreload\n",
    "%autoreload 2\n",
    "%load_ext wurlitzer\"\"\"\n",
    "\n",
    "import json\n",
    "import numpy as np\n",
    "import pandas as pd\n",
    "from pathlib import Path\n",
    "import matplotlib.pyplot as plt\n",
    "import xobjects as xo\n",
    "import xpart as xp\n",
    "import xtrack as xt\n",
    "import xcoll as xc"
   ]
  },
  {
   "cell_type": "code",
   "execution_count": 2,
   "id": "ce8d5694",
   "metadata": {},
   "outputs": [
    {
     "data": {
      "application/vnd.jupyter.widget-view+json": {
       "model_id": "7411683e8525490fa68419d36eaa0a07",
       "version_major": 2,
       "version_minor": 0
      },
      "text/plain": [
       "Loading line from dict:   0%|          | 0/175585 [00:00<?, ?it/s]"
      ]
     },
     "metadata": {},
     "output_type": "display_data"
    },
    {
     "name": "stdout",
     "output_type": "stream",
     "text": [
      "Done loading line from dict.           \n"
     ]
    }
   ],
   "source": [
    "context = xo.ContextCpu()\n",
    "# context = xo.ContextCupy()\n",
    "# context = xo.ContextPyopencl()\n",
    "\n",
    "# On a modern CPU, we get ~5000 particle*turns/s\n",
    "# So this script should take around half an hour\n",
    "beam          =  1\n",
    "plane         = 'V'\n",
    "\n",
    "num_turns     = 20\n",
    "num_particles = 20000\n",
    "engine        = 'everest'\n",
    "\n",
    "path_in  = Path(\"/eos/project-c/collimation-team/machine_configurations/LHC_run3/2024\")\n",
    "\n",
    "# Load from json\n",
    "line = xt.Line.from_json(path_in / 'xsuite' / f'levelling.20_b{beam}.json')"
   ]
  },
  {
   "cell_type": "code",
   "execution_count": 3,
   "id": "615cabff",
   "metadata": {},
   "outputs": [
    {
     "name": "stdout",
     "output_type": "stream",
     "text": [
      "Compiling ContextCpu kernels...\n"
     ]
    },
    {
     "name": "stderr",
     "output_type": "stream",
     "text": [
      "5de72efae84d46769e45bbe6870770e2.c: In function 'scatter_cry':\n",
      "5de72efae84d46769e45bbe6870770e2.c:9926:28: warning: unused variable 'x_P' [-Wunused-variable]\n",
      " 9926 |                     double x_P = -s_P_tmp*sin(tilt_int) + x_P_tmp*cos(tilt_int);\n",
      "      |                            ^~~\n",
      "5de72efae84d46769e45bbe6870770e2.c:9925:28: warning: unused variable 's_P' [-Wunused-variable]\n",
      " 9925 |                     double s_P = s_P_tmp*cos(tilt_int) + x_P_tmp*sin(tilt_int);\n",
      "      |                            ^~~\n",
      "5de72efae84d46769e45bbe6870770e2.c:9823:18: warning: unused variable 'cry_spTilt' [-Wunused-variable]\n",
      " 9823 |     double const cry_spTilt = sin(cry_tilt);\n",
      "      |                  ^~~~~~~~~~\n",
      "5de72efae84d46769e45bbe6870770e2.c:9813:12: warning: unused variable 'offset' [-Wunused-variable]\n",
      " 9813 |     double offset   = everest->coll->offset;\n",
      "      |            ^~~~~~\n"
     ]
    },
    {
     "name": "stdout",
     "output_type": "stream",
     "text": [
      "Done compiling ContextCpu kernels.\n",
      "Installing tcpcv.a6l7.b1        as EverestCrystal\n",
      "Installing tcpch.a4l7.b1        as EverestCrystal\n",
      "Compiling ContextCpu kernels...\n"
     ]
    },
    {
     "name": "stderr",
     "output_type": "stream",
     "text": [
      "d393262cf02140a1bab6c577ff654688.c: In function 'scatter_cry':\n",
      "d393262cf02140a1bab6c577ff654688.c:9926:28: warning: unused variable 'x_P' [-Wunused-variable]\n",
      " 9926 |                     double x_P = -s_P_tmp*sin(tilt_int) + x_P_tmp*cos(tilt_int);\n",
      "      |                            ^~~\n",
      "d393262cf02140a1bab6c577ff654688.c:9925:28: warning: unused variable 's_P' [-Wunused-variable]\n",
      " 9925 |                     double s_P = s_P_tmp*cos(tilt_int) + x_P_tmp*sin(tilt_int);\n",
      "      |                            ^~~\n",
      "d393262cf02140a1bab6c577ff654688.c:9823:18: warning: unused variable 'cry_spTilt' [-Wunused-variable]\n",
      " 9823 |     double const cry_spTilt = sin(cry_tilt);\n",
      "      |                  ^~~~~~~~~~\n",
      "d393262cf02140a1bab6c577ff654688.c:9813:12: warning: unused variable 'offset' [-Wunused-variable]\n",
      " 9813 |     double offset   = everest->coll->offset;\n",
      "      |            ^~~~~~\n"
     ]
    },
    {
     "name": "stdout",
     "output_type": "stream",
     "text": [
      "Done compiling ContextCpu kernels.\n",
      "Installing tcl.4r1.b1           as EverestCollimator\n",
      "Installing tcl.5r1.b1           as EverestCollimator\n",
      "Installing tcl.6r1.b1           as EverestCollimator\n",
      "Installing tctph.4l2.b1         as EverestCollimator\n",
      "Installing tctpv.4l2.b1         as EverestCollimator\n",
      "Installing tdisa.a4l2.b1        as EverestCollimator\n",
      "Installing tdisb.a4l2.b1        as EverestCollimator\n",
      "Installing tdisc.a4l2.b1        as EverestCollimator\n",
      "Installing tclia.4r2            as EverestCollimator\n",
      "Installing tclib.6r2.b1         as EverestCollimator\n",
      "Installing tcld.a11r2.b1        as EverestCollimator\n",
      "Installing tcp.6l3.b1           as EverestCollimator\n",
      "Installing tcsg.5l3.b1          as EverestCollimator\n",
      "Installing tcsg.4r3.b1          as EverestCollimator\n",
      "Installing tcsg.a5r3.b1         as EverestCollimator\n",
      "Installing tcsg.b5r3.b1         as EverestCollimator\n",
      "Installing tcla.a5r3.b1         as EverestCollimator\n",
      "Installing tcla.b5r3.b1         as EverestCollimator\n",
      "Installing tcla.6r3.b1          as EverestCollimator\n",
      "Installing tcla.7r3.b1          as EverestCollimator\n",
      "Installing tctph.4l5.b1         as EverestCollimator\n",
      "Installing tctpv.4l5.b1         as EverestCollimator\n",
      "Installing tcl.4r5.b1           as EverestCollimator\n",
      "Installing tcl.5r5.b1           as EverestCollimator\n",
      "Installing tcl.6r5.b1           as EverestCollimator\n",
      "Installing tcdqa.a4r6.b1        as EverestCollimator\n",
      "Installing tcdqa.c4r6.b1        as EverestCollimator\n",
      "Installing tcdqa.b4r6.b1        as EverestCollimator\n",
      "Installing tcsp.a4r6.b1         as EverestCollimator\n",
      "Installing tcp.d6l7.b1          as EverestCollimator\n",
      "Installing tcp.c6l7.b1          as EverestCollimator\n",
      "Installing tcp.b6l7.b1          as EverestCollimator\n",
      "Installing tcsg.a6l7.b1         as EverestCollimator\n",
      "Installing tcsg.b5l7.b1         as EverestCollimator\n",
      "Installing tcsg.a5l7.b1         as EverestCollimator\n",
      "Installing tcsg.d4l7.b1         as EverestCollimator\n",
      "Installing tcsg.b4l7.b1         as EverestCollimator\n",
      "Installing tcspm.b4l7.b1        as EverestCollimator\n",
      "Installing tcsg.a4l7.b1         as EverestCollimator\n",
      "Installing tcsg.a4r7.b1         as EverestCollimator\n",
      "Installing tcsg.b5r7.b1         as EverestCollimator\n",
      "Installing tcsg.d5r7.b1         as EverestCollimator\n",
      "Installing tcsg.e5r7.b1         as EverestCollimator\n",
      "Installing tcspm.e5r7.b1        as EverestCollimator\n",
      "Installing tcsg.6r7.b1          as EverestCollimator\n",
      "Installing tcspm.6r7.b1         as EverestCollimator\n",
      "Installing tcla.a6r7.b1         as EverestCollimator\n",
      "Installing tcla.b6r7.b1         as EverestCollimator\n",
      "Installing tcla.c6r7.b1         as EverestCollimator\n",
      "Installing tcla.d6r7.b1         as EverestCollimator\n",
      "Installing tcla.a7r7.b1         as EverestCollimator\n",
      "Installing tctph.4l8.b1         as EverestCollimator\n",
      "Installing tctpv.4l8.b1         as EverestCollimator\n",
      "Installing tctph.4l1.b1         as EverestCollimator\n",
      "Installing tctpv.4l1.b1         as EverestCollimator\n",
      "\n",
      "Aperture model check after introducing collimators:\n"
     ]
    },
    {
     "data": {
      "application/vnd.jupyter.widget-view+json": {
       "model_id": "2d3a30cbd6cc4ebdabb0daa4de917ba2",
       "version_major": 2,
       "version_minor": 0
      },
      "text/plain": [
       "Checking aperture:   0%|          | 0/175136 [00:00<?, ?it/s]"
      ]
     },
     "metadata": {},
     "output_type": "display_data"
    },
    {
     "name": "stdout",
     "output_type": "stream",
     "text": [
      "Done checking aperture.           \n",
      "0 thin elements miss associated aperture (upstream):\n",
      "[]\n",
      "0 thick elements miss associated aperture (upstream or downstream):\n",
      "[]\n"
     ]
    }
   ],
   "source": [
    "# Initialise collmanager\n",
    "# coll_manager = xc.CollimatorManager.from_yaml(path_in / 'colldbs' / f'levelling.20.yaml', line=line,\n",
    "#                                               beam=beam, ignore_crystals=False, record_impacts=False)\n",
    "coll_manager = xc.CollimatorManager.from_yaml(xc._pkg_root / '..' / 'examples' / 'colldb' / 'lhc_run3_crystals.yaml', line=line,\n",
    "                                              beam=beam, ignore_crystals=False, record_impacts=['tcp.c6l7.b1', 'tcp.d6l7.b1'])\n",
    "\n",
    "# Install collimators into line\n",
    "if engine == 'everest':\n",
    "    coll_manager.install_everest_collimators(verbose=True)\n",
    "elif engine == 'black':\n",
    "    coll_manager.install_black_absorbers(verbose=True)\n",
    "else:\n",
    "    raise ValueError(f\"Unknown scattering engine {engine}!\")\n",
    "\n",
    "# Aperture model check\n",
    "print('\\nAperture model check after introducing collimators:')\n",
    "df_with_coll = line.check_aperture()\n",
    "assert not np.any(df_with_coll.has_aperture_problem)"
   ]
  },
  {
   "cell_type": "code",
   "execution_count": 4,
   "id": "28c4fee1",
   "metadata": {},
   "outputs": [
    {
     "name": "stdout",
     "output_type": "stream",
     "text": [
      "Compiling ContextCpu kernels...\n"
     ]
    },
    {
     "name": "stderr",
     "output_type": "stream",
     "text": [
      "971eb13e0c944ceca44ded72f689a3d3.c: In function 'scatter_cry':\n",
      "971eb13e0c944ceca44ded72f689a3d3.c:14594:28: warning: unused variable 'x_P' [-Wunused-variable]\n",
      "14594 |                     double x_P = -s_P_tmp*sin(tilt_int) + x_P_tmp*cos(tilt_int);\n",
      "      |                            ^~~\n",
      "971eb13e0c944ceca44ded72f689a3d3.c:14593:28: warning: unused variable 's_P' [-Wunused-variable]\n",
      "14593 |                     double s_P = s_P_tmp*cos(tilt_int) + x_P_tmp*sin(tilt_int);\n",
      "      |                            ^~~\n",
      "971eb13e0c944ceca44ded72f689a3d3.c:14491:18: warning: unused variable 'cry_spTilt' [-Wunused-variable]\n",
      "14491 |     double const cry_spTilt = sin(cry_tilt);\n",
      "      |                  ^~~~~~~~~~\n",
      "971eb13e0c944ceca44ded72f689a3d3.c:14481:12: warning: unused variable 'offset' [-Wunused-variable]\n",
      "14481 |     double offset   = everest->coll->offset;\n",
      "      |            ^~~~~~\n"
     ]
    },
    {
     "name": "stdout",
     "output_type": "stream",
     "text": [
      "Done compiling ContextCpu kernels.\n"
     ]
    }
   ],
   "source": [
    "coll_manager.build_tracker()"
   ]
  },
  {
   "cell_type": "code",
   "execution_count": 5,
   "id": "89499db8",
   "metadata": {},
   "outputs": [
    {
     "name": "stdout",
     "output_type": "stream",
     "text": [
      "Compiling ContextCpu kernels...\n",
      "Done compiling ContextCpu kernels.\n"
     ]
    }
   ],
   "source": [
    "coll_manager.set_openings({'tcp.d6l7.b1': 5, 'tcp.c6l7.b1': 5, 'tcpcv.a6l7.b1': 5.5})"
   ]
  },
  {
   "cell_type": "code",
   "execution_count": 6,
   "id": "d88ba089-9b04-4e07-a7f3-e67ae8349f48",
   "metadata": {},
   "outputs": [],
   "source": [
    "line['tcpch.a4l7.b1'].active = True\n",
    "line['tcpcv.a6l7.b1'].active = True\n",
    "line['tcp.b6l7.b1'].record_touches = True\n",
    "line['tcp.c6l7.b1'].record_touches = True\n",
    "line['tcp.d6l7.b1'].record_touches = True\n",
    "\n",
    "line['tdisa.a4l2.b1'].record_touches = True"
   ]
  },
  {
   "cell_type": "code",
   "execution_count": 19,
   "id": "6f4dc92b-6c2b-459a-a3ee-216724101a2d",
   "metadata": {},
   "outputs": [
    {
     "data": {
      "text/plain": [
       "{'__class__': 'EverestCollimator',\n",
       " 'length': 0.6,\n",
       " 'active': 1,\n",
       " 'record_touches': 1,\n",
       " 'record_interactions': 0,\n",
       " 'rutherford_rng': {'__class__': 'RandomRutherford',\n",
       "  'lower_val': 0.0009982,\n",
       "  'upper_val': 0.02,\n",
       "  'A': 0.0012280392539122623,\n",
       "  'B': 53.50625,\n",
       "  'Newton_iterations': 7},\n",
       " '_tracking': 0,\n",
       " 'angle': 90.0,\n",
       " 'jaw': [0.0009303745697529786, -0.0009283734738021465],\n",
       " 'tilt': 0.0,\n",
       " 'side': 'both',\n",
       " 'material': {'__class__': 'Material',\n",
       "  'Z': 6.65,\n",
       "  'A': 13.53,\n",
       "  'density': 2.5,\n",
       "  'excitation_energy': 8.71e-08,\n",
       "  'nuclear_radius': 0.25,\n",
       "  'nuclear_elastic_slope': 76.7,\n",
       "  'cross_section': array([3.62e-01, 2.47e-01, 0.00e+00, 0.00e+00, 0.00e+00, 9.40e-05]),\n",
       "  'hcut': 0.02,\n",
       "  'name': 'MolybdenumGraphite',\n",
       "  '_only_mcs': 0,\n",
       "  'radiation_length': 0.1193}}"
      ]
     },
     "execution_count": 19,
     "metadata": {},
     "output_type": "execute_result"
    }
   ],
   "source": [
    "coll = 'tcp.d6l7.b1'\n",
    "line[coll].to_dict()"
   ]
  },
  {
   "cell_type": "code",
   "execution_count": 8,
   "id": "12469816-bb9e-44a5-96ef-6ec9c3067c23",
   "metadata": {},
   "outputs": [],
   "source": [
    "tw = line.twiss()"
   ]
  },
  {
   "cell_type": "code",
   "execution_count": 35,
   "id": "0b4d55fa-3a18-4060-97bf-1d6e83d3c71c",
   "metadata": {},
   "outputs": [
    {
     "name": "stdout",
     "output_type": "stream",
     "text": [
      "[0.00093037]\n",
      "[0.0009303745697529786, -0.0009283734738021465]\n"
     ]
    }
   ],
   "source": [
    "#coll = 'tcp.d6l7.b1'\n",
    "beta_rel = float(line.particle_ref.beta0)\n",
    "gamma = float(line.particle_ref.gamma0)\n",
    "ang = line[coll].angle*np.pi/180\n",
    "ref = np.cos(ang)* tw.rows[coll]['x'] + np.sin(ang)* tw.rows[coll]['y']\n",
    "sigx = np.sqrt(3.5E-6*tw.rows[coll]['betx']/(beta_rel*gamma))\n",
    "sigy = np.sqrt(3.5E-6*tw.rows[coll]['bety']/(beta_rel*gamma))\n",
    "sig = np.sqrt(np.cos(ang)**2 * sigx**2 + np.sin(ang)**2 * sigy**2)\n",
    "print(ref + sig*5)\n",
    "print(line[coll].to_dict()['jaw'])"
   ]
  },
  {
   "cell_type": "code",
   "execution_count": 10,
   "id": "128236ae",
   "metadata": {},
   "outputs": [
    {
     "name": "stdout",
     "output_type": "stream",
     "text": [
      "Collimator tcp.d6l7.b1 is diverging.\n",
      "Compiling ContextCpu kernels...\n",
      "Done compiling ContextCpu kernels.\n"
     ]
    }
   ],
   "source": [
    "part = xc.generate_pencil_on_collimator(line, 'tcp.d6l7.b1', 10000, nemitt_x=3.5e-6, nemitt_y=3.5e-6)"
   ]
  },
  {
   "cell_type": "code",
   "execution_count": 11,
   "id": "cb6aacb7",
   "metadata": {},
   "outputs": [
    {
     "data": {
      "application/vnd.jupyter.widget-view+json": {
       "model_id": "8c31a799dfdd40129f2c02d0dfc2bfa1",
       "version_major": 2,
       "version_minor": 0
      },
      "text/plain": [
       "Tracking:   0%|          | 0/20 [00:00<?, ?it/s]"
      ]
     },
     "metadata": {},
     "output_type": "display_data"
    },
    {
     "name": "stdout",
     "output_type": "stream",
     "text": [
      "Done tracking in 1.0s.\n"
     ]
    }
   ],
   "source": [
    "# # Optimise the line\n",
    "# line.optimize_for_tracking()\n",
    "# idx = line.element_names.index(tcp)\n",
    "# part.at_element = idx\n",
    "# part.start_tracking_at_element = idx\n",
    "\n",
    "# line.discard_tracker()\n",
    "# line.build_tracker(_context=xo.ContextCpu(omp_num_threads=28))\n",
    "\n",
    "# Track\n",
    "coll_manager.enable_scattering()\n",
    "line.track(part, num_turns=20, time=True, with_progress=1)\n",
    "coll_manager.disable_scattering()\n",
    "print(f\"Done tracking in {line.time_last_track:.1f}s.\")\n",
    "\n",
    "# line.discard_tracker()\n",
    "# line.build_tracker(_context=xo.ContextCpu())"
   ]
  },
  {
   "cell_type": "code",
   "execution_count": 12,
   "id": "8f6eedad",
   "metadata": {},
   "outputs": [
    {
     "name": "stdout",
     "output_type": "stream",
     "text": [
      "         collname    nabs  length             s               type\n",
      "0      tcl.4r1.b1     0.0   1.000    150.030000  EverestCollimator\n",
      "1      tcl.5r1.b1     0.0   1.000    184.357000  EverestCollimator\n",
      "2      tcl.6r1.b1     0.0   1.000    219.013000  EverestCollimator\n",
      "3    tctph.4l2.b1     0.0   1.000   3213.903584  EverestCollimator\n",
      "4    tctpv.4l2.b1     0.0   1.000   3215.903583  EverestCollimator\n",
      "5   tdisa.a4l2.b1  8819.0   1.565   3249.693583  EverestCollimator\n",
      "6   tdisb.a4l2.b1     1.0   1.565   3251.273583  EverestCollimator\n",
      "7   tdisc.a4l2.b1     0.0   1.565   3252.853583  EverestCollimator\n",
      "8       tclia.4r2     0.0   1.000   3403.984583  EverestCollimator\n",
      "9    tclib.6r2.b1     0.0   1.000   3560.090583  EverestCollimator\n",
      "10  tcld.a11r2.b1     0.0   0.600   3758.149975  EverestCollimator\n",
      "11     tcp.6l3.b1     0.0   0.600   6487.671299  EverestCollimator\n",
      "12    tcsg.5l3.b1     0.0   1.000   6520.992797  EverestCollimator\n",
      "13    tcsg.4r3.b1     0.0   1.000   6707.575797  EverestCollimator\n",
      "14   tcsg.a5r3.b1     0.0   1.000   6718.920797  EverestCollimator\n",
      "15   tcsg.b5r3.b1     0.0   1.000   6724.740797  EverestCollimator\n",
      "16   tcla.a5r3.b1     0.0   1.000   6755.220797  EverestCollimator\n",
      "17   tcla.b5r3.b1     0.0   1.000   6757.220797  EverestCollimator\n",
      "18    tcla.6r3.b1     0.0   1.000   6843.770295  EverestCollimator\n",
      "19    tcla.7r3.b1     0.0   1.000   6915.175795  EverestCollimator\n",
      "20   tctph.4l5.b1     0.0   1.000  13181.344217  EverestCollimator\n",
      "21   tctpv.4l5.b1     0.0   1.000  13183.344217  EverestCollimator\n",
      "22     tcl.4r5.b1     0.0   1.000  13479.319217  EverestCollimator\n",
      "23     tcl.5r5.b1     0.0   1.000  13513.553216  EverestCollimator\n",
      "24     tcl.6r5.b1     0.0   1.000  13550.863216  EverestCollimator\n",
      "25  tcdqa.a4r6.b1     0.0   3.000  16804.965799  EverestCollimator\n",
      "26  tcdqa.c4r6.b1     0.0   3.000  16808.515799  EverestCollimator\n",
      "27  tcdqa.b4r6.b1     0.0   3.000  16812.065799  EverestCollimator\n",
      "28   tcsp.a4r6.b1     0.0   1.000  16815.975799  EverestCollimator\n",
      "29    tcp.d6l7.b1   901.0   0.600  19789.184383  EverestCollimator\n",
      "30    tcp.c6l7.b1     0.0   0.600  19791.184382  EverestCollimator\n",
      "31    tcp.b6l7.b1     0.0   0.600  19793.184382  EverestCollimator\n",
      "32   tcsg.a6l7.b1    88.0   1.000  19832.678881  EverestCollimator\n",
      "33  tcpcv.a6l7.b1     0.0   0.004  19843.623881     EverestCrystal\n",
      "34   tcsg.b5l7.b1    74.0   1.000  19891.906381  EverestCollimator\n",
      "35   tcsg.a5l7.b1    54.0   1.000  19895.906381  EverestCollimator\n",
      "36   tcsg.d4l7.b1    20.0   1.000  19917.236381  EverestCollimator\n",
      "37  tcpch.a4l7.b1     0.0   0.004  19919.498881     EverestCrystal\n",
      "38   tcsg.b4l7.b1     0.0   1.000  19987.162381  EverestCollimator\n",
      "39  tcspm.b4l7.b1     5.0   1.000  19989.162381  EverestCollimator\n",
      "40   tcsg.a4l7.b1    18.0   1.000  19991.162381  EverestCollimator\n",
      "41   tcsg.a4r7.b1     8.0   1.000  19995.162381  EverestCollimator\n",
      "42   tcsg.b5r7.b1     4.0   1.000  20086.418381  EverestCollimator\n",
      "43   tcsg.d5r7.b1     7.0   1.000  20102.418381  EverestCollimator\n",
      "44   tcsg.e5r7.b1     0.0   1.000  20106.418381  EverestCollimator\n",
      "45  tcspm.e5r7.b1     0.0   1.000  20108.418381  EverestCollimator\n",
      "46    tcsg.6r7.b1     0.0   1.000  20141.023381  EverestCollimator\n",
      "47   tcspm.6r7.b1     0.0   1.000  20143.023381  EverestCollimator\n",
      "48   tcla.a6r7.b1     0.0   1.000  20148.089381  EverestCollimator\n",
      "49   tcla.b6r7.b1     0.0   1.000  20178.963380  EverestCollimator\n",
      "50   tcla.c6r7.b1     0.0   1.000  20212.232378  EverestCollimator\n",
      "51   tcla.d6r7.b1     0.0   1.000  20214.232378  EverestCollimator\n",
      "52   tcla.a7r7.b1     0.0   1.000  20231.860378  EverestCollimator\n",
      "53   tctph.4l8.b1     0.0   1.000  23197.145962  EverestCollimator\n",
      "54   tctpv.4l8.b1     0.0   1.000  23199.145962  EverestCollimator\n",
      "55   tctph.4l1.b1     0.0   1.000  26510.938177  EverestCollimator\n",
      "56   tctpv.4l1.b1     1.0   1.000  26512.938177  EverestCollimator\n"
     ]
    }
   ],
   "source": [
    "# Save lossmap to json, which can be loaded, combined (for more statistics),\n",
    "# and plotted with the 'lossmaps' package\n",
    "line_is_reversed = True if f'{beam}' == '2' else False\n",
    "ThisLM = xc.LossMap(line, line_is_reversed=line_is_reversed, part=part)\n",
    "path_out = Path.cwd()\n",
    "ThisLM.save_summary(file=Path(path_out, f'coll_summary_B{beam}{plane}.out'))\n",
    "# Save a summary of the collimator losses to a text file\n",
    "print(ThisLM.summary)"
   ]
  },
  {
   "cell_type": "code",
   "execution_count": 1,
   "id": "293bab3c-ebe6-4b19-8250-7188ba2c68f0",
   "metadata": {},
   "outputs": [
    {
     "ename": "NameError",
     "evalue": "name 'coll_manager' is not defined",
     "output_type": "error",
     "traceback": [
      "\u001b[0;31m---------------------------------------------------------------------------\u001b[0m",
      "\u001b[0;31mNameError\u001b[0m                                 Traceback (most recent call last)",
      "\u001b[0;32m/tmp/cmaccani/ipykernel_6316/1616570252.py\u001b[0m in \u001b[0;36m<module>\u001b[0;34m\u001b[0m\n\u001b[0;32m----> 1\u001b[0;31m \u001b[0mdf_imp\u001b[0m \u001b[0;34m=\u001b[0m \u001b[0mcoll_manager\u001b[0m\u001b[0;34m.\u001b[0m\u001b[0mimpacts\u001b[0m\u001b[0;34m.\u001b[0m\u001b[0mto_pandas\u001b[0m\u001b[0;34m(\u001b[0m\u001b[0;34m)\u001b[0m\u001b[0;34m\u001b[0m\u001b[0;34m\u001b[0m\u001b[0m\n\u001b[0m",
      "\u001b[0;31mNameError\u001b[0m: name 'coll_manager' is not defined"
     ]
    }
   ],
   "source": [
    "df_imp = coll_manager.impacts.to_pandas()"
   ]
  },
  {
   "cell_type": "code",
   "execution_count": 14,
   "id": "862e53b9-0d38-4e1f-bea8-c15401e8c9ac",
   "metadata": {},
   "outputs": [
    {
     "data": {
      "text/plain": [
       "Index(['turn', 'collimator', 'interaction_type', 'ds', 'parent_id', 'parent_x',\n",
       "       'parent_px', 'parent_y', 'parent_py', 'parent_zeta', 'parent_delta',\n",
       "       'parent_energy', 'parent_mass', 'parent_charge', 'parent_z', 'parent_a',\n",
       "       'parent_pdgid', 'child_id', 'child_x', 'child_px', 'child_y',\n",
       "       'child_py', 'child_zeta', 'child_delta', 'child_energy', 'child_mass',\n",
       "       'child_charge', 'child_z', 'child_a', 'child_pdgid'],\n",
       "      dtype='object')"
      ]
     },
     "execution_count": 14,
     "metadata": {},
     "output_type": "execute_result"
    }
   ],
   "source": [
    "coll_manager.impacts.to_pandas().columns"
   ]
  },
  {
   "cell_type": "code",
   "execution_count": 20,
   "id": "8f4b510e",
   "metadata": {},
   "outputs": [
    {
     "ename": "AttributeError",
     "evalue": "'CollimatorManager' object has no attribute 'lossmap'",
     "output_type": "error",
     "traceback": [
      "\u001b[0;31m---------------------------------------------------------------------------\u001b[0m",
      "\u001b[0;31mAttributeError\u001b[0m                            Traceback (most recent call last)",
      "\u001b[0;32m/tmp/cmaccani/ipykernel_157518/3351923211.py\u001b[0m in \u001b[0;36m<module>\u001b[0;34m\u001b[0m\n\u001b[0;32m----> 1\u001b[0;31m \u001b[0mcoll_manager\u001b[0m\u001b[0;34m.\u001b[0m\u001b[0mlossmap\u001b[0m\u001b[0;34m(\u001b[0m\u001b[0mpart\u001b[0m\u001b[0;34m,\u001b[0m \u001b[0mfile\u001b[0m\u001b[0;34m=\u001b[0m\u001b[0;32mNone\u001b[0m\u001b[0;34m)\u001b[0m\u001b[0;34m\u001b[0m\u001b[0;34m\u001b[0m\u001b[0m\n\u001b[0m",
      "\u001b[0;31mAttributeError\u001b[0m: 'CollimatorManager' object has no attribute 'lossmap'"
     ]
    }
   ],
   "source": [
    "coll_manager.lossmap(part, file=None)"
   ]
  },
  {
   "cell_type": "code",
   "execution_count": 21,
   "id": "967dbc45",
   "metadata": {},
   "outputs": [
    {
     "ename": "AttributeError",
     "evalue": "'CollimatorManager' object has no attribute 'lossmap'",
     "output_type": "error",
     "traceback": [
      "\u001b[0;31m---------------------------------------------------------------------------\u001b[0m",
      "\u001b[0;31mAttributeError\u001b[0m                            Traceback (most recent call last)",
      "\u001b[0;32m/tmp/cmaccani/ipykernel_157518/1558782414.py\u001b[0m in \u001b[0;36m<module>\u001b[0;34m\u001b[0m\n\u001b[0;32m----> 1\u001b[0;31m \u001b[0mcoll_manager\u001b[0m\u001b[0;34m.\u001b[0m\u001b[0mlossmap\u001b[0m\u001b[0;34m(\u001b[0m\u001b[0mpart\u001b[0m\u001b[0;34m)\u001b[0m\u001b[0;34m\u001b[0m\u001b[0;34m\u001b[0m\u001b[0m\n\u001b[0m",
      "\u001b[0;31mAttributeError\u001b[0m: 'CollimatorManager' object has no attribute 'lossmap'"
     ]
    }
   ],
   "source": [
    "coll_manager.lossmap(part)"
   ]
  },
  {
   "cell_type": "code",
   "execution_count": null,
   "id": "07df93a7",
   "metadata": {},
   "outputs": [],
   "source": []
  }
 ],
 "metadata": {
  "kernelspec": {
   "display_name": "LCG view 104 + venv",
   "language": "python-custom",
   "name": "lcg-view"
  },
  "language_info": {
   "codemirror_mode": {
    "name": "ipython",
    "version": 3
   },
   "file_extension": ".py",
   "mimetype": "text/x-python",
   "name": "python",
   "nbconvert_exporter": "python",
   "pygments_lexer": "ipython3",
   "version": "3.9.12"
  }
 },
 "nbformat": 4,
 "nbformat_minor": 5
}
