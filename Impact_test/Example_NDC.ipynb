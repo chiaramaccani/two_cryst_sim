{
 "cells": [
  {
   "cell_type": "code",
   "execution_count": 1,
   "id": "870a94ef-bbbf-4332-b72f-169e4b0b6a02",
   "metadata": {
    "vscode": {
     "languageId": "python"
    }
   },
   "outputs": [],
   "source": [
    "import numpy as np\n",
    "import pandas as pd\n",
    "import matplotlib as mpl\n",
    "import matplotlib.pyplot as plt\n",
    "\n",
    "import xobjects as xo\n",
    "import xpart as xp\n",
    "import xtrack as xt\n",
    "import xcoll as xc\n",
    "import xfields as xf\n",
    "import xdeps as xd"
   ]
  },
  {
   "cell_type": "code",
   "execution_count": 2,
   "id": "08d08503",
   "metadata": {
    "vscode": {
     "languageId": "python"
    }
   },
   "outputs": [
    {
     "name": "stdout",
     "output_type": "stream",
     "text": [
      "xcoll version:  0.4.0\n",
      "xtrack version:  0.62.0\n",
      "xpart version:  0.18.4\n",
      "xobjects version:  0.4.1\n",
      "xfields version:  0.18.0\n",
      "xdeps version:  0.6.1\n"
     ]
    }
   ],
   "source": [
    "print('xcoll version: ', xc.__version__)\n",
    "print('xtrack version: ', xt.__version__)\n",
    "print('xpart version: ', xp.__version__)\n",
    "print('xobjects version: ', xo.__version__)\n",
    "print('xfields version: ', xf.__version__)\n",
    "print('xdeps version: ', xd.__version__)"
   ]
  },
  {
   "cell_type": "code",
   "execution_count": 3,
   "id": "3e5d9800",
   "metadata": {
    "vscode": {
     "languageId": "python"
    }
   },
   "outputs": [
    {
     "name": "stdout",
     "output_type": "stream",
     "text": [
      "Package path: /afs/cern.ch/user/c/cmaccani/xsuite/xcoll/xcoll\n",
      "  ForKayAsSixtrack\u001b[m\n",
      "  ForKayBetterEtaWithTransition\u001b[m\n",
      "  ForKayBetterEtaWithoutTransition\u001b[m\n",
      "  NoMoreManager\u001b[m\n",
      "  dump_length_to_yaml\u001b[m\n",
      "  main\u001b[m\n",
      "  release/v0.3.4\u001b[m\n",
      "* \u001b[32mrelease/v0.4.1\u001b[m\n",
      "  to_yaml\u001b[m\n"
     ]
    }
   ],
   "source": [
    "import os\n",
    "package_path = os.path.dirname(xc.__file__)\n",
    "print(f\"Package path: {package_path}\")\n",
    "\n",
    "os.chdir(package_path)\n",
    "\n",
    "!git branch"
   ]
  },
  {
   "cell_type": "markdown",
   "id": "80d634ec-acce-4e44-9591-d32cd63b7c7c",
   "metadata": {},
   "source": [
    "# Loss Map"
   ]
  },
  {
   "cell_type": "code",
   "execution_count": 4,
   "id": "53ea5995-f14e-4cc0-b6fb-2ba631c95f3e",
   "metadata": {
    "vscode": {
     "languageId": "python"
    }
   },
   "outputs": [
    {
     "data": {
      "application/vnd.jupyter.widget-view+json": {
       "model_id": "7cc474ef151e48c4bbb1c905ee930de4",
       "version_major": 2,
       "version_minor": 0
      },
      "text/plain": [
       "Loading line from dict:   0%|          | 0/101993 [00:00<?, ?it/s]"
      ]
     },
     "metadata": {},
     "output_type": "display_data"
    },
    {
     "name": "stdout",
     "output_type": "stream",
     "text": [
      "Done loading line from dict.           \n"
     ]
    }
   ],
   "source": [
    "line = xt.Line.from_json(xc._pkg_root / '..' / 'examples' / 'machines' / 'lhc_run3_b1.json')"
   ]
  },
  {
   "cell_type": "code",
   "execution_count": 5,
   "id": "fba41c26-559b-48d6-a04d-3adfc79efb13",
   "metadata": {
    "vscode": {
     "languageId": "python"
    }
   },
   "outputs": [
    {
     "name": "stdout",
     "output_type": "stream",
     "text": [
      "Installing tdisc.a4l2.b1        as EverestCollimator\n",
      "Installing tcla.a5r3.b1         as EverestCollimator\n",
      "Installing tctph.4l8.b1         as EverestCollimator\n",
      "Installing tcspm.6r7.b1         as EverestCollimator\n",
      "Installing tcsg.6r7.b1          as EverestCollimator\n",
      "Installing tctph.4l1.b1         as EverestCollimator\n",
      "Installing tcsp.a4r6.b1         as EverestCollimator\n",
      "Installing tclia.4r2            as EverestCollimator\n",
      "Installing tcsg.b5l7.b1         as EverestCollimator\n",
      "Installing tcla.6r3.b1          as EverestCollimator\n",
      "Installing tctpv.4l1.b1         as EverestCollimator\n",
      "Installing tcl.5r1.b1           as EverestCollimator\n",
      "Installing tcl.6r1.b1           as EverestCollimator\n",
      "Installing tcl.5r5.b1           as EverestCollimator\n",
      "Installing tctpv.4l5.b1         as EverestCollimator\n",
      "Installing tcsg.b4l7.b1         as EverestCollimator\n",
      "Installing tclib.6r2.b1         as EverestCollimator\n",
      "Installing tcla.a6r7.b1         as EverestCollimator\n",
      "Installing tcdqa.c4r6.b1        as EverestCollimator\n",
      "Installing tcp.d6l7.b1          as EverestCollimator\n",
      "Installing tcp.6l3.b1           as EverestCollimator\n",
      "Installing tcsg.d4l7.b1         as EverestCollimator\n",
      "Installing tcla.d6r7.b1         as EverestCollimator\n",
      "Installing tcsg.4r3.b1          as EverestCollimator\n",
      "Installing tcsg.a5r3.b1         as EverestCollimator\n",
      "Installing tcla.b5r3.b1         as EverestCollimator\n",
      "Installing tcp.c6l7.b1          as EverestCollimator\n",
      "Installing tcsg.a6l7.b1         as EverestCollimator\n",
      "Installing tcsg.a4l7.b1         as EverestCollimator\n",
      "Installing tcsg.a4r7.b1         as EverestCollimator\n",
      "Installing tcla.7r3.b1          as EverestCollimator\n",
      "Installing tcsg.b5r7.b1         as EverestCollimator\n",
      "Installing tcsg.d5r7.b1         as EverestCollimator\n",
      "Installing tcsg.e5r7.b1         as EverestCollimator\n",
      "Installing tcpcv.a6l7.b1        as EverestCrystal\n",
      "Installing tcl.6r5.b1           as EverestCollimator\n",
      "Installing tctpv.4l2.b1         as EverestCollimator\n",
      "Installing tcpch.a4l7.b1        as EverestCrystal\n",
      "Installing tcla.a7r7.b1         as EverestCollimator\n",
      "Installing tctph.4l5.b1         as EverestCollimator\n",
      "Installing tcdqa.a4r6.b1        as EverestCollimator\n",
      "Installing tcspm.e5r7.b1        as EverestCollimator\n",
      "Installing tcla.b6r7.b1         as EverestCollimator\n",
      "Installing tctpv.4l8.b1         as EverestCollimator\n",
      "Installing tcld.a11r2.b1        as EverestCollimator\n",
      "Installing tcl.4r1.b1           as EverestCollimator\n",
      "Installing tcdqa.b4r6.b1        as EverestCollimator\n",
      "Installing tcla.c6r7.b1         as EverestCollimator\n",
      "Installing tcl.4r5.b1           as EverestCollimator\n",
      "Installing tcsg.a5l7.b1         as EverestCollimator\n",
      "Installing tdisb.a4l2.b1        as EverestCollimator\n",
      "Installing tcsg.5l3.b1          as EverestCollimator\n",
      "Installing tdisa.a4l2.b1        as EverestCollimator\n",
      "Installing tcsg.b5r3.b1         as EverestCollimator\n",
      "Installing tcp.b6l7.b1          as EverestCollimator\n",
      "Installing tctph.4l2.b1         as EverestCollimator\n",
      "Installing tcspm.b4l7.b1        as EverestCollimator\n"
     ]
    },
    {
     "data": {
      "application/vnd.jupyter.widget-view+json": {
       "model_id": "261c187e712b49caa1c5135919285249",
       "version_major": 2,
       "version_minor": 0
      },
      "text/plain": [
       "Slicing line:   0%|          | 0/101993 [00:00<?, ?it/s]"
      ]
     },
     "metadata": {},
     "output_type": "display_data"
    },
    {
     "data": {
      "application/vnd.jupyter.widget-view+json": {
       "model_id": "02cdb869cade44d983d8016696c8a76a",
       "version_major": 2,
       "version_minor": 0
      },
      "text/plain": [
       "Checking aperture:   0%|          | 0/101946 [00:00<?, ?it/s]"
      ]
     },
     "metadata": {},
     "output_type": "display_data"
    },
    {
     "name": "stdout",
     "output_type": "stream",
     "text": [
      "Done checking aperture.           \n",
      "0 thin elements miss associated aperture (upstream):\n",
      "[]\n",
      "0 thick elements miss associated aperture (upstream or downstream):\n",
      "[]\n"
     ]
    }
   ],
   "source": [
    "colldb = xc.CollimatorDatabase.from_yaml(xc._pkg_root / '..' / 'examples' / 'colldb' / 'lhc_run3.yaml', beam=1, ignore_crystals=False)\n",
    "colldb.install_everest_collimators(line = line, verbose=True)\n",
    "df_with_coll = line.check_aperture()\n",
    "assert not np.any(df_with_coll.has_aperture_problem)"
   ]
  },
  {
   "cell_type": "code",
   "execution_count": 6,
   "id": "bbc08b16-7961-43b0-90f8-9750188e5e04",
   "metadata": {
    "vscode": {
     "languageId": "python"
    }
   },
   "outputs": [
    {
     "name": "stdout",
     "output_type": "stream",
     "text": [
      "None\n",
      "5.0\n"
     ]
    }
   ],
   "source": [
    "print(line['tcp.c6l7.b1'].jaw)\n",
    "print(line['tcp.c6l7.b1'].gap)"
   ]
  },
  {
   "cell_type": "code",
   "execution_count": 7,
   "id": "35b87331-309e-43cd-b6b7-916df3f0a329",
   "metadata": {
    "vscode": {
     "languageId": "python"
    }
   },
   "outputs": [],
   "source": [
    "line.build_tracker()\n",
    "\n",
    "xc.assign_optics_to_collimators(line=line)"
   ]
  },
  {
   "cell_type": "code",
   "execution_count": 8,
   "id": "fec75816",
   "metadata": {
    "vscode": {
     "languageId": "python"
    }
   },
   "outputs": [
    {
     "name": "stdout",
     "output_type": "stream",
     "text": [
      "5.0\n"
     ]
    }
   ],
   "source": [
    "cry = 'tcpcv.a6l7.b1'\n",
    "tcp = 'tcp.c6l7.b1'\n",
    "line[cry].gap = 5\n",
    "line[cry].align_to_beam_divergence()\n",
    "print(line[cry].gap)"
   ]
  },
  {
   "cell_type": "code",
   "execution_count": null,
   "id": "47f6a33b",
   "metadata": {
    "vscode": {
     "languageId": "python"
    }
   },
   "outputs": [],
   "source": []
  },
  {
   "cell_type": "markdown",
   "id": "e3030909",
   "metadata": {},
   "source": [
    "tests on jaws"
   ]
  },
  {
   "cell_type": "code",
   "execution_count": 8,
   "id": "c8f773dc-6b4e-4529-b33e-6adfae6d11ce",
   "metadata": {
    "vscode": {
     "languageId": "python"
    }
   },
   "outputs": [
    {
     "name": "stdout",
     "output_type": "stream",
     "text": [
      "[0.0013138622735913152, -0.0013103666449594265]\n",
      "5.0\n"
     ]
    }
   ],
   "source": [
    "print(line['tcp.c6l7.b1'].jaw)\n",
    "print(line['tcp.c6l7.b1'].gap)"
   ]
  },
  {
   "cell_type": "code",
   "execution_count": 10,
   "id": "51412ce8-0ed1-4d63-819c-76db9a68fad9",
   "metadata": {
    "vscode": {
     "languageId": "python"
    }
   },
   "outputs": [
    {
     "name": "stdout",
     "output_type": "stream",
     "text": [
      "[0.0013138622735913025, -0.00031036664495961356]\n",
      "[5.0, -1.189357]\n"
     ]
    }
   ],
   "source": [
    "line['tcp.c6l7.b1'].jaw_R += 0.001\n",
    "print(line['tcp.c6l7.b1'].jaw)\n",
    "print(line['tcp.c6l7.b1'].gap)"
   ]
  },
  {
   "cell_type": "code",
   "execution_count": 11,
   "id": "ab65cb2c-99fc-4370-bbf5-000364b95be5",
   "metadata": {
    "vscode": {
     "languageId": "python"
    }
   },
   "outputs": [],
   "source": [
    "line['tcp.c6l7.b1'].gap = 5"
   ]
  },
  {
   "cell_type": "code",
   "execution_count": 12,
   "id": "6328c93a-785f-44da-8b77-a2fb47103373",
   "metadata": {
    "vscode": {
     "languageId": "python"
    }
   },
   "outputs": [
    {
     "name": "stdout",
     "output_type": "stream",
     "text": [
      "0.0013138622735913025\n",
      "0.0013138622735913025\n",
      "0.0\n"
     ]
    }
   ],
   "source": [
    "print(line['tcp.c6l7.b1'].jaw_LU)\n",
    "print(line['tcp.c6l7.b1'].jaw_LD)\n",
    "print(line['tcp.c6l7.b1'].tilt_L)"
   ]
  },
  {
   "cell_type": "code",
   "execution_count": 13,
   "id": "b937a04b-c1b0-4862-b045-134dbf3e67da",
   "metadata": {
    "vscode": {
     "languageId": "python"
    }
   },
   "outputs": [
    {
     "name": "stdout",
     "output_type": "stream",
     "text": [
      "Warning: Setting a tilt does not preserve the hierarchy, as there will always be one corner that tightens (the tilt is applied at the centre of the jaw).\n"
     ]
    }
   ],
   "source": [
    "line['tcp.c6l7.b1'].tilt_L = 500e-6"
   ]
  },
  {
   "cell_type": "code",
   "execution_count": 14,
   "id": "c6445eb0-3ead-43a5-a1b9-01498aa84464",
   "metadata": {
    "vscode": {
     "languageId": "python"
    }
   },
   "outputs": [
    {
     "name": "stdout",
     "output_type": "stream",
     "text": [
      "0.0011638622798413024\n",
      "0.0013138622735913025\n",
      "0.0014638622673413025\n",
      "0.0005\n"
     ]
    }
   ],
   "source": [
    "print(line['tcp.c6l7.b1'].jaw_LU)\n",
    "print(line['tcp.c6l7.b1'].jaw_L)\n",
    "print(line['tcp.c6l7.b1'].jaw_LD)\n",
    "print(line['tcp.c6l7.b1'].tilt_L)"
   ]
  },
  {
   "cell_type": "code",
   "execution_count": 15,
   "id": "fa594932",
   "metadata": {
    "vscode": {
     "languageId": "python"
    }
   },
   "outputs": [
    {
     "name": "stdout",
     "output_type": "stream",
     "text": [
      "5.0\n"
     ]
    }
   ],
   "source": [
    "print(line['tcp.c6l7.b1'].gap)"
   ]
  },
  {
   "cell_type": "code",
   "execution_count": 16,
   "id": "57f023f3-5ba5-41e1-86d9-3cc4d7b2447f",
   "metadata": {
    "vscode": {
     "languageId": "python"
    }
   },
   "outputs": [
    {
     "name": "stdout",
     "output_type": "stream",
     "text": [
      "4.428404\n",
      "5.0\n",
      "5.571596\n"
     ]
    }
   ],
   "source": [
    "print(line['tcp.c6l7.b1'].gap_LU)\n",
    "print(line['tcp.c6l7.b1'].gap_L)\n",
    "print(line['tcp.c6l7.b1'].gap_LD)"
   ]
  },
  {
   "cell_type": "code",
   "execution_count": 17,
   "id": "4211a4a9-bd53-4d7e-afd5-2d60e853adab",
   "metadata": {
    "vscode": {
     "languageId": "python"
    }
   },
   "outputs": [],
   "source": [
    "line['tcp.c6l7.b1'].gap = 5\n",
    "line['tcp.c6l7.b1'].tilt_L = 0"
   ]
  },
  {
   "cell_type": "code",
   "execution_count": 18,
   "id": "f9df06ae",
   "metadata": {
    "vscode": {
     "languageId": "python"
    }
   },
   "outputs": [
    {
     "name": "stdout",
     "output_type": "stream",
     "text": [
      "5.0\n",
      "5.0\n",
      "5.0\n"
     ]
    }
   ],
   "source": [
    "print(line['tcp.c6l7.b1'].gap_LU)\n",
    "print(line['tcp.c6l7.b1'].gap_L)\n",
    "print(line['tcp.c6l7.b1'].gap_LD)"
   ]
  },
  {
   "cell_type": "code",
   "execution_count": 19,
   "id": "6510fa52",
   "metadata": {
    "vscode": {
     "languageId": "python"
    }
   },
   "outputs": [
    {
     "name": "stdout",
     "output_type": "stream",
     "text": [
      "-5.0\n",
      "-5.0\n",
      "-5.0\n"
     ]
    }
   ],
   "source": [
    "print(line['tcp.c6l7.b1'].gap_RU)\n",
    "print(line['tcp.c6l7.b1'].gap_R)\n",
    "print(line['tcp.c6l7.b1'].gap_RD)"
   ]
  },
  {
   "cell_type": "code",
   "execution_count": 10,
   "id": "cd6defd4",
   "metadata": {
    "vscode": {
     "languageId": "python"
    }
   },
   "outputs": [],
   "source": [
    "cry = 'tcpcv.a6l7.b1'\n",
    "tcp = 'tcp.c6l7.b1'"
   ]
  },
  {
   "cell_type": "code",
   "execution_count": 9,
   "id": "7c97de23",
   "metadata": {
    "vscode": {
     "languageId": "python"
    }
   },
   "outputs": [
    {
     "data": {
      "text/html": [
       "<div>\n",
       "<style scoped>\n",
       "    .dataframe tbody tr th:only-of-type {\n",
       "        vertical-align: middle;\n",
       "    }\n",
       "\n",
       "    .dataframe tbody tr th {\n",
       "        vertical-align: top;\n",
       "    }\n",
       "\n",
       "    .dataframe thead th {\n",
       "        text-align: right;\n",
       "    }\n",
       "</style>\n",
       "<table border=\"1\" class=\"dataframe\">\n",
       "  <thead>\n",
       "    <tr style=\"text-align: right;\">\n",
       "      <th></th>\n",
       "      <th>tcpcv.a6l7.b1</th>\n",
       "      <th>tcp.c6l7.b1</th>\n",
       "    </tr>\n",
       "  </thead>\n",
       "  <tbody>\n",
       "    <tr>\n",
       "      <th>parking</th>\n",
       "      <td>0.025</td>\n",
       "      <td>0.025</td>\n",
       "    </tr>\n",
       "    <tr>\n",
       "      <th>gap</th>\n",
       "      <td>None</td>\n",
       "      <td>5</td>\n",
       "    </tr>\n",
       "    <tr>\n",
       "      <th>stage</th>\n",
       "      <td>special</td>\n",
       "      <td>primary</td>\n",
       "    </tr>\n",
       "    <tr>\n",
       "      <th>material</th>\n",
       "      <td>si</td>\n",
       "      <td>mogr</td>\n",
       "    </tr>\n",
       "    <tr>\n",
       "      <th>length</th>\n",
       "      <td>0.004</td>\n",
       "      <td>0.6</td>\n",
       "    </tr>\n",
       "    <tr>\n",
       "      <th>angle</th>\n",
       "      <td>90</td>\n",
       "      <td>0</td>\n",
       "    </tr>\n",
       "    <tr>\n",
       "      <th>family</th>\n",
       "      <td>cry7</td>\n",
       "      <td>tcp7</td>\n",
       "    </tr>\n",
       "    <tr>\n",
       "      <th>offset</th>\n",
       "      <td>0</td>\n",
       "      <td>0</td>\n",
       "    </tr>\n",
       "    <tr>\n",
       "      <th>jaw</th>\n",
       "      <td>None</td>\n",
       "      <td>None</td>\n",
       "    </tr>\n",
       "    <tr>\n",
       "      <th>overwritten_keys</th>\n",
       "      <td>[]</td>\n",
       "      <td>[material]</td>\n",
       "    </tr>\n",
       "    <tr>\n",
       "      <th>side</th>\n",
       "      <td>left</td>\n",
       "      <td>both</td>\n",
       "    </tr>\n",
       "    <tr>\n",
       "      <th>collimator_type</th>\n",
       "      <td>None</td>\n",
       "      <td>None</td>\n",
       "    </tr>\n",
       "    <tr>\n",
       "      <th>active</th>\n",
       "      <td>False</td>\n",
       "      <td>True</td>\n",
       "    </tr>\n",
       "    <tr>\n",
       "      <th>crystal</th>\n",
       "      <td>strip</td>\n",
       "      <td>None</td>\n",
       "    </tr>\n",
       "    <tr>\n",
       "      <th>tilt</th>\n",
       "      <td>0</td>\n",
       "      <td>0</td>\n",
       "    </tr>\n",
       "    <tr>\n",
       "      <th>bending_radius</th>\n",
       "      <td>85.1</td>\n",
       "      <td>0</td>\n",
       "    </tr>\n",
       "    <tr>\n",
       "      <th>bending_angle</th>\n",
       "      <td>0</td>\n",
       "      <td>0</td>\n",
       "    </tr>\n",
       "    <tr>\n",
       "      <th>width</th>\n",
       "      <td>0.005</td>\n",
       "      <td>0</td>\n",
       "    </tr>\n",
       "    <tr>\n",
       "      <th>height</th>\n",
       "      <td>0.03</td>\n",
       "      <td>0</td>\n",
       "    </tr>\n",
       "    <tr>\n",
       "      <th>miscut</th>\n",
       "      <td>0</td>\n",
       "      <td>0</td>\n",
       "    </tr>\n",
       "  </tbody>\n",
       "</table>\n",
       "</div>"
      ],
      "text/plain": [
       "                 tcpcv.a6l7.b1 tcp.c6l7.b1\n",
       "parking                  0.025       0.025\n",
       "gap                       None           5\n",
       "stage                  special     primary\n",
       "material                    si        mogr\n",
       "length                   0.004         0.6\n",
       "angle                       90           0\n",
       "family                    cry7        tcp7\n",
       "offset                       0           0\n",
       "jaw                       None        None\n",
       "overwritten_keys            []  [material]\n",
       "side                      left        both\n",
       "collimator_type           None        None\n",
       "active                   False        True\n",
       "crystal                  strip        None\n",
       "tilt                         0           0\n",
       "bending_radius            85.1           0\n",
       "bending_angle                0           0\n",
       "width                    0.005           0\n",
       "height                    0.03           0\n",
       "miscut                       0           0"
      ]
     },
     "execution_count": 9,
     "metadata": {},
     "output_type": "execute_result"
    }
   ],
   "source": [
    "df = pd.DataFrame(colldb._collimator_dict)\n",
    "df[[cry, tcp]]"
   ]
  },
  {
   "cell_type": "code",
   "execution_count": 22,
   "id": "5ced81bb",
   "metadata": {
    "vscode": {
     "languageId": "python"
    }
   },
   "outputs": [
    {
     "data": {
      "text/plain": [
       "EverestCrystal(length=0.004, active=1, record_touches=0, record_scatterings=0, _sin_rot_s=-999, _cos_rot_s=-999, _shift_x=0, _shift_y=0, _shift_s=0, _internal_record_id=RecordIdentifier(buffer_id=0, offset=0), _sin_z=1, _cos_z=6.12e-17, _jaw_U=3, _sin_y=0, _cos_y=1, _tan_y=0, _side=1, _align=0, _gap=999, _nemitt_x=3.5e-06, _nemitt_y=3.5e-06, _bending_radius=85.1, _bending_angle=4.7e-05, width=0.005, height=0.03, miscut=0, _orient=1, _critical_angle=0, _material=CrystalMaterial(Z=14, A=28.1, density=2.33, excitation_energy=1.73e-07, nuclear_radius=0.441, nuclear_elastic_slope=120, cross_section=array([6.64e-01, 4.30e-01, 0.00e+00, 0.00e+00, 0.00e+00, 3.90e-04]), hcut=0.02, name='Silicon', _only_mcs=0, crystal_radiation_length=0.0937, crystal_nuclear_length=0.465, crystal_plane_distance=9.6e-08, crystal_potential=21.3, nuclear_collision_length=0.302), rutherford_rng=RandomRutherford(lower_val=0.000998, upper_val=0.02, A=0.00162, B=166, Newton_iterations=7, _sin_rot_s=-999, _cos_rot_s=-999, _shift_x=0, _shift_y=0, _shift_s=0), _tracking=0)"
      ]
     },
     "execution_count": 22,
     "metadata": {},
     "output_type": "execute_result"
    }
   ],
   "source": [
    "line['tcpcv.a6l7.b1']"
   ]
  },
  {
   "cell_type": "code",
   "execution_count": 23,
   "id": "b9f64338",
   "metadata": {
    "vscode": {
     "languageId": "python"
    }
   },
   "outputs": [],
   "source": [
    "line['tcpcv.a6l7.b1'].gap = 5"
   ]
  },
  {
   "cell_type": "code",
   "execution_count": 24,
   "id": "1d210638",
   "metadata": {
    "vscode": {
     "languageId": "python"
    }
   },
   "outputs": [
    {
     "data": {
      "text/plain": [
       "0.0017621469066118048"
      ]
     },
     "execution_count": 24,
     "metadata": {},
     "output_type": "execute_result"
    }
   ],
   "source": [
    "line['tcpcv.a6l7.b1'].jaw"
   ]
  },
  {
   "cell_type": "code",
   "execution_count": 28,
   "id": "77b69cee",
   "metadata": {
    "vscode": {
     "languageId": "python"
    }
   },
   "outputs": [
    {
     "name": "stdout",
     "output_type": "stream",
     "text": [
      "0.0017621469066118048\n",
      "0.0017621469066118048\n",
      "0.0017622409136623855\n",
      "0.0\n",
      "90.0\n"
     ]
    }
   ],
   "source": [
    "print(line[cry].jaw_U)\n",
    "print(line[cry].jaw)\n",
    "print(line[cry].jaw_D)\n",
    "print(line[cry].tilt)\n",
    "print(line[cry].angle)"
   ]
  },
  {
   "cell_type": "code",
   "execution_count": 13,
   "id": "3e23743f",
   "metadata": {
    "vscode": {
     "languageId": "python"
    }
   },
   "outputs": [
    {
     "name": "stdout",
     "output_type": "stream",
     "text": [
      "5.0\n"
     ]
    }
   ],
   "source": []
  },
  {
   "cell_type": "code",
   "execution_count": 14,
   "id": "9015e654",
   "metadata": {
    "vscode": {
     "languageId": "python"
    }
   },
   "outputs": [],
   "source": []
  },
  {
   "cell_type": "code",
   "execution_count": 17,
   "id": "63997ce2",
   "metadata": {
    "vscode": {
     "languageId": "python"
    }
   },
   "outputs": [
    {
     "name": "stdout",
     "output_type": "stream",
     "text": [
      "0.0017621469066118048\n",
      "0.0017621469066118048\n",
      "0.0017623075444583695\n",
      "1.66577e-05\n",
      "90.0\n"
     ]
    }
   ],
   "source": [
    "print(line[cry].jaw_U)\n",
    "print(line[cry].jaw)\n",
    "print(line[cry].jaw_D)\n",
    "print(line[cry].tilt)\n",
    "print(line[cry].angle)"
   ]
  },
  {
   "cell_type": "code",
   "execution_count": null,
   "id": "ed66ea75",
   "metadata": {
    "vscode": {
     "languageId": "python"
    }
   },
   "outputs": [],
   "source": []
  },
  {
   "cell_type": "markdown",
   "id": "0ed3c787",
   "metadata": {},
   "source": [
    "impacts"
   ]
  },
  {
   "cell_type": "code",
   "execution_count": 9,
   "id": "0649156c",
   "metadata": {
    "vscode": {
     "languageId": "python"
    }
   },
   "outputs": [],
   "source": [
    "\n",
    "def _get_xcoll_elements(line=None, elements=None, names=None):\n",
    "    from xcoll import element_classes\n",
    "    if names is not None and names is not False and \\\n",
    "    (not hasattr(names, '__iter__') or isinstance(names, str)):\n",
    "        names = [names]\n",
    "    if elements is not None and elements is not False and \\\n",
    "    (not hasattr(elements, '__iter__') or isinstance(elements, str)):\n",
    "        elements = [elements]\n",
    "    if line is None:\n",
    "        if elements is None:\n",
    "            raise ValueError(\"No line nor elements provided!\")\n",
    "    else:\n",
    "        if elements is not None and elements is not False:\n",
    "            raise ValueError(\"Cannot provide both line and elements!\")\n",
    "        if names is None or names is True:\n",
    "            elements, names = line.get_elements_of_type(element_classes)\n",
    "            if len(names) == 0:\n",
    "                raise ValueError(\"No Xcoll elements in line!\")\n",
    "        elif names is False:\n",
    "            names = []\n",
    "            elements = []\n",
    "        else:\n",
    "            assert elements is not False\n",
    "            for name in names:\n",
    "                if name not in line.element_names:\n",
    "                    raise ValueError(f\"Element {name} not found in line!\")\n",
    "            elements = [line[name] for name in names]\n",
    "    for idx, element in enumerate(elements):\n",
    "        if not isinstance(element, element_classes):\n",
    "            name = name[idx] if names is not None else element.__class__.__name__\n",
    "            raise ValueError(f\"Element {name} not an Xcoll element!\")\n",
    "    return elements, names"
   ]
  },
  {
   "cell_type": "code",
   "execution_count": 11,
   "id": "5497470f",
   "metadata": {
    "vscode": {
     "languageId": "python"
    }
   },
   "outputs": [],
   "source": [
    "elements, names = _get_xcoll_elements(None, line[cry], None)"
   ]
  },
  {
   "cell_type": "code",
   "execution_count": 12,
   "id": "feb1a204",
   "metadata": {
    "vscode": {
     "languageId": "python"
    }
   },
   "outputs": [
    {
     "data": {
      "text/plain": [
       "[EverestCrystal(length=0.004, active=1, record_touches=0, record_scatterings=0, _sin_rot_s=-999, _cos_rot_s=-999, _shift_x=0, _shift_y=0, _shift_s=0, _internal_record_id=RecordIdentifier(buffer_id=0, offset=0), _sin_z=1, _cos_z=6.12e-17, _jaw_U=0.00176, _sin_y=1.67e-05, _cos_y=1, _tan_y=1.67e-05, _side=1, _align=0, _gap=5, _nemitt_x=3.5e-06, _nemitt_y=3.5e-06, _bending_radius=85.1, _bending_angle=4.7e-05, width=0.005, height=0.03, miscut=0, _orient=1, _critical_angle=0, _material=CrystalMaterial(Z=14, A=28.1, density=2.33, excitation_energy=1.73e-07, nuclear_radius=0.441, nuclear_elastic_slope=120, cross_section=array([6.64e-01, 4.30e-01, 0.00e+00, 0.00e+00, 0.00e+00, 3.90e-04]), hcut=0.02, name='Silicon', _only_mcs=0, crystal_radiation_length=0.0937, crystal_nuclear_length=0.465, crystal_plane_distance=9.6e-08, crystal_potential=21.3, nuclear_collision_length=0.302), rutherford_rng=RandomRutherford(lower_val=0.000998, upper_val=0.02, A=0.00162, B=166, Newton_iterations=7, _sin_rot_s=-999, _cos_rot_s=-999, _shift_x=0, _shift_y=0, _shift_s=0), _tracking=0)]"
      ]
     },
     "execution_count": 12,
     "metadata": {},
     "output_type": "execute_result"
    }
   ],
   "source": [
    "elements"
   ]
  },
  {
   "cell_type": "code",
   "execution_count": 9,
   "id": "16197fdc-43d3-44df-a4b4-6c43190354f1",
   "metadata": {
    "vscode": {
     "languageId": "python"
    }
   },
   "outputs": [],
   "source": [
    "#impacts = xc.InteractionRecord.start( elements = line[cry], names = cry)\n",
    "impacts = xc.InteractionRecord.start(line= line)"
   ]
  },
  {
   "cell_type": "code",
   "execution_count": 37,
   "id": "879adceb",
   "metadata": {
    "vscode": {
     "languageId": "python"
    }
   },
   "outputs": [],
   "source": [
    "#part = xc.generate_pencil_on_collimator(line, 'tcpcv.a6l7.b1', 5000)"
   ]
  },
  {
   "cell_type": "code",
   "execution_count": 10,
   "id": "f1ce2672-c0cb-4896-8d80-8c7c4dbcf56e",
   "metadata": {
    "vscode": {
     "languageId": "python"
    }
   },
   "outputs": [
    {
     "name": "stdout",
     "output_type": "stream",
     "text": [
      "Collimator tcp.d6l7.b1 is diverging.\n"
     ]
    },
    {
     "data": {
      "application/vnd.jupyter.widget-view+json": {
       "model_id": "e2f78ad4590948a193e97f9420bd03bd",
       "version_major": 2,
       "version_minor": 0
      },
      "text/plain": [
       "Slicing line:   0%|          | 0/101946 [00:00<?, ?it/s]"
      ]
     },
     "metadata": {},
     "output_type": "display_data"
    },
    {
     "data": {
      "application/vnd.jupyter.widget-view+json": {
       "model_id": "72576152937c430ebf53504c65b4d8df",
       "version_major": 2,
       "version_minor": 0
      },
      "text/plain": [
       "Slicing line:   0%|          | 0/101946 [00:00<?, ?it/s]"
      ]
     },
     "metadata": {},
     "output_type": "display_data"
    },
    {
     "data": {
      "application/vnd.jupyter.widget-view+json": {
       "model_id": "d6320d9d5ff14ffd8aa535c93891d164",
       "version_major": 2,
       "version_minor": 0
      },
      "text/plain": [
       "Slicing line:   0%|          | 0/101946 [00:00<?, ?it/s]"
      ]
     },
     "metadata": {},
     "output_type": "display_data"
    },
    {
     "data": {
      "application/vnd.jupyter.widget-view+json": {
       "model_id": "63b6e6737cdf4c2ea30ac22657ba027b",
       "version_major": 2,
       "version_minor": 0
      },
      "text/plain": [
       "Slicing line:   0%|          | 0/101946 [00:00<?, ?it/s]"
      ]
     },
     "metadata": {},
     "output_type": "display_data"
    },
    {
     "data": {
      "application/vnd.jupyter.widget-view+json": {
       "model_id": "1df8fd35df554cbf8eaf2ab5dd4b77bc",
       "version_major": 2,
       "version_minor": 0
      },
      "text/plain": [
       "Slicing line:   0%|          | 0/101946 [00:00<?, ?it/s]"
      ]
     },
     "metadata": {},
     "output_type": "display_data"
    },
    {
     "data": {
      "application/vnd.jupyter.widget-view+json": {
       "model_id": "a15e33602d864ce7bb187fbf001d5443",
       "version_major": 2,
       "version_minor": 0
      },
      "text/plain": [
       "Slicing line:   0%|          | 0/101946 [00:00<?, ?it/s]"
      ]
     },
     "metadata": {},
     "output_type": "display_data"
    },
    {
     "data": {
      "application/vnd.jupyter.widget-view+json": {
       "model_id": "cf8a907a7c4e49e5811a801622411055",
       "version_major": 2,
       "version_minor": 0
      },
      "text/plain": [
       "Slicing line:   0%|          | 0/101946 [00:00<?, ?it/s]"
      ]
     },
     "metadata": {},
     "output_type": "display_data"
    }
   ],
   "source": [
    "part = xc.generate_pencil_on_collimator(line, 'tcp.d6l7.b1', 500)"
   ]
  },
  {
   "cell_type": "code",
   "execution_count": 11,
   "id": "54a4cd19-be6b-4371-9937-f8863775171a",
   "metadata": {
    "vscode": {
     "languageId": "python"
    }
   },
   "outputs": [
    {
     "name": "stdout",
     "output_type": "stream",
     "text": [
      "Compiling ContextCpu kernels...\n",
      "Done compiling ContextCpu kernels.\n"
     ]
    },
    {
     "data": {
      "application/vnd.jupyter.widget-view+json": {
       "model_id": "6306d632d3964dbda3c6985f4f21e84e",
       "version_major": 2,
       "version_minor": 0
      },
      "text/plain": [
       "Tracking:   0%|          | 0/20 [00:00<?, ?it/s]"
      ]
     },
     "metadata": {},
     "output_type": "display_data"
    },
    {
     "name": "stdout",
     "output_type": "stream",
     "text": [
      "Done tracking in 0.9s.\n"
     ]
    }
   ],
   "source": [
    "line.discard_tracker()\n",
    "line.build_tracker(_context=xo.ContextCpu(omp_num_threads=12))\n",
    "\n",
    "# Track\n",
    "xc.enable_scattering(line)\n",
    "line.track(part, num_turns=20, time=True, with_progress=1)\n",
    "xc.disable_scattering(line)\n",
    "print(f\"Done tracking in {line.time_last_track:.1f}s.\")\n",
    "\n",
    "line.discard_tracker()\n",
    "_ = line.build_tracker(_context=xo.ContextCpu())"
   ]
  },
  {
   "cell_type": "code",
   "execution_count": 40,
   "id": "4d1f710c-6e32-472c-9cac-a2a9fdeb4813",
   "metadata": {
    "vscode": {
     "languageId": "python"
    }
   },
   "outputs": [],
   "source": [
    "#ThisLM = xc.LossMap(line, line_is_reversed=False, part=part)\n",
    "#print(ThisLM.summary)"
   ]
  },
  {
   "cell_type": "code",
   "execution_count": 41,
   "id": "1b7c2046-ea3d-450f-818b-ca5a63ead3cf",
   "metadata": {
    "vscode": {
     "languageId": "python"
    }
   },
   "outputs": [],
   "source": [
    "#ThisLM.lossmap['aperture']"
   ]
  },
  {
   "cell_type": "code",
   "execution_count": 14,
   "id": "0984b5d3",
   "metadata": {
    "vscode": {
     "languageId": "python"
    }
   },
   "outputs": [
    {
     "data": {
      "text/plain": [
       "48"
      ]
     },
     "execution_count": 14,
     "metadata": {},
     "output_type": "execute_result"
    }
   ],
   "source": [
    "import sys\n",
    "sys.getsizeof(impacts)"
   ]
  },
  {
   "cell_type": "code",
   "execution_count": 15,
   "id": "3a2f3960-7d74-40d9-951e-137371cb6130",
   "metadata": {
    "vscode": {
     "languageId": "python"
    }
   },
   "outputs": [
    {
     "data": {
      "text/plain": [
       "1622307"
      ]
     },
     "execution_count": 15,
     "metadata": {},
     "output_type": "execute_result"
    }
   ],
   "source": [
    "df = impacts.to_pandas()\n",
    "sys.getsizeof(df)"
   ]
  },
  {
   "cell_type": "code",
   "execution_count": 13,
   "id": "d807c6f1",
   "metadata": {
    "vscode": {
     "languageId": "python"
    }
   },
   "outputs": [
    {
     "data": {
      "text/html": [
       "<div>\n",
       "<style scoped>\n",
       "    .dataframe tbody tr th:only-of-type {\n",
       "        vertical-align: middle;\n",
       "    }\n",
       "\n",
       "    .dataframe tbody tr th {\n",
       "        vertical-align: top;\n",
       "    }\n",
       "\n",
       "    .dataframe thead th {\n",
       "        text-align: right;\n",
       "    }\n",
       "</style>\n",
       "<table border=\"1\" class=\"dataframe\">\n",
       "  <thead>\n",
       "    <tr style=\"text-align: right;\">\n",
       "      <th></th>\n",
       "      <th>turn</th>\n",
       "      <th>collimator</th>\n",
       "      <th>interaction_type</th>\n",
       "      <th>before_id</th>\n",
       "      <th>before_s</th>\n",
       "      <th>before_x</th>\n",
       "      <th>before_px</th>\n",
       "      <th>before_y</th>\n",
       "      <th>before_py</th>\n",
       "      <th>before_zeta</th>\n",
       "      <th>...</th>\n",
       "      <th>after_y</th>\n",
       "      <th>after_py</th>\n",
       "      <th>after_zeta</th>\n",
       "      <th>after_delta</th>\n",
       "      <th>after_energy</th>\n",
       "      <th>after_mass</th>\n",
       "      <th>after_charge</th>\n",
       "      <th>after_z</th>\n",
       "      <th>after_a</th>\n",
       "      <th>after_pdgid</th>\n",
       "    </tr>\n",
       "  </thead>\n",
       "  <tbody>\n",
       "    <tr>\n",
       "      <th>0</th>\n",
       "      <td>0</td>\n",
       "      <td>tcp.d6l7.b1</td>\n",
       "      <td>Enter Jaw L</td>\n",
       "      <td>0</td>\n",
       "      <td>0.550605</td>\n",
       "      <td>0.000000</td>\n",
       "      <td>0.000012</td>\n",
       "      <td>-0.000140</td>\n",
       "      <td>2.142453e-06</td>\n",
       "      <td>3.925799e-12</td>\n",
       "      <td>...</td>\n",
       "      <td>-1.000000</td>\n",
       "      <td>-1.000000</td>\n",
       "      <td>-1.000000</td>\n",
       "      <td>-1.00000</td>\n",
       "      <td>-1.000000e+00</td>\n",
       "      <td>-1.000000e+00</td>\n",
       "      <td>-1</td>\n",
       "      <td>-1</td>\n",
       "      <td>-1</td>\n",
       "      <td>-1</td>\n",
       "    </tr>\n",
       "    <tr>\n",
       "      <th>1</th>\n",
       "      <td>0</td>\n",
       "      <td>tcp.d6l7.b1</td>\n",
       "      <td>Enter Jaw L</td>\n",
       "      <td>84</td>\n",
       "      <td>0.581944</td>\n",
       "      <td>0.000000</td>\n",
       "      <td>0.000013</td>\n",
       "      <td>0.000195</td>\n",
       "      <td>-1.533393e-06</td>\n",
       "      <td>1.460204e-12</td>\n",
       "      <td>...</td>\n",
       "      <td>-1.000000</td>\n",
       "      <td>-1.000000</td>\n",
       "      <td>-1.000000</td>\n",
       "      <td>-1.00000</td>\n",
       "      <td>-1.000000e+00</td>\n",
       "      <td>-1.000000e+00</td>\n",
       "      <td>-1</td>\n",
       "      <td>-1</td>\n",
       "      <td>-1</td>\n",
       "      <td>-1</td>\n",
       "    </tr>\n",
       "    <tr>\n",
       "      <th>2</th>\n",
       "      <td>0</td>\n",
       "      <td>tcp.d6l7.b1</td>\n",
       "      <td>Enter Jaw L</td>\n",
       "      <td>42</td>\n",
       "      <td>0.530131</td>\n",
       "      <td>0.000000</td>\n",
       "      <td>0.000013</td>\n",
       "      <td>-0.000057</td>\n",
       "      <td>3.590167e-07</td>\n",
       "      <td>5.496419e-12</td>\n",
       "      <td>...</td>\n",
       "      <td>-1.000000</td>\n",
       "      <td>-1.000000</td>\n",
       "      <td>-1.000000</td>\n",
       "      <td>-1.00000</td>\n",
       "      <td>-1.000000e+00</td>\n",
       "      <td>-1.000000e+00</td>\n",
       "      <td>-1</td>\n",
       "      <td>-1</td>\n",
       "      <td>-1</td>\n",
       "      <td>-1</td>\n",
       "    </tr>\n",
       "    <tr>\n",
       "      <th>3</th>\n",
       "      <td>0</td>\n",
       "      <td>tcp.d6l7.b1</td>\n",
       "      <td>Enter Jaw R</td>\n",
       "      <td>294</td>\n",
       "      <td>0.584033</td>\n",
       "      <td>-0.000000</td>\n",
       "      <td>0.000013</td>\n",
       "      <td>-0.000442</td>\n",
       "      <td>4.679380e-06</td>\n",
       "      <td>1.510111e-12</td>\n",
       "      <td>...</td>\n",
       "      <td>-1.000000</td>\n",
       "      <td>-1.000000</td>\n",
       "      <td>-1.000000</td>\n",
       "      <td>-1.00000</td>\n",
       "      <td>-1.000000e+00</td>\n",
       "      <td>-1.000000e+00</td>\n",
       "      <td>-1</td>\n",
       "      <td>-1</td>\n",
       "      <td>-1</td>\n",
       "      <td>-1</td>\n",
       "    </tr>\n",
       "    <tr>\n",
       "      <th>4</th>\n",
       "      <td>0</td>\n",
       "      <td>tcp.d6l7.b1</td>\n",
       "      <td>Enter Jaw R</td>\n",
       "      <td>420</td>\n",
       "      <td>0.581042</td>\n",
       "      <td>-0.000000</td>\n",
       "      <td>0.000013</td>\n",
       "      <td>0.000092</td>\n",
       "      <td>-9.024385e-07</td>\n",
       "      <td>1.584074e-12</td>\n",
       "      <td>...</td>\n",
       "      <td>-1.000000</td>\n",
       "      <td>-1.000000</td>\n",
       "      <td>-1.000000</td>\n",
       "      <td>-1.00000</td>\n",
       "      <td>-1.000000e+00</td>\n",
       "      <td>-1.000000e+00</td>\n",
       "      <td>-1</td>\n",
       "      <td>-1</td>\n",
       "      <td>-1</td>\n",
       "      <td>-1</td>\n",
       "    </tr>\n",
       "    <tr>\n",
       "      <th>...</th>\n",
       "      <td>...</td>\n",
       "      <td>...</td>\n",
       "      <td>...</td>\n",
       "      <td>...</td>\n",
       "      <td>...</td>\n",
       "      <td>...</td>\n",
       "      <td>...</td>\n",
       "      <td>...</td>\n",
       "      <td>...</td>\n",
       "      <td>...</td>\n",
       "      <td>...</td>\n",
       "      <td>...</td>\n",
       "      <td>...</td>\n",
       "      <td>...</td>\n",
       "      <td>...</td>\n",
       "      <td>...</td>\n",
       "      <td>...</td>\n",
       "      <td>...</td>\n",
       "      <td>...</td>\n",
       "      <td>...</td>\n",
       "      <td>...</td>\n",
       "    </tr>\n",
       "    <tr>\n",
       "      <th>4005</th>\n",
       "      <td>19</td>\n",
       "      <td>tcsg.a5l7.b1</td>\n",
       "      <td>Enter Jaw L</td>\n",
       "      <td>137</td>\n",
       "      <td>0.000000</td>\n",
       "      <td>0.003262</td>\n",
       "      <td>0.000052</td>\n",
       "      <td>-0.000223</td>\n",
       "      <td>-3.994625e-05</td>\n",
       "      <td>3.149256e-03</td>\n",
       "      <td>...</td>\n",
       "      <td>-1.000000</td>\n",
       "      <td>-1.000000</td>\n",
       "      <td>-1.000000</td>\n",
       "      <td>-1.00000</td>\n",
       "      <td>-1.000000e+00</td>\n",
       "      <td>-1.000000e+00</td>\n",
       "      <td>-1</td>\n",
       "      <td>-1</td>\n",
       "      <td>-1</td>\n",
       "      <td>-1</td>\n",
       "    </tr>\n",
       "    <tr>\n",
       "      <th>4006</th>\n",
       "      <td>19</td>\n",
       "      <td>tcsg.a5l7.b1</td>\n",
       "      <td>Multiple Coulomb Scattering</td>\n",
       "      <td>137</td>\n",
       "      <td>0.000000</td>\n",
       "      <td>0.003262</td>\n",
       "      <td>0.000052</td>\n",
       "      <td>-0.000223</td>\n",
       "      <td>-3.994625e-05</td>\n",
       "      <td>3.149256e-03</td>\n",
       "      <td>...</td>\n",
       "      <td>-0.000230</td>\n",
       "      <td>-0.000038</td>\n",
       "      <td>0.003149</td>\n",
       "      <td>-0.00012</td>\n",
       "      <td>6.799185e+12</td>\n",
       "      <td>9.382721e+08</td>\n",
       "      <td>1</td>\n",
       "      <td>-1</td>\n",
       "      <td>-1</td>\n",
       "      <td>-1</td>\n",
       "    </tr>\n",
       "    <tr>\n",
       "      <th>4007</th>\n",
       "      <td>19</td>\n",
       "      <td>tcsg.a5l7.b1</td>\n",
       "      <td>PN Elastic</td>\n",
       "      <td>137</td>\n",
       "      <td>0.174882</td>\n",
       "      <td>0.003271</td>\n",
       "      <td>0.000052</td>\n",
       "      <td>-0.000230</td>\n",
       "      <td>-3.835677e-05</td>\n",
       "      <td>3.149256e-03</td>\n",
       "      <td>...</td>\n",
       "      <td>-0.000230</td>\n",
       "      <td>-0.000035</td>\n",
       "      <td>0.003149</td>\n",
       "      <td>-0.00012</td>\n",
       "      <td>6.799185e+12</td>\n",
       "      <td>9.382721e+08</td>\n",
       "      <td>1</td>\n",
       "      <td>-1</td>\n",
       "      <td>-1</td>\n",
       "      <td>-1</td>\n",
       "    </tr>\n",
       "    <tr>\n",
       "      <th>4008</th>\n",
       "      <td>19</td>\n",
       "      <td>tcsg.a5l7.b1</td>\n",
       "      <td>Multiple Coulomb Scattering</td>\n",
       "      <td>137</td>\n",
       "      <td>0.174882</td>\n",
       "      <td>0.003271</td>\n",
       "      <td>0.000066</td>\n",
       "      <td>-0.000230</td>\n",
       "      <td>-3.530442e-05</td>\n",
       "      <td>3.149256e-03</td>\n",
       "      <td>...</td>\n",
       "      <td>-0.000251</td>\n",
       "      <td>-0.000034</td>\n",
       "      <td>0.003149</td>\n",
       "      <td>-0.00012</td>\n",
       "      <td>6.799185e+12</td>\n",
       "      <td>9.382721e+08</td>\n",
       "      <td>1</td>\n",
       "      <td>-1</td>\n",
       "      <td>-1</td>\n",
       "      <td>-1</td>\n",
       "    </tr>\n",
       "    <tr>\n",
       "      <th>4009</th>\n",
       "      <td>19</td>\n",
       "      <td>tcsg.a5l7.b1</td>\n",
       "      <td>Absorbed</td>\n",
       "      <td>137</td>\n",
       "      <td>0.774389</td>\n",
       "      <td>0.003309</td>\n",
       "      <td>0.000064</td>\n",
       "      <td>-0.000251</td>\n",
       "      <td>-3.410255e-05</td>\n",
       "      <td>3.149256e-03</td>\n",
       "      <td>...</td>\n",
       "      <td>-1.000000</td>\n",
       "      <td>-1.000000</td>\n",
       "      <td>-1.000000</td>\n",
       "      <td>-1.00000</td>\n",
       "      <td>-1.000000e+00</td>\n",
       "      <td>-1.000000e+00</td>\n",
       "      <td>-1</td>\n",
       "      <td>-1</td>\n",
       "      <td>-1</td>\n",
       "      <td>-1</td>\n",
       "    </tr>\n",
       "  </tbody>\n",
       "</table>\n",
       "<p>4010 rows × 31 columns</p>\n",
       "</div>"
      ],
      "text/plain": [
       "      turn    collimator             interaction_type  before_id  before_s  \\\n",
       "0        0   tcp.d6l7.b1                  Enter Jaw L          0  0.550605   \n",
       "1        0   tcp.d6l7.b1                  Enter Jaw L         84  0.581944   \n",
       "2        0   tcp.d6l7.b1                  Enter Jaw L         42  0.530131   \n",
       "3        0   tcp.d6l7.b1                  Enter Jaw R        294  0.584033   \n",
       "4        0   tcp.d6l7.b1                  Enter Jaw R        420  0.581042   \n",
       "...    ...           ...                          ...        ...       ...   \n",
       "4005    19  tcsg.a5l7.b1                  Enter Jaw L        137  0.000000   \n",
       "4006    19  tcsg.a5l7.b1  Multiple Coulomb Scattering        137  0.000000   \n",
       "4007    19  tcsg.a5l7.b1                   PN Elastic        137  0.174882   \n",
       "4008    19  tcsg.a5l7.b1  Multiple Coulomb Scattering        137  0.174882   \n",
       "4009    19  tcsg.a5l7.b1                     Absorbed        137  0.774389   \n",
       "\n",
       "      before_x  before_px  before_y     before_py   before_zeta  ...  \\\n",
       "0     0.000000   0.000012 -0.000140  2.142453e-06  3.925799e-12  ...   \n",
       "1     0.000000   0.000013  0.000195 -1.533393e-06  1.460204e-12  ...   \n",
       "2     0.000000   0.000013 -0.000057  3.590167e-07  5.496419e-12  ...   \n",
       "3    -0.000000   0.000013 -0.000442  4.679380e-06  1.510111e-12  ...   \n",
       "4    -0.000000   0.000013  0.000092 -9.024385e-07  1.584074e-12  ...   \n",
       "...        ...        ...       ...           ...           ...  ...   \n",
       "4005  0.003262   0.000052 -0.000223 -3.994625e-05  3.149256e-03  ...   \n",
       "4006  0.003262   0.000052 -0.000223 -3.994625e-05  3.149256e-03  ...   \n",
       "4007  0.003271   0.000052 -0.000230 -3.835677e-05  3.149256e-03  ...   \n",
       "4008  0.003271   0.000066 -0.000230 -3.530442e-05  3.149256e-03  ...   \n",
       "4009  0.003309   0.000064 -0.000251 -3.410255e-05  3.149256e-03  ...   \n",
       "\n",
       "       after_y  after_py  after_zeta  after_delta  after_energy    after_mass  \\\n",
       "0    -1.000000 -1.000000   -1.000000     -1.00000 -1.000000e+00 -1.000000e+00   \n",
       "1    -1.000000 -1.000000   -1.000000     -1.00000 -1.000000e+00 -1.000000e+00   \n",
       "2    -1.000000 -1.000000   -1.000000     -1.00000 -1.000000e+00 -1.000000e+00   \n",
       "3    -1.000000 -1.000000   -1.000000     -1.00000 -1.000000e+00 -1.000000e+00   \n",
       "4    -1.000000 -1.000000   -1.000000     -1.00000 -1.000000e+00 -1.000000e+00   \n",
       "...        ...       ...         ...          ...           ...           ...   \n",
       "4005 -1.000000 -1.000000   -1.000000     -1.00000 -1.000000e+00 -1.000000e+00   \n",
       "4006 -0.000230 -0.000038    0.003149     -0.00012  6.799185e+12  9.382721e+08   \n",
       "4007 -0.000230 -0.000035    0.003149     -0.00012  6.799185e+12  9.382721e+08   \n",
       "4008 -0.000251 -0.000034    0.003149     -0.00012  6.799185e+12  9.382721e+08   \n",
       "4009 -1.000000 -1.000000   -1.000000     -1.00000 -1.000000e+00 -1.000000e+00   \n",
       "\n",
       "      after_charge  after_z  after_a  after_pdgid  \n",
       "0               -1       -1       -1           -1  \n",
       "1               -1       -1       -1           -1  \n",
       "2               -1       -1       -1           -1  \n",
       "3               -1       -1       -1           -1  \n",
       "4               -1       -1       -1           -1  \n",
       "...            ...      ...      ...          ...  \n",
       "4005            -1       -1       -1           -1  \n",
       "4006             1       -1       -1           -1  \n",
       "4007             1       -1       -1           -1  \n",
       "4008             1       -1       -1           -1  \n",
       "4009            -1       -1       -1           -1  \n",
       "\n",
       "[4010 rows x 31 columns]"
      ]
     },
     "execution_count": 13,
     "metadata": {},
     "output_type": "execute_result"
    }
   ],
   "source": [
    "df"
   ]
  },
  {
   "cell_type": "code",
   "execution_count": 19,
   "id": "487a5e08",
   "metadata": {
    "vscode": {
     "languageId": "python"
    }
   },
   "outputs": [
    {
     "data": {
      "text/html": [
       "<div>\n",
       "<style scoped>\n",
       "    .dataframe tbody tr th:only-of-type {\n",
       "        vertical-align: middle;\n",
       "    }\n",
       "\n",
       "    .dataframe tbody tr th {\n",
       "        vertical-align: top;\n",
       "    }\n",
       "\n",
       "    .dataframe thead th {\n",
       "        text-align: right;\n",
       "    }\n",
       "</style>\n",
       "<table border=\"1\" class=\"dataframe\">\n",
       "  <thead>\n",
       "    <tr style=\"text-align: right;\">\n",
       "      <th></th>\n",
       "      <th>collimator</th>\n",
       "      <th>before_id</th>\n",
       "      <th>turn</th>\n",
       "    </tr>\n",
       "  </thead>\n",
       "  <tbody>\n",
       "    <tr>\n",
       "      <th>0</th>\n",
       "      <td>tcp.d6l7.b1</td>\n",
       "      <td>0</td>\n",
       "      <td>0</td>\n",
       "    </tr>\n",
       "    <tr>\n",
       "      <th>1</th>\n",
       "      <td>tcp.d6l7.b1</td>\n",
       "      <td>378</td>\n",
       "      <td>0</td>\n",
       "    </tr>\n",
       "    <tr>\n",
       "      <th>2</th>\n",
       "      <td>tcp.d6l7.b1</td>\n",
       "      <td>42</td>\n",
       "      <td>0</td>\n",
       "    </tr>\n",
       "    <tr>\n",
       "      <th>3</th>\n",
       "      <td>tcp.d6l7.b1</td>\n",
       "      <td>252</td>\n",
       "      <td>0</td>\n",
       "    </tr>\n",
       "    <tr>\n",
       "      <th>4</th>\n",
       "      <td>tcp.d6l7.b1</td>\n",
       "      <td>42</td>\n",
       "      <td>0</td>\n",
       "    </tr>\n",
       "    <tr>\n",
       "      <th>...</th>\n",
       "      <td>...</td>\n",
       "      <td>...</td>\n",
       "      <td>...</td>\n",
       "    </tr>\n",
       "    <tr>\n",
       "      <th>3898</th>\n",
       "      <td>tcsg.b5l7.b1</td>\n",
       "      <td>334</td>\n",
       "      <td>17</td>\n",
       "    </tr>\n",
       "    <tr>\n",
       "      <th>3899</th>\n",
       "      <td>tcsg.b5l7.b1</td>\n",
       "      <td>334</td>\n",
       "      <td>17</td>\n",
       "    </tr>\n",
       "    <tr>\n",
       "      <th>3900</th>\n",
       "      <td>tcsg.b5l7.b1</td>\n",
       "      <td>259</td>\n",
       "      <td>17</td>\n",
       "    </tr>\n",
       "    <tr>\n",
       "      <th>3901</th>\n",
       "      <td>tcsg.b5l7.b1</td>\n",
       "      <td>259</td>\n",
       "      <td>17</td>\n",
       "    </tr>\n",
       "    <tr>\n",
       "      <th>3902</th>\n",
       "      <td>tcsg.b5l7.b1</td>\n",
       "      <td>259</td>\n",
       "      <td>17</td>\n",
       "    </tr>\n",
       "  </tbody>\n",
       "</table>\n",
       "<p>3903 rows × 3 columns</p>\n",
       "</div>"
      ],
      "text/plain": [
       "        collimator  before_id  turn\n",
       "0      tcp.d6l7.b1          0     0\n",
       "1      tcp.d6l7.b1        378     0\n",
       "2      tcp.d6l7.b1         42     0\n",
       "3      tcp.d6l7.b1        252     0\n",
       "4      tcp.d6l7.b1         42     0\n",
       "...            ...        ...   ...\n",
       "3898  tcsg.b5l7.b1        334    17\n",
       "3899  tcsg.b5l7.b1        334    17\n",
       "3900  tcsg.b5l7.b1        259    17\n",
       "3901  tcsg.b5l7.b1        259    17\n",
       "3902  tcsg.b5l7.b1        259    17\n",
       "\n",
       "[3903 rows x 3 columns]"
      ]
     },
     "execution_count": 19,
     "metadata": {},
     "output_type": "execute_result"
    }
   ],
   "source": [
    "df[['collimator', 'before_id', 'turn']]"
   ]
  },
  {
   "cell_type": "code",
   "execution_count": 20,
   "id": "b11023fa",
   "metadata": {
    "vscode": {
     "languageId": "python"
    }
   },
   "outputs": [
    {
     "data": {
      "text/html": [
       "<div>\n",
       "<style scoped>\n",
       "    .dataframe tbody tr th:only-of-type {\n",
       "        vertical-align: middle;\n",
       "    }\n",
       "\n",
       "    .dataframe tbody tr th {\n",
       "        vertical-align: top;\n",
       "    }\n",
       "\n",
       "    .dataframe thead th {\n",
       "        text-align: right;\n",
       "    }\n",
       "</style>\n",
       "<table border=\"1\" class=\"dataframe\">\n",
       "  <thead>\n",
       "    <tr style=\"text-align: right;\">\n",
       "      <th></th>\n",
       "      <th>turn</th>\n",
       "      <th>collimator</th>\n",
       "      <th>interaction_type</th>\n",
       "      <th>before_id</th>\n",
       "      <th>before_s</th>\n",
       "      <th>before_x</th>\n",
       "      <th>before_px</th>\n",
       "      <th>before_y</th>\n",
       "      <th>before_py</th>\n",
       "      <th>before_zeta</th>\n",
       "      <th>...</th>\n",
       "      <th>after_y</th>\n",
       "      <th>after_py</th>\n",
       "      <th>after_zeta</th>\n",
       "      <th>after_delta</th>\n",
       "      <th>after_energy</th>\n",
       "      <th>after_mass</th>\n",
       "      <th>after_charge</th>\n",
       "      <th>after_z</th>\n",
       "      <th>after_a</th>\n",
       "      <th>after_pdgid</th>\n",
       "    </tr>\n",
       "  </thead>\n",
       "  <tbody>\n",
       "  </tbody>\n",
       "</table>\n",
       "<p>0 rows × 31 columns</p>\n",
       "</div>"
      ],
      "text/plain": [
       "Empty DataFrame\n",
       "Columns: [turn, collimator, interaction_type, before_id, before_s, before_x, before_px, before_y, before_py, before_zeta, before_delta, before_energy, before_mass, before_charge, before_z, before_a, before_pdgid, after_id, after_s, after_x, after_px, after_y, after_py, after_zeta, after_delta, after_energy, after_mass, after_charge, after_z, after_a, after_pdgid]\n",
       "Index: []\n",
       "\n",
       "[0 rows x 31 columns]"
      ]
     },
     "execution_count": 20,
     "metadata": {},
     "output_type": "execute_result"
    }
   ],
   "source": [
    "df[df.collimator == tcp]"
   ]
  },
  {
   "cell_type": "code",
   "execution_count": 39,
   "id": "c218c0fe",
   "metadata": {
    "vscode": {
     "languageId": "python"
    }
   },
   "outputs": [],
   "source": [
    "CRY = df[df.collimator == cry]"
   ]
  },
  {
   "cell_type": "code",
   "execution_count": 40,
   "id": "ff353bfc",
   "metadata": {
    "vscode": {
     "languageId": "python"
    }
   },
   "outputs": [
    {
     "data": {
      "text/plain": [
       "Index(['turn', 'collimator', 'interaction_type', 'before_id', 'before_s',\n",
       "       'before_x', 'before_px', 'before_y', 'before_py', 'before_zeta',\n",
       "       'before_delta', 'before_energy', 'before_mass', 'before_charge',\n",
       "       'before_z', 'before_a', 'before_pdgid', 'after_id', 'after_s',\n",
       "       'after_x', 'after_px', 'after_y', 'after_py', 'after_zeta',\n",
       "       'after_delta', 'after_energy', 'after_mass', 'after_charge', 'after_z',\n",
       "       'after_a', 'after_pdgid'],\n",
       "      dtype='object')"
      ]
     },
     "execution_count": 40,
     "metadata": {},
     "output_type": "execute_result"
    }
   ],
   "source": [
    "CRY.keys()"
   ]
  },
  {
   "cell_type": "code",
   "execution_count": 41,
   "id": "393f23cf",
   "metadata": {
    "vscode": {
     "languageId": "python"
    }
   },
   "outputs": [
    {
     "data": {
      "text/html": [
       "<div>\n",
       "<style scoped>\n",
       "    .dataframe tbody tr th:only-of-type {\n",
       "        vertical-align: middle;\n",
       "    }\n",
       "\n",
       "    .dataframe tbody tr th {\n",
       "        vertical-align: top;\n",
       "    }\n",
       "\n",
       "    .dataframe thead th {\n",
       "        text-align: right;\n",
       "    }\n",
       "</style>\n",
       "<table border=\"1\" class=\"dataframe\">\n",
       "  <thead>\n",
       "    <tr style=\"text-align: right;\">\n",
       "      <th></th>\n",
       "      <th>turn</th>\n",
       "      <th>collimator</th>\n",
       "      <th>interaction_type</th>\n",
       "      <th>before_id</th>\n",
       "      <th>before_s</th>\n",
       "      <th>before_x</th>\n",
       "      <th>before_px</th>\n",
       "      <th>before_y</th>\n",
       "      <th>before_py</th>\n",
       "      <th>before_zeta</th>\n",
       "      <th>...</th>\n",
       "      <th>after_y</th>\n",
       "      <th>after_py</th>\n",
       "      <th>after_zeta</th>\n",
       "      <th>after_delta</th>\n",
       "      <th>after_energy</th>\n",
       "      <th>after_mass</th>\n",
       "      <th>after_charge</th>\n",
       "      <th>after_z</th>\n",
       "      <th>after_a</th>\n",
       "      <th>after_pdgid</th>\n",
       "    </tr>\n",
       "  </thead>\n",
       "  <tbody>\n",
       "    <tr>\n",
       "      <th>539</th>\n",
       "      <td>0</td>\n",
       "      <td>tcpcv.a6l7.b1</td>\n",
       "      <td>Enter Jaw L</td>\n",
       "      <td>65</td>\n",
       "      <td>-2.961307e-21</td>\n",
       "      <td>0.000536</td>\n",
       "      <td>8.612824e-06</td>\n",
       "      <td>-0.000183</td>\n",
       "      <td>-0.000002</td>\n",
       "      <td>-7.033012e-08</td>\n",
       "      <td>...</td>\n",
       "      <td>-1.000000</td>\n",
       "      <td>-1.000000</td>\n",
       "      <td>-1.000000e+00</td>\n",
       "      <td>-1.000000</td>\n",
       "      <td>-1.000000e+00</td>\n",
       "      <td>-1.000000e+00</td>\n",
       "      <td>-1</td>\n",
       "      <td>-1</td>\n",
       "      <td>-1</td>\n",
       "      <td>-1</td>\n",
       "    </tr>\n",
       "    <tr>\n",
       "      <th>549</th>\n",
       "      <td>0</td>\n",
       "      <td>tcpcv.a6l7.b1</td>\n",
       "      <td>Multiple Coulomb Scattering</td>\n",
       "      <td>65</td>\n",
       "      <td>-2.961307e-21</td>\n",
       "      <td>0.000536</td>\n",
       "      <td>8.612824e-06</td>\n",
       "      <td>-0.000183</td>\n",
       "      <td>-0.000002</td>\n",
       "      <td>-7.033012e-08</td>\n",
       "      <td>...</td>\n",
       "      <td>-0.000183</td>\n",
       "      <td>-0.000002</td>\n",
       "      <td>-7.033012e-08</td>\n",
       "      <td>-0.000005</td>\n",
       "      <td>6.799966e+12</td>\n",
       "      <td>9.382721e+08</td>\n",
       "      <td>1</td>\n",
       "      <td>-1</td>\n",
       "      <td>-1</td>\n",
       "      <td>-1</td>\n",
       "    </tr>\n",
       "    <tr>\n",
       "      <th>555</th>\n",
       "      <td>0</td>\n",
       "      <td>tcpcv.a6l7.b1</td>\n",
       "      <td>Volume Reflection</td>\n",
       "      <td>65</td>\n",
       "      <td>7.329504e-04</td>\n",
       "      <td>0.000536</td>\n",
       "      <td>8.414355e-06</td>\n",
       "      <td>-0.000183</td>\n",
       "      <td>-0.000002</td>\n",
       "      <td>-7.033012e-08</td>\n",
       "      <td>...</td>\n",
       "      <td>-0.000183</td>\n",
       "      <td>-0.000002</td>\n",
       "      <td>-7.033012e-08</td>\n",
       "      <td>-0.000005</td>\n",
       "      <td>6.799966e+12</td>\n",
       "      <td>9.382721e+08</td>\n",
       "      <td>1</td>\n",
       "      <td>-1</td>\n",
       "      <td>-1</td>\n",
       "      <td>-1</td>\n",
       "    </tr>\n",
       "    <tr>\n",
       "      <th>562</th>\n",
       "      <td>0</td>\n",
       "      <td>tcpcv.a6l7.b1</td>\n",
       "      <td>Multiple Coulomb Scattering</td>\n",
       "      <td>65</td>\n",
       "      <td>7.329504e-04</td>\n",
       "      <td>0.000536</td>\n",
       "      <td>5.851292e-06</td>\n",
       "      <td>-0.000183</td>\n",
       "      <td>-0.000002</td>\n",
       "      <td>-7.033012e-08</td>\n",
       "      <td>...</td>\n",
       "      <td>-0.000183</td>\n",
       "      <td>-0.000002</td>\n",
       "      <td>-7.033012e-08</td>\n",
       "      <td>-0.000005</td>\n",
       "      <td>6.799966e+12</td>\n",
       "      <td>9.382721e+08</td>\n",
       "      <td>1</td>\n",
       "      <td>-1</td>\n",
       "      <td>-1</td>\n",
       "      <td>-1</td>\n",
       "    </tr>\n",
       "    <tr>\n",
       "      <th>567</th>\n",
       "      <td>0</td>\n",
       "      <td>tcpcv.a6l7.b1</td>\n",
       "      <td>Exit Jaw</td>\n",
       "      <td>65</td>\n",
       "      <td>3.999975e-03</td>\n",
       "      <td>0.000536</td>\n",
       "      <td>5.985425e-06</td>\n",
       "      <td>-0.000183</td>\n",
       "      <td>-0.000002</td>\n",
       "      <td>-7.033012e-08</td>\n",
       "      <td>...</td>\n",
       "      <td>-1.000000</td>\n",
       "      <td>-1.000000</td>\n",
       "      <td>-1.000000e+00</td>\n",
       "      <td>-1.000000</td>\n",
       "      <td>-1.000000e+00</td>\n",
       "      <td>-1.000000e+00</td>\n",
       "      <td>-1</td>\n",
       "      <td>-1</td>\n",
       "      <td>-1</td>\n",
       "      <td>-1</td>\n",
       "    </tr>\n",
       "    <tr>\n",
       "      <th>...</th>\n",
       "      <td>...</td>\n",
       "      <td>...</td>\n",
       "      <td>...</td>\n",
       "      <td>...</td>\n",
       "      <td>...</td>\n",
       "      <td>...</td>\n",
       "      <td>...</td>\n",
       "      <td>...</td>\n",
       "      <td>...</td>\n",
       "      <td>...</td>\n",
       "      <td>...</td>\n",
       "      <td>...</td>\n",
       "      <td>...</td>\n",
       "      <td>...</td>\n",
       "      <td>...</td>\n",
       "      <td>...</td>\n",
       "      <td>...</td>\n",
       "      <td>...</td>\n",
       "      <td>...</td>\n",
       "      <td>...</td>\n",
       "      <td>...</td>\n",
       "    </tr>\n",
       "    <tr>\n",
       "      <th>3980</th>\n",
       "      <td>17</td>\n",
       "      <td>tcpcv.a6l7.b1</td>\n",
       "      <td>Exit Jaw</td>\n",
       "      <td>293</td>\n",
       "      <td>3.999999e-03</td>\n",
       "      <td>0.001810</td>\n",
       "      <td>6.366573e-05</td>\n",
       "      <td>0.000184</td>\n",
       "      <td>0.000001</td>\n",
       "      <td>5.789788e-04</td>\n",
       "      <td>...</td>\n",
       "      <td>-1.000000</td>\n",
       "      <td>-1.000000</td>\n",
       "      <td>-1.000000e+00</td>\n",
       "      <td>-1.000000</td>\n",
       "      <td>-1.000000e+00</td>\n",
       "      <td>-1.000000e+00</td>\n",
       "      <td>-1</td>\n",
       "      <td>-1</td>\n",
       "      <td>-1</td>\n",
       "      <td>-1</td>\n",
       "    </tr>\n",
       "    <tr>\n",
       "      <th>4001</th>\n",
       "      <td>19</td>\n",
       "      <td>tcpcv.a6l7.b1</td>\n",
       "      <td>Enter Jaw L</td>\n",
       "      <td>137</td>\n",
       "      <td>-2.034864e-22</td>\n",
       "      <td>0.000037</td>\n",
       "      <td>-9.507660e-07</td>\n",
       "      <td>-0.001497</td>\n",
       "      <td>-0.000023</td>\n",
       "      <td>3.149358e-03</td>\n",
       "      <td>...</td>\n",
       "      <td>-1.000000</td>\n",
       "      <td>-1.000000</td>\n",
       "      <td>-1.000000e+00</td>\n",
       "      <td>-1.000000</td>\n",
       "      <td>-1.000000e+00</td>\n",
       "      <td>-1.000000e+00</td>\n",
       "      <td>-1</td>\n",
       "      <td>-1</td>\n",
       "      <td>-1</td>\n",
       "      <td>-1</td>\n",
       "    </tr>\n",
       "    <tr>\n",
       "      <th>4002</th>\n",
       "      <td>19</td>\n",
       "      <td>tcpcv.a6l7.b1</td>\n",
       "      <td>Channeling</td>\n",
       "      <td>137</td>\n",
       "      <td>-2.034864e-22</td>\n",
       "      <td>0.000037</td>\n",
       "      <td>-9.507660e-07</td>\n",
       "      <td>-0.001497</td>\n",
       "      <td>-0.000023</td>\n",
       "      <td>3.149358e-03</td>\n",
       "      <td>...</td>\n",
       "      <td>-0.001497</td>\n",
       "      <td>-0.000023</td>\n",
       "      <td>3.149358e-03</td>\n",
       "      <td>-0.000120</td>\n",
       "      <td>6.799187e+12</td>\n",
       "      <td>9.382721e+08</td>\n",
       "      <td>1</td>\n",
       "      <td>-1</td>\n",
       "      <td>-1</td>\n",
       "      <td>-1</td>\n",
       "    </tr>\n",
       "    <tr>\n",
       "      <th>4003</th>\n",
       "      <td>19</td>\n",
       "      <td>tcpcv.a6l7.b1</td>\n",
       "      <td>Exit Jaw</td>\n",
       "      <td>137</td>\n",
       "      <td>3.999998e-03</td>\n",
       "      <td>0.000037</td>\n",
       "      <td>4.605335e-05</td>\n",
       "      <td>-0.001497</td>\n",
       "      <td>-0.000023</td>\n",
       "      <td>3.149358e-03</td>\n",
       "      <td>...</td>\n",
       "      <td>-1.000000</td>\n",
       "      <td>-1.000000</td>\n",
       "      <td>-1.000000e+00</td>\n",
       "      <td>-1.000000</td>\n",
       "      <td>-1.000000e+00</td>\n",
       "      <td>-1.000000e+00</td>\n",
       "      <td>-1</td>\n",
       "      <td>-1</td>\n",
       "      <td>-1</td>\n",
       "      <td>-1</td>\n",
       "    </tr>\n",
       "    <tr>\n",
       "      <th>4004</th>\n",
       "      <td>19</td>\n",
       "      <td>tcpcv.a6l7.b1</td>\n",
       "      <td>Exit Jaw</td>\n",
       "      <td>137</td>\n",
       "      <td>3.999999e-03</td>\n",
       "      <td>0.001799</td>\n",
       "      <td>6.270906e-05</td>\n",
       "      <td>-0.001497</td>\n",
       "      <td>-0.000023</td>\n",
       "      <td>3.149358e-03</td>\n",
       "      <td>...</td>\n",
       "      <td>-1.000000</td>\n",
       "      <td>-1.000000</td>\n",
       "      <td>-1.000000e+00</td>\n",
       "      <td>-1.000000</td>\n",
       "      <td>-1.000000e+00</td>\n",
       "      <td>-1.000000e+00</td>\n",
       "      <td>-1</td>\n",
       "      <td>-1</td>\n",
       "      <td>-1</td>\n",
       "      <td>-1</td>\n",
       "    </tr>\n",
       "  </tbody>\n",
       "</table>\n",
       "<p>990 rows × 31 columns</p>\n",
       "</div>"
      ],
      "text/plain": [
       "      turn     collimator             interaction_type  before_id  \\\n",
       "539      0  tcpcv.a6l7.b1                  Enter Jaw L         65   \n",
       "549      0  tcpcv.a6l7.b1  Multiple Coulomb Scattering         65   \n",
       "555      0  tcpcv.a6l7.b1            Volume Reflection         65   \n",
       "562      0  tcpcv.a6l7.b1  Multiple Coulomb Scattering         65   \n",
       "567      0  tcpcv.a6l7.b1                     Exit Jaw         65   \n",
       "...    ...            ...                          ...        ...   \n",
       "3980    17  tcpcv.a6l7.b1                     Exit Jaw        293   \n",
       "4001    19  tcpcv.a6l7.b1                  Enter Jaw L        137   \n",
       "4002    19  tcpcv.a6l7.b1                   Channeling        137   \n",
       "4003    19  tcpcv.a6l7.b1                     Exit Jaw        137   \n",
       "4004    19  tcpcv.a6l7.b1                     Exit Jaw        137   \n",
       "\n",
       "          before_s  before_x     before_px  before_y  before_py   before_zeta  \\\n",
       "539  -2.961307e-21  0.000536  8.612824e-06 -0.000183  -0.000002 -7.033012e-08   \n",
       "549  -2.961307e-21  0.000536  8.612824e-06 -0.000183  -0.000002 -7.033012e-08   \n",
       "555   7.329504e-04  0.000536  8.414355e-06 -0.000183  -0.000002 -7.033012e-08   \n",
       "562   7.329504e-04  0.000536  5.851292e-06 -0.000183  -0.000002 -7.033012e-08   \n",
       "567   3.999975e-03  0.000536  5.985425e-06 -0.000183  -0.000002 -7.033012e-08   \n",
       "...            ...       ...           ...       ...        ...           ...   \n",
       "3980  3.999999e-03  0.001810  6.366573e-05  0.000184   0.000001  5.789788e-04   \n",
       "4001 -2.034864e-22  0.000037 -9.507660e-07 -0.001497  -0.000023  3.149358e-03   \n",
       "4002 -2.034864e-22  0.000037 -9.507660e-07 -0.001497  -0.000023  3.149358e-03   \n",
       "4003  3.999998e-03  0.000037  4.605335e-05 -0.001497  -0.000023  3.149358e-03   \n",
       "4004  3.999999e-03  0.001799  6.270906e-05 -0.001497  -0.000023  3.149358e-03   \n",
       "\n",
       "      ...   after_y  after_py    after_zeta  after_delta  after_energy  \\\n",
       "539   ... -1.000000 -1.000000 -1.000000e+00    -1.000000 -1.000000e+00   \n",
       "549   ... -0.000183 -0.000002 -7.033012e-08    -0.000005  6.799966e+12   \n",
       "555   ... -0.000183 -0.000002 -7.033012e-08    -0.000005  6.799966e+12   \n",
       "562   ... -0.000183 -0.000002 -7.033012e-08    -0.000005  6.799966e+12   \n",
       "567   ... -1.000000 -1.000000 -1.000000e+00    -1.000000 -1.000000e+00   \n",
       "...   ...       ...       ...           ...          ...           ...   \n",
       "3980  ... -1.000000 -1.000000 -1.000000e+00    -1.000000 -1.000000e+00   \n",
       "4001  ... -1.000000 -1.000000 -1.000000e+00    -1.000000 -1.000000e+00   \n",
       "4002  ... -0.001497 -0.000023  3.149358e-03    -0.000120  6.799187e+12   \n",
       "4003  ... -1.000000 -1.000000 -1.000000e+00    -1.000000 -1.000000e+00   \n",
       "4004  ... -1.000000 -1.000000 -1.000000e+00    -1.000000 -1.000000e+00   \n",
       "\n",
       "        after_mass  after_charge  after_z  after_a  after_pdgid  \n",
       "539  -1.000000e+00            -1       -1       -1           -1  \n",
       "549   9.382721e+08             1       -1       -1           -1  \n",
       "555   9.382721e+08             1       -1       -1           -1  \n",
       "562   9.382721e+08             1       -1       -1           -1  \n",
       "567  -1.000000e+00            -1       -1       -1           -1  \n",
       "...            ...           ...      ...      ...          ...  \n",
       "3980 -1.000000e+00            -1       -1       -1           -1  \n",
       "4001 -1.000000e+00            -1       -1       -1           -1  \n",
       "4002  9.382721e+08             1       -1       -1           -1  \n",
       "4003 -1.000000e+00            -1       -1       -1           -1  \n",
       "4004 -1.000000e+00            -1       -1       -1           -1  \n",
       "\n",
       "[990 rows x 31 columns]"
      ]
     },
     "execution_count": 41,
     "metadata": {},
     "output_type": "execute_result"
    }
   ],
   "source": [
    "CRY"
   ]
  },
  {
   "cell_type": "code",
   "execution_count": 50,
   "id": "6ca20666-cbb7-494e-844f-0bd76ef5415e",
   "metadata": {
    "vscode": {
     "languageId": "python"
    }
   },
   "outputs": [
    {
     "data": {
      "text/html": [
       "<div>\n",
       "<style scoped>\n",
       "    .dataframe tbody tr th:only-of-type {\n",
       "        vertical-align: middle;\n",
       "    }\n",
       "\n",
       "    .dataframe tbody tr th {\n",
       "        vertical-align: top;\n",
       "    }\n",
       "\n",
       "    .dataframe thead th {\n",
       "        text-align: right;\n",
       "    }\n",
       "</style>\n",
       "<table border=\"1\" class=\"dataframe\">\n",
       "  <thead>\n",
       "    <tr style=\"text-align: right;\">\n",
       "      <th></th>\n",
       "      <th>turn</th>\n",
       "      <th>collimator</th>\n",
       "      <th>interaction_type</th>\n",
       "      <th>before_id</th>\n",
       "      <th>before_s</th>\n",
       "      <th>before_x</th>\n",
       "      <th>before_px</th>\n",
       "      <th>before_y</th>\n",
       "      <th>before_py</th>\n",
       "      <th>before_zeta</th>\n",
       "      <th>...</th>\n",
       "      <th>after_y</th>\n",
       "      <th>after_py</th>\n",
       "      <th>after_zeta</th>\n",
       "      <th>after_delta</th>\n",
       "      <th>after_energy</th>\n",
       "      <th>after_mass</th>\n",
       "      <th>after_charge</th>\n",
       "      <th>after_z</th>\n",
       "      <th>after_a</th>\n",
       "      <th>after_pdgid</th>\n",
       "    </tr>\n",
       "  </thead>\n",
       "  <tbody>\n",
       "  </tbody>\n",
       "</table>\n",
       "<p>0 rows × 31 columns</p>\n",
       "</div>"
      ],
      "text/plain": [
       "Empty DataFrame\n",
       "Columns: [turn, collimator, interaction_type, before_id, before_s, before_x, before_px, before_y, before_py, before_zeta, before_delta, before_energy, before_mass, before_charge, before_z, before_a, before_pdgid, after_id, after_s, after_x, after_px, after_y, after_py, after_zeta, after_delta, after_energy, after_mass, after_charge, after_z, after_a, after_pdgid]\n",
       "Index: []\n",
       "\n",
       "[0 rows x 31 columns]"
      ]
     },
     "execution_count": 50,
     "metadata": {},
     "output_type": "execute_result"
    }
   ],
   "source": [
    "df[(df.collimator == 'tcp.d6l7.b1') & (df.turn == 15)]"
   ]
  },
  {
   "cell_type": "code",
   "execution_count": 18,
   "id": "7ed2a00d",
   "metadata": {
    "vscode": {
     "languageId": "python"
    }
   },
   "outputs": [],
   "source": [
    "dfimp  = impacts.interactions_per_collimator(cry)\n"
   ]
  },
  {
   "cell_type": "code",
   "execution_count": 25,
   "id": "5ca7c713",
   "metadata": {
    "vscode": {
     "languageId": "python"
    }
   },
   "outputs": [
    {
     "data": {
      "text/plain": [
       "pid  turn\n",
       "65   0       [MCS, VR, MCS]\n",
       "72   0       [MCS, VR, MCS]\n",
       "172  0       [MCS, VR, MCS]\n",
       "188  0          [VRCH, MCS]\n",
       "469  0                [MCS]\n",
       "                  ...      \n",
       "452  17                [CH]\n",
       "462  17      [MCS, VR, MCS]\n",
       "352  17                [CH]\n",
       "293  17                [CH]\n",
       "137  19                [CH]\n",
       "Name: int, Length: 222, dtype: object"
      ]
     },
     "execution_count": 25,
     "metadata": {},
     "output_type": "execute_result"
    }
   ],
   "source": [
    "dfimp"
   ]
  },
  {
   "cell_type": "code",
   "execution_count": 20,
   "id": "630a8cfe",
   "metadata": {
    "vscode": {
     "languageId": "python"
    }
   },
   "outputs": [
    {
     "data": {
      "text/plain": [
       "15539"
      ]
     },
     "execution_count": 20,
     "metadata": {},
     "output_type": "execute_result"
    }
   ],
   "source": [
    "sys.getsizeof(dfimp)"
   ]
  },
  {
   "cell_type": "code",
   "execution_count": 46,
   "id": "d174eb1c",
   "metadata": {
    "vscode": {
     "languageId": "python"
    }
   },
   "outputs": [
    {
     "data": {
      "text/plain": [
       "16944"
      ]
     },
     "execution_count": 46,
     "metadata": {},
     "output_type": "execute_result"
    }
   ],
   "source": [
    "imp_df = pd.DataFrame(dfimp.reset_index())\n",
    "sys.getsizeof(imp_df)"
   ]
  },
  {
   "cell_type": "code",
   "execution_count": 69,
   "id": "24c3c270",
   "metadata": {
    "vscode": {
     "languageId": "python"
    }
   },
   "outputs": [
    {
     "data": {
      "text/html": [
       "<div>\n",
       "<style scoped>\n",
       "    .dataframe tbody tr th:only-of-type {\n",
       "        vertical-align: middle;\n",
       "    }\n",
       "\n",
       "    .dataframe tbody tr th {\n",
       "        vertical-align: top;\n",
       "    }\n",
       "\n",
       "    .dataframe thead th {\n",
       "        text-align: right;\n",
       "    }\n",
       "</style>\n",
       "<table border=\"1\" class=\"dataframe\">\n",
       "  <thead>\n",
       "    <tr style=\"text-align: right;\">\n",
       "      <th></th>\n",
       "      <th>pid</th>\n",
       "      <th>turn</th>\n",
       "      <th>int</th>\n",
       "    </tr>\n",
       "  </thead>\n",
       "  <tbody>\n",
       "    <tr>\n",
       "      <th>209</th>\n",
       "      <td>392</td>\n",
       "      <td>17</td>\n",
       "      <td>[VRCH, MCS]</td>\n",
       "    </tr>\n",
       "  </tbody>\n",
       "</table>\n",
       "</div>"
      ],
      "text/plain": [
       "     pid  turn          int\n",
       "209  392    17  [VRCH, MCS]"
      ]
     },
     "execution_count": 69,
     "metadata": {},
     "output_type": "execute_result"
    }
   ],
   "source": [
    "imp_df[imp_df.pid == 392]"
   ]
  },
  {
   "cell_type": "code",
   "execution_count": 66,
   "id": "ad8d2cb9",
   "metadata": {
    "vscode": {
     "languageId": "python"
    }
   },
   "outputs": [
    {
     "data": {
      "text/plain": [
       "<Axes: >"
      ]
     },
     "execution_count": 66,
     "metadata": {},
     "output_type": "execute_result"
    },
    {
     "data": {
      "image/png": "[encoded data removed]",
      "text/plain": [
       "<Figure size 432x288 with 1 Axes>"
      ]
     },
     "metadata": {
      "needs_background": "light"
     },
     "output_type": "display_data"
    }
   ],
   "source": [
    "imp_df.pid.hist(bins=500)"
   ]
  },
  {
   "cell_type": "code",
   "execution_count": 72,
   "id": "6af8a35c",
   "metadata": {
    "vscode": {
     "languageId": "python"
    }
   },
   "outputs": [],
   "source": [
    "imp_df.rename(columns={'turn': 'this_turn'}, inplace=True)\n",
    "imp_df.rename(columns={'pid': 'particle_id'}, inplace=True)"
   ]
  },
  {
   "cell_type": "code",
   "execution_count": 73,
   "id": "9f37fb4f",
   "metadata": {
    "vscode": {
     "languageId": "python"
    }
   },
   "outputs": [
    {
     "data": {
      "text/html": [
       "<div>\n",
       "<style scoped>\n",
       "    .dataframe tbody tr th:only-of-type {\n",
       "        vertical-align: middle;\n",
       "    }\n",
       "\n",
       "    .dataframe tbody tr th {\n",
       "        vertical-align: top;\n",
       "    }\n",
       "\n",
       "    .dataframe thead th {\n",
       "        text-align: right;\n",
       "    }\n",
       "</style>\n",
       "<table border=\"1\" class=\"dataframe\">\n",
       "  <thead>\n",
       "    <tr style=\"text-align: right;\">\n",
       "      <th></th>\n",
       "      <th>particle_id</th>\n",
       "      <th>this_turn</th>\n",
       "      <th>int</th>\n",
       "    </tr>\n",
       "  </thead>\n",
       "  <tbody>\n",
       "    <tr>\n",
       "      <th>0</th>\n",
       "      <td>65</td>\n",
       "      <td>0</td>\n",
       "      <td>[MCS, VR, MCS]</td>\n",
       "    </tr>\n",
       "    <tr>\n",
       "      <th>1</th>\n",
       "      <td>72</td>\n",
       "      <td>0</td>\n",
       "      <td>[MCS, VR, MCS]</td>\n",
       "    </tr>\n",
       "    <tr>\n",
       "      <th>2</th>\n",
       "      <td>172</td>\n",
       "      <td>0</td>\n",
       "      <td>[MCS, VR, MCS]</td>\n",
       "    </tr>\n",
       "    <tr>\n",
       "      <th>3</th>\n",
       "      <td>188</td>\n",
       "      <td>0</td>\n",
       "      <td>[VRCH, MCS]</td>\n",
       "    </tr>\n",
       "    <tr>\n",
       "      <th>4</th>\n",
       "      <td>469</td>\n",
       "      <td>0</td>\n",
       "      <td>[MCS]</td>\n",
       "    </tr>\n",
       "    <tr>\n",
       "      <th>...</th>\n",
       "      <td>...</td>\n",
       "      <td>...</td>\n",
       "      <td>...</td>\n",
       "    </tr>\n",
       "    <tr>\n",
       "      <th>217</th>\n",
       "      <td>452</td>\n",
       "      <td>17</td>\n",
       "      <td>[CH]</td>\n",
       "    </tr>\n",
       "    <tr>\n",
       "      <th>218</th>\n",
       "      <td>462</td>\n",
       "      <td>17</td>\n",
       "      <td>[MCS, VR, MCS]</td>\n",
       "    </tr>\n",
       "    <tr>\n",
       "      <th>219</th>\n",
       "      <td>352</td>\n",
       "      <td>17</td>\n",
       "      <td>[CH]</td>\n",
       "    </tr>\n",
       "    <tr>\n",
       "      <th>220</th>\n",
       "      <td>293</td>\n",
       "      <td>17</td>\n",
       "      <td>[CH]</td>\n",
       "    </tr>\n",
       "    <tr>\n",
       "      <th>221</th>\n",
       "      <td>137</td>\n",
       "      <td>19</td>\n",
       "      <td>[CH]</td>\n",
       "    </tr>\n",
       "  </tbody>\n",
       "</table>\n",
       "<p>222 rows × 3 columns</p>\n",
       "</div>"
      ],
      "text/plain": [
       "     particle_id  this_turn             int\n",
       "0             65          0  [MCS, VR, MCS]\n",
       "1             72          0  [MCS, VR, MCS]\n",
       "2            172          0  [MCS, VR, MCS]\n",
       "3            188          0     [VRCH, MCS]\n",
       "4            469          0           [MCS]\n",
       "..           ...        ...             ...\n",
       "217          452         17            [CH]\n",
       "218          462         17  [MCS, VR, MCS]\n",
       "219          352         17            [CH]\n",
       "220          293         17            [CH]\n",
       "221          137         19            [CH]\n",
       "\n",
       "[222 rows x 3 columns]"
      ]
     },
     "execution_count": 73,
     "metadata": {},
     "output_type": "execute_result"
    }
   ],
   "source": [
    "imp_df"
   ]
  },
  {
   "cell_type": "code",
   "execution_count": 54,
   "id": "770b3823",
   "metadata": {
    "vscode": {
     "languageId": "python"
    }
   },
   "outputs": [],
   "source": [
    "df_part = part.to_pandas()\n",
    "drop_list = ['chi', 'charge_ratio', 'pdg_id', 'rvv', 'rpp', '_rng_s1', '_rng_s2', '_rng_s3', '_rng_s4', 'weight', 'ptau', 'q0','gamma0','beta0', 'mass0', 'start_tracking_at_element', 's', 't_sim', 'ay']\n",
    "float_variables = ['zeta', 'x', 'px', 'y', 'py', 'delta', 'p0c']\n",
    "int_variables = ['at_turn', 'particle_id', 'at_element', 'state', 'parent_particle_id']\n",
    "df_part.drop(drop_list, axis=1, inplace=True)\n",
    "df_part[float_variables] = df_part[float_variables].astype('float32')\n",
    "df_part[int_variables] = df_part[int_variables].astype('int32')"
   ]
  },
  {
   "cell_type": "code",
   "execution_count": 55,
   "id": "4587e799",
   "metadata": {
    "vscode": {
     "languageId": "python"
    }
   },
   "outputs": [
    {
     "data": {
      "text/html": [
       "<div>\n",
       "<style scoped>\n",
       "    .dataframe tbody tr th:only-of-type {\n",
       "        vertical-align: middle;\n",
       "    }\n",
       "\n",
       "    .dataframe tbody tr th {\n",
       "        vertical-align: top;\n",
       "    }\n",
       "\n",
       "    .dataframe thead th {\n",
       "        text-align: right;\n",
       "    }\n",
       "</style>\n",
       "<table border=\"1\" class=\"dataframe\">\n",
       "  <thead>\n",
       "    <tr style=\"text-align: right;\">\n",
       "      <th></th>\n",
       "      <th>x</th>\n",
       "      <th>px</th>\n",
       "      <th>ax</th>\n",
       "      <th>at_element</th>\n",
       "      <th>parent_particle_id</th>\n",
       "      <th>zeta</th>\n",
       "      <th>particle_id</th>\n",
       "      <th>state</th>\n",
       "      <th>py</th>\n",
       "      <th>y</th>\n",
       "      <th>at_turn</th>\n",
       "      <th>delta</th>\n",
       "      <th>p0c</th>\n",
       "    </tr>\n",
       "  </thead>\n",
       "  <tbody>\n",
       "    <tr>\n",
       "      <th>0</th>\n",
       "      <td>2.818861e-06</td>\n",
       "      <td>2.705058e-05</td>\n",
       "      <td>0.0</td>\n",
       "      <td>0</td>\n",
       "      <td>356</td>\n",
       "      <td>9.617581e-04</td>\n",
       "      <td>356</td>\n",
       "      <td>1</td>\n",
       "      <td>0.000349</td>\n",
       "      <td>0.000008</td>\n",
       "      <td>20</td>\n",
       "      <td>-5.066489e-06</td>\n",
       "      <td>6.800000e+12</td>\n",
       "    </tr>\n",
       "    <tr>\n",
       "      <th>1</th>\n",
       "      <td>2.176449e-07</td>\n",
       "      <td>3.888927e-05</td>\n",
       "      <td>0.0</td>\n",
       "      <td>0</td>\n",
       "      <td>375</td>\n",
       "      <td>1.098041e-04</td>\n",
       "      <td>375</td>\n",
       "      <td>1</td>\n",
       "      <td>0.000349</td>\n",
       "      <td>0.000007</td>\n",
       "      <td>20</td>\n",
       "      <td>-3.745426e-07</td>\n",
       "      <td>6.800000e+12</td>\n",
       "    </tr>\n",
       "    <tr>\n",
       "      <th>2</th>\n",
       "      <td>-1.198735e-05</td>\n",
       "      <td>-7.564727e-05</td>\n",
       "      <td>0.0</td>\n",
       "      <td>0</td>\n",
       "      <td>444</td>\n",
       "      <td>3.247385e-04</td>\n",
       "      <td>444</td>\n",
       "      <td>1</td>\n",
       "      <td>0.000346</td>\n",
       "      <td>0.000010</td>\n",
       "      <td>20</td>\n",
       "      <td>-1.548272e-06</td>\n",
       "      <td>6.800000e+12</td>\n",
       "    </tr>\n",
       "    <tr>\n",
       "      <th>3</th>\n",
       "      <td>-1.584320e-05</td>\n",
       "      <td>-7.777764e-05</td>\n",
       "      <td>0.0</td>\n",
       "      <td>0</td>\n",
       "      <td>430</td>\n",
       "      <td>5.722278e-04</td>\n",
       "      <td>430</td>\n",
       "      <td>1</td>\n",
       "      <td>0.000348</td>\n",
       "      <td>0.000005</td>\n",
       "      <td>20</td>\n",
       "      <td>-2.906881e-06</td>\n",
       "      <td>6.800000e+12</td>\n",
       "    </tr>\n",
       "    <tr>\n",
       "      <th>4</th>\n",
       "      <td>-6.913554e-06</td>\n",
       "      <td>-8.032560e-05</td>\n",
       "      <td>0.0</td>\n",
       "      <td>0</td>\n",
       "      <td>34</td>\n",
       "      <td>4.750945e-04</td>\n",
       "      <td>34</td>\n",
       "      <td>1</td>\n",
       "      <td>-0.000045</td>\n",
       "      <td>-0.000013</td>\n",
       "      <td>20</td>\n",
       "      <td>-2.370271e-06</td>\n",
       "      <td>6.800000e+12</td>\n",
       "    </tr>\n",
       "    <tr>\n",
       "      <th>...</th>\n",
       "      <td>...</td>\n",
       "      <td>...</td>\n",
       "      <td>...</td>\n",
       "      <td>...</td>\n",
       "      <td>...</td>\n",
       "      <td>...</td>\n",
       "      <td>...</td>\n",
       "      <td>...</td>\n",
       "      <td>...</td>\n",
       "      <td>...</td>\n",
       "      <td>...</td>\n",
       "      <td>...</td>\n",
       "      <td>...</td>\n",
       "    </tr>\n",
       "    <tr>\n",
       "      <th>495</th>\n",
       "      <td>1.008441e-02</td>\n",
       "      <td>1.809771e-04</td>\n",
       "      <td>0.0</td>\n",
       "      <td>74043</td>\n",
       "      <td>469</td>\n",
       "      <td>-1.609934e-06</td>\n",
       "      <td>469</td>\n",
       "      <td>-331</td>\n",
       "      <td>-0.000014</td>\n",
       "      <td>0.004184</td>\n",
       "      <td>0</td>\n",
       "      <td>-1.074204e-04</td>\n",
       "      <td>6.800000e+12</td>\n",
       "    </tr>\n",
       "    <tr>\n",
       "      <th>496</th>\n",
       "      <td>-1.294924e-04</td>\n",
       "      <td>-6.965682e-07</td>\n",
       "      <td>0.0</td>\n",
       "      <td>73357</td>\n",
       "      <td>494</td>\n",
       "      <td>4.702318e-11</td>\n",
       "      <td>494</td>\n",
       "      <td>-331</td>\n",
       "      <td>-0.000012</td>\n",
       "      <td>-0.000928</td>\n",
       "      <td>0</td>\n",
       "      <td>0.000000e+00</td>\n",
       "      <td>6.800000e+12</td>\n",
       "    </tr>\n",
       "    <tr>\n",
       "      <th>497</th>\n",
       "      <td>-4.554633e-04</td>\n",
       "      <td>4.667438e-06</td>\n",
       "      <td>0.0</td>\n",
       "      <td>73357</td>\n",
       "      <td>497</td>\n",
       "      <td>5.560485e-11</td>\n",
       "      <td>497</td>\n",
       "      <td>-331</td>\n",
       "      <td>-0.000012</td>\n",
       "      <td>-0.000928</td>\n",
       "      <td>0</td>\n",
       "      <td>0.000000e+00</td>\n",
       "      <td>6.800000e+12</td>\n",
       "    </tr>\n",
       "    <tr>\n",
       "      <th>498</th>\n",
       "      <td>4.111030e-04</td>\n",
       "      <td>-4.204631e-06</td>\n",
       "      <td>0.0</td>\n",
       "      <td>73357</td>\n",
       "      <td>476</td>\n",
       "      <td>5.105529e-11</td>\n",
       "      <td>476</td>\n",
       "      <td>-331</td>\n",
       "      <td>-0.000012</td>\n",
       "      <td>-0.000928</td>\n",
       "      <td>0</td>\n",
       "      <td>0.000000e+00</td>\n",
       "      <td>6.800000e+12</td>\n",
       "    </tr>\n",
       "    <tr>\n",
       "      <th>499</th>\n",
       "      <td>-5.220135e-04</td>\n",
       "      <td>7.876819e-06</td>\n",
       "      <td>0.0</td>\n",
       "      <td>73357</td>\n",
       "      <td>468</td>\n",
       "      <td>6.554570e-11</td>\n",
       "      <td>468</td>\n",
       "      <td>-331</td>\n",
       "      <td>-0.000012</td>\n",
       "      <td>-0.000928</td>\n",
       "      <td>0</td>\n",
       "      <td>0.000000e+00</td>\n",
       "      <td>6.800000e+12</td>\n",
       "    </tr>\n",
       "  </tbody>\n",
       "</table>\n",
       "<p>500 rows × 13 columns</p>\n",
       "</div>"
      ],
      "text/plain": [
       "                x            px   ax  at_element  parent_particle_id  \\\n",
       "0    2.818861e-06  2.705058e-05  0.0           0                 356   \n",
       "1    2.176449e-07  3.888927e-05  0.0           0                 375   \n",
       "2   -1.198735e-05 -7.564727e-05  0.0           0                 444   \n",
       "3   -1.584320e-05 -7.777764e-05  0.0           0                 430   \n",
       "4   -6.913554e-06 -8.032560e-05  0.0           0                  34   \n",
       "..            ...           ...  ...         ...                 ...   \n",
       "495  1.008441e-02  1.809771e-04  0.0       74043                 469   \n",
       "496 -1.294924e-04 -6.965682e-07  0.0       73357                 494   \n",
       "497 -4.554633e-04  4.667438e-06  0.0       73357                 497   \n",
       "498  4.111030e-04 -4.204631e-06  0.0       73357                 476   \n",
       "499 -5.220135e-04  7.876819e-06  0.0       73357                 468   \n",
       "\n",
       "             zeta  particle_id  state        py         y  at_turn  \\\n",
       "0    9.617581e-04          356      1  0.000349  0.000008       20   \n",
       "1    1.098041e-04          375      1  0.000349  0.000007       20   \n",
       "2    3.247385e-04          444      1  0.000346  0.000010       20   \n",
       "3    5.722278e-04          430      1  0.000348  0.000005       20   \n",
       "4    4.750945e-04           34      1 -0.000045 -0.000013       20   \n",
       "..            ...          ...    ...       ...       ...      ...   \n",
       "495 -1.609934e-06          469   -331 -0.000014  0.004184        0   \n",
       "496  4.702318e-11          494   -331 -0.000012 -0.000928        0   \n",
       "497  5.560485e-11          497   -331 -0.000012 -0.000928        0   \n",
       "498  5.105529e-11          476   -331 -0.000012 -0.000928        0   \n",
       "499  6.554570e-11          468   -331 -0.000012 -0.000928        0   \n",
       "\n",
       "            delta           p0c  \n",
       "0   -5.066489e-06  6.800000e+12  \n",
       "1   -3.745426e-07  6.800000e+12  \n",
       "2   -1.548272e-06  6.800000e+12  \n",
       "3   -2.906881e-06  6.800000e+12  \n",
       "4   -2.370271e-06  6.800000e+12  \n",
       "..            ...           ...  \n",
       "495 -1.074204e-04  6.800000e+12  \n",
       "496  0.000000e+00  6.800000e+12  \n",
       "497  0.000000e+00  6.800000e+12  \n",
       "498  0.000000e+00  6.800000e+12  \n",
       "499  0.000000e+00  6.800000e+12  \n",
       "\n",
       "[500 rows x 13 columns]"
      ]
     },
     "execution_count": 55,
     "metadata": {},
     "output_type": "execute_result"
    }
   ],
   "source": [
    "df_part"
   ]
  },
  {
   "cell_type": "code",
   "execution_count": null,
   "id": "13c8a108",
   "metadata": {
    "vscode": {
     "languageId": "python"
    }
   },
   "outputs": [],
   "source": [
    "def get_df_to_save(dict, df_part, num_particles, num_turns, epsilon = 0, start = False, x_dim = None, y_dim = None, jaw_L = None):\n",
    "\n",
    "    float_variables = ['zeta', 'x', 'px', 'y', 'py', 'delta', 'p0c']\n",
    "    int_variables = ['at_turn', 'particle_id', 'at_element', 'state', 'parent_particle_id']\n",
    "    variables = float_variables + int_variables\n",
    "    variables.remove('at_element')\n",
    "\n",
    "    var_dict = {}\n",
    "\n",
    "    for var in variables:\n",
    "        var_dict[var] = dict['data'][var].reshape((num_particles, num_turns))   \n",
    "    del dict\n",
    "    gc.enable()\n",
    "    gc.collect()\n",
    "\n",
    "    \n",
    "    impact_part_dict = {}\n",
    "    for key in var_dict.keys():\n",
    "        impact_part_dict[key] = []\n",
    "\n",
    "    if x_dim is not None and jaw_L is not None and y_dim is not None:\n",
    "\n",
    "        abs_y_low = jaw_L\n",
    "        abs_y_up = jaw_L + y_dim\n",
    "        abs_x_low = -x_dim/2\n",
    "        abs_x_up = x_dim/2\n",
    "\n",
    "        for part in range(num_particles):\n",
    "            for turn in range(num_turns):\n",
    "                if var_dict['state'][part, turn] > 0 and var_dict['x'][part, turn] > (abs_x_low - epsilon) and var_dict['x'][part, turn] < (abs_x_up + epsilon) and var_dict['y'][part, turn] > (abs_y_low - epsilon) and var_dict['y'][part, turn] < (abs_y_up + epsilon):\n",
    "                    for key in var_dict.keys():\n",
    "                        impact_part_dict[key].append(var_dict[key][part, turn])\n",
    "\n",
    "    elif x_dim is None and y_dim is None and jaw_L is not None:\n",
    "        abs_y_low = jaw_L\n",
    "\n",
    "        for part in range(num_particles):\n",
    "            for turn in range(num_turns):\n",
    "                if var_dict['state'][part, turn] > 0 and var_dict['y'][part, turn] > (abs_y_low - epsilon):\n",
    "                    for key in var_dict.keys():\n",
    "                        impact_part_dict[key].append(var_dict[key][part, turn])\n",
    "\n",
    "    else:\n",
    "        for part in range(num_particles):\n",
    "            for turn in range(num_turns):\n",
    "                if start and turn > 0:\n",
    "                    continue\n",
    "                else: \n",
    "                    if var_dict['state'][part, turn] > 0:\n",
    "                        for key in var_dict.keys():\n",
    "                            impact_part_dict[key].append(var_dict[key][part, turn])\n",
    "\n",
    "    del var_dict\n",
    "    gc.collect()\n",
    "\n",
    "\n",
    "    impact_part_df = pd.DataFrame(impact_part_dict)\n",
    "    del impact_part_dict\n",
    "    gc.collect()\n",
    "    \n",
    "    impact_part_df.rename(columns={'state': 'this_state'}, inplace=True)\n",
    "    impact_part_df.rename(columns={'at_turn': 'this_turn'}, inplace=True)\n",
    "    impact_part_df = pd.merge(impact_part_df, df_part[['at_element', 'state', 'at_turn', 'particle_id']], on='particle_id', how='left')\n",
    "    \n",
    "    impact_part_df[float_variables] = impact_part_df[float_variables].astype('float32')\n",
    "    impact_part_df[int_variables] = impact_part_df[int_variables].astype('int32')\n",
    "    impact_part_df['this_turn'] = impact_part_df['this_turn'].astype('int32')\n",
    "    impact_part_df['this_state'] = impact_part_df['this_state'].astype('int32')\n",
    "\n",
    "    \n",
    "    return impact_part_df\n",
    "    "
   ]
  },
  {
   "cell_type": "code",
   "execution_count": 74,
   "id": "b962326f",
   "metadata": {
    "vscode": {
     "languageId": "python"
    }
   },
   "outputs": [],
   "source": [
    "dfimp  = impacts.interactions_per_collimator(tcp)"
   ]
  },
  {
   "cell_type": "code",
   "execution_count": 75,
   "id": "e8c5c848",
   "metadata": {
    "vscode": {
     "languageId": "python"
    }
   },
   "outputs": [
    {
     "data": {
      "text/plain": [
       "pid  turn\n",
       "129  4                [MCS, A]\n",
       "82   12      [MCS, SD, MCS, A]\n",
       "Name: int, dtype: object"
      ]
     },
     "execution_count": 75,
     "metadata": {},
     "output_type": "execute_result"
    }
   ],
   "source": [
    "dfimp"
   ]
  },
  {
   "cell_type": "code",
   "execution_count": null,
   "id": "e741769b",
   "metadata": {
    "vscode": {
     "languageId": "python"
    }
   },
   "outputs": [],
   "source": []
  },
  {
   "cell_type": "code",
   "execution_count": null,
   "id": "363e72d2",
   "metadata": {
    "vscode": {
     "languageId": "python"
    }
   },
   "outputs": [],
   "source": []
  },
  {
   "cell_type": "markdown",
   "id": "e9228be5-a4bf-40bb-8e6f-690a72103769",
   "metadata": {},
   "source": [
    "# Crystal"
   ]
  },
  {
   "cell_type": "code",
   "execution_count": 6,
   "id": "feaf578f-60dd-402b-9299-9cbb7e8072e5",
   "metadata": {
    "vscode": {
     "languageId": "python"
    }
   },
   "outputs": [],
   "source": [
    "coll = xc.EverestCrystal(length=0.002, material=xc.materials.SiliconCrystal, bending_angle=149e-6,\n",
    "                         width=0.002, height=0.05, side='+', lattice='strip', jaw=0.001)\n",
    "\n",
    "num_part = int(1e5)\n",
    "x_init   = np.random.normal(loc=1.5e-3, scale=75.e-6, size=num_part)\n",
    "px_init  = np.random.uniform(low=-50.e-6, high=250.e-6, size=num_part)\n",
    "y_init   = np.random.normal(loc=0., scale=1e-3, size=num_part)\n",
    "py_init  = np.random.normal(loc=0., scale=5.e-6, size=num_part)\n",
    "part = xp.Particles(x=x_init, px=px_init, y=y_init, py=py_init, delta=0, p0c=4e11)\n",
    "part_init = part.copy()"
   ]
  },
  {
   "cell_type": "code",
   "execution_count": 7,
   "id": "55d94e45-61a4-4366-9e0e-61b49f5ba2ad",
   "metadata": {
    "vscode": {
     "languageId": "python"
    }
   },
   "outputs": [],
   "source": [
    "io_buffer = xt.new_io_buffer(capacity=int(2e7)) # 4-5 GB of memory\n",
    "coll.record_scatterings = True\n",
    "impacts = xt.start_internal_logging(elements=[coll], io_buffer=io_buffer, capacity=io_buffer.capacity)"
   ]
  },
  {
   "cell_type": "code",
   "execution_count": 8,
   "id": "d81aeb12-ba59-4da9-97e5-c24e67763494",
   "metadata": {
    "vscode": {
     "languageId": "python"
    }
   },
   "outputs": [
    {
     "name": "stdout",
     "output_type": "stream",
     "text": [
      "CPU times: user 60.9 ms, sys: 7.62 ms, total: 68.5 ms\n",
      "Wall time: 69.8 ms\n"
     ]
    }
   ],
   "source": [
    "%time coll.track(part)\n",
    "\n",
    "# Sort particles again\n",
    "part.sort(interleave_lost_particles=True)"
   ]
  },
  {
   "cell_type": "code",
   "execution_count": 9,
   "id": "262b400a-0dcc-471a-9281-dbfb7d6b06b0",
   "metadata": {
    "vscode": {
     "languageId": "python"
    }
   },
   "outputs": [
    {
     "data": {
      "image/png": "[encoded data removed]",
      "text/plain": [
       "<Figure size 1080x720 with 1 Axes>"
      ]
     },
     "metadata": {
      "needs_background": "light"
     },
     "output_type": "display_data"
    }
   ],
   "source": [
    "mask = (part.state > 0 ) & ( part.px - part_init.px < 250.e-6) & ( part.px - part_init.px > -50.e-6) #& mask2\n",
    "\n",
    "plt.figure(figsize=(15,10))\n",
    "_ = plt.hist2d(part_init.px[mask]*1.e6, part.px[mask]*1.e6 - part_init.px[mask]*1.e6, 500, norm=mpl.colors.LogNorm())\n",
    "plt.xlim(-30, 180)\n",
    "plt.ylim(-55, 205)\n",
    "plt.ylabel(r'$\\Delta\\theta$ [$\\mu$rad]')\n",
    "plt.xlabel(r'$\\theta_{in}$ [$\\mu$rad]')\n",
    "plt.tight_layout()"
   ]
  },
  {
   "cell_type": "code",
   "execution_count": 10,
   "id": "bb3f9818-b37e-4ff2-acce-641dc94cfc62",
   "metadata": {
    "vscode": {
     "languageId": "python"
    }
   },
   "outputs": [
    {
     "data": {
      "text/plain": [
       "9.107094106929761e-06"
      ]
     },
     "execution_count": 10,
     "metadata": {},
     "output_type": "execute_result"
    }
   ],
   "source": [
    "coll.critical_angle"
   ]
  },
  {
   "cell_type": "code",
   "execution_count": 11,
   "id": "2f91a6f9-6034-4108-9b32-d20826276c15",
   "metadata": {
    "vscode": {
     "languageId": "python"
    }
   },
   "outputs": [
    {
     "ename": "KeyError",
     "evalue": "4566757905035908622",
     "output_type": "error",
     "traceback": [
      "\u001b[0;31m---------------------------------------------------------------------------\u001b[0m",
      "\u001b[0;31mKeyError\u001b[0m                                  Traceback (most recent call last)",
      "\u001b[0;32m/tmp/cmaccani/ipykernel_53936/3964518640.py\u001b[0m in \u001b[0;36m<module>\u001b[0;34m\u001b[0m\n\u001b[0;32m----> 1\u001b[0;31m \u001b[0mimpacts\u001b[0m\u001b[0;34m.\u001b[0m\u001b[0mto_pandas\u001b[0m\u001b[0;34m(\u001b[0m\u001b[0;34m)\u001b[0m\u001b[0;34m\u001b[0m\u001b[0;34m\u001b[0m\u001b[0m\n\u001b[0m",
      "\u001b[0;32m/afs/cern.ch/user/c/cmaccani/xsuite/xcoll/xcoll/interaction_record/interaction_record.py\u001b[0m in \u001b[0;36mto_pandas\u001b[0;34m(self, frame)\u001b[0m\n\u001b[1;32m    202\u001b[0m                 \u001b[0;34m'turn'\u001b[0m\u001b[0;34m:\u001b[0m              \u001b[0mself\u001b[0m\u001b[0;34m.\u001b[0m\u001b[0mat_turn\u001b[0m\u001b[0;34m[\u001b[0m\u001b[0;34m:\u001b[0m\u001b[0mn_rows\u001b[0m\u001b[0;34m]\u001b[0m\u001b[0;34m,\u001b[0m\u001b[0;34m\u001b[0m\u001b[0;34m\u001b[0m\u001b[0m\n\u001b[1;32m    203\u001b[0m                 \u001b[0mcoll_header\u001b[0m\u001b[0;34m:\u001b[0m         \u001b[0;34m[\u001b[0m\u001b[0mself\u001b[0m\u001b[0;34m.\u001b[0m\u001b[0m_collimator_name\u001b[0m\u001b[0;34m(\u001b[0m\u001b[0melement_id\u001b[0m\u001b[0;34m)\u001b[0m \u001b[0;32mfor\u001b[0m \u001b[0melement_id\u001b[0m \u001b[0;32min\u001b[0m \u001b[0mself\u001b[0m\u001b[0;34m.\u001b[0m\u001b[0mat_element\u001b[0m\u001b[0;34m[\u001b[0m\u001b[0;34m:\u001b[0m\u001b[0mn_rows\u001b[0m\u001b[0;34m]\u001b[0m\u001b[0;34m]\u001b[0m\u001b[0;34m,\u001b[0m\u001b[0;34m\u001b[0m\u001b[0;34m\u001b[0m\u001b[0m\n\u001b[0;32m--> 204\u001b[0;31m                 \u001b[0;34m'interaction_type'\u001b[0m\u001b[0;34m:\u001b[0m  \u001b[0;34m[\u001b[0m\u001b[0minteractions\u001b[0m\u001b[0;34m[\u001b[0m\u001b[0minter\u001b[0m\u001b[0;34m]\u001b[0m \u001b[0;32mfor\u001b[0m \u001b[0minter\u001b[0m \u001b[0;32min\u001b[0m \u001b[0mself\u001b[0m\u001b[0;34m.\u001b[0m\u001b[0m_inter\u001b[0m\u001b[0;34m[\u001b[0m\u001b[0;34m:\u001b[0m\u001b[0mn_rows\u001b[0m\u001b[0;34m]\u001b[0m\u001b[0;34m]\u001b[0m\u001b[0;34m,\u001b[0m\u001b[0;34m\u001b[0m\u001b[0;34m\u001b[0m\u001b[0m\n\u001b[0m\u001b[1;32m    205\u001b[0m                 **{\n\u001b[1;32m    206\u001b[0m                     \u001b[0;34mf'{p}_{val}'\u001b[0m\u001b[0;34m:\u001b[0m \u001b[0mgetattr\u001b[0m\u001b[0;34m(\u001b[0m\u001b[0mself\u001b[0m\u001b[0;34m,\u001b[0m \u001b[0;34mf'{val}_{p}'\u001b[0m\u001b[0;34m)\u001b[0m\u001b[0;34m[\u001b[0m\u001b[0;34m:\u001b[0m\u001b[0mn_rows\u001b[0m\u001b[0;34m]\u001b[0m\u001b[0;34m\u001b[0m\u001b[0;34m\u001b[0m\u001b[0m\n",
      "\u001b[0;32m/afs/cern.ch/user/c/cmaccani/xsuite/xcoll/xcoll/interaction_record/interaction_record.py\u001b[0m in \u001b[0;36m<listcomp>\u001b[0;34m(.0)\u001b[0m\n\u001b[1;32m    202\u001b[0m                 \u001b[0;34m'turn'\u001b[0m\u001b[0;34m:\u001b[0m              \u001b[0mself\u001b[0m\u001b[0;34m.\u001b[0m\u001b[0mat_turn\u001b[0m\u001b[0;34m[\u001b[0m\u001b[0;34m:\u001b[0m\u001b[0mn_rows\u001b[0m\u001b[0;34m]\u001b[0m\u001b[0;34m,\u001b[0m\u001b[0;34m\u001b[0m\u001b[0;34m\u001b[0m\u001b[0m\n\u001b[1;32m    203\u001b[0m                 \u001b[0mcoll_header\u001b[0m\u001b[0;34m:\u001b[0m         \u001b[0;34m[\u001b[0m\u001b[0mself\u001b[0m\u001b[0;34m.\u001b[0m\u001b[0m_collimator_name\u001b[0m\u001b[0;34m(\u001b[0m\u001b[0melement_id\u001b[0m\u001b[0;34m)\u001b[0m \u001b[0;32mfor\u001b[0m \u001b[0melement_id\u001b[0m \u001b[0;32min\u001b[0m \u001b[0mself\u001b[0m\u001b[0;34m.\u001b[0m\u001b[0mat_element\u001b[0m\u001b[0;34m[\u001b[0m\u001b[0;34m:\u001b[0m\u001b[0mn_rows\u001b[0m\u001b[0;34m]\u001b[0m\u001b[0;34m]\u001b[0m\u001b[0;34m,\u001b[0m\u001b[0;34m\u001b[0m\u001b[0;34m\u001b[0m\u001b[0m\n\u001b[0;32m--> 204\u001b[0;31m                 \u001b[0;34m'interaction_type'\u001b[0m\u001b[0;34m:\u001b[0m  \u001b[0;34m[\u001b[0m\u001b[0minteractions\u001b[0m\u001b[0;34m[\u001b[0m\u001b[0minter\u001b[0m\u001b[0;34m]\u001b[0m \u001b[0;32mfor\u001b[0m \u001b[0minter\u001b[0m \u001b[0;32min\u001b[0m \u001b[0mself\u001b[0m\u001b[0;34m.\u001b[0m\u001b[0m_inter\u001b[0m\u001b[0;34m[\u001b[0m\u001b[0;34m:\u001b[0m\u001b[0mn_rows\u001b[0m\u001b[0;34m]\u001b[0m\u001b[0;34m]\u001b[0m\u001b[0;34m,\u001b[0m\u001b[0;34m\u001b[0m\u001b[0;34m\u001b[0m\u001b[0m\n\u001b[0m\u001b[1;32m    205\u001b[0m                 **{\n\u001b[1;32m    206\u001b[0m                     \u001b[0;34mf'{p}_{val}'\u001b[0m\u001b[0;34m:\u001b[0m \u001b[0mgetattr\u001b[0m\u001b[0;34m(\u001b[0m\u001b[0mself\u001b[0m\u001b[0;34m,\u001b[0m \u001b[0;34mf'{val}_{p}'\u001b[0m\u001b[0;34m)\u001b[0m\u001b[0;34m[\u001b[0m\u001b[0;34m:\u001b[0m\u001b[0mn_rows\u001b[0m\u001b[0;34m]\u001b[0m\u001b[0;34m\u001b[0m\u001b[0;34m\u001b[0m\u001b[0m\n",
      "\u001b[0;31mKeyError\u001b[0m: 4566757905035908622"
     ]
    }
   ],
   "source": [
    "impacts.to_pandas()"
   ]
  },
  {
   "cell_type": "code",
   "execution_count": 12,
   "id": "f18565d7-c314-49e7-bf73-9c0f57ecbbdc",
   "metadata": {
    "vscode": {
     "languageId": "python"
    }
   },
   "outputs": [
    {
     "ename": "ValueError",
     "evalue": "operands could not be broadcast together with shapes (20000000,) (0,) ",
     "output_type": "error",
     "traceback": [
      "\u001b[0;31m---------------------------------------------------------------------------\u001b[0m",
      "\u001b[0;31mValueError\u001b[0m                                Traceback (most recent call last)",
      "\u001b[0;32m/tmp/cmaccani/ipykernel_53936/3091664869.py\u001b[0m in \u001b[0;36m<module>\u001b[0;34m\u001b[0m\n\u001b[0;32m----> 1\u001b[0;31m \u001b[0mdf\u001b[0m \u001b[0;34m=\u001b[0m \u001b[0mimpacts\u001b[0m\u001b[0;34m.\u001b[0m\u001b[0minteractions_per_collimator\u001b[0m\u001b[0;34m(\u001b[0m\u001b[0;34m)\u001b[0m\u001b[0;34m\u001b[0m\u001b[0;34m\u001b[0m\u001b[0m\n\u001b[0m\u001b[1;32m      2\u001b[0m \u001b[0mdf\u001b[0m\u001b[0;34m\u001b[0m\u001b[0;34m\u001b[0m\u001b[0m\n",
      "\u001b[0;32m/afs/cern.ch/user/c/cmaccani/xsuite/xcoll/xcoll/interaction_record/interaction_record.py\u001b[0m in \u001b[0;36minteractions_per_collimator\u001b[0;34m(self, collimator, turn)\u001b[0m\n\u001b[1;32m    218\u001b[0m         \u001b[0;32mif\u001b[0m \u001b[0misinstance\u001b[0m\u001b[0;34m(\u001b[0m\u001b[0mcollimator\u001b[0m\u001b[0;34m,\u001b[0m \u001b[0mstr\u001b[0m\u001b[0;34m)\u001b[0m\u001b[0;34m:\u001b[0m\u001b[0;34m\u001b[0m\u001b[0;34m\u001b[0m\u001b[0m\n\u001b[1;32m    219\u001b[0m             \u001b[0mcollimator\u001b[0m \u001b[0;34m=\u001b[0m \u001b[0mself\u001b[0m\u001b[0;34m.\u001b[0m\u001b[0m_collimator_id\u001b[0m\u001b[0;34m(\u001b[0m\u001b[0mcollimator\u001b[0m\u001b[0;34m)\u001b[0m\u001b[0;34m\u001b[0m\u001b[0;34m\u001b[0m\u001b[0m\n\u001b[0;32m--> 220\u001b[0;31m         \u001b[0mmask\u001b[0m \u001b[0;34m=\u001b[0m \u001b[0;34m(\u001b[0m\u001b[0mself\u001b[0m\u001b[0;34m.\u001b[0m\u001b[0m_inter\u001b[0m \u001b[0;34m>\u001b[0m \u001b[0;36m0\u001b[0m\u001b[0;34m)\u001b[0m \u001b[0;34m&\u001b[0m \u001b[0;34m(\u001b[0m\u001b[0mself\u001b[0m\u001b[0;34m.\u001b[0m\u001b[0mat_element\u001b[0m \u001b[0;34m==\u001b[0m \u001b[0mcollimator\u001b[0m\u001b[0;34m)\u001b[0m\u001b[0;34m\u001b[0m\u001b[0;34m\u001b[0m\u001b[0m\n\u001b[0m\u001b[1;32m    221\u001b[0m         \u001b[0;32mif\u001b[0m \u001b[0mturn\u001b[0m \u001b[0;32mis\u001b[0m \u001b[0;32mnot\u001b[0m \u001b[0;32mNone\u001b[0m\u001b[0;34m:\u001b[0m\u001b[0;34m\u001b[0m\u001b[0;34m\u001b[0m\u001b[0m\n\u001b[1;32m    222\u001b[0m             \u001b[0mmask\u001b[0m \u001b[0;34m=\u001b[0m \u001b[0mmask\u001b[0m \u001b[0;34m&\u001b[0m \u001b[0;34m(\u001b[0m\u001b[0mself\u001b[0m\u001b[0;34m.\u001b[0m\u001b[0mat_turn\u001b[0m \u001b[0;34m==\u001b[0m \u001b[0mturn\u001b[0m\u001b[0;34m)\u001b[0m\u001b[0;34m\u001b[0m\u001b[0;34m\u001b[0m\u001b[0m\n",
      "\u001b[0;31mValueError\u001b[0m: operands could not be broadcast together with shapes (20000000,) (0,) "
     ]
    }
   ],
   "source": [
    "df = impacts.interactions_per_collimator()\n",
    "df"
   ]
  },
  {
   "cell_type": "code",
   "execution_count": 32,
   "id": "0cf5d11d-cb37-48fa-b636-6b226e313fb7",
   "metadata": {
    "vscode": {
     "languageId": "python"
    }
   },
   "outputs": [
    {
     "name": "stdout",
     "output_type": "stream",
     "text": [
      "10000000\n",
      "['CH'] 376489\n",
      "['CH', 'A'] 368\n",
      "['CH', 'C', 'MCS'] 1\n",
      "['CH', 'DCH', 'MCS'] 20592\n",
      "['CH', 'DCH', 'MCS', 'A'] 48\n",
      "['CH', 'DCH', 'MCS', 'PN', 'MCS'] 20\n",
      "['CH', 'DCH', 'MCS', 'PN', 'MCS', 'VR', 'MCS'] 2\n",
      "['CH', 'DCH', 'MCS', 'PP', 'MCS'] 4\n",
      "['CH', 'DCH', 'MCS', 'SD', 'MCS'] 2\n",
      "['CH', 'DCH', 'MCS', 'VC', 'CH'] 47\n",
      "['CH', 'DCH', 'MCS', 'VC', 'CH', 'DCH', 'MCS'] 2\n",
      "['CH', 'DCH', 'MCS', 'VC', 'CH', 'DCH', 'MCS', 'VR', 'MCS'] 4\n",
      "['CH', 'DCH', 'MCS', 'VC', 'MCS'] 6\n",
      "['CH', 'DCH', 'MCS', 'VC', 'MCS', 'VR', 'MCS'] 2\n",
      "['CH', 'DCH', 'MCS', 'VR', 'MCS'] 19683\n",
      "['CH', 'DCH', 'MCS', 'VR', 'MCS', 'A'] 44\n",
      "['CH', 'DCH', 'MCS', 'VR', 'MCS', 'PN', 'MCS'] 11\n",
      "['CH', 'DCH', 'MCS', 'VR', 'MCS', 'PN', 'MCS', 'VR', 'MCS'] 3\n",
      "['CH', 'DCH', 'MCS', 'VR', 'MCS', 'PP', 'MCS'] 1\n",
      "['CH', 'DCH', 'MCS', 'VR', 'MCS', 'SD', 'MCS'] 3\n",
      "['CH', 'PN', 'MCS'] 112\n",
      "['CH', 'PN', 'MCS', 'VR', 'MCS'] 29\n",
      "['CH', 'PP', 'MCS'] 28\n",
      "['CH', 'PP', 'MCS', 'VR', 'MCS'] 1\n",
      "['CH', 'SD', 'MCS'] 25\n",
      "['MCS'] 4792017\n",
      "['MCS', 'A'] 31153\n",
      "['MCS', 'C', 'MCS'] 23\n",
      "['MCS', 'C', 'MCS', 'VR', 'MCS'] 5\n",
      "['MCS', 'PN', 'MCS'] 10067\n",
      "['MCS', 'PN', 'MCS', 'A'] 26\n",
      "['MCS', 'PN', 'MCS', 'PN', 'MCS'] 12\n",
      "['MCS', 'PN', 'MCS', 'PN', 'MCS', 'VR', 'MCS'] 2\n",
      "['MCS', 'PN', 'MCS', 'SD', 'MCS'] 1\n",
      "['MCS', 'PN', 'MCS', 'VC', 'CH'] 3\n",
      "['MCS', 'PN', 'MCS', 'VR', 'MCS'] 1954\n",
      "['MCS', 'PN', 'MCS', 'VR', 'MCS', 'A'] 5\n",
      "['MCS', 'PN', 'MCS', 'VR', 'MCS', 'PN', 'MCS'] 1\n",
      "['MCS', 'PP', 'MCS'] 2316\n",
      "['MCS', 'PP', 'MCS', 'A'] 9\n",
      "['MCS', 'PP', 'MCS', 'PN', 'MCS'] 3\n",
      "['MCS', 'PP', 'MCS', 'SD', 'MCS'] 1\n",
      "['MCS', 'PP', 'MCS', 'VC', 'CH'] 1\n",
      "['MCS', 'PP', 'MCS', 'VR', 'MCS'] 172\n",
      "['MCS', 'SD', 'MCS'] 2038\n",
      "['MCS', 'SD', 'MCS', 'A'] 2\n",
      "['MCS', 'SD', 'MCS', 'PN', 'MCS'] 2\n",
      "['MCS', 'SD', 'MCS', 'VR', 'MCS'] 160\n",
      "['MCS', 'VC', 'CH'] 9375\n",
      "['MCS', 'VC', 'CH', 'A'] 19\n",
      "['MCS', 'VC', 'CH', 'DCH', 'MCS'] 298\n",
      "['MCS', 'VC', 'CH', 'DCH', 'MCS', 'A'] 2\n",
      "['MCS', 'VC', 'CH', 'DCH', 'MCS', 'VR', 'MCS'] 277\n",
      "['MCS', 'VC', 'CH', 'DCH', 'MCS', 'VR', 'MCS', 'A'] 1\n",
      "['MCS', 'VC', 'CH', 'PN', 'MCS'] 6\n",
      "['MCS', 'VC', 'CH', 'PN', 'MCS', 'VR', 'MCS'] 2\n",
      "['MCS', 'VC', 'CH', 'PP', 'MCS'] 1\n",
      "['MCS', 'VC', 'MCS'] 1319\n",
      "['MCS', 'VC', 'MCS', 'A'] 2\n",
      "['MCS', 'VC', 'MCS', 'VR', 'MCS'] 1249\n",
      "['MCS', 'VC', 'MCS', 'VR', 'MCS', 'A'] 1\n",
      "['MCS', 'VR', 'MCS'] 4709218\n",
      "['MCS', 'VR', 'MCS', 'A'] 9733\n",
      "['MCS', 'VR', 'MCS', 'C', 'MCS'] 11\n",
      "['MCS', 'VR', 'MCS', 'C', 'MCS', 'VR', 'MCS'] 2\n",
      "['MCS', 'VR', 'MCS', 'PN', 'MCS'] 3445\n",
      "['MCS', 'VR', 'MCS', 'PN', 'MCS', 'A'] 3\n",
      "['MCS', 'VR', 'MCS', 'PN', 'MCS', 'VC', 'CH'] 1\n",
      "['MCS', 'VR', 'MCS', 'PN', 'MCS', 'VR', 'MCS'] 330\n",
      "['MCS', 'VR', 'MCS', 'PN', 'MCS', 'VR', 'MCS', 'A'] 1\n",
      "['MCS', 'VR', 'MCS', 'PP', 'MCS'] 802\n",
      "['MCS', 'VR', 'MCS', 'PP', 'MCS', 'A'] 2\n",
      "['MCS', 'VR', 'MCS', 'PP', 'MCS', 'PN', 'MCS'] 2\n",
      "['MCS', 'VR', 'MCS', 'PP', 'MCS', 'VR', 'MCS'] 25\n",
      "['MCS', 'VR', 'MCS', 'SD', 'MCS'] 655\n",
      "['MCS', 'VR', 'MCS', 'SD', 'MCS', 'A'] 1\n",
      "['MCS', 'VR', 'MCS', 'SD', 'MCS', 'PN', 'MCS'] 1\n",
      "['MCS', 'VR', 'MCS', 'SD', 'MCS', 'SD', 'MCS'] 1\n",
      "['MCS', 'VR', 'MCS', 'SD', 'MCS', 'VR', 'MCS'] 22\n",
      "['MCS', 'VR', 'MCS', 'VC', 'CH'] 14\n",
      "['MCS', 'VR', 'MCS', 'VC', 'MCS'] 1\n",
      "['MCS', 'VR', 'MCS', 'VC', 'MCS', 'VR', 'MCS'] 2\n",
      "['MCS', 'VR', 'MCS', 'VR', 'MCS'] 5669\n",
      "['MCS', 'VR', 'MCS', 'VR', 'MCS', 'A'] 6\n",
      "['MCS', 'VR', 'MCS', 'VR', 'MCS', 'PN', 'MCS'] 1\n"
     ]
    }
   ],
   "source": [
    "result = np.unique(df.values, return_counts=True)\n",
    "print(result[1].sum())\n",
    "for inter, n in zip(result[0], result[1]):\n",
    "    print(inter, n)"
   ]
  },
  {
   "cell_type": "code",
   "execution_count": 34,
   "id": "2f73ef6b-6fea-45e8-adae-d813493d1550",
   "metadata": {
    "vscode": {
     "languageId": "python"
    }
   },
   "outputs": [
    {
     "data": {
      "text/html": [
       "<div>\n",
       "<style scoped>\n",
       "    .dataframe tbody tr th:only-of-type {\n",
       "        vertical-align: middle;\n",
       "    }\n",
       "\n",
       "    .dataframe tbody tr th {\n",
       "        vertical-align: top;\n",
       "    }\n",
       "\n",
       "    .dataframe thead th {\n",
       "        text-align: right;\n",
       "    }\n",
       "</style>\n",
       "<table border=\"1\" class=\"dataframe\">\n",
       "  <thead>\n",
       "    <tr style=\"text-align: right;\">\n",
       "      <th></th>\n",
       "      <th>turn</th>\n",
       "      <th>collimator_id</th>\n",
       "      <th>jaw</th>\n",
       "      <th>id</th>\n",
       "      <th>x</th>\n",
       "      <th>px</th>\n",
       "      <th>y</th>\n",
       "      <th>py</th>\n",
       "      <th>zeta</th>\n",
       "      <th>delta</th>\n",
       "      <th>energy</th>\n",
       "      <th>mass</th>\n",
       "      <th>charge</th>\n",
       "      <th>z</th>\n",
       "      <th>a</th>\n",
       "      <th>pdgid</th>\n",
       "    </tr>\n",
       "  </thead>\n",
       "  <tbody>\n",
       "  </tbody>\n",
       "</table>\n",
       "</div>"
      ],
      "text/plain": [
       "Empty DataFrame\n",
       "Columns: [turn, collimator_id, jaw, id, x, px, y, py, zeta, delta, energy, mass, charge, z, a, pdgid]\n",
       "Index: []"
      ]
     },
     "execution_count": 34,
     "metadata": {},
     "output_type": "execute_result"
    }
   ],
   "source": [
    "impacts.first_touch_per_turn()"
   ]
  },
  {
   "cell_type": "code",
   "execution_count": null,
   "id": "9e8c5b9e-7748-4a6a-8508-8c050543eed6",
   "metadata": {
    "vscode": {
     "languageId": "python"
    }
   },
   "outputs": [],
   "source": []
  }
 ],
 "metadata": {
  "kernelspec": {
   "display_name": "LCG view 104 + venv",
   "language": "python-custom",
   "name": "lcg-view"
  },
  "language_info": {
   "codemirror_mode": {
    "name": "ipython",
    "version": 3
   },
   "file_extension": ".py",
   "mimetype": "text/x-python",
   "name": "python-custom",
   "nbconvert_exporter": "python",
   "pygments_lexer": "ipython3",
   "version": "3.9.12"
  }
 },
 "nbformat": 4,
 "nbformat_minor": 5
}
