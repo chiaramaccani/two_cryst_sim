{
 "cells": [
  {
   "cell_type": "code",
   "execution_count": 1,
   "metadata": {},
   "outputs": [
    {
     "data": {
      "application/vnd.jupyter.widget-view+json": {
       "model_id": "41bffd2da5364b4784e87f096ed7b1f7",
       "version_major": 2,
       "version_minor": 0
      },
      "text/plain": [
       "Loading line from dict:   0%|          | 0/101993 [00:00<?, ?it/s]"
      ]
     },
     "metadata": {},
     "output_type": "display_data"
    },
    {
     "name": "stdout",
     "output_type": "stream",
     "text": [
      "Done loading line from dict.           \n",
      "Installing tdisb.a4l2.b1        as EverestCollimator\n",
      "Installing tcdqa.b4r6.b1        as EverestCollimator\n",
      "Installing tcsg.b4l7.b1         as EverestCollimator\n",
      "Installing tcsg.6r7.b1          as EverestCollimator\n",
      "Installing tcsg.d5r7.b1         as EverestCollimator\n",
      "Installing tcp.c6l7.b1          as EverestCollimator\n",
      "Installing tctph.4l1.b1         as EverestCollimator\n",
      "Installing tcla.b5r3.b1         as EverestCollimator\n",
      "Installing tcsg.a6l7.b1         as EverestCollimator\n",
      "Installing tcsg.e5r7.b1         as EverestCollimator\n",
      "Installing tcld.a11r2.b1        as EverestCollimator\n",
      "Installing tcsg.a4r7.b1         as EverestCollimator\n",
      "Installing tcspm.b4l7.b1        as EverestCollimator\n",
      "Installing tcla.a7r7.b1         as EverestCollimator\n",
      "Installing tcsg.a5r3.b1         as EverestCollimator\n",
      "Installing tcsp.a4r6.b1         as EverestCollimator\n",
      "Installing tctph.4l2.b1         as EverestCollimator\n",
      "Installing tcla.a6r7.b1         as EverestCollimator\n",
      "Installing tclib.6r2.b1         as EverestCollimator\n",
      "Installing tcla.a5r3.b1         as EverestCollimator\n",
      "Installing tcsg.4r3.b1          as EverestCollimator\n",
      "Installing tcspm.e5r7.b1        as EverestCollimator\n",
      "Installing tcla.d6r7.b1         as EverestCollimator\n",
      "Installing tcp.6l3.b1           as EverestCollimator\n",
      "Installing tdisa.a4l2.b1        as EverestCollimator\n",
      "Installing tctpv.4l5.b1         as EverestCollimator\n",
      "Installing tcla.6r3.b1          as EverestCollimator\n",
      "Installing tcdqa.c4r6.b1        as EverestCollimator\n",
      "Installing tcdqa.a4r6.b1        as EverestCollimator\n",
      "Installing tcl.5r1.b1           as EverestCollimator\n",
      "Installing tctph.4l5.b1         as EverestCollimator\n",
      "Installing tcsg.d4l7.b1         as EverestCollimator\n",
      "Installing tdisc.a4l2.b1        as EverestCollimator\n",
      "Installing tcl.5r5.b1           as EverestCollimator\n",
      "Installing tclia.4r2            as EverestCollimator\n",
      "Installing tcsg.b5r7.b1         as EverestCollimator\n",
      "Installing tcsg.b5r3.b1         as EverestCollimator\n",
      "Installing tcp.d6l7.b1          as EverestCollimator\n",
      "Installing tcsg.a5l7.b1         as EverestCollimator\n",
      "Installing tcsg.5l3.b1          as EverestCollimator\n",
      "Installing tcspm.6r7.b1         as EverestCollimator\n",
      "Installing tcla.7r3.b1          as EverestCollimator\n",
      "Installing tctpv.4l8.b1         as EverestCollimator\n",
      "Installing tcl.4r1.b1           as EverestCollimator\n",
      "Installing tctpv.4l1.b1         as EverestCollimator\n",
      "Installing tcl.6r1.b1           as EverestCollimator\n",
      "Installing tcl.6r5.b1           as EverestCollimator\n",
      "Installing tcsg.a4l7.b1         as EverestCollimator\n",
      "Installing tcp.b6l7.b1          as EverestCollimator\n",
      "Installing tcla.c6r7.b1         as EverestCollimator\n",
      "Installing tcl.4r5.b1           as EverestCollimator\n",
      "Installing tcsg.b5l7.b1         as EverestCollimator\n",
      "Installing tcla.b6r7.b1         as EverestCollimator\n",
      "Installing tctph.4l8.b1         as EverestCollimator\n",
      "Installing tctpv.4l2.b1         as EverestCollimator\n"
     ]
    },
    {
     "data": {
      "application/vnd.jupyter.widget-view+json": {
       "model_id": "de5956446613494095f5102aabbef493",
       "version_major": 2,
       "version_minor": 0
      },
      "text/plain": [
       "Slicing line:   0%|          | 0/101993 [00:00<?, ?it/s]"
      ]
     },
     "metadata": {},
     "output_type": "display_data"
    },
    {
     "data": {
      "application/vnd.jupyter.widget-view+json": {
       "model_id": "7e108bf9cd0443df883b08e6e88c641f",
       "version_major": 2,
       "version_minor": 0
      },
      "text/plain": [
       "Checking aperture:   0%|          | 0/101944 [00:00<?, ?it/s]"
      ]
     },
     "metadata": {},
     "output_type": "display_data"
    },
    {
     "name": "stdout",
     "output_type": "stream",
     "text": [
      "Done checking aperture.           \n",
      "0 thin elements miss associated aperture (upstream):\n",
      "[]\n",
      "0 thick elements miss associated aperture (upstream or downstream):\n",
      "[]\n"
     ]
    }
   ],
   "source": [
    "import numpy as np\n",
    "import matplotlib as mpl\n",
    "import matplotlib.pyplot as plt\n",
    "\n",
    "import xobjects as xo\n",
    "import xtrack as xt\n",
    "import xpart as xp\n",
    "import xcoll as xc\n",
    "\n",
    "# ============================================\n",
    "# From line\n",
    "# ============================================\n",
    "\n",
    "# Get line and collimators\n",
    "line = xt.Line.from_json(xc._pkg_root / '..' / 'examples' / 'machines' / 'lhc_run3_b1.json')\n",
    "\n",
    "coll_manager = xc.CollimatorDatabase.from_yaml(xc._pkg_root / '..' / 'examples' / 'colldb' / 'lhc_run3.yaml', beam=1)\n",
    "coll_manager.install_everest_collimators(verbose=True, line=line)\n",
    "df_with_coll = line.check_aperture()\n",
    "assert not np.any(df_with_coll.has_aperture_problem)"
   ]
  },
  {
   "cell_type": "code",
   "execution_count": 2,
   "metadata": {},
   "outputs": [],
   "source": [
    "\n",
    "# ============================================\n",
    "# With crystal\n",
    "# ============================================\n",
    "coll_cry = xc.EverestCrystal(length=0.002, material=xc.materials.SiliconCrystal, bending_angle=149e-6,\n",
    "                         width=0.002, height=0.05, side='+', lattice='strip', jaw=0.001)\n",
    "\n",
    "num_part = int(50000)\n",
    "x_init   = np.random.normal(loc=1.5e-3, scale=75.e-6, size=num_part)\n",
    "px_init  = np.random.uniform(low=-50.e-6, high=250.e-6, size=num_part)\n",
    "y_init   = np.random.normal(loc=0., scale=1e-3, size=num_part)\n",
    "py_init  = np.random.normal(loc=0., scale=5.e-6, size=num_part)\n",
    "part = xp.Particles(x=x_init, px=px_init, y=y_init, py=py_init, delta=0, p0c=4e11)\n",
    "\n",
    "impacts_crystal = xc.InteractionRecord.start(elements=[coll_cry], names='TPCH')\n",
    "coll_cry.track(part)\n",
    "part.sort(interleave_lost_particles=True)\n",
    "\n",
    "impacts_crystal.to_pandas()\n",
    "df_crystal = impacts_crystal.interactions_per_collimator()\n"
   ]
  },
  {
   "cell_type": "code",
   "execution_count": 6,
   "metadata": {},
   "outputs": [
    {
     "data": {
      "text/plain": [
       "pid    turn\n",
       "0      0                [MCS]\n",
       "1      0                [MCS]\n",
       "2      0       [MCS, VR, MCS]\n",
       "3      0               [AMVR]\n",
       "4      0               [AMVR]\n",
       "                    ...      \n",
       "49995  0       [MCS, VR, MCS]\n",
       "49996  0       [MCS, VR, MCS]\n",
       "49997  0       [MCS, VR, MCS]\n",
       "49998  0                [MCS]\n",
       "49999  0       [MCS, VR, MCS]\n",
       "Name: int, Length: 50000, dtype: object"
      ]
     },
     "execution_count": 6,
     "metadata": {},
     "output_type": "execute_result"
    }
   ],
   "source": [
    "df_crystal"
   ]
  },
  {
   "cell_type": "code",
   "execution_count": null,
   "metadata": {},
   "outputs": [],
   "source": [
    "def int_list(ids, df=df):\n",
    "    result = df[ids]\n",
    "    r2 = np.unique(result, return_counts=True)\n",
    "    print('Total number: ', r2[1].sum())\n",
    "    for inter, n in zip(r2[0], r2[1]):\n",
    "        print(inter, n)"
   ]
  },
  {
   "cell_type": "code",
   "execution_count": null,
   "metadata": {},
   "outputs": [],
   "source": []
  }
 ],
 "metadata": {
  "kernelspec": {
   "display_name": "LCG view 104 + venv",
   "language": "python-custom",
   "name": "lcg-view"
  },
  "language_info": {
   "codemirror_mode": {
    "name": "ipython",
    "version": 3
   },
   "file_extension": ".py",
   "mimetype": "text/x-python",
   "name": "python",
   "nbconvert_exporter": "python",
   "pygments_lexer": "ipython3",
   "version": "3.9.12"
  }
 },
 "nbformat": 4,
 "nbformat_minor": 2
}
