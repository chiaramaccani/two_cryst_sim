{
 "cells": [
  {
   "cell_type": "code",
   "execution_count": 1,
   "id": "b41b6e6e",
   "metadata": {
    "vscode": {
     "languageId": "python"
    }
   },
   "outputs": [
    {
     "name": "stdout",
     "output_type": "stream",
     "text": [
      "No pytransport functionality\n",
      "No pytransport functionality\n",
      "\n",
      "xcoll version:  0.5.12\n",
      "xtrack version:  0.72.2\n",
      "xpart version:  0.19.3\n",
      "xobjects version:  0.4.6\n"
     ]
    }
   ],
   "source": [
    "import numpy as np\n",
    "import json\n",
    "import yaml\n",
    "import matplotlib\n",
    "import matplotlib.pyplot as plt\n",
    "import pandas as pd\n",
    "import seaborn as sns\n",
    "\n",
    "from matplotlib.ticker import MaxNLocator\n",
    "\n",
    "import xobjects as xo\n",
    "import xtrack as xt\n",
    "import xpart as xp\n",
    "import xcoll as xc\n",
    "\n",
    "import pymadx\n",
    "\n",
    "from xcoll_plotting import plot_functions as xcp\n",
    "\n",
    "print('\\nxcoll version: ', xc.__version__)\n",
    "print('xtrack version: ', xt.__version__)\n",
    "print('xpart version: ', xp.__version__)\n",
    "print('xobjects version: ', xo.__version__)\n",
    "\n",
    "context = xo.ContextCpu() \n",
    "seed = 1927034333"
   ]
  },
  {
   "cell_type": "code",
   "execution_count": 2,
   "id": "8bcf896f",
   "metadata": {
    "vscode": {
     "languageId": "python"
    }
   },
   "outputs": [],
   "source": [
    "# ------------ TRACKING FUNCTIONS ----------------\n",
    "\n",
    "def change_coordinates_to_b1(df):\n",
    "    if 's' in df.columns:\n",
    "        df['s'] = end_s - df['s']\n",
    "    else:\n",
    "        new_index = [end_s - i for i in df.index.values]\n",
    "        df.index = new_index \n",
    "    return df\n",
    "\n",
    "\n",
    "\n",
    "def reset_coord_cry_tracking(df, twiss, loc_start, loc_name_start, loc_stop_name = 'ip1', turn = 1):\n",
    "    names = twiss.to_pandas().name.to_numpy()\n",
    "    idx_start = np.where(names == loc_name_start)[0][0]\n",
    "    idx_stop = np.where(names == loc_stop_name)[0][0]\n",
    "    eps =  1e-11\n",
    "    df = df.iloc[idx_start:idx_stop]\n",
    "    names = names[idx_start:idx_stop]\n",
    "    df = df.copy()\n",
    "    if turn == 1:\n",
    "        df['s'] = np.where(df['s'] <= end_s - loc_start + eps, end_s - loc_start - df['s'], 2 * end_s - loc_start - df['s'])\n",
    "    else:\n",
    "        df = change_coordinates_to_b1(df)\n",
    "    df['name'] = names\n",
    "    df = df.sort_values(by=\"s\")\n",
    "    return df\n",
    "\n",
    "\n",
    "def CRY_tw(gap, emittance, element, tw, dim= 'x'):\n",
    "    mp = 0.9382e9\n",
    "    emittance_n = 3.5e-6\n",
    "    gamma = energy/mp\n",
    "    beta = np.sqrt(1-1/(gamma*gamma))\n",
    "    emittance = emittance_n/(beta*gamma)\n",
    "\n",
    "    beta = tw['bet'+dim, element]\n",
    "    alpha = tw['alf'+dim, element]\n",
    "\n",
    "    return gap*np.sqrt(emittance*beta), -gap*alpha*np.sqrt(emittance/beta)\n",
    "\n",
    "\n",
    "def track_particle(part, line, tw, turn = 1, CRY_name = 'tcpch.a5r7.b2'):\n",
    "    line.scattering.enable() \n",
    "    idx_CRY = line.element_names.index(CRY_name)\n",
    "    if turn > 1:\n",
    "        line.track(part, ele_start=idx_CRY, ele_stop = idx_CRY, num_turns = turn)\n",
    "    if part.state > 0:\n",
    "        start_element =  line.element_names[part.at_element[0]]\n",
    "        start_loc = line.get_s_position()[part.at_element[0]]\n",
    "        line.track(part, turn_by_turn_monitor = 'ONE_TURN_EBE', ele_start=idx_CRY)\n",
    "        df1 = reset_coord_cry_tracking(pd.DataFrame(list(zip(line.record_last_track.s[0], line.record_last_track.x[0], line.record_last_track.y[0], line.record_last_track.py[0])), columns =['s', 'x', 'y', 'py']), \n",
    "                                        tw, loc_start = start_loc, loc_name_start = start_element, loc_stop_name = line.element_names[part.at_element[0]-1], turn = turn)\n",
    "    else:\n",
    "        df1 = pd.DataFrame(columns =['s', 'x', 'y', 'py'])\n",
    "    if part.state >0:\n",
    "        new_start_element =  line.element_names[part.at_element[0]]\n",
    "        new_start_loc = line.get_s_position()[part.at_element[0]]\n",
    "        line.track(part, turn_by_turn_monitor = 'ONE_TURN_EBE', ele_stop=idx_CRY)\n",
    "        df2 = reset_coord_cry_tracking(pd.DataFrame(list(zip(line.record_last_track.s[0],line.record_last_track.x[0], line.record_last_track.y[0], line.record_last_track.py[0])), columns =['s', 'x', 'y', 'py']), \n",
    "                                          tw, loc_start = new_start_loc, loc_name_start = new_start_element, loc_stop_name = line.element_names[part.at_element[0]-1], turn = turn)\n",
    "    else:\n",
    "        df2 = pd.DataFrame(columns =['s', 'x', 'y', 'py'])\n",
    "    line.scattering.disable()\n",
    "    return df1, df2\n",
    "\n",
    "\n",
    "# ------------ PLOTTING FUNCTIONS ----------------\n",
    "\n",
    "def fill_between(ax, df_upper, df_lower):\n",
    "    if df_upper.empty or df_lower.empty:\n",
    "        return\n",
    "    if len(df_upper) > len(df_lower):\n",
    "        idx = len(df_upper) - len(df_lower)\n",
    "        df1 = df_upper.iloc[idx:]\n",
    "        df2 = df_lower\n",
    "    else:\n",
    "        idx = len(df_lower) - len(df_upper)\n",
    "        df1 = df_upper\n",
    "        df2 = df_lower.iloc[idx:]\n",
    "\n",
    "    ax.fill_between(df1['s'], df1['y'], df2['y'], color='blue', alpha=0.3)\n",
    "\n",
    "def get_jaw(ax, name, length, tw, end_s, hgap_L, angle = 90, hgap_R = None, plot_skew = False,  color = None, plane = \"H\"):\n",
    "\n",
    "    ang_ok = 0 if plane == \"H\" else 90\n",
    "    ang_not_ok = 90 if plane == \"H\" else 0\n",
    "   \n",
    "    \n",
    "    if (plot_skew or angle == ang_ok) and angle != ang_not_ok:\n",
    "            if color is None:\n",
    "                color = 'k' if angle == ang_ok else 'grey'\n",
    "            s_centre = end_s - tw['s', name]\n",
    "            sstart  = s_centre - length/2\n",
    "            send    = s_centre + length/2\n",
    "            w       = send-sstart\n",
    "            top_lim = plt.ylim()[1]*2\n",
    "            bot_lim = plt.ylim()[0]*2\n",
    "\n",
    "            if hgap_L is not None:\n",
    "                hgap_L_to_set = hgap_L * np.cos(np.deg2rad(angle)) if plane == \"H\" else hgap_L * np.sin(np.deg2rad(angle))\n",
    "                h       = top_lim - hgap_L_to_set\n",
    "                jaw = matplotlib.patches.Rectangle((sstart, hgap_L), w, h, angle=0.0, \n",
    "                                                        fc=color, ec=color, zorder=10)\n",
    "                ax.add_patch(jaw)\n",
    "            \n",
    "            if hgap_R is not None:\n",
    "                hgap_R_to_set = hgap_R * np.cos(np.deg2rad(angle)) if plane == \"H\" else hgap_R * np.sin(np.deg2rad(angle))\n",
    "                h = hgap_R_to_set - bot_lim \n",
    "                jaw = matplotlib.patches.Rectangle((sstart, bot_lim), w, h, angle=0.0, \n",
    "                                                    fc=color, ec=color, zorder=10)\n",
    "                ax.add_patch(jaw)\n",
    "\n",
    "def convert_mm_to_m(val):\n",
    "    return val * 1e-3\n"
   ]
  },
  {
   "cell_type": "code",
   "execution_count": 3,
   "id": "b7bcc86a",
   "metadata": {
    "vscode": {
     "languageId": "python"
    }
   },
   "outputs": [
    {
     "name": "stdout",
     "output_type": "stream",
     "text": [
      "pymadx.Tfs.Load> normal file\n"
     ]
    }
   ],
   "source": [
    "# -------------- CONSTANT PARAMETERS -----------------\n",
    "beam =  2 \n",
    "plane = 'H' \n",
    "emittance_n = 3.5e-6\n",
    "layout_file = \"../input_files/2023_Run3_flat_top/layout_flat_top_b2.tfs\"  \n",
    "layout_data_object = pymadx.Data.Tfs(layout_file)\n"
   ]
  },
  {
   "cell_type": "code",
   "execution_count": 4,
   "id": "82b4f461",
   "metadata": {
    "vscode": {
     "languageId": "python"
    }
   },
   "outputs": [],
   "source": [
    "# -------------- SETTABLE PARAMETERS -----------------\n",
    "\n",
    "coll_file = 'collimators_MD.yaml'\n",
    "line_file = 'track_injection_b2.json'\n",
    "sim_dict  = 'MD_dict.json'\n",
    "\n",
    "energy = 1000 # GeV\n",
    "\n",
    "CRY_length = 0.004\n",
    "CRY_bending_radius = 80\n",
    "CRY_bending_angle = CRY_length/CRY_bending_radius\n",
    "\n",
    "CRY_name = 'tcpch.a5r7.b2'\n",
    "TCSG_name = 'tcsg.b4r7.b2'"
   ]
  },
  {
   "cell_type": "code",
   "execution_count": 5,
   "id": "a468c5aa",
   "metadata": {
    "vscode": {
     "languageId": "python"
    }
   },
   "outputs": [
    {
     "data": {
      "application/vnd.jupyter.widget-view+json": {
       "model_id": "637c1c4b090c4be0a922ca599b7d39cd",
       "version_major": 2,
       "version_minor": 0
      },
      "text/plain": [
       "Loading line from dict:   0%|          | 0/102068 [00:00<?, ?it/s]"
      ]
     },
     "metadata": {},
     "output_type": "display_data"
    },
    {
     "name": "stdout",
     "output_type": "stream",
     "text": [
      "Done loading line from dict.           \n",
      "\n",
      "Particle energy: 999.6599731445312 GeV\n",
      "\n",
      "Installing tcl.4l5.b2           as EverestCollimator\n",
      "Installing tcla.d6l7.b2         as EverestCollimator\n",
      "Installing tcdqa.c4l6.b2        as EverestCollimator\n",
      "Installing tctph.4r2.b2         as EverestCollimator\n",
      "Installing tctpv.4r5.b2         as EverestCollimator\n",
      "Installing tcl.6l1.b2           as EverestCollimator\n",
      "Installing tclia.4l8            as EverestCollimator\n",
      "Installing tctpv.4r1.b2         as EverestCollimator\n",
      "Installing tcsg.d5l7.b2         as EverestCollimator\n",
      "Installing tcspm.6l7.b2         as EverestCollimator\n",
      "Installing tdisa.a4r8.b2        as EverestCollimator\n",
      "Installing tcla.a7l7.b2         as EverestCollimator\n",
      "Installing tcl.5l1.b2           as EverestCollimator\n",
      "Installing tcsg.a5l3.b2         as EverestCollimator\n",
      "Installing tcp.b6r7.b2          as EverestCollimator\n",
      "Installing tcp.d6r7.b2          as EverestCollimator\n",
      "Installing tcsg.b5l7.b2         as EverestCollimator\n",
      "Installing tcsg.5r3.b2          as EverestCollimator\n",
      "Installing tcsg.b5l3.b2         as EverestCollimator\n",
      "Installing tcspm.d4r7.b2        as EverestCollimator\n",
      "Installing tcsg.e5l7.b2         as EverestCollimator\n",
      "Installing tcsg.4l3.b2          as EverestCollimator\n",
      "Installing tcp.c6r7.b2          as EverestCollimator\n",
      "Installing tcsg.a4l7.b2         as EverestCollimator\n",
      "Installing tctpv.4r2.b2         as EverestCollimator\n",
      "Installing tctph.4r1.b2         as EverestCollimator\n",
      "Installing tcspm.b4r7.b2        as EverestCollimator\n",
      "Installing tcla.b5l3.b2         as EverestCollimator\n",
      "Installing tctph.4r8.b2         as EverestCollimator\n",
      "Installing tcdqa.a4l6.b2        as EverestCollimator\n",
      "Installing tcdqa.b4l6.b2        as EverestCollimator\n",
      "Installing tcld.a11l2.b2        as EverestCollimator\n",
      "Installing tcsg.d4r7.b2         as EverestCollimator\n",
      "Installing tcla.b6l7.b2         as EverestCollimator\n",
      "Installing tcsg.a6r7.b2         as EverestCollimator\n",
      "Installing tcsg.a5r7.b2         as EverestCollimator\n",
      "Installing tcla.a6l7.b2         as EverestCollimator\n",
      "Installing tcla.c6l7.b2         as EverestCollimator\n",
      "Installing tctpv.4r8.b2         as EverestCollimator\n",
      "Installing tcla.a5l3.b2         as EverestCollimator\n",
      "Installing tcla.7l3.b2          as EverestCollimator\n",
      "Installing tcsg.a4r7.b2         as EverestCollimator\n",
      "Installing tdisc.a4r8.b2        as EverestCollimator\n",
      "Installing tcsg.b4r7.b2         as EverestCollimator\n",
      "Installing tdisb.a4r8.b2        as EverestCollimator\n",
      "Installing tcl.5l5.b2           as EverestCollimator\n",
      "Installing tcsg.b5r7.b2         as EverestCollimator\n",
      "Installing tcsg.6l7.b2          as EverestCollimator\n",
      "Installing tctph.4r5.b2         as EverestCollimator\n",
      "Installing tcla.6l3.b2          as EverestCollimator\n",
      "Installing tcspm.e5l7.b2        as EverestCollimator\n",
      "Installing tcsp.a4l6.b2         as EverestCollimator\n",
      "Installing tcp.6r3.b2           as EverestCollimator\n",
      "Installing tcl.6l5.b2           as EverestCollimator\n",
      "Installing tcl.4l1.b2           as EverestCollimator\n",
      "Installing tclib.6l8.b2         as EverestCollimator\n"
     ]
    },
    {
     "data": {
      "application/vnd.jupyter.widget-view+json": {
       "model_id": "d127d351972a464ebc50ee8d006acdf7",
       "version_major": 2,
       "version_minor": 0
      },
      "text/plain": [
       "Slicing line:   0%|          | 0/102068 [00:00<?, ?it/s]"
      ]
     },
     "metadata": {},
     "output_type": "display_data"
    },
    {
     "name": "stdout",
     "output_type": "stream",
     "text": [
      "\n",
      "Aperture model check after introducing collimators:\n"
     ]
    },
    {
     "data": {
      "application/vnd.jupyter.widget-view+json": {
       "model_id": "67cdbd8c8499425faaa2731a44cee80f",
       "version_major": 2,
       "version_minor": 0
      },
      "text/plain": [
       "Checking aperture:   0%|          | 0/102018 [00:00<?, ?it/s]"
      ]
     },
     "metadata": {},
     "output_type": "display_data"
    },
    {
     "name": "stdout",
     "output_type": "stream",
     "text": [
      "Done checking aperture.           \n",
      "0 thin elements miss associated aperture (upstream):\n",
      "[]\n",
      "0 thick elements miss associated aperture (upstream or downstream):\n",
      "[]\n"
     ]
    }
   ],
   "source": [
    "# ---------------- BUILD LINE ----------------\n",
    "\n",
    "line = xt.Line.from_json(line_file)\n",
    "\n",
    "with open(sim_dict, 'r') as f:\n",
    "    data = json.load(f)\n",
    "\n",
    "part_energy = data[f'{energy}']['energy'] \n",
    "gaps = data[f'{energy}']['gap']\n",
    "\n",
    "if part_energy is not None:\n",
    "    line.particle_ref = xt.Particles(p0c=part_energy, #eV\n",
    "                                q0=1, mass0=xt.PROTON_MASS_EV)\n",
    "print(f'\\nParticle energy: {float(line.particle_ref.p0c)/1e9:} GeV\\n')\n",
    "energy = line.particle_ref.p0c[0]\n",
    "beta_rel = line.particle_ref.beta0[0]\n",
    "gamma = line.particle_ref.gamma0[0]\n",
    "emittance = emittance_n/(beta_rel*gamma)\n",
    "\n",
    "\n",
    "dp = 1.92e-10 \n",
    "pot_crit = 21.34\n",
    "eta = 0.9\n",
    "Rcrit = energy/(2*np.sqrt(eta)*pot_crit) * (dp/2)\n",
    "CRY_critical_angle = np.sqrt(2*eta*pot_crit/energy)*(1 - Rcrit/CRY_bending_radius)\n",
    "\n",
    "\n",
    "end_s = line.get_length()\n",
    "\n",
    "CRY_loc = line.get_s_position()[line.element_names.index(CRY_name)]\n",
    "TCSG_loc = line.get_s_position()[line.element_names.index(TCSG_name)]\n",
    "\n",
    "\n",
    "\n",
    "colldb = xc.CollimatorDatabase.from_yaml(coll_file, beam=beam, ignore_crystals=True)\n",
    "colldb.install_everest_collimators(line = line,verbose=True)\n",
    "\n",
    "# Aperture model check\n",
    "print('\\nAperture model check after introducing collimators:')\n",
    "df_with_coll = line.check_aperture()\n",
    "assert not np.any(df_with_coll.has_aperture_problem)\n",
    "\n",
    "df_apertures = xcp.load_apertures(line)\n",
    "df_apertures = change_coordinates_to_b1(df_apertures)\n",
    "\n",
    "# Build the tracker\n",
    "line.build_tracker()\n",
    "tw = line.twiss()"
   ]
  },
  {
   "cell_type": "code",
   "execution_count": 6,
   "id": "2a0c4746",
   "metadata": {
    "vscode": {
     "languageId": "python"
    }
   },
   "outputs": [
    {
     "name": "stdout",
     "output_type": "stream",
     "text": [
      "tcp.6r3.b2 gap set to:  14.484289\n",
      "tcsp.a4l6.b2 gap set to:  11.405009\n",
      "tcp.d6r7.b2 gap set to:  6.770734\n",
      "tcp.c6r7.b2 gap set to:  13.463775\n",
      "tcspm.b4r7.b2 gap set to:  6.202195\n",
      "tcsg.b4r7.b2 gap set to:  6.113965\n",
      "tcpch.a5r7.b2 gap set to:  6.110539165670246\n",
      "\n",
      "CRY gap set to: 6.110539165670246 \n",
      "TCSG gap set to: 6.110539 \n"
     ]
    }
   ],
   "source": [
    "# ---------------- SET COLLIMATORS ----------------\n",
    "\n",
    "line.collimators.assign_optics()\n",
    "\n",
    "# Set the collimator gaps\n",
    "for name, gap in gaps.items():\n",
    "   if gap is not None:\n",
    "      line[name].gap = gap\n",
    "      print(f'{name} gap set to: ', line[name].gap)\n",
    "\n",
    "\n",
    "# Set costum location for the collimators\n",
    "#line[CRY_name].gap  = \n",
    "CRY_gap = line[CRY_name].gap\n",
    "line[TCSG_name].gap = line[CRY_name].gap\n",
    "\n",
    "print(f'\\nCRY gap set to: {line[CRY_name].gap} ')\n",
    "print(f'TCSG gap set to: {line[TCSG_name].gap} ')\n",
    "\n",
    "\n",
    "df_colls = pd.DataFrame(columns=['name', 'angle', 'gap', 'jaw_L', 'jaw_R', 'length'])\n",
    "for n in colldb.collimator_names:\n",
    "   if  line[n].__class__.__name__ != 'EverestCrystal':\n",
    "      df = pd.DataFrame(data = [[n, line[n].angle, line[n].gap, line[n].jaw_L, line[n].jaw_R, line[n].length]], columns=['name', 'angle', 'gap', 'jaw_L', 'jaw_R', 'length'])\n",
    "      df_colls = pd.concat([df_colls, df], ignore_index=True)\n",
    "\n",
    "impacts = xc.InteractionRecord.start(line=line)"
   ]
  },
  {
   "cell_type": "code",
   "execution_count": 7,
   "id": "28113c97",
   "metadata": {
    "vscode": {
     "languageId": "python"
    }
   },
   "outputs": [],
   "source": [
    "# ---------------- INITIALIZE PARTICLES ----------------\n",
    "\n",
    "idx_CRY = line.element_names.index(CRY_name)\n",
    "\n",
    "CRY_kick = CRY_bending_angle #if ignore_crystals else 0\n",
    "\n",
    "cry_part_chann = xp.Particles(p0c=energy, #eV\n",
    "                            q0 = 1, mass0=xp.PROTON_MASS_EV,\n",
    "                            x = CRY_tw(CRY_gap, emittance, CRY_name, tw)[0],\n",
    "                            px = CRY_tw(CRY_gap, emittance, CRY_name , tw)[1] + CRY_kick,\n",
    "                            y = 0,\n",
    "                            py = 0,\n",
    "                            at_element = idx_CRY,\n",
    "                            particle_id = 0,\n",
    "                            _context=context)\n",
    "\n",
    "cry_part_chann_upper = xp.Particles(p0c=energy, #eV\n",
    "                        q0 = 1, mass0=xp.PROTON_MASS_EV,\n",
    "                        x = CRY_tw(CRY_gap, emittance, CRY_name , tw)[0],\n",
    "                        px = CRY_tw(CRY_gap, emittance, CRY_name , tw)[1] + CRY_kick + CRY_critical_angle,\n",
    "                        y = 0,\n",
    "                        py = 0,\n",
    "                        at_element = idx_CRY,\n",
    "                        particle_id = 1,\n",
    "                        _context=context)\n",
    "\n",
    "\n",
    "cry_part_chann_lower = xp.Particles(p0c=energy, #eV\n",
    "                        q0 = 1, mass0=xp.PROTON_MASS_EV,\n",
    "                        x = CRY_tw(CRY_gap, emittance, CRY_name, tw)[0],\n",
    "                        px =  CRY_tw(CRY_gap, emittance, CRY_name, tw)[1] + CRY_kick - CRY_critical_angle,\n",
    "                        y = 0,\n",
    "                        py = 0,\n",
    "                        at_element = idx_CRY,\n",
    "                        particle_id = 2,\n",
    "                        _context=context)\n",
    "\n",
    "if seed is not None:\n",
    "    cry_part_chann._rng_s1, cry_part_chann._rng_s2, cry_part_chann._rng_s3, cry_part_chann._rng_s4 = seed, seed+1, seed+2, seed+3\n",
    "    cry_part_chann_upper._rng_s1, cry_part_chann_upper._rng_s2, cry_part_chann_upper._rng_s3, cry_part_chann_upper._rng_s4 = seed, seed+1, seed+2, seed+3\n",
    "    cry_part_chann_lower._rng_s1, cry_part_chann_lower._rng_s2, cry_part_chann_lower._rng_s3, cry_part_chann_lower._rng_s4 = seed, seed+1, seed+2, seed+3"
   ]
  },
  {
   "cell_type": "code",
   "execution_count": 8,
   "id": "faa549c1",
   "metadata": {
    "vscode": {
     "languageId": "python"
    }
   },
   "outputs": [],
   "source": [
    "# ---------------- TRACKING ----------------\n",
    "\n",
    "turn_to_track = 1\n",
    "\n",
    "df_chann_L, df_chann_R = track_particle(cry_part_chann, line, tw, turn_to_track)\n",
    "df_chann_upper_L, df_chann_upper_R = track_particle(cry_part_chann_upper, line, tw,turn_to_track)\n",
    "df_chann_lower_L, df_chann_lower_R = track_particle(cry_part_chann_lower, line, tw, turn_to_track)"
   ]
  },
  {
   "cell_type": "code",
   "execution_count": null,
   "id": "885e3afb",
   "metadata": {
    "vscode": {
     "languageId": "python"
    }
   },
   "outputs": [
    {
     "data": {
      "image/png": "[encoded data removed]",
      "text/plain": [
       "<Figure size 720x360 with 2 Axes>"
      ]
     },
     "metadata": {
      "needs_background": "light"
     },
     "output_type": "display_data"
    }
   ],
   "source": [
    "# ---------------- PLOT ----------------\n",
    "\n",
    "start, stop = 19950, 20150 #19000, 21000 # #0, end_s\n",
    "n_env = CRY_gap\n",
    "plot_cry_envelope = True \n",
    "figsize = (10, 5) #(25,6)\n",
    "plot_skew = False\n",
    "\n",
    "dim = 'x' if plane == 'H' else 'y'\n",
    "\n",
    "\n",
    "fig, ax = plt.subplots(2, 1, gridspec_kw={'height_ratios': [0.1, 1]}, sharex=True, figsize=figsize)\n",
    "pymadx.Plot._SetMachineAxesStyle(ax[0])\n",
    "pymadx.Plot._DrawMachineLattice(ax[0], layout_data_object)\n",
    "ax[0].set_xlim(start,stop)\n",
    "#ir3_plot[0].set_title(label='Energy = 1 TeV', y=1.05, fontsize=18)\n",
    "\n",
    "\n",
    "df_ref = change_coordinates_to_b1(tw.to_pandas())\n",
    "ax[1].plot(df_ref[\"s\"],df_ref[dim],color=\"orange\")\n",
    "ax[1].plot(df_ref[\"s\"], n_env*np.sqrt(emittance*df_ref['bet'+dim]) + df_ref[dim], color='C1')\n",
    "ax[1].plot(df_ref[\"s\"],-n_env*np.sqrt(emittance*df_ref['bet'+dim])+ df_ref[dim], color='C1')\n",
    "ax[1].fill_between(df_ref[\"s\"], n_env*np.sqrt(emittance*df_ref['bet'+dim]) + df_ref[dim], -n_env*np.sqrt(emittance*df_ref['bet'+dim])+ df_ref[dim], color='C1', alpha=0.3)\n",
    "\n",
    "ax[1].plot(df_chann_L[\"s\"],df_chann_L[dim], color='darkblue')\n",
    "ax[1].plot(df_chann_R[\"s\"],df_chann_R[dim], color='darkblue')\n",
    "\n",
    "if plot_cry_envelope:\n",
    "    ax[1].plot(df_chann_upper_L[\"s\"],df_chann_upper_L[dim], color='blue')\n",
    "    ax[1].plot(df_chann_upper_R[\"s\"],df_chann_upper_R[dim], color='blue')\n",
    "    ax[1].plot(df_chann_lower_L[\"s\"],df_chann_lower_L[dim], color='blue')\n",
    "    ax[1].plot(df_chann_lower_R[\"s\"],df_chann_lower_R[dim], color='blue')\n",
    "    fill_between(ax[1], df_chann_upper_R, df_chann_lower_R)\n",
    "    fill_between(ax[1], df_chann_upper_L, df_chann_lower_L)\n",
    "\n",
    "ax[1].set_xlabel('s [m]',  fontsize=17)\n",
    "ax[1].set_xlim(start, stop)\n",
    "ax[1].set_ylim(-0.045, 0.045)\n",
    "ax[1].set_ylabel(dim+' [m]',  fontsize=17)\n",
    "ax[1].grid(linestyle=':')\n",
    "ax[1].tick_params(axis='both', which='major', labelsize=17)\n",
    "xcp.plot_apertures(df_apertures[['xmin', 'xmax', 'ymin', 'ymax']].apply(lambda x: convert_mm_to_m(x)), ax[1], \"h\")\n",
    "   \n",
    "get_jaw(ax[1],CRY_name, CRY_length, tw, end_s, hgap_L= CRY_tw(CRY_gap, emittance, CRY_name, tw)[0], angle = 0,  color = 'r')\n",
    "for n in df_colls.name:\n",
    "    coll = df_colls[df_colls['name'] == n]\n",
    "    get_jaw(ax[1],n, coll.length.values[0], tw, end_s, angle = coll.angle.values[0],  hgap_L = coll.jaw_L.values[0], hgap_R = coll.jaw_R.values[0], plot_skew = plot_skew)\n",
    "\n"
   ]
  },
  {
   "cell_type": "code",
   "execution_count": 10,
   "id": "18ce2e3d",
   "metadata": {
    "vscode": {
     "languageId": "python"
    }
   },
   "outputs": [
    {
     "name": "stdout",
     "output_type": "stream",
     "text": [
      "Particle absorbed at:  tcsg.b4r7.b2\n"
     ]
    }
   ],
   "source": [
    "print(\"Particle absorbed at: \",  line.element_names[cry_part_chann.at_element[0]])"
   ]
  },
  {
   "cell_type": "code",
   "execution_count": null,
   "id": "f7f13bc4",
   "metadata": {
    "vscode": {
     "languageId": "python"
    }
   },
   "outputs": [],
   "source": []
  }
 ],
 "metadata": {
  "@webio": {
   "lastCommId": null,
   "lastKernelId": null
  },
  "kernelspec": {
   "display_name": "LCG view 104 + venv",
   "language": "python-custom",
   "name": "lcg-view"
  },
  "language_info": {
   "codemirror_mode": {
    "name": "ipython",
    "version": 3
   },
   "file_extension": ".py",
   "mimetype": "text/x-python",
   "name": "python-custom",
   "nbconvert_exporter": "python",
   "pygments_lexer": "ipython3",
   "version": "3.9.12"
  }
 },
 "nbformat": 4,
 "nbformat_minor": 5
}
