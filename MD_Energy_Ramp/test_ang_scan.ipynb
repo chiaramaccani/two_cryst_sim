{
 "cells": [
  {
   "cell_type": "code",
   "execution_count": 1,
   "metadata": {
    "vscode": {
     "languageId": "python"
    }
   },
   "outputs": [],
   "source": [
    "import json\n",
    "import os\n",
    "import subprocess\n",
    "import glob\n",
    "\n",
    "import numpy as np\n",
    "from pathlib import Path\n",
    "import yaml\n",
    "import matplotlib\n",
    "import matplotlib.pyplot as plt\n",
    "import matplotlib.patches as patches\n",
    "import pandas as pd\n",
    "\n",
    "from matplotlib.ticker import MaxNLocator\n",
    "import lossmaps as lm\n",
    "import xobjects as xo\n",
    "\n",
    "import xtrack as xt\n",
    "import xcoll as xc\n",
    "\n",
    "import lossmaps as lm\n",
    "from mpl_toolkits.axes_grid1.inset_locator import inset_axes\n",
    "\n",
    "import xarray as xr\n",
    "\n",
    "import json\n",
    "import copy\n",
    "\n",
    "import xtrack as xt\n",
    "import xpart as xp\n",
    "import xobjects as xo\n",
    "\n",
    "\n",
    "import pickle \n",
    "import h5py\n",
    "import io\n",
    "import scipy\n",
    "from scipy.optimize import curve_fit\n",
    "\n",
    "import ast\n",
    "\n",
    "from scipy.special import erf\n",
    "import scipy.optimize as opt\n",
    "from matplotlib.ticker import FixedLocator\n",
    "from scipy.stats import norm\n",
    "\n",
    "import uproot \n"
   ]
  },
  {
   "cell_type": "code",
   "execution_count": 59,
   "metadata": {
    "vscode": {
     "languageId": "python"
    }
   },
   "outputs": [],
   "source": [
    "num_part = int(1e6)"
   ]
  },
  {
   "cell_type": "code",
   "execution_count": 57,
   "metadata": {
    "vscode": {
     "languageId": "python"
    }
   },
   "outputs": [],
   "source": [
    "def plot_angular_scan(data_dict, cry_name = 'CRY', normalize = False):\n",
    "    fig, ax = plt.subplots(figsize=(10, 5))\n",
    "    data_dict = data_dict.set_index('index').T.to_dict() if isinstance(data_dict, pd.DataFrame) else data_dict\n",
    "    n_cry_abs = []\n",
    "    angles = []\n",
    "    norm_abs = []\n",
    "    for key in data_dict.keys():\n",
    "        n_cry_abs.append(data_dict[key][cry_name+'_abs']/num_part)\n",
    "        angles.append(data_dict[key]['align_angle'])\n",
    "    \n",
    "    #ax.axvline(miscut, color='k', linestyle='--', label='Nominal')\n",
    "    ax.plot(angles, n_cry_abs, marker='o')\n",
    "    ax.set_xlabel('Angle [rad]', fontsize=12)\n",
    "    ax.set_ylabel('Absorbed particles', fontsize=12)\n",
    "    ax.tick_params(axis='both', which='major', labelsize=12)\n",
    "    ax2 = ax.twiny()\n",
    "    ax2.plot(data_dict.keys(), n_cry_abs, alpha=0.0, color='k')\n",
    "    #ax.set_xticks(range(len(data_dict)))  # Positions\n",
    "    ax2.set_xticklabels(data_dict.keys(), rotation=90)\n",
    "    return fig, ax, ax2"
   ]
  },
  {
   "cell_type": "code",
   "execution_count": 37,
   "metadata": {
    "vscode": {
     "languageId": "python"
    }
   },
   "outputs": [],
   "source": [
    "p0c = 1e12\n",
    "miscut = -14.324e-3"
   ]
  },
  {
   "cell_type": "code",
   "execution_count": 38,
   "metadata": {
    "vscode": {
     "languageId": "python"
    }
   },
   "outputs": [],
   "source": [
    "coll = xc.EverestCrystal(length=0.004, material=xc.materials.SiliconCrystal, bending_radius = 80.00, angle=0,\n",
    "                            width=0.002, height=50.0e-3, side='+', lattice='strip', jaw=0, miscut = miscut)"
   ]
  },
  {
   "cell_type": "code",
   "execution_count": 39,
   "metadata": {
    "vscode": {
     "languageId": "python"
    }
   },
   "outputs": [],
   "source": [
    "coll.tilt = -miscut "
   ]
  },
  {
   "cell_type": "code",
   "execution_count": 40,
   "metadata": {
    "vscode": {
     "languageId": "python"
    }
   },
   "outputs": [
    {
     "data": {
      "text/plain": [
       "6.0140584916592415e-06"
      ]
     },
     "execution_count": 40,
     "metadata": {},
     "output_type": "execute_result"
    }
   ],
   "source": [
    "pot_crit = 21.34\n",
    "eta = 0.9\n",
    "dp = 1.92e-10 \n",
    "bending_radius = 80.0\n",
    "Rcrit = p0c/(2*np.sqrt(eta)*pot_crit) * (dp/2)\n",
    "xp_crit = np.sqrt(2*eta*pot_crit/p0c)*(1 - Rcrit/bending_radius)\n",
    "xp_crit"
   ]
  },
  {
   "cell_type": "code",
   "execution_count": 41,
   "metadata": {
    "vscode": {
     "languageId": "python"
    }
   },
   "outputs": [],
   "source": [
    "lower_bound = -6.6e-5 \n",
    "upper_bound = 3e-5 \n",
    "step = 1e-6"
   ]
  },
  {
   "cell_type": "code",
   "execution_count": 42,
   "metadata": {
    "vscode": {
     "languageId": "python"
    }
   },
   "outputs": [],
   "source": [
    "def simulate_ang_scan(lower_bound = -6.6e-5 , upper_bound = 3e-5 , step = 2e-6):\n",
    "    rng =  np.arange(lower_bound, upper_bound, step)\n",
    "    num_part = int(1e6)\n",
    "    dct_loss = {}\n",
    "    seed = 1\n",
    "    np.random.seed(seed=seed)\n",
    "\n",
    "    for ang in rng:\n",
    "\n",
    "        coll.tilt = -miscut\n",
    "        coll.tilt = coll.tilt + ang\n",
    "\n",
    "        x_init   = np.random.normal(loc=1.5e-3, scale=75.e-6, size=num_part)\n",
    "        #px_init  = np.random.uniform(low=98.e-6, high=102.e-6, size=num_part)\n",
    "        px_init  = np.random.uniform(low=-1.e-6, high=1.e-6, size=num_part)\n",
    "        y_init   = np.random.normal(loc=0., scale=1e-3, size=num_part)\n",
    "        py_init  = np.random.normal(loc=0., scale=5.e-6, size=num_part)\n",
    "\n",
    "        part = xp.Particles(x=x_init, px=px_init, y=y_init, py=py_init, delta=0, p0c=p0c)\n",
    "\n",
    "        random_array = np.random.randint(0, 4291630464,  size = num_part*4)\n",
    "        part._rng_s1 = random_array[0:num_part]\n",
    "        part._rng_s2 = random_array[num_part:num_part*2]\n",
    "        part._rng_s3 = random_array[num_part*2:num_part*3]\n",
    "        part._rng_s4 = random_array[num_part*3:num_part*4]\n",
    "\n",
    "        coll.track(part)\n",
    "        \n",
    "        p_abs = len(part.state[part.state<0])\n",
    "        print(coll.tilt, p_abs)\n",
    "        key = f\"{ang*1e6:.0f}\"\n",
    "        dct_loss[key] = {}\n",
    "        dct_loss[key]['angle'] = coll.tilt  - miscut\n",
    "        dct_loss[key]['align_angle'] = coll.tilt  \n",
    "        dct_loss[key]['CRY_abs'] = p_abs\n",
    "    return dct_loss\n"
   ]
  },
  {
   "cell_type": "code",
   "execution_count": 43,
   "metadata": {
    "vscode": {
     "languageId": "python"
    }
   },
   "outputs": [
    {
     "name": "stdout",
     "output_type": "stream",
     "text": [
      "0.014258 8594\n",
      "0.014259 8548\n",
      "0.01426 8502\n",
      "0.014261 8364\n",
      "0.014262 8500\n",
      "0.014263 8495\n",
      "0.014264 8533\n",
      "0.014265 8502\n",
      "0.014266 8433\n",
      "0.014267 8672\n",
      "0.014268 8636\n",
      "0.014269 8346\n",
      "0.01427 8486\n",
      "0.014271 8398\n",
      "0.014272 8502\n",
      "0.014273 8617\n",
      "0.014274 7798\n",
      "0.014275 6737\n",
      "0.014276 6437\n",
      "0.014277 6613\n",
      "0.014278 6642\n",
      "0.014279 6442\n",
      "0.01428 6662\n",
      "0.014281 6427\n",
      "0.014282 6467\n",
      "0.014283 6504\n",
      "0.014284 6705\n",
      "0.014285 6416\n",
      "0.014286 6446\n",
      "0.014287 6628\n",
      "0.014288 6505\n",
      "0.014289 6296\n",
      "0.01429 6572\n",
      "0.014291 6594\n",
      "0.014292 6468\n",
      "0.014293 6422\n",
      "0.014294 6495\n",
      "0.014295 6557\n",
      "0.014296 6397\n",
      "0.014297 6773\n",
      "0.014298 6575\n",
      "0.014299 6470\n",
      "0.0143 6420\n",
      "0.014301 6462\n",
      "0.014302 6305\n",
      "0.014303 6452\n",
      "0.014304 6645\n",
      "0.014305 6589\n",
      "0.014306 6373\n",
      "0.014307 6499\n",
      "0.014308 6474\n",
      "0.014309 6545\n",
      "0.01431 6444\n",
      "0.014311 6466\n",
      "0.014312 7232\n",
      "0.014313 8259\n",
      "0.014314 8481\n",
      "0.014315 8489\n",
      "0.014316 8462\n",
      "0.014317 8546\n",
      "0.014318 7579\n",
      "0.014319 5463\n",
      "0.01432 3312\n",
      "0.014321 2325\n",
      "0.014322 1644\n",
      "0.014323 1171\n",
      "0.014324 1018\n",
      "0.014325 1096\n",
      "0.014326 1367\n",
      "0.014327 1898\n",
      "0.014328 2711\n",
      "0.014329 4059\n",
      "0.01433 6545\n",
      "0.014331 8192\n",
      "0.014332 8497\n",
      "0.014333 8337\n",
      "0.014334 8527\n",
      "0.014335 8533\n",
      "0.014336 8649\n",
      "0.014337 8619\n",
      "0.014338 8551\n",
      "0.014339 8527\n",
      "0.01434 8560\n",
      "0.014341 8409\n",
      "0.014342 8486\n",
      "0.014343 8483\n",
      "0.014344 8623\n",
      "0.014345 8567\n",
      "0.014346 8609\n",
      "0.014347 8620\n",
      "0.014348 8538\n",
      "0.014349 8535\n",
      "0.01435 8674\n",
      "0.014351 8418\n",
      "0.014352 8396\n",
      "0.014353 8543\n"
     ]
    }
   ],
   "source": [
    "lower_bound = -6.6e-5 \n",
    "upper_bound = 3e-5 \n",
    "step = 1e-6\n",
    "\n",
    "dct_loss = simulate_ang_scan(lower_bound = -6.6e-5 , upper_bound = 3e-5 , step = 1e-6)\n"
   ]
  },
  {
   "cell_type": "code",
   "execution_count": 60,
   "metadata": {
    "vscode": {
     "languageId": "python"
    }
   },
   "outputs": [
    {
     "name": "stderr",
     "output_type": "stream",
     "text": [
      "/tmp/cmaccani/ipykernel_79703/1896421791.py:19: UserWarning: FixedFormatter should only be used together with FixedLocator\n",
      "  ax2.set_xticklabels(data_dict.keys(), rotation=90)\n"
     ]
    },
    {
     "data": {
      "text/plain": [
       "<matplotlib.lines.Line2D at 0x7f8149a38b20>"
      ]
     },
     "execution_count": 60,
     "metadata": {},
     "output_type": "execute_result"
    },
    {
     "data": {
      "image/png": "[encoded data removed]",
      "text/plain": [
       "<Figure size 720x360 with 2 Axes>"
      ]
     },
     "metadata": {
      "needs_background": "light"
     },
     "output_type": "display_data"
    }
   ],
   "source": [
    "ax = plot_angular_scan(dct_loss)\n",
    "ax[1].axvline(-miscut)"
   ]
  },
  {
   "cell_type": "code",
   "execution_count": 9,
   "metadata": {
    "vscode": {
     "languageId": "python"
    }
   },
   "outputs": [
    {
     "data": {
      "text/plain": [
       "20.900000000000002"
      ]
     },
     "execution_count": 9,
     "metadata": {},
     "output_type": "execute_result"
    }
   ],
   "source": [
    "1.1*19"
   ]
  },
  {
   "cell_type": "code",
   "execution_count": 13,
   "metadata": {
    "vscode": {
     "languageId": "python"
    }
   },
   "outputs": [
    {
     "name": "stdout",
     "output_type": "stream",
     "text": [
      "0.014255 8596\n",
      "0.014256 8547\n",
      "0.014257 8499\n",
      "0.014258 8365\n",
      "0.014259 8501\n",
      "0.01426 8538\n",
      "0.014261 8498\n",
      "0.014262 8543\n",
      "0.014263 8412\n",
      "0.014264 8645\n",
      "0.014265 8647\n",
      "0.014266 8426\n",
      "0.014267 8498\n",
      "0.014268 8489\n",
      "0.014269 8531\n",
      "0.01427 8602\n",
      "0.014271 8509\n",
      "0.014272 8531\n",
      "0.014273 8460\n",
      "0.014274 8659\n",
      "0.014275 8654\n",
      "0.014276 8504\n",
      "0.014277 8666\n",
      "0.014278 8363\n",
      "0.014279 8467\n",
      "0.01428 8573\n",
      "0.014281 8731\n",
      "0.014282 8538\n",
      "0.014283 8456\n",
      "0.014284 8604\n",
      "0.014285 8598\n",
      "0.014286 8386\n",
      "0.014287 8693\n",
      "0.014288 8575\n",
      "0.014289 8450\n",
      "0.01429 8397\n",
      "0.014291 8493\n",
      "0.014292 8689\n",
      "0.014293 8367\n",
      "0.014294 8769\n",
      "0.014295 8527\n",
      "0.014296 8569\n",
      "0.014297 8524\n",
      "0.014298 8496\n",
      "0.014299 8332\n",
      "0.0143 8498\n",
      "0.014301 8640\n",
      "0.014302 8609\n",
      "0.014303 8410\n",
      "0.014304 8531\n",
      "0.014305 8601\n",
      "0.014306 8624\n",
      "0.014307 8425\n",
      "0.014308 8510\n",
      "0.014309 8494\n",
      "0.01431 8513\n",
      "0.014311 8457\n",
      "0.014312 8445\n",
      "0.014313 8493\n",
      "0.014314 8654\n",
      "0.014315 8559\n",
      "0.014316 8553\n",
      "0.014317 8527\n",
      "0.014318 7562\n",
      "0.014319 5446\n",
      "0.01432 3429\n",
      "0.014321 2409\n",
      "0.014322 1764\n",
      "0.014323 1375\n",
      "0.014324 1150\n",
      "0.014325 1220\n",
      "0.014326 1472\n",
      "0.014327 2064\n",
      "0.014328 2800\n",
      "0.014329 4222\n",
      "0.01433 6449\n",
      "0.014331 8344\n",
      "0.014332 8532\n",
      "0.014333 8651\n",
      "0.014334 8620\n",
      "0.014335 8552\n",
      "0.014336 8529\n",
      "0.014337 8561\n",
      "0.014338 8411\n",
      "0.014339 8486\n",
      "0.01434 8483\n",
      "0.014341 8623\n",
      "0.014342 8567\n",
      "0.014343 8609\n",
      "0.014344 8621\n",
      "0.014345 8540\n",
      "0.014346 8535\n",
      "0.014347 8676\n",
      "0.014348 8418\n",
      "0.014349 8395\n",
      "0.01435 8544\n",
      "0.014351 8419\n",
      "0.014352 8514\n",
      "0.014353 8633\n",
      "0.014354 8473\n",
      "0.014355 8506\n",
      "0.014356 8355\n"
     ]
    }
   ],
   "source": [
    "dct_loss_notrans = simulate_ang_scan(lower_bound = -6.9e-5 , upper_bound = 3.3e-5 , step = 1e-6)"
   ]
  },
  {
   "cell_type": "code",
   "execution_count": 14,
   "metadata": {
    "vscode": {
     "languageId": "python"
    }
   },
   "outputs": [
    {
     "data": {
      "text/plain": [
       "<matplotlib.lines.Line2D at 0x7f9a0859a100>"
      ]
     },
     "execution_count": 14,
     "metadata": {},
     "output_type": "execute_result"
    },
    {
     "data": {
      "image/png": "[encoded data removed]",
      "text/plain": [
       "<Figure size 720x360 with 2 Axes>"
      ]
     },
     "metadata": {
      "needs_background": "light"
     },
     "output_type": "display_data"
    }
   ],
   "source": [
    "ax = plot_angular_scan(dct_loss_notrans)\n",
    "ax[1].axvline(-miscut)"
   ]
  },
  {
   "cell_type": "code",
   "execution_count": null,
   "metadata": {
    "vscode": {
     "languageId": "python"
    }
   },
   "outputs": [],
   "source": []
  },
  {
   "cell_type": "code",
   "execution_count": 25,
   "metadata": {
    "vscode": {
     "languageId": "python"
    }
   },
   "outputs": [],
   "source": [
    "num_part = int(1e6)\n",
    "x_init   = np.random.normal(loc=1e-3, scale=75.e-6, size=num_part)\n",
    "px_init  = np.random.uniform(low=-1.e-6, high=1.e-6, size=num_part)\n",
    "y_init   = np.random.normal(loc=0., scale=1e-3, size=num_part)\n",
    "py_init  = np.random.normal(loc=0., scale=5.e-6, size=num_part)\n",
    "part = xp.Particles(x=x_init, px=px_init, y=y_init, py=py_init, delta=0, p0c=p0c)"
   ]
  },
  {
   "cell_type": "code",
   "execution_count": 26,
   "metadata": {
    "vscode": {
     "languageId": "python"
    }
   },
   "outputs": [],
   "source": [
    "coll.tilt = -miscut - 10e-6\n"
   ]
  },
  {
   "cell_type": "code",
   "execution_count": 27,
   "metadata": {
    "vscode": {
     "languageId": "python"
    }
   },
   "outputs": [],
   "source": [
    "line = xt.Line([coll])\n",
    "impacts = xc.InteractionRecord.start(line= line, capacity=int(2e7))"
   ]
  },
  {
   "cell_type": "code",
   "execution_count": 28,
   "metadata": {
    "vscode": {
     "languageId": "python"
    }
   },
   "outputs": [],
   "source": [
    "part_init = part.copy()"
   ]
  },
  {
   "cell_type": "code",
   "execution_count": 29,
   "metadata": {
    "vscode": {
     "languageId": "python"
    }
   },
   "outputs": [
    {
     "name": "stdout",
     "output_type": "stream",
     "text": [
      "CPU times: user 663 ms, sys: 172 ms, total: 835 ms\n",
      "Wall time: 843 ms\n"
     ]
    }
   ],
   "source": [
    "%time coll.track(part)\n",
    "part_after = part.copy()"
   ]
  },
  {
   "cell_type": "code",
   "execution_count": 32,
   "metadata": {
    "vscode": {
     "languageId": "python"
    }
   },
   "outputs": [
    {
     "data": {
      "image/png": "[encoded data removed]",
      "text/plain": [
       "<Figure size 720x432 with 1 Axes>"
      ]
     },
     "metadata": {
      "needs_background": "light"
     },
     "output_type": "display_data"
    }
   ],
   "source": [
    "mask = (part.state > 0 ) & ( part.px - part_init.px < 100.e-6) & ( part.px - part_init.px > -50.e-6) & (part.px > - 0) & (part.px<200e-6) #& mask2\n",
    "# mask = (part.state > 0 ) & mask2\n",
    "\n",
    "# plt.figure(figsize=(5,10/3))\n",
    "plt.figure(figsize=(10,6))\n",
    "# _ = plt.hist2d(part_init.px[mask], (part.px[mask] - part_init.px[mask])/np.sqrt((150.e-6-part_init.px[mask])*1.75e-3/130.e-6), 200, norm=mpl.colors.LogNorm())\n",
    "\n",
    "# smear_x = np.random.normal(loc=0., scale=5., size=len(part_init.px[mask]))\n",
    "# smear_y = np.random.normal(loc=0., scale=2.8, size=len(part_init.px[mask]))\n",
    "smear_x = 0\n",
    "smear_y = 0\n",
    "_ = plt.hist2d(part_init.px[mask]*1.e6+smear_x, part.px[mask]*1.e6 - part_init.px[mask]*1.e6 + smear_y, 500, norm=matplotlib.colors.LogNorm())\n",
    "#_ = plt.hist2d(part_init.px*1.e6+smear_x, part.px*1.e6 - part_init.px*1.e6 + smear_y, 500, norm=matplotlib.colors.LogNorm())\n",
    "plt.xlim(0, 200)\n",
    "plt.ylim(-50, 100)\n",
    "plt.ylabel(r'$\\Delta\\theta$ [$\\mu$rad]')\n",
    "plt.xlabel(r'$\\theta_{in}$ [$\\mu$rad]')\n",
    "plt.tight_layout()\n",
    "# plt.savefig('cry_sixtrack.pdf', dpi=300)"
   ]
  },
  {
   "cell_type": "code",
   "execution_count": 171,
   "metadata": {
    "vscode": {
     "languageId": "python"
    }
   },
   "outputs": [],
   "source": [
    "coll.critical_angle"
   ]
  },
  {
   "cell_type": "code",
   "execution_count": 87,
   "metadata": {
    "vscode": {
     "languageId": "python"
    }
   },
   "outputs": [],
   "source": [
    "df_imp = impacts.to_pandas()"
   ]
  },
  {
   "cell_type": "code",
   "execution_count": 37,
   "metadata": {
    "vscode": {
     "languageId": "python"
    }
   },
   "outputs": [
    {
     "data": {
      "text/plain": [
       "8385"
      ]
     },
     "execution_count": 37,
     "metadata": {},
     "output_type": "execute_result"
    }
   ],
   "source": [
    "len(part_after.state[part_after.state<0])"
   ]
  },
  {
   "cell_type": "code",
   "execution_count": 38,
   "metadata": {
    "vscode": {
     "languageId": "python"
    }
   },
   "outputs": [],
   "source": [
    "CRY_imp = impacts.interactions_per_collimator().reset_index()\n",
    "n_CRY_abs = CRY_imp['int'].apply(lambda x: 'A'  in x).sum()"
   ]
  },
  {
   "cell_type": "code",
   "execution_count": 39,
   "metadata": {
    "vscode": {
     "languageId": "python"
    }
   },
   "outputs": [
    {
     "data": {
      "text/plain": [
       "8385"
      ]
     },
     "execution_count": 39,
     "metadata": {},
     "output_type": "execute_result"
    }
   ],
   "source": [
    "lower_bound = -6.6e-5 \n",
    "upper_bound = 3e-5\n",
    "step = 1e-6\n",
    "rng =  np.arange(lower_bound, upper_bound, step)\n",
    "num_part = int(1e6)\n",
    "dct_loss = {}\n",
    "seed = 1\n",
    "np.random.seed(seed=seed)\n",
    "\n",
    "\n",
    "for ang in rng:\n",
    "\n",
    "    coll.tilt = miscut\n",
    "    coll.tilt = coll.tilt + ang\n",
    "\n",
    "    x_init   = np.random.normal(loc=1.5e-3, scale=75.e-6, size=num_part)\n",
    "    #px_init  = np.random.uniform(low=98.e-6, high=102.e-6, size=num_part)\n",
    "    px_init  = np.random.uniform(low=0.e-6, high=4.e-6, size=num_part)\n",
    "    y_init   = np.random.normal(loc=0., scale=1e-3, size=num_part)\n",
    "    py_init  = np.random.normal(loc=0., scale=5.e-6, size=num_part)\n",
    "\n",
    "    part = xp.Particles(x=x_init, px=px_init, y=y_init, py=py_init, delta=0, p0c=p0c)\n",
    "\n",
    "    random_array = np.random.randint(0, 4291630464,  size = num_part*4)\n",
    "    part._rng_s1 = random_array[0:num_part]\n",
    "    part._rng_s2 = random_array[num_part:num_part*2]\n",
    "    part._rng_s3 = random_array[num_part*2:num_part*3]\n",
    "    part._rng_s4 = random_array[num_part*3:num_part*4]\n",
    "\n",
    "    coll.track(part)\n",
    "    \n",
    "    p_abs = len(part.state[part.state<0])\n",
    "    print(coll.tilt, p_abs)\n",
    "    key = f\"{ang*1e6:.0f}\"\n",
    "    dct_loss[key] = {}\n",
    "    dct_loss[key]['angle'] = coll.tilt  - miscut\n",
    "    dct_loss[key]['align_angle'] = coll.tilt  \n",
    "    dct_loss[key]['CRY_abs'] = p_abs"
   ]
  },
  {
   "cell_type": "code",
   "execution_count": 40,
   "metadata": {
    "vscode": {
     "languageId": "python"
    }
   },
   "outputs": [
    {
     "data": {
      "text/html": [
       "<div>\n",
       "<style scoped>\n",
       "    .dataframe tbody tr th:only-of-type {\n",
       "        vertical-align: middle;\n",
       "    }\n",
       "\n",
       "    .dataframe tbody tr th {\n",
       "        vertical-align: top;\n",
       "    }\n",
       "\n",
       "    .dataframe thead th {\n",
       "        text-align: right;\n",
       "    }\n",
       "</style>\n",
       "<table border=\"1\" class=\"dataframe\">\n",
       "  <thead>\n",
       "    <tr style=\"text-align: right;\">\n",
       "      <th></th>\n",
       "      <th>pid</th>\n",
       "      <th>turn</th>\n",
       "      <th>int</th>\n",
       "    </tr>\n",
       "  </thead>\n",
       "  <tbody>\n",
       "    <tr>\n",
       "      <th>0</th>\n",
       "      <td>0</td>\n",
       "      <td>0</td>\n",
       "      <td>[MCS]</td>\n",
       "    </tr>\n",
       "    <tr>\n",
       "      <th>1</th>\n",
       "      <td>1</td>\n",
       "      <td>0</td>\n",
       "      <td>[MCS]</td>\n",
       "    </tr>\n",
       "    <tr>\n",
       "      <th>2</th>\n",
       "      <td>2</td>\n",
       "      <td>0</td>\n",
       "      <td>[MCS]</td>\n",
       "    </tr>\n",
       "    <tr>\n",
       "      <th>3</th>\n",
       "      <td>3</td>\n",
       "      <td>0</td>\n",
       "      <td>[MCS]</td>\n",
       "    </tr>\n",
       "    <tr>\n",
       "      <th>4</th>\n",
       "      <td>4</td>\n",
       "      <td>0</td>\n",
       "      <td>[MCS]</td>\n",
       "    </tr>\n",
       "    <tr>\n",
       "      <th>...</th>\n",
       "      <td>...</td>\n",
       "      <td>...</td>\n",
       "      <td>...</td>\n",
       "    </tr>\n",
       "    <tr>\n",
       "      <th>999995</th>\n",
       "      <td>999995</td>\n",
       "      <td>0</td>\n",
       "      <td>[MCS]</td>\n",
       "    </tr>\n",
       "    <tr>\n",
       "      <th>999996</th>\n",
       "      <td>999996</td>\n",
       "      <td>0</td>\n",
       "      <td>[MCS]</td>\n",
       "    </tr>\n",
       "    <tr>\n",
       "      <th>999997</th>\n",
       "      <td>999997</td>\n",
       "      <td>0</td>\n",
       "      <td>[MCS, VR, MCS]</td>\n",
       "    </tr>\n",
       "    <tr>\n",
       "      <th>999998</th>\n",
       "      <td>999998</td>\n",
       "      <td>0</td>\n",
       "      <td>[MCS]</td>\n",
       "    </tr>\n",
       "    <tr>\n",
       "      <th>999999</th>\n",
       "      <td>999999</td>\n",
       "      <td>0</td>\n",
       "      <td>[MCS]</td>\n",
       "    </tr>\n",
       "  </tbody>\n",
       "</table>\n",
       "<p>1000000 rows × 3 columns</p>\n",
       "</div>"
      ],
      "text/plain": [
       "           pid  turn             int\n",
       "0            0     0           [MCS]\n",
       "1            1     0           [MCS]\n",
       "2            2     0           [MCS]\n",
       "3            3     0           [MCS]\n",
       "4            4     0           [MCS]\n",
       "...        ...   ...             ...\n",
       "999995  999995     0           [MCS]\n",
       "999996  999996     0           [MCS]\n",
       "999997  999997     0  [MCS, VR, MCS]\n",
       "999998  999998     0           [MCS]\n",
       "999999  999999     0           [MCS]\n",
       "\n",
       "[1000000 rows x 3 columns]"
      ]
     },
     "execution_count": 40,
     "metadata": {},
     "output_type": "execute_result"
    }
   ],
   "source": [
    "CRY_imp"
   ]
  },
  {
   "cell_type": "code",
   "execution_count": null,
   "metadata": {
    "vscode": {
     "languageId": "python"
    }
   },
   "outputs": [],
   "source": []
  },
  {
   "cell_type": "code",
   "execution_count": null,
   "metadata": {
    "vscode": {
     "languageId": "python"
    }
   },
   "outputs": [],
   "source": []
  },
  {
   "cell_type": "markdown",
   "metadata": {},
   "source": [
    "# TCCS "
   ]
  },
  {
   "cell_type": "code",
   "execution_count": 3,
   "metadata": {
    "vscode": {
     "languageId": "python"
    }
   },
   "outputs": [],
   "source": [
    "p0c = 0.45e12"
   ]
  },
  {
   "cell_type": "code",
   "execution_count": null,
   "metadata": {
    "vscode": {
     "languageId": "python"
    }
   },
   "outputs": [],
   "source": [
    "tccs.5r3.b2:        { <<: *TCCS3,  gap: 5.0, length: 0.004,  bending_radius: 80.00,  width: 2.0e-3,  height: 35.0e-3, <<: *ALL,  gap: null,  stage: special,    material: Si,   side: left, angle: 90, crystal: strip, active: true} "
   ]
  },
  {
   "cell_type": "code",
   "execution_count": 7,
   "metadata": {
    "vscode": {
     "languageId": "python"
    }
   },
   "outputs": [
    {
     "name": "stdout",
     "output_type": "stream",
     "text": [
      "Compiling ContextCpu kernels...\n",
      "Done compiling ContextCpu kernels.\n"
     ]
    }
   ],
   "source": [
    "coll = xc.EverestCrystal(length=0.004, material=xc.materials.SiliconCrystal, bending_radius = 80.00, angle=90,\n",
    "                            width=0.002, height=35.0e-3, side='+', lattice='strip', jaw=0)"
   ]
  },
  {
   "cell_type": "code",
   "execution_count": 12,
   "metadata": {
    "vscode": {
     "languageId": "python"
    }
   },
   "outputs": [],
   "source": [
    "def simulate_ang_scan_TCCS(lower_bound = -6.6e-5 , upper_bound = 3e-5 , step = 2e-6):\n",
    "    rng =  np.arange(lower_bound, upper_bound, step)\n",
    "    num_part = int(1e6)\n",
    "    dct_loss = {}\n",
    "    seed = 1\n",
    "    np.random.seed(seed=seed)\n",
    "\n",
    "    for ang in rng:\n",
    "\n",
    "        coll.tilt = 0\n",
    "        coll.tilt = coll.tilt + ang\n",
    "\n",
    "        y_init   = np.random.normal(loc=1.5e-3, scale=75.e-6, size=num_part)\n",
    "        #px_init  = np.random.uniform(low=98.e-6, high=102.e-6, size=num_part)\n",
    "        py_init  = np.random.uniform(low=-1.e-6, high=1.e-6, size=num_part)\n",
    "        x_init   = np.random.normal(loc=0., scale=1e-3, size=num_part)\n",
    "        px_init  = np.random.normal(loc=0., scale=5.e-6, size=num_part)\n",
    "\n",
    "        part = xp.Particles(x=x_init, px=px_init, y=y_init, py=py_init, delta=0, p0c=p0c)\n",
    "\n",
    "        random_array = np.random.randint(0, 4291630464,  size = num_part*4)\n",
    "        part._rng_s1 = random_array[0:num_part]\n",
    "        part._rng_s2 = random_array[num_part:num_part*2]\n",
    "        part._rng_s3 = random_array[num_part*2:num_part*3]\n",
    "        part._rng_s4 = random_array[num_part*3:num_part*4]\n",
    "\n",
    "        coll.track(part)\n",
    "        \n",
    "        p_abs = len(part.state[part.state<0])\n",
    "        print(coll.tilt, p_abs)\n",
    "        key = f\"{ang*1e6:.0f}\"\n",
    "        dct_loss[key] = {}\n",
    "        dct_loss[key]['angle'] = coll.tilt \n",
    "        #dct_loss[key]['align_angle'] = coll.tilt  \n",
    "        dct_loss[key]['CRY_abs'] = p_abs\n",
    "    return dct_loss"
   ]
  },
  {
   "cell_type": "code",
   "execution_count": 18,
   "metadata": {
    "vscode": {
     "languageId": "python"
    }
   },
   "outputs": [
    {
     "name": "stdout",
     "output_type": "stream",
     "text": [
      "Warning: Setting a negative tilt does not preserve the hierarchy, as the crystal tightens towards the beam.\n",
      "-6.9e-05 8595\n",
      "Warning: Setting a negative tilt does not preserve the hierarchy, as the crystal tightens towards the beam.\n",
      "-6.8e-05 8550\n",
      "Warning: Setting a negative tilt does not preserve the hierarchy, as the crystal tightens towards the beam.\n",
      "-6.7e-05 8501\n",
      "Warning: Setting a negative tilt does not preserve the hierarchy, as the crystal tightens towards the beam.\n",
      "-6.6e-05 8364\n",
      "Warning: Setting a negative tilt does not preserve the hierarchy, as the crystal tightens towards the beam.\n",
      "-6.5e-05 8499\n",
      "Warning: Setting a negative tilt does not preserve the hierarchy, as the crystal tightens towards the beam.\n",
      "-6.4e-05 8537\n",
      "Warning: Setting a negative tilt does not preserve the hierarchy, as the crystal tightens towards the beam.\n",
      "-6.3e-05 8496\n",
      "Warning: Setting a negative tilt does not preserve the hierarchy, as the crystal tightens towards the beam.\n",
      "-6.2e-05 8542\n",
      "Warning: Setting a negative tilt does not preserve the hierarchy, as the crystal tightens towards the beam.\n",
      "-6.1e-05 8409\n",
      "Warning: Setting a negative tilt does not preserve the hierarchy, as the crystal tightens towards the beam.\n",
      "-6e-05 8642\n",
      "Warning: Setting a negative tilt does not preserve the hierarchy, as the crystal tightens towards the beam.\n",
      "-5.9e-05 8645\n",
      "Warning: Setting a negative tilt does not preserve the hierarchy, as the crystal tightens towards the beam.\n",
      "-5.8e-05 8425\n",
      "Warning: Setting a negative tilt does not preserve the hierarchy, as the crystal tightens towards the beam.\n",
      "-5.7e-05 8498\n",
      "Warning: Setting a negative tilt does not preserve the hierarchy, as the crystal tightens towards the beam.\n",
      "-5.6e-05 8487\n",
      "Warning: Setting a negative tilt does not preserve the hierarchy, as the crystal tightens towards the beam.\n",
      "-5.5e-05 8525\n",
      "Warning: Setting a negative tilt does not preserve the hierarchy, as the crystal tightens towards the beam.\n",
      "-5.4e-05 8602\n",
      "Warning: Setting a negative tilt does not preserve the hierarchy, as the crystal tightens towards the beam.\n",
      "-5.3e-05 8510\n",
      "Warning: Setting a negative tilt does not preserve the hierarchy, as the crystal tightens towards the beam.\n",
      "-5.2e-05 8531\n",
      "Warning: Setting a negative tilt does not preserve the hierarchy, as the crystal tightens towards the beam.\n",
      "-5.1e-05 8461\n",
      "Warning: Setting a negative tilt does not preserve the hierarchy, as the crystal tightens towards the beam.\n",
      "-5e-05 8678\n",
      "Warning: Setting a negative tilt does not preserve the hierarchy, as the crystal tightens towards the beam.\n",
      "-4.9e-05 8660\n",
      "Warning: Setting a negative tilt does not preserve the hierarchy, as the crystal tightens towards the beam.\n",
      "-4.8e-05 8511\n",
      "Warning: Setting a negative tilt does not preserve the hierarchy, as the crystal tightens towards the beam.\n",
      "-4.7e-05 8676\n",
      "Warning: Setting a negative tilt does not preserve the hierarchy, as the crystal tightens towards the beam.\n",
      "-4.6e-05 8356\n",
      "Warning: Setting a negative tilt does not preserve the hierarchy, as the crystal tightens towards the beam.\n",
      "-4.5e-05 8479\n",
      "Warning: Setting a negative tilt does not preserve the hierarchy, as the crystal tightens towards the beam.\n",
      "-4.4e-05 8577\n",
      "Warning: Setting a negative tilt does not preserve the hierarchy, as the crystal tightens towards the beam.\n",
      "-4.3e-05 8736\n",
      "Warning: Setting a negative tilt does not preserve the hierarchy, as the crystal tightens towards the beam.\n",
      "-4.2e-05 8545\n",
      "Warning: Setting a negative tilt does not preserve the hierarchy, as the crystal tightens towards the beam.\n",
      "-4.1e-05 8449\n",
      "Warning: Setting a negative tilt does not preserve the hierarchy, as the crystal tightens towards the beam.\n",
      "-4e-05 8606\n",
      "Warning: Setting a negative tilt does not preserve the hierarchy, as the crystal tightens towards the beam.\n",
      "-3.9e-05 8602\n",
      "Warning: Setting a negative tilt does not preserve the hierarchy, as the crystal tightens towards the beam.\n",
      "-3.8e-05 8403\n",
      "Warning: Setting a negative tilt does not preserve the hierarchy, as the crystal tightens towards the beam.\n",
      "-3.7e-05 8696\n",
      "Warning: Setting a negative tilt does not preserve the hierarchy, as the crystal tightens towards the beam.\n",
      "-3.6e-05 8590\n",
      "Warning: Setting a negative tilt does not preserve the hierarchy, as the crystal tightens towards the beam.\n",
      "-3.5e-05 8472\n",
      "Warning: Setting a negative tilt does not preserve the hierarchy, as the crystal tightens towards the beam.\n",
      "-3.4e-05 8425\n",
      "Warning: Setting a negative tilt does not preserve the hierarchy, as the crystal tightens towards the beam.\n",
      "-3.3e-05 8489\n",
      "Warning: Setting a negative tilt does not preserve the hierarchy, as the crystal tightens towards the beam.\n",
      "-3.2e-05 8726\n",
      "Warning: Setting a negative tilt does not preserve the hierarchy, as the crystal tightens towards the beam.\n",
      "-3.1e-05 8388\n",
      "Warning: Setting a negative tilt does not preserve the hierarchy, as the crystal tightens towards the beam.\n",
      "-3e-05 8796\n",
      "Warning: Setting a negative tilt does not preserve the hierarchy, as the crystal tightens towards the beam.\n",
      "-2.9e-05 8523\n",
      "Warning: Setting a negative tilt does not preserve the hierarchy, as the crystal tightens towards the beam.\n",
      "-2.8e-05 8585\n",
      "Warning: Setting a negative tilt does not preserve the hierarchy, as the crystal tightens towards the beam.\n",
      "-2.7e-05 8509\n",
      "Warning: Setting a negative tilt does not preserve the hierarchy, as the crystal tightens towards the beam.\n",
      "-2.6e-05 8518\n",
      "Warning: Setting a negative tilt does not preserve the hierarchy, as the crystal tightens towards the beam.\n",
      "-2.5e-05 8341\n",
      "Warning: Setting a negative tilt does not preserve the hierarchy, as the crystal tightens towards the beam.\n",
      "-2.4e-05 8520\n",
      "Warning: Setting a negative tilt does not preserve the hierarchy, as the crystal tightens towards the beam.\n",
      "-2.3e-05 8662\n",
      "Warning: Setting a negative tilt does not preserve the hierarchy, as the crystal tightens towards the beam.\n",
      "-2.2e-05 8613\n",
      "Warning: Setting a negative tilt does not preserve the hierarchy, as the crystal tightens towards the beam.\n",
      "-2.1e-05 8425\n",
      "Warning: Setting a negative tilt does not preserve the hierarchy, as the crystal tightens towards the beam.\n",
      "-2e-05 8538\n",
      "Warning: Setting a negative tilt does not preserve the hierarchy, as the crystal tightens towards the beam.\n",
      "-1.9e-05 8617\n",
      "Warning: Setting a negative tilt does not preserve the hierarchy, as the crystal tightens towards the beam.\n",
      "-1.8e-05 8687\n",
      "Warning: Setting a negative tilt does not preserve the hierarchy, as the crystal tightens towards the beam.\n",
      "-1.7e-05 8466\n",
      "Warning: Setting a negative tilt does not preserve the hierarchy, as the crystal tightens towards the beam.\n",
      "-1.6e-05 8550\n",
      "Warning: Setting a negative tilt does not preserve the hierarchy, as the crystal tightens towards the beam.\n",
      "-1.5e-05 8527\n",
      "Warning: Setting a negative tilt does not preserve the hierarchy, as the crystal tightens towards the beam.\n",
      "-1.4e-05 8547\n",
      "Warning: Setting a negative tilt does not preserve the hierarchy, as the crystal tightens towards the beam.\n",
      "-1.3e-05 8533\n",
      "Warning: Setting a negative tilt does not preserve the hierarchy, as the crystal tightens towards the beam.\n",
      "-1.2e-05 8488\n",
      "Warning: Setting a negative tilt does not preserve the hierarchy, as the crystal tightens towards the beam.\n",
      "-1.1e-05 8530\n",
      "Warning: Setting a negative tilt does not preserve the hierarchy, as the crystal tightens towards the beam.\n",
      "-1e-05 8725\n",
      "Warning: Setting a negative tilt does not preserve the hierarchy, as the crystal tightens towards the beam.\n",
      "-9e-06 8405\n",
      "Warning: Setting a negative tilt does not preserve the hierarchy, as the crystal tightens towards the beam.\n",
      "-8e-06 7657\n",
      "Warning: Setting a negative tilt does not preserve the hierarchy, as the crystal tightens towards the beam.\n",
      "-7e-06 6435\n",
      "Warning: Setting a negative tilt does not preserve the hierarchy, as the crystal tightens towards the beam.\n",
      "-6e-06 5267\n",
      "Warning: Setting a negative tilt does not preserve the hierarchy, as the crystal tightens towards the beam.\n",
      "-5e-06 4104\n",
      "Warning: Setting a negative tilt does not preserve the hierarchy, as the crystal tightens towards the beam.\n",
      "-4e-06 3232\n",
      "Warning: Setting a negative tilt does not preserve the hierarchy, as the crystal tightens towards the beam.\n",
      "-3e-06 2539\n",
      "Warning: Setting a negative tilt does not preserve the hierarchy, as the crystal tightens towards the beam.\n",
      "-2e-06 2096\n",
      "Warning: Setting a negative tilt does not preserve the hierarchy, as the crystal tightens towards the beam.\n",
      "-1e-06 1846\n",
      "Warning: Setting a negative tilt does not preserve the hierarchy, as the crystal tightens towards the beam.\n",
      "-0.0 1715\n",
      "1e-06 1784\n",
      "2e-06 2022\n",
      "3e-06 2510\n",
      "4e-06 3290\n",
      "5e-06 4181\n",
      "6e-06 5271\n",
      "7e-06 6454\n",
      "8e-06 7736\n",
      "9e-06 8577\n",
      "1e-05 8691\n",
      "1.1e-05 8554\n",
      "1.2e-05 8525\n",
      "1.3e-05 8560\n",
      "1.4e-05 8409\n",
      "1.5e-05 8484\n",
      "1.6e-05 8484\n",
      "1.7e-05 8622\n",
      "1.8e-05 8568\n",
      "1.9e-05 8610\n",
      "2e-05 8622\n",
      "2.1e-05 8542\n",
      "2.2e-05 8534\n",
      "2.3e-05 8675\n",
      "2.4e-05 8417\n",
      "2.5e-05 8396\n",
      "2.6e-05 8542\n",
      "2.7e-05 8420\n",
      "2.8e-05 8516\n",
      "2.9e-05 8636\n",
      "3e-05 8473\n",
      "3.1e-05 8506\n",
      "3.2e-05 8357\n",
      "3.3e-05 8602\n",
      "3.4e-05 8495\n",
      "3.5e-05 8394\n",
      "3.6e-05 8576\n",
      "3.7e-05 8640\n",
      "3.8e-05 8666\n",
      "3.9e-05 8601\n",
      "4e-05 8698\n",
      "4.1e-05 8646\n",
      "4.2e-05 8526\n",
      "4.3e-05 8442\n",
      "4.4e-05 8575\n",
      "4.5e-05 8537\n",
      "4.6e-05 8489\n",
      "4.7e-05 8393\n",
      "4.8e-05 8646\n",
      "4.9e-05 8522\n",
      "5e-05 8652\n",
      "5.1e-05 8662\n",
      "5.2e-05 8662\n",
      "5.3e-05 8559\n",
      "5.4e-05 8499\n",
      "5.5e-05 8593\n",
      "5.6e-05 8483\n",
      "5.7e-05 8652\n",
      "5.8e-05 8547\n",
      "5.9e-05 8557\n",
      "6e-05 8644\n",
      "6.1e-05 8440\n",
      "6.2e-05 8374\n",
      "6.3e-05 8554\n",
      "6.4e-05 8434\n",
      "6.5e-05 8655\n"
     ]
    }
   ],
   "source": [
    "dct_loss_notrans_TCCS = simulate_ang_scan_TCCS(lower_bound = -6.9e-5 , upper_bound = 6.6e-5 , step = 1e-6)"
   ]
  },
  {
   "cell_type": "code",
   "execution_count": 15,
   "metadata": {
    "vscode": {
     "languageId": "python"
    }
   },
   "outputs": [],
   "source": [
    "def plot_angular_scan(data_dict, cry_name = 'CRY', normalize = False):\n",
    "    fig, ax = plt.subplots(figsize=(10, 5))\n",
    "    data_dict = data_dict.set_index('index').T.to_dict() if isinstance(data_dict, pd.DataFrame) else data_dict\n",
    "    n_cry_abs = []\n",
    "    angles = []\n",
    "    norm_abs = []\n",
    "    for key in data_dict.keys():\n",
    "        n_cry_abs.append(data_dict[key][cry_name+'_abs'])\n",
    "        angles.append(data_dict[key]['angle'])\n",
    "    \n",
    "    #ax.axvline(miscut, color='k', linestyle='--', label='Nominal')\n",
    "    ax.plot(angles, n_cry_abs, marker='o')\n",
    "    ax.set_xlabel('Angle [rad]', fontsize=12)\n",
    "    ax.set_ylabel('Absorbed particles', fontsize=12)\n",
    "    ax.tick_params(axis='both', which='major', labelsize=12)\n",
    "    ax2 = ax.twiny()\n",
    "    ax2.plot(data_dict.keys(), n_cry_abs, alpha=0.0, color='k')\n",
    "    return fig, ax, ax2"
   ]
  },
  {
   "cell_type": "code",
   "execution_count": 19,
   "metadata": {
    "vscode": {
     "languageId": "python"
    }
   },
   "outputs": [
    {
     "data": {
      "text/plain": [
       "(<Figure size 720x360 with 2 Axes>,\n",
       " <Axes: xlabel='Angle [rad]', ylabel='Absorbed particles'>,\n",
       " <Axes: >)"
      ]
     },
     "execution_count": 19,
     "metadata": {},
     "output_type": "execute_result"
    },
    {
     "data": {
      "image/png": "[encoded data removed]",
      "text/plain": [
       "<Figure size 720x360 with 2 Axes>"
      ]
     },
     "metadata": {
      "needs_background": "light"
     },
     "output_type": "display_data"
    }
   ],
   "source": [
    "plot_angular_scan(dct_loss_notrans_TCCS)"
   ]
  },
  {
   "cell_type": "code",
   "execution_count": null,
   "metadata": {
    "vscode": {
     "languageId": "python"
    }
   },
   "outputs": [],
   "source": []
  },
  {
   "cell_type": "markdown",
   "metadata": {},
   "source": [
    "# test pencil"
   ]
  },
  {
   "cell_type": "markdown",
   "metadata": {},
   "source": []
  },
  {
   "cell_type": "code",
   "execution_count": 3,
   "metadata": {
    "vscode": {
     "languageId": "python"
    }
   },
   "outputs": [],
   "source": [
    "line_file_b2 = \"../MadX/2025/injection/track_injection_b2.json\"\n",
    "#line_file_b2 ="
   ]
  },
  {
   "cell_type": "code",
   "execution_count": 4,
   "metadata": {
    "vscode": {
     "languageId": "python"
    }
   },
   "outputs": [
    {
     "data": {
      "application/vnd.jupyter.widget-view+json": {
       "model_id": "776eff14a7af44cf9fa75383b6350879",
       "version_major": 2,
       "version_minor": 0
      },
      "text/plain": [
       "Loading line from dict:   0%|          | 0/102068 [00:00<?, ?it/s]"
      ]
     },
     "metadata": {},
     "output_type": "display_data"
    },
    {
     "name": "stdout",
     "output_type": "stream",
     "text": [
      "Done loading line from dict.           \n"
     ]
    }
   ],
   "source": [
    "line = xt.Line.from_json(line_file_b2)"
   ]
  },
  {
   "cell_type": "code",
   "execution_count": 5,
   "metadata": {
    "vscode": {
     "languageId": "python"
    }
   },
   "outputs": [
    {
     "data": {
      "application/vnd.jupyter.widget-view+json": {
       "model_id": "5bb1e13bb06645a69c48d35b64b1fc9c",
       "version_major": 2,
       "version_minor": 0
      },
      "text/plain": [
       "Slicing line:   0%|          | 0/102068 [00:00<?, ?it/s]"
      ]
     },
     "metadata": {},
     "output_type": "display_data"
    },
    {
     "data": {
      "application/vnd.jupyter.widget-view+json": {
       "model_id": "ab7400729e40432391f3268580dbe6ec",
       "version_major": 2,
       "version_minor": 0
      },
      "text/plain": [
       "Slicing line:   0%|          | 0/102071 [00:00<?, ?it/s]"
      ]
     },
     "metadata": {},
     "output_type": "display_data"
    },
    {
     "data": {
      "application/vnd.jupyter.widget-view+json": {
       "model_id": "8efaaca20fef4bd1b309052abac39108",
       "version_major": 2,
       "version_minor": 0
      },
      "text/plain": [
       "Slicing line:   0%|          | 0/102074 [00:00<?, ?it/s]"
      ]
     },
     "metadata": {},
     "output_type": "display_data"
    },
    {
     "data": {
      "application/vnd.jupyter.widget-view+json": {
       "model_id": "c986204028eb42b680d8f2e3c728f402",
       "version_major": 2,
       "version_minor": 0
      },
      "text/plain": [
       "Slicing line:   0%|          | 0/102077 [00:00<?, ?it/s]"
      ]
     },
     "metadata": {},
     "output_type": "display_data"
    },
    {
     "data": {
      "application/vnd.jupyter.widget-view+json": {
       "model_id": "0bc2a392dcae470ab13295d1be2c7da2",
       "version_major": 2,
       "version_minor": 0
      },
      "text/plain": [
       "Slicing line:   0%|          | 0/102080 [00:00<?, ?it/s]"
      ]
     },
     "metadata": {},
     "output_type": "display_data"
    },
    {
     "data": {
      "application/vnd.jupyter.widget-view+json": {
       "model_id": "2e7f706f99f54a269aeb2872b36a27a9",
       "version_major": 2,
       "version_minor": 0
      },
      "text/plain": [
       "Slicing line:   0%|          | 0/102083 [00:00<?, ?it/s]"
      ]
     },
     "metadata": {},
     "output_type": "display_data"
    },
    {
     "data": {
      "application/vnd.jupyter.widget-view+json": {
       "model_id": "9fe28559bade46928afc8207860a6350",
       "version_major": 2,
       "version_minor": 0
      },
      "text/plain": [
       "Slicing line:   0%|          | 0/102086 [00:00<?, ?it/s]"
      ]
     },
     "metadata": {},
     "output_type": "display_data"
    },
    {
     "data": {
      "text/plain": [
       "<Line  at 140193972880960>"
      ]
     },
     "execution_count": 5,
     "metadata": {},
     "output_type": "execute_result"
    }
   ],
   "source": [
    "end_s = line.get_length()\n",
    "\n",
    "TCCS_name = 'tccs.5r3.b2'\n",
    "TCCP_name = 'tccp.4l3.b2'\n",
    "TARGET_name = 'target.4l3.b2'\n",
    "PIXEL_name = 'pixel.detector'\n",
    "TFT_name = 'tft.detector'\n",
    "TCP_name = 'tcp.d6r7.b2'\n",
    "TCLA_name = 'tcla.a5l3.b2'\n",
    "\n",
    "\n",
    "TCCS_loc_abs  = 6773.9428  #6773.7 #6775\n",
    "TCCP_loc_abs  = 6653.2543  #6653.3 #6655\n",
    "PIX1_loc_abs = 6652.7039\n",
    "PIX2_loc_abs = 6652.6929\n",
    "PIX3_loc_abs = 6652.6819\n",
    "TFT_loc_abs = 6652.114\n",
    "\n",
    "TCCS_loc = end_s - TCCS_loc_abs\n",
    "TCCP_loc = end_s - TCCP_loc_abs\n",
    "TARGET_loc = end_s - (TCCP_loc_abs + 0.07/2 +10000/2)\n",
    "PIX1_loc = end_s - PIX1_loc_abs\n",
    "PIX2_loc = end_s - PIX2_loc_abs\n",
    "PIX3_loc = end_s - PIX3_loc_abs\n",
    "TFT_loc = end_s - TFT_loc_abs\n",
    "TCP_loc = line.get_s_position()[line.element_names.index(TCP_name)]\n",
    "TCLA_loc = line.get_s_position()[line.element_names.index(TCLA_name)]\n",
    "\n",
    "\n",
    "line.insert_element(at_s=TCCS_loc, element=xt.Marker(), name=TCCS_name)\n",
    "line.insert_element(at_s=TCCS_loc, element=xt.LimitEllipse(a_squ=0.0016, b_squ=0.0016, a_b_squ=2.56e-06), name=TCCS_name+'_aper')\n",
    "line.insert_element(at_s=TCCP_loc, element=xt.Marker(), name=TCCP_name)\n",
    "line.insert_element(at_s=TCCP_loc, element=xt.LimitEllipse(a_squ=0.0016, b_squ=0.0016, a_b_squ=2.56e-06), name=TCCP_name+'_aper')\n",
    "line.insert_element(at_s=TARGET_loc, element=xt.Marker(), name=TARGET_name)\n",
    "line.insert_element(at_s=TARGET_loc, element=xt.LimitEllipse(a_squ=0.0016, b_squ=0.0016, a_b_squ=2.56e-06), name= TARGET_name + '_aper')\n",
    "line.insert_element(at_s=PIX1_loc, element=xt.Marker(), name=PIXEL_name+'_1')\n",
    "line.insert_element(at_s=PIX1_loc, element=xt.LimitEllipse(a_squ=0.0016, b_squ=0.0016, a_b_squ=2.56e-06), name= PIXEL_name+'_1' + '_aper')\n",
    "line.insert_element(at_s=PIX2_loc, element=xt.Marker(), name=PIXEL_name+'_2')\n",
    "line.insert_element(at_s=PIX2_loc, element=xt.LimitEllipse(a_squ=0.0016, b_squ=0.0016, a_b_squ=2.56e-06), name= PIXEL_name+'_2' + '_aper')\n",
    "line.insert_element(at_s=PIX3_loc, element=xt.Marker(), name=PIXEL_name+'_3')\n",
    "line.insert_element(at_s=PIX3_loc, element=xt.LimitEllipse(a_squ=0.0016, b_squ=0.0016, a_b_squ=2.56e-06), name= PIXEL_name+'_3' + '_aper')\n",
    "line.insert_element(at_s=TFT_loc, element=xt.Marker(), name=TFT_name)"
   ]
  },
  {
   "cell_type": "code",
   "execution_count": 17,
   "metadata": {
    "vscode": {
     "languageId": "python"
    }
   },
   "outputs": [],
   "source": []
  },
  {
   "cell_type": "code",
   "execution_count": 6,
   "metadata": {
    "vscode": {
     "languageId": "python"
    }
   },
   "outputs": [
    {
     "name": "stdout",
     "output_type": "stream",
     "text": [
      "Installing tcpcv.a6r7.b2        as EverestCrystal\n",
      "Compiling ContextCpu kernels...\n",
      "Done compiling ContextCpu kernels.\n",
      "Installing tcsg.b5r7.b2         as EverestCollimator\n",
      "Compiling ContextCpu kernels...\n",
      "Done compiling ContextCpu kernels.\n",
      "Installing tcspm.6l7.b2         as EverestCollimator\n",
      "Installing tcl.4l5.b2           as EverestCollimator\n",
      "Installing tcp.6r3.b2           as EverestCollimator\n",
      "Installing tcsg.a5l3.b2         as EverestCollimator\n",
      "Installing tcsg.4l3.b2          as EverestCollimator\n",
      "Installing tcsp.a4l6.b2         as EverestCollimator\n",
      "Installing target.4l3.b2        as EverestCollimator\n",
      "Installing tcld.a11l2.b2        as EverestCollimator\n",
      "Installing pixel.detector_3     as EverestCollimator\n",
      "Installing tctph.4r5.b2         as EverestCollimator\n",
      "Installing tcp.c6r7.b2          as EverestCollimator\n",
      "Installing tcla.c6l7.b2         as EverestCollimator\n",
      "Installing tcl.5l5.b2           as EverestCollimator\n",
      "Installing tcsg.b4r7.b2         as EverestCollimator\n",
      "Installing tcsg.b5l3.b2         as EverestCollimator\n",
      "Installing tcsg.5r3.b2          as EverestCollimator\n",
      "Installing tcla.6l3.b2          as EverestCollimator\n",
      "Installing tcsg.e5l7.b2         as EverestCollimator\n",
      "Installing tcla.7l3.b2          as EverestCollimator\n",
      "Installing tclib.6l8.b2         as EverestCollimator\n",
      "Installing tctpv.4r2.b2         as EverestCollimator\n",
      "Installing tcsg.6l7.b2          as EverestCollimator\n",
      "Installing tdisc.a4r8.b2        as EverestCollimator\n",
      "Installing tcp.d6r7.b2          as EverestCollimator\n",
      "Installing tcla.a5l3.b2         as EverestCollimator\n",
      "Installing tcl.4l1.b2           as EverestCollimator\n",
      "Installing tcsg.d5l7.b2         as EverestCollimator\n",
      "Installing tcla.b5l3.b2         as EverestCollimator\n",
      "Installing tcla.d6l7.b2         as EverestCollimator\n",
      "Installing tctph.4r2.b2         as EverestCollimator\n",
      "Installing tctph.4r8.b2         as EverestCollimator\n",
      "Installing tcdqa.c4l6.b2        as EverestCollimator\n",
      "Installing tccs.5r3.b2          as EverestCrystal\n",
      "Installing pixel.detector_2     as EverestCollimator\n",
      "Installing tctpv.4r8.b2         as EverestCollimator\n",
      "Installing tcspm.b4r7.b2        as EverestCollimator\n",
      "Installing tcspm.d4r7.b2        as EverestCollimator\n",
      "Installing tcla.a6l7.b2         as EverestCollimator\n",
      "Installing tcsg.a6r7.b2         as EverestCollimator\n",
      "Installing tcsg.a4l7.b2         as EverestCollimator\n",
      "Installing tdisa.a4r8.b2        as EverestCollimator\n",
      "Installing tcsg.a4r7.b2         as EverestCollimator\n",
      "Installing tdisb.a4r8.b2        as EverestCollimator\n",
      "Installing tcla.b6l7.b2         as EverestCollimator\n",
      "Installing tcl.6l1.b2           as EverestCollimator\n",
      "Installing tcsg.d4r7.b2         as EverestCollimator\n",
      "Installing pixel.detector_1     as EverestCollimator\n",
      "Installing tcl.6l5.b2           as EverestCollimator\n",
      "Installing tcl.5l1.b2           as EverestCollimator\n",
      "Installing tccp.4l3.b2          as EverestCrystal\n",
      "Installing tctpv.4r5.b2         as EverestCollimator\n",
      "Installing tcpch.a5r7.b2        as EverestCrystal\n",
      "Installing tcp.b6r7.b2          as EverestCollimator\n",
      "Installing tcdqa.b4l6.b2        as EverestCollimator\n",
      "Installing tctpv.4r1.b2         as EverestCollimator\n",
      "Installing tcdqa.a4l6.b2        as EverestCollimator\n",
      "Installing tcsg.a5r7.b2         as EverestCollimator\n",
      "Installing tctph.4r1.b2         as EverestCollimator\n",
      "Installing tclia.4l8            as EverestCollimator\n",
      "Installing tcspm.e5l7.b2        as EverestCollimator\n",
      "Installing tcsg.b5l7.b2         as EverestCollimator\n",
      "Installing tcla.a7l7.b2         as EverestCollimator\n"
     ]
    },
    {
     "data": {
      "application/vnd.jupyter.widget-view+json": {
       "model_id": "a1378affaf1b496aa652dd6994f49008",
       "version_major": 2,
       "version_minor": 0
      },
      "text/plain": [
       "Slicing line:   0%|          | 0/102088 [00:00<?, ?it/s]"
      ]
     },
     "metadata": {},
     "output_type": "display_data"
    }
   ],
   "source": [
    "colldb = xc.CollimatorDatabase.from_yaml(\"../input_files/colldbs/TWOCRYST_colldb_450GeV.yaml\", beam=2, ignore_crystals=False)\n",
    "colldb.install_everest_collimators(line = line, verbose=True)"
   ]
  },
  {
   "cell_type": "code",
   "execution_count": 7,
   "metadata": {
    "vscode": {
     "languageId": "python"
    }
   },
   "outputs": [
    {
     "name": "stdout",
     "output_type": "stream",
     "text": [
      "Compiling ContextCpu kernels...\n",
      "Done compiling ContextCpu kernels.\n",
      "Compiling ContextCpu kernels...\n",
      "Done compiling ContextCpu kernels.\n"
     ]
    }
   ],
   "source": [
    "tw = line.twiss()"
   ]
  },
  {
   "cell_type": "code",
   "execution_count": 8,
   "metadata": {
    "vscode": {
     "languageId": "python"
    }
   },
   "outputs": [],
   "source": [
    "line.collimators.assign_optics()"
   ]
  },
  {
   "cell_type": "code",
   "execution_count": 9,
   "metadata": {
    "vscode": {
     "languageId": "python"
    }
   },
   "outputs": [
    {
     "name": "stdout",
     "output_type": "stream",
     "text": [
      "Warning: Setting a negative tilt does not preserve the hierarchy, as the crystal tightens towards the beam.\n"
     ]
    }
   ],
   "source": [
    "line[TCCP_name].align_to_beam_divergence()\n",
    "line[TCCS_name].align_to_beam_divergence()"
   ]
  },
  {
   "cell_type": "code",
   "execution_count": 12,
   "metadata": {
    "vscode": {
     "languageId": "python"
    }
   },
   "outputs": [
    {
     "data": {
      "text/plain": [
       "1.645488511272413"
      ]
     },
     "execution_count": 12,
     "metadata": {},
     "output_type": "execute_result"
    }
   ],
   "source": [
    "tw['alfy', TCCS_name]"
   ]
  },
  {
   "cell_type": "code",
   "execution_count": 13,
   "metadata": {
    "vscode": {
     "languageId": "python"
    }
   },
   "outputs": [
    {
     "data": {
      "text/plain": [
       "1.8531907096868934"
      ]
     },
     "execution_count": 13,
     "metadata": {},
     "output_type": "execute_result"
    }
   ],
   "source": [
    "tw['alfx', 'tcp.c6r7.b2']"
   ]
  },
  {
   "cell_type": "code",
   "execution_count": 13,
   "metadata": {
    "vscode": {
     "languageId": "python"
    }
   },
   "outputs": [
    {
     "name": "stdout",
     "output_type": "stream",
     "text": [
      "\n",
      "---- \n",
      " 0.0 -7.576502365299776e-05 True \n",
      "----\n",
      "\n",
      "Collimator tcp.c6r7.b2 is converging.\n"
     ]
    }
   ],
   "source": [
    "part = line['tcp.c6r7.b2'].generate_pencil(num_particles = 10)"
   ]
  },
  {
   "cell_type": "code",
   "execution_count": 26,
   "metadata": {
    "vscode": {
     "languageId": "python"
    }
   },
   "outputs": [
    {
     "data": {
      "text/plain": [
       "-3.0597805375693876"
      ]
     },
     "execution_count": 26,
     "metadata": {},
     "output_type": "execute_result"
    }
   ],
   "source": [
    "tw['alfy', TCCP_name]"
   ]
  },
  {
   "cell_type": "code",
   "execution_count": 24,
   "metadata": {
    "vscode": {
     "languageId": "python"
    }
   },
   "outputs": [
    {
     "data": {
      "text/plain": [
       "1.5518372717691833e-05"
      ]
     },
     "execution_count": 24,
     "metadata": {},
     "output_type": "execute_result"
    }
   ],
   "source": [
    "line[TCCP_name].divergence"
   ]
  },
  {
   "cell_type": "code",
   "execution_count": 25,
   "metadata": {
    "vscode": {
     "languageId": "python"
    }
   },
   "outputs": [],
   "source": [
    "coll = line[TCCP_name]\n",
    "plane = 'y'\n",
    "tilt = coll.tilt[0] if isinstance(coll.tilt, list) else coll.tilt\n",
    "beta0 = line.particle_ref.beta0[0]\n",
    "gamma0 = line.particle_ref.gamma0[0]\n",
    "gemitts = {'x': coll.nemitt_x / beta0 / gamma0,\n",
    "            'y': coll.nemitt_y / beta0 / gamma0}\n",
    "betatron_angle = -coll.gap * tw[f'alf{plane}', TCCP_name] * np.sqrt(gemitts[plane] / tw[f'bet{plane}', TCCP_name])\n",
    "tolerance_tilt = 1e-7 # 0.1 urad tolerance on jaw tilt"
   ]
  },
  {
   "cell_type": "code",
   "execution_count": 10,
   "metadata": {
    "vscode": {
     "languageId": "python"
    }
   },
   "outputs": [],
   "source": [
    "tolerance_tilt = 1e-7 \n"
   ]
  },
  {
   "cell_type": "code",
   "execution_count": 27,
   "metadata": {
    "vscode": {
     "languageId": "python"
    }
   },
   "outputs": [
    {
     "data": {
      "text/plain": [
       "1.5518372717691833e-05"
      ]
     },
     "execution_count": 27,
     "metadata": {},
     "output_type": "execute_result"
    }
   ],
   "source": [
    "line[TCCP_name].divergence"
   ]
  },
  {
   "cell_type": "code",
   "execution_count": 28,
   "metadata": {
    "vscode": {
     "languageId": "python"
    }
   },
   "outputs": [
    {
     "data": {
      "text/plain": [
       "True"
      ]
     },
     "execution_count": 28,
     "metadata": {},
     "output_type": "execute_result"
    }
   ],
   "source": [
    "line[TCCP_name].tilt + tolerance_tilt > betatron_angle"
   ]
  },
  {
   "cell_type": "code",
   "execution_count": 19,
   "metadata": {
    "vscode": {
     "languageId": "python"
    }
   },
   "outputs": [
    {
     "name": "stdout",
     "output_type": "stream",
     "text": [
      "0.5.12\n"
     ]
    }
   ],
   "source": [
    "print(xc.__version__)"
   ]
  },
  {
   "cell_type": "code",
   "execution_count": 29,
   "metadata": {
    "vscode": {
     "languageId": "python"
    }
   },
   "outputs": [],
   "source": [
    "betatron_angle2 = coll.gap * coll.divergence"
   ]
  },
  {
   "cell_type": "code",
   "execution_count": 30,
   "metadata": {
    "vscode": {
     "languageId": "python"
    }
   },
   "outputs": [
    {
     "data": {
      "text/plain": [
       "0.00015518372717691833"
      ]
     },
     "execution_count": 30,
     "metadata": {},
     "output_type": "execute_result"
    }
   ],
   "source": [
    "betatron_angle2"
   ]
  },
  {
   "cell_type": "code",
   "execution_count": 31,
   "metadata": {
    "vscode": {
     "languageId": "python"
    }
   },
   "outputs": [
    {
     "name": "stdout",
     "output_type": "stream",
     "text": [
      "Warning: Setting a negative tilt does not preserve the hierarchy, as the crystal tightens towards the beam.\n"
     ]
    }
   ],
   "source": [
    "betatron_angle2 = line[TCCS_name].gap * line[TCCS_name].divergence\n",
    "line[TCCS_name].align_to_beam_divergence()"
   ]
  },
  {
   "cell_type": "code",
   "execution_count": 32,
   "metadata": {
    "vscode": {
     "languageId": "python"
    }
   },
   "outputs": [
    {
     "data": {
      "text/plain": [
       "1.0002510478151696e-07"
      ]
     },
     "execution_count": 32,
     "metadata": {},
     "output_type": "execute_result"
    }
   ],
   "source": [
    "line[TCCS_name].tilt + tolerance_tilt - betatron_angle2"
   ]
  },
  {
   "cell_type": "code",
   "execution_count": 33,
   "metadata": {
    "vscode": {
     "languageId": "python"
    }
   },
   "outputs": [
    {
     "data": {
      "text/plain": [
       "-4.56412e-05"
      ]
     },
     "execution_count": 33,
     "metadata": {},
     "output_type": "execute_result"
    }
   ],
   "source": [
    "line[TCCS_name].tilt "
   ]
  },
  {
   "cell_type": "code",
   "execution_count": 34,
   "metadata": {
    "vscode": {
     "languageId": "python"
    }
   },
   "outputs": [
    {
     "data": {
      "text/plain": [
       "-4.5641225104781514e-05"
      ]
     },
     "execution_count": 34,
     "metadata": {},
     "output_type": "execute_result"
    }
   ],
   "source": [
    "betatron_angle2"
   ]
  },
  {
   "cell_type": "code",
   "execution_count": 11,
   "metadata": {
    "vscode": {
     "languageId": "python"
    }
   },
   "outputs": [
    {
     "name": "stdout",
     "output_type": "stream",
     "text": [
      "\n",
      "---- \n",
      " -4.56412e-05 -4.5641198999999997e-05 -4.5641225104781514e-05 True \n",
      "----\n",
      "\n",
      "Collimator tccs.5r3.b2 is converging.\n"
     ]
    }
   ],
   "source": [
    "part = line[TCCS_name].generate_pencil(num_particles = 10)"
   ]
  },
  {
   "cell_type": "code",
   "execution_count": 12,
   "metadata": {
    "vscode": {
     "languageId": "python"
    }
   },
   "outputs": [
    {
     "name": "stdout",
     "output_type": "stream",
     "text": [
      "\n",
      "---- \n",
      " 0.0001551837 0.000155183701 0.00015518372717691833 False \n",
      "----\n",
      "\n",
      "Collimator tccp.4l3.b2 is diverging.\n",
      "Compiling ContextCpu kernels...\n",
      "Done compiling ContextCpu kernels.\n"
     ]
    }
   ],
   "source": [
    "part = line[TCCP_name].generate_pencil(num_particles = 10)"
   ]
  },
  {
   "cell_type": "code",
   "execution_count": 16,
   "metadata": {
    "vscode": {
     "languageId": "python"
    }
   },
   "outputs": [
    {
     "data": {
      "text/plain": [
       "False"
      ]
     },
     "execution_count": 16,
     "metadata": {},
     "output_type": "execute_result"
    }
   ],
   "source": [
    "\n",
    "0.0001551837> 0.00015518372717691833 \n"
   ]
  },
  {
   "cell_type": "code",
   "execution_count": 15,
   "metadata": {
    "vscode": {
     "languageId": "python"
    }
   },
   "outputs": [
    {
     "data": {
      "text/plain": [
       "True"
      ]
     },
     "execution_count": 15,
     "metadata": {},
     "output_type": "execute_result"
    }
   ],
   "source": [
    "0.0001551837 + tolerance_tilt > 0.00015518372717691833 "
   ]
  },
  {
   "cell_type": "code",
   "execution_count": 17,
   "metadata": {
    "vscode": {
     "languageId": "python"
    }
   },
   "outputs": [
    {
     "data": {
      "text/plain": [
       "0.0001552837"
      ]
     },
     "execution_count": 17,
     "metadata": {},
     "output_type": "execute_result"
    }
   ],
   "source": [
    "0.0001551837 + tolerance_tilt "
   ]
  },
  {
   "cell_type": "code",
   "execution_count": 18,
   "metadata": {
    "vscode": {
     "languageId": "python"
    }
   },
   "outputs": [
    {
     "data": {
      "text/plain": [
       "1e-07"
      ]
     },
     "execution_count": 18,
     "metadata": {},
     "output_type": "execute_result"
    }
   ],
   "source": [
    "tolerance_tilt"
   ]
  },
  {
   "cell_type": "code",
   "execution_count": 62,
   "metadata": {
    "vscode": {
     "languageId": "python"
    }
   },
   "outputs": [
    {
     "data": {
      "text/plain": [
       "(0.0014388958867790674,\n",
       " 0.0007433345277324364,\n",
       " TwissTable: 1 row, 62 cols\n",
       " name                    s             x            px             y            py          zeta ...\n",
       " tccp.4l3.b2       20005.6   9.26143e-07   1.61713e-08  -6.49899e-07  -4.85394e-09  -2.05468e-06,\n",
       " 'tccp.4l3.b2')"
      ]
     },
     "execution_count": 62,
     "metadata": {},
     "output_type": "execute_result"
    }
   ],
   "source": [
    "name = TCCP_name\n",
    "beam_sizes = tw.get_beam_covariance(nemitt_x=line[TCCP_name].nemitt_x, nemitt_y=line[TCCP_name].nemitt_y)\n",
    "plane = 'y'\n",
    "transv_plane = 'x'\n",
    "sigma = beam_sizes.rows[name:f'{name}>>1'][f'sigma_{plane}'][0]\n",
    "sigma_transv = beam_sizes.rows[name:f'{name}>>1'][f'sigma_{transv_plane}'][0]\n",
    "tw_at_s = tw.rows[name]\n",
    "at_element = name\n",
    "sigma, sigma_transv, tw_at_s, at_element"
   ]
  },
  {
   "cell_type": "code",
   "execution_count": 64,
   "metadata": {
    "vscode": {
     "languageId": "python"
    }
   },
   "outputs": [
    {
     "data": {
      "text/plain": [
       "(0.0014399822146527103,\n",
       " 0.0007421654440245123,\n",
       " TwissTable: 1 row, 62 cols\n",
       " name                                    s             x            px             y            py ...\n",
       " tccp.4l3.b2_aper_downstream       20005.7   9.27275e-07   1.61713e-08  -6.50239e-07  -4.85394e-09,\n",
       " 'tccp.4l3.b2_aper_downstream')"
      ]
     },
     "execution_count": 64,
     "metadata": {},
     "output_type": "execute_result"
    }
   ],
   "source": [
    "# pencil at back of jaw\n",
    "sigma = beam_sizes.rows[name:f'{name}>>1'][f'sigma_{plane}'][1]\n",
    "sigma_transv = beam_sizes.rows[name:f'{name}>>1'][f'sigma_{transv_plane}'][1]\n",
    "tw_at_s = tw.rows[f'{name}>>1']\n",
    "at_element = line.element_names[line.element_names.index(name)+1]\n",
    "sigma, sigma_transv, tw_at_s, at_element"
   ]
  },
  {
   "cell_type": "code",
   "execution_count": null,
   "metadata": {
    "vscode": {
     "languageId": "python"
    }
   },
   "outputs": [],
   "source": []
  },
  {
   "cell_type": "code",
   "execution_count": null,
   "metadata": {
    "vscode": {
     "languageId": "python"
    }
   },
   "outputs": [],
   "source": []
  },
  {
   "cell_type": "code",
   "execution_count": 19,
   "metadata": {
    "vscode": {
     "languageId": "python"
    }
   },
   "outputs": [
    {
     "data": {
      "application/vnd.jupyter.widget-view+json": {
       "model_id": "b79debbb866346759d0e25b170b79bb0",
       "version_major": 2,
       "version_minor": 0
      },
      "text/plain": [
       "Loading line from dict:   0%|          | 0/102068 [00:00<?, ?it/s]"
      ]
     },
     "metadata": {},
     "output_type": "display_data"
    },
    {
     "name": "stdout",
     "output_type": "stream",
     "text": [
      "Done loading line from dict.           \n"
     ]
    }
   ],
   "source": [
    "line_name = \"../MD_Energy_Ramp/track_injection_b2.json\"\n",
    "line = xt.Line.from_json(line_name)"
   ]
  },
  {
   "cell_type": "code",
   "execution_count": 20,
   "metadata": {
    "vscode": {
     "languageId": "python"
    }
   },
   "outputs": [],
   "source": [
    "collimators = \"collimators_MD.yaml\" \n",
    "sim_dict = \"MD_dict.json\""
   ]
  },
  {
   "cell_type": "code",
   "execution_count": 21,
   "metadata": {
    "vscode": {
     "languageId": "python"
    }
   },
   "outputs": [],
   "source": [
    "CRY_name ='tcpch.a5r7.b2'\n",
    "colldb = xc.CollimatorDatabase.from_yaml(collimators, beam=2, ignore_crystals=False)"
   ]
  },
  {
   "cell_type": "code",
   "execution_count": 22,
   "metadata": {
    "vscode": {
     "languageId": "python"
    }
   },
   "outputs": [
    {
     "name": "stdout",
     "output_type": "stream",
     "text": [
      "Compiling ContextCpu kernels...\n",
      "Done compiling ContextCpu kernels.\n"
     ]
    }
   ],
   "source": [
    "tw = line.twiss()"
   ]
  },
  {
   "cell_type": "code",
   "execution_count": 23,
   "metadata": {
    "vscode": {
     "languageId": "python"
    }
   },
   "outputs": [
    {
     "data": {
      "text/plain": [
       "-3.542768392822383"
      ]
     },
     "execution_count": 23,
     "metadata": {},
     "output_type": "execute_result"
    }
   ],
   "source": [
    "tw['alfx', CRY_name]"
   ]
  },
  {
   "cell_type": "code",
   "execution_count": 24,
   "metadata": {
    "vscode": {
     "languageId": "python"
    }
   },
   "outputs": [
    {
     "name": "stdout",
     "output_type": "stream",
     "text": [
      "Installing tcpcv.a6r7.b2        as EverestCrystal\n",
      "Installing tcsg.b5r7.b2         as EverestCollimator\n",
      "Installing tcspm.6l7.b2         as EverestCollimator\n",
      "Installing tcl.4l5.b2           as EverestCollimator\n",
      "Installing tcp.6r3.b2           as EverestCollimator\n",
      "Installing tcsg.a5l3.b2         as EverestCollimator\n",
      "Installing tcsg.4l3.b2          as EverestCollimator\n",
      "Installing tcsp.a4l6.b2         as EverestCollimator\n",
      "Installing tcld.a11l2.b2        as EverestCollimator\n",
      "Installing tctph.4r5.b2         as EverestCollimator\n",
      "Installing tcp.c6r7.b2          as EverestCollimator\n",
      "Installing tcla.c6l7.b2         as EverestCollimator\n",
      "Installing tcl.5l5.b2           as EverestCollimator\n",
      "Installing tcsg.b4r7.b2         as EverestCollimator\n",
      "Installing tcsg.b5l3.b2         as EverestCollimator\n",
      "Installing tcsg.5r3.b2          as EverestCollimator\n",
      "Installing tcla.6l3.b2          as EverestCollimator\n",
      "Installing tcsg.e5l7.b2         as EverestCollimator\n",
      "Installing tcla.7l3.b2          as EverestCollimator\n",
      "Installing tclib.6l8.b2         as EverestCollimator\n",
      "Installing tctpv.4r2.b2         as EverestCollimator\n",
      "Installing tcsg.6l7.b2          as EverestCollimator\n",
      "Installing tdisc.a4r8.b2        as EverestCollimator\n",
      "Installing tcp.d6r7.b2          as EverestCollimator\n",
      "Installing tcla.a5l3.b2         as EverestCollimator\n",
      "Installing tcl.4l1.b2           as EverestCollimator\n",
      "Installing tcsg.d5l7.b2         as EverestCollimator\n",
      "Installing tcla.b5l3.b2         as EverestCollimator\n",
      "Installing tcla.d6l7.b2         as EverestCollimator\n",
      "Installing tctph.4r2.b2         as EverestCollimator\n",
      "Installing tctph.4r8.b2         as EverestCollimator\n",
      "Installing tcdqa.c4l6.b2        as EverestCollimator\n",
      "Installing tctpv.4r8.b2         as EverestCollimator\n",
      "Installing tcspm.b4r7.b2        as EverestCollimator\n",
      "Installing tcspm.d4r7.b2        as EverestCollimator\n",
      "Installing tcla.a6l7.b2         as EverestCollimator\n",
      "Installing tcsg.a6r7.b2         as EverestCollimator\n",
      "Installing tcsg.a4l7.b2         as EverestCollimator\n",
      "Installing tdisa.a4r8.b2        as EverestCollimator\n",
      "Installing tcsg.a4r7.b2         as EverestCollimator\n",
      "Installing tdisb.a4r8.b2        as EverestCollimator\n",
      "Installing tcla.b6l7.b2         as EverestCollimator\n",
      "Installing tcl.6l1.b2           as EverestCollimator\n",
      "Installing tcsg.d4r7.b2         as EverestCollimator\n",
      "Installing tcl.6l5.b2           as EverestCollimator\n",
      "Installing tcl.5l1.b2           as EverestCollimator\n",
      "Installing tctpv.4r5.b2         as EverestCollimator\n",
      "Installing tcpch.a5r7.b2        as EverestCrystal\n",
      "Installing tcp.b6r7.b2          as EverestCollimator\n",
      "Installing tcdqa.b4l6.b2        as EverestCollimator\n",
      "Installing tctpv.4r1.b2         as EverestCollimator\n",
      "Installing tcdqa.a4l6.b2        as EverestCollimator\n",
      "Installing tcsg.a5r7.b2         as EverestCollimator\n",
      "Installing tctph.4r1.b2         as EverestCollimator\n",
      "Installing tclia.4l8            as EverestCollimator\n",
      "Installing tcspm.e5l7.b2        as EverestCollimator\n",
      "Installing tcsg.b5l7.b2         as EverestCollimator\n",
      "Installing tcla.a7l7.b2         as EverestCollimator\n"
     ]
    },
    {
     "data": {
      "application/vnd.jupyter.widget-view+json": {
       "model_id": "95dcc2c7739846a08df54699fb963098",
       "version_major": 2,
       "version_minor": 0
      },
      "text/plain": [
       "Slicing line:   0%|          | 0/102068 [00:00<?, ?it/s]"
      ]
     },
     "metadata": {},
     "output_type": "display_data"
    }
   ],
   "source": [
    "line.discard_tracker()\n",
    "colldb.install_everest_collimators(line = line,verbose=True)"
   ]
  },
  {
   "cell_type": "code",
   "execution_count": 25,
   "metadata": {
    "vscode": {
     "languageId": "python"
    }
   },
   "outputs": [
    {
     "name": "stdout",
     "output_type": "stream",
     "text": [
      "Compiling ContextCpu kernels...\n",
      "Done compiling ContextCpu kernels.\n"
     ]
    },
    {
     "data": {
      "text/plain": [
       "<xtrack.tracker.Tracker at 0x7f8154eafd90>"
      ]
     },
     "execution_count": 25,
     "metadata": {},
     "output_type": "execute_result"
    }
   ],
   "source": [
    "line.build_tracker()"
   ]
  },
  {
   "cell_type": "code",
   "execution_count": 26,
   "metadata": {
    "vscode": {
     "languageId": "python"
    }
   },
   "outputs": [],
   "source": [
    "line.collimators.assign_optics()"
   ]
  },
  {
   "cell_type": "code",
   "execution_count": 31,
   "metadata": {
    "vscode": {
     "languageId": "python"
    }
   },
   "outputs": [],
   "source": [
    "line[CRY_name].gap = 6.0"
   ]
  },
  {
   "cell_type": "code",
   "execution_count": 32,
   "metadata": {
    "vscode": {
     "languageId": "python"
    }
   },
   "outputs": [],
   "source": [
    "line[CRY_name].align_to_beam_divergence()"
   ]
  },
  {
   "cell_type": "code",
   "execution_count": 34,
   "metadata": {
    "vscode": {
     "languageId": "python"
    }
   },
   "outputs": [
    {
     "name": "stdout",
     "output_type": "stream",
     "text": [
      "\n",
      "---- \n",
      " 0.0001277192 0.000127719201 0.00012771921874891684 False \n",
      "----\n",
      "\n",
      "Collimator tcpch.a5r7.b2 is diverging.\n"
     ]
    }
   ],
   "source": [
    "part = line[CRY_name].generate_pencil(num_particles = 100)"
   ]
  },
  {
   "cell_type": "code",
   "execution_count": null,
   "metadata": {
    "vscode": {
     "languageId": "python"
    }
   },
   "outputs": [],
   "source": []
  }
 ],
 "metadata": {
  "kernelspec": {
   "display_name": "LCG view 104 + venv",
   "language": "python-custom",
   "name": "lcg-view"
  },
  "language_info": {
   "codemirror_mode": {
    "name": "ipython",
    "version": 3
   },
   "file_extension": ".py",
   "mimetype": "text/x-python",
   "name": "python-custom",
   "nbconvert_exporter": "python",
   "pygments_lexer": "ipython3",
   "version": "3.9.12"
  }
 },
 "nbformat": 4,
 "nbformat_minor": 2
}
