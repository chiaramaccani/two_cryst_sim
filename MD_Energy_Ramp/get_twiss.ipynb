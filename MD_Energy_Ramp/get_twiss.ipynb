{
 "cells": [
  {
   "cell_type": "code",
   "execution_count": 1,
   "metadata": {
    "vscode": {
     "languageId": "python"
    }
   },
   "outputs": [
    {
     "name": "stdout",
     "output_type": "stream",
     "text": [
      "No pytransport functionality\n",
      "No pytransport functionality\n"
     ]
    }
   ],
   "source": [
    "import numpy as np\n",
    "import json\n",
    "import yaml\n",
    "import matplotlib\n",
    "import matplotlib.pyplot as plt\n",
    "import pandas as pd\n",
    "import seaborn as sns\n",
    "\n",
    "from matplotlib.ticker import MaxNLocator\n",
    "\n",
    "import xobjects as xo\n",
    "import xtrack as xt\n",
    "import xpart as xp\n",
    "import xcoll as xc\n",
    "\n",
    "import pymadx\n",
    "from xcoll_plotting import plot_functions as xcp"
   ]
  },
  {
   "cell_type": "code",
   "execution_count": 2,
   "metadata": {
    "vscode": {
     "languageId": "python"
    }
   },
   "outputs": [
    {
     "data": {
      "application/vnd.jupyter.widget-view+json": {
       "model_id": "997879d902334facaab695500e89b91d",
       "version_major": 2,
       "version_minor": 0
      },
      "text/plain": [
       "Loading line from dict:   0%|          | 0/102068 [00:00<?, ?it/s]"
      ]
     },
     "metadata": {},
     "output_type": "display_data"
    },
    {
     "name": "stdout",
     "output_type": "stream",
     "text": [
      "Done loading line from dict.           \n"
     ]
    }
   ],
   "source": [
    "line_path = 'track_injection_b2.json'\n",
    "line = xt.Line.from_json(line_path)"
   ]
  },
  {
   "cell_type": "code",
   "execution_count": 17,
   "metadata": {
    "vscode": {
     "languageId": "python"
    }
   },
   "outputs": [],
   "source": [
    "CRY_name = 'TCPCH.A5R7.B2'.lower()\n",
    "COLL_name = 'TCSG.B4R7.B2'.lower()\n",
    "TCP_name = 'TCP.C6R7.B2'.lower()"
   ]
  },
  {
   "cell_type": "code",
   "execution_count": 6,
   "metadata": {
    "vscode": {
     "languageId": "python"
    }
   },
   "outputs": [],
   "source": [
    "mp = 0.9382\n",
    "emittance_n = 3.5e-6\n",
    "\n",
    "energy = line.particle_ref.energy\n",
    "gamma = energy/mp\n",
    "beta = np.sqrt(1-1/(gamma*gamma))\n",
    "emittance = emittance_n/(beta*gamma)"
   ]
  },
  {
   "cell_type": "code",
   "execution_count": 8,
   "metadata": {
    "vscode": {
     "languageId": "python"
    }
   },
   "outputs": [],
   "source": [
    "tw = line.twiss()"
   ]
  },
  {
   "cell_type": "code",
   "execution_count": 22,
   "metadata": {
    "vscode": {
     "languageId": "python"
    }
   },
   "outputs": [],
   "source": [
    "deltaphi = float(tw['mux',COLL_name])% 1* 2*np.pi - float(tw['mux',CRY_name])% 1* 2*np.pi\n",
    "\n",
    "beta1 = tw['betx',CRY_name]\n",
    "beta2 = tw['betx',COLL_name]\n",
    "alpha1 = tw['alfx',CRY_name]\n",
    "alpha2 = tw['alfx',COLL_name]\n",
    "CO_CRY = tw['x',CRY_name]\n",
    "CO_TCP = tw['x',TCP_name]\n",
    "beta_TCP = tw['betx',TCP_name]\n"
   ]
  },
  {
   "cell_type": "code",
   "execution_count": 23,
   "metadata": {
    "vscode": {
     "languageId": "python"
    }
   },
   "outputs": [
    {
     "name": "stdout",
     "output_type": "stream",
     "text": [
      "CRY:  202.14283989353822 -3.542768392822383 5.224817773694159e-07\n",
      "COLL:  151.98832189100114 1.5212968243622182\n",
      "TCP : 140.75752795686023 -5.424275667608168e-07\n",
      "Delta phi:  0.3320954889610304\n"
     ]
    }
   ],
   "source": [
    "print('CRY: ', beta1, alpha1, CO_CRY)\n",
    "print('COLL: ', beta2, alpha2)\n",
    "print('TCP :',beta_TCP,  CO_TCP)\n",
    "print('Delta phi: ', deltaphi)"
   ]
  },
  {
   "cell_type": "code",
   "execution_count": 14,
   "metadata": {
    "vscode": {
     "languageId": "python"
    }
   },
   "outputs": [
    {
     "data": {
      "text/plain": [
       "450000000000.2352"
      ]
     },
     "execution_count": 14,
     "metadata": {},
     "output_type": "execute_result"
    }
   ],
   "source": [
    "energy[0]"
   ]
  },
  {
   "cell_type": "code",
   "execution_count": null,
   "metadata": {
    "vscode": {
     "languageId": "python"
    }
   },
   "outputs": [],
   "source": []
  }
 ],
 "metadata": {
  "kernelspec": {
   "display_name": "LCG view 104 + venv",
   "language": "python-custom",
   "name": "lcg-view"
  },
  "language_info": {
   "codemirror_mode": {
    "name": "ipython",
    "version": 3
   },
   "file_extension": ".py",
   "mimetype": "text/x-python",
   "name": "python-custom",
   "nbconvert_exporter": "python",
   "pygments_lexer": "ipython3",
   "version": "3.9.12"
  }
 },
 "nbformat": 4,
 "nbformat_minor": 2
}
