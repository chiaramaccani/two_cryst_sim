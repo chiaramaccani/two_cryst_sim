{
 "cells": [
  {
   "cell_type": "code",
   "execution_count": 5,
   "metadata": {},
   "outputs": [],
   "source": [
    "import json\n",
    "import numpy as np\n",
    "from pathlib import Path\n",
    "import sys\n",
    "import os\n",
    "import yaml\n",
    "\n",
    "import sys \n",
    "import pathlib\n",
    "import os\n",
    "import numpy as np\n",
    "import pandas as pd\n",
    "#sys.path.append(os.path.abspath(\"/eos/home-b/bjlindst/SWAN_projects/lib\"))\n",
    "#import twissParser as tp\n",
    "#import lossMapTools as lmt\n",
    "import matplotlib.pyplot as plt\n",
    "import matplotlib.font_manager as font_manager\n",
    "import lossmaps as lm\n",
    "import pickle\n",
    "np.set_printoptions(linewidth=100)\n",
    "import scipy\n",
    "\n",
    "import xobjects as xo\n",
    "import xtrack as xt\n",
    "import xpart as xp\n",
    "import xcoll as xc"
   ]
  },
  {
   "cell_type": "code",
   "execution_count": 6,
   "metadata": {},
   "outputs": [],
   "source": [
    "def find_axis_intercepts(x_coords, y_coords):\n",
    "    x_intercepts = []\n",
    "    y_intercepts = []\n",
    "\n",
    "    for i in range(len(x_coords)):\n",
    "        x1, y1 = x_coords[i], y_coords[i]\n",
    "        x2, y2 = x_coords[(i + 1) % len(x_coords)], y_coords[(i + 1) % len(y_coords)]\n",
    "\n",
    "        if x1 == x2:\n",
    "        # Vertical line, no y-intercept\n",
    "            y_intercept = 0.0 if x1 == x2 == 0.0 else None\n",
    "        else:\n",
    "            slope = (y2 - y1) / (x2 - x1)\n",
    "            y_intercept = y1 - (slope * x1)\n",
    "\n",
    "        if y1 == y2:\n",
    "        # Horizontal line, no x-intercept\n",
    "            x_intercept = 0.0 if y1 == y2 == 0.0 else None\n",
    "        else:\n",
    "            slope = (x2 - x1) / (y2 - y1)\n",
    "            x_intercept = x1 - (slope * y1)\n",
    "\n",
    "        # Check if the x-intercept is within the range of x1 and x2\n",
    "        if x_intercept is not None and (x1 <= x_intercept <= x2 or x2 <= x_intercept <= x1):\n",
    "            x_intercepts.append(x_intercept)\n",
    "\n",
    "        # Check if the y-intercept is within the range of y1 and y2\n",
    "        if y_intercept is not None and (y1 <= y_intercept <= y2 or y2 <= y_intercept <= y1):\n",
    "            y_intercepts.append(y_intercept)\n",
    "\n",
    "    return x_intercepts, y_intercepts\n",
    "\n",
    "\n",
    "\n",
    "def find_bad_offset_apertures(line):\n",
    "    aperture_offsets = {}\n",
    "    for name, element in line.element_dict.items():\n",
    "        if 'offset' in name and element.__class__.__name__.startswith('XYShift'):\n",
    "            aper_name = name.split('_offset')[0]\n",
    "            aperture_offsets[aper_name] = (element.dx, element.dy)\n",
    "\n",
    "    bad_apers = {}\n",
    "    for ap_name, offset in aperture_offsets.items():\n",
    "        aperture_el = line.element_dict[ap_name]\n",
    "\n",
    "        cname= aperture_el.__class__.__name__\n",
    "        ap_dict = aperture_el.to_dict()\n",
    "\n",
    "        if cname == 'LimitEllipse':\n",
    "            x_min = -ap_dict['a']\n",
    "            x_max = ap_dict['a']\n",
    "            y_min = -ap_dict['b']\n",
    "            y_max = ap_dict['b']\n",
    "        elif cname == 'LimitRect':\n",
    "            x_min = ap_dict['min_x']\n",
    "            x_max = ap_dict['max_x']\n",
    "            y_min = ap_dict['min_y']\n",
    "            y_max = ap_dict['max_y']\n",
    "        elif cname == 'LimitRectEllipse':\n",
    "            x_min = -ap_dict['max_x']\n",
    "            x_max = ap_dict['max_x']\n",
    "            y_min = -ap_dict['max_y']\n",
    "            y_max = ap_dict['max_y']\n",
    "        elif cname == 'LimitRacetrack':\n",
    "            x_min = ap_dict['min_x']\n",
    "            x_max = ap_dict['max_x']\n",
    "            y_min = ap_dict['min_y']\n",
    "            y_max = ap_dict['max_y']\n",
    "        elif cname == 'LimitPolygon':\n",
    "            x_intercepts, y_intercepts = find_axis_intercepts(ap_dict['x_vertices'],\n",
    "                                                            ap_dict['y_vertices'])\n",
    "            x_min = min(x_intercepts)\n",
    "            x_max = max(x_intercepts)\n",
    "            y_min = min(y_intercepts)\n",
    "            y_max = max(y_intercepts)\n",
    "\n",
    "        tolerance = 5e-3\n",
    "        \"\"\"if (x_max - offset[0] < tolerance \n",
    "            or -x_min + offset[0] < tolerance \n",
    "            or y_max - offset[1] < tolerance \n",
    "            or -y_min + offset[1] < tolerance):\"\"\"\n",
    "        if (offset[0] -x_max > tolerance \n",
    "            or  -offset[0] + x_min > tolerance \n",
    "            or  offset[1] - y_max > tolerance \n",
    "            or  -offset[1] + y_min > tolerance ):\n",
    "                bad_apers[ap_name] = (x_min, x_max, y_min, y_max, offset[0], offset[1])\n",
    "\n",
    "    return bad_apers"
   ]
  },
  {
   "cell_type": "code",
   "execution_count": 7,
   "metadata": {},
   "outputs": [],
   "source": [
    "import io\n",
    "\n",
    "def load_colldb_new(filename):\n",
    "    with open(filename, \"r\") as infile:\n",
    "        coll_data_string = \"\"\n",
    "        family_settings = {}\n",
    "        family_types = {}\n",
    "        onesided = {}\n",
    "        tilted = {}\n",
    "        bend = {}\n",
    "        xdim = {}\n",
    "        ydim = {}\n",
    "\n",
    "        for l_no, line in enumerate(infile):\n",
    "            if line.startswith(\"#\"):\n",
    "                continue  # Comment\n",
    "            if len(line.strip()) == 0:\n",
    "                continue  # Empty line\n",
    "            sline = line.split()\n",
    "            if len(sline) < 6 or sline[0].lower() == \"crystal\" or sline[0].lower() == \"target\":\n",
    "                if sline[0].lower() == \"nsig_fam\":\n",
    "                    family_settings[sline[1]] = sline[2]\n",
    "                    family_types[sline[1]] = sline[3]\n",
    "                elif sline[0].lower() == \"onesided\":\n",
    "                    onesided[sline[1]] = int(sline[2])\n",
    "                elif sline[0].lower() == \"tilted\":\n",
    "                    tilted[sline[1]] = [float(sline[2]), float(sline[3])]\n",
    "                elif sline[0].lower() == \"crystal\":\n",
    "                    bend[sline[1]] = float(sline[2])\n",
    "                    xdim[sline[1]] = float(sline[3])\n",
    "                    ydim[sline[1]] = float(sline[4])\n",
    "                elif sline[0].lower() == \"target\":\n",
    "                    xdim[sline[1]] = float(sline[2])\n",
    "                    ydim[sline[1]] = float(sline[3])\n",
    "                elif sline[0].lower() == \"settings\":\n",
    "                    pass  # Acknowledge and ignore this line\n",
    "                else:\n",
    "                    raise ValueError(f\"Unknown setting {line}\")\n",
    "            else:\n",
    "                coll_data_string += line\n",
    "\n",
    "    names = [\"name\", \"opening\", \"material\", \"length\", \"angle\", \"offset\"]\n",
    "\n",
    "    df = pd.read_csv(io.StringIO(coll_data_string), delim_whitespace=True,\n",
    "                     index_col=False, skip_blank_lines=True, names=names)\n",
    "\n",
    "    df[\"angle\"] = df[\"angle\"] \n",
    "    df[\"name\"] = df[\"name\"].str.lower() # Make the names lowercase for easy processing\n",
    "    df[\"nsigma\"] = df[\"opening\"].apply(lambda s: float(family_settings.get(s, s)))\n",
    "    df[\"type\"] = df[\"opening\"].apply(lambda s: family_types.get(s, \"UNKNOWN\"))\n",
    "    df[\"side\"] = df[\"name\"].apply(lambda s: onesided.get(s, 0))\n",
    "    df[\"bend\"] = df[\"name\"].apply(lambda s: bend.get(s, 0))\n",
    "    df[\"xdim\"] = df[\"name\"].apply(lambda s: xdim.get(s, 0))\n",
    "    df[\"ydim\"] = df[\"name\"].apply(lambda s: ydim.get(s, 0))\n",
    "    df[\"tilt_left\"] = df[\"name\"].apply(lambda s: np.deg2rad(tilted.get(s, [0, 0])[0]))\n",
    "    df[\"tilt_right\"] = df[\"name\"].apply(lambda s: np.deg2rad(tilted.get(s, [0, 0])[1]))\n",
    "    df = df.set_index(\"name\").T\n",
    "\n",
    "    # Ensure the collimators marked as one-sided or tilted are actually defined\n",
    "    defined_set = set(df.columns) # The data fram was transposed so columns are names\n",
    "    onesided_set = set(onesided.keys())\n",
    "    tilted_set = set(tilted.keys())\n",
    "    if not onesided_set.issubset(defined_set):\n",
    "        different = onesided_set - defined_set\n",
    "        raise SystemExit('One-sided collimators not defined: {}'.format(\", \".join(different)))\n",
    "    if not tilted_set.issubset(defined_set):\n",
    "        different = tilted_set - defined_set\n",
    "        raise SystemExit('Tilted collimators not defined: {}'.format(\",\".join(different)))\n",
    "    return df.T"
   ]
  },
  {
   "cell_type": "code",
   "execution_count": 8,
   "metadata": {},
   "outputs": [],
   "source": [
    "beam          = 2   #run_dict['beam']\n",
    "plane         = \"V\" #run_dict['plane']\n",
    "TCCS_name     = 'tccs.5r3.b2'\n",
    "TCCP_name     = 'tccp.4l3.b2'\n",
    "TARGET_name   = 'target.4l3.b2'\n",
    "TCLA_name     = 'tcla.a5l3.b2'\n",
    "TCP_name      = f\"tcp.{'c' if plane=='H' else 'd'}6{'l' if beam=='1' else 'r'}7.b{beam}\"\n",
    "context = xo.ContextCpu(omp_num_threads='auto')"
   ]
  },
  {
   "cell_type": "code",
   "execution_count": 9,
   "metadata": {},
   "outputs": [],
   "source": [
    "coll_file_HL_IR7 = os.path.expandvars('${HOME_TWOCRYST}/input_files/CollDB_HL_tight_b4.data')\n",
    "line_name_HL_IR7 = os.path.expandvars(\"${HOME_TWOCRYST}/input_files/HL_IR7_rematched/b4_sequence_patched.json\")\n",
    "particle_ref_HL = xp.Particles(p0c=7000e9, q0=1, mass0=xp.PROTON_MASS_EV)"
   ]
  },
  {
   "cell_type": "code",
   "execution_count": 10,
   "metadata": {},
   "outputs": [
    {
     "name": "stdout",
     "output_type": "stream",
     "text": [
      "Done loading line from dict.           \n",
      "Bad apertures :  {}\n",
      "Replace bad apertures with Marker\n"
     ]
    }
   ],
   "source": [
    "if coll_file_HL_IR7.endswith('.yaml'):\n",
    "    with open(coll_file_HL_IR7, 'r') as stream:\n",
    "        coll_dict = yaml.safe_load(stream)['collimators'][f'b{beam}']\n",
    "if coll_file_HL_IR7.endswith('.data'):\n",
    "    coll_dict = load_colldb_new(coll_file_HL_IR7).to_dict('index')\n",
    "\n",
    "\n",
    "# Load from json\n",
    "line = xt.Line.from_json(line_name_HL_IR7)\n",
    "line.particle_ref = particle_ref_HL\n",
    "\n",
    "end_s = line.get_length()\n",
    "\n",
    "TCCS_loc = end_s - 6773.7 #6775\n",
    "TCCP_loc = end_s - 6653.3 #6655\n",
    "TARGET_loc = end_s - (6653.3 + coll_dict[TCCP_name][\"length\"]/2 + coll_dict[TARGET_name][\"length\"]/2)\n",
    "\n",
    "line.insert_element(at_s=TCCS_loc, element=xt.Marker(), name='tccs.5r3.b2')\n",
    "line.insert_element(at_s=TCCS_loc, element=xt.LimitEllipse(a_squ=0.0016, b_squ=0.0016, a_b_squ=2.56e-06), name='tccs.5r3.b2_aper')\n",
    "line.insert_element(at_s=TCCP_loc, element=xt.Marker(), name='tccp.4l3.b2')\n",
    "line.insert_element(at_s=TCCP_loc, element=xt.LimitEllipse(a_squ=0.0016, b_squ=0.0016, a_b_squ=2.56e-06), name='tccp.4l3.b2_aper')\n",
    "line.insert_element(at_s=TARGET_loc, element=xt.Marker(), name='target.4l3.b2')\n",
    "line.insert_element(at_s=TARGET_loc, element=xt.LimitEllipse(a_squ=0.0016, b_squ=0.0016, a_b_squ=2.56e-06), name='target.4l3.b2_aper')\n",
    "\n",
    "\n",
    "bad_aper = find_bad_offset_apertures(line)\n",
    "print('Bad apertures : ', bad_aper)\n",
    "print('Replace bad apertures with Marker')\n",
    "for name in bad_aper.keys():\n",
    "    line.element_dict[name] = xt.Marker()\n",
    "    print(name, line.get_s_position(name), line.element_dict[name])"
   ]
  },
  {
   "cell_type": "code",
   "execution_count": 11,
   "metadata": {},
   "outputs": [],
   "source": [
    "speed = line.particle_ref._xobject.beta0[0]*scipy.constants.c\n",
    "harmonic_number = 35640\n",
    "voltage = 12e6/len(line.get_elements_of_type(xt.Cavity)[1])\n",
    "frequency = harmonic_number * speed /line.get_length()\n",
    "\n",
    "for side in ['l', 'r']:\n",
    "    for cell in ['a','b','c','d']:\n",
    "        line[f'acsca.{cell}5{side}4.b2'].voltage = voltage\n",
    "        line[f'acsca.{cell}5{side}4.b2'].frequency = frequency"
   ]
  },
  {
   "cell_type": "code",
   "execution_count": 30,
   "metadata": {},
   "outputs": [],
   "source": [
    "num_part = 1000\n",
    "num_turn = 100"
   ]
  },
  {
   "cell_type": "code",
   "execution_count": 31,
   "metadata": {},
   "outputs": [],
   "source": [
    "\"\"\"part = xp.Particles(p0c=7000e9, #eV\n",
    "                        q0=1, mass0=xp.PROTON_MASS_EV,\n",
    "                        zeta = np.random.uniform(-1,1,num_part),\n",
    "                        delta = np.random.uniform(-1e-3,1e-3,num_part),\n",
    "                        _context=context)\"\"\""
   ]
  },
  {
   "cell_type": "code",
   "execution_count": 35,
   "metadata": {},
   "outputs": [],
   "source": [
    "bunch_intensity = 1e11\n",
    "sigma_z = 22.5e-2\n",
    "n_part = int(5e5)\n",
    "nemitt_x = 2e-6\n",
    "nemitt_y = 2.5e-6"
   ]
  },
  {
   "cell_type": "code",
   "execution_count": 37,
   "metadata": {},
   "outputs": [
    {
     "name": "stderr",
     "output_type": "stream",
     "text": [
      "Given RMS bunch length does not fit into bucket. Using (maximum) full bucket RMS bunch length 0.1167161993796597m instead.\n"
     ]
    },
    {
     "name": "stdout",
     "output_type": "stream",
     "text": [
      "*** Maximum RMS bunch length 0.11789515088854516m.\n"
     ]
    },
    {
     "name": "stderr",
     "output_type": "stream",
     "text": [
      "RFBucketMatcher: failed to converge with Brent method, continuing with Newton-Raphson method.\n"
     ]
    },
    {
     "name": "stdout",
     "output_type": "stream",
     "text": [
      "... distance to target bunch length: -1.1672e-01\n",
      "... distance to target bunch length: -2.0781e-03\n",
      "... distance to target bunch length: -1.3382e-02\n",
      "... distance to target bunch length: -1.3351e-02\n",
      "... distance to target bunch length: -5.6329e-03\n",
      "... distance to target bunch length: -3.3331e-03\n",
      "... distance to target bunch length: -1.6270e-03\n",
      "... distance to target bunch length: -7.6769e-04\n",
      "... distance to target bunch length: -2.9603e-04\n",
      "... distance to target bunch length: -8.2883e-05\n",
      "... distance to target bunch length: -1.2366e-05\n",
      "... distance to target bunch length: -6.1347e-07\n",
      "... distance to target bunch length: -4.8022e-09\n",
      "--> Bunch length: 0.11671619937777845\n",
      "--> Emittance: 4.0445787989647055\n"
     ]
    }
   ],
   "source": [
    "part = xp.generate_matched_gaussian_bunch(\n",
    "         num_particles=n_part, total_intensity_particles=bunch_intensity,\n",
    "         nemitt_x=nemitt_x, nemitt_y=nemitt_y, sigma_z=sigma_z,\n",
    "         line=line)"
   ]
  },
  {
   "cell_type": "code",
   "execution_count": 38,
   "metadata": {},
   "outputs": [
    {
     "data": {
      "image/png": "[encoded data removed]",
      "text/plain": [
       "<Figure size 432x288 with 1 Axes>"
      ]
     },
     "metadata": {
      "needs_background": "light"
     },
     "output_type": "display_data"
    }
   ],
   "source": [
    "plt.scatter(part.zeta, part.delta)\n",
    "plt.show()"
   ]
  },
  {
   "cell_type": "code",
   "execution_count": 39,
   "metadata": {},
   "outputs": [],
   "source": [
    "#line.build_tracker(_context=xo.ContextCpu(omp_num_threads=6))\n",
    "line.track(part, num_turns=num_turn)"
   ]
  },
  {
   "cell_type": "code",
   "execution_count": 34,
   "metadata": {},
   "outputs": [
    {
     "data": {
      "image/png": "[encoded data removed]",
      "text/plain": [
       "<Figure size 432x288 with 1 Axes>"
      ]
     },
     "metadata": {
      "needs_background": "light"
     },
     "output_type": "display_data"
    }
   ],
   "source": [
    "plt.scatter(part.zeta, part.delta)\n",
    "plt.show()"
   ]
  },
  {
   "cell_type": "code",
   "execution_count": null,
   "metadata": {},
   "outputs": [],
   "source": []
  }
 ],
 "metadata": {
  "kernelspec": {
   "display_name": "LCG view 104 + venv",
   "language": "python-custom",
   "name": "lcg-view"
  },
  "language_info": {
   "codemirror_mode": {
    "name": "ipython",
    "version": 3
   },
   "file_extension": ".py",
   "mimetype": "text/x-python",
   "name": "python",
   "nbconvert_exporter": "python",
   "pygments_lexer": "ipython3",
   "version": "3.9.12"
  }
 },
 "nbformat": 4,
 "nbformat_minor": 2
}
