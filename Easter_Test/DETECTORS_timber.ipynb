{
 "cells": [
  {
   "cell_type": "code",
   "execution_count": 3,
   "id": "bdf10afe",
   "metadata": {},
   "outputs": [],
   "source": [
    "import pytimber as pt\n",
    "import matplotlib.pyplot as plt\n",
    "from datetime import datetime, timezone, timedelta\n",
    "\n",
    "import xobjects as xo\n",
    "import xtrack as xt\n",
    "import xpart as xp\n",
    "import xcoll as xc\n",
    "\n",
    "import pandas as pd\n",
    "import numpy as np\n",
    "import scipy.optimize as opt\n",
    "import scipy.optimize as opt\n",
    "from scipy.special import erf\n",
    "from scipy.stats import norm\n",
    "\n",
    "from matplotlib.ticker import FixedLocator\n",
    "import matplotlib\n",
    "\n",
    "\n",
    "#is_swan = False\n",
    "#if is_swan == False:\n",
    "#    from nxcals.spark_session_builder import get_or_create\n",
    "#    from nxcals.api.extraction.data.builders import DataQuery\n",
    "#    spark = get_or_create(\"My_APP\")"
   ]
  },
  {
   "cell_type": "code",
   "execution_count": 4,
   "id": "cb7724a5",
   "metadata": {},
   "outputs": [
    {
     "name": "stdout",
     "output_type": "stream",
     "text": [
      "25/06/20 18:53:05 INFO ContextHandler: Started o.s.j.s.ServletContextHandler@74d6d08d{/SQL,null,AVAILABLE,@Spark}\n",
      "25/06/20 18:53:05 INFO ContextHandler: Started o.s.j.s.ServletContextHandler@3527c1f8{/SQL/json,null,AVAILABLE,@Spark}\n",
      "25/06/20 18:53:05 INFO ContextHandler: Started o.s.j.s.ServletContextHandler@7117c13a{/SQL/execution,null,AVAILABLE,@Spark}\n",
      "25/06/20 18:53:05 INFO ContextHandler: Started o.s.j.s.ServletContextHandler@36ace3a5{/SQL/execution/json,null,AVAILABLE,@Spark}\n",
      "25/06/20 18:53:05 INFO ContextHandler: Started o.s.j.s.ServletContextHandler@5d4a3e3e{/static/sql,null,AVAILABLE,@Spark}\n",
      "4096\n",
      "4\n"
     ]
    }
   ],
   "source": [
    "print(spark.conf.get(\"spark.sql.parquet.columnarReaderBatchSize\"))\n",
    "spark.conf.set(\"spark.sql.parquet.columnarReaderBatchSize\", \"4\")\n",
    "print(spark.conf.get(\"spark.sql.parquet.columnarReaderBatchSize\"))"
   ]
  },
  {
   "cell_type": "code",
   "execution_count": 51,
   "id": "e8a5d44b",
   "metadata": {},
   "outputs": [
    {
     "name": "stdout",
     "output_type": "stream",
     "text": [
      "false\n",
      "false\n"
     ]
    }
   ],
   "source": [
    "print(spark.conf.get(\"spark.sql.parquet.enableNestedColumnVectorizedReader\"))\n",
    "spark.conf.set(\"spark.sql.parquet.enableNestedColumnVectorizedReader\", \"false\")\n",
    "print(spark.conf.get(\"spark.sql.parquet.enableNestedColumnVectorizedReader\"))"
   ]
  },
  {
   "cell_type": "code",
   "execution_count": 5,
   "id": "9ee7acaa",
   "metadata": {},
   "outputs": [],
   "source": [
    "def datestring_to_timestamp_utc(date_string):\n",
    "    # Parse the date string into a datetime object\n",
    "    date_obj = datetime.strptime(date_string, '%Y-%m-%d %H:%M:%S') - timedelta(hours=2)\n",
    "    \n",
    "    # Convert the datetime object to UTC timezone if it's not already in UTC\n",
    "    if date_obj.tzinfo is None or date_obj.tzinfo.utcoffset(date_obj) is None:\n",
    "        date_obj = date_obj.replace(tzinfo=timezone.utc)\n",
    "    else:\n",
    "        date_obj = date_obj.astimezone(timezone.utc)\n",
    "    \n",
    "    # Extract the timestamp in seconds\n",
    "    timestamp_utc = date_obj.timestamp()\n",
    "    \n",
    "    return timestamp_utc\n",
    "\n",
    "\n",
    "def utc_timestamp_to_date_string(timestamp):\n",
    "    # Convert the timestamp to a datetime object in UTC\n",
    "    utc_datetime = datetime.fromtimestamp(timestamp, tz=timezone.utc)\n",
    "    \n",
    "    # Format the datetime object to a string\n",
    "    date_string = utc_datetime.strftime('%Y-%m-%d %H:%M:%S')\n",
    "    \n",
    "    return date_string"
   ]
  },
  {
   "cell_type": "code",
   "execution_count": 6,
   "id": "0546608b",
   "metadata": {},
   "outputs": [],
   "source": [
    "lbd = pt.LoggingDB(source='nxcals', spark_session=spark)"
   ]
  },
  {
   "cell_type": "code",
   "execution_count": 58,
   "id": "03ee47e2",
   "metadata": {},
   "outputs": [],
   "source": [
    "ti = '2025-05-13 22:58:40'\n",
    "tf = '2025-05-13 22:59:40'\n",
    "\n",
    "#var = 'BLMTI.05R7.B2I10_TCPCH.A5R7.B2:LOSS_RS09'\n",
    "var = \"hitMapTFT\""
   ]
  },
  {
   "cell_type": "code",
   "execution_count": 59,
   "id": "4c633cd6",
   "metadata": {
    "scrolled": false
   },
   "outputs": [],
   "source": [
    "fromTimber = lbd.get(var, ti, tf)"
   ]
  },
  {
   "cell_type": "code",
   "execution_count": 60,
   "id": "7cf1cb44",
   "metadata": {},
   "outputs": [
    {
     "data": {
      "text/plain": [
       "{'hitMapTFT': (array([1.74716992e+09]),\n",
       "  [array([[0, 0, 0, ..., 0, 0, 0],\n",
       "          [0, 0, 0, ..., 0, 0, 0],\n",
       "          [0, 0, 0, ..., 0, 0, 0],\n",
       "          ...,\n",
       "          [0, 0, 0, ..., 0, 0, 0],\n",
       "          [0, 0, 0, ..., 0, 0, 0],\n",
       "          [0, 0, 0, ..., 0, 0, 0]], dtype=int32)])}"
      ]
     },
     "execution_count": 60,
     "metadata": {},
     "output_type": "execute_result"
    }
   ],
   "source": [
    "fromTimber"
   ]
  },
  {
   "cell_type": "code",
   "execution_count": 61,
   "id": "d803b208",
   "metadata": {},
   "outputs": [
    {
     "data": {
      "text/plain": [
       "1"
      ]
     },
     "execution_count": 61,
     "metadata": {},
     "output_type": "execute_result"
    }
   ],
   "source": [
    "len(fromTimber['hitMapTFT'][0])"
   ]
  },
  {
   "cell_type": "code",
   "execution_count": 62,
   "id": "1caaf01e",
   "metadata": {},
   "outputs": [
    {
     "data": {
      "text/plain": [
       "(1500, 1500)"
      ]
     },
     "execution_count": 62,
     "metadata": {},
     "output_type": "execute_result"
    }
   ],
   "source": [
    "test = fromTimber['hitMapTFT'][1][0]\n",
    "test.shape"
   ]
  },
  {
   "cell_type": "code",
   "execution_count": 63,
   "id": "08d9d40d",
   "metadata": {},
   "outputs": [
    {
     "data": {
      "image/png": "[encoded data removed]",
      "text/plain": [
       "<Figure size 720x468 with 2 Axes>"
      ]
     },
     "metadata": {
      "needs_background": "light"
     },
     "output_type": "display_data"
    }
   ],
   "source": [
    "def get_pentagonal(y_lim = 0.003):\n",
    "    angles = [180-135, 90, 90, 90,135] \n",
    "    side_lengths = [31.1e-3, 10e-3, 32e-3, 32e-3, 10e-3]  \n",
    "    angles = np.radians(angles)\n",
    "\n",
    "    ALFA_x = [0]\n",
    "    ALFA_y = [0]\n",
    "    for i in range(len(side_lengths)):\n",
    "        angle_sum = np.sum(angles[:i])\n",
    "        ALFA_x.append(ALFA_x[-1] + side_lengths[i] * np.cos(angle_sum))\n",
    "        ALFA_y.append(ALFA_y[-1] + side_lengths[i] * np.sin(angle_sum))\n",
    "    ALFA_x.append(ALFA_x[0])\n",
    "    ALFA_y.append(ALFA_y[0])\n",
    "\n",
    "    ALFA_x = [i -side_lengths[0]/2 for i in ALFA_x]\n",
    "    ALFA_y = [i + y_lim for i in ALFA_y]\n",
    "\n",
    "    return np.array(ALFA_x), np.array(ALFA_y)\n",
    "\n",
    "fig, ax = plt.subplots(figsize=(10,6.5))\n",
    "xlim = (-23.0, 23.0)\n",
    "ylim = (0.0, 35.0)\n",
    "ALFA_x, ALFA_y = get_pentagonal()\n",
    "ax.plot(ALFA_x*1e3, ALFA_y*1e3, color='r', lw=2)\n",
    "cmap = plt.cm.viridis.copy()  \n",
    "cmap.set_under('white')\n",
    "norm = matplotlib.colors.LogNorm()\n",
    "plt.imshow(test, origin='lower', cmap=cmap, norm = norm,  extent=[xlim[0], xlim[1], ylim[0], ylim[1]], aspect='auto')  \n",
    "cbar = plt.colorbar(ax=ax)  \n",
    "cbar.ax.tick_params(labelsize=12)  \n",
    "cbar.set_label(label='Counts', fontsize=14)  \n",
    "ax.set_xlabel('x [mm]', fontsize=14)\n",
    "ax.set_ylabel('y [mm]', fontsize=14)\n",
    "ax.tick_params(axis='both', which='major', labelsize=12)\n",
    "ax.grid(linestyle=\":\")"
   ]
  },
  {
   "cell_type": "code",
   "execution_count": 64,
   "id": "5e88af09",
   "metadata": {},
   "outputs": [
    {
     "data": {
      "text/plain": [
       "array([[0, 0, 0, ..., 0, 0, 0],\n",
       "       [0, 0, 0, ..., 0, 0, 0],\n",
       "       [0, 0, 0, ..., 0, 0, 0],\n",
       "       ...,\n",
       "       [0, 0, 0, ..., 0, 0, 0],\n",
       "       [0, 0, 0, ..., 0, 0, 0],\n",
       "       [0, 0, 0, ..., 0, 0, 0]], dtype=int32)"
      ]
     },
     "execution_count": 64,
     "metadata": {},
     "output_type": "execute_result"
    }
   ],
   "source": [
    "test"
   ]
  },
  {
   "cell_type": "code",
   "execution_count": null,
   "id": "a44c5d03",
   "metadata": {},
   "outputs": [],
   "source": [
    "def plot_Tracks(time, comulative = False, y_lower=None, y_upper=None, absolute_y_pos= 0, plot_fit = False,\n",
    "                z_max_2D = None, z_max_y = None, z_max_x = None,  normalize = False, print_info = False):\n",
    "    \n",
    "    values, edges_x, edges_y = get_tracks(time, comulative)\n",
    "    if values is None:\n",
    "        return\n",
    "    \n",
    "    edges_y = edges_y + absolute_y_pos\n",
    "    fig, ax = plt.subplots(2, 2, figsize=(18, 12))\n",
    "    masked_values = np.ma.masked_where(values == 0, values)  \n",
    "    cmap = plt.cm.viridis.copy()\n",
    "    cmap.set_bad(color=\"white\")  \n",
    "    pcm = ax[0][0].pcolormesh(edges_x, edges_y, masked_values.T, shading=\"auto\", cmap=cmap, vmax=z_max_2D)  \n",
    "    ALFA_x, ALFA_y = get_pentagonal(absolute_y_pos*1e-3+0.003)\n",
    "    ax[0][0].plot(ALFA_x*1e3, ALFA_y*1e3, color='r', lw=2)\n",
    "    cbar = plt.colorbar(pcm, ax=ax[0][0])  \n",
    "    cbar.ax.tick_params(labelsize=12)  \n",
    "    cbar.set_label(\"Counts\", fontsize=14)  \n",
    "    ax[0][0].set_xlabel(\"x [mm]\", fontsize=14)\n",
    "    ax[0][0].set_ylabel(\"y [mm]\", fontsize=14)\n",
    "    ax[0][0].tick_params(axis='both', which='major', labelsize=12)\n",
    "    ax[0][0].grid(linestyle=\":\")\n",
    "    max_value = np.max(masked_values)\n",
    "    bin_width_x = np.diff(edges_x)[0]  # Assuming uniform bin widths\n",
    "    bin_width_y = np.diff(edges_y)[0]  # Assuming uniform bin widths\n",
    "\n",
    "    if isinstance(time, list):\n",
    "        hour, minute = time[0][0], time[0][1]\n",
    "        last_hour, last_minute = time[1][0], time[1][1]\n",
    "    else:\n",
    "        hour, minute = time[0], time[1]\n",
    "        last_minute = minute  #+ 1 if minute < 59 else 0\n",
    "        last_hour = hour # + 1 if minute == 59 else hour f\"{h:02d}:{m:02d}\"\n",
    "    if comulative:\n",
    "        hour = 13\n",
    "        minute = 17\n",
    "    ax[0][0].text(0.65, 0.95,  f\"N tracks {values.sum()}\\nTime {hour:02d}:{minute:02d} - {last_hour:02d}:{last_minute:02d}\", ha=\"left\", va=\"top\", transform=ax[0][0].transAxes, fontsize=12, bbox=dict(facecolor='white', edgecolor='black', boxstyle=\"round,pad=0.5\"))\n",
    "\n",
    "    #values_with_overflow = np.pad(values, ((1, 1), (0, 0)), mode='constant', constant_values=0)  # Padding for underflow and overflow\n",
    "    y_projection = np.sum(values, axis=0) \n",
    "    bin_centers_y = (edges_y[:-1] + edges_y[1:]) / 2\n",
    "    ax[0][1].bar(edges_y[:-1], y_projection, width=np.diff(edges_y), align=\"edge\", alpha=0.6)\n",
    "    ax[0][1].set_xlabel(\"y [mm]\", fontsize=14)\n",
    "    ax[0][1].set_ylabel(\"Counts\", fontsize=14)\n",
    "    ax[0][1].tick_params(axis='both', which='major', labelsize=12)\n",
    "    if z_max_y is not None:\n",
    "        ax[0][1].set_ylim(0, z_max_y)\n",
    "\n",
    "    x_projection = np.sum(values, axis=1)  # sum over y → projection along x\n",
    "    bin_centers_x = 0.5 * (edges_x[:-1] + edges_x[1:])  # Compute bin centers\n",
    "    ax[1][0].bar(edges_x[:-1], x_projection, width=np.diff(edges_x), align=\"edge\", alpha=0.6)\n",
    "    ax[1][0].set_xlabel(\"x [mm]\", fontsize=14)\n",
    "    ax[1][0].set_ylabel(\"Counts\", fontsize=14)\n",
    "    ax[1][0].tick_params(axis='both', which='major', labelsize=12)\n",
    "    if z_max_x is not None:\n",
    "        ax[1][0].set_ylim(0, z_max_x)\n",
    "\n",
    "    if print_info:\n",
    "        print(\"Maximum value in the bins:\", max_value)\n",
    "        print(\"Bin width along y-axis:\", bin_width_y)\n",
    "        print(\"Bin width along x-axis:\", bin_width_x)\n",
    "        print(\"Maximum in x projection:\", np.max(x_projection))\n",
    "        print(\"Maximum in y projection:\", np.max(y_projection))\n",
    "\n",
    "\n",
    "    cumulative_y_projection = np.cumsum(np.array(y_projection)[::-1])[::-1]\n",
    "    if normalize:\n",
    "        cumulative_y_projection = cumulative_y_projection / np.max(cumulative_y_projection)\n",
    "    ax[1][1].plot(edges_y[:-1], cumulative_y_projection, linewidth=2, label=\"Cumulative Y Projection\")\n",
    "    ax[1][1].tick_params(axis='both', which='major', labelsize=12)\n",
    "\n",
    "    if y_lower is not None and y_upper is not None:\n",
    "\n",
    "        # Filter in y\n",
    "        y_mask = (bin_centers_y >= y_lower) & (bin_centers_y <= y_upper)\n",
    "        values_filtered = values[:, y_mask] \n",
    "        edges_y_filtered = edges_y[np.r_[np.where(y_mask)[0], np.where(y_mask)[0][-1] + 1]]\n",
    "        y_centers_filt = 0.5 * (edges_y_filtered[:-1] + edges_y_filtered[1:])\n",
    "        y_projection_filt = np.sum(values_filtered, axis=0)  # Sum over x-axis\n",
    "        x_projection_filt = np.sum(values_filtered, axis=1)  # Sum over y-axis\n",
    "        ax[0][0].axhline(y_lower, color=\"red\", linestyle=\"--\", label=\"Lower limit\")\n",
    "        ax[0][0].axhline(y_upper, color=\"red\", linestyle=\"--\", label=\"Upper limit\")\n",
    "\n",
    "        # Create a 2D meshgrid\n",
    "        X, Y = np.meshgrid(bin_centers_x, y_centers_filt, indexing=\"ij\")  # Ensure correct shape\n",
    "        # Flatten data for fitting\n",
    "        xdata = np.vstack((X.ravel(), Y.ravel()))  \n",
    "        zdata = values_filtered.ravel()  # Use filtered values\n",
    "        nonzero_mask = zdata > 0\n",
    "        xdata = xdata[:, nonzero_mask]\n",
    "        zdata = zdata[nonzero_mask]\n",
    "        # Fit the 2D Gaussian function\n",
    "        initial_guess = (np.max(zdata), np.mean(x_projection_filt), np.mean(y_projection_filt), np.std(x_projection_filt), np.std(x_projection_filt))\n",
    "        popt, pcov = curve_fit(gaussian_2d, xdata, zdata, p0=initial_guess)\n",
    "        A_fit, x0_fit, y0_fit, sigma_x_fit, sigma_y_fit = popt\n",
    "        print(f\"2D Gauss Fit Parameters:\\n A={A_fit}, x0={x0_fit}, y0={y0_fit}, sigma_x={sigma_x_fit}, sigma_y={sigma_y_fit}\")\n",
    "        #ax[0][0].plot(x0_fit, y0_fit, \"ro\", markersize=10, label=\"Fit center\")\n",
    "\n",
    "        # Compute Y Projection \n",
    "        y_fit = np.linspace(np.min(y_centers_filt), np.max(y_centers_filt), 100)\n",
    "        gaussian_curve_y = gaussian_1d(y_fit, 1, y0_fit, sigma_y_fit)  #\n",
    "        # Compute normalization factor: Match the total area of histogram and Gaussian\n",
    "        hist_integral_y = np.sum(y_projection_filt * np.diff(edges_y_filtered))  # Approximate integral of histogram\n",
    "        gaussian_integral_y = np.trapz(gaussian_curve_y, y_fit)  # Integral of Gaussian using trapezoidal rule\n",
    "        A_rescaled_y = hist_integral_y / gaussian_integral_y  # Rescale amplitude properly\n",
    "        # Recalculate the Gaussian with the correct amplitude\n",
    "        gaussian_curve_y = gaussian_1d(y_fit, A_rescaled_y, y0_fit, sigma_y_fit)\n",
    "        ax[0][1].plot(y_fit, gaussian_curve_y, color=\"red\", linestyle=\"--\", linewidth=2, label=\"1D Gaussian Fit\")\n",
    "        ax[0][1].axvline(y_upper)\n",
    "        ax[0][1].axvline(y_lower)\n",
    "        legend_text = f\"Fit mean: {y0_fit:.2f} mm\\nFit sigma: {sigma_y_fit:.2f} mm\"\n",
    "        ax[0][1].text(0.75, 0.95, legend_text, ha=\"right\", va=\"top\", transform=ax[0][1].transAxes, fontsize=12, bbox=dict(facecolor='white', edgecolor='black', boxstyle=\"round,pad=0.5\"))\n",
    "\n",
    "        # Compute X fit \n",
    "        x_fit = np.linspace(np.min(bin_centers_x), np.max(bin_centers_x), 100)\n",
    "        gaussian_curve_x = gaussian_1d(x_fit, 1, x0_fit, sigma_x_fit)  #\n",
    "        hist_integral_x = np.sum(x_projection_filt * np.diff(edges_x))\n",
    "        gaussian_integral_x = np.trapz(gaussian_curve_x, x_fit)  # Integral of Gaussian using trapezoidal rule\n",
    "        A_rescaled_x = hist_integral_x / gaussian_integral_x  # Rescale amplitude properly\n",
    "        gaussian_curve_x = gaussian_1d(x_fit, A_rescaled_x, x0_fit, sigma_x_fit)\n",
    "        ax[1][0].plot(x_fit, gaussian_curve_x, color=\"red\", linestyle=\"--\", linewidth=2, label=\"1D Gaussian Fit\")\n",
    "        legend_text = f\"Fit mean: {x0_fit:.2f} mm\\nFit sigma: {sigma_x_fit:.2f} mm\"\n",
    "        ax[1][0].text(0.85, 0.95, legend_text, ha=\"right\", va=\"top\", transform=ax[1][0].transAxes, fontsize=12, bbox=dict(facecolor='white', edgecolor='black', boxstyle=\"round,pad=0.5\"))\n",
    "\n",
    "        ax[1][1].axvline(y_lower, color=\"red\", linestyle=\"--\", label=\"Mean\")\n",
    "        cum_to_fit_erf = cumulative_y_projection[edges_y[:-1] >= y_lower]\n",
    "        y_to_fit_erf = edges_y[:-1][edges_y[:-1] >= y_lower]\n",
    "        def erfunc(x,a,b,c,d):\n",
    "            return a+(b/2.0)*erf((x-c)/(d*np.sqrt(2.0)))\n",
    "        \n",
    "        param0 = [np.max(cum_to_fit_erf), np.min(cum_to_fit_erf), np.mean(y_to_fit_erf), np.std(y_to_fit_erf)]\n",
    "        params, extras = opt.curve_fit(erfunc, y_to_fit_erf, cum_to_fit_erf,  p0=param0)\n",
    "        print(\"ERF Fit parameters:\", params)\n",
    "        ax[1][1].plot(edges_y[:-1], erfunc(edges_y[:-1], *params), linewidth=2, label=\"ERF Fit\")\n",
    "        legend_text = f\"Fit mean: {params[2]:.2f} mm\\nFit sigma: {params[3]:.2f} mm\"\n",
    "        ax[1][1].text(0.85, 0.95, legend_text, ha=\"right\", va=\"top\", transform=ax[1][1].transAxes, fontsize=12, bbox=dict(facecolor='white', edgecolor='black', boxstyle=\"round,pad=0.5\"))\n",
    "        \n",
    "        if plot_fit:\n",
    "            ax[0][0].plot(popt[1], popt[2], 'ro', markersize=2, label='Gaussian Fit Center')\n",
    "            ellipse = matplotlib.patches.Ellipse((popt[1], popt[2]), width=6*popt[3], height=6*popt[4],\n",
    "                                                    edgecolor='g', facecolor='none', linewidth=2, zorder=4)\n",
    "            ax[0][0].add_patch(ellipse)"
   ]
  },
  {
   "cell_type": "code",
   "execution_count": 59,
   "id": "00038b72",
   "metadata": {},
   "outputs": [
    {
     "name": "stdout",
     "output_type": "stream",
     "text": [
      "Bin size in x direction: 0.030666666666666665 mm\n",
      "Bin size in y direction: 0.023333333333333334 mm\n"
     ]
    }
   ],
   "source": [
    "# Assuming test is your 2D array\n",
    "ny, nx = test.shape\n",
    "\n",
    "# Calculate bin sizes\n",
    "dx = (xlim[1] - xlim[0]) / nx\n",
    "dy = (ylim[1] - ylim[0]) / ny\n",
    "\n",
    "print(f\"Bin size in x direction: {dx} mm\")\n",
    "print(f\"Bin size in y direction: {dy} mm\")"
   ]
  },
  {
   "cell_type": "code",
   "execution_count": 47,
   "id": "dfd980c6",
   "metadata": {},
   "outputs": [
    {
     "data": {
      "text/plain": [
       "1500"
      ]
     },
     "execution_count": 47,
     "metadata": {},
     "output_type": "execute_result"
    }
   ],
   "source": [
    "nx"
   ]
  },
  {
   "cell_type": "code",
   "execution_count": 20,
   "id": "ff208dd3",
   "metadata": {},
   "outputs": [
    {
     "name": "stdout",
     "output_type": "stream",
     "text": [
      "512\n"
     ]
    }
   ],
   "source": [
    "\n"
   ]
  },
  {
   "cell_type": "code",
   "execution_count": 33,
   "id": "2147fdaf",
   "metadata": {},
   "outputs": [],
   "source": [
    "ti = '2025-05-15 18:21:00'\n",
    "tf = '2025-05-15 18:22:00'\n",
    "\n",
    "#var = 'BLMTI.05R7.B2I10_TCPCH.A5R7.B2:LOSS_RS09'\n",
    "var = \"hitMapTFT\""
   ]
  },
  {
   "cell_type": "code",
   "execution_count": 34,
   "id": "180ec035",
   "metadata": {
    "scrolled": false
   },
   "outputs": [],
   "source": [
    "fromTimber = lbd.get(var, ti, tf)"
   ]
  },
  {
   "cell_type": "code",
   "execution_count": null,
   "id": "a7916870",
   "metadata": {},
   "outputs": [],
   "source": [
    "\"\"\"for i in fromTimber['hitMapTFT'][0]:\n",
    "    print(utc_timestamp_to_date_string(i))\"\"\""
   ]
  },
  {
   "cell_type": "code",
   "execution_count": 35,
   "id": "3a29b9d4",
   "metadata": {},
   "outputs": [],
   "source": [
    "data = np.array(fromTimber['hitMapTFT'][1])"
   ]
  },
  {
   "cell_type": "code",
   "execution_count": 36,
   "id": "03806a90",
   "metadata": {},
   "outputs": [],
   "source": [
    "TFT_data_to_plot = np.sum(data, axis =0)"
   ]
  },
  {
   "cell_type": "code",
   "execution_count": 37,
   "id": "b91dd466",
   "metadata": {
    "scrolled": false
   },
   "outputs": [
    {
     "data": {
      "image/png": "[encoded data removed]",
      "text/plain": [
       "<Figure size 720x468 with 2 Axes>"
      ]
     },
     "metadata": {
      "needs_background": "light"
     },
     "output_type": "display_data"
    }
   ],
   "source": [
    "def get_pentagonal(y_lim = 0.003):\n",
    "    angles = [180-135, 90, 90, 90,135] \n",
    "    side_lengths = [31.1e-3, 10e-3, 32e-3, 32e-3, 10e-3]  \n",
    "    angles = np.radians(angles)\n",
    "\n",
    "    ALFA_x = [0]\n",
    "    ALFA_y = [0]\n",
    "    for i in range(len(side_lengths)):\n",
    "        angle_sum = np.sum(angles[:i])\n",
    "        ALFA_x.append(ALFA_x[-1] + side_lengths[i] * np.cos(angle_sum))\n",
    "        ALFA_y.append(ALFA_y[-1] + side_lengths[i] * np.sin(angle_sum))\n",
    "    ALFA_x.append(ALFA_x[0])\n",
    "    ALFA_y.append(ALFA_y[0])\n",
    "\n",
    "    ALFA_x = [i -side_lengths[0]/2 for i in ALFA_x]\n",
    "    ALFA_y = [i + y_lim for i in ALFA_y]\n",
    "\n",
    "    return np.array(ALFA_x), np.array(ALFA_y)\n",
    "\n",
    "fig, ax = plt.subplots(figsize=(10,6.5))\n",
    "xlim = (-23.0, 23.0)\n",
    "ylim = (0.0, 35.0)\n",
    "ALFA_x, ALFA_y = get_pentagonal()\n",
    "ax.plot(ALFA_x*1e3, ALFA_y*1e3, color='r', lw=2)\n",
    "cmap = plt.cm.viridis.copy()  \n",
    "cmap.set_under('white')\n",
    "norm = matplotlib.colors.LogNorm()\n",
    "plt.imshow(TFT_data_to_plot, origin='lower', cmap=cmap, norm = norm,  extent=[xlim[0], xlim[1], ylim[0], ylim[1]], aspect='auto')  \n",
    "cbar = plt.colorbar(ax=ax)  \n",
    "cbar.ax.tick_params(labelsize=12)  \n",
    "cbar.set_label(label='Counts', fontsize=14)  \n",
    "ax.set_xlabel('x [mm]', fontsize=14)\n",
    "ax.set_ylabel('y [mm]', fontsize=14)\n",
    "ax.tick_params(axis='both', which='major', labelsize=12)\n",
    "ax.grid(linestyle=\":\")"
   ]
  },
  {
   "cell_type": "code",
   "execution_count": null,
   "id": "3776a5b0",
   "metadata": {},
   "outputs": [],
   "source": []
  },
  {
   "cell_type": "code",
   "execution_count": null,
   "id": "0dec2172",
   "metadata": {},
   "outputs": [],
   "source": []
  },
  {
   "cell_type": "code",
   "execution_count": null,
   "id": "a25746a1",
   "metadata": {},
   "outputs": [],
   "source": []
  },
  {
   "cell_type": "code",
   "execution_count": null,
   "id": "9cc7bccd",
   "metadata": {},
   "outputs": [],
   "source": []
  },
  {
   "cell_type": "code",
   "execution_count": 24,
   "id": "181fd257",
   "metadata": {},
   "outputs": [],
   "source": [
    "import pytimber as pt\n",
    "\n",
    "lbd = pt.LoggingDB(source='nxcals', spark_session=spark)\n",
    "ti = '2025-05-15 18:32:00'\n",
    "tf = '2025-05-15 18:33:00'\n",
    "\n",
    "#var = 'BLMTI.05R7.B2I10_TCPCH.A5R7.B2:LOSS_RS09'\n",
    "var = \"hitMapPix\"\n",
    "fromTimber_PIX = lbd.get(var, ti, tf)"
   ]
  },
  {
   "cell_type": "code",
   "execution_count": 11,
   "id": "531c09f5",
   "metadata": {},
   "outputs": [],
   "source": [
    "fromTimber_PIX = lbd.get(var, ti, tf)"
   ]
  },
  {
   "cell_type": "code",
   "execution_count": 25,
   "id": "2d19a9bf",
   "metadata": {},
   "outputs": [
    {
     "data": {
      "text/plain": [
       "160"
      ]
     },
     "execution_count": 25,
     "metadata": {},
     "output_type": "execute_result"
    }
   ],
   "source": [
    "len(fromTimber_PIX[\"hitMapPix\"][0])"
   ]
  },
  {
   "cell_type": "code",
   "execution_count": 26,
   "id": "388d5d11",
   "metadata": {},
   "outputs": [],
   "source": [
    "data_PIX = np.array(fromTimber_PIX[\"hitMapPix\"][1])"
   ]
  },
  {
   "cell_type": "code",
   "execution_count": 27,
   "id": "d46f0db2",
   "metadata": {},
   "outputs": [
    {
     "data": {
      "text/plain": [
       "(160, 768, 256)"
      ]
     },
     "execution_count": 27,
     "metadata": {},
     "output_type": "execute_result"
    }
   ],
   "source": [
    "data_PIX.shape"
   ]
  },
  {
   "cell_type": "code",
   "execution_count": 28,
   "id": "50f166bf",
   "metadata": {},
   "outputs": [],
   "source": [
    "PIX_data_to_plot = np.sum(data_PIX, axis =0)"
   ]
  },
  {
   "cell_type": "code",
   "execution_count": 29,
   "id": "9e4840b5",
   "metadata": {},
   "outputs": [
    {
     "data": {
      "text/plain": [
       "(768, 256)"
      ]
     },
     "execution_count": 29,
     "metadata": {},
     "output_type": "execute_result"
    }
   ],
   "source": [
    "PIX_data_to_plot.shape"
   ]
  },
  {
   "cell_type": "code",
   "execution_count": 30,
   "id": "b00307bf",
   "metadata": {},
   "outputs": [
    {
     "data": {
      "text/plain": [
       "2.9999999999999996"
      ]
     },
     "execution_count": 30,
     "metadata": {},
     "output_type": "execute_result"
    }
   ],
   "source": [
    "21.45*2 /14.30"
   ]
  },
  {
   "cell_type": "code",
   "execution_count": null,
   "id": "79e891fe",
   "metadata": {},
   "outputs": [],
   "source": []
  },
  {
   "cell_type": "code",
   "execution_count": 60,
   "id": "a1cac13c",
   "metadata": {},
   "outputs": [
    {
     "data": {
      "image/png": "[encoded data removed]",
      "text/plain": [
       "<Figure size 1544.4x514.8 with 2 Axes>"
      ]
     },
     "metadata": {
      "needs_background": "light"
     },
     "output_type": "display_data"
    }
   ],
   "source": [
    "fig, ax = plt.subplots(figsize=(21.45,14.30/2))\n",
    "xlim = (-21.45, 21.45)\n",
    "ylim = (0.0, 14.30)\n",
    "cmap = plt.cm.viridis.copy()  \n",
    "cmap.set_under('white')\n",
    "norm = matplotlib.colors.LogNorm()\n",
    "plt.imshow(PIX_data_to_plot.T, origin='lower', cmap=cmap, norm = norm,  extent=[xlim[0], xlim[1], ylim[0], ylim[1]], aspect='auto')  \n",
    "cbar = plt.colorbar(ax=ax)  \n",
    "cbar.ax.tick_params(labelsize=12)  \n",
    "cbar.set_label(label='Counts', fontsize=14)  \n",
    "ax.set_xlabel('x [mm]', fontsize=14)\n",
    "ax.set_ylabel('y [mm]', fontsize=14)\n",
    "ax.tick_params(axis='both', which='major', labelsize=12)\n",
    "ax.grid(linestyle=\":\")"
   ]
  },
  {
   "cell_type": "code",
   "execution_count": 32,
   "id": "28a45e7c",
   "metadata": {},
   "outputs": [
    {
     "data": {
      "text/plain": [
       "465"
      ]
     },
     "execution_count": 32,
     "metadata": {},
     "output_type": "execute_result"
    }
   ],
   "source": [
    "np.sum(PIX_data_to_plot)"
   ]
  }
 ],
 "metadata": {
  "@webio": {
   "lastCommId": null,
   "lastKernelId": null
  },
  "kernelspec": {
   "display_name": "Python 3",
   "language": "python",
   "name": "python3"
  },
  "language_info": {
   "codemirror_mode": {
    "name": "ipython",
    "version": 3
   },
   "file_extension": ".py",
   "mimetype": "text/x-python",
   "name": "python",
   "nbconvert_exporter": "python",
   "pygments_lexer": "ipython3",
   "version": "3.11.9"
  },
  "sparkconnect": {
   "bundled_options": [
    "NXCALS"
   ],
   "list_of_options": []
  }
 },
 "nbformat": 4,
 "nbformat_minor": 5
}
