{
 "cells": [
  {
   "cell_type": "code",
   "execution_count": 9,
   "id": "b41b6e6e",
   "metadata": {
    "vscode": {
     "languageId": "python"
    }
   },
   "outputs": [
    {
     "name": "stdout",
     "output_type": "stream",
     "text": [
      "\n",
      "xcoll version:  0.6.0rc0\n",
      "xtrack version:  0.83.1\n",
      "xpart version:  0.23.0\n",
      "xobjects version:  0.5.0\n"
     ]
    }
   ],
   "source": [
    "import numpy as np\n",
    "import json\n",
    "import yaml\n",
    "import matplotlib\n",
    "import matplotlib.pyplot as plt\n",
    "import pandas as pd\n",
    "import seaborn as sns\n",
    "\n",
    "from matplotlib.ticker import MaxNLocator\n",
    "\n",
    "import xobjects as xo\n",
    "import xtrack as xt\n",
    "import xpart as xp\n",
    "import xcoll as xc\n",
    "import scipy\n",
    "\n",
    "\n",
    "import pymadx\n",
    "\n",
    "from xcoll_plotting import plot_functions as xcp\n",
    "\n",
    "print('\\nxcoll version: ', xc.__version__)\n",
    "print('xtrack version: ', xt.__version__)\n",
    "print('xpart version: ', xp.__version__)\n",
    "print('xobjects version: ', xo.__version__)\n",
    "\n",
    "context = xo.ContextCpu() \n",
    "seed = 1927034333"
   ]
  },
  {
   "cell_type": "code",
   "execution_count": 2,
   "id": "8bcf896f",
   "metadata": {
    "vscode": {
     "languageId": "python"
    }
   },
   "outputs": [],
   "source": [
    "# ------------ TRACKING FUNCTIONS ----------------\n",
    "\n",
    "def change_coordinates_to_b1(df):\n",
    "    if 's' in df.columns:\n",
    "        df['s'] = end_s - df['s']\n",
    "    else:\n",
    "        new_index = [end_s - i for i in df.index.values]\n",
    "        df.index = new_index \n",
    "    return df\n",
    "\n",
    "\n",
    "\n",
    "def reset_coord_cry_tracking(df, twiss, loc_start, loc_name_start, loc_stop_name = 'ip1', turn = 1):\n",
    "    names = twiss.to_pandas().name.to_numpy()\n",
    "    idx_start = np.where(names == loc_name_start)[0][0]\n",
    "    idx_stop = np.where(names == loc_stop_name)[0][0]\n",
    "    eps =  1e-11\n",
    "    df = df.iloc[idx_start:idx_stop]\n",
    "    names = names[idx_start:idx_stop]\n",
    "    df = df.copy()\n",
    "    if turn == 1:\n",
    "        df['s'] = np.where(df['s'] <= end_s - loc_start + eps, end_s - loc_start - df['s'], 2 * end_s - loc_start - df['s'])\n",
    "    else:\n",
    "        df = change_coordinates_to_b1(df)\n",
    "    df['name'] = names\n",
    "    df = df.sort_values(by=\"s\")\n",
    "    return df\n",
    "\n",
    "\n",
    "def CRY_tw(gap, emittance, element, tw):\n",
    "    mp = 0.9382e9\n",
    "    emittance_n = 3.5e-6\n",
    "    gamma = energy/mp\n",
    "    beta = np.sqrt(1-1/(gamma*gamma))\n",
    "    emittance = emittance_n/(beta*gamma)\n",
    "\n",
    "    beta_y = tw['bety', element]\n",
    "    alpha_y = tw['alfy', element]\n",
    "    #print('beta_y = ', beta_y, 'alpha_y = ', alpha_y)\n",
    "    return gap*np.sqrt(emittance*beta_y), -gap*alpha_y*np.sqrt(emittance/beta_y)\n",
    "\n",
    "\n",
    "def track_particle(part, line, tw, turn = 1):\n",
    "    line.scattering.enable() \n",
    "    idx_TCCS = line.element_names.index('tccs.5r3.b2')\n",
    "    if turn > 1:\n",
    "        line.track(part, ele_start=idx_TCCS, ele_stop = idx_TCCS, num_turns = turn)\n",
    "    if part.state > 0:\n",
    "        start_element =  line.element_names[part.at_element[0]]\n",
    "        start_loc = line.get_s_position()[part.at_element[0]]\n",
    "        line.track(part, turn_by_turn_monitor = 'ONE_TURN_EBE', ele_start=idx_TCCS)\n",
    "        df1 = reset_coord_cry_tracking(pd.DataFrame(list(zip(line.record_last_track.s[0], -1*line.record_last_track.x[0], line.record_last_track.y[0], line.record_last_track.py[0])), columns =['s', 'x', 'y', 'py']), \n",
    "                                        tw, loc_start = start_loc, loc_name_start = start_element, loc_stop_name = line.element_names[part.at_element[0]-1], turn = turn)\n",
    "    else:\n",
    "        df1 = pd.DataFrame(columns =['s', 'x', 'y', 'py'])\n",
    "    if part.state >0:\n",
    "        new_start_element =  line.element_names[part.at_element[0]]\n",
    "        new_start_loc = line.get_s_position()[part.at_element[0]]\n",
    "        line.track(part, turn_by_turn_monitor = 'ONE_TURN_EBE', ele_stop=idx_TCCS)\n",
    "        df2 = reset_coord_cry_tracking(pd.DataFrame(list(zip(line.record_last_track.s[0], -1*line.record_last_track.x[0], line.record_last_track.y[0], line.record_last_track.py[0])), columns =['s', 'x', 'y', 'py']), \n",
    "                                          tw, loc_start = new_start_loc, loc_name_start = new_start_element, loc_stop_name = line.element_names[part.at_element[0]-1], turn = turn)\n",
    "    else:\n",
    "        df2 = pd.DataFrame(columns =['s', 'x', 'y', 'py'])\n",
    "    line.scattering.disable()\n",
    "    return df1, df2\n",
    "\n",
    "\n",
    "# ------------ PLOTTING FUNCTIONS ----------------\n",
    "\n",
    "def fill_between(ax, df_upper, df_lower):\n",
    "    if df_upper.empty or df_lower.empty:\n",
    "        return\n",
    "    if len(df_upper) > len(df_lower):\n",
    "        idx = len(df_upper) - len(df_lower)\n",
    "        df1 = df_upper.iloc[idx:]\n",
    "        df2 = df_lower\n",
    "    else:\n",
    "        idx = len(df_lower) - len(df_upper)\n",
    "        df1 = df_upper\n",
    "        df2 = df_lower.iloc[idx:]\n",
    "\n",
    "    ax.fill_between(df1['s'], df1['y'], df2['y'], color='blue', alpha=0.3)\n",
    "\n",
    "def get_jaw(ax, name, length, tw, end_s, hgap_L, angle = 90, hgap_R = None, plot_skew = False,  color = None):\n",
    "    \n",
    "    if (plot_skew or angle == 90) and angle != 0:\n",
    "            if color is None:\n",
    "                color = 'k' if angle == 90 else 'grey'\n",
    "            s_centre = end_s - tw['s', name]\n",
    "            sstart  = s_centre - length/2\n",
    "            send    = s_centre + length/2\n",
    "            w       = send-sstart\n",
    "            top_lim = plt.ylim()[1]*2\n",
    "            bot_lim = plt.ylim()[0]*2\n",
    "\n",
    "            if hgap_L is not None:\n",
    "                h       = top_lim - hgap_L * np.sin(np.deg2rad(angle))\n",
    "                jaw = matplotlib.patches.Rectangle((sstart, hgap_L), w, h, angle=0.0, \n",
    "                                                        fc=color, ec=color, zorder=10)\n",
    "                ax.add_patch(jaw)\n",
    "            \n",
    "            if hgap_R is not None:\n",
    "                h = hgap_R  * np.sin(np.deg2rad(angle)) - bot_lim \n",
    "                jaw = matplotlib.patches.Rectangle((sstart, bot_lim), w, h, angle=0.0, \n",
    "                                                    fc=color, ec=color, zorder=10)\n",
    "                ax.add_patch(jaw)\n",
    "\n",
    "def convert_mm_to_m(val):\n",
    "    return val * 1e-3\n"
   ]
  },
  {
   "cell_type": "code",
   "execution_count": 3,
   "id": "dc6ea30f",
   "metadata": {
    "vscode": {
     "languageId": "python"
    }
   },
   "outputs": [
    {
     "name": "stdout",
     "output_type": "stream",
     "text": [
      "pymadx.Tfs.Load> normal file\n"
     ]
    }
   ],
   "source": [
    "# -------------- CONSTANT PARAMETERS -----------------\n",
    "beam =  2 \n",
    "plane = 'V' \n",
    "emittance_n = 3.5e-6\n",
    "layout_file = \"../input_files/2023_Run3_flat_top/layout_flat_top_b2.tfs\"  \n",
    "layout_data_object = pymadx.Data.Tfs(layout_file)\n",
    "\n",
    "\n",
    "TCCP_bending_angle = 6921.3e-6\n",
    "TCCS_bending_angle = 50e-6\n",
    "TCCP_length = 0.070\n",
    "TARGET_length =  0.005\n",
    "TCCS_length = 0.004\n",
    "\n",
    "TCCS_name = 'tccs.5r3.b2'\n",
    "TCCP_name = 'tccp.4l3.b2'\n",
    "TARGET_name = 'target.4l3.b2'\n",
    "PIXEL_name = 'pixel.detector'\n",
    "TFT_name = 'tft.detector'\n",
    "TCP_name = 'tcp.d6r7.b2'\n",
    "TCLA_name = 'tcla.a5l3.b2'\n",
    "\n",
    "TCCS_loc_abs  = 6773.9428  #6773.7 #6775\n",
    "TCCP_loc_abs  = 6653.2543  #6653.3 #6655\n",
    "PIX1_loc_abs = 6652.7039\n",
    "PIX2_loc_abs = 6652.6929\n",
    "PIX3_loc_abs = 6652.6819\n",
    "TFT_loc_abs = 6652.114"
   ]
  },
  {
   "cell_type": "code",
   "execution_count": 6,
   "id": "82b4f461",
   "metadata": {
    "vscode": {
     "languageId": "python"
    }
   },
   "outputs": [],
   "source": [
    "# -------------- SETTABLE PARAMETERS -----------------\n",
    "\n",
    "coll_file = './HL_relaxed.yaml'\n",
    "#coll_file = './input_files/colldbs/TWOCRYST_colldb_450GeV.yaml'\n",
    "#line_file = './MadX/2024/track_injection_b2.json'\n",
    "line_file = './opt_round_150_1500_optphases_b2_patched.json'\n",
    "#line_file = './MadX/2025_new/flat_top/track_flat_top_b2.json'\n",
    "\n",
    "part_energy = 7000e9\n",
    "\n",
    "ignore_crystals = True"
   ]
  },
  {
   "cell_type": "code",
   "execution_count": 10,
   "id": "a468c5aa",
   "metadata": {
    "vscode": {
     "languageId": "python"
    }
   },
   "outputs": [
    {
     "data": {
      "application/vnd.jupyter.widget-view+json": {
       "model_id": "82bd7c5c77ef4ce0b8279c6170415a77",
       "version_major": 2,
       "version_minor": 0
      },
      "text/plain": [
       "Loading line from dict:   0%|          | 0/88125 [00:00<?, ?it/s]"
      ]
     },
     "metadata": {},
     "output_type": "display_data"
    },
    {
     "name": "stdout",
     "output_type": "stream",
     "text": [
      "Done loading line from dict.           \n",
      "\n",
      "Particle energy: 7000.0 GeV\n",
      "\n"
     ]
    },
    {
     "data": {
      "application/vnd.jupyter.widget-view+json": {
       "model_id": "c10a09b481b4480c8f035a50c721a097",
       "version_major": 2,
       "version_minor": 0
      },
      "text/plain": [
       "Slicing line:   0%|          | 0/88125 [00:00<?, ?it/s]"
      ]
     },
     "metadata": {},
     "output_type": "display_data"
    },
    {
     "data": {
      "application/vnd.jupyter.widget-view+json": {
       "model_id": "ee2cf6b970764a26a6f9d9664c978765",
       "version_major": 2,
       "version_minor": 0
      },
      "text/plain": [
       "Slicing line:   0%|          | 0/88128 [00:00<?, ?it/s]"
      ]
     },
     "metadata": {},
     "output_type": "display_data"
    },
    {
     "data": {
      "application/vnd.jupyter.widget-view+json": {
       "model_id": "533dc72c5d7f4a0b919584cd1aeb8761",
       "version_major": 2,
       "version_minor": 0
      },
      "text/plain": [
       "Slicing line:   0%|          | 0/88130 [00:00<?, ?it/s]"
      ]
     },
     "metadata": {},
     "output_type": "display_data"
    },
    {
     "data": {
      "application/vnd.jupyter.widget-view+json": {
       "model_id": "bcaa2fbf735542668ef0ecee0a8e5bdf",
       "version_major": 2,
       "version_minor": 0
      },
      "text/plain": [
       "Slicing line:   0%|          | 0/88132 [00:00<?, ?it/s]"
      ]
     },
     "metadata": {},
     "output_type": "display_data"
    },
    {
     "data": {
      "application/vnd.jupyter.widget-view+json": {
       "model_id": "a5bbe9d10063431c8cde750b42659ec9",
       "version_major": 2,
       "version_minor": 0
      },
      "text/plain": [
       "Slicing line:   0%|          | 0/88134 [00:00<?, ?it/s]"
      ]
     },
     "metadata": {},
     "output_type": "display_data"
    },
    {
     "data": {
      "application/vnd.jupyter.widget-view+json": {
       "model_id": "ab137f19b63b45e8987146fcffa046e4",
       "version_major": 2,
       "version_minor": 0
      },
      "text/plain": [
       "Slicing line:   0%|          | 0/88136 [00:00<?, ?it/s]"
      ]
     },
     "metadata": {},
     "output_type": "display_data"
    },
    {
     "data": {
      "application/vnd.jupyter.widget-view+json": {
       "model_id": "d0f31b4b463545d6a52d1d3119b759a7",
       "version_major": 2,
       "version_minor": 0
      },
      "text/plain": [
       "Slicing line:   0%|          | 0/88139 [00:00<?, ?it/s]"
      ]
     },
     "metadata": {},
     "output_type": "display_data"
    },
    {
     "data": {
      "application/vnd.jupyter.widget-view+json": {
       "model_id": "d1b47d0a7bce4fdcba4419eafefe2a7c",
       "version_major": 2,
       "version_minor": 0
      },
      "text/plain": [
       "Slicing line:   0%|          | 0/88142 [00:00<?, ?it/s]"
      ]
     },
     "metadata": {},
     "output_type": "display_data"
    },
    {
     "data": {
      "application/vnd.jupyter.widget-view+json": {
       "model_id": "013e518953104a4597faee3ad21448f5",
       "version_major": 2,
       "version_minor": 0
      },
      "text/plain": [
       "Slicing line:   0%|          | 0/88145 [00:00<?, ?it/s]"
      ]
     },
     "metadata": {},
     "output_type": "display_data"
    },
    {
     "data": {
      "application/vnd.jupyter.widget-view+json": {
       "model_id": "9aaf60f3387a423d9a07f048af25bf48",
       "version_major": 2,
       "version_minor": 0
      },
      "text/plain": [
       "Slicing line:   0%|          | 0/88148 [00:00<?, ?it/s]"
      ]
     },
     "metadata": {},
     "output_type": "display_data"
    },
    {
     "data": {
      "application/vnd.jupyter.widget-view+json": {
       "model_id": "5971922928814edd88a8648332998326",
       "version_major": 2,
       "version_minor": 0
      },
      "text/plain": [
       "Slicing line:   0%|          | 0/88151 [00:00<?, ?it/s]"
      ]
     },
     "metadata": {},
     "output_type": "display_data"
    },
    {
     "name": "stdout",
     "output_type": "stream",
     "text": [
      "Installing tcp.6r3.b2           as EverestCollimator\n",
      "Installing tcsg.b5r7.b2         as EverestCollimator\n",
      "Installing tcla.7l3.b2          as EverestCollimator\n",
      "Installing tcl.6l5.b2           as EverestCollimator\n",
      "Installing tcspm.6l7.b2         as EverestCollimator\n",
      "Installing tctpv.6r1.b2         as EverestCollimator\n",
      "Installing tclpx.4l1.b2         as EverestCollimator\n",
      "Installing tcl.6l1.b2           as EverestCollimator\n",
      "Installing tdisb.a4r8.b2        as EverestCollimator\n",
      "Installing tcla.a6l7.b2         as EverestCollimator\n",
      "Installing tcla.6l3.b2          as EverestCollimator\n",
      "Installing tcsg.a5r7.b2         as EverestCollimator\n",
      "Installing tcsg.b5l7.b2         as EverestCollimator\n",
      "Installing tcp.d6r7.b2          as EverestCollimator\n",
      "Installing tcsg.a4l7.b2         as EverestCollimator\n",
      "Installing tcla.b6l7.b2         as EverestCollimator\n",
      "Installing tcspm.b4r7.b2        as EverestCollimator\n",
      "Installing tclib.6l8.b2         as EverestCollimator\n",
      "Installing tctpv.6r5.b2         as EverestCollimator\n",
      "Installing tcsp.a4l6.b2         as EverestCollimator\n",
      "Installing tcla.a5l3.b2         as EverestCollimator\n",
      "Installing tctph.6r1.b2         as EverestCollimator\n",
      "Installing tcp.c6r7.b2          as EverestCollimator\n",
      "Installing tcla.d6l7.b2         as EverestCollimator\n",
      "Installing tctph.6r5.b2         as EverestCollimator\n",
      "Installing tcsg.a4r7.b2         as EverestCollimator\n",
      "Installing tcla.c6l7.b2         as EverestCollimator\n",
      "Installing tclia.4r2            as EverestCollimator\n",
      "Installing tctph.4r2.b2         as EverestCollimator\n",
      "Installing tcsg.d5l7.b2         as EverestCollimator\n",
      "Installing tcsg.d4r7.b2         as EverestCollimator\n",
      "Installing tcp.b6r7.b2          as EverestCollimator\n",
      "Installing tctpxh.4r1.b2        as EverestCollimator\n",
      "Installing tctpxh.4r5.b2        as EverestCollimator\n",
      "Installing tcla.a7l7.b2         as EverestCollimator\n",
      "Installing tcsg.a5l3.b2         as EverestCollimator\n",
      "Installing target.4l3.b2        as EverestCollimator\n",
      "Installing tdisc.a4r8.b2        as EverestCollimator\n",
      "Installing tcsg.a6r7.b2         as EverestCollimator\n",
      "Installing tctpxv.4r5.b2        as EverestCollimator\n",
      "Installing tcspm.e5l7.b2        as EverestCollimator\n",
      "Installing tcl.5l5.b2           as EverestCollimator\n",
      "Installing tctph.4r8.b2         as EverestCollimator\n",
      "Installing tcsg.b5l3.b2         as EverestCollimator\n",
      "Installing tcl.5l1.b2           as EverestCollimator\n",
      "Installing tcla.b5l3.b2         as EverestCollimator\n",
      "Installing tcsg.5r3.b2          as EverestCollimator\n",
      "Installing tctpv.4r8.b2         as EverestCollimator\n",
      "Installing tdisa.a4r8.b2        as EverestCollimator\n",
      "Installing tctpxv.4r1.b2        as EverestCollimator\n",
      "Installing tcld.a11l2.b2        as EverestCollimator\n",
      "Installing tcdqa.b4l6.b2        as EverestCollimator\n",
      "Installing tctpv.4r2.b2         as EverestCollimator\n",
      "Installing tcdqa.c4l6.b2        as EverestCollimator\n",
      "Installing tcsg.4l3.b2          as EverestCollimator\n",
      "Installing tclpx.4l5.b2         as EverestCollimator\n",
      "Installing tcdqa.a4l6.b2        as EverestCollimator\n"
     ]
    },
    {
     "data": {
      "application/vnd.jupyter.widget-view+json": {
       "model_id": "74aaacf91d994d7f8d2d7ffe0f1805ac",
       "version_major": 2,
       "version_minor": 0
      },
      "text/plain": [
       "Slicing line:   0%|          | 0/88153 [00:00<?, ?it/s]"
      ]
     },
     "metadata": {},
     "output_type": "display_data"
    },
    {
     "name": "stdout",
     "output_type": "stream",
     "text": [
      "\n",
      "Aperture model check after introducing collimators:\n"
     ]
    },
    {
     "data": {
      "application/vnd.jupyter.widget-view+json": {
       "model_id": "52fe55d41c724f1ca2aa1fb5edc57406",
       "version_major": 2,
       "version_minor": 0
      },
      "text/plain": [
       "Checking aperture:   0%|          | 0/88103 [00:00<?, ?it/s]"
      ]
     },
     "metadata": {},
     "output_type": "display_data"
    },
    {
     "name": "stdout",
     "output_type": "stream",
     "text": [
      "Done checking aperture.           \n",
      "0 thin elements miss associated aperture (upstream):\n",
      "[]\n",
      "0 thick elements miss associated aperture (upstream or downstream):\n",
      "[]\n",
      "Compiling ContextCpu kernels...\n"
     ]
    },
    {
     "name": "stderr",
     "output_type": "stream",
     "text": [
      "4c5d6429aed74c669b581c567496ae04.c: In function 'EverestCollimator_track_local_particle':\n",
      "4c5d6429aed74c669b581c567496ae04.c:17051:42: warning: 'cg' may be used uninitialized in this function [-Wmaybe-uninitialized]\n",
      "17051 |         XYShift_single_particle(part, -cg->jaw_RU, 0);\n",
      "      |                                        ~~^~~~~~~~\n",
      "4c5d6429aed74c669b581c567496ae04.c:22418:24: note: 'cg' was declared here\n",
      "22418 |     CollimatorGeometry cg;\n",
      "      |                        ^~\n",
      "4c5d6429aed74c669b581c567496ae04.c:20092:17: warning: 'coll' may be used uninitialized in this function [-Wmaybe-uninitialized]\n",
      "20092 |                 mcs(everest, part, rlen, pc, edge_check);\n",
      "      |                 ^~~~~~~~~~~~~~~~~~~~~~~~~~~~~~~~~~~~~~~~\n",
      "4c5d6429aed74c669b581c567496ae04.c:22417:21: note: 'coll' was declared here\n",
      "22417 |     EverestCollData coll;\n",
      "      |                     ^~~~\n"
     ]
    },
    {
     "name": "stdout",
     "output_type": "stream",
     "text": [
      "Done compiling ContextCpu kernels.\n",
      "Compiling ContextCpu kernels...\n"
     ]
    },
    {
     "name": "stderr",
     "output_type": "stream",
     "text": [
      "8de605bb398b4a94955094ac1ccca958.c: In function 'EverestCollimator_track_local_particle':\n",
      "8de605bb398b4a94955094ac1ccca958.c:17055:42: warning: 'cg' may be used uninitialized in this function [-Wmaybe-uninitialized]\n",
      "17055 |         XYShift_single_particle(part, -cg->jaw_RU, 0);\n",
      "      |                                        ~~^~~~~~~~\n",
      "8de605bb398b4a94955094ac1ccca958.c:22422:24: note: 'cg' was declared here\n",
      "22422 |     CollimatorGeometry cg;\n",
      "      |                        ^~\n",
      "8de605bb398b4a94955094ac1ccca958.c:20096:17: warning: 'coll' may be used uninitialized in this function [-Wmaybe-uninitialized]\n",
      "20096 |                 mcs(everest, part, rlen, pc, edge_check);\n",
      "      |                 ^~~~~~~~~~~~~~~~~~~~~~~~~~~~~~~~~~~~~~~~\n",
      "8de605bb398b4a94955094ac1ccca958.c:22421:21: note: 'coll' was declared here\n",
      "22421 |     EverestCollData coll;\n",
      "      |                     ^~~~\n"
     ]
    },
    {
     "name": "stdout",
     "output_type": "stream",
     "text": [
      "Done compiling ContextCpu kernels.\n"
     ]
    }
   ],
   "source": [
    "# ---------------- BUILD LINE ----------------\n",
    "\n",
    "line = xt.Line.from_json(line_file)\n",
    "if part_energy is not None:\n",
    "    line.particle_ref = xt.Particles(p0c=part_energy, #eV\n",
    "                                q0=1, mass0=xt.PROTON_MASS_EV)\n",
    "print(f'\\nParticle energy: {float(line.particle_ref.p0c)/1e9:} GeV\\n')\n",
    "energy = line.particle_ref.p0c[0]\n",
    "beta_rel = line.particle_ref.beta0[0]\n",
    "gamma = line.particle_ref.gamma0[0]\n",
    "emittance = emittance_n/(beta_rel*gamma)\n",
    "\n",
    "\n",
    "dp = 1.92e-10 \n",
    "pot_crit = 21.34\n",
    "eta = 0.9\n",
    "bending_radius = TCCS_length/TCCS_bending_angle\n",
    "Rcrit = energy/(2*np.sqrt(eta)*pot_crit) * (dp/2)\n",
    "TCCS_critical_angle = np.sqrt(2*eta*pot_crit/energy)*(1 - Rcrit/bending_radius)\n",
    "\n",
    "\n",
    "end_s = line.get_length()\n",
    "\n",
    "\n",
    "TCCS_loc = end_s - TCCS_loc_abs\n",
    "TCCP_loc = end_s - TCCP_loc_abs\n",
    "TARGET_loc = end_s - (TCCP_loc_abs + 0.07/2 + 0.005/2)\n",
    "PIX1_loc = end_s - PIX1_loc_abs\n",
    "PIX2_loc = end_s - PIX2_loc_abs\n",
    "PIX3_loc = end_s - PIX3_loc_abs\n",
    "TFT_loc = end_s - TFT_loc_abs\n",
    "TCP_loc = line.get_s_position()[line.element_names.index(TCP_name)]\n",
    "TCLA_loc = line.get_s_position()[line.element_names.index(TCLA_name)]\n",
    "\n",
    "\n",
    "line.insert_element(at_s=TCCS_loc, element=xt.Marker(), name=TCCS_name)\n",
    "line.insert_element(at_s=TCCS_loc, element=xt.LimitEllipse(a_squ=0.0016, b_squ=0.0016, a_b_squ=2.56e-06), name=TCCS_name+'_aper')\n",
    "line.insert_element(at_s=TCCS_loc - TCCS_length/2, element=xt.Marker(), name=TCCS_name+'_exit')\n",
    "line.insert_element(at_s=TCCS_loc + TCCS_length/2, element=xt.Marker(), name=TCCS_name+'_entry')\n",
    "line.insert_element(at_s=TCCP_loc, element=xt.Marker(), name=TCCP_name)\n",
    "line.insert_element(at_s=TCCP_loc - TCCP_length/2, element=xt.Marker(), name=TCCP_name+'_exit')\n",
    "line.insert_element(at_s=TCCP_loc + TCCP_length/2, element=xt.Marker(), name=TCCP_name+'_entry')\n",
    "line.insert_element(at_s=TCCP_loc, element=xt.LimitEllipse(a_squ=0.0016, b_squ=0.0016, a_b_squ=2.56e-06), name=TCCP_name+'_aper')\n",
    "line.insert_element(at_s=TARGET_loc, element=xt.Marker(), name=TARGET_name)\n",
    "line.insert_element(at_s=TARGET_loc, element=xt.LimitEllipse(a_squ=0.0016, b_squ=0.0016, a_b_squ=2.56e-06), name= TARGET_name + '_aper')\n",
    "line.insert_element(at_s=PIX1_loc, element=xt.Marker(), name=PIXEL_name+'_1')\n",
    "line.insert_element(at_s=PIX1_loc, element=xt.LimitEllipse(a_squ=0.0016, b_squ=0.0016, a_b_squ=2.56e-06), name= PIXEL_name+'_1' + '_aper')\n",
    "line.insert_element(at_s=PIX2_loc, element=xt.Marker(), name=PIXEL_name+'_2')\n",
    "line.insert_element(at_s=PIX2_loc, element=xt.LimitEllipse(a_squ=0.0016, b_squ=0.0016, a_b_squ=2.56e-06), name= PIXEL_name+'_2' + '_aper')\n",
    "line.insert_element(at_s=PIX3_loc, element=xt.Marker(), name=PIXEL_name+'_3')\n",
    "line.insert_element(at_s=PIX3_loc, element=xt.LimitEllipse(a_squ=0.0016, b_squ=0.0016, a_b_squ=2.56e-06), name= PIXEL_name+'_3' + '_aper')\n",
    "line.insert_element(at_s=TFT_loc, element=xt.Marker(), name=TFT_name)\n",
    "\n",
    "\n",
    "colldb = xc.CollimatorDatabase.from_yaml(coll_file, beam=beam, ignore_crystals=ignore_crystals)\n",
    "colldb.install_everest_collimators(line = line,verbose=True)\n",
    "\n",
    "# Aperture model check\n",
    "print('\\nAperture model check after introducing collimators:')\n",
    "df_with_coll = line.check_aperture()\n",
    "assert not np.any(df_with_coll.has_aperture_problem)\n",
    "\n",
    "df_apertures = xcp.load_apertures(line)\n",
    "df_apertures = change_coordinates_to_b1(df_apertures)\n",
    "\n",
    "# Build the tracker\n",
    "line.build_tracker()\n",
    "\n",
    "speed = line.particle_ref._xobject.beta0[0]*scipy.constants.c\n",
    "harmonic_number = 35640\n",
    "voltage = 12e6/len(line.get_elements_of_type(xt.Cavity)[1])\n",
    "frequency = harmonic_number * speed /line.get_length()\n",
    "for side in ['l', 'r']:\n",
    "    for cell in ['a','b','c','d']:\n",
    "        line[f'acsca.{cell}5{side}4.b2'].voltage = voltage\n",
    "        line[f'acsca.{cell}5{side}4.b2'].frequency = frequency  \n",
    "tw = line.twiss()"
   ]
  },
  {
   "cell_type": "code",
   "execution_count": 12,
   "id": "2a0c4746",
   "metadata": {
    "vscode": {
     "languageId": "python"
    }
   },
   "outputs": [],
   "source": [
    "# ---------------- SET COLLIMATORS ----------------\n",
    "\n",
    "line.collimators.assign_optics()\n",
    "\n",
    "\"\"\"for n in colldb.collimator_names:\n",
    "   if line[n].angle != 0:\n",
    "      line[n].gap = 40\n",
    "\"\"\"\n",
    "#line[TCLA_name].gap =  #8\n",
    "\n",
    "\n",
    "TCCP_gap = 40.0\n",
    "TARGET_gap = 40.0\n",
    "TCCS_gap = 5.0\n",
    "\n",
    "if not ignore_crystals:\n",
    "   line[TCCS_name].gap = TCCS_gap\n",
    "   line[TCCS_name].align_to_beam_divergence()\n",
    "   line[TCCP_name].gap = TCCP_gap\n",
    "   line[TCCP_name].align_to_beam_divergence()\n",
    "   line[TARGET_name].gap = TARGET_gap\n",
    "\n",
    "\n",
    "df_colls = pd.DataFrame(columns=['name', 'angle', 'gap', 'jaw_L', 'jaw_R', 'length'])\n",
    "for n in colldb.collimator_names:\n",
    "   if  line[n].__class__.__name__ != 'EverestCrystal':\n",
    "      df = pd.DataFrame(data = [[n, line[n].angle, line[n].gap, line[n].jaw_L, line[n].jaw_R, line[n].length]], columns=['name', 'angle', 'gap', 'jaw_L', 'jaw_R', 'length'])\n",
    "      df_colls = pd.concat([df_colls, df], ignore_index=True)\n",
    "\n",
    "impacts = xc.InteractionRecord.start(line=line)"
   ]
  },
  {
   "cell_type": "code",
   "execution_count": 13,
   "id": "28113c97",
   "metadata": {
    "vscode": {
     "languageId": "python"
    }
   },
   "outputs": [],
   "source": [
    "# ---------------- INITIALIZE PARTICLES ----------------\n",
    "\n",
    "idx_TCCS = line.element_names.index(TCCS_name)\n",
    "\n",
    "CRY_kick = TCCS_bending_angle if ignore_crystals else 0\n",
    "\n",
    "cry_part_chann = xp.Particles(p0c=energy, #eV\n",
    "                            q0 = 1, mass0=xp.PROTON_MASS_EV,\n",
    "                            x = 0,\n",
    "                            px = 0,\n",
    "                            y = CRY_tw(TCCS_gap, emittance, TCCS_name, tw)[0],\n",
    "                            py = CRY_tw(TCCS_gap, emittance, TCCS_name , tw)[1] + CRY_kick,\n",
    "                            #y = CRY_kick(TCCS_gap, energy, TCCS_name, tw)[0],\n",
    "                            #py = CRY_kick(TCCS_gap, energy, TCCS_name, tw)[1] + CRY_kickk,\n",
    "                            at_element = idx_TCCS,\n",
    "                            particle_id = 0,\n",
    "                            _context=context)\n",
    "\n",
    "cry_part_chann_upper = xp.Particles(p0c=energy, #eV\n",
    "                        q0 = 1, mass0=xp.PROTON_MASS_EV,\n",
    "                        x = 0,\n",
    "                        px = 0,\n",
    "                        y = CRY_tw(TCCS_gap, emittance, TCCS_name , tw)[0],\n",
    "                        py = CRY_tw(TCCS_gap, emittance, TCCS_name , tw)[1] + CRY_kick + TCCS_critical_angle,\n",
    "                        #y = CRY_kick(TCCS_gap, energy, TCCS_name, tw)[0],\n",
    "                        #py = CRY_kick(TCCS_gap, energy, TCCS_name, tw)[1] + CRY_kickk + TCCS_critical_angle,\n",
    "                        at_element = idx_TCCS,\n",
    "                        particle_id = 1,\n",
    "                        _context=context)\n",
    "\n",
    "\n",
    "cry_part_chann_lower = xp.Particles(p0c=energy, #eV\n",
    "                        q0 = 1, mass0=xp.PROTON_MASS_EV,\n",
    "                        x = 0,\n",
    "                        px = 0,\n",
    "                        y = CRY_tw(TCCS_gap, emittance, TCCS_name, tw)[0],\n",
    "                        py = CRY_tw(TCCS_gap, emittance, TCCS_name, tw)[1] + CRY_kick - TCCS_critical_angle,\n",
    "                        #y = CRY_kick(TCCS_gap, energy, TCCS_name, tw)[0],\n",
    "                        #|py = CRY_kick(TCCS_gap, energy, TCCS_name, tw)[1] + CRY_kickk - TCCS_critical_angle,\n",
    "                        at_element = idx_TCCS,\n",
    "                        particle_id = 2,\n",
    "                        _context=context)\n",
    "\n",
    "if seed is not None:\n",
    "    cry_part_chann._rng_s1, cry_part_chann._rng_s2, cry_part_chann._rng_s3, cry_part_chann._rng_s4 = seed, seed+1, seed+2, seed+3\n",
    "    cry_part_chann_upper._rng_s1, cry_part_chann_upper._rng_s2, cry_part_chann_upper._rng_s3, cry_part_chann_upper._rng_s4 = seed, seed+1, seed+2, seed+3\n",
    "    cry_part_chann_lower._rng_s1, cry_part_chann_lower._rng_s2, cry_part_chann_lower._rng_s3, cry_part_chann_lower._rng_s4 = seed, seed+1, seed+2, seed+3"
   ]
  },
  {
   "cell_type": "code",
   "execution_count": 14,
   "id": "faa549c1",
   "metadata": {
    "vscode": {
     "languageId": "python"
    }
   },
   "outputs": [],
   "source": [
    "# ---------------- TRACKING ----------------\n",
    "\n",
    "turn_to_track = 1\n",
    "\n",
    "df_chann_L, df_chann_R = track_particle(cry_part_chann, line, tw, turn_to_track)\n",
    "df_chann_upper_L, df_chann_upper_R = track_particle(cry_part_chann_upper, line, tw,turn_to_track)\n",
    "df_chann_lower_L, df_chann_lower_R = track_particle(cry_part_chann_lower, line, tw, turn_to_track)"
   ]
  },
  {
   "cell_type": "code",
   "execution_count": 79,
   "id": "885e3afb",
   "metadata": {
    "vscode": {
     "languageId": "python"
    }
   },
   "outputs": [
    {
     "data": {
      "image/png": "[encoded data removed]",
      "text/plain": [
       "<Figure size 720x432 with 2 Axes>"
      ]
     },
     "metadata": {
      "needs_background": "light"
     },
     "output_type": "display_data"
    }
   ],
   "source": [
    "#%matplotlib notebook\n",
    "# ---------------- PLOT ----------------\n",
    "\n",
    "start, stop = 6540,6800  # 0, end_s#19000, 21000 #4000, 6000 # 6540,6777  #6540,6777 #6773.8,6774 #6640,6777 #0, end_s #6740,6777\n",
    "n_env = 5\n",
    "plot_cry_envelope = True if ignore_crystals else False\n",
    "figsize = (10, 6)#(25,6)\n",
    "plot_skew = False\n",
    "\n",
    "fig, ax = plt.subplots(2, 1, gridspec_kw={'height_ratios': [0.1, 1]}, sharex=True, figsize=figsize)\n",
    "pymadx.Plot._SetMachineAxesStyle(ax[0])\n",
    "pymadx.Plot._DrawMachineLattice(ax[0], layout_data_object)\n",
    "ax[0].set_xlim(start,stop)\n",
    "#ir3_plot[0].set_title(label='Energy = 1 TeV', y=1.05, fontsize=18)\n",
    "\n",
    "\n",
    "df_ref = change_coordinates_to_b1(tw.to_pandas())\n",
    "ax[1].plot(df_ref[\"s\"],df_ref[\"y\"],color=\"orange\")\n",
    "ax[1].plot(df_ref[\"s\"], n_env*np.sqrt(emittance*df_ref['bety']) + df_ref['y'], color='C1')\n",
    "ax[1].plot(df_ref[\"s\"],-n_env*np.sqrt(emittance*df_ref['bety'])+ df_ref['y'], color='C1')\n",
    "ax[1].fill_between(df_ref[\"s\"], n_env*np.sqrt(emittance*df_ref['bety']) + df_ref['y'], -n_env*np.sqrt(emittance*df_ref['bety'])+ df_ref['y'], color='C1', alpha=0.3)\n",
    "\n",
    "ax[1].plot(df_chann_L[\"s\"],df_chann_L[\"y\"], color='darkblue')\n",
    "ax[1].plot(df_chann_R[\"s\"],df_chann_R[\"y\"], color='darkblue')\n",
    "\n",
    "if plot_cry_envelope:\n",
    "    ax[1].plot(df_chann_upper_L[\"s\"],df_chann_upper_L[\"y\"], color='blue')\n",
    "    ax[1].plot(df_chann_upper_R[\"s\"],df_chann_upper_R[\"y\"], color='blue')\n",
    "    ax[1].plot(df_chann_lower_L[\"s\"],df_chann_lower_L[\"y\"], color='blue')\n",
    "    ax[1].plot(df_chann_lower_R[\"s\"],df_chann_lower_R[\"y\"], color='blue')\n",
    "    fill_between(ax[1], df_chann_upper_R, df_chann_lower_R)\n",
    "    fill_between(ax[1], df_chann_upper_L, df_chann_lower_L)\n",
    "\n",
    "ax[1].set_xlabel('s [m]',  fontsize=17)\n",
    "ax[1].set_xlim(start, stop)\n",
    "ax[1].set_ylim(-0.045, 0.045)\n",
    "ax[1].set_ylabel('y [m]',  fontsize=17)\n",
    "ax[1].grid(linestyle=':')\n",
    "ax[1].tick_params(axis='both', which='major', labelsize=17)\n",
    "xcp.plot_apertures(df_apertures[['xmin', 'xmax', 'ymin', 'ymax']].apply(lambda x: convert_mm_to_m(x)), ax[1], \"v\")\n",
    "   \n",
    "get_jaw(ax[1], PIXEL_name+ '_1', 0.06, tw, end_s, hgap_L = 0.010, color='green')\n",
    "get_jaw(ax[1],TFT_name, 0.06,  tw, end_s, hgap_L = 0.010, color='green')\n",
    "#get_jaw(ax[1],TCCP_name, TCCP_length, tw, end_s, hgap_L = float(df_chann_L[df_chann_L['name'] == TCCP_name ]['y']), color = 'r')\n",
    "get_jaw(ax[1],TCCS_name, TCCS_length, tw, end_s, hgap_L= CRY_tw(TCCS_gap, emittance, TCCS_name, tw)[0], color = 'r')\n",
    "for n in df_colls.name:\n",
    "    coll = df_colls[df_colls['name'] == n]\n",
    "    #if coll['angle'].values[0] == 90:\n",
    "    get_jaw(ax[1],n, coll.length.values[0], tw, end_s, angle = coll.angle.values[0],  hgap_L = coll.jaw_L.values[0], hgap_R = coll.jaw_R.values[0], plot_skew = plot_skew)\n",
    "\n",
    "plt.show()\n"
   ]
  },
  {
   "cell_type": "code",
   "execution_count": 80,
   "id": "ac70cfcf",
   "metadata": {
    "vscode": {
     "languageId": "python"
    }
   },
   "outputs": [],
   "source": [
    "tolerance = 1e-9 "
   ]
  },
  {
   "cell_type": "code",
   "execution_count": 81,
   "id": "94234e71",
   "metadata": {
    "vscode": {
     "languageId": "python"
    }
   },
   "outputs": [],
   "source": [
    "df_ref_TCLA = df_ref[(df_ref['s'] >=  min(df_chann_L.s)- tolerance) & (df_ref['s'] <= max(df_chann_L.s))]"
   ]
  },
  {
   "cell_type": "code",
   "execution_count": 83,
   "id": "bb0a7fcc",
   "metadata": {
    "vscode": {
     "languageId": "python"
    }
   },
   "outputs": [],
   "source": [
    "hgap = []\n",
    "tolerance = 1e-9 \n",
    "sigmas = []\n",
    "ss = []\n",
    "n_sigmas = []\n",
    "for s in df_chann_L.s.unique():\n",
    "    df_ref_TCLA_loc = df_ref_TCLA[np.isclose(df_ref_TCLA.s, s, atol=tolerance)]\n",
    "    y_chann = df_chann_L[np.isclose(df_chann_L.s, s, atol=tolerance)].y.values[0]\n",
    "    betay = df_ref_TCLA_loc['bety'].values[0]\n",
    "    y_ref = df_ref_TCLA_loc['y'].values[0]\n",
    "    sigma =  np.sqrt(emittance*betay)\n",
    "    hgap.append(y_chann - y_ref)\n",
    "    sigmas.append(sigma)\n",
    "    ss.append(s)\n",
    "    n_sigmas.append((y_chann - y_ref)/sigma)\n",
    "\n",
    "df_hgap = pd.DataFrame(data = list(zip(ss, hgap, sigmas, n_sigmas)), columns=['s', 'hgap', 'sigma', 'n_sigma'])\n"
   ]
  },
  {
   "cell_type": "code",
   "execution_count": 84,
   "id": "02dc141a",
   "metadata": {
    "vscode": {
     "languageId": "python"
    }
   },
   "outputs": [
    {
     "data": {
      "application/vnd.microsoft.datawrangler.viewer.v0+json": {
       "columns": [
        {
         "name": "index",
         "rawType": "int64",
         "type": "integer"
        },
        {
         "name": "s",
         "rawType": "float64",
         "type": "float"
        },
        {
         "name": "hgap",
         "rawType": "float64",
         "type": "float"
        },
        {
         "name": "sigma",
         "rawType": "float64",
         "type": "float"
        },
        {
         "name": "n_sigma",
         "rawType": "float64",
         "type": "float"
        }
       ],
       "conversionMethod": "pd.DataFrame",
       "ref": "ceda948d-353a-4459-8c3f-866f67022293",
       "rows": [
        [
         "0",
         "6574.720795520004",
         "0.010074641271144541",
         "0.00029146384440082454",
         "34.5656638539694"
        ],
        [
         "1",
         "6574.960795520005",
         "0.010095188195285284",
         "0.0002922011315680946",
         "34.548764890503854"
        ],
        [
         "2",
         "6575.480795520002",
         "0.010139706530922991",
         "0.00029380032513981285",
         "34.512237268960604"
        ],
        [
         "3",
         "6582.4207955200045",
         "0.010733855087322407",
         "0.00031535391852865346",
         "34.03748758665612"
        ],
        [
         "4",
         "6582.720795520004",
         "0.010759538742498104",
         "0.00031629378872645263",
         "34.017546742922335"
        ],
        [
         "5",
         "6586.515795520002",
         "0.0110844369804713",
         "0.0003282353847891678",
         "33.76978075532916"
        ],
        [
         "6",
         "6586.815795520005",
         "0.011110120635647308",
         "0.0003291833404814436",
         "33.75055560040894"
        ],
        [
         "7",
         "6586.900795520004",
         "0.011117397671280366",
         "0.0003294520290914329",
         "33.74511822537584"
        ],
        [
         "8",
         "6587.200795520003",
         "0.011143081326456063",
         "0.00033040069654150547",
         "33.725961970108166"
        ],
        [
         "9",
         "6594.200795520003",
         "0.011742366613890429",
         "0.00035268277616295937",
         "33.29441471920588"
        ],
        [
         "10",
         "6594.500795520003",
         "0.011768050269066126",
         "0.00035364357173201856",
         "33.27658470202205"
        ],
        [
         "11",
         "6601.440795520005",
         "0.01236219882546554",
         "0.00037598790018704246",
         "32.879246431376444"
        ],
        [
         "12",
         "6601.960795520005",
         "0.012406717161103559",
         "0.00037767061698179934",
         "32.850628572202275"
        ],
        [
         "13",
         "6603.440795520005",
         "0.01253342319330393",
         "0.0003824658854459638",
         "32.77004216647892"
        ],
        [
         "14",
         "6603.960795520005",
         "0.012577941239992799",
         "0.0003841560170010453",
         "32.74175252592379"
        ],
        [
         "15",
         "6603.961795520006",
         "0.012577941239992799",
         "0.0003841560170010453",
         "32.74175252592379"
        ],
        [
         "16",
         "6604.200795520003",
         "0.012598488453082382",
         "0.0003849316898849609",
         "32.72915372815243"
        ],
        [
         "17",
         "6605.200795520003",
         "0.012684100637001575",
         "0.0003881795583746507",
         "32.67585931137451"
        ],
        [
         "18",
         "6605.439795520005",
         "0.012704561660009231",
         "0.0003889596102867915",
         "32.66293292160021"
        ],
        [
         "19",
         "6605.440795520005",
         "0.012704561660009231",
         "0.0003889596102867915",
         "32.66293292160021"
        ],
        [
         "20",
         "6605.960795520005",
         "0.012749165896780336",
         "0.0003906504600775845",
         "32.63573757022661"
        ],
        [
         "21",
         "6607.260795520005",
         "0.012860461735875227",
         "0.0003948819238396171",
         "32.567866391115324"
        ],
        [
         "22",
         "6607.780795520005",
         "0.012904980071513247",
         "0.0003965762117223672",
         "32.5409837757684"
        ],
        [
         "23",
         "6609.260795520005",
         "0.013031686103713618",
         "0.0004014035974943336",
         "32.46529474339746"
        ],
        [
         "24",
         "6609.780795520005",
         "0.013076204150402487",
         "0.00040310475557217454",
         "32.43872459862666"
        ],
        [
         "25",
         "6609.781795520005",
         "0.013076204150402487",
         "0.00040310475557217454",
         "32.43872459862666"
        ],
        [
         "26",
         "6610.020795520003",
         "0.013096751363492068",
         "0.0004038854391249331",
         "32.42689657707832"
        ],
        [
         "27",
         "6611.020795520003",
         "0.013182363547411265",
         "0.0004071539543354498",
         "32.37685255673694"
        ],
        [
         "28",
         "6611.259795520004",
         "0.013202824570418922",
         "0.00040793888616935464",
         "32.3647120145781"
        ],
        [
         "29",
         "6611.260795520005",
         "0.013202824570418922",
         "0.00040793888616935464",
         "32.3647120145781"
        ],
        [
         "30",
         "6611.780795520005",
         "0.013247428807190027",
         "0.00040964021098752613",
         "32.33918070507346"
        ],
        [
         "31",
         "6613.905795520005",
         "0.013429348919035316",
         "0.0004166672103456313",
         "32.230395350513625"
        ],
        [
         "32",
         "6613.9257955200055",
         "0.013429348919035316",
         "0.0004166672103456313",
         "32.230395350513625"
        ],
        [
         "33",
         "6614.185795520004",
         "0.013453320330532592",
         "0.00041758553598014866",
         "32.21692125651627"
        ],
        [
         "34",
         "6614.205795520004",
         "0.013453301548837835",
         "0.000417798752662955",
         "32.20043492971084"
        ],
        [
         "35",
         "6614.270795520003",
         "0.01345501957149926",
         "0.000417798752662955",
         "32.20454701154563"
        ],
        [
         "36",
         "6614.5507955200055",
         "0.013484557797595532",
         "0.0004189076845070344",
         "32.18980767436625"
        ],
        [
         "37",
         "6614.608795520003",
         "0.013484544361460052",
         "0.0004190602714827139",
         "32.178054755105286"
        ],
        [
         "38",
         "6614.655295520003",
         "0.013489526627177837",
         "0.0004190602714827139",
         "32.189943893868445"
        ],
        [
         "39",
         "6614.7777955200045",
         "0.013503991763345099",
         "0.0004196526326674916",
         "32.178975448117534"
        ],
        [
         "40",
         "6614.835795520005",
         "0.013503991763345099",
         "0.0004196526326674916",
         "32.178975448117534"
        ],
        [
         "41",
         "6615.0357955200025",
         "0.013526096465846786",
         "0.00042030910184578967",
         "32.181307534019275"
        ],
        [
         "42",
         "6615.291795520004",
         "0.013548013184930206",
         "0.00042114955532417364",
         "32.16912617775845"
        ],
        [
         "43",
         "6615.602595520003",
         "0.01357462145169223",
         "0.00042217017778078936",
         "32.15438267821185"
        ],
        [
         "44",
         "6616.431395520002",
         "0.013634725815357383",
         "0.0004245557495805885",
         "32.11527774344571"
        ],
        [
         "45",
         "6616.845795520004",
         "0.013659328467483366",
         "0.00042557959269757113",
         "32.09582579113484"
        ],
        [
         "46",
         "6617.260195520005",
         "0.013683931119609352",
         "0.00042660392614670307",
         "32.076430339517415"
        ],
        [
         "47",
         "6618.088995520005",
         "0.013722198031677438",
         "0.0004283130419093998",
         "32.03777772095034"
        ],
        [
         "48",
         "6618.399795520004",
         "0.013732434755739174",
         "0.0004288260669990819",
         "32.023320904530216"
        ],
        [
         "49",
         "6618.555795520003",
         "0.013737564392760675",
         "0.00042916625155554715",
         "32.00988974078876"
        ]
       ],
       "shape": {
        "columns": 4,
        "rows": 246
       }
      },
      "text/html": [
       "<div>\n",
       "<style scoped>\n",
       "    .dataframe tbody tr th:only-of-type {\n",
       "        vertical-align: middle;\n",
       "    }\n",
       "\n",
       "    .dataframe tbody tr th {\n",
       "        vertical-align: top;\n",
       "    }\n",
       "\n",
       "    .dataframe thead th {\n",
       "        text-align: right;\n",
       "    }\n",
       "</style>\n",
       "<table border=\"1\" class=\"dataframe\">\n",
       "  <thead>\n",
       "    <tr style=\"text-align: right;\">\n",
       "      <th></th>\n",
       "      <th>s</th>\n",
       "      <th>hgap</th>\n",
       "      <th>sigma</th>\n",
       "      <th>n_sigma</th>\n",
       "    </tr>\n",
       "  </thead>\n",
       "  <tbody>\n",
       "    <tr>\n",
       "      <th>0</th>\n",
       "      <td>6574.720796</td>\n",
       "      <td>0.010075</td>\n",
       "      <td>0.000291</td>\n",
       "      <td>34.565664</td>\n",
       "    </tr>\n",
       "    <tr>\n",
       "      <th>1</th>\n",
       "      <td>6574.960796</td>\n",
       "      <td>0.010095</td>\n",
       "      <td>0.000292</td>\n",
       "      <td>34.548765</td>\n",
       "    </tr>\n",
       "    <tr>\n",
       "      <th>2</th>\n",
       "      <td>6575.480796</td>\n",
       "      <td>0.010140</td>\n",
       "      <td>0.000294</td>\n",
       "      <td>34.512237</td>\n",
       "    </tr>\n",
       "    <tr>\n",
       "      <th>3</th>\n",
       "      <td>6582.420796</td>\n",
       "      <td>0.010734</td>\n",
       "      <td>0.000315</td>\n",
       "      <td>34.037488</td>\n",
       "    </tr>\n",
       "    <tr>\n",
       "      <th>4</th>\n",
       "      <td>6582.720796</td>\n",
       "      <td>0.010760</td>\n",
       "      <td>0.000316</td>\n",
       "      <td>34.017547</td>\n",
       "    </tr>\n",
       "    <tr>\n",
       "      <th>...</th>\n",
       "      <td>...</td>\n",
       "      <td>...</td>\n",
       "      <td>...</td>\n",
       "      <td>...</td>\n",
       "    </tr>\n",
       "    <tr>\n",
       "      <th>241</th>\n",
       "      <td>6765.720796</td>\n",
       "      <td>0.001953</td>\n",
       "      <td>0.000314</td>\n",
       "      <td>6.226801</td>\n",
       "    </tr>\n",
       "    <tr>\n",
       "      <th>242</th>\n",
       "      <td>6772.720796</td>\n",
       "      <td>0.001682</td>\n",
       "      <td>0.000329</td>\n",
       "      <td>5.106227</td>\n",
       "    </tr>\n",
       "    <tr>\n",
       "      <th>243</th>\n",
       "      <td>6773.020796</td>\n",
       "      <td>0.001671</td>\n",
       "      <td>0.000330</td>\n",
       "      <td>5.060484</td>\n",
       "    </tr>\n",
       "    <tr>\n",
       "      <th>244</th>\n",
       "      <td>6773.940800</td>\n",
       "      <td>0.001635</td>\n",
       "      <td>0.000332</td>\n",
       "      <td>4.921261</td>\n",
       "    </tr>\n",
       "    <tr>\n",
       "      <th>245</th>\n",
       "      <td>6773.942800</td>\n",
       "      <td>0.001635</td>\n",
       "      <td>0.000332</td>\n",
       "      <td>4.921261</td>\n",
       "    </tr>\n",
       "  </tbody>\n",
       "</table>\n",
       "<p>246 rows × 4 columns</p>\n",
       "</div>"
      ],
      "text/plain": [
       "               s      hgap     sigma    n_sigma\n",
       "0    6574.720796  0.010075  0.000291  34.565664\n",
       "1    6574.960796  0.010095  0.000292  34.548765\n",
       "2    6575.480796  0.010140  0.000294  34.512237\n",
       "3    6582.420796  0.010734  0.000315  34.037488\n",
       "4    6582.720796  0.010760  0.000316  34.017547\n",
       "..           ...       ...       ...        ...\n",
       "241  6765.720796  0.001953  0.000314   6.226801\n",
       "242  6772.720796  0.001682  0.000329   5.106227\n",
       "243  6773.020796  0.001671  0.000330   5.060484\n",
       "244  6773.940800  0.001635  0.000332   4.921261\n",
       "245  6773.942800  0.001635  0.000332   4.921261\n",
       "\n",
       "[246 rows x 4 columns]"
      ]
     },
     "execution_count": 84,
     "metadata": {},
     "output_type": "execute_result"
    }
   ],
   "source": [
    "df_hgap"
   ]
  },
  {
   "cell_type": "code",
   "execution_count": 97,
   "id": "073ca00f",
   "metadata": {
    "vscode": {
     "languageId": "python"
    }
   },
   "outputs": [
    {
     "data": {
      "text/plain": [
       "34.5656638539694"
      ]
     },
     "execution_count": 97,
     "metadata": {},
     "output_type": "execute_result"
    }
   ],
   "source": [
    "0.010074641271144541/ 0.00029146384440082454"
   ]
  },
  {
   "cell_type": "code",
   "execution_count": 108,
   "id": "77b5a003",
   "metadata": {
    "vscode": {
     "languageId": "python"
    }
   },
   "outputs": [
    {
     "data": {
      "text/plain": [
       "Text(6574.220795520014, 0.015, 'TCLA')"
      ]
     },
     "execution_count": 108,
     "metadata": {},
     "output_type": "execute_result"
    },
    {
     "data": {
      "image/png": "[encoded data removed]",
      "text/plain": [
       "<Figure size 720x432 with 2 Axes>"
      ]
     },
     "metadata": {
      "needs_background": "light"
     },
     "output_type": "display_data"
    }
   ],
   "source": [
    "fig, ax = plt.subplots(figsize=(10, 6))\n",
    "\n",
    "# Plot on the primary y-axis\n",
    "line1, = ax.plot(df_hgap['s'], df_hgap['hgap'], color='blue', label='hgap')\n",
    "\n",
    "# Plot on the secondary y-axis\n",
    "ax2 = ax.twinx()\n",
    "line2, = ax2.plot(df_hgap['s'], df_hgap['n_sigma'], color='orange', label='n sigma')\n",
    "\n",
    "# Grid and labels\n",
    "ax.grid(linestyle=':')\n",
    "ax.set_xlabel('s [m]', fontsize=17)\n",
    "ax.set_ylabel('Separation from reference orbit [m]', fontsize=17)\n",
    "ax2.set_ylabel('n sigma', fontsize=17)\n",
    "ax.tick_params(axis='both', which='major', labelsize=15)\n",
    "ax2.tick_params(axis='both', which='major', labelsize=15)\n",
    "\n",
    "# Combine legends\n",
    "lines = [line1, line2]\n",
    "labels = [line.get_label() for line in lines]\n",
    "ax.legend(lines, labels, fontsize=15, loc='upper right')  # Adjust loc as needed\n",
    "ax.axvline(x=end_s-TCCS_loc, color='red', linestyle='--', label='TCCS')\n",
    "ax.axvline(x=end_s-TCLA_loc, color='red', linestyle='--', label='TCCP')\n",
    "ax.axvline(x=end_s-TCCP_loc, color='red', linestyle='--', label='TCCP')\n",
    "ax.text(end_s-TCCP_loc, 0.015,\"TCCP\", horizontalalignment='center', fontsize=15)\n",
    "ax.text(end_s-TCCS_loc, 0.015, \"TCCS\", horizontalalignment='center', fontsize=15)\n",
    "ax.text(end_s-TCLA_loc, 0.015, \"TCLA\", horizontalalignment='center', fontsize=15)\n"
   ]
  },
  {
   "cell_type": "code",
   "execution_count": 15,
   "id": "4cf81877",
   "metadata": {
    "vscode": {
     "languageId": "python"
    }
   },
   "outputs": [],
   "source": [
    "def calc_nsigma(df_twiss, df_chann, emittance_phy, obj_name, add_offset = 0):\n",
    "\n",
    "    s_centre = float(df_twiss[df_twiss[\"name\"] == obj_name]['s'])\n",
    "    hgap =  df_chann[df_chann['s'] == s_centre]['y'].iloc[0]  - df_twiss[df_twiss['s'] == s_centre]['y'].iloc[0] - add_offset\n",
    "    beta_y = float(df_twiss[df_twiss[\"name\"] == obj_name]['bety'])\n",
    "    sigma =  np.sqrt(emittance_phy*beta_y)\n",
    "\n",
    "    #five_sig_gap  = df_twiss[df_twiss['s'] == s_centre]['n_sigma_y'].iloc[0] - df_twiss[df_twiss['s'] == s_centre]['y'].iloc[0]\n",
    "    #print('check: ', five_sig_gap/sigma)\n",
    "    \n",
    "    return hgap/sigma, hgap "
   ]
  },
  {
   "cell_type": "code",
   "execution_count": 21,
   "id": "23715092",
   "metadata": {
    "vscode": {
     "languageId": "python"
    }
   },
   "outputs": [
    {
     "name": "stdout",
     "output_type": "stream",
     "text": [
      "\n",
      "Upper: 11.38 sigma, 16.38 mm\n",
      "Central: 10.12 sigma, 14.57 mm\n",
      "Lower: 8.86 sigma, 12.75 mm\n",
      "\n",
      "Dimesion of the 5 sigma channelled spot (upper-lower): 3.63 mm   \tCrystal height: 2 mm\n",
      "Center the spot in the crystal: [13.57,15.57] mm\n",
      "Jaw sigma in order to center: 9.4\n"
     ]
    }
   ],
   "source": [
    "upper_sig, upper_m = calc_nsigma(df_ref, df_chann_upper_L, emittance, TCCP_name)\n",
    "central_sig, central_m =  calc_nsigma(df_ref, df_chann_L, emittance, TCCP_name)\n",
    "lower_sig, lower_m =  calc_nsigma(df_ref, df_chann_lower_L, emittance, TCCP_name)\n",
    "\n",
    "print(f'\\nUpper: {upper_sig:.2f} sigma, {upper_m*1e3:.2f} mm')\n",
    "print(f'Central: {central_sig:.2f} sigma, {central_m*1e3:.2f} mm')\n",
    "print(f'Lower: {lower_sig:.2f} sigma, {lower_m*1e3:.2f} mm')\n",
    "print(f'\\nDimesion of the 5 sigma channelled spot (upper-lower): {(upper_m-lower_m)*1e3:.2f} mm   \\tCrystal height: 2 mm')\n",
    "print(f'Center the spot in the crystal: [{central_m*1e3-1:.2f},{central_m*1e3+1:.2f}] mm')\n",
    "beta_y = float(df_ref[df_ref[\"name\"] == TCCP_name]['bety'])\n",
    "sigma =  np.sqrt(emittance*beta_y)\n",
    "print(f'Jaw sigma in order to center: {(central_m-0.001)/sigma:.1f}')"
   ]
  },
  {
   "cell_type": "code",
   "execution_count": null,
   "id": "ee73eb71",
   "metadata": {
    "vscode": {
     "languageId": "python"
    }
   },
   "outputs": [],
   "source": []
  }
 ],
 "metadata": {
  "@webio": {
   "lastCommId": null,
   "lastKernelId": null
  },
  "kernelspec": {
   "display_name": "LCG view 104 + venv",
   "language": "python-custom",
   "name": "lcg-view"
  },
  "language_info": {
   "codemirror_mode": {
    "name": "ipython",
    "version": 3
   },
   "file_extension": ".py",
   "mimetype": "text/x-python",
   "name": "python-custom",
   "nbconvert_exporter": "python",
   "pygments_lexer": "ipython3",
   "version": "3.9.12"
  }
 },
 "nbformat": 4,
 "nbformat_minor": 5
}
