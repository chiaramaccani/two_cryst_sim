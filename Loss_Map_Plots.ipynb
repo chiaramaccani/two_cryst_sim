{
 "cells": [
  {
   "cell_type": "code",
   "execution_count": 1,
   "id": "dc8890bd",
   "metadata": {},
   "outputs": [
    {
     "name": "stdout",
     "output_type": "stream",
     "text": [
      "No pytransport functionality\n",
      "No pytransport functionality\n"
     ]
    }
   ],
   "source": [
    "import json\n",
    "import os\n",
    "import subprocess\n",
    "\n",
    "import numpy as np\n",
    "from pathlib import Path\n",
    "import yaml\n",
    "import matplotlib\n",
    "import matplotlib.pyplot as plt\n",
    "import pandas as pd\n",
    "\n",
    "from matplotlib.ticker import MaxNLocator\n",
    "import lossmaps as lm\n",
    "import xobjects as xo\n",
    "\n",
    "import xtrack as xt\n",
    "import xcoll as xc\n",
    "\n",
    "import lossmaps as lm"
   ]
  },
  {
   "cell_type": "markdown",
   "id": "6714695f",
   "metadata": {},
   "source": [
    "# Load"
   ]
  },
  {
   "cell_type": "code",
   "execution_count": 2,
   "id": "f9a17302",
   "metadata": {},
   "outputs": [],
   "source": [
    "path = '/afs/cern.ch/work/c/cmaccani/xsuite_sim/twocryst_sim/Condor/'"
   ]
  },
  {
   "cell_type": "code",
   "execution_count": 3,
   "id": "2525d6a1",
   "metadata": {},
   "outputs": [],
   "source": [
    "n_test = 'TEST_B2V_align_test_CRY6.0'\n",
    "prefix_name =  'TEST_B2V_align_test_CRY5.0_-1_'"
   ]
  },
  {
   "cell_type": "code",
   "execution_count": 4,
   "id": "a827e4da",
   "metadata": {},
   "outputs": [],
   "source": [
    "#n_old = int(subprocess.check_output(\"find \"+ path + n_test +\" -maxdepth 1 -mindepth 1 -type d | wc -l\", shell=True))\n",
    "#n = int(subprocess.check_output(\"find \"+ path + n_test +\" -maxdepth 1 -mindepth 1 -type d | grep Job. | wc -l\", shell=True))\n",
    "test_list = (subprocess.check_output(\"find \"+ path +\" -maxdepth 1 -mindepth 1 -type d | grep \" + prefix_name, shell=True)).decode('ascii').strip().splitlines()"
   ]
  },
  {
   "cell_type": "code",
   "execution_count": 5,
   "metadata": {},
   "outputs": [
    {
     "data": {
      "text/plain": [
       "['/afs/cern.ch/work/c/cmaccani/xsuite_sim/twocryst_sim/Condor/TEST_B2V_align_test_CRY5.0_-1__20231110-1730']"
      ]
     },
     "execution_count": 5,
     "metadata": {},
     "output_type": "execute_result"
    }
   ],
   "source": [
    "test_list"
   ]
  },
  {
   "cell_type": "code",
   "execution_count": 6,
   "id": "79a913be",
   "metadata": {},
   "outputs": [
    {
     "data": {
      "text/plain": [
       "'\"losses_json =[]\\n\\n# for i in range(n_old):\\n#     file_path = path+n_test+\\'/\\'+n_test+\\'_\\'+str(i)+\\'/lossmap_B1H.json\\'\\n#     if os.path.exists(file_path):\\n#         losses_json.append(file_path)\\n\\n\\nfor i in range(n):\\n    file_path = (subprocess.check_output(\"echo \" + path+n_test+\\'/Job.\\'+str(i)+\\'/Outputdata/lossmap*.json\\', shell=True)).decode(\\'ascii\\').strip()\\n    if os.path.exists(file_path):\\n        losses_json.append(file_path)'"
      ]
     },
     "execution_count": 6,
     "metadata": {},
     "output_type": "execute_result"
    }
   ],
   "source": [
    "\"\"\"\"losses_json =[]\n",
    "\n",
    "# for i in range(n_old):\n",
    "#     file_path = path+n_test+'/'+n_test+'_'+str(i)+'/lossmap_B1H.json'\n",
    "#     if os.path.exists(file_path):\n",
    "#         losses_json.append(file_path)\n",
    "\n",
    "\n",
    "for i in range(n):\n",
    "    file_path = (subprocess.check_output(\"echo \" + path+n_test+'/Job.'+str(i)+'/Outputdata/lossmap*.json', shell=True)).decode('ascii').strip()\n",
    "    if os.path.exists(file_path):\n",
    "        losses_json.append(file_path)\"\"\""
   ]
  },
  {
   "cell_type": "code",
   "execution_count": 7,
   "id": "262985c0",
   "metadata": {},
   "outputs": [],
   "source": [
    "#losses_json"
   ]
  },
  {
   "cell_type": "code",
   "execution_count": 8,
   "id": "f1f8d255",
   "metadata": {},
   "outputs": [],
   "source": [
    "#n_jobs = len(losses_json)\n",
    "#n_jobs"
   ]
  },
  {
   "cell_type": "code",
   "execution_count": 9,
   "metadata": {},
   "outputs": [],
   "source": [
    "#outfile_name = 'Lossmap_' + n_test.split('__')[0]"
   ]
  },
  {
   "cell_type": "code",
   "execution_count": 10,
   "metadata": {},
   "outputs": [],
   "source": [
    "#outfile_name"
   ]
  },
  {
   "cell_type": "code",
   "execution_count": null,
   "metadata": {},
   "outputs": [],
   "source": []
  },
  {
   "cell_type": "code",
   "execution_count": 11,
   "metadata": {},
   "outputs": [],
   "source": [
    "    for test_name in test_list:\n",
    "\n",
    "        n_jobs = int(subprocess.check_output(\"find \"+ test_name +\" -maxdepth 1 -mindepth 1 -type d | grep Job. | wc -l\", shell=True))\n",
    "\n",
    "        losses_json =[]\n",
    "\n",
    "        for i in range(n_jobs):\n",
    "            file_path = (subprocess.check_output(\"echo \" + test_name + '/Job.' + str(i) + '/Outputdata/lossmap*.json', shell=True)).decode('ascii').strip()\n",
    "            if os.path.exists(file_path):\n",
    "                losses_json.append(file_path)\n",
    "\n",
    "        n_jobs_verify  = len(losses_json)\n",
    "        if n_jobs != n_jobs_verify:\n",
    "            print(\"!!! Succesful Jobs: \", n_jobs_verify, '/', n_jobs, ' in file: ', test_name)"
   ]
  },
  {
   "cell_type": "code",
   "execution_count": 12,
   "metadata": {},
   "outputs": [
    {
     "data": {
      "text/plain": [
       "['/afs/cern.ch/work/c/cmaccani/xsuite_sim/twocryst_sim/Condor/TEST_B2V_align_test_CRY5.0_-1__20231110-1730/Job.0/Outputdata/lossmap_B2V.json',\n",
       " '/afs/cern.ch/work/c/cmaccani/xsuite_sim/twocryst_sim/Condor/TEST_B2V_align_test_CRY5.0_-1__20231110-1730/Job.1/Outputdata/lossmap_B2V.json',\n",
       " '/afs/cern.ch/work/c/cmaccani/xsuite_sim/twocryst_sim/Condor/TEST_B2V_align_test_CRY5.0_-1__20231110-1730/Job.2/Outputdata/lossmap_B2V.json',\n",
       " '/afs/cern.ch/work/c/cmaccani/xsuite_sim/twocryst_sim/Condor/TEST_B2V_align_test_CRY5.0_-1__20231110-1730/Job.3/Outputdata/lossmap_B2V.json',\n",
       " '/afs/cern.ch/work/c/cmaccani/xsuite_sim/twocryst_sim/Condor/TEST_B2V_align_test_CRY5.0_-1__20231110-1730/Job.4/Outputdata/lossmap_B2V.json',\n",
       " '/afs/cern.ch/work/c/cmaccani/xsuite_sim/twocryst_sim/Condor/TEST_B2V_align_test_CRY5.0_-1__20231110-1730/Job.5/Outputdata/lossmap_B2V.json',\n",
       " '/afs/cern.ch/work/c/cmaccani/xsuite_sim/twocryst_sim/Condor/TEST_B2V_align_test_CRY5.0_-1__20231110-1730/Job.6/Outputdata/lossmap_B2V.json',\n",
       " '/afs/cern.ch/work/c/cmaccani/xsuite_sim/twocryst_sim/Condor/TEST_B2V_align_test_CRY5.0_-1__20231110-1730/Job.7/Outputdata/lossmap_B2V.json',\n",
       " '/afs/cern.ch/work/c/cmaccani/xsuite_sim/twocryst_sim/Condor/TEST_B2V_align_test_CRY5.0_-1__20231110-1730/Job.8/Outputdata/lossmap_B2V.json',\n",
       " '/afs/cern.ch/work/c/cmaccani/xsuite_sim/twocryst_sim/Condor/TEST_B2V_align_test_CRY5.0_-1__20231110-1730/Job.9/Outputdata/lossmap_B2V.json',\n",
       " '/afs/cern.ch/work/c/cmaccani/xsuite_sim/twocryst_sim/Condor/TEST_B2V_align_test_CRY5.0_-1__20231110-1730/Job.10/Outputdata/lossmap_B2V.json',\n",
       " '/afs/cern.ch/work/c/cmaccani/xsuite_sim/twocryst_sim/Condor/TEST_B2V_align_test_CRY5.0_-1__20231110-1730/Job.11/Outputdata/lossmap_B2V.json',\n",
       " '/afs/cern.ch/work/c/cmaccani/xsuite_sim/twocryst_sim/Condor/TEST_B2V_align_test_CRY5.0_-1__20231110-1730/Job.12/Outputdata/lossmap_B2V.json',\n",
       " '/afs/cern.ch/work/c/cmaccani/xsuite_sim/twocryst_sim/Condor/TEST_B2V_align_test_CRY5.0_-1__20231110-1730/Job.13/Outputdata/lossmap_B2V.json',\n",
       " '/afs/cern.ch/work/c/cmaccani/xsuite_sim/twocryst_sim/Condor/TEST_B2V_align_test_CRY5.0_-1__20231110-1730/Job.14/Outputdata/lossmap_B2V.json',\n",
       " '/afs/cern.ch/work/c/cmaccani/xsuite_sim/twocryst_sim/Condor/TEST_B2V_align_test_CRY5.0_-1__20231110-1730/Job.15/Outputdata/lossmap_B2V.json',\n",
       " '/afs/cern.ch/work/c/cmaccani/xsuite_sim/twocryst_sim/Condor/TEST_B2V_align_test_CRY5.0_-1__20231110-1730/Job.16/Outputdata/lossmap_B2V.json',\n",
       " '/afs/cern.ch/work/c/cmaccani/xsuite_sim/twocryst_sim/Condor/TEST_B2V_align_test_CRY5.0_-1__20231110-1730/Job.17/Outputdata/lossmap_B2V.json',\n",
       " '/afs/cern.ch/work/c/cmaccani/xsuite_sim/twocryst_sim/Condor/TEST_B2V_align_test_CRY5.0_-1__20231110-1730/Job.18/Outputdata/lossmap_B2V.json',\n",
       " '/afs/cern.ch/work/c/cmaccani/xsuite_sim/twocryst_sim/Condor/TEST_B2V_align_test_CRY5.0_-1__20231110-1730/Job.19/Outputdata/lossmap_B2V.json',\n",
       " '/afs/cern.ch/work/c/cmaccani/xsuite_sim/twocryst_sim/Condor/TEST_B2V_align_test_CRY5.0_-1__20231110-1730/Job.20/Outputdata/lossmap_B2V.json',\n",
       " '/afs/cern.ch/work/c/cmaccani/xsuite_sim/twocryst_sim/Condor/TEST_B2V_align_test_CRY5.0_-1__20231110-1730/Job.21/Outputdata/lossmap_B2V.json',\n",
       " '/afs/cern.ch/work/c/cmaccani/xsuite_sim/twocryst_sim/Condor/TEST_B2V_align_test_CRY5.0_-1__20231110-1730/Job.22/Outputdata/lossmap_B2V.json',\n",
       " '/afs/cern.ch/work/c/cmaccani/xsuite_sim/twocryst_sim/Condor/TEST_B2V_align_test_CRY5.0_-1__20231110-1730/Job.23/Outputdata/lossmap_B2V.json',\n",
       " '/afs/cern.ch/work/c/cmaccani/xsuite_sim/twocryst_sim/Condor/TEST_B2V_align_test_CRY5.0_-1__20231110-1730/Job.24/Outputdata/lossmap_B2V.json',\n",
       " '/afs/cern.ch/work/c/cmaccani/xsuite_sim/twocryst_sim/Condor/TEST_B2V_align_test_CRY5.0_-1__20231110-1730/Job.25/Outputdata/lossmap_B2V.json',\n",
       " '/afs/cern.ch/work/c/cmaccani/xsuite_sim/twocryst_sim/Condor/TEST_B2V_align_test_CRY5.0_-1__20231110-1730/Job.26/Outputdata/lossmap_B2V.json',\n",
       " '/afs/cern.ch/work/c/cmaccani/xsuite_sim/twocryst_sim/Condor/TEST_B2V_align_test_CRY5.0_-1__20231110-1730/Job.27/Outputdata/lossmap_B2V.json',\n",
       " '/afs/cern.ch/work/c/cmaccani/xsuite_sim/twocryst_sim/Condor/TEST_B2V_align_test_CRY5.0_-1__20231110-1730/Job.28/Outputdata/lossmap_B2V.json',\n",
       " '/afs/cern.ch/work/c/cmaccani/xsuite_sim/twocryst_sim/Condor/TEST_B2V_align_test_CRY5.0_-1__20231110-1730/Job.29/Outputdata/lossmap_B2V.json',\n",
       " '/afs/cern.ch/work/c/cmaccani/xsuite_sim/twocryst_sim/Condor/TEST_B2V_align_test_CRY5.0_-1__20231110-1730/Job.30/Outputdata/lossmap_B2V.json',\n",
       " '/afs/cern.ch/work/c/cmaccani/xsuite_sim/twocryst_sim/Condor/TEST_B2V_align_test_CRY5.0_-1__20231110-1730/Job.31/Outputdata/lossmap_B2V.json',\n",
       " '/afs/cern.ch/work/c/cmaccani/xsuite_sim/twocryst_sim/Condor/TEST_B2V_align_test_CRY5.0_-1__20231110-1730/Job.32/Outputdata/lossmap_B2V.json',\n",
       " '/afs/cern.ch/work/c/cmaccani/xsuite_sim/twocryst_sim/Condor/TEST_B2V_align_test_CRY5.0_-1__20231110-1730/Job.33/Outputdata/lossmap_B2V.json',\n",
       " '/afs/cern.ch/work/c/cmaccani/xsuite_sim/twocryst_sim/Condor/TEST_B2V_align_test_CRY5.0_-1__20231110-1730/Job.34/Outputdata/lossmap_B2V.json',\n",
       " '/afs/cern.ch/work/c/cmaccani/xsuite_sim/twocryst_sim/Condor/TEST_B2V_align_test_CRY5.0_-1__20231110-1730/Job.35/Outputdata/lossmap_B2V.json',\n",
       " '/afs/cern.ch/work/c/cmaccani/xsuite_sim/twocryst_sim/Condor/TEST_B2V_align_test_CRY5.0_-1__20231110-1730/Job.36/Outputdata/lossmap_B2V.json',\n",
       " '/afs/cern.ch/work/c/cmaccani/xsuite_sim/twocryst_sim/Condor/TEST_B2V_align_test_CRY5.0_-1__20231110-1730/Job.37/Outputdata/lossmap_B2V.json',\n",
       " '/afs/cern.ch/work/c/cmaccani/xsuite_sim/twocryst_sim/Condor/TEST_B2V_align_test_CRY5.0_-1__20231110-1730/Job.38/Outputdata/lossmap_B2V.json',\n",
       " '/afs/cern.ch/work/c/cmaccani/xsuite_sim/twocryst_sim/Condor/TEST_B2V_align_test_CRY5.0_-1__20231110-1730/Job.39/Outputdata/lossmap_B2V.json',\n",
       " '/afs/cern.ch/work/c/cmaccani/xsuite_sim/twocryst_sim/Condor/TEST_B2V_align_test_CRY5.0_-1__20231110-1730/Job.40/Outputdata/lossmap_B2V.json',\n",
       " '/afs/cern.ch/work/c/cmaccani/xsuite_sim/twocryst_sim/Condor/TEST_B2V_align_test_CRY5.0_-1__20231110-1730/Job.41/Outputdata/lossmap_B2V.json',\n",
       " '/afs/cern.ch/work/c/cmaccani/xsuite_sim/twocryst_sim/Condor/TEST_B2V_align_test_CRY5.0_-1__20231110-1730/Job.42/Outputdata/lossmap_B2V.json',\n",
       " '/afs/cern.ch/work/c/cmaccani/xsuite_sim/twocryst_sim/Condor/TEST_B2V_align_test_CRY5.0_-1__20231110-1730/Job.43/Outputdata/lossmap_B2V.json',\n",
       " '/afs/cern.ch/work/c/cmaccani/xsuite_sim/twocryst_sim/Condor/TEST_B2V_align_test_CRY5.0_-1__20231110-1730/Job.44/Outputdata/lossmap_B2V.json',\n",
       " '/afs/cern.ch/work/c/cmaccani/xsuite_sim/twocryst_sim/Condor/TEST_B2V_align_test_CRY5.0_-1__20231110-1730/Job.45/Outputdata/lossmap_B2V.json',\n",
       " '/afs/cern.ch/work/c/cmaccani/xsuite_sim/twocryst_sim/Condor/TEST_B2V_align_test_CRY5.0_-1__20231110-1730/Job.46/Outputdata/lossmap_B2V.json',\n",
       " '/afs/cern.ch/work/c/cmaccani/xsuite_sim/twocryst_sim/Condor/TEST_B2V_align_test_CRY5.0_-1__20231110-1730/Job.47/Outputdata/lossmap_B2V.json',\n",
       " '/afs/cern.ch/work/c/cmaccani/xsuite_sim/twocryst_sim/Condor/TEST_B2V_align_test_CRY5.0_-1__20231110-1730/Job.48/Outputdata/lossmap_B2V.json',\n",
       " '/afs/cern.ch/work/c/cmaccani/xsuite_sim/twocryst_sim/Condor/TEST_B2V_align_test_CRY5.0_-1__20231110-1730/Job.49/Outputdata/lossmap_B2V.json',\n",
       " '/afs/cern.ch/work/c/cmaccani/xsuite_sim/twocryst_sim/Condor/TEST_B2V_align_test_CRY5.0_-1__20231110-1730/Job.50/Outputdata/lossmap_B2V.json',\n",
       " '/afs/cern.ch/work/c/cmaccani/xsuite_sim/twocryst_sim/Condor/TEST_B2V_align_test_CRY5.0_-1__20231110-1730/Job.51/Outputdata/lossmap_B2V.json',\n",
       " '/afs/cern.ch/work/c/cmaccani/xsuite_sim/twocryst_sim/Condor/TEST_B2V_align_test_CRY5.0_-1__20231110-1730/Job.52/Outputdata/lossmap_B2V.json',\n",
       " '/afs/cern.ch/work/c/cmaccani/xsuite_sim/twocryst_sim/Condor/TEST_B2V_align_test_CRY5.0_-1__20231110-1730/Job.53/Outputdata/lossmap_B2V.json',\n",
       " '/afs/cern.ch/work/c/cmaccani/xsuite_sim/twocryst_sim/Condor/TEST_B2V_align_test_CRY5.0_-1__20231110-1730/Job.54/Outputdata/lossmap_B2V.json',\n",
       " '/afs/cern.ch/work/c/cmaccani/xsuite_sim/twocryst_sim/Condor/TEST_B2V_align_test_CRY5.0_-1__20231110-1730/Job.55/Outputdata/lossmap_B2V.json',\n",
       " '/afs/cern.ch/work/c/cmaccani/xsuite_sim/twocryst_sim/Condor/TEST_B2V_align_test_CRY5.0_-1__20231110-1730/Job.56/Outputdata/lossmap_B2V.json',\n",
       " '/afs/cern.ch/work/c/cmaccani/xsuite_sim/twocryst_sim/Condor/TEST_B2V_align_test_CRY5.0_-1__20231110-1730/Job.57/Outputdata/lossmap_B2V.json',\n",
       " '/afs/cern.ch/work/c/cmaccani/xsuite_sim/twocryst_sim/Condor/TEST_B2V_align_test_CRY5.0_-1__20231110-1730/Job.58/Outputdata/lossmap_B2V.json',\n",
       " '/afs/cern.ch/work/c/cmaccani/xsuite_sim/twocryst_sim/Condor/TEST_B2V_align_test_CRY5.0_-1__20231110-1730/Job.59/Outputdata/lossmap_B2V.json',\n",
       " '/afs/cern.ch/work/c/cmaccani/xsuite_sim/twocryst_sim/Condor/TEST_B2V_align_test_CRY5.0_-1__20231110-1730/Job.60/Outputdata/lossmap_B2V.json',\n",
       " '/afs/cern.ch/work/c/cmaccani/xsuite_sim/twocryst_sim/Condor/TEST_B2V_align_test_CRY5.0_-1__20231110-1730/Job.61/Outputdata/lossmap_B2V.json',\n",
       " '/afs/cern.ch/work/c/cmaccani/xsuite_sim/twocryst_sim/Condor/TEST_B2V_align_test_CRY5.0_-1__20231110-1730/Job.62/Outputdata/lossmap_B2V.json',\n",
       " '/afs/cern.ch/work/c/cmaccani/xsuite_sim/twocryst_sim/Condor/TEST_B2V_align_test_CRY5.0_-1__20231110-1730/Job.63/Outputdata/lossmap_B2V.json',\n",
       " '/afs/cern.ch/work/c/cmaccani/xsuite_sim/twocryst_sim/Condor/TEST_B2V_align_test_CRY5.0_-1__20231110-1730/Job.64/Outputdata/lossmap_B2V.json',\n",
       " '/afs/cern.ch/work/c/cmaccani/xsuite_sim/twocryst_sim/Condor/TEST_B2V_align_test_CRY5.0_-1__20231110-1730/Job.65/Outputdata/lossmap_B2V.json',\n",
       " '/afs/cern.ch/work/c/cmaccani/xsuite_sim/twocryst_sim/Condor/TEST_B2V_align_test_CRY5.0_-1__20231110-1730/Job.66/Outputdata/lossmap_B2V.json',\n",
       " '/afs/cern.ch/work/c/cmaccani/xsuite_sim/twocryst_sim/Condor/TEST_B2V_align_test_CRY5.0_-1__20231110-1730/Job.67/Outputdata/lossmap_B2V.json',\n",
       " '/afs/cern.ch/work/c/cmaccani/xsuite_sim/twocryst_sim/Condor/TEST_B2V_align_test_CRY5.0_-1__20231110-1730/Job.68/Outputdata/lossmap_B2V.json',\n",
       " '/afs/cern.ch/work/c/cmaccani/xsuite_sim/twocryst_sim/Condor/TEST_B2V_align_test_CRY5.0_-1__20231110-1730/Job.69/Outputdata/lossmap_B2V.json',\n",
       " '/afs/cern.ch/work/c/cmaccani/xsuite_sim/twocryst_sim/Condor/TEST_B2V_align_test_CRY5.0_-1__20231110-1730/Job.70/Outputdata/lossmap_B2V.json',\n",
       " '/afs/cern.ch/work/c/cmaccani/xsuite_sim/twocryst_sim/Condor/TEST_B2V_align_test_CRY5.0_-1__20231110-1730/Job.71/Outputdata/lossmap_B2V.json',\n",
       " '/afs/cern.ch/work/c/cmaccani/xsuite_sim/twocryst_sim/Condor/TEST_B2V_align_test_CRY5.0_-1__20231110-1730/Job.72/Outputdata/lossmap_B2V.json',\n",
       " '/afs/cern.ch/work/c/cmaccani/xsuite_sim/twocryst_sim/Condor/TEST_B2V_align_test_CRY5.0_-1__20231110-1730/Job.73/Outputdata/lossmap_B2V.json',\n",
       " '/afs/cern.ch/work/c/cmaccani/xsuite_sim/twocryst_sim/Condor/TEST_B2V_align_test_CRY5.0_-1__20231110-1730/Job.74/Outputdata/lossmap_B2V.json',\n",
       " '/afs/cern.ch/work/c/cmaccani/xsuite_sim/twocryst_sim/Condor/TEST_B2V_align_test_CRY5.0_-1__20231110-1730/Job.75/Outputdata/lossmap_B2V.json',\n",
       " '/afs/cern.ch/work/c/cmaccani/xsuite_sim/twocryst_sim/Condor/TEST_B2V_align_test_CRY5.0_-1__20231110-1730/Job.76/Outputdata/lossmap_B2V.json',\n",
       " '/afs/cern.ch/work/c/cmaccani/xsuite_sim/twocryst_sim/Condor/TEST_B2V_align_test_CRY5.0_-1__20231110-1730/Job.77/Outputdata/lossmap_B2V.json',\n",
       " '/afs/cern.ch/work/c/cmaccani/xsuite_sim/twocryst_sim/Condor/TEST_B2V_align_test_CRY5.0_-1__20231110-1730/Job.78/Outputdata/lossmap_B2V.json',\n",
       " '/afs/cern.ch/work/c/cmaccani/xsuite_sim/twocryst_sim/Condor/TEST_B2V_align_test_CRY5.0_-1__20231110-1730/Job.79/Outputdata/lossmap_B2V.json',\n",
       " '/afs/cern.ch/work/c/cmaccani/xsuite_sim/twocryst_sim/Condor/TEST_B2V_align_test_CRY5.0_-1__20231110-1730/Job.80/Outputdata/lossmap_B2V.json',\n",
       " '/afs/cern.ch/work/c/cmaccani/xsuite_sim/twocryst_sim/Condor/TEST_B2V_align_test_CRY5.0_-1__20231110-1730/Job.81/Outputdata/lossmap_B2V.json',\n",
       " '/afs/cern.ch/work/c/cmaccani/xsuite_sim/twocryst_sim/Condor/TEST_B2V_align_test_CRY5.0_-1__20231110-1730/Job.82/Outputdata/lossmap_B2V.json',\n",
       " '/afs/cern.ch/work/c/cmaccani/xsuite_sim/twocryst_sim/Condor/TEST_B2V_align_test_CRY5.0_-1__20231110-1730/Job.83/Outputdata/lossmap_B2V.json',\n",
       " '/afs/cern.ch/work/c/cmaccani/xsuite_sim/twocryst_sim/Condor/TEST_B2V_align_test_CRY5.0_-1__20231110-1730/Job.84/Outputdata/lossmap_B2V.json',\n",
       " '/afs/cern.ch/work/c/cmaccani/xsuite_sim/twocryst_sim/Condor/TEST_B2V_align_test_CRY5.0_-1__20231110-1730/Job.85/Outputdata/lossmap_B2V.json',\n",
       " '/afs/cern.ch/work/c/cmaccani/xsuite_sim/twocryst_sim/Condor/TEST_B2V_align_test_CRY5.0_-1__20231110-1730/Job.86/Outputdata/lossmap_B2V.json',\n",
       " '/afs/cern.ch/work/c/cmaccani/xsuite_sim/twocryst_sim/Condor/TEST_B2V_align_test_CRY5.0_-1__20231110-1730/Job.87/Outputdata/lossmap_B2V.json',\n",
       " '/afs/cern.ch/work/c/cmaccani/xsuite_sim/twocryst_sim/Condor/TEST_B2V_align_test_CRY5.0_-1__20231110-1730/Job.88/Outputdata/lossmap_B2V.json',\n",
       " '/afs/cern.ch/work/c/cmaccani/xsuite_sim/twocryst_sim/Condor/TEST_B2V_align_test_CRY5.0_-1__20231110-1730/Job.89/Outputdata/lossmap_B2V.json',\n",
       " '/afs/cern.ch/work/c/cmaccani/xsuite_sim/twocryst_sim/Condor/TEST_B2V_align_test_CRY5.0_-1__20231110-1730/Job.90/Outputdata/lossmap_B2V.json',\n",
       " '/afs/cern.ch/work/c/cmaccani/xsuite_sim/twocryst_sim/Condor/TEST_B2V_align_test_CRY5.0_-1__20231110-1730/Job.91/Outputdata/lossmap_B2V.json',\n",
       " '/afs/cern.ch/work/c/cmaccani/xsuite_sim/twocryst_sim/Condor/TEST_B2V_align_test_CRY5.0_-1__20231110-1730/Job.92/Outputdata/lossmap_B2V.json',\n",
       " '/afs/cern.ch/work/c/cmaccani/xsuite_sim/twocryst_sim/Condor/TEST_B2V_align_test_CRY5.0_-1__20231110-1730/Job.93/Outputdata/lossmap_B2V.json',\n",
       " '/afs/cern.ch/work/c/cmaccani/xsuite_sim/twocryst_sim/Condor/TEST_B2V_align_test_CRY5.0_-1__20231110-1730/Job.94/Outputdata/lossmap_B2V.json',\n",
       " '/afs/cern.ch/work/c/cmaccani/xsuite_sim/twocryst_sim/Condor/TEST_B2V_align_test_CRY5.0_-1__20231110-1730/Job.95/Outputdata/lossmap_B2V.json',\n",
       " '/afs/cern.ch/work/c/cmaccani/xsuite_sim/twocryst_sim/Condor/TEST_B2V_align_test_CRY5.0_-1__20231110-1730/Job.96/Outputdata/lossmap_B2V.json',\n",
       " '/afs/cern.ch/work/c/cmaccani/xsuite_sim/twocryst_sim/Condor/TEST_B2V_align_test_CRY5.0_-1__20231110-1730/Job.97/Outputdata/lossmap_B2V.json',\n",
       " '/afs/cern.ch/work/c/cmaccani/xsuite_sim/twocryst_sim/Condor/TEST_B2V_align_test_CRY5.0_-1__20231110-1730/Job.98/Outputdata/lossmap_B2V.json',\n",
       " '/afs/cern.ch/work/c/cmaccani/xsuite_sim/twocryst_sim/Condor/TEST_B2V_align_test_CRY5.0_-1__20231110-1730/Job.99/Outputdata/lossmap_B2V.json']"
      ]
     },
     "execution_count": 12,
     "metadata": {},
     "output_type": "execute_result"
    }
   ],
   "source": [
    "losses_json"
   ]
  },
  {
   "cell_type": "code",
   "execution_count": 13,
   "id": "4e89da66",
   "metadata": {},
   "outputs": [],
   "source": [
    "ThisLM = lm.SimulatedLossMap(lmtype=lm.LMType.B2V, machine=lm.Machine.LHC)"
   ]
  },
  {
   "cell_type": "code",
   "execution_count": 14,
   "id": "fc309de6",
   "metadata": {},
   "outputs": [
    {
     "name": "stdout",
     "output_type": "stream",
     "text": [
      "Maximum inefficiency in the DS is 8.3e-07.\n"
     ]
    }
   ],
   "source": [
    "#ThisLM.load_data_json(json_files=losses_json)\n",
    "ThisLM.load_data_json(json_files=losses_json)"
   ]
  },
  {
   "cell_type": "code",
   "execution_count": 15,
   "id": "ece336ec",
   "metadata": {},
   "outputs": [
    {
     "name": "stdout",
     "output_type": "stream",
     "text": [
      "pymadx.Tfs.Load> normal file\n"
     ]
    },
    {
     "data": {
      "text/plain": [
       "(<Figure size 1440x864 with 3 Axes>,\n",
       " array([<Axes: xlabel='S [m]', ylabel='Norm. inefficiency [arb. unit]'>,\n",
       "        <Axes: >,\n",
       "        <Axes: xlabel='S [m]', ylabel='Norm. inefficiency [arb. unit]'>],\n",
       "       dtype=object))"
      ]
     },
     "execution_count": 15,
     "metadata": {},
     "output_type": "execute_result"
    },
    {
     "data": {
      "image/png": "[encoded data removed]",
      "text/plain": [
       "<Figure size 1440x864 with 3 Axes>"
      ]
     },
     "metadata": {
      "needs_background": "light"
     },
     "output_type": "display_data"
    }
   ],
   "source": [
    "lm.plot_lossmap(ThisLM, zoom=True, layout=\"./input_files/layout_flat_top_b2.tfs\",  outfile = \"./Outputdata/TEST_False2.png\")  #, outfile = \"./Outputdata/Lossmap_outputs/\"+outfile_name"
   ]
  },
  {
   "cell_type": "code",
   "execution_count": 16,
   "id": "49dc9b99",
   "metadata": {},
   "outputs": [
    {
     "data": {
      "application/vnd.jupyter.widget-view+json": {
       "model_id": "0a83c74a8918420fbdac251244658064",
       "version_major": 2,
       "version_minor": 0
      },
      "text/plain": [
       "Box(children=(Dropdown(description='norm', index=3, options=('none', 'max', 'coll_max', 'total'), value='total…"
      ]
     },
     "metadata": {},
     "output_type": "display_data"
    },
    {
     "data": {
      "application/vnd.jupyter.widget-view+json": {
       "model_id": "a0141a1b74444f909eeab873c2565701",
       "version_major": 2,
       "version_minor": 0
      },
      "text/plain": [
       "FigureWidget({\n",
       "    'data': [{'base': 1e-17,\n",
       "              'hovertemplate': 'S=%{x:.2f} m, value=%{y:1.2e}<br>%{hovertext}',\n",
       "              'hovertext': array([  76.,   77.,   78.,   79.,   80.,   81.,   82.,   83.,   84.,   86.,\n",
       "                                    87.,   88.,   89.,   90.,   91.,   92.,   93.,   94.,   95.,   98.,\n",
       "                                   134.,  135.,  136.,  137., 1162., 1163., 1164., 1165., 1166., 1167.,\n",
       "                                  1168., 1169., 1170., 1171., 1172., 1173., 1174., 1175., 1179., 1180.,\n",
       "                                  1182., 1183., 1184., 1187., 1188., 1189., 1190., 1191., 1192., 1193.,\n",
       "                                  1194., 1195., 1196., 1197., 1198., 1199., 1200., 1201., 1202., 1203.,\n",
       "                                  1204., 1205., 1206., 1207., 1208., 1209., 1210., 1211., 1212., 1213.,\n",
       "                                  1214., 1215., 1216., 1217., 1218., 1219., 1220., 1221., 1222., 1223.,\n",
       "                                  1224., 1225., 1226., 1227., 1228., 1229., 1230., 1231., 1232., 1233.,\n",
       "                                  1234., 1235.]),\n",
       "              'marker': {'color': 'red', 'line': {'color': 'red', 'width': 1.5}},\n",
       "              'name': 'Warm',\n",
       "              'type': 'bar',\n",
       "              'uid': 'a79a37e8-7ca4-4e05-8ff6-bf59f14d2829',\n",
       "              'width': 0.8,\n",
       "              'x': array([ 6626.95,  6630.75,  6634.25,  6638.05,  6638.35,  6642.05,  6642.55,\n",
       "                           6644.75,  6647.15,  6687.55,  6687.65,  6688.15,  6688.25,  6688.45,\n",
       "                           6689.85,  6695.25,  6696.35,  6697.15,  6714.65,  6833.35,  6870.45,\n",
       "                           6870.55,  6870.65,  6870.85, 19908.15, 19908.55, 19908.65, 19909.65,\n",
       "                          19910.55, 19912.45, 19912.55, 19913.35, 19915.45, 19915.55, 19924.15,\n",
       "                          19931.95, 19935.95, 19941.05, 20052.05, 20063.95, 20076.25, 20078.15,\n",
       "                          20080.15, 20115.55, 20115.95, 20116.05, 20116.25, 20116.35, 20116.45,\n",
       "                          20116.65, 20116.75, 20116.85, 20116.95, 20117.05, 20117.25, 20117.35,\n",
       "                          20117.45, 20117.55, 20117.65, 20117.75, 20118.15, 20118.25, 20118.35,\n",
       "                          20119.25, 20119.35, 20119.45, 20119.55, 20119.75, 20120.05, 20120.15,\n",
       "                          20120.55, 20120.95, 20121.25, 20121.65, 20121.75, 20121.95, 20122.25,\n",
       "                          20122.85, 20122.95, 20123.35, 20123.85, 20123.95, 20124.15, 20124.75,\n",
       "                          20126.85, 20127.15, 20127.35, 20128.25, 20129.05, 20130.95, 20134.05,\n",
       "                          20134.25]),\n",
       "              'xaxis': 'x2',\n",
       "              'y': array([9.67022945e-08, 9.67022945e-08, 4.83511472e-08, 4.83511472e-08,\n",
       "                          1.93404589e-07, 1.49888556e-06, 1.45053442e-07, 4.83511472e-08,\n",
       "                          6.76916061e-07, 4.83511472e-08, 1.45053442e-07, 4.83511472e-08,\n",
       "                          4.83511472e-08, 4.83511472e-08, 4.83511472e-08, 4.83511472e-08,\n",
       "                          4.83511472e-08, 4.83511472e-08, 9.67022945e-08, 7.88123700e-06,\n",
       "                          4.83511472e-08, 9.67022945e-08, 4.83511472e-08, 1.01537409e-06,\n",
       "                          2.41755736e-07, 4.83511472e-08, 4.83511472e-08, 4.83511472e-08,\n",
       "                          4.83511472e-08, 4.83511472e-08, 4.83511472e-08, 4.83511472e-08,\n",
       "                          4.83511472e-08, 4.83511472e-08, 4.83511472e-08, 9.67022945e-08,\n",
       "                          2.41755736e-07, 4.83511472e-08, 1.45053442e-07, 4.83511472e-08,\n",
       "                          4.83511472e-08, 4.83511472e-08, 2.90106883e-07, 1.49888556e-06,\n",
       "                          9.67022945e-08, 1.45053442e-07, 4.83511472e-08, 1.45053442e-07,\n",
       "                          4.83511472e-08, 9.67022945e-08, 1.93404589e-07, 4.83511472e-08,\n",
       "                          4.83511472e-08, 9.67022945e-08, 9.67022945e-08, 4.83511472e-08,\n",
       "                          4.83511472e-08, 9.67022945e-08, 1.93404589e-07, 4.83511472e-08,\n",
       "                          1.45053442e-07, 9.67022945e-08, 1.45053442e-07, 4.83511472e-08,\n",
       "                          9.67022945e-08, 4.83511472e-08, 3.86809178e-07, 9.67022945e-08,\n",
       "                          1.45053442e-07, 9.67022945e-08, 4.83511472e-08, 4.83511472e-08,\n",
       "                          4.83511472e-08, 4.83511472e-08, 9.67022945e-08, 4.83511472e-08,\n",
       "                          4.83511472e-08, 2.41755736e-07, 4.83511472e-08, 9.67022945e-08,\n",
       "                          4.83511472e-08, 4.83511472e-08, 4.83511472e-08, 4.83511472e-08,\n",
       "                          4.83511472e-08, 9.67022945e-08, 4.83511472e-08, 4.83511472e-08,\n",
       "                          4.83511472e-08, 9.67022945e-08, 4.83511472e-08, 4.83511472e-08]),\n",
       "              'yaxis': 'y2'},\n",
       "             {'base': 1e-17,\n",
       "              'hovertemplate': 'S=%{x:.2f} m, value=%{y:1.2e}<br>%{hovertext}',\n",
       "              'hovertext': array([   2.,    3.,    4., ..., 1150., 1151., 1152.]),\n",
       "              'marker': {'color': 'blue', 'line': {'color': 'blue', 'width': 1.5}},\n",
       "              'name': 'Cold',\n",
       "              'type': 'bar',\n",
       "              'uid': 'e586c473-b238-4727-b87e-83a6d8ecd6fa',\n",
       "              'width': 0.8,\n",
       "              'x': array([ 6122.55,  6123.65,  6128.55, ..., 19697.25, 19697.75, 19701.55]),\n",
       "              'xaxis': 'x2',\n",
       "              'y': array([4.83511472e-08, 4.83511472e-08, 4.83511472e-08, ..., 4.83511472e-08,\n",
       "                          4.83511472e-08, 4.83511472e-08]),\n",
       "              'yaxis': 'y2'},\n",
       "             {'base': 1e-17,\n",
       "              'hovertemplate': 'S=%{x:.2f} m, value=%{y:1.2e}<br>%{hovertext}',\n",
       "              'hovertext': array(['TCTPV.4R1.B2', 'TCTPH.4R1.B2', 'TCLA.7L3.B2', 'TCLA.B5L3.B2',\n",
       "                                  'TCLA.A5L3.B2', 'TCSG.B5L3.B2', 'TCSG.A5L3.B2', 'TCSG.4L3.B2',\n",
       "                                  'TARGET.4L3.B2', 'TCCS.5R3.B2', 'TCSG.5R3.B2', 'TCP.6R3.B2',\n",
       "                                  'TCTPH.4R5.B2', 'TCSP.A4L6.B2', 'TCDQA.A4L6.B2', 'TCLA.A7L7.B2',\n",
       "                                  'TCLA.D6L7.B2', 'TCLA.C6L7.B2', 'TCLA.B6L7.B2', 'TCLA.A6L7.B2',\n",
       "                                  'TCSPM.6L7.B2', 'TCSPM.E5L7.B2', 'TCSG.D5L7.B2', 'TCSG.B5L7.B2',\n",
       "                                  'TCSG.A4L7.B2', 'TCSG.A4R7.B2', 'TCSPM.B4R7.B2', 'TCSG.D4R7.B2',\n",
       "                                  'TCSG.A5R7.B2', 'TCSG.B5R7.B2', 'TCSG.A6R7.B2', 'TCP.B6R7.B2',\n",
       "                                  'TCP.C6R7.B2', 'TCP.D6R7.B2', 'TCTPV.4R8.B2', 'TCTPH.4R8.B2'],\n",
       "                                 dtype=object),\n",
       "              'marker': {'color': 'black', 'line': {'color': 'black', 'width': 1.5}},\n",
       "              'name': 'Collimator',\n",
       "              'type': 'bar',\n",
       "              'uid': 'ed0b8b75-edd2-474f-88a7-c8ebc74d6511',\n",
       "              'width': 0.8,\n",
       "              'x': array([  145.94499969,   147.94499969,  6414.26579701,  6572.22079396,\n",
       "                           6574.22079396,  6604.70079396,  6610.52079396,  6621.86579396,\n",
       "                           6653.3375    ,  6773.7       ,  6808.44879396,  6841.77029176,\n",
       "                          13477.53894606, 16507.62816201, 16518.63816201, 19756.46437827,\n",
       "                          19774.09237827, 19776.09237827, 19809.36137672, 19840.23537608,\n",
       "                          19845.30137608, 19879.90637608, 19885.90637608, 19901.90637608,\n",
       "                          19985.16237608, 20001.16237608, 20003.16237608, 20071.08837608,\n",
       "                          20092.41837608, 20096.41837608, 20155.64587608, 20195.14037393,\n",
       "                          20197.14037378, 20199.14037363, 23431.45958918, 23433.45958844]),\n",
       "              'xaxis': 'x2',\n",
       "              'y': array([2.35953598e-06, 6.28564914e-08, 5.80213767e-08, 4.83511472e-09,\n",
       "                          1.05743959e-05, 2.41755736e-07, 3.38458031e-07, 1.44086419e-06,\n",
       "                          9.32337766e-01, 5.71873194e-03, 3.14282457e-06, 2.59081564e-05,\n",
       "                          9.67022945e-09, 1.78899245e-07, 6.44681963e-08, 9.09001568e-07,\n",
       "                          1.55207183e-06, 4.42412997e-06, 3.77138948e-07, 6.35334075e-06,\n",
       "                          7.05926750e-06, 2.81016868e-05, 1.18440970e-04, 1.23135867e-04,\n",
       "                          4.19620266e-04, 4.34077259e-04, 8.52237321e-05, 4.28860171e-04,\n",
       "                          1.43465590e-03, 2.04262323e-03, 2.03897271e-03, 1.59562009e-03,\n",
       "                          1.22449280e-04, 5.27483214e-02, 3.79556506e-06, 2.41755736e-08]),\n",
       "              'yaxis': 'y2'},\n",
       "             {'base': array([-1.0, -2.0, 0.0, ..., -2.0, 0.0, -1.0], dtype=object),\n",
       "              'hovertemplate': '%{hovertext}<br>S=%{x:.2f} m<extra></extra>',\n",
       "              'hovertext': array(['TAS.1R1', 'MQXA.1R1', 'MQXB.A2R1', ..., 'MQXB.A2L1', 'MQXA.1L1',\n",
       "                                  'TAS.1L1'], dtype=object),\n",
       "              'marker': {'color': array(['black', '#d10000', '#d10000', ..., '#d10000', '#d10000', 'black'],\n",
       "                                        dtype=object),\n",
       "                         'line': {'color': array(['black', '#d10000', '#d10000', ..., '#d10000', '#d10000', 'black'],\n",
       "                                                 dtype=object),\n",
       "                                  'width': 0.5}},\n",
       "              'showlegend': False,\n",
       "              'type': 'bar',\n",
       "              'uid': 'a6c4ab71-68b3-40cd-9714-30ac53a699bc',\n",
       "              'width': array([1.8 , 6.37, 5.5 , ..., 5.5 , 6.37, 1.8 ]),\n",
       "              'x': array([1.99500000e+01, 2.61500000e+01, 3.48000000e+01, ..., 2.66240832e+04,\n",
       "                          2.66327332e+04, 2.66389042e+04]),\n",
       "              'xaxis': 'x',\n",
       "              'y': array([2., 2., 2., ..., 2., 2., 2.]),\n",
       "              'yaxis': 'y'},\n",
       "             {'line': {'color': 'gray', 'width': 0.5},\n",
       "              'mode': 'lines',\n",
       "              'showlegend': False,\n",
       "              'type': 'scatter',\n",
       "              'uid': 'a93d96ba-39a3-42ec-a528-28577e3187a1',\n",
       "              'x': [20.85, 26639.8042],\n",
       "              'xaxis': 'x',\n",
       "              'y': [0, 0],\n",
       "              'yaxis': 'y'}],\n",
       "    'layout': {'hovermode': 'closest',\n",
       "               'margin': {'b': 20, 'l': 20, 'r': 20, 't': 30},\n",
       "               'template': '...',\n",
       "               'xaxis': {'anchor': 'y',\n",
       "                         'domain': [0.0, 1.0],\n",
       "                         'matches': 'x2',\n",
       "                         'range': [0, 26658.8832],\n",
       "                         'showgrid': False,\n",
       "                         'showline': False,\n",
       "                         'showticklabels': False,\n",
       "                         'ticks': ''},\n",
       "               'xaxis2': {'anchor': 'y2',\n",
       "                          'domain': [0.0, 1.0],\n",
       "                          'exponentformat': 'none',\n",
       "                          'mirror': True,\n",
       "                          'range': [0, 26658.8832],\n",
       "                          'title': {'text': 'S [m]'}},\n",
       "               'yaxis': {'anchor': 'x',\n",
       "                         'domain': [0.8938775510204082, 1.0],\n",
       "                         'fixedrange': True,\n",
       "                         'showgrid': False,\n",
       "                         'showline': False,\n",
       "                         'showticklabels': False,\n",
       "                         'ticks': '',\n",
       "                         'zeroline': False},\n",
       "               'yaxis2': {'anchor': 'x2',\n",
       "                          'domain': [0.0, 0.8510204081632654],\n",
       "                          'exponentformat': 'e',\n",
       "                          'mirror': True,\n",
       "                          'range': [-7.0, 0.9542425094393249],\n",
       "                          'showexponent': 'all',\n",
       "                          'showgrid': True,\n",
       "                          'title': {'text': 'Norm. inefficiency [arb. unit]'},\n",
       "                          'type': 'log'}}\n",
       "})"
      ]
     },
     "execution_count": 16,
     "metadata": {},
     "output_type": "execute_result"
    }
   ],
   "source": [
    "lm.plot_lossmap_interactive(ThisLM, norm='total', layout=\"./input_files/layout_flat_top_b2.tfs\")  #"
   ]
  },
  {
   "cell_type": "code",
   "execution_count": 17,
   "metadata": {},
   "outputs": [
    {
     "data": {
      "text/html": [
       "<div>\n",
       "<style scoped>\n",
       "    .dataframe tbody tr th:only-of-type {\n",
       "        vertical-align: middle;\n",
       "    }\n",
       "\n",
       "    .dataframe tbody tr th {\n",
       "        vertical-align: top;\n",
       "    }\n",
       "\n",
       "    .dataframe thead th {\n",
       "        text-align: right;\n",
       "    }\n",
       "</style>\n",
       "<table border=\"1\" class=\"dataframe\">\n",
       "  <thead>\n",
       "    <tr style=\"text-align: right;\">\n",
       "      <th></th>\n",
       "      <th>s</th>\n",
       "      <th>name</th>\n",
       "      <th>losses_type</th>\n",
       "      <th>losses</th>\n",
       "    </tr>\n",
       "  </thead>\n",
       "  <tbody>\n",
       "    <tr>\n",
       "      <th>96</th>\n",
       "      <td>6773.7</td>\n",
       "      <td>tccs.5r3.b2</td>\n",
       "      <td>Losses.COLL</td>\n",
       "      <td>1182750.0</td>\n",
       "    </tr>\n",
       "  </tbody>\n",
       "</table>\n",
       "</div>"
      ],
      "text/plain": [
       "         s         name  losses_type     losses\n",
       "96  6773.7  tccs.5r3.b2  Losses.COLL  1182750.0"
      ]
     },
     "execution_count": 17,
     "metadata": {},
     "output_type": "execute_result"
    }
   ],
   "source": [
    "losses_df = ThisLM._losses\n",
    "losses_df[losses_df['name']=='tccs.5r3.b2']\n",
    "\n",
    "#'target.4l3.b2'\n",
    "\n",
    "#loss_tcp = int(losses_df[losses_df['name']=='tcp.d6r7.b2']['losses'])"
   ]
  },
  {
   "cell_type": "code",
   "execution_count": 36,
   "metadata": {},
   "outputs": [
    {
     "ename": "NameError",
     "evalue": "name 'df' is not defined",
     "output_type": "error",
     "traceback": [
      "\u001b[0;31m---------------------------------------------------------------------------\u001b[0m",
      "\u001b[0;31mNameError\u001b[0m                                 Traceback (most recent call last)",
      "\u001b[0;32m/tmp/cmaccani/ipykernel_190748/3081159722.py\u001b[0m in \u001b[0;36m<module>\u001b[0;34m\u001b[0m\n\u001b[0;32m----> 1\u001b[0;31m \u001b[0mdf\u001b[0m\u001b[0;34m.\u001b[0m\u001b[0mloc\u001b[0m\u001b[0;34m[\u001b[0m\u001b[0mdf\u001b[0m\u001b[0;34m.\u001b[0m\u001b[0mgroupby\u001b[0m\u001b[0;34m(\u001b[0m\u001b[0;34m'sigma'\u001b[0m\u001b[0;34m)\u001b[0m\u001b[0;34m.\u001b[0m\u001b[0mloss_cry\u001b[0m\u001b[0;34m.\u001b[0m\u001b[0midxmin\u001b[0m\u001b[0;34m(\u001b[0m\u001b[0;34m)\u001b[0m\u001b[0;34m]\u001b[0m\u001b[0;34m\u001b[0m\u001b[0;34m\u001b[0m\u001b[0m\n\u001b[0m",
      "\u001b[0;31mNameError\u001b[0m: name 'df' is not defined"
     ]
    }
   ],
   "source": [
    "df.loc[df.groupby('sigma').loss_cry.idxmin()]"
   ]
  },
  {
   "cell_type": "code",
   "execution_count": null,
   "metadata": {},
   "outputs": [
    {
     "data": {
      "text/html": [
       "<div>\n",
       "<style scoped>\n",
       "    .dataframe tbody tr th:only-of-type {\n",
       "        vertical-align: middle;\n",
       "    }\n",
       "\n",
       "    .dataframe tbody tr th {\n",
       "        vertical-align: top;\n",
       "    }\n",
       "\n",
       "    .dataframe thead th {\n",
       "        text-align: right;\n",
       "    }\n",
       "</style>\n",
       "<table border=\"1\" class=\"dataframe\">\n",
       "  <thead>\n",
       "    <tr style=\"text-align: right;\">\n",
       "      <th></th>\n",
       "      <th>theta</th>\n",
       "      <th>loss_target</th>\n",
       "      <th>loss_cry</th>\n",
       "      <th>loss_relative</th>\n",
       "    </tr>\n",
       "    <tr>\n",
       "      <th>sigma</th>\n",
       "      <th></th>\n",
       "      <th></th>\n",
       "      <th></th>\n",
       "      <th></th>\n",
       "    </tr>\n",
       "  </thead>\n",
       "  <tbody>\n",
       "    <tr>\n",
       "      <th>5.0</th>\n",
       "      <td>-10.0</td>\n",
       "      <td>81800.0</td>\n",
       "      <td>1182750.0</td>\n",
       "      <td>0.108415</td>\n",
       "    </tr>\n",
       "    <tr>\n",
       "      <th>5.5</th>\n",
       "      <td>-10.0</td>\n",
       "      <td>3800.0</td>\n",
       "      <td>15000.0</td>\n",
       "      <td>0.001224</td>\n",
       "    </tr>\n",
       "    <tr>\n",
       "      <th>6.0</th>\n",
       "      <td>-10.0</td>\n",
       "      <td>3600.0</td>\n",
       "      <td>3250.0</td>\n",
       "      <td>0.000265</td>\n",
       "    </tr>\n",
       "    <tr>\n",
       "      <th>6.5</th>\n",
       "      <td>-10.0</td>\n",
       "      <td>3600.0</td>\n",
       "      <td>750.0</td>\n",
       "      <td>0.000061</td>\n",
       "    </tr>\n",
       "  </tbody>\n",
       "</table>\n",
       "</div>"
      ],
      "text/plain": [
       "       theta  loss_target   loss_cry  loss_relative\n",
       "sigma                                              \n",
       "5.0    -10.0      81800.0  1182750.0       0.108415\n",
       "5.5    -10.0       3800.0    15000.0       0.001224\n",
       "6.0    -10.0       3600.0     3250.0       0.000265\n",
       "6.5    -10.0       3600.0      750.0       0.000061"
      ]
     },
     "execution_count": 131,
     "metadata": {},
     "output_type": "execute_result"
    }
   ],
   "source": [
    "df.groupby('sigma').min()"
   ]
  },
  {
   "cell_type": "code",
   "execution_count": null,
   "metadata": {},
   "outputs": [
    {
     "data": {
      "text/html": [
       "<div>\n",
       "<style scoped>\n",
       "    .dataframe tbody tr th:only-of-type {\n",
       "        vertical-align: middle;\n",
       "    }\n",
       "\n",
       "    .dataframe tbody tr th {\n",
       "        vertical-align: top;\n",
       "    }\n",
       "\n",
       "    .dataframe thead th {\n",
       "        text-align: right;\n",
       "    }\n",
       "</style>\n",
       "<table border=\"1\" class=\"dataframe\">\n",
       "  <thead>\n",
       "    <tr style=\"text-align: right;\">\n",
       "      <th></th>\n",
       "      <th>theta</th>\n",
       "      <th>loss_target</th>\n",
       "      <th>loss_cry</th>\n",
       "      <th>loss_relative</th>\n",
       "    </tr>\n",
       "    <tr>\n",
       "      <th>sigma</th>\n",
       "      <th></th>\n",
       "      <th></th>\n",
       "      <th></th>\n",
       "      <th></th>\n",
       "    </tr>\n",
       "  </thead>\n",
       "  <tbody>\n",
       "    <tr>\n",
       "      <th>5.0</th>\n",
       "      <td>15.0</td>\n",
       "      <td>192826400.0</td>\n",
       "      <td>2991250.0</td>\n",
       "      <td>0.243532</td>\n",
       "    </tr>\n",
       "    <tr>\n",
       "      <th>5.5</th>\n",
       "      <td>15.0</td>\n",
       "      <td>618200.0</td>\n",
       "      <td>25750.0</td>\n",
       "      <td>0.002100</td>\n",
       "    </tr>\n",
       "    <tr>\n",
       "      <th>6.0</th>\n",
       "      <td>15.0</td>\n",
       "      <td>151600.0</td>\n",
       "      <td>8250.0</td>\n",
       "      <td>0.000673</td>\n",
       "    </tr>\n",
       "    <tr>\n",
       "      <th>6.5</th>\n",
       "      <td>15.0</td>\n",
       "      <td>59200.0</td>\n",
       "      <td>2750.0</td>\n",
       "      <td>0.000224</td>\n",
       "    </tr>\n",
       "  </tbody>\n",
       "</table>\n",
       "</div>"
      ],
      "text/plain": [
       "       theta  loss_target   loss_cry  loss_relative\n",
       "sigma                                              \n",
       "5.0     15.0  192826400.0  2991250.0       0.243532\n",
       "5.5     15.0     618200.0    25750.0       0.002100\n",
       "6.0     15.0     151600.0     8250.0       0.000673\n",
       "6.5     15.0      59200.0     2750.0       0.000224"
      ]
     },
     "execution_count": 124,
     "metadata": {},
     "output_type": "execute_result"
    }
   ],
   "source": [
    "df.groupby('sigma').max('loss_target')"
   ]
  },
  {
   "cell_type": "markdown",
   "metadata": {},
   "source": [
    "# BEAM LINE TEST"
   ]
  },
  {
   "cell_type": "code",
   "execution_count": 18,
   "metadata": {},
   "outputs": [
    {
     "name": "stdout",
     "output_type": "stream",
     "text": [
      "Done loading line from dict.           \n",
      "Compiling ContextCpu kernels...\n",
      "Done compiling ContextCpu kernels.\n",
      "Installing tcl.4l1.b2           as EverestCollimator\n",
      "Installing tcl.5l1.b2           as EverestCollimator\n",
      "Installing tcl.6l1.b2           as EverestCollimator\n",
      "Installing tctph.4r8.b2         as EverestCollimator\n",
      "Installing tctpv.4r8.b2         as EverestCollimator\n",
      "Installing tdisa.a4r8.b2        as EverestCollimator\n",
      "Installing tdisb.a4r8.b2        as EverestCollimator\n",
      "Installing tdisc.a4r8.b2        as EverestCollimator\n",
      "Installing tclia.4l8            as EverestCollimator\n",
      "Installing tclib.6l8.b2         as EverestCollimator\n",
      "Installing tcp.d6r7.b2          as EverestCollimator\n",
      "Installing tcp.c6r7.b2          as EverestCollimator\n",
      "Installing tcp.b6r7.b2          as EverestCollimator\n",
      "Installing tcsg.a6r7.b2         as EverestCollimator\n",
      "Installing tcsg.b5r7.b2         as EverestCollimator\n",
      "Installing tcsg.a5r7.b2         as EverestCollimator\n",
      "Installing tcsg.d4r7.b2         as EverestCollimator\n",
      "Installing tcspm.d4r7.b2        as EverestCollimator\n",
      "Installing tcsg.b4r7.b2         as EverestCollimator\n",
      "Installing tcspm.b4r7.b2        as EverestCollimator\n",
      "Installing tcsg.a4r7.b2         as EverestCollimator\n",
      "Installing tcsg.a4l7.b2         as EverestCollimator\n",
      "Installing tcsg.b5l7.b2         as EverestCollimator\n",
      "Installing tcsg.d5l7.b2         as EverestCollimator\n",
      "Installing tcsg.e5l7.b2         as EverestCollimator\n",
      "Installing tcspm.e5l7.b2        as EverestCollimator\n",
      "Installing tcsg.6l7.b2          as EverestCollimator\n",
      "Installing tcspm.6l7.b2         as EverestCollimator\n",
      "Installing tcla.a6l7.b2         as EverestCollimator\n",
      "Installing tcla.b6l7.b2         as EverestCollimator\n",
      "Installing tcla.c6l7.b2         as EverestCollimator\n",
      "Installing tcla.d6l7.b2         as EverestCollimator\n",
      "Installing tcla.a7l7.b2         as EverestCollimator\n",
      "Installing tcdqa.a4l6.b2        as EverestCollimator\n",
      "Installing tcdqa.c4l6.b2        as EverestCollimator\n",
      "Installing tcdqa.b4l6.b2        as EverestCollimator\n",
      "Installing tcsp.a4l6.b2         as EverestCollimator\n",
      "Installing tctph.4r5.b2         as EverestCollimator\n",
      "Installing tctpv.4r5.b2         as EverestCollimator\n",
      "Installing tcl.4l5.b2           as EverestCollimator\n",
      "Installing tcl.5l5.b2           as EverestCollimator\n",
      "Installing tcl.6l5.b2           as EverestCollimator\n",
      "Installing tcp.6r3.b2           as EverestCollimator\n",
      "Installing tcsg.5r3.b2          as EverestCollimator\n",
      "Installing tcsg.4l3.b2          as EverestCollimator\n",
      "Installing tcsg.a5l3.b2         as EverestCollimator\n",
      "Installing tcsg.b5l3.b2         as EverestCollimator\n",
      "Installing tcla.a5l3.b2         as EverestCollimator\n",
      "Installing tcla.b5l3.b2         as EverestCollimator\n",
      "Installing tcla.6l3.b2          as EverestCollimator\n",
      "Installing tcla.7l3.b2          as EverestCollimator\n",
      "Installing tctph.4r2.b2         as EverestCollimator\n",
      "Installing tctpv.4r2.b2         as EverestCollimator\n",
      "Installing tcld.a11l2.b2        as EverestCollimator\n",
      "Installing tctph.4r1.b2         as EverestCollimator\n",
      "Installing tctpv.4r1.b2         as EverestCollimator\n",
      "Installing target.4l3.b2        as EverestCollimator\n",
      "Compiling ContextCpu kernels...\n",
      "Done compiling ContextCpu kernels.\n",
      "Installing tcpcv.a6r7.b2        as EverestCrystal\n",
      "Installing tcpch.a5r7.b2        as EverestCrystal\n",
      "Installing tccs.5r3.b2          as EverestCrystal\n",
      "Installing tccp.4l3.b2          as EverestCrystal\n"
     ]
    }
   ],
   "source": [
    "line = xt.Line.from_json('input_files/flat_top_b2.json')\n",
    "end_s = line.get_length()\n",
    "\n",
    "context = xo.ContextCpu(omp_num_threads='auto')\n",
    "\n",
    "TCCS_loc = end_s - 6773.7 #6775\n",
    "TCCP_loc = end_s - 6653.3 #6655\n",
    "TARGET_loc = end_s - (6653.3 + 0.07/2 +0.005/2)\n",
    "\n",
    "\n",
    "\n",
    "line.insert_element(at_s=TCCS_loc, element=xt.Marker(), name='tccs.5r3.b2')\n",
    "line.insert_element(at_s=TCCS_loc, element=xt.LimitEllipse(a_squ=0.0016, b_squ=0.0016, a_b_squ=2.56e-06), name='tccs.5r3.b2_aper')\n",
    "line.insert_element(at_s=TCCP_loc, element=xt.Marker(), name='tccp.4l3.b2')\n",
    "line.insert_element(at_s=TCCP_loc, element=xt.LimitEllipse(a_squ=0.0016, b_squ=0.0016, a_b_squ=2.56e-06), name='tccp.4l3.b2_aper')\n",
    "line.insert_element(at_s=TARGET_loc, element=xt.Marker(), name='target.4l3.b2')\n",
    "line.insert_element(at_s=TARGET_loc, element=xt.LimitEllipse(a_squ=0.0016, b_squ=0.0016, a_b_squ=2.56e-06), name='target.4l3.b2_aper')\n",
    "\n",
    "\n",
    "# Initialise collmanager\n",
    "coll_manager = xc.CollimatorManager.from_yaml('input_files/flat_top.yaml', line=line, beam=2, _context=context, ignore_crystals=False)\n",
    "#print(coll_manager.collimator_names)\n",
    "\n",
    "coll_manager.install_everest_collimators(verbose=True)\n"
   ]
  },
  {
   "cell_type": "code",
   "execution_count": 19,
   "metadata": {},
   "outputs": [
    {
     "ename": "NameError",
     "evalue": "name 'abs_manager' is not defined",
     "output_type": "error",
     "traceback": [
      "\u001b[0;31m---------------------------------------------------------------------------\u001b[0m",
      "\u001b[0;31mNameError\u001b[0m                                 Traceback (most recent call last)",
      "\u001b[0;32m/tmp/cmaccani/ipykernel_255888/4256186902.py\u001b[0m in \u001b[0;36m<module>\u001b[0;34m\u001b[0m\n\u001b[0;32m----> 1\u001b[0;31m \u001b[0mabs_manager\u001b[0m\u001b[0;34m.\u001b[0m\u001b[0minstall_black_absorbers\u001b[0m\u001b[0;34m(\u001b[0m\u001b[0mverbose\u001b[0m\u001b[0;34m=\u001b[0m\u001b[0;32mTrue\u001b[0m\u001b[0;34m)\u001b[0m\u001b[0;34m\u001b[0m\u001b[0;34m\u001b[0m\u001b[0m\n\u001b[0m",
      "\u001b[0;31mNameError\u001b[0m: name 'abs_manager' is not defined"
     ]
    }
   ],
   "source": [
    "abs_manager.install_black_absorbers(verbose=True)"
   ]
  },
  {
   "cell_type": "markdown",
   "metadata": {},
   "source": [
    "### Line Analysis"
   ]
  },
  {
   "cell_type": "code",
   "execution_count": 20,
   "metadata": {},
   "outputs": [],
   "source": [
    "stop = line.element_names.index('tcla.a5l3.b2')\n",
    "start = line.element_names.index('tcsg.5r3.b2')"
   ]
  },
  {
   "cell_type": "code",
   "execution_count": 23,
   "metadata": {},
   "outputs": [
    {
     "name": "stdout",
     "output_type": "stream",
     "text": [
      "mbw.d6r3.b2 \t\t 6847.564790687997 \t\t Multipole\n",
      "tcp.6r3.b2 \t\t 6842.070291762997 \t\t EverestCollimator\n",
      "tcapa.6r3.b2 \t\t 6832.893793852007 \t\t Drift\n",
      "mbw.c6r3.b2 \t\t 6829.5417939640065 \t\t Multipole\n",
      "mbw.b6r3.b2 \t\t 6825.306793964006 \t\t Multipole\n",
      "mbw.a6r3.b2 \t\t 6821.071793964005 \t\t Multipole\n",
      "bpmwe.a5r3.b2 \t\t 6818.556293964008 \t\t Drift\n",
      "tcapd.5r3.b2 \t\t 6817.771793964006 \t\t Drift\n",
      "tcsg.5r3.b2 \t\t 6808.948793964006 \t\t EverestCollimator\n",
      "bpmw.5r3.b2 \t\t 6789.838293964007 \t\t Drift\n",
      "mcbwv.5r3.b2 \t\t 6786.043793964007 \t\t Multipole\n",
      "tccs.5r3.b2 \t\t 6773.702000000001 \t\t EverestCrystal\n",
      "bpmwe.4r3.b2 \t\t 6714.710293964006 \t\t Drift\n",
      "bpmw.4r3.b2 \t\t 6687.165293964008 \t\t Drift\n",
      "mcbwh.4r3.b2 \t\t 6683.420793964007 \t\t Multipole\n",
      "ip3_aper \t\t 6664.720793964007 \t\t LimitRectEllipse\n",
      "ip3 \t\t 6664.720793964007 \t\t Marker\n",
      "target.4l3.b2 \t\t 6653.34 \t\t EverestCollimator\n",
      "tccp.4l3.b2 \t\t 6653.334999999999 \t\t EverestCrystal\n",
      "mcbwv.4l3.b2 \t\t 6643.690793964008 \t\t Multipole\n",
      "bpmw.4l3.b2 \t\t 6642.200293964008 \t\t Drift\n",
      "tcsg.4l3.b2 \t\t 6622.365793964007 \t\t EverestCollimator\n",
      "bpmwe.4l3.b2 \t\t 6614.655293964006 \t\t Drift\n",
      "tcsg.a5l3.b2 \t\t 6611.020793964006 \t\t EverestCollimator\n",
      "tcsg.b5l3.b2 \t\t 6605.200793964006 \t\t EverestCollimator\n",
      "tcla.a5l3.b2 \t\t 6574.720793964007 \t\t EverestCollimator\n",
      "tcla.b5l3.b2 \t\t 6572.720793964007 \t\t EverestCollimator\n",
      "mcbwh.5l3.b2 \t\t 6541.067793964008 \t\t Multipole\n",
      "bpmw.5l3.b2 \t\t 6539.527293964005 \t\t Drift\n"
     ]
    }
   ],
   "source": [
    "for i in range(start-400, stop+400):\n",
    "    if (line.element_names[i].endswith('b2') and type(line[i]) !=  xt.beam_elements.elements.Marker) or line.element_names[i].startswith('ip'):\n",
    "        print(line.element_names[i], '\\t\\t', end_s-line.get_s_elements()[i], '\\t\\t', line[i].__class__.__name__ )"
   ]
  },
  {
   "cell_type": "code",
   "execution_count": null,
   "metadata": {},
   "outputs": [],
   "source": []
  },
  {
   "cell_type": "code",
   "execution_count": null,
   "metadata": {},
   "outputs": [],
   "source": [
    "losses_df[(losses_df['s']>6650)&(losses_df['s']<6800)]"
   ]
  },
  {
   "cell_type": "code",
   "execution_count": null,
   "metadata": {},
   "outputs": [],
   "source": []
  },
  {
   "cell_type": "code",
   "execution_count": null,
   "metadata": {},
   "outputs": [],
   "source": [
    "ThisLM.inefficiency()"
   ]
  },
  {
   "cell_type": "markdown",
   "metadata": {},
   "source": [
    "### PYMADX"
   ]
  },
  {
   "cell_type": "code",
   "execution_count": null,
   "metadata": {},
   "outputs": [],
   "source": [
    "loss_cry1/loss_tcp"
   ]
  },
  {
   "cell_type": "code",
   "execution_count": null,
   "metadata": {},
   "outputs": [
    {
     "name": "stdout",
     "output_type": "stream",
     "text": [
      "pymadx.Tfs.Load> normal file\n"
     ]
    }
   ],
   "source": [
    "import pymadx\n",
    "name_pymadx_layout = \"input_files/layout_file_b2_flattop.tfs\"  \n",
    "tfsobject= pymadx.Data.Tfs(name_pymadx_layout)"
   ]
  },
  {
   "cell_type": "code",
   "execution_count": null,
   "metadata": {},
   "outputs": [],
   "source": [
    "for i in tfsobject:\n",
    "    print(i['S'])"
   ]
  },
  {
   "cell_type": "code",
   "execution_count": null,
   "metadata": {},
   "outputs": [],
   "source": [
    "if tfsobject.header['SEQUENCE'] == 'LHCB2':\n",
    "    machine_length = tfsobject.header['LENGTH']\n",
    "    print(\"------------- BEAM2 LAYOUT INVERTED -------------\")\n",
    "    for i in range(len(tfsobject)):\n",
    "        old_s = tfsobject[i]['S']\n",
    "        tfsobject.EditComponent(i,'S', machine_length-old_s) "
   ]
  },
  {
   "cell_type": "code",
   "execution_count": null,
   "metadata": {},
   "outputs": [],
   "source": [
    "for i in tfsobject:\n",
    "    print(i['S'])"
   ]
  },
  {
   "cell_type": "code",
   "execution_count": null,
   "metadata": {},
   "outputs": [],
   "source": []
  },
  {
   "cell_type": "code",
   "execution_count": null,
   "metadata": {},
   "outputs": [],
   "source": [
    "def _get_twiss_header(tfsfile):\n",
    "    header = None\n",
    "    line_no = 0\n",
    "\n",
    "    gzipped = tfsfile.endswith(\".gz\")\n",
    "    fopen = gzip.open if gzipped else open\n",
    "\n",
    "    flag = \"rb\" if gzipped else \"r\"\n",
    "    with fopen(tfsfile, flag) as filein:\n",
    "        for idx, line in enumerate(filein):\n",
    "            if gzipped:\n",
    "                line = line.decode(\"utf-8\")\n",
    "            if line.startswith(\"*\"):  # This is the header line, preamble lines start with @\n",
    "                header = line.replace(\"*\", \"\").strip().split()  # Strip the comment char\n",
    "                line_no = idx + 1  # As zero counted\n",
    "                break  # End the loop early - information found\n",
    "\n",
    "    return header, line_no\n",
    "\n",
    "\n",
    "\n",
    "def _load_layout_tfs(tfsfile):\n",
    "    header, header_line_no = _get_twiss_header(tfsfile)\n",
    "\n",
    "    required_columns = {\"KEYWORD\", \"S\", \"L\", \"K1L\", \"NAME\"}\n",
    "\n",
    "    if not required_columns.issubset(set(required_columns)):\n",
    "        raise KeyError(\"The required columns in the MAD-X\"\n",
    "                       \" TFS file are: {}\".format(\" \".join(list(required_columns))))\n",
    "\n",
    "    twiss = pd.read_csv(tfsfile, delim_whitespace=True, skiprows=header_line_no+1,\n",
    "                        index_col=False, names=header)\n",
    "\n",
    "    twiss = twiss[list(required_columns)] # Reduce the data fields\n",
    "    twiss[\"NAME\"] = twiss[\"NAME\"].str.upper() # Make the names uppercase\n",
    "    twiss = twiss.set_index(\"NAME\")\n",
    "\n",
    "    return twiss\n",
    "\n",
    "\n",
    "\n",
    "def _make_layout_plotly(tfsfile):\n",
    "    tfs_df = _load_layout_tfs(tfsfile)\n",
    "    tfs_df = tfs_df[(tfs_df[\"L\"] > 0) & (tfs_df[\"KEYWORD\"] != \"DRIFT\")]\n",
    "\n",
    "    lim = (tfs_df[\"S\"].min(), tfs_df[\"S\"].max())\n",
    "    centres = tfs_df[\"S\"] - tfs_df[\"L\"]/2\n"
   ]
  },
  {
   "cell_type": "code",
   "execution_count": null,
   "metadata": {},
   "outputs": [
    {
     "data": {
      "text/plain": [
       "False"
      ]
     },
     "execution_count": 34,
     "metadata": {},
     "output_type": "execute_result"
    }
   ],
   "source": [
    "'LENGTH' in _get_twiss_header(name_pymadx_layout)[0]"
   ]
  },
  {
   "cell_type": "code",
   "execution_count": null,
   "metadata": {},
   "outputs": [
    {
     "data": {
      "text/plain": [
       "(['NAME',\n",
       "  'KEYWORD',\n",
       "  'S',\n",
       "  'L',\n",
       "  'K0L',\n",
       "  'K1L',\n",
       "  'K2L',\n",
       "  'K3L',\n",
       "  'K4L',\n",
       "  'K1SL',\n",
       "  'K2SL',\n",
       "  'K3SL',\n",
       "  'K4SL',\n",
       "  'HKICK',\n",
       "  'VKICK',\n",
       "  'BETX',\n",
       "  'BETY',\n",
       "  'ALFX',\n",
       "  'ALFY',\n",
       "  'MUX',\n",
       "  'MUY',\n",
       "  'DX',\n",
       "  'DY',\n",
       "  'DPX',\n",
       "  'DPY',\n",
       "  'R11',\n",
       "  'R12',\n",
       "  'R22',\n",
       "  'R21',\n",
       "  'X',\n",
       "  'PX',\n",
       "  'Y',\n",
       "  'PY',\n",
       "  'T',\n",
       "  'PT',\n",
       "  'DELTAP',\n",
       "  'VOLT',\n",
       "  'LAG',\n",
       "  'HARMON',\n",
       "  'FREQ',\n",
       "  'E1',\n",
       "  'E2',\n",
       "  'APERTYPE',\n",
       "  'APER_1',\n",
       "  'APER_2',\n",
       "  'APER_3',\n",
       "  'APER_4',\n",
       "  'TILT',\n",
       "  'ANGLE'],\n",
       " 51)"
      ]
     },
     "execution_count": 32,
     "metadata": {},
     "output_type": "execute_result"
    }
   ],
   "source": [
    "_get_twiss_header(name_pymadx_layout)"
   ]
  },
  {
   "cell_type": "code",
   "execution_count": null,
   "metadata": {},
   "outputs": [],
   "source": []
  },
  {
   "cell_type": "code",
   "execution_count": null,
   "metadata": {},
   "outputs": [],
   "source": []
  },
  {
   "cell_type": "code",
   "execution_count": null,
   "metadata": {},
   "outputs": [],
   "source": []
  },
  {
   "cell_type": "code",
   "execution_count": null,
   "metadata": {},
   "outputs": [],
   "source": []
  },
  {
   "cell_type": "code",
   "execution_count": null,
   "metadata": {},
   "outputs": [],
   "source": []
  },
  {
   "cell_type": "markdown",
   "metadata": {},
   "source": [
    "# Test particles"
   ]
  },
  {
   "cell_type": "code",
   "execution_count": 26,
   "metadata": {},
   "outputs": [],
   "source": [
    "def find_axis_intercepts(x_coords, y_coords):\n",
    "    x_intercepts = []\n",
    "    y_intercepts = []\n",
    "\n",
    "    for i in range(len(x_coords)):\n",
    "        x1, y1 = x_coords[i], y_coords[i]\n",
    "        x2, y2 = x_coords[(i + 1) % len(x_coords)], y_coords[(i + 1) % len(y_coords)]\n",
    "\n",
    "        if x1 == x2:\n",
    "        # Vertical line, no y-intercept\n",
    "            y_intercept = 0.0 if x1 == x2 == 0.0 else None\n",
    "        else:\n",
    "            slope = (y2 - y1) / (x2 - x1)\n",
    "            y_intercept = y1 - (slope * x1)\n",
    "\n",
    "        if y1 == y2:\n",
    "        # Horizontal line, no x-intercept\n",
    "            x_intercept = 0.0 if y1 == y2 == 0.0 else None\n",
    "        else:\n",
    "            slope = (x2 - x1) / (y2 - y1)\n",
    "            x_intercept = x1 - (slope * y1)\n",
    "\n",
    "        # Check if the x-intercept is within the range of x1 and x2\n",
    "        if x_intercept is not None and (x1 <= x_intercept <= x2 or x2 <= x_intercept <= x1):\n",
    "            x_intercepts.append(x_intercept)\n",
    "\n",
    "        # Check if the y-intercept is within the range of y1 and y2\n",
    "        if y_intercept is not None and (y1 <= y_intercept <= y2 or y2 <= y_intercept <= y1):\n",
    "            y_intercepts.append(y_intercept)\n",
    "\n",
    "    return x_intercepts, y_intercepts\n",
    "\n",
    "\n",
    "\n",
    "def find_bad_offset_apertures(line):\n",
    "    aperture_offsets = {}\n",
    "    for name, element in line.element_dict.items():\n",
    "        if 'offset' in name and element.__class__.__name__.startswith('XYShift'):\n",
    "            aper_name = name.split('_offset')[0]\n",
    "            aperture_offsets[aper_name] = (element.dx, element.dy)\n",
    "\n",
    "    bad_apers = {}\n",
    "    print('vmabc.4l2.b.b2_aper' in aperture_offsets.keys())\n",
    "    for ap_name, offset in aperture_offsets.items():\n",
    "        aperture_el = line.element_dict[ap_name]\n",
    "\n",
    "        cname= aperture_el.__class__.__name__\n",
    "        ap_dict = aperture_el.to_dict()\n",
    "\n",
    "        if cname == 'LimitEllipse':\n",
    "            x_min = -ap_dict['a']\n",
    "            x_max = ap_dict['a']\n",
    "            y_min = -ap_dict['b']\n",
    "            y_max = ap_dict['b']\n",
    "        elif cname == 'LimitRect':\n",
    "            x_min = ap_dict['min_x']\n",
    "            x_max = ap_dict['max_x']\n",
    "            y_min = ap_dict['min_y']\n",
    "            y_max = ap_dict['max_y']\n",
    "        elif cname == 'LimitRectEllipse':\n",
    "            x_min = -ap_dict['max_x']\n",
    "            x_max = ap_dict['max_x']\n",
    "            y_min = -ap_dict['max_y']\n",
    "            y_max = ap_dict['max_y']\n",
    "        elif cname == 'LimitRacetrack':\n",
    "            x_min = ap_dict['min_x']\n",
    "            x_max = ap_dict['max_x']\n",
    "            y_min = ap_dict['min_y']\n",
    "            y_max = ap_dict['max_y']\n",
    "        elif cname == 'LimitPolygon':\n",
    "            x_intercepts, y_intercepts = find_axis_intercepts(ap_dict['x_vertices'],\n",
    "                                                            ap_dict['y_vertices'])\n",
    "            x_min = min(x_intercepts)\n",
    "            x_max = max(x_intercepts)\n",
    "            y_min = min(y_intercepts)\n",
    "            y_max = max(y_intercepts)\n",
    "\n",
    "        tolerance = 5e-3\n",
    "        \"\"\"if (x_max - offset[0] < tolerance \n",
    "            or -x_min + offset[0] < tolerance \n",
    "            or y_max - offset[1] < tolerance \n",
    "            or -y_min + offset[1] < tolerance):\"\"\"\n",
    "        if (offset[0] -x_max > tolerance \n",
    "            or  -offset[0] + x_min > tolerance \n",
    "            or  offset[1] - y_max > tolerance \n",
    "            or  -offset[1] + y_min > tolerance ):\n",
    "                bad_apers[ap_name] = (x_min, x_max, y_min, y_max, offset[0], offset[1])\n",
    "\n",
    "    return bad_apers\n",
    "\n"
   ]
  },
  {
   "cell_type": "code",
   "execution_count": 27,
   "metadata": {},
   "outputs": [
    {
     "name": "stdout",
     "output_type": "stream",
     "text": [
      "Done loading line from dict.           \n",
      "True\n",
      "Bad apertures :  {'tctph.4r8.a.b2_aper': (-0.04, 0.04, -0.04, 0.04, 0.16672558295218318, -0.0), 'vmabc.4l2.b.b2_aper': (-0.0315, 0.0315, -0.0315, 0.0315, -0.18383135991897473, -0.0)}\n",
      "Replace bad apertures with Marker\n",
      "Marker(_dummy=0)\n",
      "Marker(_dummy=0)\n",
      "\n",
      "Aperture model check on imported model:\n",
      "Done checking aperture.           \n",
      "0 thin elements miss associated aperture (upstream):\n",
      "[]\n",
      "0 thick elements miss associated aperture (upstream or downstream):\n",
      "[]\n",
      "Compiling ContextCpu kernels...\n",
      "Done compiling ContextCpu kernels.\n",
      "Installing tcl.4l1.b2           as EverestCollimator\n",
      "Installing tcl.5l1.b2           as EverestCollimator\n",
      "Installing tcl.6l1.b2           as EverestCollimator\n",
      "Installing tctph.4r8.b2         as EverestCollimator\n",
      "Installing tctpv.4r8.b2         as EverestCollimator\n",
      "Installing tdisa.a4r8.b2        as EverestCollimator\n",
      "Installing tdisb.a4r8.b2        as EverestCollimator\n",
      "Installing tdisc.a4r8.b2        as EverestCollimator\n",
      "Installing tclia.4l8            as EverestCollimator\n",
      "Installing tclib.6l8.b2         as EverestCollimator\n",
      "Installing tcp.d6r7.b2          as EverestCollimator\n",
      "Installing tcp.c6r7.b2          as EverestCollimator\n",
      "Installing tcp.b6r7.b2          as EverestCollimator\n",
      "Installing tcsg.a6r7.b2         as EverestCollimator\n",
      "Installing tcsg.b5r7.b2         as EverestCollimator\n",
      "Installing tcsg.a5r7.b2         as EverestCollimator\n",
      "Installing tcsg.d4r7.b2         as EverestCollimator\n",
      "Installing tcspm.d4r7.b2        as EverestCollimator\n",
      "Installing tcsg.b4r7.b2         as EverestCollimator\n",
      "Installing tcspm.b4r7.b2        as EverestCollimator\n",
      "Installing tcsg.a4r7.b2         as EverestCollimator\n",
      "Installing tcsg.a4l7.b2         as EverestCollimator\n",
      "Installing tcsg.b5l7.b2         as EverestCollimator\n",
      "Installing tcsg.d5l7.b2         as EverestCollimator\n",
      "Installing tcsg.e5l7.b2         as EverestCollimator\n",
      "Installing tcspm.e5l7.b2        as EverestCollimator\n",
      "Installing tcsg.6l7.b2          as EverestCollimator\n",
      "Installing tcspm.6l7.b2         as EverestCollimator\n",
      "Installing tcla.a6l7.b2         as EverestCollimator\n",
      "Installing tcla.b6l7.b2         as EverestCollimator\n",
      "Installing tcla.c6l7.b2         as EverestCollimator\n",
      "Installing tcla.d6l7.b2         as EverestCollimator\n",
      "Installing tcla.a7l7.b2         as EverestCollimator\n",
      "Installing tcdqa.a4l6.b2        as EverestCollimator\n",
      "Installing tcdqa.c4l6.b2        as EverestCollimator\n",
      "Installing tcdqa.b4l6.b2        as EverestCollimator\n",
      "Installing tcsp.a4l6.b2         as EverestCollimator\n",
      "Installing tctph.4r5.b2         as EverestCollimator\n",
      "Installing tctpv.4r5.b2         as EverestCollimator\n",
      "Installing tcl.4l5.b2           as EverestCollimator\n",
      "Installing tcl.5l5.b2           as EverestCollimator\n",
      "Installing tcl.6l5.b2           as EverestCollimator\n",
      "Installing tcp.6r3.b2           as EverestCollimator\n",
      "Installing tcsg.5r3.b2          as EverestCollimator\n",
      "Installing tcsg.4l3.b2          as EverestCollimator\n",
      "Installing tcsg.a5l3.b2         as EverestCollimator\n",
      "Installing tcsg.b5l3.b2         as EverestCollimator\n",
      "Installing tcla.a5l3.b2         as EverestCollimator\n",
      "Installing tcla.b5l3.b2         as EverestCollimator\n",
      "Installing tcla.6l3.b2          as EverestCollimator\n",
      "Installing tcla.7l3.b2          as EverestCollimator\n",
      "Installing tctph.4r2.b2         as EverestCollimator\n",
      "Installing tctpv.4r2.b2         as EverestCollimator\n",
      "Installing tcld.a11l2.b2        as EverestCollimator\n",
      "Installing tctph.4r1.b2         as EverestCollimator\n",
      "Installing tctpv.4r1.b2         as EverestCollimator\n",
      "Compiling ContextCpu kernels...\n",
      "Done compiling ContextCpu kernels.\n",
      "Installing tcpcv.a6r7.b2        as EverestCrystal\n",
      "Installing tcpch.a5r7.b2        as EverestCrystal\n",
      "Installing tccp.4l3.b2          as EverestCrystal\n",
      "Installing target.4l3.b2        as BlackAbsorber\n",
      "Installing tccs.5r3.b2          as BlackAbsorber\n",
      "\n",
      "Aperture model check after introducing collimators:\n",
      "Done checking aperture.           \n",
      "0 thin elements miss associated aperture (upstream):\n",
      "[]\n",
      "0 thick elements miss associated aperture (upstream or downstream):\n",
      "[]\n",
      "Compiling ContextCpu kernels...\n",
      "Done compiling ContextCpu kernels.\n",
      "Compiling ContextCpu kernels...\n",
      "Done compiling ContextCpu kernels.\n"
     ]
    },
    {
     "name": "stderr",
     "output_type": "stream",
     "text": [
      "/cvmfs/sft.cern.ch/lcg/views/LCG_104a/x86_64-el9-gcc11-opt/lib/python3.9/site-packages/pandas/core/arraylike.py:402: RuntimeWarning:\n",
      "\n",
      "invalid value encountered in minimum\n",
      "\n",
      "/cvmfs/sft.cern.ch/lcg/views/LCG_104a/x86_64-el9-gcc11-opt/lib/python3.9/site-packages/pandas/core/arraylike.py:402: RuntimeWarning:\n",
      "\n",
      "invalid value encountered in minimum\n",
      "\n"
     ]
    },
    {
     "name": "stdout",
     "output_type": "stream",
     "text": [
      "\n",
      "Aperture model check after introducing collimators:\n",
      "Done checking aperture.           \n",
      "0 thin elements miss associated aperture (upstream):\n",
      "[]\n",
      "0 thick elements miss associated aperture (upstream or downstream):\n",
      "[]\n"
     ]
    }
   ],
   "source": [
    "    config_file ='config_sim.yaml'\n",
    "\n",
    "    with open(config_file, 'r') as stream:\n",
    "        config_dict = yaml.safe_load(stream)\n",
    "\n",
    "\n",
    "    context = xo.ContextCpu(omp_num_threads='auto')\n",
    "\n",
    "    sub_dict = config_dict['run']\n",
    "    file_dict = config_dict['input_files']\n",
    "\n",
    "\n",
    "    beam          = sub_dict['beam']\n",
    "    plane         = sub_dict['plane']\n",
    "\n",
    "    num_turns     = sub_dict['turns']\n",
    "    num_particles = sub_dict['nparticles']\n",
    "    engine        = sub_dict['engine']\n",
    "\n",
    "    TTCS_align_angle_step = sub_dict['TTCS_align_angle_step']\n",
    "\n",
    "\n",
    "    # Load from json\n",
    "    line = xt.Line.from_json(file_dict[f'line_b{beam}'])\n",
    "\n",
    "    end_s = line.get_length()\n",
    "\n",
    "\n",
    "    TCCS_loc = end_s - 6773.7 #6775\n",
    "    TCCP_loc = end_s - 6653.3 #6655\n",
    "    TARGET_loc = end_s - (6653.3 + 0.07/2 +0.005/2)\n",
    "\n",
    "\n",
    "    line.insert_element(at_s=TCCS_loc, element=xt.Marker(), name='tccs.5r3.b2')\n",
    "    line.insert_element(at_s=TCCS_loc, element=xt.LimitEllipse(a_squ=0.0016, b_squ=0.0016, a_b_squ=2.56e-06), name='tccs.5r3.b2_aper')\n",
    "    line.insert_element(at_s=TCCP_loc, element=xt.Marker(), name='tccp.4l3.b2')\n",
    "    line.insert_element(at_s=TCCP_loc, element=xt.LimitEllipse(a_squ=0.0016, b_squ=0.0016, a_b_squ=2.56e-06), name='tccp.4l3.b2_aper')\n",
    "    line.insert_element(at_s=TARGET_loc, element=xt.Marker(), name='target.4l3.b2')\n",
    "    line.insert_element(at_s=TARGET_loc, element=xt.LimitEllipse(a_squ=0.0016, b_squ=0.0016, a_b_squ=2.56e-06), name='target.4l3.b2_aper')\n",
    "\n",
    "\n",
    "    bad_aper = find_bad_offset_apertures(line)\n",
    "    print('Bad apertures : ', bad_aper)\n",
    "    print('Replace bad apertures with Marker')\n",
    "    for name in bad_aper.keys():\n",
    "        line.element_dict[name] = xt.Marker()\n",
    "        print(line.element_dict[name])\n",
    "\n",
    "\n",
    "\n",
    "    # Aperture model check\n",
    "    print('\\nAperture model check on imported model:')\n",
    "    df_imported = line.check_aperture()\n",
    "    assert not np.any(df_imported.has_aperture_problem)\n",
    "\n",
    "    coll_manager = xc.CollimatorManager.from_yaml(file_dict['collimators'], line=line, beam=beam, _context=context, ignore_crystals=False)\n",
    "\n",
    "    if engine == 'everest':\n",
    "        coll_names = coll_manager.collimator_names\n",
    "        black_absorbers = ['target.4l3.b2', 'tccs.5r3.b2']\n",
    "        everest_colls = [name for name in coll_names if name not in black_absorbers]\n",
    "        coll_manager.install_everest_collimators(names=everest_colls,verbose=True)\n",
    "        coll_manager.install_black_absorbers(names = black_absorbers, verbose=True)\n",
    "    else:\n",
    "        raise ValueError(f\"Unknown scattering engine {engine}!\")\n",
    "\n",
    "\n",
    "    # Aperture model check\n",
    "    print('\\nAperture model check after introducing collimators:')\n",
    "    df_with_coll = line.check_aperture()\n",
    "    assert not np.any(df_with_coll.has_aperture_problem)\n",
    "\n",
    "        \n",
    "    # Build the tracker\n",
    "    coll_manager.build_tracker()\n",
    "\n",
    "    coll_manager.set_openings()\n",
    "\n",
    "\n",
    "    TTCS_name = 'tccs.5r3.b2'\n",
    "\n",
    "    # Aperture model check\n",
    "    print('\\nAperture model check after introducing collimators:')\n",
    "    df_with_coll = line.check_aperture()\n",
    "\n",
    "\n"
   ]
  },
  {
   "cell_type": "code",
   "execution_count": null,
   "metadata": {},
   "outputs": [],
   "source": []
  },
  {
   "cell_type": "code",
   "execution_count": null,
   "metadata": {},
   "outputs": [],
   "source": [
    "#df_new =  pd.read_hdf('/afs/cern.ch/work/c/cmaccani/xsuite_sim/twocryst_sim/Condor/TEST_B2V_ABS_CRY1__20231113-1818/Job.77/Outputdata/particles_B2V.h5')"
   ]
  },
  {
   "cell_type": "code",
   "execution_count": 28,
   "metadata": {},
   "outputs": [
    {
     "ename": "",
     "evalue": "",
     "output_type": "error",
     "traceback": [
      "\u001b[1;31mThe Kernel crashed while executing code in the the current cell or a previous cell. Please review the code in the cell(s) to identify a possible cause of the failure. Click <a href='https://aka.ms/vscodeJupyterKernelCrash'>here</a> for more info. View Jupyter <a href='command:jupyter.viewOutput'>log</a> for further details."
     ]
    }
   ],
   "source": [
    "    prefix_name = 'TEST_B2V_ABS_CRY1_5.5_'\n",
    "    Condor_path = '/afs/cern.ch/work/c/cmaccani/xsuite_sim/twocryst_sim/Condor/'\n",
    "    test_list = [Condor_path + i for i in os.listdir(Condor_path) if prefix_name in i]\n",
    "    \n",
    "    for test_name in test_list:\n",
    "\n",
    "        job_directories = [test_name + '/' + i for i in os.listdir(test_name) if 'Job.' in i]\n",
    "        n_jobs = len(job_directories)  \n",
    "        df_particles =  pd.DataFrame()\n",
    "\n",
    "        n_jobs_verify = 0 \n",
    "\n",
    "        for job_dir in job_directories:\n",
    "                part_file = [filename for filename in os.listdir(job_dir +'/Outputdata') if filename.startswith(\"particles_\")]\n",
    "                if part_file:\n",
    "                    df_tmp = pd.read_hdf(job_dir +'/Outputdata/' + part_file[0])\n",
    "                    df_particles = pd.concat([df_particles, df_tmp])\n",
    "                    n_jobs_verify = n_jobs_verify + 1 \n",
    "\n",
    "\n",
    "        if n_jobs != n_jobs_verify:\n",
    "            print(\"!!! Succesful Jobs: \", n_jobs_verify, '/', n_jobs, ' in file: ', test_name)"
   ]
  },
  {
   "cell_type": "code",
   "execution_count": null,
   "metadata": {},
   "outputs": [
    {
     "ename": "NameError",
     "evalue": "name 'df_particles' is not defined",
     "output_type": "error",
     "traceback": [
      "\u001b[0;31m---------------------------------------------------------------------------\u001b[0m",
      "\u001b[0;31mNameError\u001b[0m                                 Traceback (most recent call last)",
      "\u001b[0;32m/tmp/cmaccani/ipykernel_255888/1268743152.py\u001b[0m in \u001b[0;36m<module>\u001b[0;34m\u001b[0m\n\u001b[0;32m----> 1\u001b[0;31m \u001b[0mdf_particles\u001b[0m\u001b[0;34m\u001b[0m\u001b[0;34m\u001b[0m\u001b[0m\n\u001b[0m",
      "\u001b[0;31mNameError\u001b[0m: name 'df_particles' is not defined"
     ]
    }
   ],
   "source": [
    "df_particles"
   ]
  },
  {
   "cell_type": "code",
   "execution_count": 23,
   "metadata": {},
   "outputs": [],
   "source": [
    "line_coll = coll_manager.line\n",
    "TCCS_idx = line_coll.element_names.index('tccs.5r3.b2')\n",
    "cry_impact_parts = df_particles[(df_particles.at_element == TCCS_idx) & (df_particles.state<0)]"
   ]
  },
  {
   "cell_type": "code",
   "execution_count": 24,
   "metadata": {},
   "outputs": [
    {
     "data": {
      "text/html": [
       "<div>\n",
       "<style scoped>\n",
       "    .dataframe tbody tr th:only-of-type {\n",
       "        vertical-align: middle;\n",
       "    }\n",
       "\n",
       "    .dataframe tbody tr th {\n",
       "        vertical-align: top;\n",
       "    }\n",
       "\n",
       "    .dataframe thead th {\n",
       "        text-align: right;\n",
       "    }\n",
       "</style>\n",
       "<table border=\"1\" class=\"dataframe\">\n",
       "  <thead>\n",
       "    <tr style=\"text-align: right;\">\n",
       "      <th></th>\n",
       "      <th>start_tracking_at_element</th>\n",
       "      <th>q0</th>\n",
       "      <th>mass0</th>\n",
       "      <th>s</th>\n",
       "      <th>zeta</th>\n",
       "      <th>chi</th>\n",
       "      <th>charge_ratio</th>\n",
       "      <th>weight</th>\n",
       "      <th>pdg_id</th>\n",
       "      <th>particle_id</th>\n",
       "      <th>...</th>\n",
       "      <th>y</th>\n",
       "      <th>px</th>\n",
       "      <th>py</th>\n",
       "      <th>delta</th>\n",
       "      <th>ptau</th>\n",
       "      <th>rvv</th>\n",
       "      <th>rpp</th>\n",
       "      <th>p0c</th>\n",
       "      <th>beta0</th>\n",
       "      <th>gamma0</th>\n",
       "    </tr>\n",
       "  </thead>\n",
       "  <tbody>\n",
       "    <tr>\n",
       "      <th>7886</th>\n",
       "      <td>-1</td>\n",
       "      <td>1.0</td>\n",
       "      <td>9.382721e+08</td>\n",
       "      <td>19885.181172</td>\n",
       "      <td>0.004646</td>\n",
       "      <td>1.0</td>\n",
       "      <td>1.0</td>\n",
       "      <td>1.0</td>\n",
       "      <td>0</td>\n",
       "      <td>31611</td>\n",
       "      <td>...</td>\n",
       "      <td>0.002140</td>\n",
       "      <td>1.150742e-06</td>\n",
       "      <td>-0.000015</td>\n",
       "      <td>-0.000105</td>\n",
       "      <td>-0.000105</td>\n",
       "      <td>1.0</td>\n",
       "      <td>1.000105</td>\n",
       "      <td>6.800000e+12</td>\n",
       "      <td>1.0</td>\n",
       "      <td>7247.364689</td>\n",
       "    </tr>\n",
       "    <tr>\n",
       "      <th>9295</th>\n",
       "      <td>-1</td>\n",
       "      <td>1.0</td>\n",
       "      <td>9.382721e+08</td>\n",
       "      <td>19885.181172</td>\n",
       "      <td>0.010652</td>\n",
       "      <td>1.0</td>\n",
       "      <td>1.0</td>\n",
       "      <td>1.0</td>\n",
       "      <td>0</td>\n",
       "      <td>8566</td>\n",
       "      <td>...</td>\n",
       "      <td>0.001953</td>\n",
       "      <td>-8.796302e-07</td>\n",
       "      <td>-0.000021</td>\n",
       "      <td>-0.000091</td>\n",
       "      <td>-0.000091</td>\n",
       "      <td>1.0</td>\n",
       "      <td>1.000091</td>\n",
       "      <td>6.800000e+12</td>\n",
       "      <td>1.0</td>\n",
       "      <td>7247.364689</td>\n",
       "    </tr>\n",
       "    <tr>\n",
       "      <th>13605</th>\n",
       "      <td>-1</td>\n",
       "      <td>1.0</td>\n",
       "      <td>9.382721e+08</td>\n",
       "      <td>19885.181172</td>\n",
       "      <td>0.012873</td>\n",
       "      <td>1.0</td>\n",
       "      <td>1.0</td>\n",
       "      <td>1.0</td>\n",
       "      <td>0</td>\n",
       "      <td>93386</td>\n",
       "      <td>...</td>\n",
       "      <td>0.001982</td>\n",
       "      <td>-1.634671e-05</td>\n",
       "      <td>-0.000016</td>\n",
       "      <td>-0.001871</td>\n",
       "      <td>-0.001871</td>\n",
       "      <td>1.0</td>\n",
       "      <td>1.001874</td>\n",
       "      <td>6.800000e+12</td>\n",
       "      <td>1.0</td>\n",
       "      <td>7247.364689</td>\n",
       "    </tr>\n",
       "    <tr>\n",
       "      <th>14328</th>\n",
       "      <td>-1</td>\n",
       "      <td>1.0</td>\n",
       "      <td>9.382721e+08</td>\n",
       "      <td>19885.181172</td>\n",
       "      <td>0.004834</td>\n",
       "      <td>1.0</td>\n",
       "      <td>1.0</td>\n",
       "      <td>1.0</td>\n",
       "      <td>0</td>\n",
       "      <td>62111</td>\n",
       "      <td>...</td>\n",
       "      <td>0.002025</td>\n",
       "      <td>-4.137996e-07</td>\n",
       "      <td>-0.000009</td>\n",
       "      <td>-0.000117</td>\n",
       "      <td>-0.000117</td>\n",
       "      <td>1.0</td>\n",
       "      <td>1.000117</td>\n",
       "      <td>6.800000e+12</td>\n",
       "      <td>1.0</td>\n",
       "      <td>7247.364689</td>\n",
       "    </tr>\n",
       "    <tr>\n",
       "      <th>14338</th>\n",
       "      <td>-1</td>\n",
       "      <td>1.0</td>\n",
       "      <td>9.382721e+08</td>\n",
       "      <td>19885.181172</td>\n",
       "      <td>0.008782</td>\n",
       "      <td>1.0</td>\n",
       "      <td>1.0</td>\n",
       "      <td>1.0</td>\n",
       "      <td>0</td>\n",
       "      <td>17495</td>\n",
       "      <td>...</td>\n",
       "      <td>0.001871</td>\n",
       "      <td>-8.216563e-07</td>\n",
       "      <td>-0.000018</td>\n",
       "      <td>-0.000046</td>\n",
       "      <td>-0.000046</td>\n",
       "      <td>1.0</td>\n",
       "      <td>1.000046</td>\n",
       "      <td>6.800000e+12</td>\n",
       "      <td>1.0</td>\n",
       "      <td>7247.364689</td>\n",
       "    </tr>\n",
       "    <tr>\n",
       "      <th>...</th>\n",
       "      <td>...</td>\n",
       "      <td>...</td>\n",
       "      <td>...</td>\n",
       "      <td>...</td>\n",
       "      <td>...</td>\n",
       "      <td>...</td>\n",
       "      <td>...</td>\n",
       "      <td>...</td>\n",
       "      <td>...</td>\n",
       "      <td>...</td>\n",
       "      <td>...</td>\n",
       "      <td>...</td>\n",
       "      <td>...</td>\n",
       "      <td>...</td>\n",
       "      <td>...</td>\n",
       "      <td>...</td>\n",
       "      <td>...</td>\n",
       "      <td>...</td>\n",
       "      <td>...</td>\n",
       "      <td>...</td>\n",
       "      <td>...</td>\n",
       "    </tr>\n",
       "    <tr>\n",
       "      <th>88216</th>\n",
       "      <td>-1</td>\n",
       "      <td>1.0</td>\n",
       "      <td>9.382721e+08</td>\n",
       "      <td>19885.181172</td>\n",
       "      <td>0.000173</td>\n",
       "      <td>1.0</td>\n",
       "      <td>1.0</td>\n",
       "      <td>1.0</td>\n",
       "      <td>0</td>\n",
       "      <td>81005</td>\n",
       "      <td>...</td>\n",
       "      <td>0.001908</td>\n",
       "      <td>-7.878088e-06</td>\n",
       "      <td>-0.000009</td>\n",
       "      <td>-0.000034</td>\n",
       "      <td>-0.000034</td>\n",
       "      <td>1.0</td>\n",
       "      <td>1.000034</td>\n",
       "      <td>6.800000e+12</td>\n",
       "      <td>1.0</td>\n",
       "      <td>7247.364689</td>\n",
       "    </tr>\n",
       "    <tr>\n",
       "      <th>88217</th>\n",
       "      <td>-1</td>\n",
       "      <td>1.0</td>\n",
       "      <td>9.382721e+08</td>\n",
       "      <td>19885.181172</td>\n",
       "      <td>0.000339</td>\n",
       "      <td>1.0</td>\n",
       "      <td>1.0</td>\n",
       "      <td>1.0</td>\n",
       "      <td>0</td>\n",
       "      <td>74645</td>\n",
       "      <td>...</td>\n",
       "      <td>0.002221</td>\n",
       "      <td>9.207459e-06</td>\n",
       "      <td>-0.000012</td>\n",
       "      <td>-0.000073</td>\n",
       "      <td>-0.000073</td>\n",
       "      <td>1.0</td>\n",
       "      <td>1.000073</td>\n",
       "      <td>6.800000e+12</td>\n",
       "      <td>1.0</td>\n",
       "      <td>7247.364689</td>\n",
       "    </tr>\n",
       "    <tr>\n",
       "      <th>88218</th>\n",
       "      <td>-1</td>\n",
       "      <td>1.0</td>\n",
       "      <td>9.382721e+08</td>\n",
       "      <td>19885.181172</td>\n",
       "      <td>0.000294</td>\n",
       "      <td>1.0</td>\n",
       "      <td>1.0</td>\n",
       "      <td>1.0</td>\n",
       "      <td>0</td>\n",
       "      <td>94124</td>\n",
       "      <td>...</td>\n",
       "      <td>0.001969</td>\n",
       "      <td>-7.273146e-06</td>\n",
       "      <td>-0.000009</td>\n",
       "      <td>-0.000061</td>\n",
       "      <td>-0.000061</td>\n",
       "      <td>1.0</td>\n",
       "      <td>1.000061</td>\n",
       "      <td>6.800000e+12</td>\n",
       "      <td>1.0</td>\n",
       "      <td>7247.364689</td>\n",
       "    </tr>\n",
       "    <tr>\n",
       "      <th>88219</th>\n",
       "      <td>-1</td>\n",
       "      <td>1.0</td>\n",
       "      <td>9.382721e+08</td>\n",
       "      <td>19885.181172</td>\n",
       "      <td>0.000469</td>\n",
       "      <td>1.0</td>\n",
       "      <td>1.0</td>\n",
       "      <td>1.0</td>\n",
       "      <td>0</td>\n",
       "      <td>54576</td>\n",
       "      <td>...</td>\n",
       "      <td>0.003295</td>\n",
       "      <td>-9.150855e-07</td>\n",
       "      <td>-0.000018</td>\n",
       "      <td>-0.000099</td>\n",
       "      <td>-0.000099</td>\n",
       "      <td>1.0</td>\n",
       "      <td>1.000099</td>\n",
       "      <td>6.800000e+12</td>\n",
       "      <td>1.0</td>\n",
       "      <td>7247.364689</td>\n",
       "    </tr>\n",
       "    <tr>\n",
       "      <th>88220</th>\n",
       "      <td>-1</td>\n",
       "      <td>1.0</td>\n",
       "      <td>9.382721e+08</td>\n",
       "      <td>19885.181172</td>\n",
       "      <td>0.001116</td>\n",
       "      <td>1.0</td>\n",
       "      <td>1.0</td>\n",
       "      <td>1.0</td>\n",
       "      <td>0</td>\n",
       "      <td>98227</td>\n",
       "      <td>...</td>\n",
       "      <td>0.001883</td>\n",
       "      <td>1.567580e-05</td>\n",
       "      <td>-0.000023</td>\n",
       "      <td>-0.000245</td>\n",
       "      <td>-0.000245</td>\n",
       "      <td>1.0</td>\n",
       "      <td>1.000245</td>\n",
       "      <td>6.800000e+12</td>\n",
       "      <td>1.0</td>\n",
       "      <td>7247.364689</td>\n",
       "    </tr>\n",
       "  </tbody>\n",
       "</table>\n",
       "<p>10975 rows × 29 columns</p>\n",
       "</div>"
      ],
      "text/plain": [
       "       start_tracking_at_element   q0         mass0             s      zeta  \\\n",
       "7886                          -1  1.0  9.382721e+08  19885.181172  0.004646   \n",
       "9295                          -1  1.0  9.382721e+08  19885.181172  0.010652   \n",
       "13605                         -1  1.0  9.382721e+08  19885.181172  0.012873   \n",
       "14328                         -1  1.0  9.382721e+08  19885.181172  0.004834   \n",
       "14338                         -1  1.0  9.382721e+08  19885.181172  0.008782   \n",
       "...                          ...  ...           ...           ...       ...   \n",
       "88216                         -1  1.0  9.382721e+08  19885.181172  0.000173   \n",
       "88217                         -1  1.0  9.382721e+08  19885.181172  0.000339   \n",
       "88218                         -1  1.0  9.382721e+08  19885.181172  0.000294   \n",
       "88219                         -1  1.0  9.382721e+08  19885.181172  0.000469   \n",
       "88220                         -1  1.0  9.382721e+08  19885.181172  0.001116   \n",
       "\n",
       "       chi  charge_ratio  weight  pdg_id  particle_id  ...         y  \\\n",
       "7886   1.0           1.0     1.0       0        31611  ...  0.002140   \n",
       "9295   1.0           1.0     1.0       0         8566  ...  0.001953   \n",
       "13605  1.0           1.0     1.0       0        93386  ...  0.001982   \n",
       "14328  1.0           1.0     1.0       0        62111  ...  0.002025   \n",
       "14338  1.0           1.0     1.0       0        17495  ...  0.001871   \n",
       "...    ...           ...     ...     ...          ...  ...       ...   \n",
       "88216  1.0           1.0     1.0       0        81005  ...  0.001908   \n",
       "88217  1.0           1.0     1.0       0        74645  ...  0.002221   \n",
       "88218  1.0           1.0     1.0       0        94124  ...  0.001969   \n",
       "88219  1.0           1.0     1.0       0        54576  ...  0.003295   \n",
       "88220  1.0           1.0     1.0       0        98227  ...  0.001883   \n",
       "\n",
       "                 px        py     delta      ptau  rvv       rpp  \\\n",
       "7886   1.150742e-06 -0.000015 -0.000105 -0.000105  1.0  1.000105   \n",
       "9295  -8.796302e-07 -0.000021 -0.000091 -0.000091  1.0  1.000091   \n",
       "13605 -1.634671e-05 -0.000016 -0.001871 -0.001871  1.0  1.001874   \n",
       "14328 -4.137996e-07 -0.000009 -0.000117 -0.000117  1.0  1.000117   \n",
       "14338 -8.216563e-07 -0.000018 -0.000046 -0.000046  1.0  1.000046   \n",
       "...             ...       ...       ...       ...  ...       ...   \n",
       "88216 -7.878088e-06 -0.000009 -0.000034 -0.000034  1.0  1.000034   \n",
       "88217  9.207459e-06 -0.000012 -0.000073 -0.000073  1.0  1.000073   \n",
       "88218 -7.273146e-06 -0.000009 -0.000061 -0.000061  1.0  1.000061   \n",
       "88219 -9.150855e-07 -0.000018 -0.000099 -0.000099  1.0  1.000099   \n",
       "88220  1.567580e-05 -0.000023 -0.000245 -0.000245  1.0  1.000245   \n",
       "\n",
       "                p0c  beta0       gamma0  \n",
       "7886   6.800000e+12    1.0  7247.364689  \n",
       "9295   6.800000e+12    1.0  7247.364689  \n",
       "13605  6.800000e+12    1.0  7247.364689  \n",
       "14328  6.800000e+12    1.0  7247.364689  \n",
       "14338  6.800000e+12    1.0  7247.364689  \n",
       "...             ...    ...          ...  \n",
       "88216  6.800000e+12    1.0  7247.364689  \n",
       "88217  6.800000e+12    1.0  7247.364689  \n",
       "88218  6.800000e+12    1.0  7247.364689  \n",
       "88219  6.800000e+12    1.0  7247.364689  \n",
       "88220  6.800000e+12    1.0  7247.364689  \n",
       "\n",
       "[10975 rows x 29 columns]"
      ]
     },
     "execution_count": 24,
     "metadata": {},
     "output_type": "execute_result"
    }
   ],
   "source": [
    "cry_impact_parts"
   ]
  },
  {
   "cell_type": "code",
   "execution_count": 25,
   "metadata": {},
   "outputs": [
    {
     "data": {
      "text/plain": [
       "2743750"
      ]
     },
     "execution_count": 25,
     "metadata": {},
     "output_type": "execute_result"
    }
   ],
   "source": [
    "losses_df = ThisLM._losses\n",
    "int(losses_df[losses_df['name']=='tccs.5r3.b2']['losses'])"
   ]
  },
  {
   "cell_type": "code",
   "execution_count": 26,
   "metadata": {},
   "outputs": [
    {
     "data": {
      "text/plain": [
       "10975.0"
      ]
     },
     "execution_count": 26,
     "metadata": {},
     "output_type": "execute_result"
    }
   ],
   "source": [
    "int(losses_df[losses_df['name']=='tccs.5r3.b2']['losses'])*0.004"
   ]
  },
  {
   "cell_type": "code",
   "execution_count": 27,
   "metadata": {},
   "outputs": [],
   "source": [
    "twiss=line_coll.twiss()\n",
    "TCCS_name = 'tccs.5r3.b2'\n",
    "beta_y_optics = twiss['bety',TCCS_name]\n",
    "alfa_y_optics = twiss['alfy',TCCS_name]\n",
    "\n",
    "part_ref_dict = json.load(open(file_dict[f'line_b{beam}']))['particle_ref']\n",
    "critical_angle = np.sqrt(2*16/(part_ref_dict['p0c'][0]*part_ref_dict['beta0'][0]))\n",
    "\n",
    "normalized_emittance = 3.5e-6\n",
    "emittance_phy = normalized_emittance/(part_ref_dict['beta0'][0]*part_ref_dict['gamma0'][0])\n",
    "\n",
    "n_sig = 5.5 \n",
    "\n",
    "py_central = - n_sig * alfa_y_optics * np.sqrt(emittance_phy/beta_y_optics)"
   ]
  },
  {
   "cell_type": "code",
   "execution_count": 28,
   "metadata": {},
   "outputs": [
    {
     "data": {
      "text/plain": [
       "2.1693045988364824e-06"
      ]
     },
     "execution_count": 28,
     "metadata": {},
     "output_type": "execute_result"
    }
   ],
   "source": [
    "critical_angle"
   ]
  },
  {
   "cell_type": "code",
   "execution_count": 29,
   "metadata": {},
   "outputs": [
    {
     "data": {
      "image/png": "[encoded data removed]",
      "text/plain": [
       "<Figure size 2400x500 with 4 Axes>"
      ]
     },
     "metadata": {},
     "output_type": "display_data"
    }
   ],
   "source": [
    "\n",
    "    fig1 = plt.figure( figsize=(24, 5))\n",
    "    ax1 = fig1.add_subplot(1,3,1)\n",
    "    ax1.hist(cry_impact_parts['px'], bins=100)\n",
    "    ax1.set_xlabel(r'px [$\\mu$rad]')\n",
    "    ax1.set_ylabel(\"\")\n",
    "    ax1.set_yscale(\"log\")\n",
    "    precision = 6  # Set the desired precision\n",
    "    ax1.set_xticks(ticks=plt.xticks()[0], labels=[f\"{x*1e6:.{0}f}\" for x in plt.xticks()[0]])\n",
    "    #ax1.ticklabel_format(style='sci', axis='x', scilimits=(0,0), useMathText=True)\n",
    "\n",
    "\n",
    "    ax2 = fig1.add_subplot(1,3,2)\n",
    "    ax2.hist(cry_impact_parts['py'], bins=100) \n",
    "    ax2.set_xlabel(r'py [$\\mu$rad]')\n",
    "    ax2.set_ylabel('')\n",
    "    ax2.set_yscale(\"log\")\n",
    "    ax2.axvline(py_central, color = 'red', linestyle = '-', alpha = 0.8)\n",
    "    ax2.axvline(py_central + critical_angle, color = 'red', linestyle = '--', alpha = 0.9)\n",
    "    ax2.axvline(py_central - critical_angle, color = 'red', linestyle = '--', alpha = 0.9)\n",
    "    ax2.set_xticks(ticks=plt.xticks()[0], labels=[f\"{x*1e6:.{0}f}\" for x in plt.xticks()[0]])\n",
    "    #ax2.ticklabel_format(style='sci', axis='x', scilimits=(0,0), useMathText=True)\n",
    "\n",
    "    ax3 = fig1.add_subplot(1,3,3)\n",
    "    h = ax3.hist2d(cry_impact_parts['px'], cry_impact_parts['py'], bins=100, norm=matplotlib.colors.LogNorm(), range = ([-40e-6, 40e-6], [-40e-6,40e-6])) \n",
    "    ax3.set_xlabel(r'px [$\\mu$rad]')\n",
    "    ax3.set_ylabel(r'py [$\\mu$rad]')\n",
    "    ax3.set_xticks(ticks=plt.xticks()[0], labels=[f\"{x*1e6:.{0}f}\" for x in plt.xticks()[0]])\n",
    "    ax3.set_yticks(ticks=plt.yticks()[0], labels=[f\"{y*1e6:.{0}f}\" for y in plt.yticks()[0]])\n",
    "    fig1.colorbar(h[3], orientation='vertical', label='Count (log scale)')\n",
    "\n",
    "    fig1.suptitle('CRY 1 at')\n",
    "    #ax3.ticklabel_format(style='sci', axis='x', scilimits=(0,0), useMathText=True)\n",
    "    #ax3.ticklabel_format(style='sci', axis='y'\n",
    "    # , scilimits=(0,0), useMathText=True)\n",
    "\n",
    "    fig1.savefig(\"./Outputdata/impact_angles_test.png\")"
   ]
  },
  {
   "cell_type": "code",
   "execution_count": null,
   "metadata": {},
   "outputs": [],
   "source": []
  },
  {
   "cell_type": "code",
   "execution_count": 33,
   "metadata": {},
   "outputs": [],
   "source": [
    "    config_file ='config_sim.yaml'\n",
    "\n",
    "    with open(config_file, 'r') as stream:\n",
    "        config_dict = yaml.safe_load(stream)\n",
    "\n",
    "\n",
    "    coll_file = config_dict['input_files']['collimators']\n",
    "    with open(coll_file, 'r') as stream:\n",
    "        coll_dict = yaml.safe_load(stream)['collimators']['b'+config_dict['run']['beam']]"
   ]
  },
  {
   "cell_type": "code",
   "execution_count": 35,
   "metadata": {},
   "outputs": [],
   "source": [
    "    TCP_name = 'tcp.d6r7.b2'\n",
    "    TCCS_name = 'tccs.5r3.b2'\n",
    "    Target_name = 'target.4l3.b2'\n",
    "    TCLA_name = 'tcla.a5l3.b2'"
   ]
  },
  {
   "cell_type": "code",
   "execution_count": 37,
   "metadata": {},
   "outputs": [
    {
     "data": {
      "text/plain": [
       "0.6"
      ]
     },
     "execution_count": 37,
     "metadata": {},
     "output_type": "execute_result"
    }
   ],
   "source": [
    "coll_dict[TCP_name]['length']"
   ]
  },
  {
   "cell_type": "code",
   "execution_count": 27,
   "metadata": {},
   "outputs": [
    {
     "data": {
      "text/plain": [
       "'2'"
      ]
     },
     "execution_count": 27,
     "metadata": {},
     "output_type": "execute_result"
    }
   ],
   "source": [
    "config_dict['run']['beam']"
   ]
  },
  {
   "cell_type": "code",
   "execution_count": null,
   "metadata": {},
   "outputs": [],
   "source": []
  }
 ],
 "metadata": {
  "@webio": {
   "lastCommId": null,
   "lastKernelId": null
  },
  "kernelspec": {
   "display_name": "Python 3 (ipykernel)",
   "language": "python",
   "name": "python3"
  },
  "language_info": {
   "codemirror_mode": {
    "name": "ipython",
    "version": 3
   },
   "file_extension": ".py",
   "mimetype": "text/x-python",
   "name": "python",
   "nbconvert_exporter": "python",
   "pygments_lexer": "ipython3",
   "version": "3.9.12"
  },
  "sparkconnect": {
   "bundled_options": [
    "NXCALS"
   ],
   "list_of_options": []
  }
 },
 "nbformat": 4,
 "nbformat_minor": 5
}
