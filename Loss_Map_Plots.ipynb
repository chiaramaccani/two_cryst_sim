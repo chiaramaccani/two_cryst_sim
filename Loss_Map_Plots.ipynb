{
 "cells": [
  {
   "cell_type": "code",
   "execution_count": 1,
   "id": "dc8890bd",
   "metadata": {},
   "outputs": [
    {
     "name": "stdout",
     "output_type": "stream",
     "text": [
      "No pytransport functionality\n",
      "No pytransport functionality\n"
     ]
    }
   ],
   "source": [
    "import json\n",
    "import os\n",
    "import subprocess\n",
    "\n",
    "import numpy as np\n",
    "from pathlib import Path\n",
    "import yaml\n",
    "import matplotlib\n",
    "import matplotlib.pyplot as plt\n",
    "import pandas as pd\n",
    "\n",
    "from matplotlib.ticker import MaxNLocator\n",
    "import lossmaps as lm\n",
    "import xobjects as xo\n",
    "\n",
    "import xtrack as xt\n",
    "import xcoll as xc\n",
    "\n",
    "import lossmaps as lm"
   ]
  },
  {
   "cell_type": "markdown",
   "id": "6714695f",
   "metadata": {},
   "source": [
    "# Load"
   ]
  },
  {
   "cell_type": "code",
   "execution_count": 2,
   "id": "f9a17302",
   "metadata": {},
   "outputs": [],
   "source": [
    "path = '/afs/cern.ch/work/c/cmaccani/xsuite_sim/twocryst_sim/Condor/'"
   ]
  },
  {
   "cell_type": "code",
   "execution_count": 3,
   "id": "2525d6a1",
   "metadata": {},
   "outputs": [],
   "source": [
    "n_test = 'TEST_B2V_align_test_CRY6.0'\n",
    "prefix_name =  'TEST_B2V_align_test_CRY5.0_15_'"
   ]
  },
  {
   "cell_type": "code",
   "execution_count": 4,
   "id": "a827e4da",
   "metadata": {},
   "outputs": [],
   "source": [
    "\n",
    "test_list = (subprocess.check_output(\"find \"+ path +\" -maxdepth 1 -mindepth 1 -type d | grep \" + prefix_name, shell=True)).decode('ascii').strip().splitlines()"
   ]
  },
  {
   "cell_type": "code",
   "execution_count": 5,
   "metadata": {},
   "outputs": [
    {
     "data": {
      "text/plain": [
       "['/afs/cern.ch/work/c/cmaccani/xsuite_sim/twocryst_sim/Condor/TEST_B2V_align_test_CRY5.0_15__20231110-1733']"
      ]
     },
     "execution_count": 5,
     "metadata": {},
     "output_type": "execute_result"
    }
   ],
   "source": [
    "test_list"
   ]
  },
  {
   "cell_type": "code",
   "execution_count": 6,
   "metadata": {},
   "outputs": [],
   "source": [
    "    for test_name in test_list:\n",
    "\n",
    "        n_jobs = int(subprocess.check_output(\"find \"+ test_name +\" -maxdepth 1 -mindepth 1 -type d | grep Job. | wc -l\", shell=True))\n",
    "\n",
    "        losses_json =[]\n",
    "\n",
    "        for i in range(n_jobs):\n",
    "            file_path = (subprocess.check_output(\"echo \" + test_name + '/Job.' + str(i) + '/Outputdata/lossmap*.json', shell=True)).decode('ascii').strip()\n",
    "            if os.path.exists(file_path):\n",
    "                losses_json.append(file_path)\n",
    "\n",
    "        n_jobs_verify  = len(losses_json)\n",
    "        if n_jobs != n_jobs_verify:\n",
    "            print(\"!!! Succesful Jobs: \", n_jobs_verify, '/', n_jobs, ' in file: ', test_name)"
   ]
  },
  {
   "cell_type": "code",
   "execution_count": 7,
   "metadata": {},
   "outputs": [
    {
     "data": {
      "text/plain": [
       "['/afs/cern.ch/work/c/cmaccani/xsuite_sim/twocryst_sim/Condor/TEST_B2V_align_test_CRY5.0_15__20231110-1733/Job.0/Outputdata/lossmap_B2V.json',\n",
       " '/afs/cern.ch/work/c/cmaccani/xsuite_sim/twocryst_sim/Condor/TEST_B2V_align_test_CRY5.0_15__20231110-1733/Job.1/Outputdata/lossmap_B2V.json',\n",
       " '/afs/cern.ch/work/c/cmaccani/xsuite_sim/twocryst_sim/Condor/TEST_B2V_align_test_CRY5.0_15__20231110-1733/Job.2/Outputdata/lossmap_B2V.json',\n",
       " '/afs/cern.ch/work/c/cmaccani/xsuite_sim/twocryst_sim/Condor/TEST_B2V_align_test_CRY5.0_15__20231110-1733/Job.3/Outputdata/lossmap_B2V.json',\n",
       " '/afs/cern.ch/work/c/cmaccani/xsuite_sim/twocryst_sim/Condor/TEST_B2V_align_test_CRY5.0_15__20231110-1733/Job.4/Outputdata/lossmap_B2V.json',\n",
       " '/afs/cern.ch/work/c/cmaccani/xsuite_sim/twocryst_sim/Condor/TEST_B2V_align_test_CRY5.0_15__20231110-1733/Job.5/Outputdata/lossmap_B2V.json',\n",
       " '/afs/cern.ch/work/c/cmaccani/xsuite_sim/twocryst_sim/Condor/TEST_B2V_align_test_CRY5.0_15__20231110-1733/Job.6/Outputdata/lossmap_B2V.json',\n",
       " '/afs/cern.ch/work/c/cmaccani/xsuite_sim/twocryst_sim/Condor/TEST_B2V_align_test_CRY5.0_15__20231110-1733/Job.7/Outputdata/lossmap_B2V.json',\n",
       " '/afs/cern.ch/work/c/cmaccani/xsuite_sim/twocryst_sim/Condor/TEST_B2V_align_test_CRY5.0_15__20231110-1733/Job.8/Outputdata/lossmap_B2V.json',\n",
       " '/afs/cern.ch/work/c/cmaccani/xsuite_sim/twocryst_sim/Condor/TEST_B2V_align_test_CRY5.0_15__20231110-1733/Job.9/Outputdata/lossmap_B2V.json',\n",
       " '/afs/cern.ch/work/c/cmaccani/xsuite_sim/twocryst_sim/Condor/TEST_B2V_align_test_CRY5.0_15__20231110-1733/Job.10/Outputdata/lossmap_B2V.json',\n",
       " '/afs/cern.ch/work/c/cmaccani/xsuite_sim/twocryst_sim/Condor/TEST_B2V_align_test_CRY5.0_15__20231110-1733/Job.11/Outputdata/lossmap_B2V.json',\n",
       " '/afs/cern.ch/work/c/cmaccani/xsuite_sim/twocryst_sim/Condor/TEST_B2V_align_test_CRY5.0_15__20231110-1733/Job.12/Outputdata/lossmap_B2V.json',\n",
       " '/afs/cern.ch/work/c/cmaccani/xsuite_sim/twocryst_sim/Condor/TEST_B2V_align_test_CRY5.0_15__20231110-1733/Job.13/Outputdata/lossmap_B2V.json',\n",
       " '/afs/cern.ch/work/c/cmaccani/xsuite_sim/twocryst_sim/Condor/TEST_B2V_align_test_CRY5.0_15__20231110-1733/Job.14/Outputdata/lossmap_B2V.json',\n",
       " '/afs/cern.ch/work/c/cmaccani/xsuite_sim/twocryst_sim/Condor/TEST_B2V_align_test_CRY5.0_15__20231110-1733/Job.15/Outputdata/lossmap_B2V.json',\n",
       " '/afs/cern.ch/work/c/cmaccani/xsuite_sim/twocryst_sim/Condor/TEST_B2V_align_test_CRY5.0_15__20231110-1733/Job.16/Outputdata/lossmap_B2V.json',\n",
       " '/afs/cern.ch/work/c/cmaccani/xsuite_sim/twocryst_sim/Condor/TEST_B2V_align_test_CRY5.0_15__20231110-1733/Job.17/Outputdata/lossmap_B2V.json',\n",
       " '/afs/cern.ch/work/c/cmaccani/xsuite_sim/twocryst_sim/Condor/TEST_B2V_align_test_CRY5.0_15__20231110-1733/Job.18/Outputdata/lossmap_B2V.json',\n",
       " '/afs/cern.ch/work/c/cmaccani/xsuite_sim/twocryst_sim/Condor/TEST_B2V_align_test_CRY5.0_15__20231110-1733/Job.19/Outputdata/lossmap_B2V.json',\n",
       " '/afs/cern.ch/work/c/cmaccani/xsuite_sim/twocryst_sim/Condor/TEST_B2V_align_test_CRY5.0_15__20231110-1733/Job.20/Outputdata/lossmap_B2V.json',\n",
       " '/afs/cern.ch/work/c/cmaccani/xsuite_sim/twocryst_sim/Condor/TEST_B2V_align_test_CRY5.0_15__20231110-1733/Job.21/Outputdata/lossmap_B2V.json',\n",
       " '/afs/cern.ch/work/c/cmaccani/xsuite_sim/twocryst_sim/Condor/TEST_B2V_align_test_CRY5.0_15__20231110-1733/Job.22/Outputdata/lossmap_B2V.json',\n",
       " '/afs/cern.ch/work/c/cmaccani/xsuite_sim/twocryst_sim/Condor/TEST_B2V_align_test_CRY5.0_15__20231110-1733/Job.23/Outputdata/lossmap_B2V.json',\n",
       " '/afs/cern.ch/work/c/cmaccani/xsuite_sim/twocryst_sim/Condor/TEST_B2V_align_test_CRY5.0_15__20231110-1733/Job.24/Outputdata/lossmap_B2V.json',\n",
       " '/afs/cern.ch/work/c/cmaccani/xsuite_sim/twocryst_sim/Condor/TEST_B2V_align_test_CRY5.0_15__20231110-1733/Job.25/Outputdata/lossmap_B2V.json',\n",
       " '/afs/cern.ch/work/c/cmaccani/xsuite_sim/twocryst_sim/Condor/TEST_B2V_align_test_CRY5.0_15__20231110-1733/Job.26/Outputdata/lossmap_B2V.json',\n",
       " '/afs/cern.ch/work/c/cmaccani/xsuite_sim/twocryst_sim/Condor/TEST_B2V_align_test_CRY5.0_15__20231110-1733/Job.27/Outputdata/lossmap_B2V.json',\n",
       " '/afs/cern.ch/work/c/cmaccani/xsuite_sim/twocryst_sim/Condor/TEST_B2V_align_test_CRY5.0_15__20231110-1733/Job.28/Outputdata/lossmap_B2V.json',\n",
       " '/afs/cern.ch/work/c/cmaccani/xsuite_sim/twocryst_sim/Condor/TEST_B2V_align_test_CRY5.0_15__20231110-1733/Job.29/Outputdata/lossmap_B2V.json',\n",
       " '/afs/cern.ch/work/c/cmaccani/xsuite_sim/twocryst_sim/Condor/TEST_B2V_align_test_CRY5.0_15__20231110-1733/Job.30/Outputdata/lossmap_B2V.json',\n",
       " '/afs/cern.ch/work/c/cmaccani/xsuite_sim/twocryst_sim/Condor/TEST_B2V_align_test_CRY5.0_15__20231110-1733/Job.31/Outputdata/lossmap_B2V.json',\n",
       " '/afs/cern.ch/work/c/cmaccani/xsuite_sim/twocryst_sim/Condor/TEST_B2V_align_test_CRY5.0_15__20231110-1733/Job.32/Outputdata/lossmap_B2V.json',\n",
       " '/afs/cern.ch/work/c/cmaccani/xsuite_sim/twocryst_sim/Condor/TEST_B2V_align_test_CRY5.0_15__20231110-1733/Job.33/Outputdata/lossmap_B2V.json',\n",
       " '/afs/cern.ch/work/c/cmaccani/xsuite_sim/twocryst_sim/Condor/TEST_B2V_align_test_CRY5.0_15__20231110-1733/Job.34/Outputdata/lossmap_B2V.json',\n",
       " '/afs/cern.ch/work/c/cmaccani/xsuite_sim/twocryst_sim/Condor/TEST_B2V_align_test_CRY5.0_15__20231110-1733/Job.35/Outputdata/lossmap_B2V.json',\n",
       " '/afs/cern.ch/work/c/cmaccani/xsuite_sim/twocryst_sim/Condor/TEST_B2V_align_test_CRY5.0_15__20231110-1733/Job.36/Outputdata/lossmap_B2V.json',\n",
       " '/afs/cern.ch/work/c/cmaccani/xsuite_sim/twocryst_sim/Condor/TEST_B2V_align_test_CRY5.0_15__20231110-1733/Job.37/Outputdata/lossmap_B2V.json',\n",
       " '/afs/cern.ch/work/c/cmaccani/xsuite_sim/twocryst_sim/Condor/TEST_B2V_align_test_CRY5.0_15__20231110-1733/Job.38/Outputdata/lossmap_B2V.json',\n",
       " '/afs/cern.ch/work/c/cmaccani/xsuite_sim/twocryst_sim/Condor/TEST_B2V_align_test_CRY5.0_15__20231110-1733/Job.39/Outputdata/lossmap_B2V.json',\n",
       " '/afs/cern.ch/work/c/cmaccani/xsuite_sim/twocryst_sim/Condor/TEST_B2V_align_test_CRY5.0_15__20231110-1733/Job.40/Outputdata/lossmap_B2V.json',\n",
       " '/afs/cern.ch/work/c/cmaccani/xsuite_sim/twocryst_sim/Condor/TEST_B2V_align_test_CRY5.0_15__20231110-1733/Job.41/Outputdata/lossmap_B2V.json',\n",
       " '/afs/cern.ch/work/c/cmaccani/xsuite_sim/twocryst_sim/Condor/TEST_B2V_align_test_CRY5.0_15__20231110-1733/Job.42/Outputdata/lossmap_B2V.json',\n",
       " '/afs/cern.ch/work/c/cmaccani/xsuite_sim/twocryst_sim/Condor/TEST_B2V_align_test_CRY5.0_15__20231110-1733/Job.43/Outputdata/lossmap_B2V.json',\n",
       " '/afs/cern.ch/work/c/cmaccani/xsuite_sim/twocryst_sim/Condor/TEST_B2V_align_test_CRY5.0_15__20231110-1733/Job.44/Outputdata/lossmap_B2V.json',\n",
       " '/afs/cern.ch/work/c/cmaccani/xsuite_sim/twocryst_sim/Condor/TEST_B2V_align_test_CRY5.0_15__20231110-1733/Job.45/Outputdata/lossmap_B2V.json',\n",
       " '/afs/cern.ch/work/c/cmaccani/xsuite_sim/twocryst_sim/Condor/TEST_B2V_align_test_CRY5.0_15__20231110-1733/Job.46/Outputdata/lossmap_B2V.json',\n",
       " '/afs/cern.ch/work/c/cmaccani/xsuite_sim/twocryst_sim/Condor/TEST_B2V_align_test_CRY5.0_15__20231110-1733/Job.47/Outputdata/lossmap_B2V.json',\n",
       " '/afs/cern.ch/work/c/cmaccani/xsuite_sim/twocryst_sim/Condor/TEST_B2V_align_test_CRY5.0_15__20231110-1733/Job.48/Outputdata/lossmap_B2V.json',\n",
       " '/afs/cern.ch/work/c/cmaccani/xsuite_sim/twocryst_sim/Condor/TEST_B2V_align_test_CRY5.0_15__20231110-1733/Job.49/Outputdata/lossmap_B2V.json',\n",
       " '/afs/cern.ch/work/c/cmaccani/xsuite_sim/twocryst_sim/Condor/TEST_B2V_align_test_CRY5.0_15__20231110-1733/Job.50/Outputdata/lossmap_B2V.json',\n",
       " '/afs/cern.ch/work/c/cmaccani/xsuite_sim/twocryst_sim/Condor/TEST_B2V_align_test_CRY5.0_15__20231110-1733/Job.51/Outputdata/lossmap_B2V.json',\n",
       " '/afs/cern.ch/work/c/cmaccani/xsuite_sim/twocryst_sim/Condor/TEST_B2V_align_test_CRY5.0_15__20231110-1733/Job.52/Outputdata/lossmap_B2V.json',\n",
       " '/afs/cern.ch/work/c/cmaccani/xsuite_sim/twocryst_sim/Condor/TEST_B2V_align_test_CRY5.0_15__20231110-1733/Job.53/Outputdata/lossmap_B2V.json',\n",
       " '/afs/cern.ch/work/c/cmaccani/xsuite_sim/twocryst_sim/Condor/TEST_B2V_align_test_CRY5.0_15__20231110-1733/Job.54/Outputdata/lossmap_B2V.json',\n",
       " '/afs/cern.ch/work/c/cmaccani/xsuite_sim/twocryst_sim/Condor/TEST_B2V_align_test_CRY5.0_15__20231110-1733/Job.55/Outputdata/lossmap_B2V.json',\n",
       " '/afs/cern.ch/work/c/cmaccani/xsuite_sim/twocryst_sim/Condor/TEST_B2V_align_test_CRY5.0_15__20231110-1733/Job.56/Outputdata/lossmap_B2V.json',\n",
       " '/afs/cern.ch/work/c/cmaccani/xsuite_sim/twocryst_sim/Condor/TEST_B2V_align_test_CRY5.0_15__20231110-1733/Job.57/Outputdata/lossmap_B2V.json',\n",
       " '/afs/cern.ch/work/c/cmaccani/xsuite_sim/twocryst_sim/Condor/TEST_B2V_align_test_CRY5.0_15__20231110-1733/Job.58/Outputdata/lossmap_B2V.json',\n",
       " '/afs/cern.ch/work/c/cmaccani/xsuite_sim/twocryst_sim/Condor/TEST_B2V_align_test_CRY5.0_15__20231110-1733/Job.59/Outputdata/lossmap_B2V.json',\n",
       " '/afs/cern.ch/work/c/cmaccani/xsuite_sim/twocryst_sim/Condor/TEST_B2V_align_test_CRY5.0_15__20231110-1733/Job.60/Outputdata/lossmap_B2V.json',\n",
       " '/afs/cern.ch/work/c/cmaccani/xsuite_sim/twocryst_sim/Condor/TEST_B2V_align_test_CRY5.0_15__20231110-1733/Job.61/Outputdata/lossmap_B2V.json',\n",
       " '/afs/cern.ch/work/c/cmaccani/xsuite_sim/twocryst_sim/Condor/TEST_B2V_align_test_CRY5.0_15__20231110-1733/Job.62/Outputdata/lossmap_B2V.json',\n",
       " '/afs/cern.ch/work/c/cmaccani/xsuite_sim/twocryst_sim/Condor/TEST_B2V_align_test_CRY5.0_15__20231110-1733/Job.63/Outputdata/lossmap_B2V.json',\n",
       " '/afs/cern.ch/work/c/cmaccani/xsuite_sim/twocryst_sim/Condor/TEST_B2V_align_test_CRY5.0_15__20231110-1733/Job.64/Outputdata/lossmap_B2V.json',\n",
       " '/afs/cern.ch/work/c/cmaccani/xsuite_sim/twocryst_sim/Condor/TEST_B2V_align_test_CRY5.0_15__20231110-1733/Job.65/Outputdata/lossmap_B2V.json',\n",
       " '/afs/cern.ch/work/c/cmaccani/xsuite_sim/twocryst_sim/Condor/TEST_B2V_align_test_CRY5.0_15__20231110-1733/Job.66/Outputdata/lossmap_B2V.json',\n",
       " '/afs/cern.ch/work/c/cmaccani/xsuite_sim/twocryst_sim/Condor/TEST_B2V_align_test_CRY5.0_15__20231110-1733/Job.67/Outputdata/lossmap_B2V.json',\n",
       " '/afs/cern.ch/work/c/cmaccani/xsuite_sim/twocryst_sim/Condor/TEST_B2V_align_test_CRY5.0_15__20231110-1733/Job.68/Outputdata/lossmap_B2V.json',\n",
       " '/afs/cern.ch/work/c/cmaccani/xsuite_sim/twocryst_sim/Condor/TEST_B2V_align_test_CRY5.0_15__20231110-1733/Job.69/Outputdata/lossmap_B2V.json',\n",
       " '/afs/cern.ch/work/c/cmaccani/xsuite_sim/twocryst_sim/Condor/TEST_B2V_align_test_CRY5.0_15__20231110-1733/Job.70/Outputdata/lossmap_B2V.json',\n",
       " '/afs/cern.ch/work/c/cmaccani/xsuite_sim/twocryst_sim/Condor/TEST_B2V_align_test_CRY5.0_15__20231110-1733/Job.71/Outputdata/lossmap_B2V.json',\n",
       " '/afs/cern.ch/work/c/cmaccani/xsuite_sim/twocryst_sim/Condor/TEST_B2V_align_test_CRY5.0_15__20231110-1733/Job.72/Outputdata/lossmap_B2V.json',\n",
       " '/afs/cern.ch/work/c/cmaccani/xsuite_sim/twocryst_sim/Condor/TEST_B2V_align_test_CRY5.0_15__20231110-1733/Job.73/Outputdata/lossmap_B2V.json',\n",
       " '/afs/cern.ch/work/c/cmaccani/xsuite_sim/twocryst_sim/Condor/TEST_B2V_align_test_CRY5.0_15__20231110-1733/Job.74/Outputdata/lossmap_B2V.json',\n",
       " '/afs/cern.ch/work/c/cmaccani/xsuite_sim/twocryst_sim/Condor/TEST_B2V_align_test_CRY5.0_15__20231110-1733/Job.75/Outputdata/lossmap_B2V.json',\n",
       " '/afs/cern.ch/work/c/cmaccani/xsuite_sim/twocryst_sim/Condor/TEST_B2V_align_test_CRY5.0_15__20231110-1733/Job.76/Outputdata/lossmap_B2V.json',\n",
       " '/afs/cern.ch/work/c/cmaccani/xsuite_sim/twocryst_sim/Condor/TEST_B2V_align_test_CRY5.0_15__20231110-1733/Job.77/Outputdata/lossmap_B2V.json',\n",
       " '/afs/cern.ch/work/c/cmaccani/xsuite_sim/twocryst_sim/Condor/TEST_B2V_align_test_CRY5.0_15__20231110-1733/Job.78/Outputdata/lossmap_B2V.json',\n",
       " '/afs/cern.ch/work/c/cmaccani/xsuite_sim/twocryst_sim/Condor/TEST_B2V_align_test_CRY5.0_15__20231110-1733/Job.79/Outputdata/lossmap_B2V.json',\n",
       " '/afs/cern.ch/work/c/cmaccani/xsuite_sim/twocryst_sim/Condor/TEST_B2V_align_test_CRY5.0_15__20231110-1733/Job.80/Outputdata/lossmap_B2V.json',\n",
       " '/afs/cern.ch/work/c/cmaccani/xsuite_sim/twocryst_sim/Condor/TEST_B2V_align_test_CRY5.0_15__20231110-1733/Job.81/Outputdata/lossmap_B2V.json',\n",
       " '/afs/cern.ch/work/c/cmaccani/xsuite_sim/twocryst_sim/Condor/TEST_B2V_align_test_CRY5.0_15__20231110-1733/Job.82/Outputdata/lossmap_B2V.json',\n",
       " '/afs/cern.ch/work/c/cmaccani/xsuite_sim/twocryst_sim/Condor/TEST_B2V_align_test_CRY5.0_15__20231110-1733/Job.83/Outputdata/lossmap_B2V.json',\n",
       " '/afs/cern.ch/work/c/cmaccani/xsuite_sim/twocryst_sim/Condor/TEST_B2V_align_test_CRY5.0_15__20231110-1733/Job.84/Outputdata/lossmap_B2V.json',\n",
       " '/afs/cern.ch/work/c/cmaccani/xsuite_sim/twocryst_sim/Condor/TEST_B2V_align_test_CRY5.0_15__20231110-1733/Job.85/Outputdata/lossmap_B2V.json',\n",
       " '/afs/cern.ch/work/c/cmaccani/xsuite_sim/twocryst_sim/Condor/TEST_B2V_align_test_CRY5.0_15__20231110-1733/Job.86/Outputdata/lossmap_B2V.json',\n",
       " '/afs/cern.ch/work/c/cmaccani/xsuite_sim/twocryst_sim/Condor/TEST_B2V_align_test_CRY5.0_15__20231110-1733/Job.87/Outputdata/lossmap_B2V.json',\n",
       " '/afs/cern.ch/work/c/cmaccani/xsuite_sim/twocryst_sim/Condor/TEST_B2V_align_test_CRY5.0_15__20231110-1733/Job.88/Outputdata/lossmap_B2V.json',\n",
       " '/afs/cern.ch/work/c/cmaccani/xsuite_sim/twocryst_sim/Condor/TEST_B2V_align_test_CRY5.0_15__20231110-1733/Job.89/Outputdata/lossmap_B2V.json',\n",
       " '/afs/cern.ch/work/c/cmaccani/xsuite_sim/twocryst_sim/Condor/TEST_B2V_align_test_CRY5.0_15__20231110-1733/Job.90/Outputdata/lossmap_B2V.json',\n",
       " '/afs/cern.ch/work/c/cmaccani/xsuite_sim/twocryst_sim/Condor/TEST_B2V_align_test_CRY5.0_15__20231110-1733/Job.91/Outputdata/lossmap_B2V.json',\n",
       " '/afs/cern.ch/work/c/cmaccani/xsuite_sim/twocryst_sim/Condor/TEST_B2V_align_test_CRY5.0_15__20231110-1733/Job.92/Outputdata/lossmap_B2V.json',\n",
       " '/afs/cern.ch/work/c/cmaccani/xsuite_sim/twocryst_sim/Condor/TEST_B2V_align_test_CRY5.0_15__20231110-1733/Job.93/Outputdata/lossmap_B2V.json',\n",
       " '/afs/cern.ch/work/c/cmaccani/xsuite_sim/twocryst_sim/Condor/TEST_B2V_align_test_CRY5.0_15__20231110-1733/Job.94/Outputdata/lossmap_B2V.json',\n",
       " '/afs/cern.ch/work/c/cmaccani/xsuite_sim/twocryst_sim/Condor/TEST_B2V_align_test_CRY5.0_15__20231110-1733/Job.95/Outputdata/lossmap_B2V.json',\n",
       " '/afs/cern.ch/work/c/cmaccani/xsuite_sim/twocryst_sim/Condor/TEST_B2V_align_test_CRY5.0_15__20231110-1733/Job.96/Outputdata/lossmap_B2V.json',\n",
       " '/afs/cern.ch/work/c/cmaccani/xsuite_sim/twocryst_sim/Condor/TEST_B2V_align_test_CRY5.0_15__20231110-1733/Job.97/Outputdata/lossmap_B2V.json',\n",
       " '/afs/cern.ch/work/c/cmaccani/xsuite_sim/twocryst_sim/Condor/TEST_B2V_align_test_CRY5.0_15__20231110-1733/Job.98/Outputdata/lossmap_B2V.json',\n",
       " '/afs/cern.ch/work/c/cmaccani/xsuite_sim/twocryst_sim/Condor/TEST_B2V_align_test_CRY5.0_15__20231110-1733/Job.99/Outputdata/lossmap_B2V.json']"
      ]
     },
     "execution_count": 7,
     "metadata": {},
     "output_type": "execute_result"
    }
   ],
   "source": [
    "losses_json"
   ]
  },
  {
   "cell_type": "code",
   "execution_count": 8,
   "id": "4e89da66",
   "metadata": {},
   "outputs": [],
   "source": [
    "ThisLM = lm.SimulatedLossMap(lmtype=lm.LMType.B2V, machine=lm.Machine.LHC)"
   ]
  },
  {
   "cell_type": "code",
   "execution_count": 9,
   "id": "fc309de6",
   "metadata": {},
   "outputs": [
    {
     "name": "stdout",
     "output_type": "stream",
     "text": [
      "Maximum inefficiency in the DS is 2.04e-05.\n"
     ]
    }
   ],
   "source": [
    "#ThisLM.load_data_json(json_files=losses_json)\n",
    "ThisLM.load_data_json(json_files=losses_json)"
   ]
  },
  {
   "cell_type": "code",
   "execution_count": 10,
   "id": "ece336ec",
   "metadata": {},
   "outputs": [
    {
     "name": "stdout",
     "output_type": "stream",
     "text": [
      "pymadx.Tfs.Load> normal file\n"
     ]
    },
    {
     "data": {
      "text/plain": [
       "(<Figure size 1440x864 with 3 Axes>,\n",
       " array([<Axes: xlabel='S [m]', ylabel='Norm. inefficiency [arb. unit]'>,\n",
       "        <Axes: >,\n",
       "        <Axes: xlabel='S [m]', ylabel='Norm. inefficiency [arb. unit]'>],\n",
       "       dtype=object))"
      ]
     },
     "execution_count": 10,
     "metadata": {},
     "output_type": "execute_result"
    },
    {
     "data": {
      "image/png": "[encoded data removed]",
      "text/plain": [
       "<Figure size 1440x864 with 3 Axes>"
      ]
     },
     "metadata": {
      "needs_background": "light"
     },
     "output_type": "display_data"
    }
   ],
   "source": [
    "lm.plot_lossmap(ThisLM, zoom=True, layout=\"./input_files/layout_flat_top_b2.tfs\",  outfile = \"./Outputdata/TEST_False2.png\")  #, outfile = \"./Outputdata/Lossmap_outputs/\"+outfile_name"
   ]
  },
  {
   "cell_type": "code",
   "execution_count": 11,
   "id": "49dc9b99",
   "metadata": {},
   "outputs": [
    {
     "data": {
      "application/vnd.jupyter.widget-view+json": {
       "model_id": "c69e34576ca149039aaa8306cad30a3b",
       "version_major": 2,
       "version_minor": 0
      },
      "text/plain": [
       "Box(children=(Dropdown(description='norm', index=3, options=('none', 'max', 'coll_max', 'total'), value='total…"
      ]
     },
     "metadata": {},
     "output_type": "display_data"
    },
    {
     "data": {
      "application/vnd.jupyter.widget-view+json": {
       "model_id": "d7edfd40cd2b4cfd9c8e166bffe7048a",
       "version_major": 2,
       "version_minor": 0
      },
      "text/plain": [
       "FigureWidget({\n",
       "    'data': [{'base': 1e-17,\n",
       "              'hovertemplate': 'S=%{x:.2f} m, value=%{y:1.2e}<br>%{hovertext}',\n",
       "              'hovertext': array([ 166.,  167.,  168.,  169.,  170.,  171.,  172.,  173.,  174.,  175.,\n",
       "                                   177.,  178.,  179.,  180.,  181.,  182.,  183.,  184.,  185.,  186.,\n",
       "                                   187.,  188.,  189.,  190.,  191.,  192.,  193.,  194.,  195.,  196.,\n",
       "                                   197.,  198.,  199.,  200.,  201.,  204.,  239.,  240.,  241.,  242.,\n",
       "                                  1269., 1273., 1274., 1275., 1276., 1277., 1278., 1279., 1280., 1281.,\n",
       "                                  1282., 1283., 1284., 1285., 1286., 1287., 1288., 1292., 1293., 1295.,\n",
       "                                  1296., 1297., 1298., 1301., 1302., 1303., 1304., 1305., 1306., 1307.,\n",
       "                                  1308., 1309., 1310., 1311., 1312., 1313., 1314., 1315., 1316., 1317.,\n",
       "                                  1318., 1319., 1320., 1321., 1322., 1323., 1324., 1325., 1326., 1327.,\n",
       "                                  1328., 1329., 1330., 1331., 1332., 1333., 1334., 1335., 1336., 1337.,\n",
       "                                  1338., 1339., 1340., 1341., 1342., 1343., 1344., 1345., 1346., 1347.,\n",
       "                                  1348., 1349.]),\n",
       "              'marker': {'color': 'red', 'line': {'color': 'red', 'width': 1.5}},\n",
       "              'name': 'Warm',\n",
       "              'type': 'bar',\n",
       "              'uid': 'd18a3ee5-b1bc-49b4-a0d1-e410a9f92071',\n",
       "              'width': 0.8,\n",
       "              'x': array([ 6626.95,  6630.45,  6630.75,  6634.55,  6638.35,  6642.05,  6642.55,\n",
       "                           6644.95,  6646.45,  6647.15,  6687.05,  6687.55,  6687.65,  6687.75,\n",
       "                           6688.15,  6688.25,  6689.15,  6689.55,  6691.25,  6691.45,  6691.65,\n",
       "                           6691.85,  6693.05,  6693.25,  6695.25,  6695.55,  6696.85,  6696.95,\n",
       "                           6697.55,  6698.75,  6698.95,  6699.95,  6703.25,  6704.35,  6714.65,\n",
       "                           6833.35,  6870.45,  6870.55,  6870.65,  6870.85, 19864.85, 19908.15,\n",
       "                          19908.55, 19908.85, 19909.35, 19910.05, 19912.15, 19912.95, 19913.15,\n",
       "                          19913.65, 19914.55, 19915.45, 19924.65, 19926.05, 19932.25, 19935.95,\n",
       "                          19941.15, 20052.05, 20052.65, 20073.85, 20077.95, 20080.15, 20080.35,\n",
       "                          20115.55, 20115.95, 20116.05, 20116.15, 20116.25, 20116.35, 20116.45,\n",
       "                          20116.55, 20116.65, 20116.85, 20117.05, 20117.15, 20117.35, 20117.45,\n",
       "                          20117.65, 20117.95, 20118.05, 20118.45, 20119.25, 20119.35, 20119.45,\n",
       "                          20119.55, 20119.95, 20120.35, 20120.45, 20120.55, 20120.85, 20121.05,\n",
       "                          20121.15, 20121.35, 20121.55, 20121.75, 20121.95, 20122.55, 20122.75,\n",
       "                          20122.85, 20124.35, 20124.65, 20125.45, 20125.65, 20127.15, 20127.25,\n",
       "                          20128.55, 20128.65, 20128.85, 20129.55, 20130.95, 20135.45, 20139.65]),\n",
       "              'xaxis': 'x2',\n",
       "              'y': array([1.15375443e-06, 5.76877215e-07, 4.61501772e-06, 4.03814051e-06,\n",
       "                          3.46126329e-06, 3.63432646e-05, 1.73063165e-06, 5.76877215e-07,\n",
       "                          5.76877215e-07, 1.15375443e-05, 5.76877215e-07, 1.15375443e-06,\n",
       "                          2.30750886e-06, 1.73063165e-06, 5.76877215e-07, 5.76877215e-07,\n",
       "                          5.76877215e-07, 5.76877215e-07, 1.15375443e-06, 5.76877215e-07,\n",
       "                          1.15375443e-06, 5.76877215e-07, 5.76877215e-07, 5.76877215e-07,\n",
       "                          5.76877215e-07, 5.76877215e-07, 5.76877215e-07, 5.76877215e-07,\n",
       "                          5.76877215e-07, 5.76877215e-07, 5.76877215e-07, 5.76877215e-07,\n",
       "                          5.76877215e-07, 5.76877215e-07, 5.76877215e-07, 1.11914180e-04,\n",
       "                          1.73063165e-06, 2.30750886e-06, 5.76877215e-07, 1.03837899e-05,\n",
       "                          5.76877215e-07, 3.46126329e-06, 1.15375443e-06, 5.76877215e-07,\n",
       "                          5.76877215e-07, 5.76877215e-07, 1.15375443e-06, 5.76877215e-07,\n",
       "                          5.76877215e-07, 5.76877215e-07, 5.76877215e-07, 5.76877215e-07,\n",
       "                          5.76877215e-07, 5.76877215e-07, 2.88438608e-06, 6.34564937e-06,\n",
       "                          5.76877215e-07, 2.30750886e-06, 5.76877215e-07, 5.76877215e-07,\n",
       "                          5.76877215e-07, 2.88438608e-06, 5.76877215e-07, 1.09606671e-05,\n",
       "                          5.76877215e-07, 5.76877215e-07, 1.73063165e-06, 1.15375443e-06,\n",
       "                          5.76877215e-07, 2.30750886e-06, 2.30750886e-06, 1.15375443e-06,\n",
       "                          5.76877215e-07, 5.76877215e-07, 1.15375443e-06, 5.76877215e-07,\n",
       "                          5.76877215e-07, 2.30750886e-06, 5.76877215e-07, 1.15375443e-06,\n",
       "                          5.76877215e-07, 1.15375443e-06, 1.15375443e-06, 2.30750886e-06,\n",
       "                          4.61501772e-06, 5.76877215e-07, 5.76877215e-07, 5.76877215e-07,\n",
       "                          1.73063165e-06, 5.76877215e-07, 5.76877215e-07, 5.76877215e-07,\n",
       "                          5.76877215e-07, 1.15375443e-06, 5.76877215e-07, 5.76877215e-07,\n",
       "                          5.76877215e-07, 5.76877215e-07, 1.15375443e-06, 5.76877215e-07,\n",
       "                          5.76877215e-07, 5.76877215e-07, 5.76877215e-07, 1.73063165e-06,\n",
       "                          5.76877215e-07, 5.76877215e-07, 5.76877215e-07, 5.76877215e-07,\n",
       "                          5.76877215e-07, 1.15375443e-06, 5.76877215e-07, 5.76877215e-07]),\n",
       "              'yaxis': 'y2'},\n",
       "             {'base': 1e-17,\n",
       "              'hovertemplate': 'S=%{x:.2f} m, value=%{y:1.2e}<br>%{hovertext}',\n",
       "              'hovertext': array([   3.,    4.,    5., ..., 1260., 1261., 1262.]),\n",
       "              'marker': {'color': 'blue', 'line': {'color': 'blue', 'width': 1.5}},\n",
       "              'name': 'Cold',\n",
       "              'type': 'bar',\n",
       "              'uid': '91428375-c229-4d2a-8fac-d5d4767b513e',\n",
       "              'width': 0.8,\n",
       "              'x': array([ 6124.75,  6124.95,  6127.25, ..., 19693.95, 19694.45, 19697.05]),\n",
       "              'xaxis': 'x2',\n",
       "              'y': array([5.76877215e-07, 5.76877215e-07, 5.76877215e-07, ..., 5.76877215e-07,\n",
       "                          5.76877215e-07, 5.76877215e-07]),\n",
       "              'yaxis': 'y2'},\n",
       "             {'base': 1e-17,\n",
       "              'hovertemplate': 'S=%{x:.2f} m, value=%{y:1.2e}<br>%{hovertext}',\n",
       "              'hovertext': array(['TCTPV.4R1.B2', 'TCTPH.4R1.B2', 'TCTPH.4R2.B2', 'TCLA.7L3.B2',\n",
       "                                  'TCLA.B5L3.B2', 'TCLA.A5L3.B2', 'TCSG.B5L3.B2', 'TCSG.A5L3.B2',\n",
       "                                  'TCSG.4L3.B2', 'TARGET.4L3.B2', 'TCCS.5R3.B2', 'TCSG.5R3.B2',\n",
       "                                  'TCP.6R3.B2', 'TCSP.A4L6.B2', 'TCDQA.A4L6.B2', 'TCLA.A7L7.B2',\n",
       "                                  'TCLA.D6L7.B2', 'TCLA.C6L7.B2', 'TCLA.B6L7.B2', 'TCLA.A6L7.B2',\n",
       "                                  'TCSPM.6L7.B2', 'TCSPM.E5L7.B2', 'TCSG.D5L7.B2', 'TCSG.B5L7.B2',\n",
       "                                  'TCSG.A4L7.B2', 'TCSG.A4R7.B2', 'TCSPM.B4R7.B2', 'TCSG.D4R7.B2',\n",
       "                                  'TCSG.A5R7.B2', 'TCSG.B5R7.B2', 'TCSG.A6R7.B2', 'TCP.B6R7.B2',\n",
       "                                  'TCP.C6R7.B2', 'TCP.D6R7.B2', 'TCTPV.4R8.B2', 'TCTPH.4R8.B2'],\n",
       "                                 dtype=object),\n",
       "              'marker': {'color': 'black', 'line': {'color': 'black', 'width': 1.5}},\n",
       "              'name': 'Collimator',\n",
       "              'type': 'bar',\n",
       "              'uid': 'ca958cf9-92a8-47be-abe6-03c622f1c5d0',\n",
       "              'width': 0.8,\n",
       "              'x': array([  145.94499969,   147.94499969,  3450.81721414,  6414.26579701,\n",
       "                           6572.22079396,  6574.22079396,  6604.70079396,  6610.52079396,\n",
       "                           6621.86579396,  6653.3375    ,  6773.7       ,  6808.44879396,\n",
       "                           6841.77029176, 16507.62816201, 16518.63816201, 19756.46437827,\n",
       "                          19774.09237827, 19776.09237827, 19809.36137672, 19840.23537608,\n",
       "                          19845.30137608, 19879.90637608, 19885.90637608, 19901.90637608,\n",
       "                          19985.16237608, 20001.16237608, 20003.16237608, 20071.08837608,\n",
       "                          20092.41837608, 20096.41837608, 20155.64587608, 20195.14037393,\n",
       "                          20197.14037378, 20199.14037363, 23431.45958918, 23433.45958844]),\n",
       "              'xaxis': 'x2',\n",
       "              'y': array([9.97997582e-06, 1.49988076e-06, 1.15375443e-07, 1.26912987e-06,\n",
       "                          1.73063165e-07, 8.76853367e-06, 5.65339671e-06, 7.90321785e-06,\n",
       "                          2.62479133e-05, 4.92653142e-03, 1.68577944e-01, 4.04390928e-05,\n",
       "                          3.35261808e-04, 2.99976152e-06, 8.26857342e-07, 1.13067934e-05,\n",
       "                          2.44595939e-05, 5.87837882e-05, 4.73039316e-06, 8.58393296e-05,\n",
       "                          9.48963019e-05, 3.91872692e-04, 1.63094726e-03, 1.70282616e-03,\n",
       "                          5.40730089e-03, 5.47669922e-03, 1.09416301e-03, 5.54096334e-03,\n",
       "                          1.84303040e-02, 2.63301760e-02, 2.61752844e-02, 2.22353477e-02,\n",
       "                          2.01955098e-03, 7.05872537e-01, 1.38450532e-06, 8.65315823e-07]),\n",
       "              'yaxis': 'y2'},\n",
       "             {'base': array([-1.0, -2.0, 0.0, ..., -2.0, 0.0, -1.0], dtype=object),\n",
       "              'hovertemplate': '%{hovertext}<br>S=%{x:.2f} m<extra></extra>',\n",
       "              'hovertext': array(['TAS.1R1', 'MQXA.1R1', 'MQXB.A2R1', ..., 'MQXB.A2L1', 'MQXA.1L1',\n",
       "                                  'TAS.1L1'], dtype=object),\n",
       "              'marker': {'color': array(['black', '#d10000', '#d10000', ..., '#d10000', '#d10000', 'black'],\n",
       "                                        dtype=object),\n",
       "                         'line': {'color': array(['black', '#d10000', '#d10000', ..., '#d10000', '#d10000', 'black'],\n",
       "                                                 dtype=object),\n",
       "                                  'width': 0.5}},\n",
       "              'showlegend': False,\n",
       "              'type': 'bar',\n",
       "              'uid': 'ffa206ae-a1b3-4ec2-95e6-4d39572d6548',\n",
       "              'width': array([1.8 , 6.37, 5.5 , ..., 5.5 , 6.37, 1.8 ]),\n",
       "              'x': array([1.99500000e+01, 2.61500000e+01, 3.48000000e+01, ..., 2.66240832e+04,\n",
       "                          2.66327332e+04, 2.66389042e+04]),\n",
       "              'xaxis': 'x',\n",
       "              'y': array([2., 2., 2., ..., 2., 2., 2.]),\n",
       "              'yaxis': 'y'},\n",
       "             {'line': {'color': 'gray', 'width': 0.5},\n",
       "              'mode': 'lines',\n",
       "              'showlegend': False,\n",
       "              'type': 'scatter',\n",
       "              'uid': '95a537a1-6053-4485-b183-5600b4d7ad9a',\n",
       "              'x': [20.85, 26639.8042],\n",
       "              'xaxis': 'x',\n",
       "              'y': [0, 0],\n",
       "              'yaxis': 'y'}],\n",
       "    'layout': {'hovermode': 'closest',\n",
       "               'margin': {'b': 20, 'l': 20, 'r': 20, 't': 30},\n",
       "               'template': '...',\n",
       "               'xaxis': {'anchor': 'y',\n",
       "                         'domain': [0.0, 1.0],\n",
       "                         'matches': 'x2',\n",
       "                         'range': [0, 26658.8832],\n",
       "                         'showgrid': False,\n",
       "                         'showline': False,\n",
       "                         'showticklabels': False,\n",
       "                         'ticks': ''},\n",
       "               'xaxis2': {'anchor': 'y2',\n",
       "                          'domain': [0.0, 1.0],\n",
       "                          'exponentformat': 'none',\n",
       "                          'mirror': True,\n",
       "                          'range': [0, 26658.8832],\n",
       "                          'title': {'text': 'S [m]'}},\n",
       "               'yaxis': {'anchor': 'x',\n",
       "                         'domain': [0.8938775510204082, 1.0],\n",
       "                         'fixedrange': True,\n",
       "                         'showgrid': False,\n",
       "                         'showline': False,\n",
       "                         'showticklabels': False,\n",
       "                         'ticks': '',\n",
       "                         'zeroline': False},\n",
       "               'yaxis2': {'anchor': 'x2',\n",
       "                          'domain': [0.0, 0.8510204081632654],\n",
       "                          'exponentformat': 'e',\n",
       "                          'mirror': True,\n",
       "                          'range': [-7.0, 0.9542425094393249],\n",
       "                          'showexponent': 'all',\n",
       "                          'showgrid': True,\n",
       "                          'title': {'text': 'Norm. inefficiency [arb. unit]'},\n",
       "                          'type': 'log'}}\n",
       "})"
      ]
     },
     "execution_count": 11,
     "metadata": {},
     "output_type": "execute_result"
    }
   ],
   "source": [
    "lm.plot_lossmap_interactive(ThisLM, norm='total', layout=\"./input_files/layout_flat_top_b2.tfs\")  #"
   ]
  },
  {
   "cell_type": "code",
   "execution_count": 12,
   "metadata": {},
   "outputs": [
    {
     "data": {
      "text/html": [
       "<div>\n",
       "<style scoped>\n",
       "    .dataframe tbody tr th:only-of-type {\n",
       "        vertical-align: middle;\n",
       "    }\n",
       "\n",
       "    .dataframe tbody tr th {\n",
       "        vertical-align: top;\n",
       "    }\n",
       "\n",
       "    .dataframe thead th {\n",
       "        text-align: right;\n",
       "    }\n",
       "</style>\n",
       "<table border=\"1\" class=\"dataframe\">\n",
       "  <thead>\n",
       "    <tr style=\"text-align: right;\">\n",
       "      <th></th>\n",
       "      <th>s</th>\n",
       "      <th>name</th>\n",
       "      <th>losses_type</th>\n",
       "      <th>losses</th>\n",
       "    </tr>\n",
       "  </thead>\n",
       "  <tbody>\n",
       "    <tr>\n",
       "      <th>162</th>\n",
       "      <td>6574.220794</td>\n",
       "      <td>tcla.a5l3.b2</td>\n",
       "      <td>Losses.COLL</td>\n",
       "      <td>152.0</td>\n",
       "    </tr>\n",
       "  </tbody>\n",
       "</table>\n",
       "</div>"
      ],
      "text/plain": [
       "               s          name  losses_type  losses\n",
       "162  6574.220794  tcla.a5l3.b2  Losses.COLL   152.0"
      ]
     },
     "execution_count": 12,
     "metadata": {},
     "output_type": "execute_result"
    }
   ],
   "source": [
    "losses_df = ThisLM._losses\n",
    "losses_df[losses_df['name']=='tcla.a5l3.b2']\n",
    "\n",
    "#'target.4l3.b2'\n",
    "\n",
    "#loss_tcp = int(losses_df[losses_df['name']=='tcp.d6r7.b2']['losses'])"
   ]
  }
 ],
 "metadata": {
  "@webio": {
   "lastCommId": null,
   "lastKernelId": null
  },
  "kernelspec": {
   "display_name": "Python 3 (ipykernel)",
   "language": "python",
   "name": "python3"
  },
  "language_info": {
   "codemirror_mode": {
    "name": "ipython",
    "version": 3
   },
   "file_extension": ".py",
   "mimetype": "text/x-python",
   "name": "python",
   "nbconvert_exporter": "python",
   "pygments_lexer": "ipython3",
   "version": "3.9.12"
  },
  "sparkconnect": {
   "bundled_options": [
    "NXCALS"
   ],
   "list_of_options": []
  }
 },
 "nbformat": 4,
 "nbformat_minor": 5
}
