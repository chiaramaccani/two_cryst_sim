{
 "cells": [
  {
   "cell_type": "code",
   "execution_count": 3,
   "metadata": {},
   "outputs": [],
   "source": [
    "import numpy as np\n",
    "import xtrack as xt         \n",
    "import xpart as xp\n",
    "import xdeps as xd   \n",
    "import inspect\n",
    "import pickle\n",
    "import scipy"
   ]
  },
  {
   "cell_type": "code",
   "execution_count": 2,
   "metadata": {},
   "outputs": [
    {
     "data": {
      "text/plain": [
       "{'kqtf.b2': 0.001208677013518323,\n",
       " 'kqtd.b2': 0.00038331555223907116,\n",
       " 'ksf.b2': 0.013659436695399586,\n",
       " 'ksd.b2': -0.027437069853417304,\n",
       " 'kqt13.l2b2': 0.0004514499114322108,\n",
       " 'kqt12.l2b2': -0.003255459636063764,\n",
       " 'kqtl11.l2b2': 0.003621832707128442,\n",
       " 'kq10.l2b2': 0.007038061942052969,\n",
       " 'kq9.l2b2': -0.006933724300000922,\n",
       " 'kq8.l2b2': 0.007049750740201287,\n",
       " 'kq7.l2b2': -0.007838443884785605,\n",
       " 'kq6.l2b2': 0.0043085171149305265,\n",
       " 'kq5.l2b2': -0.003279698116036019,\n",
       " 'kq4.l2b2': 0.0019927108461440654,\n",
       " 'kqx.l2': 0.008755083323428548,\n",
       " 'kq4.r2b2': -0.003630665367308744,\n",
       " 'kq5.r2b2': 0.0048330772584889384,\n",
       " 'kq6.r2b2': -0.003938045240378545,\n",
       " 'kq7.r2b2': 0.00749567152642893,\n",
       " 'kq8.r2b2': -0.0056231039407293225,\n",
       " 'kq9.r2b2': 0.0067684978060658105,\n",
       " 'kq10.r2b2': -0.005326779941068593,\n",
       " 'kqtl11.r2b2': 0.0004494694925349877,\n",
       " 'kqt12.r2b2': -0.0017493728475043034,\n",
       " 'kqt13.r2b2': 0.004448848638839975,\n",
       " 'kqt13.l4b2': -0.003479263576853937,\n",
       " 'kqt12.l4b2': 0.0023715956762976787,\n",
       " 'kqtl11.l4b2': -3.700206729378353e-05,\n",
       " 'kq10.l4b2': 0.007143479355495837,\n",
       " 'kq9.l4b2': -0.005169803571507623,\n",
       " 'kq8.l4b2': 0.008431400138110121,\n",
       " 'kq7.l4b2': -0.005115662204297971,\n",
       " 'kq6.l4b2': 0.005804578630867815,\n",
       " 'kq5.l4b2': -0.004247225701778429,\n",
       " 'kq5.r4b2': 0.0053575015447909265,\n",
       " 'kq6.r4b2': -0.006445378868551252,\n",
       " 'kq7.r4b2': 0.005747726368289069,\n",
       " 'kq8.r4b2': -0.0060270467217649025,\n",
       " 'kq9.r4b2': 0.005853280224928383,\n",
       " 'kq10.r4b2': -0.005705483607914735,\n",
       " 'kqtl11.r4b2': 0.0007375020877332287,\n",
       " 'kqt12.r4b2': 0.0033937835487378126,\n",
       " 'kqt13.r4b2': -0.004511196874885511}"
      ]
     },
     "execution_count": 2,
     "metadata": {},
     "output_type": "execute_result"
    }
   ],
   "source": [
    "with open('knob.pkl', 'rb') as f:\n",
    "    knobs = pickle.load(f)\n",
    "\n",
    "knobs"
   ]
  },
  {
   "cell_type": "code",
   "execution_count": 3,
   "metadata": {},
   "outputs": [
    {
     "data": {
      "application/vnd.jupyter.widget-view+json": {
       "model_id": "10f60bb13b274589b76fb945b9ce0bfc",
       "version_major": 2,
       "version_minor": 0
      },
      "text/plain": [
       "Loading line from dict:   0%|          | 0/151124 [00:00<?, ?it/s]"
      ]
     },
     "metadata": {},
     "output_type": "display_data"
    },
    {
     "name": "stdout",
     "output_type": "stream",
     "text": [
      "Done loading line from dict.           \n"
     ]
    }
   ],
   "source": [
    "line_path = '../HL_IR7_rematched/b4_sequence_patched.json'\n",
    "#line_path = '../HL_IR7_IR3_rematched/b4_sequence_patched.json'\n",
    "line = xt.Line.from_json(line_path)"
   ]
  },
  {
   "cell_type": "code",
   "execution_count": 4,
   "metadata": {},
   "outputs": [
    {
     "data": {
      "text/plain": [
       "Table: 481044 rows, 2 cols"
      ]
     },
     "execution_count": 4,
     "metadata": {},
     "output_type": "execute_result"
    }
   ],
   "source": [
    "line.vars.get_table()"
   ]
  },
  {
   "cell_type": "code",
   "execution_count": 5,
   "metadata": {},
   "outputs": [
    {
     "data": {
      "text/plain": [
       "0.0011632091446078041"
      ]
     },
     "execution_count": 5,
     "metadata": {},
     "output_type": "execute_result"
    }
   ],
   "source": [
    "line.vv['kqtf.b2']"
   ]
  },
  {
   "cell_type": "code",
   "execution_count": 6,
   "metadata": {},
   "outputs": [],
   "source": [
    "for k, v in knobs.items():\n",
    "    line.vars[k] = v"
   ]
  },
  {
   "cell_type": "code",
   "execution_count": 7,
   "metadata": {},
   "outputs": [
    {
     "data": {
      "text/plain": [
       "0.001208677013518323"
      ]
     },
     "execution_count": 7,
     "metadata": {},
     "output_type": "execute_result"
    }
   ],
   "source": [
    "line.vv['kqtf.b2']"
   ]
  },
  {
   "cell_type": "code",
   "execution_count": 8,
   "metadata": {},
   "outputs": [],
   "source": [
    "save = True\n",
    "if save:\n",
    "    line.to_json('b4_sequence_patched_phadv.json')"
   ]
  },
  {
   "cell_type": "code",
   "execution_count": 4,
   "metadata": {},
   "outputs": [
    {
     "data": {
      "application/vnd.jupyter.widget-view+json": {
       "model_id": "2c0fe6f1eadf4319a7eaa8c2f25f3956",
       "version_major": 2,
       "version_minor": 0
      },
      "text/plain": [
       "Loading line from dict:   0%|          | 0/151124 [00:00<?, ?it/s]"
      ]
     },
     "metadata": {},
     "output_type": "display_data"
    },
    {
     "name": "stdout",
     "output_type": "stream",
     "text": [
      "Done loading line from dict.           \n"
     ]
    }
   ],
   "source": [
    "new_line = xt.Line.from_json('b4_sequence_patched_phadv.json')"
   ]
  },
  {
   "cell_type": "code",
   "execution_count": 5,
   "metadata": {},
   "outputs": [],
   "source": [
    "end_s = new_line.get_length()\n",
    "\n",
    "TCCS_name = 'tccs.5r3.b2'\n",
    "TCCP_name = 'tccp.4l3.b2'\n",
    "TARGET_name = 'target.4l3.b2'\n",
    "TCLA_name = 'tcla.a5l3.b2'\n",
    "TCP_name = 'tcp.d6r7.b2'\n",
    "\n",
    "TCCS_loc = end_s - 6773.7 #6775\n",
    "TCCP_loc = end_s - 6653.3 #6655\n",
    "TARGET_loc = end_s - (6653.3 +  0.070/2 + 0.005/2)\n",
    "TCLA_loc = new_line.get_s_position()[new_line.element_names.index(TCLA_name)]\n",
    "\n",
    "\n",
    "new_line.insert_element(at_s=TCCS_loc, element=xt.Marker(), name='tccs.5r3.b2')\n",
    "new_line.insert_element(at_s=TCCS_loc, element=xt.LimitEllipse(a_squ=0.0016, b_squ=0.0016, a_b_squ=2.56e-06), name='tccs.5r3.b2_aper')\n",
    "new_line.insert_element(at_s=TCCP_loc, element=xt.Marker(), name='tccp.4l3.b2')\n",
    "new_line.insert_element(at_s=TCCP_loc, element=xt.LimitEllipse(a_squ=0.0016, b_squ=0.0016, a_b_squ=2.56e-06), name='tccp.4l3.b2_aper')\n",
    "new_line.insert_element(at_s=TARGET_loc, element=xt.Marker(), name='target.4l3.b2')\n",
    "new_line.insert_element(at_s=TARGET_loc, element=xt.LimitEllipse(a_squ=0.0016, b_squ=0.0016, a_b_squ=2.56e-06), name='target.4l3.b2_aper')"
   ]
  },
  {
   "cell_type": "code",
   "execution_count": 6,
   "metadata": {},
   "outputs": [
    {
     "name": "stdout",
     "output_type": "stream",
     "text": [
      "Compiling ContextCpu kernels...\n",
      "Done compiling ContextCpu kernels.\n",
      "Compiling ContextCpu kernels...\n",
      "Done compiling ContextCpu kernels.\n"
     ]
    }
   ],
   "source": [
    "tw = new_line.twiss(method='4d')"
   ]
  },
  {
   "cell_type": "code",
   "execution_count": 7,
   "metadata": {},
   "outputs": [],
   "source": [
    "df = tw.to_pandas()"
   ]
  },
  {
   "cell_type": "code",
   "execution_count": 13,
   "metadata": {},
   "outputs": [
    {
     "data": {
      "text/html": [
       "<div>\n",
       "<style scoped>\n",
       "    .dataframe tbody tr th:only-of-type {\n",
       "        vertical-align: middle;\n",
       "    }\n",
       "\n",
       "    .dataframe tbody tr th {\n",
       "        vertical-align: top;\n",
       "    }\n",
       "\n",
       "    .dataframe thead th {\n",
       "        text-align: right;\n",
       "    }\n",
       "</style>\n",
       "<table border=\"1\" class=\"dataframe\">\n",
       "  <thead>\n",
       "    <tr style=\"text-align: right;\">\n",
       "      <th></th>\n",
       "      <th>name</th>\n",
       "      <th>s</th>\n",
       "      <th>x</th>\n",
       "      <th>px</th>\n",
       "      <th>y</th>\n",
       "      <th>py</th>\n",
       "      <th>zeta</th>\n",
       "      <th>delta</th>\n",
       "      <th>ptau</th>\n",
       "      <th>W_matrix</th>\n",
       "      <th>...</th>\n",
       "      <th>bx_chrom</th>\n",
       "      <th>by_chrom</th>\n",
       "      <th>ax_chrom</th>\n",
       "      <th>ay_chrom</th>\n",
       "      <th>wx_chrom</th>\n",
       "      <th>wy_chrom</th>\n",
       "      <th>ddx</th>\n",
       "      <th>ddpx</th>\n",
       "      <th>ddy</th>\n",
       "      <th>ddpy</th>\n",
       "    </tr>\n",
       "  </thead>\n",
       "  <tbody>\n",
       "    <tr>\n",
       "      <th>36187</th>\n",
       "      <td>tcp.d6r7.b2</td>\n",
       "      <td>6459.742798</td>\n",
       "      <td>0.000002</td>\n",
       "      <td>-1.239468e-08</td>\n",
       "      <td>0.000120</td>\n",
       "      <td>0.000002</td>\n",
       "      <td>0.000015</td>\n",
       "      <td>0.0</td>\n",
       "      <td>0.0</td>\n",
       "      <td>[[19.479051053178175, -8.881784197001252e-16, ...</td>\n",
       "      <td>...</td>\n",
       "      <td>-3.848973</td>\n",
       "      <td>79.741506</td>\n",
       "      <td>3.609075</td>\n",
       "      <td>-16.880481</td>\n",
       "      <td>5.276364</td>\n",
       "      <td>81.508640</td>\n",
       "      <td>66.533220</td>\n",
       "      <td>-0.646095</td>\n",
       "      <td>11.893958</td>\n",
       "      <td>0.304106</td>\n",
       "    </tr>\n",
       "    <tr>\n",
       "      <th>112161</th>\n",
       "      <td>tccs.5r3.b2</td>\n",
       "      <td>19885.183171</td>\n",
       "      <td>-0.000001</td>\n",
       "      <td>-4.357631e-08</td>\n",
       "      <td>-0.000136</td>\n",
       "      <td>0.000001</td>\n",
       "      <td>0.000016</td>\n",
       "      <td>0.0</td>\n",
       "      <td>0.0</td>\n",
       "      <td>[[9.060654041605126, 0.0, 0.001032086572653773...</td>\n",
       "      <td>...</td>\n",
       "      <td>-72.260767</td>\n",
       "      <td>29.961588</td>\n",
       "      <td>-33.258792</td>\n",
       "      <td>-62.776910</td>\n",
       "      <td>79.547255</td>\n",
       "      <td>69.560313</td>\n",
       "      <td>-13.916163</td>\n",
       "      <td>-0.419973</td>\n",
       "      <td>1.861516</td>\n",
       "      <td>0.115035</td>\n",
       "    </tr>\n",
       "  </tbody>\n",
       "</table>\n",
       "<p>2 rows × 47 columns</p>\n",
       "</div>"
      ],
      "text/plain": [
       "               name             s         x            px         y        py  \\\n",
       "36187   tcp.d6r7.b2   6459.742798  0.000002 -1.239468e-08  0.000120  0.000002   \n",
       "112161  tccs.5r3.b2  19885.183171 -0.000001 -4.357631e-08 -0.000136  0.000001   \n",
       "\n",
       "            zeta  delta  ptau  \\\n",
       "36187   0.000015    0.0   0.0   \n",
       "112161  0.000016    0.0   0.0   \n",
       "\n",
       "                                                 W_matrix  ...   bx_chrom  \\\n",
       "36187   [[19.479051053178175, -8.881784197001252e-16, ...  ...  -3.848973   \n",
       "112161  [[9.060654041605126, 0.0, 0.001032086572653773...  ... -72.260767   \n",
       "\n",
       "         by_chrom   ax_chrom   ay_chrom   wx_chrom   wy_chrom        ddx  \\\n",
       "36187   79.741506   3.609075 -16.880481   5.276364  81.508640  66.533220   \n",
       "112161  29.961588 -33.258792 -62.776910  79.547255  69.560313 -13.916163   \n",
       "\n",
       "            ddpx        ddy      ddpy  \n",
       "36187  -0.646095  11.893958  0.304106  \n",
       "112161 -0.419973   1.861516  0.115035  \n",
       "\n",
       "[2 rows x 47 columns]"
      ]
     },
     "execution_count": 13,
     "metadata": {},
     "output_type": "execute_result"
    }
   ],
   "source": [
    "df0 = df[(df['name']==TCCS_name) |  (df['name']==TCP_name)]# TCP_name]] \n",
    "df0"
   ]
  },
  {
   "cell_type": "code",
   "execution_count": 14,
   "metadata": {},
   "outputs": [
    {
     "data": {
      "text/plain": [
       "0.4403377282192194"
      ]
     },
     "execution_count": 14,
     "metadata": {},
     "output_type": "execute_result"
    }
   ],
   "source": [
    "optphase = 158.521582158919/360\n",
    "optphase"
   ]
  },
  {
   "cell_type": "code",
   "execution_count": 15,
   "metadata": {},
   "outputs": [
    {
     "data": {
      "text/plain": [
       "0.44033770637290814"
      ]
     },
     "execution_count": 15,
     "metadata": {},
     "output_type": "execute_result"
    }
   ],
   "source": [
    "(df0['muy'].iloc[1] - df0['muy'].iloc[0])%1"
   ]
  },
  {
   "cell_type": "code",
   "execution_count": 16,
   "metadata": {},
   "outputs": [],
   "source": []
  },
  {
   "cell_type": "code",
   "execution_count": null,
   "metadata": {},
   "outputs": [],
   "source": []
  },
  {
   "cell_type": "code",
   "execution_count": null,
   "metadata": {},
   "outputs": [],
   "source": []
  },
  {
   "cell_type": "code",
   "execution_count": null,
   "metadata": {},
   "outputs": [],
   "source": []
  },
  {
   "cell_type": "code",
   "execution_count": null,
   "metadata": {},
   "outputs": [],
   "source": []
  },
  {
   "cell_type": "code",
   "execution_count": null,
   "metadata": {},
   "outputs": [],
   "source": []
  },
  {
   "cell_type": "markdown",
   "metadata": {},
   "source": [
    "# Tutorial"
   ]
  },
  {
   "cell_type": "code",
   "execution_count": 1,
   "metadata": {},
   "outputs": [],
   "source": [
    "import numpy as np\n",
    "import xtrack as xt\n",
    "\n",
    "# We build a simple ring\n",
    "pi = np.pi\n",
    "lbend = 3\n",
    "lquad = 0.3\n",
    "elements = {\n",
    "    'mqf.1': xt.Quadrupole(length=lquad, k1=0.1),\n",
    "    'd1.1':  xt.Drift(length=1),\n",
    "    'mb1.1': xt.Bend(length=lbend, k0=pi / 2 / lbend, h=pi / 2 / lbend),\n",
    "    'd2.1':  xt.Drift(length=1),\n",
    "\n",
    "    'mqd.1': xt.Quadrupole(length=lquad, k1=-0.7),\n",
    "    'd3.1':  xt.Drift(length=1),\n",
    "    'mb2.1': xt.Bend(length=lbend, k0=pi / 2 / lbend, h=pi / 2 / lbend),\n",
    "    'd4.1':  xt.Drift(length=1),\n",
    "\n",
    "    'mqf.2': xt.Quadrupole(length=lquad, k1=0.1),\n",
    "    'd1.2':  xt.Drift(length=1),\n",
    "    'mb1.2': xt.Bend(length=lbend, k0=pi / 2 / lbend, h=pi / 2 / lbend),\n",
    "    'd2.2':  xt.Drift(length=1),\n",
    "\n",
    "    'mqd.2': xt.Quadrupole(length=lquad, k1=-0.7),\n",
    "    'd3.2':  xt.Drift(length=1),\n",
    "    'mb2.2': xt.Bend(length=lbend, k0=pi / 2 / lbend, h=pi / 2 / lbend),\n",
    "    'd4.2':  xt.Drift(length=1),\n",
    "}\n",
    "line = xt.Line(elements=elements, element_names=list(elements.keys()))\n",
    "line.particle_ref = xt.Particles(p0c=1.2e9, mass0=xt.PROTON_MASS_EV)"
   ]
  },
  {
   "cell_type": "code",
   "execution_count": 6,
   "metadata": {},
   "outputs": [],
   "source": [
    "line.vars['ciao!'] = 0\n",
    "line.element_refs['mqf.1'].k1 = line.vars['ciao!'] / lquad"
   ]
  },
  {
   "cell_type": "code",
   "execution_count": 14,
   "metadata": {},
   "outputs": [
    {
     "data": {
      "text/plain": [
       "0"
      ]
     },
     "execution_count": 14,
     "metadata": {},
     "output_type": "execute_result"
    }
   ],
   "source": [
    "line.vars['ciao!']._get_value()"
   ]
  },
  {
   "cell_type": "code",
   "execution_count": 12,
   "metadata": {},
   "outputs": [],
   "source": [
    "line['mqf.1'].k1 = 3"
   ]
  },
  {
   "cell_type": "code",
   "execution_count": 16,
   "metadata": {},
   "outputs": [
    {
     "data": {
      "text/plain": [
       "3.3333333333333335"
      ]
     },
     "execution_count": 16,
     "metadata": {},
     "output_type": "execute_result"
    }
   ],
   "source": [
    "line['mqf.1'].k1"
   ]
  },
  {
   "cell_type": "code",
   "execution_count": 15,
   "metadata": {},
   "outputs": [],
   "source": [
    "line.vars['ciao!'] = 1"
   ]
  },
  {
   "cell_type": "code",
   "execution_count": 7,
   "metadata": {},
   "outputs": [
    {
     "data": {
      "text/plain": [
       "[vars['ciao!'], element_refs['mqf.1'].k1, element_refs['mqf.1']]"
      ]
     },
     "execution_count": 7,
     "metadata": {},
     "output_type": "execute_result"
    }
   ],
   "source": [
    "line.vars['ciao!']._find_dependant_targets()"
   ]
  },
  {
   "cell_type": "code",
   "execution_count": 17,
   "metadata": {},
   "outputs": [
    {
     "data": {
      "text/plain": [
       "Table: 2 rows, 2 cols\n",
       "name     value\n",
       "t_turn_s     0\n",
       "ciao!        1"
      ]
     },
     "execution_count": 17,
     "metadata": {},
     "output_type": "execute_result"
    }
   ],
   "source": [
    "line.vars.get_table()"
   ]
  },
  {
   "cell_type": "code",
   "execution_count": 20,
   "metadata": {},
   "outputs": [],
   "source": [
    "#For each quadrupole we create a variable controlling its integrated strength.\n",
    "# Expressions can be associated to any beam element property, using the `element_refs`\n",
    "# attribute of the line. For example:\n",
    "line.vars['k1l.qf.1'] = 0\n",
    "line.element_refs['mqf.1'].k1 = line.vars['k1l.qf.1'] / lquad\n",
    "line.vars['k1l.qd.1'] = 0\n",
    "line.element_refs['mqd.1'].k1 = line.vars['k1l.qd.1'] / lquad\n",
    "line.vars['k1l.qf.2'] = 0\n",
    "line.element_refs['mqf.2'].k1 = line.vars['k1l.qf.2'] / lquad\n",
    "line.vars['k1l.qd.2'] = 0\n",
    "line.element_refs['mqd.2'].k1 = line.vars['k1l.qd.2'] / lquad"
   ]
  },
  {
   "cell_type": "code",
   "execution_count": 21,
   "metadata": {},
   "outputs": [
    {
     "data": {
      "text/plain": [
       "0.33333333333333337"
      ]
     },
     "execution_count": 21,
     "metadata": {},
     "output_type": "execute_result"
    }
   ],
   "source": [
    "# When a variable is changed, the corresponding element property is automatically\n",
    "# updated:\n",
    "line.vars['k1l.qf.1'] = 0.1\n",
    "line['mqf.1'].k1 # is 0.333, i.e. 0.1 / lquad\n"
   ]
  },
  {
   "cell_type": "code",
   "execution_count": 22,
   "metadata": {},
   "outputs": [],
   "source": [
    "# We can create a variable controlling the integrated strength of the two\n",
    "# focusing quadrupoles\n",
    "line.vars['k1lf'] = 0.1\n",
    "line.vars['k1l.qf.1'] = line.vars['k1lf']\n",
    "line.vars['k1l.qf.2'] = line.vars['k1lf']\n",
    "# and a variable controlling the integrated strength of the two defocusing quadrupoles\n",
    "line.vars['k1ld'] = -0.7\n",
    "line.vars['k1l.qd.1'] = line.vars['k1ld']\n",
    "line.vars['k1l.qd.2'] = line.vars['k1ld']\n"
   ]
  },
  {
   "cell_type": "code",
   "execution_count": 23,
   "metadata": {},
   "outputs": [
    {
     "data": {
      "text/plain": [
       "0.6666666666666667"
      ]
     },
     "execution_count": 23,
     "metadata": {},
     "output_type": "execute_result"
    }
   ],
   "source": [
    "# Changes on the controlling variable are propagated to the two controlled ones and\n",
    "# to the corresponding element properties:\n",
    "line.vars['k1lf'] = 0.2\n",
    "line.vars['k1l.qf.1']._get_value() # is 0.2\n",
    "line.vars['k1l.qf.2']._get_value() # is 0.2\n",
    "line['mqf.1'].k1 # is 0.666, i.e. 0.2 / lquad\n",
    "line['mqf.2'].k1 # is 0.666, i.e. 0.2 / lquad\n",
    "\n"
   ]
  },
  {
   "cell_type": "code",
   "execution_count": 24,
   "metadata": {},
   "outputs": [
    {
     "name": "stdout",
     "output_type": "stream",
     "text": [
      "#  vars['k1l.qf.1']._get_value()\n",
      "   vars['k1l.qf.1'] = 0.2\n",
      "\n",
      "#  vars['k1l.qf.1']._expr\n",
      "   vars['k1l.qf.1'] = vars['k1lf']\n",
      "\n",
      "#  vars['k1l.qf.1']._expr._get_dependencies()\n",
      "   vars['k1lf'] = 0.2\n",
      "\n",
      "#  vars['k1l.qf.1']._find_dependant_targets()\n",
      "   element_refs['mqf.1'].k1\n",
      "\n"
     ]
    }
   ],
   "source": [
    "# The `_info()` method of a variable provides information on the existing relations\n",
    "# between the variables. For example:\n",
    "line.vars['k1l.qf.1']._info()"
   ]
  },
  {
   "cell_type": "code",
   "execution_count": 25,
   "metadata": {},
   "outputs": [
    {
     "name": "stdout",
     "output_type": "stream",
     "text": [
      "#  vars['k1lf']._get_value()\n",
      "   vars['k1lf'] = 0.2\n",
      "\n",
      "#  vars['k1lf']._expr is None\n",
      "\n",
      "#  vars['k1lf']._find_dependant_targets()\n",
      "   vars['k1l.qf.2']\n",
      "   element_refs['mqf.2'].k1\n",
      "   vars['k1l.qf.1']\n",
      "   element_refs['mqf.1'].k1\n",
      "\n"
     ]
    }
   ],
   "source": [
    "line.vars['k1lf']._info()"
   ]
  },
  {
   "cell_type": "code",
   "execution_count": 26,
   "metadata": {},
   "outputs": [
    {
     "name": "stdout",
     "output_type": "stream",
     "text": [
      "#  element_refs['mqf.1'].k1._get_value()\n",
      "   element_refs['mqf.1'].k1 = 0.6666666666666667\n",
      "\n",
      "#  element_refs['mqf.1'].k1._expr\n",
      "   element_refs['mqf.1'].k1 = (vars['k1l.qf.1'] / 0.3)\n",
      "\n",
      "#  element_refs['mqf.1'].k1._expr._get_dependencies()\n",
      "   vars['k1l.qf.1'] = 0.2\n",
      "\n",
      "#  element_refs['mqf.1'].k1 does not influence any target\n",
      "\n"
     ]
    }
   ],
   "source": [
    "line.element_refs['mqf.1'].k1._info()\n"
   ]
  },
  {
   "cell_type": "code",
   "execution_count": 27,
   "metadata": {},
   "outputs": [],
   "source": [
    "# Expressions can include multiple variables and mathematical operations. For example\n",
    "line.vars['a'] = 3 * line.functions.sqrt(line.vars['k1lf']) + 2 * line.vars['k1ld']"
   ]
  },
  {
   "cell_type": "code",
   "execution_count": 28,
   "metadata": {},
   "outputs": [
    {
     "data": {
      "text/plain": [
       "0.2"
      ]
     },
     "execution_count": 28,
     "metadata": {},
     "output_type": "execute_result"
    }
   ],
   "source": [
    "# As seen above, line.vars['varname'] returns a reference object that\n",
    "# can be used to build further references, or to inspect its properties.\n",
    "# To get the current value of the variable, one needs to use `._get_value()`\n",
    "# For quick access to the current value of a variable, one can use the `line.varval`\n",
    "# attribute or its shortcut `line.vv`:\n",
    "line.varval['k1lf'] # is 0.2"
   ]
  },
  {
   "cell_type": "code",
   "execution_count": 29,
   "metadata": {},
   "outputs": [
    {
     "data": {
      "text/plain": [
       "0.2"
      ]
     },
     "execution_count": 29,
     "metadata": {},
     "output_type": "execute_result"
    }
   ],
   "source": [
    "line.vv['k1lf']     # is 0.2"
   ]
  },
  {
   "cell_type": "code",
   "execution_count": 30,
   "metadata": {},
   "outputs": [],
   "source": [
    "# Note an important difference when using `line.vars` or `line.varval` in building\n",
    "# expressions. For example:\n",
    "line.vars['a'] = 3.\n",
    "line.vars['b'] = 2 * line.vars['a']\n"
   ]
  },
  {
   "cell_type": "code",
   "execution_count": 31,
   "metadata": {},
   "outputs": [
    {
     "data": {
      "text/plain": [
       "8.0"
      ]
     },
     "execution_count": 31,
     "metadata": {},
     "output_type": "execute_result"
    }
   ],
   "source": [
    "# In this case the reference to the quantity `line.vars['a']` is stored in the\n",
    "# expression, and the value of `line.vars['b']` is updated when `line.vars['a']`\n",
    "# changes:\n",
    "line.vars['a'] = 4.\n",
    "line.vv['b'] # is 8.\n"
   ]
  },
  {
   "cell_type": "code",
   "execution_count": 32,
   "metadata": {},
   "outputs": [
    {
     "data": {
      "text/plain": [
       "6.0"
      ]
     },
     "execution_count": 32,
     "metadata": {},
     "output_type": "execute_result"
    }
   ],
   "source": [
    "# On the contrary, when using `line.varval` or `line.vv` in building expressions,\n",
    "# the current value of the variable is stored in the expression:\n",
    "line.vv['a'] = 3.\n",
    "line.vv['b'] = 2 * line.vv['a']\n",
    "line.vv['b'] # is 6.\n"
   ]
  },
  {
   "cell_type": "code",
   "execution_count": 33,
   "metadata": {},
   "outputs": [
    {
     "data": {
      "text/plain": [
       "6.0"
      ]
     },
     "execution_count": 33,
     "metadata": {},
     "output_type": "execute_result"
    }
   ],
   "source": [
    "line.vv['a'] = 4.\n",
    "line.vv['b'] # is still 6."
   ]
  },
  {
   "cell_type": "code",
   "execution_count": 34,
   "metadata": {},
   "outputs": [
    {
     "data": {
      "text/plain": [
       "Table: 10 rows, 2 cols\n",
       "name     value\n",
       "t_turn_s     0\n",
       "ciao!        1\n",
       "k1l.qf.1   0.2\n",
       "k1l.qd.1  -0.7\n",
       "k1l.qf.2   0.2\n",
       "k1l.qd.2  -0.7\n",
       "k1lf       0.2\n",
       "k1ld      -0.7\n",
       "a            4\n",
       "b            6"
      ]
     },
     "execution_count": 34,
     "metadata": {},
     "output_type": "execute_result"
    }
   ],
   "source": [
    "# The `line.vars.get_table()` method returns a table with the value of all the\n",
    "# existing variables:\n",
    "line.vars.get_table()"
   ]
  },
  {
   "cell_type": "code",
   "execution_count": 35,
   "metadata": {},
   "outputs": [
    {
     "data": {
      "text/plain": [
       "Table: 2 rows, 2 cols\n",
       "name     value\n",
       "k1l.qf.1   0.2\n",
       "k1l.qf.2   0.2"
      ]
     },
     "execution_count": 35,
     "metadata": {},
     "output_type": "execute_result"
    }
   ],
   "source": [
    "# Regular expressions can be used to select variables. For example we can select all\n",
    "# the variables containing `qf` using the following:\n",
    "var_tab = line.vars.get_table()\n",
    "var_tab.rows['.*qf.*']"
   ]
  },
  {
   "cell_type": "code",
   "execution_count": null,
   "metadata": {},
   "outputs": [],
   "source": []
  }
 ],
 "metadata": {
  "kernelspec": {
   "display_name": "LCG view 104 + venv",
   "language": "python-custom",
   "name": "lcg-view"
  },
  "language_info": {
   "codemirror_mode": {
    "name": "ipython",
    "version": 3
   },
   "file_extension": ".py",
   "mimetype": "text/x-python",
   "name": "python",
   "nbconvert_exporter": "python",
   "pygments_lexer": "ipython3",
   "version": "3.9.12"
  }
 },
 "nbformat": 4,
 "nbformat_minor": 2
}
