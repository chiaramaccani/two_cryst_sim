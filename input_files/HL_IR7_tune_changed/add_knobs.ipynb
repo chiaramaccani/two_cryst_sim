{
 "cells": [
  {
   "cell_type": "code",
   "execution_count": 1,
   "metadata": {},
   "outputs": [],
   "source": [
    "import numpy as np\n",
    "import xtrack as xt         \n",
    "import xpart as xp\n",
    "import xdeps as xd   \n",
    "import inspect\n",
    "import pickle\n",
    "import scipy"
   ]
  },
  {
   "cell_type": "code",
   "execution_count": 2,
   "metadata": {},
   "outputs": [
    {
     "data": {
      "text/plain": [
       "{'kqtf.b2': 0.0011818757749497125,\n",
       " 'kqtd.b2': 0.00039995032656042225,\n",
       " 'ksf.b2': 0.013671217855801818,\n",
       " 'ksd.b2': -0.027461381805006884,\n",
       " 'kqt13.l2b2': 0.00044820531861246337,\n",
       " 'kqt12.l2b2': -0.00325876956245464,\n",
       " 'kqtl11.l2b2': 0.0036137818922661012,\n",
       " 'kq10.l2b2': 0.007045139314842348,\n",
       " 'kq9.l2b2': -0.006972782741462498,\n",
       " 'kq8.l2b2': 0.0070462830327643845,\n",
       " 'kq7.l2b2': -0.007842202275448596,\n",
       " 'kq6.l2b2': 0.0043211262547880455,\n",
       " 'kq5.l2b2': -0.003337654222225493,\n",
       " 'kq4.l2b2': 0.001997310268115769,\n",
       " 'kqx.l2': 0.008779789111959506,\n",
       " 'kq4.r2b2': -0.00368109021289313,\n",
       " 'kq5.r2b2': 0.004823885972096867,\n",
       " 'kq6.r2b2': -0.003955912837622948,\n",
       " 'kq7.r2b2': 0.007507920296474127,\n",
       " 'kq8.r2b2': -0.005648259444973232,\n",
       " 'kq9.r2b2': 0.006765351300046119,\n",
       " 'kq10.r2b2': -0.005373024477303036,\n",
       " 'kqtl11.r2b2': 0.00046971444431448617,\n",
       " 'kqt12.r2b2': -0.0017499689019651523,\n",
       " 'kqt13.r2b2': 0.004445460352212683,\n",
       " 'kqt13.l4b2': -0.0034740920274989153,\n",
       " 'kqt12.l4b2': 0.0023614568708046776,\n",
       " 'kqtl11.l4b2': -4.101519432861279e-05,\n",
       " 'kq10.l4b2': 0.007137896765945889,\n",
       " 'kq9.l4b2': -0.005083055074259824,\n",
       " 'kq8.l4b2': 0.008463814948533273,\n",
       " 'kq7.l4b2': -0.005020119697614168,\n",
       " 'kq6.l4b2': 0.00579404704017306,\n",
       " 'kq5.l4b2': -0.004199905445269168,\n",
       " 'kq5.r4b2': 0.0053604495766327274,\n",
       " 'kq6.r4b2': -0.0064255935086988845,\n",
       " 'kq7.r4b2': 0.0057458592898302465,\n",
       " 'kq8.r4b2': -0.006012478426848644,\n",
       " 'kq9.r4b2': 0.005839160214107324,\n",
       " 'kq10.r4b2': -0.005704420248475755,\n",
       " 'kqtl11.r4b2': 0.0007358673043437045,\n",
       " 'kqt12.r4b2': 0.0033929299009949248,\n",
       " 'kqt13.r4b2': -0.004527818444012534}"
      ]
     },
     "execution_count": 2,
     "metadata": {},
     "output_type": "execute_result"
    }
   ],
   "source": [
    "with open('knob_no_phase.pkl', 'rb') as f:\n",
    "    knobs = pickle.load(f)\n",
    "\n",
    "knobs"
   ]
  },
  {
   "cell_type": "code",
   "execution_count": 5,
   "metadata": {},
   "outputs": [
    {
     "data": {
      "application/vnd.jupyter.widget-view+json": {
       "model_id": "ab2d5999b13749578d02520e3dfe09ea",
       "version_major": 2,
       "version_minor": 0
      },
      "text/plain": [
       "Loading line from dict:   0%|          | 0/151124 [00:00<?, ?it/s]"
      ]
     },
     "metadata": {},
     "output_type": "display_data"
    },
    {
     "name": "stdout",
     "output_type": "stream",
     "text": [
      "Done loading line from dict.           \n"
     ]
    }
   ],
   "source": [
    "line_path = './b4_sequence_patched.json'\n",
    "#line_path = '../HL_IR7_IR3_rematched/b4_sequence_patched.json'\n",
    "line = xt.Line.from_json(line_path)"
   ]
  },
  {
   "cell_type": "code",
   "execution_count": 6,
   "metadata": {},
   "outputs": [
    {
     "data": {
      "text/plain": [
       "Table: 481044 rows, 2 cols"
      ]
     },
     "execution_count": 6,
     "metadata": {},
     "output_type": "execute_result"
    }
   ],
   "source": [
    "line.vars.get_table()"
   ]
  },
  {
   "cell_type": "code",
   "execution_count": 7,
   "metadata": {},
   "outputs": [
    {
     "data": {
      "text/plain": [
       "0.0011632091446078041"
      ]
     },
     "execution_count": 7,
     "metadata": {},
     "output_type": "execute_result"
    }
   ],
   "source": [
    "line.vv['kqtf.b2']"
   ]
  },
  {
   "cell_type": "code",
   "execution_count": 8,
   "metadata": {},
   "outputs": [],
   "source": [
    "for k, v in knobs.items():\n",
    "    line.vars[k] = v"
   ]
  },
  {
   "cell_type": "code",
   "execution_count": 9,
   "metadata": {},
   "outputs": [
    {
     "data": {
      "text/plain": [
       "0.0011818757749497125"
      ]
     },
     "execution_count": 9,
     "metadata": {},
     "output_type": "execute_result"
    }
   ],
   "source": [
    "line.vv['kqtf.b2']"
   ]
  },
  {
   "cell_type": "code",
   "execution_count": 10,
   "metadata": {},
   "outputs": [],
   "source": [
    "save = True\n",
    "if save:\n",
    "    line.to_json('b4_sequence_patched_tune.json')"
   ]
  },
  {
   "cell_type": "code",
   "execution_count": 18,
   "metadata": {},
   "outputs": [
    {
     "data": {
      "application/vnd.jupyter.widget-view+json": {
       "model_id": "45b9c237bc7545a982c9180781fc4ab7",
       "version_major": 2,
       "version_minor": 0
      },
      "text/plain": [
       "Loading line from dict:   0%|          | 0/151124 [00:00<?, ?it/s]"
      ]
     },
     "metadata": {},
     "output_type": "display_data"
    },
    {
     "name": "stdout",
     "output_type": "stream",
     "text": [
      "Done loading line from dict.           \n"
     ]
    }
   ],
   "source": [
    "new_line = xt.Line.from_json('b4_sequence_patched_tune.json')"
   ]
  },
  {
   "cell_type": "code",
   "execution_count": 19,
   "metadata": {},
   "outputs": [],
   "source": [
    "end_s = new_line.get_length()\n",
    "\n",
    "TCCS_name = 'tccs.5r3.b2'\n",
    "TCCP_name = 'tccp.4l3.b2'\n",
    "TARGET_name = 'target.4l3.b2'\n",
    "TCLA_name = 'tcla.a5l3.b2'\n",
    "TCP_name = 'tcp.d6r7.b2'\n",
    "\n",
    "TCCS_loc = end_s - 6773.7 #6775\n",
    "TCCP_loc = end_s - 6653.3 #6655\n",
    "TARGET_loc = end_s - (6653.3 +  0.070/2 + 0.005/2)\n",
    "TCLA_loc = new_line.get_s_position()[new_line.element_names.index(TCLA_name)]\n",
    "\n",
    "\n",
    "new_line.insert_element(at_s=TCCS_loc, element=xt.Marker(), name='tccs.5r3.b2')\n",
    "new_line.insert_element(at_s=TCCS_loc, element=xt.LimitEllipse(a_squ=0.0016, b_squ=0.0016, a_b_squ=2.56e-06), name='tccs.5r3.b2_aper')\n",
    "new_line.insert_element(at_s=TCCP_loc, element=xt.Marker(), name='tccp.4l3.b2')\n",
    "new_line.insert_element(at_s=TCCP_loc, element=xt.LimitEllipse(a_squ=0.0016, b_squ=0.0016, a_b_squ=2.56e-06), name='tccp.4l3.b2_aper')\n",
    "new_line.insert_element(at_s=TARGET_loc, element=xt.Marker(), name='target.4l3.b2')\n",
    "new_line.insert_element(at_s=TARGET_loc, element=xt.LimitEllipse(a_squ=0.0016, b_squ=0.0016, a_b_squ=2.56e-06), name='target.4l3.b2_aper')"
   ]
  },
  {
   "cell_type": "code",
   "execution_count": 20,
   "metadata": {},
   "outputs": [
    {
     "name": "stdout",
     "output_type": "stream",
     "text": [
      "Compiling ContextCpu kernels...\n",
      "Done compiling ContextCpu kernels.\n",
      "Compiling ContextCpu kernels...\n",
      "Done compiling ContextCpu kernels.\n"
     ]
    }
   ],
   "source": [
    "tw = new_line.twiss(method='4d')"
   ]
  },
  {
   "cell_type": "code",
   "execution_count": 21,
   "metadata": {},
   "outputs": [],
   "source": [
    "df = tw.to_pandas()"
   ]
  },
  {
   "cell_type": "code",
   "execution_count": 22,
   "metadata": {},
   "outputs": [
    {
     "data": {
      "text/html": [
       "<div>\n",
       "<style scoped>\n",
       "    .dataframe tbody tr th:only-of-type {\n",
       "        vertical-align: middle;\n",
       "    }\n",
       "\n",
       "    .dataframe tbody tr th {\n",
       "        vertical-align: top;\n",
       "    }\n",
       "\n",
       "    .dataframe thead th {\n",
       "        text-align: right;\n",
       "    }\n",
       "</style>\n",
       "<table border=\"1\" class=\"dataframe\">\n",
       "  <thead>\n",
       "    <tr style=\"text-align: right;\">\n",
       "      <th></th>\n",
       "      <th>name</th>\n",
       "      <th>s</th>\n",
       "      <th>x</th>\n",
       "      <th>px</th>\n",
       "      <th>y</th>\n",
       "      <th>py</th>\n",
       "      <th>zeta</th>\n",
       "      <th>delta</th>\n",
       "      <th>ptau</th>\n",
       "      <th>W_matrix</th>\n",
       "      <th>...</th>\n",
       "      <th>bx_chrom</th>\n",
       "      <th>by_chrom</th>\n",
       "      <th>ax_chrom</th>\n",
       "      <th>ay_chrom</th>\n",
       "      <th>wx_chrom</th>\n",
       "      <th>wy_chrom</th>\n",
       "      <th>ddx</th>\n",
       "      <th>ddpx</th>\n",
       "      <th>ddy</th>\n",
       "      <th>ddpy</th>\n",
       "    </tr>\n",
       "  </thead>\n",
       "  <tbody>\n",
       "    <tr>\n",
       "      <th>36187</th>\n",
       "      <td>tcp.d6r7.b2</td>\n",
       "      <td>6459.742798</td>\n",
       "      <td>0.000005</td>\n",
       "      <td>-5.186479e-08</td>\n",
       "      <td>4.866660e-08</td>\n",
       "      <td>3.688225e-09</td>\n",
       "      <td>0.000016</td>\n",
       "      <td>0.0</td>\n",
       "      <td>0.0</td>\n",
       "      <td>[[19.481277145594657, 4.440892098500626e-16, -...</td>\n",
       "      <td>...</td>\n",
       "      <td>0.763853</td>\n",
       "      <td>75.07037</td>\n",
       "      <td>4.198493</td>\n",
       "      <td>-17.410620</td>\n",
       "      <td>4.267413</td>\n",
       "      <td>77.062897</td>\n",
       "      <td>64.615547</td>\n",
       "      <td>-0.644165</td>\n",
       "      <td>30.173957</td>\n",
       "      <td>0.571265</td>\n",
       "    </tr>\n",
       "    <tr>\n",
       "      <th>112161</th>\n",
       "      <td>tccs.5r3.b2</td>\n",
       "      <td>19885.183171</td>\n",
       "      <td>-0.000002</td>\n",
       "      <td>-4.036098e-08</td>\n",
       "      <td>5.168347e-07</td>\n",
       "      <td>-8.297802e-10</td>\n",
       "      <td>0.000016</td>\n",
       "      <td>0.0</td>\n",
       "      <td>0.0</td>\n",
       "      <td>[[9.06286972844423, 8.881784197001252e-16, 1.2...</td>\n",
       "      <td>...</td>\n",
       "      <td>-72.501641</td>\n",
       "      <td>8.16364</td>\n",
       "      <td>-30.578999</td>\n",
       "      <td>-65.030145</td>\n",
       "      <td>78.686486</td>\n",
       "      <td>65.540558</td>\n",
       "      <td>-17.148928</td>\n",
       "      <td>-0.429061</td>\n",
       "      <td>-9.382788</td>\n",
       "      <td>0.117892</td>\n",
       "    </tr>\n",
       "  </tbody>\n",
       "</table>\n",
       "<p>2 rows × 47 columns</p>\n",
       "</div>"
      ],
      "text/plain": [
       "               name             s         x            px             y  \\\n",
       "36187   tcp.d6r7.b2   6459.742798  0.000005 -5.186479e-08  4.866660e-08   \n",
       "112161  tccs.5r3.b2  19885.183171 -0.000002 -4.036098e-08  5.168347e-07   \n",
       "\n",
       "                  py      zeta  delta  ptau  \\\n",
       "36187   3.688225e-09  0.000016    0.0   0.0   \n",
       "112161 -8.297802e-10  0.000016    0.0   0.0   \n",
       "\n",
       "                                                 W_matrix  ...   bx_chrom  \\\n",
       "36187   [[19.481277145594657, 4.440892098500626e-16, -...  ...   0.763853   \n",
       "112161  [[9.06286972844423, 8.881784197001252e-16, 1.2...  ... -72.501641   \n",
       "\n",
       "        by_chrom   ax_chrom   ay_chrom   wx_chrom   wy_chrom        ddx  \\\n",
       "36187   75.07037   4.198493 -17.410620   4.267413  77.062897  64.615547   \n",
       "112161   8.16364 -30.578999 -65.030145  78.686486  65.540558 -17.148928   \n",
       "\n",
       "            ddpx        ddy      ddpy  \n",
       "36187  -0.644165  30.173957  0.571265  \n",
       "112161 -0.429061  -9.382788  0.117892  \n",
       "\n",
       "[2 rows x 47 columns]"
      ]
     },
     "execution_count": 22,
     "metadata": {},
     "output_type": "execute_result"
    }
   ],
   "source": [
    "df0 = df[(df['name']==TCCS_name) |  (df['name']==TCP_name)]# TCP_name]] \n",
    "df0"
   ]
  },
  {
   "cell_type": "code",
   "execution_count": 23,
   "metadata": {},
   "outputs": [
    {
     "data": {
      "text/plain": [
       "0.4403377282192194"
      ]
     },
     "execution_count": 23,
     "metadata": {},
     "output_type": "execute_result"
    }
   ],
   "source": [
    "optphase = 158.521582158919/360\n",
    "optphase"
   ]
  },
  {
   "cell_type": "code",
   "execution_count": 24,
   "metadata": {},
   "outputs": [
    {
     "data": {
      "text/plain": [
       "0.41883876068921566"
      ]
     },
     "execution_count": 24,
     "metadata": {},
     "output_type": "execute_result"
    }
   ],
   "source": [
    "(df0['muy'].iloc[1] - df0['muy'].iloc[0])%1"
   ]
  },
  {
   "cell_type": "code",
   "execution_count": null,
   "metadata": {},
   "outputs": [],
   "source": []
  },
  {
   "cell_type": "code",
   "execution_count": null,
   "metadata": {},
   "outputs": [],
   "source": []
  },
  {
   "cell_type": "code",
   "execution_count": null,
   "metadata": {},
   "outputs": [],
   "source": []
  },
  {
   "cell_type": "code",
   "execution_count": null,
   "metadata": {},
   "outputs": [],
   "source": []
  },
  {
   "cell_type": "code",
   "execution_count": null,
   "metadata": {},
   "outputs": [],
   "source": []
  },
  {
   "cell_type": "code",
   "execution_count": null,
   "metadata": {},
   "outputs": [],
   "source": []
  },
  {
   "cell_type": "markdown",
   "metadata": {},
   "source": [
    "# Tutorial"
   ]
  },
  {
   "cell_type": "code",
   "execution_count": 1,
   "metadata": {},
   "outputs": [],
   "source": [
    "import numpy as np\n",
    "import xtrack as xt\n",
    "\n",
    "# We build a simple ring\n",
    "pi = np.pi\n",
    "lbend = 3\n",
    "lquad = 0.3\n",
    "elements = {\n",
    "    'mqf.1': xt.Quadrupole(length=lquad, k1=0.1),\n",
    "    'd1.1':  xt.Drift(length=1),\n",
    "    'mb1.1': xt.Bend(length=lbend, k0=pi / 2 / lbend, h=pi / 2 / lbend),\n",
    "    'd2.1':  xt.Drift(length=1),\n",
    "\n",
    "    'mqd.1': xt.Quadrupole(length=lquad, k1=-0.7),\n",
    "    'd3.1':  xt.Drift(length=1),\n",
    "    'mb2.1': xt.Bend(length=lbend, k0=pi / 2 / lbend, h=pi / 2 / lbend),\n",
    "    'd4.1':  xt.Drift(length=1),\n",
    "\n",
    "    'mqf.2': xt.Quadrupole(length=lquad, k1=0.1),\n",
    "    'd1.2':  xt.Drift(length=1),\n",
    "    'mb1.2': xt.Bend(length=lbend, k0=pi / 2 / lbend, h=pi / 2 / lbend),\n",
    "    'd2.2':  xt.Drift(length=1),\n",
    "\n",
    "    'mqd.2': xt.Quadrupole(length=lquad, k1=-0.7),\n",
    "    'd3.2':  xt.Drift(length=1),\n",
    "    'mb2.2': xt.Bend(length=lbend, k0=pi / 2 / lbend, h=pi / 2 / lbend),\n",
    "    'd4.2':  xt.Drift(length=1),\n",
    "}\n",
    "line = xt.Line(elements=elements, element_names=list(elements.keys()))\n",
    "line.particle_ref = xt.Particles(p0c=1.2e9, mass0=xt.PROTON_MASS_EV)"
   ]
  },
  {
   "cell_type": "code",
   "execution_count": 6,
   "metadata": {},
   "outputs": [],
   "source": [
    "line.vars['ciao!'] = 0\n",
    "line.element_refs['mqf.1'].k1 = line.vars['ciao!'] / lquad"
   ]
  },
  {
   "cell_type": "code",
   "execution_count": 14,
   "metadata": {},
   "outputs": [
    {
     "data": {
      "text/plain": [
       "0"
      ]
     },
     "execution_count": 14,
     "metadata": {},
     "output_type": "execute_result"
    }
   ],
   "source": [
    "line.vars['ciao!']._get_value()"
   ]
  },
  {
   "cell_type": "code",
   "execution_count": 12,
   "metadata": {},
   "outputs": [],
   "source": [
    "line['mqf.1'].k1 = 3"
   ]
  },
  {
   "cell_type": "code",
   "execution_count": 16,
   "metadata": {},
   "outputs": [
    {
     "data": {
      "text/plain": [
       "3.3333333333333335"
      ]
     },
     "execution_count": 16,
     "metadata": {},
     "output_type": "execute_result"
    }
   ],
   "source": [
    "line['mqf.1'].k1"
   ]
  },
  {
   "cell_type": "code",
   "execution_count": 15,
   "metadata": {},
   "outputs": [],
   "source": [
    "line.vars['ciao!'] = 1"
   ]
  },
  {
   "cell_type": "code",
   "execution_count": 7,
   "metadata": {},
   "outputs": [
    {
     "data": {
      "text/plain": [
       "[vars['ciao!'], element_refs['mqf.1'].k1, element_refs['mqf.1']]"
      ]
     },
     "execution_count": 7,
     "metadata": {},
     "output_type": "execute_result"
    }
   ],
   "source": [
    "line.vars['ciao!']._find_dependant_targets()"
   ]
  },
  {
   "cell_type": "code",
   "execution_count": 17,
   "metadata": {},
   "outputs": [
    {
     "data": {
      "text/plain": [
       "Table: 2 rows, 2 cols\n",
       "name     value\n",
       "t_turn_s     0\n",
       "ciao!        1"
      ]
     },
     "execution_count": 17,
     "metadata": {},
     "output_type": "execute_result"
    }
   ],
   "source": [
    "line.vars.get_table()"
   ]
  },
  {
   "cell_type": "code",
   "execution_count": 20,
   "metadata": {},
   "outputs": [],
   "source": [
    "#For each quadrupole we create a variable controlling its integrated strength.\n",
    "# Expressions can be associated to any beam element property, using the `element_refs`\n",
    "# attribute of the line. For example:\n",
    "line.vars['k1l.qf.1'] = 0\n",
    "line.element_refs['mqf.1'].k1 = line.vars['k1l.qf.1'] / lquad\n",
    "line.vars['k1l.qd.1'] = 0\n",
    "line.element_refs['mqd.1'].k1 = line.vars['k1l.qd.1'] / lquad\n",
    "line.vars['k1l.qf.2'] = 0\n",
    "line.element_refs['mqf.2'].k1 = line.vars['k1l.qf.2'] / lquad\n",
    "line.vars['k1l.qd.2'] = 0\n",
    "line.element_refs['mqd.2'].k1 = line.vars['k1l.qd.2'] / lquad"
   ]
  },
  {
   "cell_type": "code",
   "execution_count": 21,
   "metadata": {},
   "outputs": [
    {
     "data": {
      "text/plain": [
       "0.33333333333333337"
      ]
     },
     "execution_count": 21,
     "metadata": {},
     "output_type": "execute_result"
    }
   ],
   "source": [
    "# When a variable is changed, the corresponding element property is automatically\n",
    "# updated:\n",
    "line.vars['k1l.qf.1'] = 0.1\n",
    "line['mqf.1'].k1 # is 0.333, i.e. 0.1 / lquad\n"
   ]
  },
  {
   "cell_type": "code",
   "execution_count": 22,
   "metadata": {},
   "outputs": [],
   "source": [
    "# We can create a variable controlling the integrated strength of the two\n",
    "# focusing quadrupoles\n",
    "line.vars['k1lf'] = 0.1\n",
    "line.vars['k1l.qf.1'] = line.vars['k1lf']\n",
    "line.vars['k1l.qf.2'] = line.vars['k1lf']\n",
    "# and a variable controlling the integrated strength of the two defocusing quadrupoles\n",
    "line.vars['k1ld'] = -0.7\n",
    "line.vars['k1l.qd.1'] = line.vars['k1ld']\n",
    "line.vars['k1l.qd.2'] = line.vars['k1ld']\n"
   ]
  },
  {
   "cell_type": "code",
   "execution_count": 23,
   "metadata": {},
   "outputs": [
    {
     "data": {
      "text/plain": [
       "0.6666666666666667"
      ]
     },
     "execution_count": 23,
     "metadata": {},
     "output_type": "execute_result"
    }
   ],
   "source": [
    "# Changes on the controlling variable are propagated to the two controlled ones and\n",
    "# to the corresponding element properties:\n",
    "line.vars['k1lf'] = 0.2\n",
    "line.vars['k1l.qf.1']._get_value() # is 0.2\n",
    "line.vars['k1l.qf.2']._get_value() # is 0.2\n",
    "line['mqf.1'].k1 # is 0.666, i.e. 0.2 / lquad\n",
    "line['mqf.2'].k1 # is 0.666, i.e. 0.2 / lquad\n",
    "\n"
   ]
  },
  {
   "cell_type": "code",
   "execution_count": 24,
   "metadata": {},
   "outputs": [
    {
     "name": "stdout",
     "output_type": "stream",
     "text": [
      "#  vars['k1l.qf.1']._get_value()\n",
      "   vars['k1l.qf.1'] = 0.2\n",
      "\n",
      "#  vars['k1l.qf.1']._expr\n",
      "   vars['k1l.qf.1'] = vars['k1lf']\n",
      "\n",
      "#  vars['k1l.qf.1']._expr._get_dependencies()\n",
      "   vars['k1lf'] = 0.2\n",
      "\n",
      "#  vars['k1l.qf.1']._find_dependant_targets()\n",
      "   element_refs['mqf.1'].k1\n",
      "\n"
     ]
    }
   ],
   "source": [
    "# The `_info()` method of a variable provides information on the existing relations\n",
    "# between the variables. For example:\n",
    "line.vars['k1l.qf.1']._info()"
   ]
  },
  {
   "cell_type": "code",
   "execution_count": 25,
   "metadata": {},
   "outputs": [
    {
     "name": "stdout",
     "output_type": "stream",
     "text": [
      "#  vars['k1lf']._get_value()\n",
      "   vars['k1lf'] = 0.2\n",
      "\n",
      "#  vars['k1lf']._expr is None\n",
      "\n",
      "#  vars['k1lf']._find_dependant_targets()\n",
      "   vars['k1l.qf.2']\n",
      "   element_refs['mqf.2'].k1\n",
      "   vars['k1l.qf.1']\n",
      "   element_refs['mqf.1'].k1\n",
      "\n"
     ]
    }
   ],
   "source": [
    "line.vars['k1lf']._info()"
   ]
  },
  {
   "cell_type": "code",
   "execution_count": 26,
   "metadata": {},
   "outputs": [
    {
     "name": "stdout",
     "output_type": "stream",
     "text": [
      "#  element_refs['mqf.1'].k1._get_value()\n",
      "   element_refs['mqf.1'].k1 = 0.6666666666666667\n",
      "\n",
      "#  element_refs['mqf.1'].k1._expr\n",
      "   element_refs['mqf.1'].k1 = (vars['k1l.qf.1'] / 0.3)\n",
      "\n",
      "#  element_refs['mqf.1'].k1._expr._get_dependencies()\n",
      "   vars['k1l.qf.1'] = 0.2\n",
      "\n",
      "#  element_refs['mqf.1'].k1 does not influence any target\n",
      "\n"
     ]
    }
   ],
   "source": [
    "line.element_refs['mqf.1'].k1._info()\n"
   ]
  },
  {
   "cell_type": "code",
   "execution_count": 27,
   "metadata": {},
   "outputs": [],
   "source": [
    "# Expressions can include multiple variables and mathematical operations. For example\n",
    "line.vars['a'] = 3 * line.functions.sqrt(line.vars['k1lf']) + 2 * line.vars['k1ld']"
   ]
  },
  {
   "cell_type": "code",
   "execution_count": 28,
   "metadata": {},
   "outputs": [
    {
     "data": {
      "text/plain": [
       "0.2"
      ]
     },
     "execution_count": 28,
     "metadata": {},
     "output_type": "execute_result"
    }
   ],
   "source": [
    "# As seen above, line.vars['varname'] returns a reference object that\n",
    "# can be used to build further references, or to inspect its properties.\n",
    "# To get the current value of the variable, one needs to use `._get_value()`\n",
    "# For quick access to the current value of a variable, one can use the `line.varval`\n",
    "# attribute or its shortcut `line.vv`:\n",
    "line.varval['k1lf'] # is 0.2"
   ]
  },
  {
   "cell_type": "code",
   "execution_count": 29,
   "metadata": {},
   "outputs": [
    {
     "data": {
      "text/plain": [
       "0.2"
      ]
     },
     "execution_count": 29,
     "metadata": {},
     "output_type": "execute_result"
    }
   ],
   "source": [
    "line.vv['k1lf']     # is 0.2"
   ]
  },
  {
   "cell_type": "code",
   "execution_count": 30,
   "metadata": {},
   "outputs": [],
   "source": [
    "# Note an important difference when using `line.vars` or `line.varval` in building\n",
    "# expressions. For example:\n",
    "line.vars['a'] = 3.\n",
    "line.vars['b'] = 2 * line.vars['a']\n"
   ]
  },
  {
   "cell_type": "code",
   "execution_count": 31,
   "metadata": {},
   "outputs": [
    {
     "data": {
      "text/plain": [
       "8.0"
      ]
     },
     "execution_count": 31,
     "metadata": {},
     "output_type": "execute_result"
    }
   ],
   "source": [
    "# In this case the reference to the quantity `line.vars['a']` is stored in the\n",
    "# expression, and the value of `line.vars['b']` is updated when `line.vars['a']`\n",
    "# changes:\n",
    "line.vars['a'] = 4.\n",
    "line.vv['b'] # is 8.\n"
   ]
  },
  {
   "cell_type": "code",
   "execution_count": 32,
   "metadata": {},
   "outputs": [
    {
     "data": {
      "text/plain": [
       "6.0"
      ]
     },
     "execution_count": 32,
     "metadata": {},
     "output_type": "execute_result"
    }
   ],
   "source": [
    "# On the contrary, when using `line.varval` or `line.vv` in building expressions,\n",
    "# the current value of the variable is stored in the expression:\n",
    "line.vv['a'] = 3.\n",
    "line.vv['b'] = 2 * line.vv['a']\n",
    "line.vv['b'] # is 6.\n"
   ]
  },
  {
   "cell_type": "code",
   "execution_count": 33,
   "metadata": {},
   "outputs": [
    {
     "data": {
      "text/plain": [
       "6.0"
      ]
     },
     "execution_count": 33,
     "metadata": {},
     "output_type": "execute_result"
    }
   ],
   "source": [
    "line.vv['a'] = 4.\n",
    "line.vv['b'] # is still 6."
   ]
  },
  {
   "cell_type": "code",
   "execution_count": 34,
   "metadata": {},
   "outputs": [
    {
     "data": {
      "text/plain": [
       "Table: 10 rows, 2 cols\n",
       "name     value\n",
       "t_turn_s     0\n",
       "ciao!        1\n",
       "k1l.qf.1   0.2\n",
       "k1l.qd.1  -0.7\n",
       "k1l.qf.2   0.2\n",
       "k1l.qd.2  -0.7\n",
       "k1lf       0.2\n",
       "k1ld      -0.7\n",
       "a            4\n",
       "b            6"
      ]
     },
     "execution_count": 34,
     "metadata": {},
     "output_type": "execute_result"
    }
   ],
   "source": [
    "# The `line.vars.get_table()` method returns a table with the value of all the\n",
    "# existing variables:\n",
    "line.vars.get_table()"
   ]
  },
  {
   "cell_type": "code",
   "execution_count": 35,
   "metadata": {},
   "outputs": [
    {
     "data": {
      "text/plain": [
       "Table: 2 rows, 2 cols\n",
       "name     value\n",
       "k1l.qf.1   0.2\n",
       "k1l.qf.2   0.2"
      ]
     },
     "execution_count": 35,
     "metadata": {},
     "output_type": "execute_result"
    }
   ],
   "source": [
    "# Regular expressions can be used to select variables. For example we can select all\n",
    "# the variables containing `qf` using the following:\n",
    "var_tab = line.vars.get_table()\n",
    "var_tab.rows['.*qf.*']"
   ]
  },
  {
   "cell_type": "code",
   "execution_count": null,
   "metadata": {},
   "outputs": [],
   "source": []
  }
 ],
 "metadata": {
  "kernelspec": {
   "display_name": "LCG view 104 + venv",
   "language": "python-custom",
   "name": "lcg-view"
  },
  "language_info": {
   "codemirror_mode": {
    "name": "ipython",
    "version": 3
   },
   "file_extension": ".py",
   "mimetype": "text/x-python",
   "name": "python",
   "nbconvert_exporter": "python",
   "pygments_lexer": "ipython3",
   "version": "3.9.12"
  }
 },
 "nbformat": 4,
 "nbformat_minor": 2
}
