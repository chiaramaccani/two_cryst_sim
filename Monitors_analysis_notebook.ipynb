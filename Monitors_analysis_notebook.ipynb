{
 "cells": [
  {
   "cell_type": "code",
   "execution_count": 1,
   "id": "dc8890bd",
   "metadata": {},
   "outputs": [
    {
     "name": "stdout",
     "output_type": "stream",
     "text": [
      "No pytransport functionality\n",
      "No pytransport functionality\n"
     ]
    }
   ],
   "source": [
    "import json\n",
    "import os\n",
    "import subprocess\n",
    "\n",
    "import numpy as np\n",
    "from pathlib import Path\n",
    "import yaml\n",
    "import matplotlib\n",
    "import matplotlib.pyplot as plt\n",
    "import pandas as pd\n",
    "\n",
    "from matplotlib.ticker import MaxNLocator\n",
    "import lossmaps as lm\n",
    "import xobjects as xo\n",
    "\n",
    "import xtrack as xt\n",
    "import xcoll as xc\n",
    "\n",
    "import lossmaps as lm\n",
    "from mpl_toolkits.axes_grid1.inset_locator import inset_axes\n",
    "\n",
    "import xarray as xr\n",
    "\n",
    "import json\n",
    "\n",
    "import xtrack as xt\n",
    "import xpart as xp\n",
    "import xobjects as xo\n",
    "\n",
    "\n",
    "import pickle "
   ]
  },
  {
   "cell_type": "markdown",
   "metadata": {},
   "source": [
    "# LOAD LINE"
   ]
  },
  {
   "cell_type": "code",
   "execution_count": 2,
   "metadata": {},
   "outputs": [],
   "source": [
    "def find_axis_intercepts(x_coords, y_coords):\n",
    "    x_intercepts = []\n",
    "    y_intercepts = []\n",
    "\n",
    "    for i in range(len(x_coords)):\n",
    "        x1, y1 = x_coords[i], y_coords[i]\n",
    "        x2, y2 = x_coords[(i + 1) % len(x_coords)], y_coords[(i + 1) % len(y_coords)]\n",
    "\n",
    "        if x1 == x2:\n",
    "        # Vertical line, no y-intercept\n",
    "            y_intercept = 0.0 if x1 == x2 == 0.0 else None\n",
    "        else:\n",
    "            slope = (y2 - y1) / (x2 - x1)\n",
    "            y_intercept = y1 - (slope * x1)\n",
    "\n",
    "        if y1 == y2:\n",
    "        # Horizontal line, no x-intercept\n",
    "            x_intercept = 0.0 if y1 == y2 == 0.0 else None\n",
    "        else:\n",
    "            slope = (x2 - x1) / (y2 - y1)\n",
    "            x_intercept = x1 - (slope * y1)\n",
    "\n",
    "        # Check if the x-intercept is within the range of x1 and x2\n",
    "        if x_intercept is not None and (x1 <= x_intercept <= x2 or x2 <= x_intercept <= x1):\n",
    "            x_intercepts.append(x_intercept)\n",
    "\n",
    "        # Check if the y-intercept is within the range of y1 and y2\n",
    "        if y_intercept is not None and (y1 <= y_intercept <= y2 or y2 <= y_intercept <= y1):\n",
    "            y_intercepts.append(y_intercept)\n",
    "\n",
    "    return x_intercepts, y_intercepts\n",
    "\n",
    "\n",
    "\n",
    "def find_bad_offset_apertures(line):\n",
    "    aperture_offsets = {}\n",
    "    for name, element in line.element_dict.items():\n",
    "        if 'offset' in name and element.__class__.__name__.startswith('XYShift'):\n",
    "            aper_name = name.split('_offset')[0]\n",
    "            aperture_offsets[aper_name] = (element.dx, element.dy)\n",
    "\n",
    "    bad_apers = {}\n",
    "    print('vmabc.4l2.b.b2_aper' in aperture_offsets.keys())\n",
    "    for ap_name, offset in aperture_offsets.items():\n",
    "        aperture_el = line.element_dict[ap_name]\n",
    "\n",
    "        cname= aperture_el.__class__.__name__\n",
    "        ap_dict = aperture_el.to_dict()\n",
    "\n",
    "        if cname == 'LimitEllipse':\n",
    "            x_min = -ap_dict['a']\n",
    "            x_max = ap_dict['a']\n",
    "            y_min = -ap_dict['b']\n",
    "            y_max = ap_dict['b']\n",
    "        elif cname == 'LimitRect':\n",
    "            x_min = ap_dict['min_x']\n",
    "            x_max = ap_dict['max_x']\n",
    "            y_min = ap_dict['min_y']\n",
    "            y_max = ap_dict['max_y']\n",
    "        elif cname == 'LimitRectEllipse':\n",
    "            x_min = -ap_dict['max_x']\n",
    "            x_max = ap_dict['max_x']\n",
    "            y_min = -ap_dict['max_y']\n",
    "            y_max = ap_dict['max_y']\n",
    "        elif cname == 'LimitRacetrack':\n",
    "            x_min = ap_dict['min_x']\n",
    "            x_max = ap_dict['max_x']\n",
    "            y_min = ap_dict['min_y']\n",
    "            y_max = ap_dict['max_y']\n",
    "        elif cname == 'LimitPolygon':\n",
    "            x_intercepts, y_intercepts = find_axis_intercepts(ap_dict['x_vertices'],\n",
    "                                                            ap_dict['y_vertices'])\n",
    "            x_min = min(x_intercepts)\n",
    "            x_max = max(x_intercepts)\n",
    "            y_min = min(y_intercepts)\n",
    "            y_max = max(y_intercepts)\n",
    "\n",
    "        tolerance = 5e-3\n",
    "        \"\"\"if (x_max - offset[0] < tolerance \n",
    "            or -x_min + offset[0] < tolerance \n",
    "            or y_max - offset[1] < tolerance \n",
    "            or -y_min + offset[1] < tolerance):\"\"\"\n",
    "        if (offset[0] -x_max > tolerance \n",
    "            or  -offset[0] + x_min > tolerance \n",
    "            or  offset[1] - y_max > tolerance \n",
    "            or  -offset[1] + y_min > tolerance ):\n",
    "                bad_apers[ap_name] = (x_min, x_max, y_min, y_max, offset[0], offset[1])\n",
    "\n",
    "    return bad_apers\n",
    "\n"
   ]
  },
  {
   "cell_type": "code",
   "execution_count": 3,
   "metadata": {},
   "outputs": [
    {
     "name": "stdout",
     "output_type": "stream",
     "text": [
      "Done loading line from dict.           \n",
      "True\n",
      "Bad apertures :  {'tctph.4r8.a.b2_aper': (-0.04, 0.04, -0.04, 0.04, 0.16672558295218318, -0.0), 'vmabc.4l2.b.b2_aper': (-0.0315, 0.0315, -0.0315, 0.0315, -0.18383135991897473, -0.0)}\n",
      "Replace bad apertures with Marker\n",
      "tctph.4r8.a.b2_aper 3461.1485832278486 Marker(_dummy=0)\n",
      "vmabc.4l2.b.b2_aper 23206.82195866583 Marker(_dummy=0)\n",
      "\n",
      "Aperture model check on imported model:\n",
      "Done checking aperture.           \n",
      "0 thin elements miss associated aperture (upstream):\n",
      "[]\n",
      "0 thick elements miss associated aperture (upstream or downstream):\n",
      "[]\n",
      "\n",
      " Before collimator manager\n",
      "77296 TCCS_monitor\n",
      "Compiling ContextCpu kernels...\n",
      "Done compiling ContextCpu kernels.\n",
      "Installing tcl.4l1.b2           as EverestCollimator\n",
      "Installing tcl.5l1.b2           as EverestCollimator\n",
      "Installing tcl.6l1.b2           as EverestCollimator\n",
      "Installing tctph.4r8.b2         as EverestCollimator\n",
      "Installing tctpv.4r8.b2         as EverestCollimator\n",
      "Installing tdisa.a4r8.b2        as EverestCollimator\n",
      "Installing tdisb.a4r8.b2        as EverestCollimator\n",
      "Installing tdisc.a4r8.b2        as EverestCollimator\n",
      "Installing tclia.4l8            as EverestCollimator\n",
      "Installing tclib.6l8.b2         as EverestCollimator\n",
      "Installing tcp.d6r7.b2          as EverestCollimator\n",
      "Installing tcp.c6r7.b2          as EverestCollimator\n",
      "Installing tcp.b6r7.b2          as EverestCollimator\n",
      "Installing tcsg.a6r7.b2         as EverestCollimator\n",
      "Installing tcsg.b5r7.b2         as EverestCollimator\n",
      "Installing tcsg.a5r7.b2         as EverestCollimator\n",
      "Installing tcsg.d4r7.b2         as EverestCollimator\n",
      "Installing tcspm.d4r7.b2        as EverestCollimator\n",
      "Installing tcsg.b4r7.b2         as EverestCollimator\n",
      "Installing tcspm.b4r7.b2        as EverestCollimator\n",
      "Installing tcsg.a4r7.b2         as EverestCollimator\n",
      "Installing tcsg.a4l7.b2         as EverestCollimator\n",
      "Installing tcsg.b5l7.b2         as EverestCollimator\n",
      "Installing tcsg.d5l7.b2         as EverestCollimator\n",
      "Installing tcsg.e5l7.b2         as EverestCollimator\n",
      "Installing tcspm.e5l7.b2        as EverestCollimator\n",
      "Installing tcsg.6l7.b2          as EverestCollimator\n",
      "Installing tcspm.6l7.b2         as EverestCollimator\n",
      "Installing tcla.a6l7.b2         as EverestCollimator\n",
      "Installing tcla.b6l7.b2         as EverestCollimator\n",
      "Installing tcla.c6l7.b2         as EverestCollimator\n",
      "Installing tcla.d6l7.b2         as EverestCollimator\n",
      "Installing tcla.a7l7.b2         as EverestCollimator\n",
      "Installing tcdqa.a4l6.b2        as EverestCollimator\n",
      "Installing tcdqa.c4l6.b2        as EverestCollimator\n",
      "Installing tcdqa.b4l6.b2        as EverestCollimator\n",
      "Installing tcsp.a4l6.b2         as EverestCollimator\n",
      "Installing tctph.4r5.b2         as EverestCollimator\n",
      "Installing tctpv.4r5.b2         as EverestCollimator\n",
      "Installing tcl.4l5.b2           as EverestCollimator\n",
      "Installing tcl.5l5.b2           as EverestCollimator\n",
      "Installing tcl.6l5.b2           as EverestCollimator\n",
      "Installing tcp.6r3.b2           as EverestCollimator\n",
      "Installing tcsg.5r3.b2          as EverestCollimator\n",
      "Installing tcsg.4l3.b2          as EverestCollimator\n",
      "Installing tcsg.a5l3.b2         as EverestCollimator\n",
      "Installing tcsg.b5l3.b2         as EverestCollimator\n",
      "Installing tcla.a5l3.b2         as EverestCollimator\n",
      "Installing tcla.b5l3.b2         as EverestCollimator\n",
      "Installing tcla.6l3.b2          as EverestCollimator\n",
      "Installing tcla.7l3.b2          as EverestCollimator\n",
      "Installing tctph.4r2.b2         as EverestCollimator\n",
      "Installing tctpv.4r2.b2         as EverestCollimator\n",
      "Installing tcld.a11l2.b2        as EverestCollimator\n",
      "Installing tctph.4r1.b2         as EverestCollimator\n",
      "Installing tctpv.4r1.b2         as EverestCollimator\n",
      "Installing target.4l3.b2        as EverestCollimator\n",
      "Compiling ContextCpu kernels...\n",
      "Done compiling ContextCpu kernels.\n",
      "Installing tcpcv.a6r7.b2        as EverestCrystal\n",
      "Installing tcpch.a5r7.b2        as EverestCrystal\n",
      "Installing tccs.5r3.b2          as EverestCrystal\n",
      "Installing tccp.4l3.b2          as EverestCrystal\n",
      "\n",
      " After collimator manager\n",
      "77096 TCCS_monitor\n",
      "\n",
      "Aperture model check after introducing collimators:\n",
      "Done checking aperture.           \n",
      "0 thin elements miss associated aperture (upstream):\n",
      "[]\n",
      "0 thick elements miss associated aperture (upstream or downstream):\n",
      "[]\n",
      "Compiling ContextCpu kernels...\n",
      "Done compiling ContextCpu kernels.\n",
      "Compiling ContextCpu kernels...\n",
      "Done compiling ContextCpu kernels.\n"
     ]
    },
    {
     "name": "stderr",
     "output_type": "stream",
     "text": [
      "/cvmfs/sft.cern.ch/lcg/views/LCG_104a/x86_64-el9-gcc11-opt/lib/python3.9/site-packages/pandas/core/arraylike.py:402: RuntimeWarning: invalid value encountered in minimum\n",
      "  result = getattr(ufunc, method)(*inputs, **kwargs)\n",
      "/cvmfs/sft.cern.ch/lcg/views/LCG_104a/x86_64-el9-gcc11-opt/lib/python3.9/site-packages/pandas/core/arraylike.py:402: RuntimeWarning: invalid value encountered in minimum\n",
      "  result = getattr(ufunc, method)(*inputs, **kwargs)\n"
     ]
    },
    {
     "name": "stdout",
     "output_type": "stream",
     "text": [
      "\n",
      "Aperture model check after introducing collimators:\n",
      "Done checking aperture.           \n",
      "0 thin elements miss associated aperture (upstream):\n",
      "[]\n",
      "0 thick elements miss associated aperture (upstream or downstream):\n",
      "[]\n"
     ]
    }
   ],
   "source": [
    "config_file ='config_sim.yaml'\n",
    "\n",
    "with open(config_file, 'r') as stream:\n",
    "    config_dict = yaml.safe_load(stream)\n",
    "\n",
    "coll_file = config_dict['input_files']['collimators']\n",
    "with open(coll_file, 'r') as stream:\n",
    "    coll_dict = yaml.safe_load(stream)['collimators']['b'+config_dict['run']['beam']]\n",
    "\n",
    "\n",
    "run_dict = config_dict['run']\n",
    "file_dict = config_dict['input_files']\n",
    "\n",
    "\n",
    "context = xo.ContextCpu(omp_num_threads='auto')\n",
    "\n",
    "# On a modern CPU, we get ~5000 particle*turns/s\n",
    "# So this script should take around half an hour\n",
    "beam          = run_dict['beam']\n",
    "plane         = run_dict['plane']\n",
    "\n",
    "num_turns     = run_dict['turns']\n",
    "num_particles = run_dict['nparticles']\n",
    "engine        = run_dict['engine']\n",
    "\n",
    "TTCS_align_angle_step = run_dict['TTCS_align_angle_step']\n",
    "\n",
    "#--------------------------------------------------\n",
    "num_turns     = 100 #run_dict['turns']\n",
    "num_particles = 200 #run_dict['nparticles']\n",
    "mode = 'monitors' #run_dict['mode']\n",
    "#--------------------------------------------------\n",
    "\n",
    "path_out = Path.cwd() / 'Outputdata'\n",
    "\n",
    "if not path_out.exists():\n",
    "    os.makedirs(path_out)\n",
    "\n",
    "\n",
    "# Load from json\n",
    "line = xt.Line.from_json(file_dict[f'line_b{beam}'])\n",
    "\n",
    "end_s = line.get_length()\n",
    "\n",
    "TCCS_name = 'tccs.5r3.b2'\n",
    "TCCP_name = 'tccp.4l3.b2'\n",
    "TARGET_name = 'target.4l3.b2'\n",
    "TCLA_name = 'tcla.a5l3.b2'\n",
    "\n",
    "\n",
    "TCCS_loc = end_s - 6773.7 #6775\n",
    "TCCP_loc = end_s - 6653.3 #6655\n",
    "TARGET_loc = end_s - (6653.3 + coll_dict[TCCP_name][\"length\"]/2 + coll_dict[TARGET_name][\"length\"]/2)\n",
    "TCLA_loc = line.get_s_position()[line.element_names.index(TCLA_name)]\n",
    "\n",
    "\n",
    "\n",
    "\n",
    "line.insert_element(at_s=TCCS_loc, element=xt.Marker(), name=TCCS_name)\n",
    "line.insert_element(at_s=TCCS_loc, element=xt.LimitEllipse(a_squ=0.0016, b_squ=0.0016, a_b_squ=2.56e-06), name=TCCS_name+'_aper')\n",
    "line.insert_element(at_s=TARGET_loc, element=xt.Marker(), name=TARGET_name)\n",
    "line.insert_element(at_s=TARGET_loc, element=xt.LimitEllipse(a_squ=0.0016, b_squ=0.0016, a_b_squ=2.56e-06), name=TARGET_name+'_aper')\n",
    "line.insert_element(at_s=TCCP_loc, element=xt.Marker(), name=TCCP_name)\n",
    "line.insert_element(at_s=TCCP_loc, element=xt.LimitEllipse(a_squ=0.0016, b_squ=0.0016, a_b_squ=2.56e-06), name=TCCP_name+'_aper')\n",
    "\n",
    "\n",
    "TCCS_monitor = xt.ParticlesMonitor(num_particles=num_particles, start_at_turn=0, stop_at_turn=num_turns)\n",
    "TARGET_monitor = xt.ParticlesMonitor(num_particles=num_particles, start_at_turn=0, stop_at_turn=num_turns)\n",
    "dx = 1e-11\n",
    "line.insert_element(at_s = TCCS_loc - coll_dict[TCCS_name][\"length\"]/2 - dx, element=TCCS_monitor, name='TCCS_monitor')\n",
    "line.insert_element(at_s = TARGET_loc - coll_dict[TARGET_name][\"length\"]/2 - dx, element=TARGET_monitor, name='TARGET_monitor')\n",
    "\n",
    "#line.cycle(name_first_element='ip3', inplace=True)\n",
    "\n",
    "bad_aper = find_bad_offset_apertures(line)\n",
    "print('Bad apertures : ', bad_aper)\n",
    "print('Replace bad apertures with Marker')\n",
    "for name in bad_aper.keys():\n",
    "    line.element_dict[name] = xt.Marker()\n",
    "    print(name, line.get_s_position(name), line.element_dict[name])\n",
    "\n",
    "\n",
    "\n",
    "# Aperture model check\n",
    "print('\\nAperture model check on imported model:')\n",
    "df_imported = line.check_aperture()\n",
    "assert not np.any(df_imported.has_aperture_problem)\n",
    "\n",
    "\n",
    "print('\\n Before collimator manager')\n",
    "for i, n in enumerate(line.element_names):\n",
    "    if n.startswith(\"TCCS\"):\n",
    "        print(i, n)\n",
    "\n",
    "# Initialise collmanager\n",
    "coll_manager = xc.CollimatorManager.from_yaml(file_dict['collimators'], line=line, beam=beam, _context=context, ignore_crystals=False)\n",
    "\n",
    "\n",
    "#print(coll_manager.collimator_names)\n",
    "\n",
    "# Install collimators into line\n",
    "if engine == 'everest':\n",
    "    coll_names = coll_manager.collimator_names\n",
    "\n",
    "    if mode == 'cry_black_absorbers':\n",
    "        black_absorbers = ['target.4l3.b2', 'tccs.5r3.b2']\n",
    "    elif mode == 'angular_scan': \n",
    "        black_absorbers = ['target.4l3.b2',]\n",
    "    else: \n",
    "        black_absorbers = []\n",
    "\n",
    "    everest_colls = [name for name in coll_names if name not in black_absorbers]\n",
    "    coll_manager.install_everest_collimators(names=everest_colls,verbose=True)\n",
    "    coll_manager.install_black_absorbers(names = black_absorbers, verbose=True)\n",
    "\n",
    "\n",
    "else:\n",
    "    raise ValueError(f\"Unknown scattering engine {engine}!\")\n",
    "\n",
    "print('\\n After collimator manager')\n",
    "for i, n in enumerate(line.element_names):\n",
    "    if n.startswith(\"TCCS\"):\n",
    "        print(i, n)\n",
    "\n",
    "\n",
    "# Aperture model check\n",
    "print('\\nAperture model check after introducing collimators:')\n",
    "df_with_coll = line.check_aperture()\n",
    "assert not np.any(df_with_coll.has_aperture_problem)\n",
    "\n",
    "\n",
    "\n",
    "    \n",
    "# Build the tracker\n",
    "coll_manager.build_tracker()\n",
    "\n",
    "\n",
    "\n",
    "# Set the collimator openings based on the colldb,\n",
    "# or manually override with the option gaps={collname: gap}\n",
    "coll_manager.set_openings()\n",
    "\n",
    "\n",
    "if mode == 'angular_scan':\n",
    "    print(\"\\nTTCS aligned to beam: \", line[TTCS_name].align_angle)\n",
    "    #line[TTCS_name].align_angle = TTCS_align_angle_step\n",
    "\n",
    "    line[TTCS_name].align_angle = line[TTCS_name].align_angle + TTCS_align_angle_step\n",
    "    print(\"TTCS align angle incremented by step: \", line[TTCS_name].align_angle)\n",
    "\n",
    "\n",
    "# Aperture model check\n",
    "print('\\nAperture model check after introducing collimators:')\n",
    "df_with_coll = line.check_aperture()\n",
    "\n",
    "#assert not np.any(df_with_coll.has_aperture_probl"
   ]
  },
  {
   "cell_type": "markdown",
   "metadata": {},
   "source": [
    "#### MULTITURN ANALYSIS"
   ]
  },
  {
   "cell_type": "markdown",
   "metadata": {},
   "source": [
    "    # Generate initial pencil distribution on horizontal collimator\n",
    "    tcp  = f\"tcp.{'c' if plane=='H' else 'd'}6{'l' if beam=='1' else 'r'}7.b{beam}\"\n",
    "    part = coll_manager.generate_pencil_on_collimator(tcp, num_particles=num_particles)\n",
    "\n",
    "\n",
    "    # Optimise the line\n",
    "    #line.optimize_for_tracking()\n",
    "    idx = line.element_names.index(tcp)\n",
    "    part.at_element = idx\n",
    "    part.start_tracking_at_element = idx\n",
    "\n",
    "\n",
    "    # Track\n",
    "    coll_manager.enable_scattering()\n",
    "    line.track(part, num_turns=num_turns, time=True)\n",
    "    coll_manager.disable_scattering()\n",
    "    print(f\"Done tracking in {line.time_last_track:.1f}s.\")\n",
    "\n",
    "\n",
    "    # Save lossmap to json, which can be loaded, combined (for more statistics),\n",
    "    # and plotted with the 'lossmaps' package\n",
    "    _ = coll_manager.lossmap(part, file=Path(path_out,f'lossmap_B{beam}{plane}.json'))\n",
    "\n",
    "\n",
    "    # Save a summary of the collimator losses to a text file\n",
    "    summary = coll_manager.summary(part) #, file=Path(path_out,f'coll_summary_B{beam}{plane}.out')\n",
    "    print(summary)\n",
    "\n",
    "    if mode == 'cry_black_absorbers':\n",
    "        df_part = part.to_pandas()\n",
    "        df_part.to_hdf(Path(path_out,f'particles_B{beam}{plane}.h5'), key='df', mode='w') \n",
    "\n",
    "\n",
    "    if mode == 'monitors':\n",
    "        TCCS_monitor_dict = TCCS_monitor.to_dict()\n",
    "        TARGET_monitor_dict = TARGET_monitor.to_dict()\n",
    "        with open(Path(path_out,f'TCCS_monitor_B{beam}{plane}.pkl'), 'wb') as f:\n",
    "            pickle.dump(TCCS_monitor_dict, f)\n",
    "        with open(Path(path_out,f'TARGET_monitor_B{beam}{plane}.pkl'), 'wb') as f:\n",
    "            pickle.dump(TARGET_monitor_dict, f)\n",
    "        "
   ]
  },
  {
   "cell_type": "code",
   "execution_count": 4,
   "metadata": {},
   "outputs": [],
   "source": [
    "twiss = line.twiss()\n",
    "beta_y_optics = twiss['bety',TCCS_name]\n",
    "alfa_y_optics = twiss['alfy',TCCS_name]\n",
    "normalized_emittance = 3.5e-6\n",
    "emittance_phy = normalized_emittance/(line.particle_ref._xobject.beta0[0]*line.particle_ref._xobject.gamma0[0])\n",
    "sigma = np.sqrt(emittance_phy*beta_y_optics)"
   ]
  },
  {
   "cell_type": "code",
   "execution_count": 5,
   "metadata": {},
   "outputs": [],
   "source": [
    "idx_TCCS = line.element_names.index(TCCS_name)\n",
    "idx_TARGET = line.element_names.index(TARGET_name)"
   ]
  },
  {
   "cell_type": "code",
   "execution_count": 6,
   "metadata": {},
   "outputs": [
    {
     "data": {
      "text/plain": [
       "5.0"
      ]
     },
     "execution_count": 6,
     "metadata": {},
     "output_type": "execute_result"
    }
   ],
   "source": [
    "line.elements[idx_TCCS].jaw_L/sigma"
   ]
  },
  {
   "cell_type": "markdown",
   "metadata": {},
   "source": [
    "#### Crystal\n"
   ]
  },
  {
   "cell_type": "code",
   "execution_count": 145,
   "metadata": {},
   "outputs": [],
   "source": [
    "getattr(line.elements[idx_TCCS], 'jaw')"
   ]
  },
  {
   "cell_type": "code",
   "execution_count": 8,
   "metadata": {},
   "outputs": [
    {
     "data": {
      "text/plain": [
       "-1.1763616021881982e-05"
      ]
     },
     "execution_count": 8,
     "metadata": {},
     "output_type": "execute_result"
    }
   ],
   "source": [
    "line.elements[idx_TCCS].align_angle"
   ]
  },
  {
   "cell_type": "code",
   "execution_count": 9,
   "metadata": {},
   "outputs": [
    {
     "data": {
      "text/plain": [
       "{'__class__': 'EverestCrystal',\n",
       " 'inactive_front': 0.0,\n",
       " 'active_length': 0.004,\n",
       " 'inactive_back': 0.0,\n",
       " 'active': 1,\n",
       " 'align_angle': -1.1763616021881982e-05,\n",
       " 'bend': 80.0,\n",
       " 'xdim': 0.002,\n",
       " 'ydim': 0.035,\n",
       " 'thick': 0.0,\n",
       " 'miscut': 0.0,\n",
       " 'rutherford_rng': {'__class__': 'RandomRutherford',\n",
       "  'lower_val': 0.0009982,\n",
       "  'upper_val': 0.02,\n",
       "  'A': 0.0016160247264725453,\n",
       "  'B': 166.49518410000002,\n",
       "  'Newton_iterations': 7},\n",
       " '_tracking': 0,\n",
       " 'angle': 90.0,\n",
       " 'tilt': 0.0,\n",
       " 'jaw': None,\n",
       " 'reference_center': [-1.7331272144205038e-06, -6.174001066619167e-07],\n",
       " 'side': 'left',\n",
       " 'lattice': 'strip',\n",
       " 'material': {'__class__': 'CrystalMaterial',\n",
       "  'Z': 14.0,\n",
       "  'A': 28.08,\n",
       "  'density': 2.33,\n",
       "  'excitation_energy': 1.73e-07,\n",
       "  'nuclear_radius': 0.441,\n",
       "  'nuclear_elastic_slope': 120.14,\n",
       "  'cross_section': array([6.64e-01, 4.30e-01, 0.00e+00, 0.00e+00, 0.00e+00, 3.90e-04]),\n",
       "  'hcut': 0.02,\n",
       "  'name': 'Silicon',\n",
       "  'crystal_radiation_length': 0.0937,\n",
       "  'crystal_nuclear_length': 0.4652,\n",
       "  'crystal_plane_distance': 9.6e-08,\n",
       "  'crystal_potential': 21.34,\n",
       "  'nuclear_collision_length': 0.3016}}"
      ]
     },
     "execution_count": 9,
     "metadata": {},
     "output_type": "execute_result"
    }
   ],
   "source": [
    "line.elements[idx_TCCS].to_dict()"
   ]
  },
  {
   "cell_type": "code",
   "execution_count": 10,
   "metadata": {},
   "outputs": [
    {
     "data": {
      "text/plain": [
       "{'parking': 0.025,\n",
       " 'gap': 5.0,\n",
       " 'stage': 'special',\n",
       " 'material': 'Si',\n",
       " 'side': 'left',\n",
       " 'angle': 90,\n",
       " 'crystal': 'strip',\n",
       " 'active': True,\n",
       " 'length': 0.004,\n",
       " 'bend': 80.0,\n",
       " 'xdim': 0.002,\n",
       " 'ydim': 0.035}"
      ]
     },
     "execution_count": 10,
     "metadata": {},
     "output_type": "execute_result"
    }
   ],
   "source": [
    "coll_dict[TCCS_name]"
   ]
  },
  {
   "cell_type": "code",
   "execution_count": 11,
   "metadata": {},
   "outputs": [
    {
     "name": "stdout",
     "output_type": "stream",
     "text": [
      "TurnAnalysis(element_type='crystal', sigma=5.0, length=0.004, xdim=0.002, ydim=0.035, align_angle=-1.1763616021881982e-05, jaw_L=0.0016912979598174786)\n"
     ]
    }
   ],
   "source": [
    "print(f\"TurnAnalysis(element_type=\\'crystal\\', sigma={coll_dict[TCCS_name]['gap']}, length={coll_dict[TCCS_name]['length']}, xdim={coll_dict[TCCS_name]['xdim']}, ydim={coll_dict[TCCS_name]['ydim']}, align_angle={line.elements[idx_TCCS].align_angle}, jaw_L={line.elements[idx_TCCS].jaw_L})\")"
   ]
  },
  {
   "cell_type": "markdown",
   "metadata": {},
   "source": [
    "#### Target"
   ]
  },
  {
   "cell_type": "code",
   "execution_count": 12,
   "metadata": {},
   "outputs": [
    {
     "data": {
      "text/plain": [
       "EverestCollimator(inactive_front=0.0, active_length=0.005, inactive_back=0.0, jaw_L=0.00923702412365808, jaw_R=-0.025, ref_x=5.122714843017597e-07, ref_y=-1.2329827900582934e-06, sin_zL=1.0, cos_zL=6.123233995736766e-17, sin_zR=1.0, cos_zR=6.123233995736766e-17, sin_yL=0.0, cos_yL=1.0, tan_yL=1.0, sin_yR=0.0, cos_yR=1.0, tan_yR=1.0, _side=1, active=1, _internal_record_id=RecordIdentifier(buffer_id=0, offset=0), _material=Material(Z=67.7, A=166.7, density=18.0, excitation_energy=6.822e-07, nuclear_radius=0.578, nuclear_elastic_slope=392.1, cross_section=[2.548   1.473   0.      0.      0.      0.00574], hcut=0.02, name=Inermet, radiation_length=0.00385), rutherford_rng=RandomRutherford(lower_val=0.0009982, upper_val=0.02, A=0.0020688250909133275, B=286.00931239999994, Newton_iterations=7), _tracking=0)"
      ]
     },
     "execution_count": 12,
     "metadata": {},
     "output_type": "execute_result"
    }
   ],
   "source": [
    "line.elements[idx_TARGET]"
   ]
  },
  {
   "cell_type": "code",
   "execution_count": 13,
   "metadata": {},
   "outputs": [
    {
     "data": {
      "text/plain": [
       "{'__class__': 'EverestCollimator',\n",
       " 'inactive_front': 0.0,\n",
       " 'active_length': 0.005,\n",
       " 'inactive_back': 0.0,\n",
       " 'active': 1,\n",
       " 'rutherford_rng': {'__class__': 'RandomRutherford',\n",
       "  'lower_val': 0.0009982,\n",
       "  'upper_val': 0.02,\n",
       "  'A': 0.0020688250909133275,\n",
       "  'B': 286.00931239999994,\n",
       "  'Newton_iterations': 7},\n",
       " '_tracking': 0,\n",
       " 'angle': 90.0,\n",
       " 'tilt': 0.0,\n",
       " 'jaw': None,\n",
       " 'reference_center': [5.122714843017597e-07, -1.2329827900582934e-06],\n",
       " 'side': 'left',\n",
       " 'material': {'__class__': 'Material',\n",
       "  'Z': 67.7,\n",
       "  'A': 166.7,\n",
       "  'density': 18.0,\n",
       "  'excitation_energy': 6.822e-07,\n",
       "  'nuclear_radius': 0.578,\n",
       "  'nuclear_elastic_slope': 392.1,\n",
       "  'cross_section': array([2.548  , 1.473  , 0.     , 0.     , 0.     , 0.00574]),\n",
       "  'hcut': 0.02,\n",
       "  'name': 'Inermet',\n",
       "  'radiation_length': 0.00385}}"
      ]
     },
     "execution_count": 13,
     "metadata": {},
     "output_type": "execute_result"
    }
   ],
   "source": [
    "line.elements[idx_TARGET].to_dict()"
   ]
  },
  {
   "cell_type": "code",
   "execution_count": 14,
   "metadata": {},
   "outputs": [
    {
     "data": {
      "text/plain": [
       "{'parking': 0.025,\n",
       " 'gap': 25,\n",
       " 'stage': 'special',\n",
       " 'material': 'Iner',\n",
       " 'side': 'left',\n",
       " 'angle': 90,\n",
       " 'active': True,\n",
       " 'length': 0.005,\n",
       " 'xdim': 0.008,\n",
       " 'ydim': 0.004}"
      ]
     },
     "execution_count": 14,
     "metadata": {},
     "output_type": "execute_result"
    }
   ],
   "source": [
    "coll_dict[TARGET_name]"
   ]
  },
  {
   "cell_type": "code",
   "execution_count": 15,
   "metadata": {},
   "outputs": [
    {
     "name": "stdout",
     "output_type": "stream",
     "text": [
      "TurnAnalysis(element_type='target', sigma=25, length=0.005, xdim=0.008, ydim=0.004, jaw_L=0.00923702412365808)\n"
     ]
    }
   ],
   "source": [
    "print(f\"TurnAnalysis(element_type=\\'target\\', sigma={coll_dict[TARGET_name]['gap']}, length={coll_dict[TARGET_name]['length']}, xdim={coll_dict[TARGET_name]['xdim']}, ydim={coll_dict[TARGET_name]['ydim']}, jaw_L={line.elements[idx_TARGET].jaw_L})\")"
   ]
  },
  {
   "cell_type": "markdown",
   "metadata": {},
   "source": [
    "## Class"
   ]
  },
  {
   "cell_type": "code",
   "execution_count": 129,
   "metadata": {},
   "outputs": [],
   "source": [
    "class TurnAnalysis():\n",
    "\n",
    "    def __init__(self, element_type, sigma, length, xdim, ydim, jaw_L, align_angle = 0, beam = 2, plane = 'V', energy =6.8e12, ):\n",
    "\n",
    "        self.beam = beam\n",
    "        self.plane = plane\n",
    "        self.energy = energy\n",
    "        self.element_type = element_type\n",
    "        self.sigma = sigma\n",
    "        self.length = length\n",
    "        self.xdim = xdim\n",
    "        self.ydim = ydim\n",
    "        self.align_angle = align_angle\n",
    "        self.jaw_L = jaw_L\n",
    "        self.nturns = None\n",
    "        self.npart = None\n",
    "        self.data_dict = None\n",
    "        self.data = None\n",
    "        self.type = None\n",
    "        self.abs_y_low = self.jaw_L\n",
    "        self.abs_y_up = self.jaw_L + self.ydim\n",
    "        self.abs_x_low = -self.xdim/2\n",
    "        self.abs_x_up = self.ydim/2\n",
    "        \n",
    "\n",
    "\n",
    "    def load(self, pkl_file_path):\n",
    "\n",
    "        if not hasattr(pkl_file_path, '__iter__') or isinstance(pkl_file_path, str):\n",
    "            pkl_file_path = [pkl_file_path]\n",
    "\n",
    "        data_dict = {'x': np.empty(0), 'y': np.empty(0), 'px': np.empty(0), 'py': np.empty(0), 'zeta': np.empty(0), 'delta': np.empty(0), 'state': np.empty(0), 'at_element': np.empty(0), }\n",
    "        npart = 0\n",
    "\n",
    "        fi = 1 \n",
    "\n",
    "        for file in pkl_file_path:\n",
    "            try:\n",
    "                with open(file, 'rb') as f:\n",
    "                    loaded_dict = pickle.load(f)\n",
    "            except (pickle.UnpicklingError, EOFError, FileNotFoundError) as e:\n",
    "                print(f\"Error loading data from {file}: {e}\")\n",
    "                continue\n",
    "            if fi and loaded_dict:\n",
    "                nturns = loaded_dict['stop_at_turn'] - loaded_dict['start_at_turn']\n",
    "                fi = 0\n",
    "            npart = npart + loaded_dict['part_id_end'] - loaded_dict['part_id_start']\n",
    "\n",
    "            for key, value in data_dict.items():\n",
    "                data_dict[key] = np.concatenate((value, np.array(loaded_dict['data'][key]))) \n",
    "        self.npart = npart\n",
    "        self.nturns = nturns\n",
    "        \n",
    "\n",
    "        for key, value in data_dict.items():\n",
    "                data_dict[key] = value.reshape(npart, nturns)\n",
    "\n",
    "        self.data_dict = data_dict\n",
    "\n",
    "        data_arrays = []\n",
    "        for key, matrix in data_dict.items():\n",
    "            data_arrays.append(xr.DataArray(matrix, dims=('id', 'turn'), name=key))\n",
    "\n",
    "        data = xr.concat(data_arrays, dim='property')\n",
    "        data = data.assign_coords(id = np.arange(npart), property = list(data_dict.keys()), turn = np.arange(nturns))\n",
    "        \n",
    "        self.data = data\n",
    "\n",
    "\n",
    "    def plot_alive(self):\n",
    "        alive_part = []\n",
    "        for turn in range(self.nturns):\n",
    "            alive_part.append(self.data.where(self.data.loc[ 'state', :, turn] > 0, drop = True).shape[1])\n",
    "\n",
    "        fig = plt.figure(figsize=(8, 5))\n",
    "        ax = fig.add_subplot(1,1,1)\n",
    "        ax.plot(self.data.coords['turn'], alive_part)\n",
    "        ax.set_xlabel('turn')\n",
    "        ax.set_ylabel('Number of particles')\n",
    "\n",
    "\n",
    "\n",
    "    def plot_distributions_at_turn(self, turn, dimensions=False):\n",
    "        alive_arr = self.data.where(self.data.loc[ 'state', :, turn] > 0, drop = True)[:,:,turn]\n",
    "        if dimensions:\n",
    "            alive_arr = alive_arr.where(((alive_arr.loc[ 'x', :] > self.abs_x_low) & (alive_arr.loc[ 'x', :] < self.abs_x_up) & (alive_arr.loc[ 'y', :] > self.abs_y_low) & (alive_arr.loc[ 'y', :] < self.abs_y_up)), drop = True)\n",
    "        \n",
    "        if alive_arr.shape[1] == 0:\n",
    "            print(\"No particles!\")\n",
    "            return\n",
    "\n",
    "        fig1 = plt.figure( figsize=(22, 10))\n",
    "        ax1 = fig1.add_subplot(2,3,1)\n",
    "        ax1.hist(alive_arr.loc['x', :], bins=100)\n",
    "        ax1.set_xlabel('x [mm]')\n",
    "        ax1.set_ylabel(\"\")\n",
    "        #ax1.set_yscale(\"log\")\n",
    "        ax1.set_xticks(ticks=plt.xticks()[0], labels=[f\"{x*1e3:.{2}f}\" for x in plt.xticks()[0]])\n",
    "        \n",
    "\n",
    "\n",
    "        ax2 = fig1.add_subplot(2,3,2)\n",
    "        ax2.hist(alive_arr.loc['y',:], bins=100) \n",
    "        ax2.set_xlabel('y [mm]')\n",
    "        ax2.set_ylabel('')\n",
    "        #ax2.set_yscale(\"log\")\n",
    "        ax2.set_xticks(ticks=plt.xticks()[0], labels=[f\"{x*1e3:.{2}f}\" for x in plt.xticks()[0]])\n",
    "        ax2.set_title(f'Total particles: {alive_arr.shape[1]}')\n",
    "\n",
    "        ax3 = fig1.add_subplot(2,3,3)\n",
    "        h = ax3.hist2d(alive_arr.loc['x', :], alive_arr.loc['y', :], bins=100, norm=matplotlib.colors.LogNorm())#,  vmin = 1, vmax = 1e6, range = ([-40e-6, 40e-6], [-40e-6,40e-6])) \n",
    "        ax3.set_xlabel(r'x [mm]')\n",
    "        #ax3.set_ylim(0,0.008)\n",
    "        ax3.set_ylabel(r'y [mm]')\n",
    "        ax3.set_xticks(ticks=plt.xticks()[0], labels=[f\"{x*1e3:.{2}f}\" for x in plt.xticks()[0]])\n",
    "        ax3.set_yticks(ticks=plt.yticks()[0], labels=[f\"{y*1e3:.{2}f}\" for y in plt.yticks()[0]])\n",
    "\n",
    "        axins = inset_axes(ax3, height=\"100%\",  width=\"5%\", loc='right', borderpad=-6 )\n",
    "        fig1.colorbar(h[3], cax=axins, orientation='vertical', label='Count (log scale)')\n",
    "        ax3.grid(linestyle=':')\n",
    "\n",
    "\n",
    "\n",
    "\n",
    "        ax12 = fig1.add_subplot(2,3,4)\n",
    "        ax12.hist(alive_arr.loc['px', :], bins=100)\n",
    "        ax12.set_xlabel(r'px [$\\mu$rad]')\n",
    "        ax12.set_ylabel(\"\")\n",
    "        #ax12.set_yscale(\"log\")\n",
    "        ax12.set_xticks(ticks=plt.xticks()[0], labels=[f\"{x*1e6:.{1}f}\" for x in plt.xticks()[0]])\n",
    "\n",
    "\n",
    "        ax22 = fig1.add_subplot(2,3,5)\n",
    "        ax22.hist(alive_arr.loc['py', :], bins=100) \n",
    "        ax22.set_xlabel(r'py [$\\mu$rad]')\n",
    "        ax22.set_ylabel('')\n",
    "        #ax22.set_yscale(\"log\")\n",
    "        #ax22.axvline(py_central, color = 'red', linestyle = '-', alpha = 0.8)\n",
    "        #ax22.axvline(py_central + critical_angle, color = 'red', linestyle = '--', alpha = 0.9)\n",
    "        #ax22.axvline(py_central - critical_angle, color = 'red', linestyle = '--', alpha = 0.9)\n",
    "        ax22.set_xticks(ticks=plt.xticks()[0], labels=[f\"{x*1e6:.{1}f}\" for x in plt.xticks()[0]])\n",
    "        #chann = len(cry_impact_parts[(cry_impact_parts.py > py_central - critical_angle) & (cry_impact_parts.py < py_central + critical_angle)])\n",
    "        #ax22.set_title(f'N particle inside critical angle range: {chann}')\n",
    "\n",
    "        ax32 = fig1.add_subplot(2,3,6)\n",
    "        h2 = ax32.hist2d(alive_arr.loc['px', :], alive_arr.loc['py', :], bins=100, norm=matplotlib.colors.LogNorm())  #,, norm=matplotlib.colors.LogNorm() range = ([-40e-6, 40e-6], [-40e-6,40e-6])\n",
    "        ax32.set_xlabel(r'px [$\\mu$rad]')\n",
    "        ax32.set_ylabel(r'py [$\\mu$rad]')\n",
    "        ax32.set_xticks(ticks=plt.xticks()[0], labels=[f\"{x*1e6:.{1}f}\" for x in plt.xticks()[0]])\n",
    "        ax32.set_yticks(ticks=plt.yticks()[0], labels=[f\"{y*1e6:.{1}f}\" for y in plt.yticks()[0]])\n",
    "        axins_2 = inset_axes(ax32, height=\"100%\",  width=\"5%\", loc='right', borderpad=-6 )\n",
    "        fig1.colorbar(h2[3], cax=axins_2, orientation='vertical', label='Count (log scale)')\n",
    "        ax32.grid(linestyle=':')\n",
    "\n",
    "        #fig1.suptitle('plot')\n",
    "        plt.show()\n",
    "        #return fig1, [ax1,ax2,ax3]\n",
    "\n",
    "\n",
    "    def plot_particle_history(self, property_name, part_id):\n",
    "\n",
    "        fig = plt.figure(figsize=(8, 5))\n",
    "        ax = fig.add_subplot(1,1,1)\n",
    "        ax.plot(self.data.coords['turn'], self.data.loc[property_name, part_id])\n",
    "        ax.set_xlabel('turn')\n",
    "        ax.set_ylabel(property_name)\n",
    "\n",
    "\n",
    "    def count_upper_lower(self, turn):\n",
    "        alive_y = self.data.where(self.data.loc[ 'state', :, turn] > 0, drop = True).loc['y',:,turn]\n",
    "        print(f'Alive particle after at {self.element_type} at {turn} turn: ', len(alive_y))\n",
    "        print(f'Upper particles at {self.element_type}: ', len(alive_y.where(alive_y > 0, drop = True)))\n",
    "        print(f'Lower particles at {self.element_type}: ', len(alive_y.where(alive_y < 0, drop = True)))\n",
    "\n",
    "\n",
    "    def impacting_particles(self):\n",
    "        x, y, px, py, ids = np.empty((0,)), np.empty((0,)), np.empty((0,)), np.empty((0,)), np.empty((0,))\n",
    "        for turn in range(self.nturns):\n",
    "            impact_part = self.data.where(self.data.loc[ 'state', :, turn] > 0, drop = True)[:,:,turn]\n",
    "            impact_part = impact_part.where(((impact_part.loc[ 'x', :] > self.abs_x_low) & (impact_part.loc[ 'x', :] < self.abs_x_up) & (impact_part.loc[ 'y', :] > self.abs_y_low) & (impact_part.loc[ 'y', :] < self.abs_y_up)), drop = True)\n",
    "            if(impact_part.shape[1]>0):\n",
    "                id_turn = np.array(impact_part.coords['id'])\n",
    "                ids = np.concatenate((ids, id_turn))\n",
    "                #x = np.concatenate((x, impact_part))\n",
    "                print(impact_part.loc['x', :])\n",
    "        return ids\n",
    "\n",
    "    #def dimensions(self):\n"
   ]
  },
  {
   "cell_type": "code",
   "execution_count": null,
   "metadata": {},
   "outputs": [],
   "source": []
  },
  {
   "cell_type": "code",
   "execution_count": 130,
   "metadata": {},
   "outputs": [],
   "source": [
    "def retreive_file_path(prefix_name, path = '/afs/cern.ch/work/c/cmaccani/xsuite_sim/twocryst_sim/Condor/'):\n",
    "\n",
    "    test_list = [path + i for i in os.listdir(path) if prefix_name in i]\n",
    "    for test_name in test_list:\n",
    "\n",
    "        n_jobs = int(subprocess.check_output(\"find \"+ test_name +\" -maxdepth 1 -mindepth 1 -type d | grep Job. | wc -l\", shell=True))\n",
    "\n",
    "        TARGET_dict =[]\n",
    "        TCCS_dict =[]\n",
    "\n",
    "        for i in range(n_jobs):\n",
    "            file_path_TARGET = (subprocess.check_output(\"echo \" + test_name + '/Job.' + str(i) + '/Outputdata/TARGET*.pkl', shell=True)).decode('ascii').strip()\n",
    "            if os.path.exists(file_path_TARGET):\n",
    "                TARGET_dict.append(file_path_TARGET)\n",
    "\n",
    "            file_path_TCCS = (subprocess.check_output(\"echo \" + test_name + '/Job.' + str(i) + '/Outputdata/TCCS*.pkl', shell=True)).decode('ascii').strip()\n",
    "            if os.path.exists(file_path_TCCS):\n",
    "                TCCS_dict.append(file_path_TCCS)\n",
    "\n",
    "        n_jobs_verify_TARGET  = len(TARGET_dict)\n",
    "        n_jobs_verify_TCCS  = len(TCCS_dict)\n",
    "        if n_jobs != n_jobs_verify_TARGET:\n",
    "            print(\"!!! Succesful Jobs for TARGET: \", n_jobs_verify_TARGET, '/', n_jobs, ' in file: ', test_name)\n",
    "        if n_jobs != n_jobs_verify_TCCS:\n",
    "            print(\"!!! Succesful Jobs for TCCS: \", n_jobs_verify_TCCS, '/', n_jobs, ' in file: ', test_name)\n",
    "\n",
    "    return TARGET_dict, TCCS_dict"
   ]
  },
  {
   "cell_type": "code",
   "execution_count": 131,
   "metadata": {},
   "outputs": [],
   "source": [
    "#list_TARGET_xsuite, list_TCCS_xsuite = retreive_file_path('TEST_xsuite')"
   ]
  },
  {
   "cell_type": "code",
   "execution_count": 132,
   "metadata": {},
   "outputs": [],
   "source": [
    "#list_TARGET_simple, list_TCCS_simple = retreive_file_path('TEST_simple_model')"
   ]
  },
  {
   "cell_type": "markdown",
   "metadata": {},
   "source": [
    "## Analysis"
   ]
  },
  {
   "cell_type": "code",
   "execution_count": 133,
   "metadata": {},
   "outputs": [],
   "source": [
    "TCCS = TurnAnalysis(element_type='crystal', sigma=5.0, length=0.004, xdim=0.002, ydim=0.035, align_angle=-1.1763616021881982e-05, jaw_L=0.0016912979598174786)\n",
    "TARGET = TurnAnalysis(element_type='target', sigma=25, length=0.005, xdim=0.008, ydim=0.004, jaw_L=0.00923702412365808)"
   ]
  },
  {
   "cell_type": "code",
   "execution_count": 134,
   "metadata": {},
   "outputs": [],
   "source": [
    "TCCS.load('Outputdata/TCCS_monitor_B2V_simple_model.pkl')\n",
    "TARGET.load('Outputdata/TARGET_monitor_B2V_simple_model.pkl')\n",
    "#TARGET.load(list_TARGET_xsuite[-5:])"
   ]
  },
  {
   "cell_type": "code",
   "execution_count": 135,
   "metadata": {},
   "outputs": [
    {
     "name": "stdout",
     "output_type": "stream",
     "text": [
      "<xarray.DataArray 'x' (id: 26)>\n",
      "array([-1.00680161e-05, -1.42584365e-04,  1.15970529e-04, -8.92250758e-05,\n",
      "        1.28827018e-04, -9.90693821e-05, -8.27467051e-05,  3.70857112e-04,\n",
      "        6.91414895e-05,  5.83865933e-05,  5.51317959e-05, -4.22342497e-05,\n",
      "       -2.10487882e-05, -1.18184808e-04, -3.57226414e-05, -3.21326236e-05,\n",
      "       -6.69395218e-06, -9.52757020e-05, -3.37986163e-05, -1.71768054e-06,\n",
      "        1.29291517e-04, -1.10708430e-04, -6.71733249e-05,  6.48126948e-04,\n",
      "        3.44793211e-05,  2.63694936e-06])\n",
      "Coordinates:\n",
      "  * id        (id) int64 516 520 522 523 536 557 569 ... 852 885 906 909 950 952\n",
      "    property  <U10 'x'\n",
      "    turn      int64 0\n",
      "<xarray.DataArray 'x' (id: 7)>\n",
      "array([-8.52403004e-06,  9.74237606e-06, -4.88536250e-06, -2.23438561e-05,\n",
      "        1.13330863e-04,  2.85690885e-05, -1.40793511e-05])\n",
      "Coordinates:\n",
      "  * id        (id) int64 56 119 128 157 247 431 473\n",
      "    property  <U10 'x'\n",
      "    turn      int64 5\n",
      "<xarray.DataArray 'x' (id: 12)>\n",
      "array([ 9.29782984e-05, -2.85232756e-04, -2.13016430e-04, -5.78893034e-05,\n",
      "       -1.96467334e-04, -7.51338627e-05, -1.91311759e-04, -6.90732867e-05,\n",
      "        3.64686115e-04, -3.28439680e-04, -1.76178165e-04,  1.95010663e-04])\n",
      "Coordinates:\n",
      "  * id        (id) int64 3 31 120 227 276 282 390 413 424 432 452 463\n",
      "    property  <U10 'x'\n",
      "    turn      int64 8\n",
      "<xarray.DataArray 'x' (id: 3)>\n",
      "array([-2.12261127e-04, -1.17886800e-04, -2.07479520e-06])\n",
      "Coordinates:\n",
      "  * id        (id) int64 669 745 932\n",
      "    property  <U10 'x'\n",
      "    turn      int64 13\n",
      "<xarray.DataArray 'x' (id: 2)>\n",
      "array([-8.60143529e-06,  4.60993285e-05])\n",
      "Coordinates:\n",
      "  * id        (id) int64 682 684\n",
      "    property  <U10 'x'\n",
      "    turn      int64 16\n",
      "<xarray.DataArray 'x' (id: 5)>\n",
      "array([-3.29258435e-04,  1.02014593e-04,  4.05815616e-04, -4.88202603e-04,\n",
      "        3.22493973e-05])\n",
      "Coordinates:\n",
      "  * id        (id) int64 35 80 371 470 489\n",
      "    property  <U10 'x'\n",
      "    turn      int64 21\n",
      "<xarray.DataArray 'x' (id: 1)>\n",
      "array([-0.00014767])\n",
      "Coordinates:\n",
      "  * id        (id) int64 976\n",
      "    property  <U10 'x'\n",
      "    turn      int64 26\n",
      "<xarray.DataArray 'x' (id: 3)>\n",
      "array([ 2.18681276e-04, -5.15391256e-05,  6.08661435e-05])\n",
      "Coordinates:\n",
      "  * id        (id) int64 824 864 989\n",
      "    property  <U10 'x'\n",
      "    turn      int64 29\n",
      "<xarray.DataArray 'x' (id: 8)>\n",
      "array([-1.94123988e-04,  1.96037420e-04,  1.20623912e-04,  1.07689483e-05,\n",
      "       -1.86417370e-05, -1.19778317e-04,  4.79307615e-04, -2.72204544e-04])\n",
      "Coordinates:\n",
      "  * id        (id) int64 21 115 141 202 204 286 332 476\n",
      "    property  <U10 'x'\n",
      "    turn      int64 37\n",
      "<xarray.DataArray 'x' (id: 1)>\n",
      "array([0.00052141])\n",
      "Coordinates:\n",
      "  * id        (id) int64 145\n",
      "    property  <U10 'x'\n",
      "    turn      int64 40\n",
      "<xarray.DataArray 'x' (id: 1)>\n",
      "array([-0.00041757])\n",
      "Coordinates:\n",
      "  * id        (id) int64 830\n",
      "    property  <U10 'x'\n",
      "    turn      int64 42\n",
      "<xarray.DataArray 'x' (id: 5)>\n",
      "array([-7.95494198e-05, -6.11137214e-05,  1.03305875e-04, -2.51674441e-06,\n",
      "       -1.28481911e-04])\n",
      "Coordinates:\n",
      "  * id        (id) int64 513 514 721 747 903\n",
      "    property  <U10 'x'\n",
      "    turn      int64 45\n",
      "<xarray.DataArray 'x' (id: 2)>\n",
      "array([5.42291347e-07, 2.86156256e-05])\n",
      "Coordinates:\n",
      "  * id        (id) int64 101 231\n",
      "    property  <U10 'x'\n",
      "    turn      int64 50\n",
      "<xarray.DataArray 'x' (id: 2)>\n",
      "array([1.70813314e-04, 7.28894973e-05])\n",
      "Coordinates:\n",
      "  * id        (id) int64 8 260\n",
      "    property  <U10 'x'\n",
      "    turn      int64 53\n",
      "<xarray.DataArray 'x' (id: 1)>\n",
      "array([-0.00051468])\n",
      "Coordinates:\n",
      "  * id        (id) int64 626\n",
      "    property  <U10 'x'\n",
      "    turn      int64 58\n",
      "<xarray.DataArray 'x' (id: 2)>\n",
      "array([-9.42533238e-05, -2.43454906e-06])\n",
      "Coordinates:\n",
      "  * id        (id) int64 526 542\n",
      "    property  <U10 'x'\n",
      "    turn      int64 61\n",
      "<xarray.DataArray 'x' (id: 1)>\n",
      "array([-0.00020908])\n",
      "Coordinates:\n",
      "  * id        (id) int64 397\n",
      "    property  <U10 'x'\n",
      "    turn      int64 63\n",
      "<xarray.DataArray 'x' (id: 1)>\n",
      "array([-0.00039485])\n",
      "Coordinates:\n",
      "  * id        (id) int64 61\n",
      "    property  <U10 'x'\n",
      "    turn      int64 66\n",
      "<xarray.DataArray 'x' (id: 1)>\n",
      "array([-0.00015789])\n",
      "Coordinates:\n",
      "  * id        (id) int64 386\n",
      "    property  <U10 'x'\n",
      "    turn      int64 69\n",
      "<xarray.DataArray 'x' (id: 2)>\n",
      "array([1.41737159e-04, 2.16297478e-05])\n",
      "Coordinates:\n",
      "  * id        (id) int64 620 689\n",
      "    property  <U10 'x'\n",
      "    turn      int64 74\n",
      "<xarray.DataArray 'x' (id: 2)>\n",
      "array([2.50835795e-05, 3.81932338e-04])\n",
      "Coordinates:\n",
      "  * id        (id) int64 229 469\n",
      "    property  <U10 'x'\n",
      "    turn      int64 82\n",
      "<xarray.DataArray 'x' (id: 3)>\n",
      "array([-2.89627869e-05, -8.86929308e-05,  1.19281000e-04])\n",
      "Coordinates:\n",
      "  * id        (id) int64 584 898 929\n",
      "    property  <U10 'x'\n",
      "    turn      int64 90\n",
      "<xarray.DataArray 'x' (id: 1)>\n",
      "array([-0.00030447])\n",
      "Coordinates:\n",
      "  * id        (id) int64 228\n",
      "    property  <U10 'x'\n",
      "    turn      int64 98\n",
      "<xarray.DataArray 'x' (id: 7)>\n",
      "array([ 4.91788827e-05, -7.26340456e-05, -1.30491592e-05, -5.40107460e-05,\n",
      "       -2.09393591e-04, -1.00596472e-04, -2.63824418e-04])\n",
      "Coordinates:\n",
      "  * id        (id) int64 568 754 815 837 858 931 993\n",
      "    property  <U10 'x'\n",
      "    turn      int64 106\n",
      "<xarray.DataArray 'x' (id: 1)>\n",
      "array([-0.00017061])\n",
      "Coordinates:\n",
      "  * id        (id) int64 565\n",
      "    property  <U10 'x'\n",
      "    turn      int64 122\n",
      "<xarray.DataArray 'x' (id: 1)>\n",
      "array([-0.00038736])\n",
      "Coordinates:\n",
      "  * id        (id) int64 354\n",
      "    property  <U10 'x'\n",
      "    turn      int64 124\n",
      "<xarray.DataArray 'x' (id: 1)>\n",
      "array([-5.79706055e-05])\n",
      "Coordinates:\n",
      "  * id        (id) int64 822\n",
      "    property  <U10 'x'\n",
      "    turn      int64 135\n",
      "<xarray.DataArray 'x' (id: 1)>\n",
      "array([-0.00015307])\n",
      "Coordinates:\n",
      "  * id        (id) int64 859\n",
      "    property  <U10 'x'\n",
      "    turn      int64 151\n",
      "<xarray.DataArray 'x' (id: 1)>\n",
      "array([-0.00027623])\n",
      "Coordinates:\n",
      "  * id        (id) int64 310\n",
      "    property  <U10 'x'\n",
      "    turn      int64 188\n",
      "<xarray.DataArray 'x' (id: 1)>\n",
      "array([7.29908436e-05])\n",
      "Coordinates:\n",
      "  * id        (id) int64 917\n",
      "    property  <U10 'x'\n",
      "    turn      int64 196\n"
     ]
    },
    {
     "data": {
      "text/plain": [
       "array([516., 520., 522., 523., 536., 557., 569., 592., 596., 631., 641.,\n",
       "       655., 661., 695., 737., 741., 772., 810., 832., 842., 852., 885.,\n",
       "       906., 909., 950., 952.,  56., 119., 128., 157., 247., 431., 473.,\n",
       "         3.,  31., 120., 227., 276., 282., 390., 413., 424., 432., 452.,\n",
       "       463., 669., 745., 932., 682., 684.,  35.,  80., 371., 470., 489.,\n",
       "       976., 824., 864., 989.,  21., 115., 141., 202., 204., 286., 332.,\n",
       "       476., 145., 830., 513., 514., 721., 747., 903., 101., 231.,   8.,\n",
       "       260., 626., 526., 542., 397.,  61., 386., 620., 689., 229., 469.,\n",
       "       584., 898., 929., 228., 568., 754., 815., 837., 858., 931., 993.,\n",
       "       565., 354., 822., 859., 310., 917.])"
      ]
     },
     "execution_count": 135,
     "metadata": {},
     "output_type": "execute_result"
    }
   ],
   "source": [
    "TARGET.impacting_particles()"
   ]
  },
  {
   "cell_type": "code",
   "execution_count": 127,
   "metadata": {},
   "outputs": [
    {
     "data": {
      "image/png": "[encoded data removed]",
      "text/plain": [
       "<Figure size 576x360 with 1 Axes>"
      ]
     },
     "metadata": {
      "needs_background": "light"
     },
     "output_type": "display_data"
    }
   ],
   "source": [
    "TCCS.plot_alive()"
   ]
  },
  {
   "cell_type": "code",
   "execution_count": 128,
   "metadata": {},
   "outputs": [
    {
     "data": {
      "image/png": "[encoded data removed]",
      "text/plain": [
       "<Figure size 576x360 with 1 Axes>"
      ]
     },
     "metadata": {
      "needs_background": "light"
     },
     "output_type": "display_data"
    }
   ],
   "source": [
    "TCCS.plot_particle_history('px', 8)"
   ]
  },
  {
   "cell_type": "code",
   "execution_count": 136,
   "metadata": {},
   "outputs": [
    {
     "data": {
      "image/png": "[encoded data removed]",
      "text/plain": [
       "<Figure size 1584x720 with 8 Axes>"
      ]
     },
     "metadata": {
      "needs_background": "light"
     },
     "output_type": "display_data"
    }
   ],
   "source": [
    "TCCS.plot_distributions_at_turn(5, False)"
   ]
  },
  {
   "cell_type": "code",
   "execution_count": 29,
   "metadata": {},
   "outputs": [
    {
     "data": {
      "text/plain": [
       "'TCCS_monitor'"
      ]
     },
     "execution_count": 29,
     "metadata": {},
     "output_type": "execute_result"
    }
   ],
   "source": [
    "line.element_names[77096]"
   ]
  },
  {
   "cell_type": "code",
   "execution_count": 30,
   "metadata": {},
   "outputs": [
    {
     "data": {
      "text/plain": [
       "(8, 1000)"
      ]
     },
     "execution_count": 30,
     "metadata": {},
     "output_type": "execute_result"
    }
   ],
   "source": [
    "TARGET.data.where(((TARGET.data.loc[ 'x', :, 1] > TARGET.abs_x_low) & (TARGET.data.loc[ 'x', :, 1] < TARGET.abs_x_up)), drop = True)[:,:,1].shape"
   ]
  },
  {
   "cell_type": "code",
   "execution_count": null,
   "metadata": {},
   "outputs": [],
   "source": []
  },
  {
   "cell_type": "code",
   "execution_count": null,
   "metadata": {},
   "outputs": [],
   "source": []
  },
  {
   "cell_type": "code",
   "execution_count": null,
   "metadata": {},
   "outputs": [],
   "source": []
  }
 ],
 "metadata": {
  "@webio": {
   "lastCommId": null,
   "lastKernelId": null
  },
  "kernelspec": {
   "display_name": "LCG view 104 + venv",
   "language": "python-custom",
   "name": "lcg-view"
  },
  "language_info": {
   "codemirror_mode": {
    "name": "ipython",
    "version": 3
   },
   "file_extension": ".py",
   "mimetype": "text/x-python",
   "name": "python",
   "nbconvert_exporter": "python",
   "pygments_lexer": "ipython3",
   "version": "3.9.12"
  },
  "sparkconnect": {
   "bundled_options": [
    "NXCALS"
   ],
   "list_of_options": []
  }
 },
 "nbformat": 4,
 "nbformat_minor": 5
}
