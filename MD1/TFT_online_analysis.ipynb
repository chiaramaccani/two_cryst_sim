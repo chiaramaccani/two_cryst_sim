{
 "cells": [
  {
   "cell_type": "code",
   "execution_count": 1,
   "id": "fff6eb37",
   "metadata": {},
   "outputs": [],
   "source": [
    "#import ROOT\n",
    "import uproot\n",
    "from IPython.display import display\n",
    "\n",
    "from IPython.display import Image\n",
    "\n",
    "import matplotlib.pyplot as plt\n",
    "import numpy as np\n",
    "import pandas as pd\n",
    "from scipy.optimize import curve_fit\n",
    "import subprocess\n",
    "import os\n",
    "import glob\n",
    "\n",
    "from scipy.special import erf\n",
    "import scipy.optimize as opt\n",
    "from matplotlib.ticker import FixedLocator\n",
    "from scipy.stats import norm\n",
    "from matplotlib.ticker import FuncFormatter\n",
    "from mpl_toolkits.axes_grid1.inset_locator import inset_axes\n",
    "\n",
    "\n",
    "import matplotlib\n",
    "\n",
    "\n",
    "# Define the 2D Gaussian function\n",
    "def gaussian_2d(X, A, x0, y0, sigma_x, sigma_y):\n",
    "    x, y = X  # X is a tuple (x, y)\n",
    "    return (A * np.exp(-(((x - x0) ** 2) / (2 * sigma_x ** 2) + ((y - y0) ** 2) / (2 * sigma_y ** 2)))).ravel()\n",
    "# Define 1D Gaussian function\n",
    "def gaussian_1d(y, A, y0, sigma_y):\n",
    "    return A * np.exp(-((y - y0) ** 2) / (2 * sigma_y ** 2))"
   ]
  },
  {
   "cell_type": "code",
   "execution_count": null,
   "id": "53143f96",
   "metadata": {},
   "outputs": [],
   "source": []
  }
 ],
 "metadata": {
  "kernelspec": {
   "display_name": "Python 3",
   "language": "python",
   "name": "python3"
  },
  "language_info": {
   "codemirror_mode": {
    "name": "ipython",
    "version": 3
   },
   "file_extension": ".py",
   "mimetype": "text/x-python",
   "name": "python",
   "nbconvert_exporter": "python",
   "pygments_lexer": "ipython3",
   "version": "3.11.9"
  }
 },
 "nbformat": 4,
 "nbformat_minor": 5
}
