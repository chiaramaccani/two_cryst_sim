{
 "cells": [
  {
   "cell_type": "code",
   "execution_count": 1,
   "id": "4ba98631",
   "metadata": {},
   "outputs": [
    {
     "name": "stdout",
     "output_type": "stream",
     "text": [
      "\n",
      "xcoll version:  0.5.12\n",
      "xtrack version:  0.83.0\n",
      "xpart version:  0.23.0\n",
      "xobjects version:  0.5.0\n"
     ]
    }
   ],
   "source": [
    "import numpy as np\n",
    "import json\n",
    "import yaml\n",
    "import matplotlib\n",
    "import matplotlib.pyplot as plt\n",
    "import pandas as pd\n",
    "import seaborn as sns\n",
    "\n",
    "from matplotlib.ticker import MaxNLocator\n",
    "\n",
    "import xobjects as xo\n",
    "import xtrack as xt\n",
    "import xpart as xp\n",
    "import xcoll as xc\n",
    "\n",
    "\n",
    "import pymadx\n",
    "#from xcoll_plotting import plot_functions as xcp\n",
    "\n",
    "print('\\nxcoll version: ', xc.__version__)\n",
    "print('xtrack version: ', xt.__version__)\n",
    "print('xpart version: ', xp.__version__)\n",
    "print('xobjects version: ', xo.__version__)\n",
    "\n",
    "context = xo.ContextCpu() \n",
    "seed = 1927034333"
   ]
  },
  {
   "cell_type": "code",
   "execution_count": 2,
   "id": "90fd9f77",
   "metadata": {},
   "outputs": [
    {
     "name": "stdout",
     "output_type": "stream",
     "text": [
      "pymadx.Tfs.Load> normal file\n"
     ]
    }
   ],
   "source": [
    "# -------------- CONSTANT PARAMETERS -----------------\n",
    "beam =  2 \n",
    "plane = 'V' \n",
    "emittance_n = 3.5e-6\n",
    "layout_file = \"../input_files/2023_Run3_flat_top/layout_flat_top_b2.tfs\"  \n",
    "layout_data_object = pymadx.Data.Tfs(layout_file)\n",
    "\n",
    "\n",
    "TCCP_bending_angle = 6921.3e-6\n",
    "TCCS_bending_angle = 50e-6\n",
    "TCCP_length = 0.070\n",
    "TARGET_length =  0.005\n",
    "TCCS_length = 0.004\n",
    "\n",
    "TCCS_name = 'tccs.5r3.b2'\n",
    "TCCP_name = 'tccp.4l3.b2'\n",
    "TARGET_name = 'target.4l3.b2'\n",
    "PIXEL_name = 'pixel.detector'\n",
    "TFT_name = 'tft.detector'\n",
    "TCP_name = 'tcp.d6r7.b2'\n",
    "TCLA_name = 'tcla.a5l3.b2'\n",
    "\n",
    "TCCS_loc_abs  = 6773.9428  #6773.7 #6775\n",
    "TCCP_loc_abs  = 6653.2543  #6653.3 #6655\n",
    "PIX1_loc_abs = 6652.7039\n",
    "PIX2_loc_abs = 6652.6929\n",
    "PIX3_loc_abs = 6652.6819\n",
    "TFT_loc_abs = 6652.114"
   ]
  },
  {
   "cell_type": "code",
   "execution_count": 3,
   "id": "7212eb2e",
   "metadata": {},
   "outputs": [],
   "source": [
    "# -------------- SETTABLE PARAMETERS -----------------\n",
    "\n",
    "coll_file = '../input_files/colldbs/TWOCRYST_colldb_450GeV_NOCRY.yaml'\n",
    "#coll_file = './input_files/colldbs/TWOCRYST_colldb_450GeV.yaml'\n",
    "#line_file = './MadX/2024/track_injection_b2.json'\n",
    "line_file = '../MadX/2025_new/injection/no_twocryst/track_injection_b2.json'\n",
    "#line_file = './MadX/2025_new/flat_top/track_flat_top_b2.json'\n",
    "\n",
    "part_energy = 450e9\n"
   ]
  },
  {
   "cell_type": "code",
   "execution_count": 5,
   "id": "3deb0e62",
   "metadata": {
    "scrolled": false
   },
   "outputs": [
    {
     "data": {
      "application/vnd.jupyter.widget-view+json": {
       "model_id": "20fb83bb25e14d79a45714f108b664ac",
       "version_major": 2,
       "version_minor": 0
      },
      "text/plain": [
       "Loading line from dict:   0%|          | 0/102293 [00:00<?, ?it/s]"
      ]
     },
     "metadata": {},
     "output_type": "display_data"
    },
    {
     "name": "stdout",
     "output_type": "stream",
     "text": [
      "Done loading line from dict.           \n"
     ]
    },
    {
     "name": "stderr",
     "output_type": "stream",
     "text": [
      "/tmp/ipykernel_509/2501751179.py:7: DeprecationWarning: Conversion of an array with ndim > 0 to a scalar is deprecated, and will error in future. Ensure you extract a single element from your array before performing this operation. (Deprecated NumPy 1.25.)\n",
      "  print(f'\\nParticle energy: {float(line.particle_ref.p0c)/1e9:} GeV\\n')\n"
     ]
    },
    {
     "name": "stdout",
     "output_type": "stream",
     "text": [
      "\n",
      "Particle energy: 450.0 GeV\n",
      "\n"
     ]
    },
    {
     "data": {
      "application/vnd.jupyter.widget-view+json": {
       "model_id": "8a784b18ff4f4f7cb6a23bbbcd992617",
       "version_major": 2,
       "version_minor": 0
      },
      "text/plain": [
       "Slicing line:   0%|          | 0/102293 [00:00<?, ?it/s]"
      ]
     },
     "metadata": {},
     "output_type": "display_data"
    },
    {
     "data": {
      "application/vnd.jupyter.widget-view+json": {
       "model_id": "aa988b247efd445cb508e5e4657c0c41",
       "version_major": 2,
       "version_minor": 0
      },
      "text/plain": [
       "Slicing line:   0%|          | 0/102296 [00:00<?, ?it/s]"
      ]
     },
     "metadata": {},
     "output_type": "display_data"
    },
    {
     "data": {
      "application/vnd.jupyter.widget-view+json": {
       "model_id": "89696343b31b43bda9f34f876ee7091c",
       "version_major": 2,
       "version_minor": 0
      },
      "text/plain": [
       "Slicing line:   0%|          | 0/102298 [00:00<?, ?it/s]"
      ]
     },
     "metadata": {},
     "output_type": "display_data"
    },
    {
     "data": {
      "application/vnd.jupyter.widget-view+json": {
       "model_id": "fbfc94ed4e3d4e6ca7b5f085c823f3d9",
       "version_major": 2,
       "version_minor": 0
      },
      "text/plain": [
       "Slicing line:   0%|          | 0/102300 [00:00<?, ?it/s]"
      ]
     },
     "metadata": {},
     "output_type": "display_data"
    },
    {
     "data": {
      "application/vnd.jupyter.widget-view+json": {
       "model_id": "21487bdfb7584368bd9e846444596907",
       "version_major": 2,
       "version_minor": 0
      },
      "text/plain": [
       "Slicing line:   0%|          | 0/102302 [00:00<?, ?it/s]"
      ]
     },
     "metadata": {},
     "output_type": "display_data"
    },
    {
     "data": {
      "application/vnd.jupyter.widget-view+json": {
       "model_id": "4819edfb385f45d3ba6dd4efdbf95bbb",
       "version_major": 2,
       "version_minor": 0
      },
      "text/plain": [
       "Slicing line:   0%|          | 0/102304 [00:00<?, ?it/s]"
      ]
     },
     "metadata": {},
     "output_type": "display_data"
    },
    {
     "data": {
      "application/vnd.jupyter.widget-view+json": {
       "model_id": "c054a673d0e34edebdff991df5da006b",
       "version_major": 2,
       "version_minor": 0
      },
      "text/plain": [
       "Slicing line:   0%|          | 0/102307 [00:00<?, ?it/s]"
      ]
     },
     "metadata": {},
     "output_type": "display_data"
    },
    {
     "data": {
      "application/vnd.jupyter.widget-view+json": {
       "model_id": "f8938ec9c6464762ae046e254984607d",
       "version_major": 2,
       "version_minor": 0
      },
      "text/plain": [
       "Slicing line:   0%|          | 0/102310 [00:00<?, ?it/s]"
      ]
     },
     "metadata": {},
     "output_type": "display_data"
    },
    {
     "data": {
      "application/vnd.jupyter.widget-view+json": {
       "model_id": "d960c7105af649a28e1542d46bb7c3e7",
       "version_major": 2,
       "version_minor": 0
      },
      "text/plain": [
       "Slicing line:   0%|          | 0/102313 [00:00<?, ?it/s]"
      ]
     },
     "metadata": {},
     "output_type": "display_data"
    },
    {
     "data": {
      "application/vnd.jupyter.widget-view+json": {
       "model_id": "06e3a11f9ee24a67a3763c8a8b4ccb55",
       "version_major": 2,
       "version_minor": 0
      },
      "text/plain": [
       "Slicing line:   0%|          | 0/102316 [00:00<?, ?it/s]"
      ]
     },
     "metadata": {},
     "output_type": "display_data"
    },
    {
     "data": {
      "application/vnd.jupyter.widget-view+json": {
       "model_id": "6b29667ecc1b4997a14b76875df1d88c",
       "version_major": 2,
       "version_minor": 0
      },
      "text/plain": [
       "Slicing line:   0%|          | 0/102319 [00:00<?, ?it/s]"
      ]
     },
     "metadata": {},
     "output_type": "display_data"
    },
    {
     "name": "stdout",
     "output_type": "stream",
     "text": [
      "Installing tcsg.d5l7.b2         as EverestCollimator\n",
      "Compiling ContextCpu kernels...\n",
      "Done compiling ContextCpu kernels.\n",
      "Installing tcla.a5l3.b2         as EverestCollimator\n",
      "Installing tcdqa.a4l6.b2        as EverestCollimator\n",
      "Installing tcla.d6l7.b2         as EverestCollimator\n",
      "Installing tcl.4l5.b2           as EverestCollimator\n",
      "Installing tcspm.b4r7.b2        as EverestCollimator\n",
      "Installing tcla.6l3.b2          as EverestCollimator\n",
      "Installing tctpv.4r1.b2         as EverestCollimator\n",
      "Installing tcsg.a5r7.b2         as EverestCollimator\n",
      "Installing tcsg.b5l3.b2         as EverestCollimator\n",
      "Installing tctph.4r1.b2         as EverestCollimator\n",
      "Installing tctpv.4r8.b2         as EverestCollimator\n",
      "Installing tcsg.a4l7.b2         as EverestCollimator\n",
      "Installing tcspm.6l7.b2         as EverestCollimator\n",
      "Installing tcsg.4l3.b2          as EverestCollimator\n",
      "Installing tcsp.a4l6.b2         as EverestCollimator\n",
      "Installing tcp.6r3.b2           as EverestCollimator\n",
      "Installing tctph.4r2.b2         as EverestCollimator\n",
      "Installing tcsg.e5l7.b2         as EverestCollimator\n",
      "Installing tdisc.a4r8.b2        as EverestCollimator\n",
      "Installing tcsg.a6r7.b2         as EverestCollimator\n",
      "Installing tcspm.e5l7.b2        as EverestCollimator\n",
      "Installing tcla.7l3.b2          as EverestCollimator\n",
      "Installing tcsg.b4r7.b2         as EverestCollimator\n",
      "Installing tcp.d6r7.b2          as EverestCollimator\n",
      "Installing tcsg.b5l7.b2         as EverestCollimator\n",
      "Installing tctph.4r5.b2         as EverestCollimator\n",
      "Installing tcspm.d4r7.b2        as EverestCollimator\n",
      "Installing tcla.a6l7.b2         as EverestCollimator\n",
      "Installing tclia.4l8            as EverestCollimator\n",
      "Installing tcla.b5l3.b2         as EverestCollimator\n",
      "Installing tcl.6l1.b2           as EverestCollimator\n",
      "Installing tdisa.a4r8.b2        as EverestCollimator\n",
      "Installing tcsg.6l7.b2          as EverestCollimator\n",
      "Installing tcla.a7l7.b2         as EverestCollimator\n",
      "Installing tcdqa.c4l6.b2        as EverestCollimator\n",
      "Installing tctpv.4r5.b2         as EverestCollimator\n",
      "Installing tdisb.a4r8.b2        as EverestCollimator\n",
      "Installing tcsg.b5r7.b2         as EverestCollimator\n",
      "Installing tcla.b6l7.b2         as EverestCollimator\n",
      "Installing tcsg.a4r7.b2         as EverestCollimator\n",
      "Installing tcl.5l5.b2           as EverestCollimator\n",
      "Installing tcl.6l5.b2           as EverestCollimator\n",
      "Installing tctpv.4r2.b2         as EverestCollimator\n",
      "Installing tcl.4l1.b2           as EverestCollimator\n",
      "Installing tcp.c6r7.b2          as EverestCollimator\n",
      "Installing tcp.b6r7.b2          as EverestCollimator\n",
      "Installing tcsg.d4r7.b2         as EverestCollimator\n",
      "Installing tcld.a11l2.b2        as EverestCollimator\n",
      "Installing tcdqa.b4l6.b2        as EverestCollimator\n",
      "Installing tcl.5l1.b2           as EverestCollimator\n",
      "Installing tclib.6l8.b2         as EverestCollimator\n",
      "Installing tcpcv.a6r7.b2        as EverestCrystal\n",
      "Compiling ContextCpu kernels...\n",
      "Done compiling ContextCpu kernels.\n",
      "Installing tcpch.a5r7.b2        as EverestCrystal\n",
      "Installing tcsg.5r3.b2          as EverestCollimator\n",
      "Installing tctph.4r8.b2         as EverestCollimator\n",
      "Installing tcsg.a5l3.b2         as EverestCollimator\n",
      "Installing tcla.c6l7.b2         as EverestCollimator\n"
     ]
    },
    {
     "data": {
      "application/vnd.jupyter.widget-view+json": {
       "model_id": "0a5fa6d07352439d99e65bfffa2d4c6c",
       "version_major": 2,
       "version_minor": 0
      },
      "text/plain": [
       "Slicing line:   0%|          | 0/102321 [00:00<?, ?it/s]"
      ]
     },
     "metadata": {},
     "output_type": "display_data"
    },
    {
     "name": "stdout",
     "output_type": "stream",
     "text": [
      "\n",
      "Aperture model check after introducing collimators:\n"
     ]
    },
    {
     "data": {
      "application/vnd.jupyter.widget-view+json": {
       "model_id": "61b8a39e066f42b387f5b0f4cf5676a6",
       "version_major": 2,
       "version_minor": 0
      },
      "text/plain": [
       "Checking aperture:   0%|          | 0/102273 [00:00<?, ?it/s]"
      ]
     },
     "metadata": {},
     "output_type": "display_data"
    },
    {
     "name": "stdout",
     "output_type": "stream",
     "text": [
      "Done checking aperture.           \n",
      "0 thin elements miss associated aperture (upstream):\n",
      "[]\n",
      "0 thick elements miss associated aperture (upstream or downstream):\n",
      "[]\n",
      "Compiling ContextCpu kernels...\n",
      "Done compiling ContextCpu kernels.\n",
      "Compiling ContextCpu kernels...\n",
      "Done compiling ContextCpu kernels.\n",
      "Compiling ContextCpu kernels...\n",
      "Done compiling ContextCpu kernels.\n"
     ]
    }
   ],
   "source": [
    "# ---------------- BUILD LINE ----------------\n",
    "\n",
    "line = xt.Line.from_json(line_file)\n",
    "if part_energy is not None:\n",
    "    line.particle_ref = xt.Particles(p0c=part_energy, #eV\n",
    "                                q0=1, mass0=xt.PROTON_MASS_EV)\n",
    "print(f'\\nParticle energy: {float(line.particle_ref.p0c)/1e9:} GeV\\n')\n",
    "energy = line.particle_ref.p0c[0]\n",
    "beta_rel = line.particle_ref.beta0[0]\n",
    "gamma = line.particle_ref.gamma0[0]\n",
    "emittance = emittance_n/(beta_rel*gamma)\n",
    "\n",
    "\n",
    "dp = 1.92e-10 \n",
    "pot_crit = 21.34\n",
    "eta = 0.9\n",
    "bending_radius = TCCS_length/TCCS_bending_angle\n",
    "Rcrit = energy/(2*np.sqrt(eta)*pot_crit) * (dp/2)\n",
    "TCCS_critical_angle = np.sqrt(2*eta*pot_crit/energy)*(1 - Rcrit/bending_radius)\n",
    "\n",
    "\n",
    "end_s = line.get_length()\n",
    "\n",
    "\n",
    "TCCS_loc = end_s - TCCS_loc_abs\n",
    "TCCP_loc = end_s - TCCP_loc_abs\n",
    "TARGET_loc = end_s - (TCCP_loc_abs + 0.07/2 + 0.005/2)\n",
    "PIX1_loc = end_s - PIX1_loc_abs\n",
    "PIX2_loc = end_s - PIX2_loc_abs\n",
    "PIX3_loc = end_s - PIX3_loc_abs\n",
    "TFT_loc = end_s - TFT_loc_abs\n",
    "TCP_loc = line.get_s_position()[line.element_names.index(TCP_name)]\n",
    "TCLA_loc = line.get_s_position()[line.element_names.index(TCLA_name)]\n",
    "\n",
    "\n",
    "line.insert_element(at_s=TCCS_loc, element=xt.Marker(), name=TCCS_name)\n",
    "line.insert_element(at_s=TCCS_loc, element=xt.LimitEllipse(a_squ=0.0016, b_squ=0.0016, a_b_squ=2.56e-06), name=TCCS_name+'_aper')\n",
    "line.insert_element(at_s=TCCS_loc - TCCS_length/2, element=xt.Marker(), name=TCCS_name+'_exit')\n",
    "line.insert_element(at_s=TCCS_loc + TCCS_length/2, element=xt.Marker(), name=TCCS_name+'_entry')\n",
    "line.insert_element(at_s=TCCP_loc, element=xt.Marker(), name=TCCP_name)\n",
    "line.insert_element(at_s=TCCP_loc - TCCP_length/2, element=xt.Marker(), name=TCCP_name+'_exit')\n",
    "line.insert_element(at_s=TCCP_loc + TCCP_length/2, element=xt.Marker(), name=TCCP_name+'_entry')\n",
    "line.insert_element(at_s=TCCP_loc, element=xt.LimitEllipse(a_squ=0.0016, b_squ=0.0016, a_b_squ=2.56e-06), name=TCCP_name+'_aper')\n",
    "line.insert_element(at_s=TARGET_loc, element=xt.Marker(), name=TARGET_name)\n",
    "line.insert_element(at_s=TARGET_loc, element=xt.LimitEllipse(a_squ=0.0016, b_squ=0.0016, a_b_squ=2.56e-06), name= TARGET_name + '_aper')\n",
    "line.insert_element(at_s=PIX1_loc, element=xt.Marker(), name=PIXEL_name+'_1')\n",
    "line.insert_element(at_s=PIX1_loc, element=xt.LimitEllipse(a_squ=0.0016, b_squ=0.0016, a_b_squ=2.56e-06), name= PIXEL_name+'_1' + '_aper')\n",
    "line.insert_element(at_s=PIX2_loc, element=xt.Marker(), name=PIXEL_name+'_2')\n",
    "line.insert_element(at_s=PIX2_loc, element=xt.LimitEllipse(a_squ=0.0016, b_squ=0.0016, a_b_squ=2.56e-06), name= PIXEL_name+'_2' + '_aper')\n",
    "line.insert_element(at_s=PIX3_loc, element=xt.Marker(), name=PIXEL_name+'_3')\n",
    "line.insert_element(at_s=PIX3_loc, element=xt.LimitEllipse(a_squ=0.0016, b_squ=0.0016, a_b_squ=2.56e-06), name= PIXEL_name+'_3' + '_aper')\n",
    "line.insert_element(at_s=TFT_loc, element=xt.Marker(), name=TFT_name)\n",
    "\n",
    "\n",
    "colldb = xc.CollimatorDatabase.from_yaml(coll_file, beam=beam, ignore_crystals=False)\n",
    "colldb.install_everest_collimators(line = line,verbose=True)\n",
    "\n",
    "# Aperture model check\n",
    "print('\\nAperture model check after introducing collimators:')\n",
    "df_with_coll = line.check_aperture()\n",
    "assert not np.any(df_with_coll.has_aperture_problem)\n",
    "\n",
    "\n",
    "\n",
    "# Build the tracker\n",
    "line.build_tracker()\n",
    "tw = line.twiss()"
   ]
  },
  {
   "cell_type": "code",
   "execution_count": null,
   "id": "29a2a892",
   "metadata": {},
   "outputs": [],
   "source": []
  },
  {
   "cell_type": "code",
   "execution_count": null,
   "id": "9d5bf456",
   "metadata": {},
   "outputs": [],
   "source": [
    "TCCS_alfy = 1.6452809259189083\n",
    "TCCS_bety = 237.10008673014357\n",
    "\n",
    "TCCP_alfy = -3.061162194699935\n",
    "TCCP_bety = 283.9205729846146\n",
    "\n",
    "PIX_bety  = 287.30138012925875\n",
    "PIX_alfy  = -3.081266638309871\n",
    "\n",
    "TFT_bety = 290.94938468345964\n",
    "TFT_alfy = -3.1028138971861075\n",
    "\n",
    "TCLA_bety = 177.85452549506485\n",
    "TCLA_alfy = 1.8688529341101034"
   ]
  },
  {
   "cell_type": "code",
   "execution_count": null,
   "id": "f4c7647b",
   "metadata": {},
   "outputs": [],
   "source": []
  },
  {
   "cell_type": "code",
   "execution_count": null,
   "id": "cd727620",
   "metadata": {},
   "outputs": [],
   "source": []
  },
  {
   "cell_type": "code",
   "execution_count": null,
   "id": "2159e2c3",
   "metadata": {},
   "outputs": [],
   "source": []
  },
  {
   "cell_type": "code",
   "execution_count": null,
   "id": "f77f1f6a",
   "metadata": {},
   "outputs": [],
   "source": [
    "\n",
    "def CRY_tw(gap, energy, element = None, tw = None, beta_y = None, alpha_y = None):\n",
    "    \n",
    "    if tw is None and beta_y is None and alfy is None:\n",
    "        print(\"Pass something\")\n",
    "        return\n",
    "    \n",
    "    mp = 0.9382e9\n",
    "    emittance_n = 3.5e-6\n",
    "    gamma = energy/mp\n",
    "    beta = np.sqrt(1-1/(gamma*gamma))\n",
    "    emittance = emittance_n/(beta*gamma)\n",
    "\n",
    "    beta_y = tw['bety', element] if tw is not None else beta_y \n",
    "    alpha_y = tw['alfy', element] if tw is not  None else alpha_y\n",
    "    #print('beta_y = ', beta_y, 'alpha_y = ', alpha_y)\n",
    "    return gap*np.sqrt(emittance*beta_y), -gap*alpha_y*np.sqrt(emittance/beta_y)"
   ]
  },
  {
   "cell_type": "code",
   "execution_count": null,
   "id": "a78e8274",
   "metadata": {},
   "outputs": [],
   "source": [
    "TCCS_gap = 5"
   ]
  },
  {
   "cell_type": "markdown",
   "id": "bc39db35",
   "metadata": {},
   "source": [
    "Channeling at 4907 urad. TCLA at 9sigma    \n",
    "Channeling angle:  4910.84964321279"
   ]
  },
  {
   "cell_type": "code",
   "execution_count": null,
   "id": "21de15a1",
   "metadata": {},
   "outputs": [],
   "source": [
    "TCCS_pos_measured = 50.5 \n",
    "TCCS_ch_angle_mesured = 4910.84964321279 *1e-6 # 4907"
   ]
  },
  {
   "cell_type": "code",
   "execution_count": null,
   "id": "202e01b7",
   "metadata": {},
   "outputs": [],
   "source": [
    "def calculate_expected_chann_angle(new_gap, gap_meas, ang_meas, bety, alfy, energy =  450e9):\n",
    "    \n",
    "    new_ang  = CRY_tw(new_gap, energy, beta_y = bety , alpha_y = alfy)[1]\n",
    "    old_ang = CRY_tw(gap_meas, energy, beta_y = bety , alpha_y = alfy)[1]\n",
    "    \n",
    "    delta = new_ang - old_ang\n",
    "    print(\"Delta ang: \", delta)\n",
    "    \n",
    "    return ang_meas - delta\n",
    "    "
   ]
  },
  {
   "cell_type": "code",
   "execution_count": null,
   "id": "43d70b13",
   "metadata": {},
   "outputs": [],
   "source": [
    "calculate_expected_chann_angle(new_gap = 4, gap_meas = TCCS_gap, ang_meas = TCCS_ch_angle_mesured, bety = TCCS_bety, alfy = TCCS_alfy) *1e6"
   ]
  },
  {
   "cell_type": "code",
   "execution_count": null,
   "id": "51698e4e",
   "metadata": {},
   "outputs": [],
   "source": []
  }
 ],
 "metadata": {
  "kernelspec": {
   "display_name": "Python 3",
   "language": "python",
   "name": "python3"
  },
  "language_info": {
   "codemirror_mode": {
    "name": "ipython",
    "version": 3
   },
   "file_extension": ".py",
   "mimetype": "text/x-python",
   "name": "python",
   "nbconvert_exporter": "python",
   "pygments_lexer": "ipython3",
   "version": "3.11.9"
  }
 },
 "nbformat": 4,
 "nbformat_minor": 5
}
