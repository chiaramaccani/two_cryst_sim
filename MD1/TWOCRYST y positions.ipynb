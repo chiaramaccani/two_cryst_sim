{
 "cells": [
  {
   "cell_type": "code",
   "execution_count": 1,
   "id": "2d9fa840",
   "metadata": {},
   "outputs": [],
   "source": [
    "import matplotlib.pyplot as plt\n",
    "from datetime import datetime, timezone, timedelta\n",
    "import pandas as pd\n",
    "import numpy as np"
   ]
  },
  {
   "cell_type": "code",
   "execution_count": 2,
   "id": "88edca6a",
   "metadata": {},
   "outputs": [],
   "source": [
    "mp = 0.9382\n",
    "emittance_n = 3.5e-6"
   ]
  },
  {
   "cell_type": "code",
   "execution_count": 3,
   "id": "9cb83c2b",
   "metadata": {},
   "outputs": [],
   "source": [
    "def calculate_n_sigma(TCP_LU, TCP_RU, beta_TCP, energy=450):\n",
    "    \n",
    "    gamma = energy/mp\n",
    "    beta = np.sqrt(1-1/(gamma*gamma))\n",
    "    emittance = emittance_n/(beta*gamma)\n",
    "    \n",
    "    sigma_TCP = np.sqrt(emittance*beta_TCP)\n",
    "    \n",
    "    hgap = (TCP_LU-TCP_RU)/2\n",
    "    n_sigma = hgap/sigma_TCP\n",
    "    \n",
    "    return n_sigma\n",
    "    "
   ]
  },
  {
   "cell_type": "code",
   "execution_count": 4,
   "id": "0c4c4307",
   "metadata": {},
   "outputs": [],
   "source": [
    "energy = 450\n",
    "CO_TCP = 4.5761658382301505e-07\n",
    "beta_TCP = 71.51718539154425\n"
   ]
  },
  {
   "cell_type": "markdown",
   "id": "07013123",
   "metadata": {},
   "source": [
    "# MD1\n"
   ]
  },
  {
   "cell_type": "markdown",
   "id": "f219904e",
   "metadata": {},
   "source": [
    "### Alignement at 22:21"
   ]
  },
  {
   "cell_type": "code",
   "execution_count": 5,
   "id": "b4a40e07",
   "metadata": {},
   "outputs": [
    {
     "data": {
      "text/plain": [
       "5.3086514237270235"
      ]
     },
     "execution_count": 5,
     "metadata": {},
     "output_type": "execute_result"
    }
   ],
   "source": [
    "TCP_LU = 4.445e-3\n",
    "TCP_RU = -3.225e-3\n",
    "calculate_n_sigma(TCP_LU, TCP_RU, beta_TCP)  #from CCC 5.35"
   ]
  },
  {
   "cell_type": "code",
   "execution_count": 6,
   "id": "dbf88fe9",
   "metadata": {},
   "outputs": [],
   "source": [
    "TCCS_align_pos = 50.05e-3\n",
    "\n",
    "TCLA_pos = 9.09e-3 # 8.07 from CCC, 9.12 hgap"
   ]
  },
  {
   "cell_type": "markdown",
   "id": "d182de7a",
   "metadata": {},
   "source": [
    "### Alignement at 22:46"
   ]
  },
  {
   "cell_type": "code",
   "execution_count": 7,
   "id": "30195afa",
   "metadata": {},
   "outputs": [
    {
     "data": {
      "text/plain": [
       "5.48168439060209"
      ]
     },
     "execution_count": 7,
     "metadata": {},
     "output_type": "execute_result"
    }
   ],
   "source": [
    "TCP_LU = 4.615e-3\n",
    "TCP_RU = -3.305e-3\n",
    "calculate_n_sigma(TCP_LU, TCP_RU, beta_TCP)  #from CCC 5.5"
   ]
  },
  {
   "cell_type": "code",
   "execution_count": 8,
   "id": "3e4c7b72",
   "metadata": {},
   "outputs": [],
   "source": [
    "XRP1_align_pos = 32.4e-3 # between 22:49 and 22:50 and 22:59 and 23:17\n",
    "# XRP1_pos = 31.9e-3 # between 22:50 and 22:58\n",
    "\n",
    "\n",
    "XRP2_align_pos = 33.9e-3 # at 22:52 and between 23:03 and 23:06\n",
    "# XRP2_pos = 33.4e-3 # between 22:52 and 23:03 and between 23:06\n"
   ]
  },
  {
   "cell_type": "markdown",
   "id": "cf41815d",
   "metadata": {},
   "source": [
    "### Alignement at 23:28"
   ]
  },
  {
   "cell_type": "code",
   "execution_count": 9,
   "id": "44669eba",
   "metadata": {},
   "outputs": [
    {
     "data": {
      "text/plain": [
       "4.817237797801836"
      ]
     },
     "execution_count": 9,
     "metadata": {},
     "output_type": "execute_result"
    }
   ],
   "source": [
    "TCP_LU = 4.055e-3\n",
    "TCP_RU = -2.905e-3\n",
    "calculate_n_sigma(TCP_LU, TCP_RU, beta_TCP)  #from CCC 4.83"
   ]
  },
  {
   "cell_type": "code",
   "execution_count": 10,
   "id": "97f10d0f",
   "metadata": {},
   "outputs": [],
   "source": [
    "TCCP_align_pos = 37e-3"
   ]
  },
  {
   "cell_type": "code",
   "execution_count": 11,
   "id": "57b93454",
   "metadata": {},
   "outputs": [],
   "source": [
    "XRP2_pos = 33.4e-3 # between 23:35 and 23:43 and between 23:56 and 00.09\n",
    "    \n",
    "    \n",
    "XRP1_align_pos = 34.6e-3 # at 00:15\n",
    "XRP1_pos = 34.2e-3 # between  00:16 and 00:35\n",
    "XRP1_align_pos_det = 34.585e-3 # at 00:36\n",
    "XRP1_pos = 34.53e-3 # 1PIX out between  00:37 and 00:43\n",
    "\n",
    "XRP2_align_pos = 34.6e-3 # at 00:15\n",
    "XRP2_pos = 35.9e-3 # 00:48: and 00:59"
   ]
  },
  {
   "cell_type": "markdown",
   "id": "ba130c48",
   "metadata": {},
   "source": [
    "### Alignement at 01:05 after blowing up the excited bunches  (first block)\n"
   ]
  },
  {
   "cell_type": "code",
   "execution_count": 12,
   "id": "fc5689fd",
   "metadata": {},
   "outputs": [
    {
     "data": {
      "text/plain": [
       "4.388116039951673"
      ]
     },
     "execution_count": 12,
     "metadata": {},
     "output_type": "execute_result"
    }
   ],
   "source": [
    "TCP_LU = 3.745e-3\n",
    "TCP_RU = -2.595e-3\n",
    "calculate_n_sigma(TCP_LU, TCP_RU, beta_TCP)  #from CCC 4.83"
   ]
  },
  {
   "cell_type": "code",
   "execution_count": 13,
   "id": "4e206e89",
   "metadata": {},
   "outputs": [
    {
     "data": {
      "text/plain": [
       "-3.500000000000031e-05"
      ]
     },
     "execution_count": 13,
     "metadata": {},
     "output_type": "execute_result"
    }
   ],
   "source": [
    "XRP2_align_pos = 36.32e-3 # at 1:23 first touch, then 35.355 then 36.39\n",
    "XRP2_pos = 36.285e-3 # back to the last step before we touched the RP,  between  1:25 and 1:42\n",
    "XRP2_pos - XRP2_align_pos #step size. 1 PIX "
   ]
  },
  {
   "cell_type": "code",
   "execution_count": 14,
   "id": "7cfedba9",
   "metadata": {},
   "outputs": [],
   "source": [
    "XRP2_pos =  35.935e-3 #Moved out by 350 mm to prepare for the angular scan of the TCCP using the TFT, btween 1:42 and 1:54"
   ]
  },
  {
   "cell_type": "code",
   "execution_count": 15,
   "id": "38e9746b",
   "metadata": {},
   "outputs": [
    {
     "data": {
      "text/plain": [
       "-5.4999999999999494e-05"
      ]
     },
     "execution_count": 15,
     "metadata": {},
     "output_type": "execute_result"
    }
   ],
   "source": [
    "XRP1_align_pos = 34.575e-3 # at 2:09 \n",
    "XRP1_pos = 34.52e-3 # 1 PIX out,  between  2:10 and 3:11\n",
    "XRP1_pos - XRP1_align_pos #step size. 1 PIX "
   ]
  },
  {
   "cell_type": "markdown",
   "id": "859ac9cb",
   "metadata": {},
   "source": [
    "# MD 2"
   ]
  },
  {
   "cell_type": "markdown",
   "id": "269178dc",
   "metadata": {},
   "source": [
    "### Alignement at 15:25"
   ]
  },
  {
   "cell_type": "code",
   "execution_count": 16,
   "id": "ebdf1385",
   "metadata": {},
   "outputs": [],
   "source": [
    "TCP_LU = 4.115e-3\n",
    "TCP_RU = -2.855e-3"
   ]
  },
  {
   "cell_type": "code",
   "execution_count": 17,
   "id": "3ef8761b",
   "metadata": {},
   "outputs": [
    {
     "data": {
      "text/plain": [
       "4.824159116476839"
      ]
     },
     "execution_count": 17,
     "metadata": {},
     "output_type": "execute_result"
    }
   ],
   "source": [
    "n_sigma = calculate_n_sigma(TCP_LU, TCP_RU, beta_TCP)\n",
    "\n",
    "n_sigma"
   ]
  },
  {
   "cell_type": "code",
   "execution_count": 18,
   "id": "d935721e",
   "metadata": {},
   "outputs": [],
   "source": [
    "XRP2_align_pos = 35.73e-3\n",
    "XRP1_align_pos = 34.005e-3\n",
    "TCCS_align_pos = 50.3e-3\n",
    "\n",
    "\n",
    "#we have not aligned TCCP \n",
    "TCCP_pos  = 30e-3\n",
    "\n",
    "XRP2_pos = 35.43e-3\n",
    "\n",
    "#until 16:33\n",
    "XRP1_pos = 33.705e-3\n",
    "#after 16:33\n",
    "XRP1_pos = 31.705e-3"
   ]
  },
  {
   "cell_type": "markdown",
   "id": "3a9e4473",
   "metadata": {},
   "source": [
    "### Alignment at 17:26"
   ]
  },
  {
   "cell_type": "code",
   "execution_count": 19,
   "id": "51b9d914",
   "metadata": {
    "scrolled": true
   },
   "outputs": [
    {
     "data": {
      "text/plain": [
       "4.699575380326792"
      ]
     },
     "execution_count": 19,
     "metadata": {},
     "output_type": "execute_result"
    }
   ],
   "source": [
    "TCP_LU = 4.025e-3\n",
    "TCP_RU = -2.765e-3\n",
    "\n",
    "calculate_n_sigma(TCP_LU, TCP_RU, beta_TCP)"
   ]
  },
  {
   "cell_type": "markdown",
   "id": "94de7794",
   "metadata": {},
   "source": [
    "### Alignment at 19:23"
   ]
  },
  {
   "cell_type": "code",
   "execution_count": 20,
   "id": "fec92db2",
   "metadata": {},
   "outputs": [
    {
     "data": {
      "text/plain": [
       "4.491935820076712"
      ]
     },
     "execution_count": 20,
     "metadata": {},
     "output_type": "execute_result"
    }
   ],
   "source": [
    "TCP_LU = 3.875e-3\n",
    "TCP_RU = -2.615e-3\n",
    "calculate_n_sigma(TCP_LU, TCP_RU, beta_TCP)"
   ]
  },
  {
   "cell_type": "markdown",
   "id": "45e805e4",
   "metadata": {},
   "source": [
    "### Alignment at 20:00"
   ]
  },
  {
   "cell_type": "code",
   "execution_count": 18,
   "id": "c757ab5b",
   "metadata": {},
   "outputs": [
    {
     "data": {
      "text/plain": [
       "3.993600875476522"
      ]
     },
     "execution_count": 18,
     "metadata": {},
     "output_type": "execute_result"
    }
   ],
   "source": [
    "TCP_LU = 3.515e-3\n",
    "TCP_RU = -2.255e-3\n",
    "calculate_n_sigma(TCP_LU, TCP_RU, beta_TCP)"
   ]
  },
  {
   "cell_type": "code",
   "execution_count": null,
   "id": "445fcb79",
   "metadata": {},
   "outputs": [],
   "source": []
  }
 ],
 "metadata": {
  "kernelspec": {
   "display_name": "Python 3",
   "language": "python",
   "name": "python3"
  },
  "language_info": {
   "codemirror_mode": {
    "name": "ipython",
    "version": 3
   },
   "file_extension": ".py",
   "mimetype": "text/x-python",
   "name": "python",
   "nbconvert_exporter": "python",
   "pygments_lexer": "ipython3",
   "version": "3.11.9"
  }
 },
 "nbformat": 4,
 "nbformat_minor": 5
}
