{
 "cells": [
  {
   "cell_type": "code",
   "execution_count": 1,
   "metadata": {},
   "outputs": [],
   "source": [
    "import matplotlib.pyplot as plt\n",
    "from PIL import Image\n",
    "import imageio\n",
    "import subprocess\n",
    "import io"
   ]
  },
  {
   "cell_type": "code",
   "execution_count": 37,
   "metadata": {},
   "outputs": [],
   "source": [
    "def ls(return_list = False, path=\"/eos/home-c/cmaccani/xsuite_sim/two_cryst_sim/Condor/\"):\n",
    "    if return_list:\n",
    "        return subprocess.check_output(\"ls -ht \" + path, shell=True).decode('ascii').strip().split('\\n')\n",
    "    else:\n",
    "        print(subprocess.check_output(\"ls -ht \" + path, shell=True).decode('ascii').strip())"
   ]
  },
  {
   "cell_type": "code",
   "execution_count": 51,
   "metadata": {},
   "outputs": [],
   "source": [
    "file_list = [file for file in ls(path='./Outputdata/old_pictures/', return_list=True) if ('InBeam'in file) and ('PIX_2D' in file) and ('TOTAL'  not in file)]"
   ]
  },
  {
   "cell_type": "code",
   "execution_count": 52,
   "metadata": {},
   "outputs": [],
   "source": [
    "file_list.sort()"
   ]
  },
  {
   "cell_type": "code",
   "execution_count": 53,
   "metadata": {},
   "outputs": [
    {
     "data": {
      "text/plain": [
       "['InBeam_TCCS_PIX_2D_00_-26.4.png',\n",
       " 'InBeam_TCCS_PIX_2D_01_-24.2.png',\n",
       " 'InBeam_TCCS_PIX_2D_02_-22.0.png',\n",
       " 'InBeam_TCCS_PIX_2D_03_-19.8.png',\n",
       " 'InBeam_TCCS_PIX_2D_04_-17.6.png',\n",
       " 'InBeam_TCCS_PIX_2D_05_-15.4.png',\n",
       " 'InBeam_TCCS_PIX_2D_06_-13.2.png',\n",
       " 'InBeam_TCCS_PIX_2D_07_-11.0.png',\n",
       " 'InBeam_TCCS_PIX_2D_08_-8.8.png',\n",
       " 'InBeam_TCCS_PIX_2D_09_-6.6.png',\n",
       " 'InBeam_TCCS_PIX_2D_10_-4.4.png',\n",
       " 'InBeam_TCCS_PIX_2D_11_-2.2.png',\n",
       " 'InBeam_TCCS_PIX_2D_12_-0.0.png',\n",
       " 'InBeam_TCCS_PIX_2D_13_2.2.png',\n",
       " 'InBeam_TCCS_PIX_2D_14_4.4.png',\n",
       " 'InBeam_TCCS_PIX_2D_15_6.6.png',\n",
       " 'InBeam_TCCS_PIX_2D_16_8.8.png',\n",
       " 'InBeam_TCCS_PIX_2D_17_11.0.png',\n",
       " 'InBeam_TCCS_PIX_2D_18_13.2.png',\n",
       " 'InBeam_TCCS_PIX_2D_19_15.4.png',\n",
       " 'InBeam_TCCS_PIX_2D_20_17.6.png',\n",
       " 'InBeam_TCCS_PIX_2D_21_19.8.png',\n",
       " 'InBeam_TCCS_PIX_2D_22_22.0.png',\n",
       " 'InBeam_TCCS_PIX_2D_23_24.2.png']"
      ]
     },
     "execution_count": 53,
     "metadata": {},
     "output_type": "execute_result"
    }
   ],
   "source": [
    "file_list"
   ]
  },
  {
   "cell_type": "code",
   "execution_count": 54,
   "metadata": {},
   "outputs": [],
   "source": [
    "frames = []\n",
    "path='./Outputdata/old_pictures/'\n",
    "\n",
    "dpi = 300\n",
    "figsize = (10, 8)\n",
    "for image_path in file_list:\n",
    "    img = Image.open(path +image_path)\n",
    "    fig = plt.figure(figsize=figsize, dpi=dpi)\n",
    "    plt.imshow(img)\n",
    "    plt.axis('off')  # Optional: turn off axes if you don't need them\n",
    "    # Add any annotations or text if necessary\n",
    "    \n",
    "    # Convert plot to image buffer\n",
    "    buf = io.BytesIO()\n",
    "    plt.savefig(buf, format='png', dpi=dpi, bbox_inches='tight', pad_inches=0)\n",
    "    buf.seek(0)\n",
    "    \n",
    "    # Append image buffer to frames\n",
    "    frames.append(Image.open(buf))\n",
    "    \n",
    "    # Clear plot for next image\n",
    "    plt.close()"
   ]
  },
  {
   "cell_type": "code",
   "execution_count": 55,
   "metadata": {},
   "outputs": [],
   "source": [
    "frames[0].save(\n",
    "    \"PIX_2D_InBEAM.gif\",\n",
    "    save_all=True,\n",
    "    append_images=frames[1:],\n",
    "    duration=100,\n",
    "    loop=0,\n",
    "    optimize=True,\n",
    "    quality=95  # 95 is high-quality (max is 100)\n",
    ")"
   ]
  },
  {
   "cell_type": "code",
   "execution_count": null,
   "metadata": {},
   "outputs": [],
   "source": []
  },
  {
   "cell_type": "code",
   "execution_count": null,
   "metadata": {},
   "outputs": [],
   "source": []
  },
  {
   "cell_type": "code",
   "execution_count": null,
   "metadata": {},
   "outputs": [],
   "source": []
  },
  {
   "cell_type": "code",
   "execution_count": null,
   "metadata": {},
   "outputs": [],
   "source": []
  }
 ],
 "metadata": {
  "kernelspec": {
   "display_name": "LCG view 104 + venv",
   "language": "python-custom",
   "name": "lcg-view"
  },
  "language_info": {
   "codemirror_mode": {
    "name": "ipython",
    "version": 3
   },
   "file_extension": ".py",
   "mimetype": "text/x-python",
   "name": "python",
   "nbconvert_exporter": "python",
   "pygments_lexer": "ipython3",
   "version": "3.9.12"
  }
 },
 "nbformat": 4,
 "nbformat_minor": 2
}
