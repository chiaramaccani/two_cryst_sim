{
 "cells": [
  {
   "cell_type": "code",
   "execution_count": 1,
   "metadata": {
    "vscode": {
     "languageId": "python"
    }
   },
   "outputs": [],
   "source": [
    "import matplotlib.pyplot as plt\n",
    "from PIL import Image\n",
    "import imageio\n",
    "import subprocess\n",
    "import io"
   ]
  },
  {
   "cell_type": "code",
   "execution_count": 20,
   "metadata": {
    "vscode": {
     "languageId": "python"
    }
   },
   "outputs": [],
   "source": [
    "def ls(return_list = False, path=\"/eos/home-c/cmaccani/xsuite_sim/two_cryst_sim/Condor/\"):\n",
    "    if return_list:\n",
    "        return subprocess.check_output(\"ls -ht \" + path, shell=True).decode('ascii').strip().split('\\n')\n",
    "    else:\n",
    "        print(subprocess.check_output(\"ls -ht \" + path, shell=True).decode('ascii').strip())"
   ]
  },
  {
   "cell_type": "code",
   "execution_count": 26,
   "metadata": {
    "vscode": {
     "languageId": "python"
    }
   },
   "outputs": [],
   "source": [
    "file_list = [file for file in ls(path='./Outputdata/', return_list=True) if ('TFT_2D_ROT2.2murad'in file) and ('10.1' not in file)] #and ('TOTAL'  not in file)]"
   ]
  },
  {
   "cell_type": "code",
   "execution_count": 27,
   "metadata": {
    "vscode": {
     "languageId": "python"
    }
   },
   "outputs": [],
   "source": [
    "file_list.sort()"
   ]
  },
  {
   "cell_type": "code",
   "execution_count": 28,
   "metadata": {
    "vscode": {
     "languageId": "python"
    }
   },
   "outputs": [
    {
     "data": {
      "text/plain": [
       "['TFT_2D_ROT2.2murad_00_-20.9.png',\n",
       " 'TFT_2D_ROT2.2murad_01_-18.7.png',\n",
       " 'TFT_2D_ROT2.2murad_02_-16.5.png',\n",
       " 'TFT_2D_ROT2.2murad_03_-14.3.png',\n",
       " 'TFT_2D_ROT2.2murad_04_-12.1.png',\n",
       " 'TFT_2D_ROT2.2murad_05_-9.9.png',\n",
       " 'TFT_2D_ROT2.2murad_06_-7.7.png',\n",
       " 'TFT_2D_ROT2.2murad_07_-5.5.png',\n",
       " 'TFT_2D_ROT2.2murad_08_-3.3.png',\n",
       " 'TFT_2D_ROT2.2murad_09_-1.1.png',\n",
       " 'TFT_2D_ROT2.2murad_10_0.0.png',\n",
       " 'TFT_2D_ROT2.2murad_11_1.1.png',\n",
       " 'TFT_2D_ROT2.2murad_12_3.3.png',\n",
       " 'TFT_2D_ROT2.2murad_13_5.5.png',\n",
       " 'TFT_2D_ROT2.2murad_14_7.7.png',\n",
       " 'TFT_2D_ROT2.2murad_15_9.9.png',\n",
       " 'TFT_2D_ROT2.2murad_16_12.1.png',\n",
       " 'TFT_2D_ROT2.2murad_17_14.3.png',\n",
       " 'TFT_2D_ROT2.2murad_18_16.5.png',\n",
       " 'TFT_2D_ROT2.2murad_19_18.7.png']"
      ]
     },
     "execution_count": 28,
     "metadata": {},
     "output_type": "execute_result"
    }
   ],
   "source": [
    "file_list"
   ]
  },
  {
   "cell_type": "code",
   "execution_count": 29,
   "metadata": {
    "vscode": {
     "languageId": "python"
    }
   },
   "outputs": [],
   "source": [
    "frames = []\n",
    "path='./Outputdata/'\n",
    "\n",
    "dpi = 300\n",
    "figsize = (10, 8)\n",
    "for image_path in file_list:\n",
    "    img = Image.open(path +image_path)\n",
    "    fig = plt.figure(figsize=figsize, dpi=dpi)\n",
    "    plt.imshow(img)\n",
    "    plt.axis('off')  # Optional: turn off axes if you don't need them\n",
    "    # Add any annotations or text if necessary\n",
    "    \n",
    "    # Convert plot to image buffer\n",
    "    buf = io.BytesIO()\n",
    "    plt.savefig(buf, format='png', dpi=dpi, bbox_inches='tight', pad_inches=0)\n",
    "    buf.seek(0)\n",
    "    \n",
    "    # Append image buffer to frames\n",
    "    frames.append(Image.open(buf))\n",
    "    \n",
    "    # Clear plot for next image\n",
    "    plt.close()"
   ]
  },
  {
   "cell_type": "code",
   "execution_count": 30,
   "metadata": {
    "vscode": {
     "languageId": "python"
    }
   },
   "outputs": [],
   "source": [
    "frames[0].save(\n",
    "    \"TFT_2D_ROT2.2murad.gif\",\n",
    "    save_all=True,\n",
    "    append_images=frames[1:],\n",
    "    duration=100,\n",
    "    loop=0,\n",
    "    optimize=True,\n",
    "    quality=95  # 95 is high-quality (max is 100)\n",
    ")"
   ]
  },
  {
   "cell_type": "code",
   "execution_count": null,
   "metadata": {
    "vscode": {
     "languageId": "python"
    }
   },
   "outputs": [],
   "source": []
  },
  {
   "cell_type": "code",
   "execution_count": null,
   "metadata": {
    "vscode": {
     "languageId": "python"
    }
   },
   "outputs": [],
   "source": []
  },
  {
   "cell_type": "code",
   "execution_count": null,
   "metadata": {
    "vscode": {
     "languageId": "python"
    }
   },
   "outputs": [],
   "source": []
  },
  {
   "cell_type": "code",
   "execution_count": null,
   "metadata": {
    "vscode": {
     "languageId": "python"
    }
   },
   "outputs": [],
   "source": []
  }
 ],
 "metadata": {
  "kernelspec": {
   "display_name": "LCG view 104 + venv",
   "language": "python-custom",
   "name": "lcg-view"
  },
  "language_info": {
   "codemirror_mode": {
    "name": "ipython",
    "version": 3
   },
   "file_extension": ".py",
   "mimetype": "text/x-python",
   "name": "python-custom",
   "nbconvert_exporter": "python",
   "pygments_lexer": "ipython3",
   "version": "3.9.12"
  }
 },
 "nbformat": 4,
 "nbformat_minor": 2
}
