{
 "cells": [
  {
   "cell_type": "code",
   "execution_count": 1,
   "id": "b41b6e6e",
   "metadata": {
    "vscode": {
     "languageId": "python"
    }
   },
   "outputs": [
    {
     "name": "stdout",
     "output_type": "stream",
     "text": [
      "No pytransport functionality\n",
      "No pytransport functionality\n"
     ]
    }
   ],
   "source": [
    "import numpy as np\n",
    "import json\n",
    "import yaml\n",
    "import matplotlib\n",
    "import matplotlib.pyplot as plt\n",
    "import pandas as pd\n",
    "import seaborn as sns\n",
    "\n",
    "from matplotlib.ticker import MaxNLocator\n",
    "\n",
    "import xobjects as xo\n",
    "import xtrack as xt\n",
    "import xpart as xp\n",
    "\n",
    "import pymadx\n",
    "from xcoll_plotting import plot_functions as xcp"
   ]
  },
  {
   "cell_type": "code",
   "execution_count": 2,
   "id": "a9538b21",
   "metadata": {
    "vscode": {
     "languageId": "python"
    }
   },
   "outputs": [],
   "source": [
    "# FUNCTION TO FIND BAD APERTURES IN LINE THAT PREVENT CLOSED ORBIT SEARCH\n",
    "\n",
    "def find_axis_intercepts(x_coords, y_coords):\n",
    "    x_intercepts = []\n",
    "    y_intercepts = []\n",
    "\n",
    "    for i in range(len(x_coords)):\n",
    "        x1, y1 = x_coords[i], y_coords[i]\n",
    "        x2, y2 = x_coords[(i + 1) % len(x_coords)], y_coords[(i + 1) % len(y_coords)]\n",
    "\n",
    "        if x1 == x2:\n",
    "        # Vertical line, no y-intercept\n",
    "            y_intercept = 0.0 if x1 == x2 == 0.0 else None\n",
    "        else:\n",
    "            slope = (y2 - y1) / (x2 - x1)\n",
    "            y_intercept = y1 - (slope * x1)\n",
    "\n",
    "        if y1 == y2:\n",
    "        # Horizontal line, no x-intercept\n",
    "            x_intercept = 0.0 if y1 == y2 == 0.0 else None\n",
    "        else:\n",
    "            slope = (x2 - x1) / (y2 - y1)\n",
    "            x_intercept = x1 - (slope * y1)\n",
    "\n",
    "        # Check if the x-intercept is within the range of x1 and x2\n",
    "        if x_intercept is not None and (x1 <= x_intercept <= x2 or x2 <= x_intercept <= x1):\n",
    "            x_intercepts.append(x_intercept)\n",
    "\n",
    "        # Check if the y-intercept is within the range of y1 and y2\n",
    "        if y_intercept is not None and (y1 <= y_intercept <= y2 or y2 <= y_intercept <= y1):\n",
    "            y_intercepts.append(y_intercept)\n",
    "\n",
    "    return x_intercepts, y_intercepts\n",
    "\n",
    "\n",
    "\n",
    "def find_bad_offset_apertures(line):\n",
    "    aperture_offsets = {}\n",
    "    for name, element in line.element_dict.items():\n",
    "        if 'offset' in name and element.__class__.__name__.startswith('XYShift'):\n",
    "            aper_name = name.split('_offset')[0]\n",
    "            aperture_offsets[aper_name] = (element.dx, element.dy)\n",
    "\n",
    "    bad_apers = {}\n",
    "    for ap_name, offset in aperture_offsets.items():\n",
    "        aperture_el = line.element_dict[ap_name]\n",
    "\n",
    "        cname= aperture_el.__class__.__name__\n",
    "        ap_dict = aperture_el.to_dict()\n",
    "\n",
    "        if cname == 'LimitEllipse':\n",
    "            x_min = -ap_dict['a']\n",
    "            x_max = ap_dict['a']\n",
    "            y_min = -ap_dict['b']\n",
    "            y_max = ap_dict['b']\n",
    "        elif cname == 'LimitRect':\n",
    "            x_min = ap_dict['min_x']\n",
    "            x_max = ap_dict['max_x']\n",
    "            y_min = ap_dict['min_y']\n",
    "            y_max = ap_dict['max_y']\n",
    "        elif cname == 'LimitRectEllipse':\n",
    "            x_min = -ap_dict['max_x']\n",
    "            x_max = ap_dict['max_x']\n",
    "            y_min = -ap_dict['max_y']\n",
    "            y_max = ap_dict['max_y']\n",
    "        elif cname == 'LimitRacetrack':\n",
    "            x_min = ap_dict['min_x']\n",
    "            x_max = ap_dict['max_x']\n",
    "            y_min = ap_dict['min_y']\n",
    "            y_max = ap_dict['max_y']\n",
    "        elif cname == 'LimitPolygon':\n",
    "            x_intercepts, y_intercepts = find_axis_intercepts(ap_dict['x_vertices'],\n",
    "                                                            ap_dict['y_vertices'])\n",
    "            x_min = min(x_intercepts)\n",
    "            x_max = max(x_intercepts)\n",
    "            y_min = min(y_intercepts)\n",
    "            y_max = max(y_intercepts)\n",
    "\n",
    "        tolerance = 5e-3\n",
    "        \"\"\"if (x_max - offset[0] < tolerance \n",
    "            or -x_min + offset[0] < tolerance \n",
    "            or y_max - offset[1] < tolerance \n",
    "            or -y_min + offset[1] < tolerance):\"\"\"\n",
    "        if (offset[0] -x_max > tolerance \n",
    "            or  -offset[0] + x_min > tolerance \n",
    "            or  offset[1] - y_max > tolerance \n",
    "            or  -offset[1] + y_min > tolerance ):\n",
    "                bad_apers[ap_name] = (x_min, x_max, y_min, y_max, offset[0], offset[1])\n",
    "\n",
    "    return bad_apers\n"
   ]
  },
  {
   "cell_type": "code",
   "execution_count": 3,
   "id": "1ae5953d",
   "metadata": {
    "vscode": {
     "languageId": "python"
    }
   },
   "outputs": [],
   "source": [
    "# SPECIFIC CONVERSION FUNCTIONS \n",
    "\n",
    "def change_coordinates_to_b1(df):\n",
    "    if 's' in df.columns:\n",
    "        df['s'] = end_s - df['s']\n",
    "    else:\n",
    "        new_index = [end_s - i for i in df.index.values]\n",
    "        df.index = new_index \n",
    "    return df\n",
    "\n",
    "\n",
    "def reset_coord_cry_tracking(df, twiss):\n",
    "    df['s'] = np.where(df['s'] <=  end_s-TCCS_loc, end_s-TCCS_loc-df['s'], 2*end_s-TCCS_loc-df['s'])\n",
    "    names = twiss.to_pandas().name.to_numpy()\n",
    "    idx = np.where(names == TCCS_name)[0][0]\n",
    "    names = np.roll(names, -idx)\n",
    "    df['name'] = names\n",
    "    df = df.sort_values(by=\"s\")\n",
    "    return df\n",
    "\n",
    "\n",
    "def extract_channelled(df):\n",
    "    df = df.loc[(df['s']<end_s-TCCS_loc) & (df['s']>end_s-TCLA_loc)]\n",
    "    return df\n",
    "\n",
    "\n",
    "def filter_aperture_rotations(df, line):    \n",
    "    aperture_offsets = []\n",
    "    for name, element in line.element_dict.items():\n",
    "        if '_tilt_entry' in name and element.__class__.__name__.startswith('SRotation'):\n",
    "            aper_name = name.split('_tilt')[0]\n",
    "            aperture_offsets.append(aper_name)#[aper_name] = (element.s)\n",
    "\n",
    "    return df[~df['name'].str.contains('|'.join(aperture_offsets), case=False)]"
   ]
  },
  {
   "cell_type": "code",
   "execution_count": 4,
   "id": "89e4a135",
   "metadata": {
    "vscode": {
     "languageId": "python"
    }
   },
   "outputs": [],
   "source": [
    "# STANDARD CONVERSION FUNCTIONS\n",
    "\n",
    "def _norm_to_geom_emittance(norm_emittance, E0, E):\n",
    "    betagamma = _calc_betagamma(E0, E)\n",
    "    return norm_emittance / betagamma\n",
    "\n",
    "def _calc_betagamma(E0, E):\n",
    "    gamma = float(E)/E0\n",
    "    beta = np.sqrt(1.-(1./gamma)**2)\n",
    "    return beta*gamma\n",
    "\n",
    "def rad_to_deg(n):\n",
    "    return n*180/np.pi\n",
    "\n",
    "def convert_m_to_mm(val):\n",
    "    return val / 1e-3\n",
    "\n",
    "def convert_mm_to_m(val):\n",
    "    return val * 1e-3\n",
    "\n"
   ]
  },
  {
   "cell_type": "code",
   "execution_count": 5,
   "id": "1f9baf90",
   "metadata": {
    "vscode": {
     "languageId": "python"
    }
   },
   "outputs": [],
   "source": [
    "# LOAD COLLIMATORS FUNCTIONS\n",
    "\n",
    "def add_collimator_halfgap(coll_df, nemitt_x, nemitt_y, \n",
    "                           reference_mass, reference_energy):\n",
    "        \n",
    "    # Calculate the geometric emittances first\n",
    "    emit_geom_x = _norm_to_geom_emittance(nemitt_x, reference_mass, reference_energy)\n",
    "    emit_geom_y = _norm_to_geom_emittance(nemitt_y, reference_mass, reference_energy)\n",
    "\n",
    "    openings = []\n",
    "    sigmas_x = []\n",
    "    sigmas_y = []\n",
    "    for name, parameters in coll_df.iterrows():\n",
    "        betx = parameters[\"betx\"]\n",
    "        bety = parameters[\"bety\"]\n",
    "\n",
    "        nsigma = parameters[\"gap\"]\n",
    "        angle  = parameters[\"angle\"]\n",
    "\n",
    "        sigma_x = np.sqrt(betx * emit_geom_x)\n",
    "        sigma_y = np.sqrt(bety * emit_geom_y)\n",
    "\n",
    "        a = nsigma * sigma_x\n",
    "        b = nsigma * sigma_y\n",
    "\n",
    "        x = a * np.cos(angle)\n",
    "        y = b * np.sin(angle)\n",
    "\n",
    "        sigmas_x.append(sigma_x)\n",
    "        sigmas_y.append(sigma_y)\n",
    "        openings.append(np.sqrt(x**2 + y**2))\n",
    "\n",
    "    coll_df['sigma_x'] = sigmas_x\n",
    "    coll_df['sigma_y'] = sigmas_y\n",
    "    coll_df['opening'] = openings\n",
    "    \n",
    "\n",
    "\n",
    "def load_coll_yaml(filename, optics_df, reference_mass, reference_energy,\n",
    "                          nemitt_x = 3.5e-6, nemitt_y = 3.5e-6, beam = 2):\n",
    "    \n",
    "    # load collimators form yaml file as pandas\n",
    "    with open(filename, 'r') as file:\n",
    "           collimators = yaml.safe_load(file)   \n",
    "    coll_dict  = collimators['collimators'][f'b{beam}']\n",
    "    df = pd.DataFrame.from_dict(coll_dict, orient=\"index\")\n",
    "    df = df.rename_axis('name').reset_index()\n",
    "    coll_list = df['name'].to_list()\n",
    "    \n",
    "    # merge it with dataframe from twiss\n",
    "    df_col_twiss = optics_df[optics_df['name'].isin(coll_list)]\n",
    "    df_coll_tot = pd.merge(df, df_col_twiss, on=\"name\")\n",
    "    \n",
    "    add_collimator_halfgap(df_coll_tot, nemitt_x, nemitt_y, \n",
    "                           reference_mass, reference_energy)\n",
    "    return df_coll_tot"
   ]
  },
  {
   "cell_type": "code",
   "execution_count": 6,
   "id": "30b641ea",
   "metadata": {
    "vscode": {
     "languageId": "python"
    }
   },
   "outputs": [],
   "source": [
    "# PLOT COLLIMATORS \n",
    "\n",
    "def plot_collimators(coll_data, ax, plane, df_twiss, df_chann, plot_offplane_coll = False):\n",
    "\n",
    "    coll_data = change_coordinates_to_b1(coll_data)\n",
    "\n",
    "\n",
    "    hors = (coll_data['angle'] <  rad_to_deg(0.1)) | (coll_data['angle'] >  rad_to_deg(6.1))\n",
    "    vers = (coll_data['angle'] >  rad_to_deg(1.5)) & (coll_data['angle'] <  rad_to_deg(1.6))\n",
    "\n",
    "\n",
    "    collimators_hor = coll_data.loc[hors]\n",
    "    collimators_ver = coll_data.loc[vers]\n",
    "    collimators_ske = coll_data.loc[(~hors) & (~vers)]\n",
    "    \n",
    "\n",
    "\n",
    "    if plane == 'h':\n",
    "        in_plane_collimators = collimators_hor\n",
    "        off_plane_collimators = pd.concat([collimators_ver, collimators_ske])\n",
    "    elif plane == 'v':\n",
    "        in_plane_collimators = collimators_ver\n",
    "        off_plane_collimators = pd.concat([collimators_hor, collimators_ske])\n",
    "    else:\n",
    "        raise Exception(f'Cannot use plane \"{[plane]}\", '\n",
    "                        'allowed planes for aperture plot are h and v')\n",
    "\n",
    "    coll_lw = 1\n",
    "\n",
    "    for index, coll in in_plane_collimators.iterrows():\n",
    "        s_centre = coll[\"s\"]\n",
    "        hgap    = coll[\"opening\"]\n",
    "\n",
    "        if(coll['name'] == TCCS_name):\n",
    "            s_centre = float(df_twiss[df_twiss[\"name\"] == TCCS_name]['s'])\n",
    "            hgap = df_twiss[df_twiss['s'] == s_centre]['5_sigma_y'].iloc[0]\n",
    "        elif(coll['name'] == TCCP_name):\n",
    "            s_centre = float(df_twiss[df_twiss[\"name\"] == TCCP_name]['s'])\n",
    "            hgap = df_chann[df_chann['s'] == s_centre]['y'].iloc[0]\n",
    "        elif('rpx1.b2'in coll['name'] and coll['name'] == 'rpx1.b2'):\n",
    "            s_centre = float(df_twiss[df_twiss[\"name\"] == 'rpx1.b2']['s'])\n",
    "            hgap = df_chann[df_chann['s'] == s_centre]['y'].iloc[0] - 1.5e-3\n",
    "        elif('rpx2.b2'in coll['name'] and coll['name'] == 'rpx2.b2'):\n",
    "            s_centre = float(df_twiss[df_twiss[\"name\"] == 'rpx2.b2']['s'])\n",
    "            hgap = df_chann[df_chann['s'] == s_centre]['y'].iloc[0] - 1.5e-3 \n",
    "        elif(coll['name'] == TARGET_name):\n",
    "            continue\n",
    "\n",
    "\n",
    "        orbit = coll['x'] if plane=='h' else coll['y']\n",
    "        sstart  = s_centre - coll[\"length\"]/2\n",
    "        send    = s_centre + coll[\"length\"]/2\n",
    "        w       = send-sstart\n",
    "        top_lim = plt.ylim()[1]*2\n",
    "        bot_lim = plt.ylim()[0]*2\n",
    "        h       = top_lim - hgap\n",
    "        \n",
    "        \n",
    "        if coll['side'] == 'left':\n",
    "            color = 'r' if not pd.isna(coll['crystal']) else 'k'\n",
    "            jaw = matplotlib.patches.Rectangle((sstart, hgap), w, h, angle=0.0, \n",
    "                                        fc=color, ec=color, lw=coll_lw, zorder=10)\n",
    "            ax.add_patch(jaw)\n",
    "\n",
    "        elif coll['side'] == 'right': \n",
    "            color = 'r' if not pd.isna(coll['crystal']) else 'k'      \n",
    "            jaw = matplotlib.patches.Rectangle((sstart, bot_lim), w, h, angle=0.0, \n",
    "                                        fc=color, ec=color, lw=coll_lw,  zorder=10)\n",
    "            ax.add_patch(jaw)\n",
    "            \n",
    "        else:\n",
    "            upper_jaw = matplotlib.patches.Rectangle((sstart, hgap), w, h, angle=0.0, \n",
    "                                          fc=\"k\", ec=\"k\", lw=coll_lw, zorder=10)\n",
    "            lower_jaw = matplotlib.patches.Rectangle((sstart, bot_lim), w, h, angle=0.0, \n",
    "                                          fc=\"k\", ec=\"k\", lw=coll_lw,  zorder=10)\n",
    "            ax.add_patch(upper_jaw)\n",
    "            ax.add_patch(lower_jaw)\n",
    "\n",
    "\n",
    "    if plot_offplane_coll:\n",
    "        for index, coll in off_plane_collimators.iterrows():\n",
    "            s_centre = coll[\"s\"]\n",
    "            sstart  = s_centre - coll[\"length\"]/2\n",
    "            send    = s_centre + coll[\"length\"]/2\n",
    "            orbit = coll['x'] if plane=='h' else coll['y']\n",
    "\n",
    "            alpha = 1\n",
    "            color = 'slategray'\n",
    "            edcgecolor = 'slategray'\n",
    "\n",
    "            coll_angle = coll['angle']\n",
    "            coll_opening = coll['opening']\n",
    "            if plane == 'h':\n",
    "                hgap = (coll_opening / np.abs(np.cos(coll_angle)) \n",
    "                        if not np.isclose(np.cos(coll_angle), 0) else np.inf)\n",
    "            elif plane == 'v':\n",
    "                hgap = (coll_opening/ np.abs(np.sin(coll_angle)) \n",
    "                        if not np.isclose(np.sin(coll_angle), 0) else np.inf)\n",
    "\n",
    "            if np.isnan(hgap) or hgap > 0.900:\n",
    "                hgap = 0 # Closed bars for non-cut collimators\n",
    "                alpha = 1\n",
    "                color = 'lightgray'\n",
    "                edcgecolor = 'lightgray'\n",
    "\n",
    "            w       = send-sstart\n",
    "            top_lim = plt.ylim()[1]*2\n",
    "            bot_lim = plt.ylim()[0]*2\n",
    "            h       = top_lim - hgap\n",
    "            upper_jaw = matplotlib.patches.Rectangle((sstart, hgap), w, h, angle=0.0, \n",
    "                                            fc=color, ec=edcgecolor, alpha=alpha, \n",
    "                                            lw=coll_lw, zorder=0)\n",
    "            \n",
    "            lower_jaw = matplotlib.patches.Rectangle((sstart, bot_lim), w, h, angle=0.0,\n",
    "                                            fc=color, ec=edcgecolor, alpha=alpha, \n",
    "                                            lw=coll_lw, zorder=0)\n",
    "\n",
    "            ax.add_patch(upper_jaw)\n",
    "            ax.add_patch(lower_jaw)"
   ]
  },
  {
   "cell_type": "code",
   "execution_count": 24,
   "id": "b2685127",
   "metadata": {
    "vscode": {
     "languageId": "python"
    }
   },
   "outputs": [],
   "source": [
    "# PLOT \n",
    "\n",
    "def plot_IR3(plot_axis, df_ref, df_chann, df_chann_upper, df_chann_lower, df_apertures, df_coll=None, s_start=6300, s_stop=7100, fontsize = 17, fontsize_ticks = 15):\n",
    "    \n",
    "    plot_axis.plot(df_ref[\"s\"],df_ref[\"y\"],color=\"orange\")\n",
    "\n",
    "\n",
    "    plot_axis.plot(df_ref[\"s\"],df_ref[\"5_sigma_y\"], color='C1')\n",
    "    plot_axis.plot(df_ref[\"s\"],-df_ref[\"5_sigma_y\"], color='C1')\n",
    "    plot_axis.fill_between(df_ref[\"s\"], df_ref[\"5_sigma_y\"], -df_ref[\"5_sigma_y\"], color='C1', alpha=0.3)\n",
    "\n",
    "\n",
    "    plot_axis.plot(df_chann[\"s\"],df_chann[\"y\"], color='darkblue')\n",
    "    plot_axis.plot(df_chann_upper[\"s\"],df_chann_upper[\"y\"], color='blue')\n",
    "    plot_axis.plot(df_chann_lower[\"s\"],df_chann_lower[\"y\"], color='blue')\n",
    "    plot_axis.fill_between(df_chann[\"s\"], df_chann_upper[\"y\"],df_chann_lower[\"y\"], color='blue', alpha=0.3)\n",
    "\n",
    "\n",
    "    plot_axis.set_xlabel('s [m]',  fontsize=fontsize)\n",
    "    plot_axis.set_xlim(s_start, s_stop)\n",
    "    plot_axis.set_ylim(-0.03, 0.03)\n",
    "    plot_axis.set_ylabel('y [m]',  fontsize=fontsize)\n",
    "    plot_axis.grid(linestyle=':')\n",
    "    plot_axis.tick_params(axis='both', which='major', labelsize=fontsize_ticks)\n",
    "\n",
    "    \n",
    "    #plot_axis.text(end_s - TCCS_loc, max(plot_axis.get_yticks())+0.0008, \"TCCS\", horizontalalignment='center', fontsize=17)\n",
    "    #plot_axis.text(end_s - TCCP_loc, max(plot_axis.get_yticks())+0.0008, \"TCCP\", horizontalalignment='center', fontsize=17)\n",
    "    #plot_axis.text(end_s - TCLA_loc, max(plot_axis.get_yticks())+0.0008, \"TCLA\", horizontalalignment='center', fontsize=17)\n",
    "\n",
    "    # convert, xcp function handles dataframe in m\n",
    "    xcp.plot_apertures(df_apertures[['xmin', 'xmax', 'ymin', 'ymax']].apply(lambda x: convert_mm_to_m(x)), plot_axis, \"v\")\n",
    "    \n",
    "    if df_coll is not None:\n",
    "        plot_collimators(df_coll, plot_axis, \"v\", df_ref, df_chann_lower, plot_offplane_coll = False)"
   ]
  },
  {
   "cell_type": "markdown",
   "id": "de00d0a3",
   "metadata": {},
   "source": [
    "# Load and Set-up"
   ]
  },
  {
   "cell_type": "code",
   "execution_count": 8,
   "id": "4865a7ba",
   "metadata": {
    "vscode": {
     "languageId": "python"
    }
   },
   "outputs": [],
   "source": [
    "## Choose a context\n",
    "context = xo.ContextCpu()         # For CPU"
   ]
  },
  {
   "cell_type": "code",
   "execution_count": 9,
   "id": "57e88f54",
   "metadata": {
    "vscode": {
     "languageId": "python"
    }
   },
   "outputs": [
    {
     "data": {
      "application/vnd.jupyter.widget-view+json": {
       "model_id": "6dcb4ba0e9034c03b65f380aa213bd42",
       "version_major": 2,
       "version_minor": 0
      },
      "text/plain": [
       "Loading line from dict:   0%|          | 0/175718 [00:00<?, ?it/s]"
      ]
     },
     "metadata": {},
     "output_type": "display_data"
    },
    {
     "name": "stdout",
     "output_type": "stream",
     "text": [
      "Done loading line from dict.           \n"
     ]
    },
    {
     "data": {
      "application/vnd.jupyter.widget-view+json": {
       "model_id": "52e495ec1706483593d8ba3696cc5214",
       "version_major": 2,
       "version_minor": 0
      },
      "text/plain": [
       "Slicing line:   0%|          | 0/175718 [00:00<?, ?it/s]"
      ]
     },
     "metadata": {},
     "output_type": "display_data"
    },
    {
     "data": {
      "application/vnd.jupyter.widget-view+json": {
       "model_id": "424dd0752fe040d59142a4db8f3e9efc",
       "version_major": 2,
       "version_minor": 0
      },
      "text/plain": [
       "Slicing line:   0%|          | 0/175721 [00:00<?, ?it/s]"
      ]
     },
     "metadata": {},
     "output_type": "display_data"
    },
    {
     "data": {
      "application/vnd.jupyter.widget-view+json": {
       "model_id": "0fbb5d5aa98648b4b1273b9f39f7021a",
       "version_major": 2,
       "version_minor": 0
      },
      "text/plain": [
       "Slicing line:   0%|          | 0/175724 [00:00<?, ?it/s]"
      ]
     },
     "metadata": {},
     "output_type": "display_data"
    },
    {
     "data": {
      "application/vnd.jupyter.widget-view+json": {
       "model_id": "46154cf32c4440819a51d56a3dc2cc16",
       "version_major": 2,
       "version_minor": 0
      },
      "text/plain": [
       "Slicing line:   0%|          | 0/175727 [00:00<?, ?it/s]"
      ]
     },
     "metadata": {},
     "output_type": "display_data"
    },
    {
     "data": {
      "application/vnd.jupyter.widget-view+json": {
       "model_id": "58764687212c4c34bcee3df53b11043f",
       "version_major": 2,
       "version_minor": 0
      },
      "text/plain": [
       "Slicing line:   0%|          | 0/175730 [00:00<?, ?it/s]"
      ]
     },
     "metadata": {},
     "output_type": "display_data"
    }
   ],
   "source": [
    "line = xt.Line.from_json('./input_files/2023_Run3_flat_top/ramp.9_b2.json')\n",
    "#line = xt.Line.from_json('./input_files/2024_Run3_injection/injection_b2.json')\n",
    "\n",
    "end_s = line.get_length()\n",
    "\n",
    "normalized_emittance = 3.5e-6\n",
    "c_const = 299792458\n",
    "\n",
    "TCCS_name = 'tccs.5r3.b2'\n",
    "TCCP_name = 'tccp.4l3.b2'\n",
    "TARGET_name = 'target.4l3.b2'\n",
    "TCLA_name = 'tcla.a5l3.b2'\n",
    "\n",
    "\n",
    "TCCS_loc = end_s - 6773.8785 #6775\n",
    "TCCP_loc = end_s - 6653.2545 #6655\n",
    "TARGET_loc = end_s - (6653.3 + 0.07/2 +0.005/2)\n",
    "TCLA_loc = line.get_s_position(TCLA_name)\n",
    "\n",
    "line.insert_element(at_s=TCCS_loc, element=xt.Marker(), name = TCCS_name)\n",
    "line.insert_element(at_s=TCCS_loc, element=xt.LimitEllipse(a_squ=0.0016, b_squ=0.0016, a_b_squ=2.56e-06), name = TCCS_name + '_aper')\n",
    "line.insert_element(at_s=TCCP_loc, element=xt.Marker(), name=TCCP_name)\n",
    "line.insert_element(at_s=TCCP_loc, element=xt.LimitEllipse(a_squ=0.0016, b_squ=0.0016, a_b_squ=2.56e-06), name = TCCP_name + '_aper')\n",
    "line.insert_element(at_s=TARGET_loc, element=xt.Marker(), name=TARGET_name)\n",
    "line.insert_element(at_s=TARGET_loc, element=xt.LimitEllipse(a_squ=0.0016, b_squ=0.0016, a_b_squ=2.56e-06), name = TARGET_name + '_aper')\n",
    "\n",
    "\n",
    "rpx = True\n",
    "if rpx:\n",
    "    RPX1_name = 'rpx1.b2'\n",
    "    RPX2_name = 'rpx2.b2'\n",
    "    line.insert_element(at_s=(end_s - 6653.3 +0.60), element=xt.Marker(), name=RPX1_name)\n",
    "    line.insert_element(at_s=(end_s - 6653.3 +0.60), element=xt.LimitEllipse(a_squ=0.0016, b_squ=0.0016, a_b_squ=2.56e-06), name = RPX1_name + '_aper')\n",
    "    line.insert_element(at_s=(end_s - 6653.3 + 2*0.60), element=xt.Marker(), name=RPX2_name)\n",
    "    line.insert_element(at_s=(end_s - 6653.3 + 2*0.60), element=xt.LimitEllipse(a_squ=0.0016, b_squ=0.0016, a_b_squ=2.56e-06), name = RPX2_name + '_aper')\n"
   ]
  },
  {
   "cell_type": "code",
   "execution_count": 10,
   "id": "40ed65ee",
   "metadata": {
    "vscode": {
     "languageId": "python"
    }
   },
   "outputs": [
    {
     "name": "stdout",
     "output_type": "stream",
     "text": [
      "Bad apertures :  {}\n",
      "Replace bad apertures with Marker\n"
     ]
    }
   ],
   "source": [
    "bad_aper = find_bad_offset_apertures(line)\n",
    "print('Bad apertures : ', bad_aper)\n",
    "print('Replace bad apertures with Marker')\n",
    "for name in bad_aper.keys():\n",
    "    line.element_dict[name] = xt.Marker()\n",
    "    print(name, line.get_s_position(name), line.element_dict[name])\n"
   ]
  },
  {
   "cell_type": "code",
   "execution_count": 11,
   "id": "ad44c9fe",
   "metadata": {
    "vscode": {
     "languageId": "python"
    }
   },
   "outputs": [
    {
     "data": {
      "application/vnd.jupyter.widget-view+json": {
       "model_id": "d45b895889bc49aea013b667b7458c1b",
       "version_major": 2,
       "version_minor": 0
      },
      "text/plain": [
       "Loading line from dict:   0%|          | 0/105797 [00:00<?, ?it/s]"
      ]
     },
     "metadata": {},
     "output_type": "display_data"
    },
    {
     "name": "stdout",
     "output_type": "stream",
     "text": [
      "Done loading line from dict.           \n",
      "pymadx.Tfs.Load> normal file\n"
     ]
    }
   ],
   "source": [
    "line_aper =  xt.Line.from_json(\"./input_files/2023_Run3_flat_top/flat_top_b2.json\")\n",
    "df_apertures = xcp.load_apertures(line_aper)\n",
    "df_apertures = change_coordinates_to_b1(df_apertures)\n",
    "\n",
    "layout_file = \"./input_files/2023_Run3_flat_top/layout_flat_top_b2.tfs\"  \n",
    "layout_data_object = pymadx.Data.Tfs(layout_file)\n",
    "\n",
    "coll_file = \"./input_files/colldbs/ramp.9.rpx.yaml\"\n",
    "#coll_file = './input_files/colldbs/injection.yaml'"
   ]
  },
  {
   "cell_type": "markdown",
   "id": "2d255873",
   "metadata": {},
   "source": [
    "# Simulation"
   ]
  },
  {
   "cell_type": "code",
   "execution_count": 12,
   "id": "fabe0137",
   "metadata": {
    "vscode": {
     "languageId": "python"
    }
   },
   "outputs": [
    {
     "data": {
      "text/plain": [
       "<xtrack.tracker.Tracker at 0x7f1064f2fa90>"
      ]
     },
     "execution_count": 12,
     "metadata": {},
     "output_type": "execute_result"
    }
   ],
   "source": [
    "line.build_tracker(_context=context)"
   ]
  },
  {
   "cell_type": "code",
   "execution_count": 13,
   "id": "f62767fe",
   "metadata": {
    "vscode": {
     "languageId": "python"
    }
   },
   "outputs": [],
   "source": [
    "beta_rel = line.particle_ref._xobject.beta0[0]\n",
    "gamma = line.particle_ref._xobject.gamma0[0]\n",
    "energy = line.particle_ref._xobject.p0c[0]\n",
    "\n",
    "emittance_phy = normalized_emittance/(beta_rel*gamma)\n",
    "\n",
    "xp_crit0 = np.sqrt(2*21.34/(energy*beta_rel))\n",
    "Rcrit = (energy*beta_rel)/(5.7e9 / 1e-2)\n",
    "critical_angle_TCCP = xp_crit0*(1-Rcrit/10)\n"
   ]
  },
  {
   "cell_type": "code",
   "execution_count": 14,
   "id": "d28924f8",
   "metadata": {
    "vscode": {
     "languageId": "python"
    }
   },
   "outputs": [],
   "source": [
    "twiss = line.twiss()\n",
    "\n",
    "\n",
    "beta_y_cry1  = twiss['bety', TCCS_name]\n",
    "alpha_y_cry1 = twiss['alfy', TCCS_name]"
   ]
  },
  {
   "cell_type": "code",
   "execution_count": 15,
   "id": "0788a275",
   "metadata": {
    "vscode": {
     "languageId": "python"
    }
   },
   "outputs": [],
   "source": [
    "df_coll = load_coll_yaml(coll_file, twiss.to_pandas(), xp.PROTON_MASS_EV, line.particle_ref.energy0)"
   ]
  },
  {
   "cell_type": "code",
   "execution_count": 16,
   "id": "52997d4f",
   "metadata": {
    "vscode": {
     "languageId": "python"
    }
   },
   "outputs": [],
   "source": [
    "cry_part_opt = xp.Particles(p0c=energy, #eV\n",
    "                        q0=1, mass0=xp.PROTON_MASS_EV,\n",
    "                        x=0,\n",
    "                        px=0,\n",
    "                        y=5*np.sqrt(emittance_phy*beta_y_cry1),\n",
    "                        py=-5*alpha_y_cry1*np.sqrt(emittance_phy/beta_y_cry1),\n",
    "                        _context=context)\n",
    "\n",
    "cry_part_chann = xp.Particles(p0c=energy, #eV\n",
    "                        q0=1, mass0=xp.PROTON_MASS_EV,\n",
    "                        x=0,\n",
    "                        px=0,\n",
    "                        y=5*np.sqrt(emittance_phy*beta_y_cry1),\n",
    "                        py=-5*alpha_y_cry1*np.sqrt(emittance_phy/beta_y_cry1)+50e-6,\n",
    "                        _context=context)\n",
    "\n",
    "\n",
    "cry_part_chann_upper = xp.Particles(p0c=energy, #eV\n",
    "                        q0=1, mass0=xp.PROTON_MASS_EV,\n",
    "                        x=0,\n",
    "                        px=0,\n",
    "                        y=5*np.sqrt(emittance_phy*beta_y_cry1),\n",
    "                        py=-5*alpha_y_cry1*np.sqrt(emittance_phy/beta_y_cry1)+50e-6+critical_angle_TCCP,\n",
    "                        _context=context)\n",
    "\n",
    "\n",
    "cry_part_chann_lower = xp.Particles(p0c=energy, #eV\n",
    "                        q0=1, mass0=xp.PROTON_MASS_EV,\n",
    "                        x=0,\n",
    "                        px=0,\n",
    "                        y=5*np.sqrt(emittance_phy*beta_y_cry1),\n",
    "                        py=-5*alpha_y_cry1*np.sqrt(emittance_phy/beta_y_cry1)+50e-6-critical_angle_TCCP,\n",
    "                        _context=context)"
   ]
  },
  {
   "cell_type": "code",
   "execution_count": 17,
   "id": "5cbebe46",
   "metadata": {
    "vscode": {
     "languageId": "python"
    }
   },
   "outputs": [],
   "source": [
    "df_ref = change_coordinates_to_b1(twiss.to_pandas())\n",
    "df_ref = filter_aperture_rotations(df_ref, line)\n",
    "df_ref['5_sigma_y'] = 5*np.sqrt(emittance_phy*df_ref['bety'])\n",
    "\n",
    "line.track(cry_part_chann, turn_by_turn_monitor = 'ONE_TURN_EBE', ele_start=TCCS_name)\n",
    "df_chann_part = reset_coord_cry_tracking(pd.DataFrame(list(zip(line.record_last_track.s[0], -1*line.record_last_track.x[0], line.record_last_track.y[0], line.record_last_track.py[0])), columns =['s', 'x', 'y', 'py']), twiss)\n",
    "df_chann_part = filter_aperture_rotations(df_chann_part, line)\n",
    "df_chann_part = extract_channelled(df_chann_part)\n",
    "\n",
    "\n",
    "line.track(cry_part_chann_upper, turn_by_turn_monitor = 'ONE_TURN_EBE', ele_start=TCCS_name)\n",
    "df_chann_part_upper = reset_coord_cry_tracking(pd.DataFrame(list(zip(line.record_last_track.s[0], -1*line.record_last_track.x[0], line.record_last_track.y[0])), columns =['s', 'x', 'y']), twiss)\n",
    "df_chann_part_upper = filter_aperture_rotations(df_chann_part_upper, line)\n",
    "df_chann_part_upper = extract_channelled(df_chann_part_upper)\n",
    "\n",
    "line.track(cry_part_chann_lower, turn_by_turn_monitor = 'ONE_TURN_EBE', ele_start=TCCS_name)\n",
    "df_chann_part_lower = reset_coord_cry_tracking(pd.DataFrame(list(zip(line.record_last_track.s[0], -1*line.record_last_track.x[0], line.record_last_track.y[0])), columns =['s', 'x', 'y']), twiss)\n",
    "df_chann_part_lower = filter_aperture_rotations(df_chann_part_lower, line)\n",
    "df_chann_part_lower = extract_channelled(df_chann_part_lower)"
   ]
  },
  {
   "cell_type": "code",
   "execution_count": 18,
   "id": "89bd5808",
   "metadata": {
    "vscode": {
     "languageId": "python"
    }
   },
   "outputs": [
    {
     "name": "stdout",
     "output_type": "stream",
     "text": [
      "tccp.4l3.b2\n"
     ]
    }
   ],
   "source": [
    "if rpx:\n",
    "\n",
    "    beta_y_cry2  = twiss['bety', TCCP_name]\n",
    "    alpha_y_cry2 = twiss['alfy', TCCP_name]\n",
    "    TCCP_chann = xp.Particles(p0c=energy, #eV\n",
    "                        q0=1, mass0=xp.PROTON_MASS_EV,\n",
    "                        x=0,\n",
    "                        px=0,\n",
    "                        y=float(df_chann_part[df_chann_part['name'] == TCCP_name]['y']),\n",
    "                        py=float(df_chann_part[df_chann_part['name'] == TCCP_name]['py']) + 7000e-6,\n",
    "                        _context=context)\n",
    "    print(TCCP_name)\n",
    "    line.track(TCCP_chann, turn_by_turn_monitor = 'ONE_TURN_EBE', ele_start=TCCP_loc)\n",
    "\n",
    "\n",
    "    def reset_coord_cry_tracking_TCCP(df, twiss):\n",
    "        df['s'] = np.where(df['s'] <=  end_s-TCCP_loc, end_s-TCCP_loc-df['s'], 2*end_s-TCCP_loc-df['s'])\n",
    "        names = twiss.to_pandas().name.to_numpy()\n",
    "        idx = np.where(names == TCCP_name)[0][0]\n",
    "        names = np.roll(names, -idx)\n",
    "        df['name'] = names\n",
    "        df = df.sort_values(by=\"s\")\n",
    "        return df\n",
    "\n",
    "    df_TCCP_chann = reset_coord_cry_tracking_TCCP(pd.DataFrame(list(zip(line.record_last_track.s[0], -1*line.record_last_track.x[0], line.record_last_track.y[0])), columns =['s', 'x', 'y']), twiss)\n",
    "    df_TCCP_chann = filter_aperture_rotations(df_TCCP_chann, line)"
   ]
  },
  {
   "cell_type": "code",
   "execution_count": 28,
   "id": "fd77c971",
   "metadata": {
    "vscode": {
     "languageId": "python"
    }
   },
   "outputs": [
    {
     "data": {
      "image/png": "[encoded data removed]",
      "text/plain": [
       "<Figure size 1224x432 with 2 Axes>"
      ]
     },
     "metadata": {
      "needs_background": "light"
     },
     "output_type": "display_data"
    }
   ],
   "source": [
    "start, stop =  6550  , 6850\n",
    "fig, ir3_plot = plt.subplots(2, 1, gridspec_kw={'height_ratios': [0.1, 1]}, sharex=True, figsize=(17,6), tight_layout=False)\n",
    "pymadx.Plot._SetMachineAxesStyle(ir3_plot[0])\n",
    "pymadx.Plot._DrawMachineLattice(ir3_plot[0], layout_data_object)\n",
    "ir3_plot[0].set_xlim(start,stop)\n",
    "#ir3_plot[0].set_title(label='Energy = 1 TeV', y=1.05, fontsize=18)\n",
    "plot_IR3(ir3_plot[1], df_ref, df_chann_part, df_chann_part_upper, df_chann_part_lower, df_apertures, df_coll, s_start=start, s_stop=stop, fontsize = 20 , fontsize_ticks = 19)\n"
   ]
  },
  {
   "cell_type": "code",
   "execution_count": 29,
   "id": "fabff800",
   "metadata": {
    "vscode": {
     "languageId": "python"
    }
   },
   "outputs": [],
   "source": [
    "fig.savefig('./Plots/IR3_large_new.png', dpi=400)"
   ]
  },
  {
   "cell_type": "code",
   "execution_count": null,
   "id": "ea574bee",
   "metadata": {
    "vscode": {
     "languageId": "python"
    }
   },
   "outputs": [],
   "source": []
  },
  {
   "cell_type": "code",
   "execution_count": null,
   "id": "005f9d6b",
   "metadata": {
    "vscode": {
     "languageId": "python"
    }
   },
   "outputs": [],
   "source": []
  },
  {
   "cell_type": "code",
   "execution_count": null,
   "id": "8b1aefe2",
   "metadata": {
    "vscode": {
     "languageId": "python"
    }
   },
   "outputs": [],
   "source": []
  },
  {
   "cell_type": "code",
   "execution_count": 36,
   "id": "0d5fbde2",
   "metadata": {
    "vscode": {
     "languageId": "python"
    }
   },
   "outputs": [],
   "source": [
    "# PLOT \n",
    "\n",
    "def plot_IR3_ZOOM(plot_axis, df_ref, df_chann, df_chann_upper, df_chann_lower, df_apertures, df_coll=None, s_start=6650, s_stop= 6850, df_TCCP= None, fontsize = 17, fontsize_ticks = 15):\n",
    "    \n",
    "    plot_axis.plot(df_ref[\"s\"],df_ref[\"y\"],color=\"orange\")\n",
    "\n",
    "\n",
    "    plot_axis.plot(df_ref[\"s\"],df_ref[\"5_sigma_y\"], color='C1')\n",
    "    plot_axis.plot(df_ref[\"s\"],-df_ref[\"5_sigma_y\"], color='C1')\n",
    "    plot_axis.fill_between(df_ref[\"s\"], df_ref[\"5_sigma_y\"], -df_ref[\"5_sigma_y\"], color='C1', alpha=0.3)\n",
    "\n",
    "\n",
    "    plot_axis.plot(df_chann[\"s\"],df_chann[\"y\"], color='darkblue')\n",
    "    plot_axis.plot(df_chann_upper[\"s\"],df_chann_upper[\"y\"], color='blue')\n",
    "    plot_axis.plot(df_chann_lower[\"s\"],df_chann_lower[\"y\"], color='blue')\n",
    "    plot_axis.fill_between(df_chann[\"s\"], df_chann_upper[\"y\"],df_chann_lower[\"y\"], color='blue', alpha=0.3)\n",
    "\n",
    "\n",
    "    plot_axis.set_xlabel('s [m]',  fontsize=fontsize)\n",
    "    plot_axis.set_xlim(s_start, s_stop)\n",
    "    plot_axis.set_ylim(-0.03, 0.03)\n",
    "    plot_axis.set_ylabel('y [m]',  fontsize=fontsize)\n",
    "    plot_axis.grid(linestyle=':')\n",
    "    plot_axis.tick_params(axis='both', which='major', labelsize=fontsize_ticks)\n",
    "\n",
    "\n",
    "    if df_TCCP is not None:\n",
    "        plot_axis.plot(df_TCCP[\"s\"],df_TCCP[\"y\"], color='darkblue')\n",
    "    \n",
    "    \n",
    "    plot_axis.tick_params(axis='both', which='major', labelsize=15)\n",
    "    \n",
    "    #plot_axis.text(end_s - TCCS_loc, max(plot_axis.get_yticks())+0.0008, \"TCCS\", horizontalalignment='center', fontsize=17)\n",
    "    #plot_axis.text(end_s - TCCP_loc, max(plot_axis.get_yticks())+0.0008, \"TCCP\", horizontalalignment='center', fontsize=17)\n",
    "\n",
    "    # convert, xcp function handles dataframe in m\n",
    "    xcp.plot_apertures(df_apertures[['xmin', 'xmax', 'ymin', 'ymax']].apply(lambda x: convert_mm_to_m(x)), plot_axis, \"v\")\n",
    "    \n",
    "    if df_coll is not None:\n",
    "        plot_collimators(df_coll, plot_axis, \"v\", df_ref, df_chann_lower, plot_offplane_coll = False)"
   ]
  },
  {
   "cell_type": "code",
   "execution_count": 33,
   "id": "f8125519",
   "metadata": {
    "vscode": {
     "languageId": "python"
    }
   },
   "outputs": [],
   "source": [
    "if rpx:\n",
    "    df_TCCP_chann=df_TCCP_chann[df_TCCP_chann['y']>1e-3]"
   ]
  },
  {
   "cell_type": "code",
   "execution_count": 40,
   "id": "1368369d",
   "metadata": {
    "vscode": {
     "languageId": "python"
    }
   },
   "outputs": [
    {
     "data": {
      "image/png": "[encoded data removed]",
      "text/plain": [
       "<Figure size 1224x432 with 2 Axes>"
      ]
     },
     "metadata": {
      "needs_background": "light"
     },
     "output_type": "display_data"
    }
   ],
   "source": [
    "#start, stop =  6640 , 6660\n",
    "fig, ir3_plot = plt.subplots(2, 1, gridspec_kw={'height_ratios': [0.12, 1]}, sharex=True, figsize=(17,6))\n",
    "pymadx.Plot._SetMachineAxesStyle(ir3_plot[0])\n",
    "pymadx.Plot._DrawMachineLattice(ir3_plot[0], layout_data_object)\n",
    "plt.subplots_adjust(wspace=2, hspace=0.04)\n",
    "ir3_plot[0].set_xlim(start,stop)\n",
    "# ir3_plot[0].set_title(label='Energy = 1 TeV', y=1.05, fontsize=18)\n",
    "plot_IR3_ZOOM(ir3_plot[1], df_ref, df_chann_part, df_chann_part_upper, df_chann_part_lower, df_apertures, df_coll, 6550, 6850, df_TCCP_chann,20,19 )"
   ]
  },
  {
   "cell_type": "code",
   "execution_count": 41,
   "id": "6150134d",
   "metadata": {
    "vscode": {
     "languageId": "python"
    }
   },
   "outputs": [],
   "source": [
    "fig.savefig('./Plots/IR3_large_new_dc.png', dpi=400, bbox_inches='tight')"
   ]
  },
  {
   "cell_type": "code",
   "execution_count": 116,
   "id": "d14e5f21",
   "metadata": {
    "vscode": {
     "languageId": "python"
    }
   },
   "outputs": [
    {
     "data": {
      "image/png": "[encoded data removed]",
      "text/plain": [
       "<Figure size 720x504 with 2 Axes>"
      ]
     },
     "metadata": {
      "needs_background": "light"
     },
     "output_type": "display_data"
    }
   ],
   "source": [
    "start, stop =  6640 , 6660\n",
    "fig, ir3_plot = plt.subplots(2, 1, gridspec_kw={'height_ratios': [0.12, 1]}, sharex=True, figsize=(10,7))\n",
    "plt.subplots_adjust(wspace=2, hspace=0.04)\n",
    "pymadx.Plot._SetMachineAxesStyle(ir3_plot[0])\n",
    "pymadx.Plot._DrawMachineLattice(ir3_plot[0], layout_data_object)\n",
    "ir3_plot[0].set_xlim(start,stop)\n",
    "# ir3_plot[0].set_title(label='Energy = 1 TeV', y=1.05, fontsize=18)\n",
    "plot_IR3_ZOOM(ir3_plot[1], df_ref, df_chann_part, df_chann_part_upper, df_chann_part_lower, df_apertures, df_coll, start, stop, df_TCCP_chann) "
   ]
  },
  {
   "cell_type": "code",
   "execution_count": 117,
   "id": "8a5cb81f",
   "metadata": {
    "vscode": {
     "languageId": "python"
    }
   },
   "outputs": [],
   "source": [
    "#fig.savefig('./Plots/IR3_very_zoomed.png', dpi=400, bbox_inches='tight')"
   ]
  },
  {
   "cell_type": "code",
   "execution_count": null,
   "id": "045e82ed",
   "metadata": {
    "vscode": {
     "languageId": "python"
    }
   },
   "outputs": [],
   "source": []
  },
  {
   "cell_type": "code",
   "execution_count": 60,
   "id": "d4897784",
   "metadata": {
    "vscode": {
     "languageId": "python"
    }
   },
   "outputs": [],
   "source": [
    "def calc_nsigma_TCCP(df_twiss, df_chann, emittance_phy):\n",
    "\n",
    "    s_centre = float(df_twiss[df_twiss[\"name\"] == TCCP_name]['s'])\n",
    "    hgap =  df_chann[df_chann['s'] == s_centre]['y'].iloc[0]  - df_twiss[df_twiss['s'] == s_centre]['y'].iloc[0]\n",
    "    beta_y = float(df_twiss[df_twiss[\"name\"] == TCCP_name]['bety'])\n",
    "    sigma =  np.sqrt(emittance_phy*beta_y)\n",
    "\n",
    "    #five_sig_gap  = df_twiss[df_twiss['s'] == s_centre]['5_sigma_y'].iloc[0] - df_twiss[df_twiss['s'] == s_centre]['y'].iloc[0]\n",
    "    #print('check: ', five_sig_gap/sigma)\n",
    "    \n",
    "    return hgap/sigma"
   ]
  },
  {
   "cell_type": "code",
   "execution_count": 61,
   "id": "f5f9da27",
   "metadata": {
    "vscode": {
     "languageId": "python"
    }
   },
   "outputs": [
    {
     "name": "stdout",
     "output_type": "stream",
     "text": [
      "Sigma CRY2 at 6.8 TeV =  30.047083877560752\n"
     ]
    }
   ],
   "source": [
    "print('Sigma CRY2 at 6.8 TeV = ',  calc_nsigma_TCCP(df_ref, df_chann_part, emittance_phy))"
   ]
  },
  {
   "cell_type": "code",
   "execution_count": 45,
   "id": "a21e0bf6",
   "metadata": {
    "vscode": {
     "languageId": "python"
    }
   },
   "outputs": [
    {
     "data": {
      "text/plain": [
       "\"stop = line.element_names.index(TCLA_name)\\nstart = line.element_names.index(TCCS_name)\\n\\nfor i in range(start, stop):\\n    if line[i].__class__.__name__.startswith('SRotation'):   #line.element_names[i].endswith('b2') and  'offset' in line.element_names[i] and\\n        print(line.element_names[i], '\\t\\t', end_s-line.get_s_elements()[i], '\\t\\t', line[i])\""
      ]
     },
     "execution_count": 45,
     "metadata": {},
     "output_type": "execute_result"
    }
   ],
   "source": [
    "\"\"\"stop = line.element_names.index(TCLA_name)\n",
    "start = line.element_names.index(TCCS_name)\n",
    "\n",
    "for i in range(start, stop):\n",
    "    if line[i].__class__.__name__.startswith('SRotation'):   #line.element_names[i].endswith('b2') and  'offset' in line.element_names[i] and\n",
    "        print(line.element_names[i], '\\t\\t', end_s-line.get_s_elements()[i], '\\t\\t', line[i])\"\"\""
   ]
  },
  {
   "cell_type": "code",
   "execution_count": null,
   "id": "84343b3b",
   "metadata": {
    "vscode": {
     "languageId": "python"
    }
   },
   "outputs": [],
   "source": []
  }
 ],
 "metadata": {
  "@webio": {
   "lastCommId": null,
   "lastKernelId": null
  },
  "kernelspec": {
   "display_name": "LCG view 104 + venv",
   "language": "python-custom",
   "name": "lcg-view"
  },
  "language_info": {
   "codemirror_mode": {
    "name": "ipython",
    "version": 3
   },
   "file_extension": ".py",
   "mimetype": "text/x-python",
   "name": "python-custom",
   "nbconvert_exporter": "python",
   "pygments_lexer": "ipython3",
   "version": "3.9.12"
  }
 },
 "nbformat": 4,
 "nbformat_minor": 5
}
